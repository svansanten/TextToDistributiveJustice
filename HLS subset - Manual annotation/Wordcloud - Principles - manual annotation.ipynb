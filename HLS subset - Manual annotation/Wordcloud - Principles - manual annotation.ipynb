{
 "cells": [
  {
   "cell_type": "markdown",
   "source": [
    "Creation of manual annotation and LLM annotation CSV files for evaluation based on wordcloud\n",
    "\n",
    "Split and save into separate files"
   ],
   "metadata": {
    "collapsed": false
   }
  },
  {
   "cell_type": "code",
   "execution_count": 2,
   "outputs": [],
   "source": [
    "import numpy as np\n",
    "import pandas as pd"
   ],
   "metadata": {
    "collapsed": false,
    "ExecuteTime": {
     "start_time": "2024-06-18T16:47:28.356991Z",
     "end_time": "2024-06-18T16:47:28.370391Z"
    }
   }
  },
  {
   "cell_type": "code",
   "execution_count": 10,
   "outputs": [
    {
     "data": {
      "text/plain": "      Unnamed: 0             id  \\\n0              0    COP19_japan   \n1              1    COP19_japan   \n2              2    COP19_japan   \n3              3    COP19_japan   \n4              4    COP19_japan   \n...          ...            ...   \n1538        1397  COP28_belgium   \n1539        1398  COP28_belgium   \n1540        1399  COP28_belgium   \n1541        1400  COP28_belgium   \n1542        1401  COP28_belgium   \n\n                                                   Text  Relevance  Principle  \\\n0                            Thank you, Mr. President .          0          0   \n1      On beha lf of the government of Japan , I wou...          0          0   \n2      I would also like to expr ess my d eepest con...          0          0   \n3      Mr. President:  A fair and effective framewor...          2          3   \n4      In this regard, Japan firmly supports the est...          1          0   \n...                                                 ...        ...        ...   \n1538   The most important result of COP28 that I wou...          1          0   \n1539   Trust that “WE” , governments together with o...          1          0   \n1540                                                             0          0   \n1541  But for that, we need….to scale up the solutio...          1          0   \n1542                                       I thank you.          0          0   \n\n      Topic  Unit  Shape            RELEVANCE      PRINCIPLE  \\\n0         0     0      0         Not relevant  not evaluated   \n1         0     0      0         Not relevant  not evaluated   \n2         0     0      0         Not relevant  not evaluated   \n3         1     2      2             Relevant    utilitarian   \n4         0     0      0  Statement of intent  not evaluated   \n...     ...   ...    ...                  ...            ...   \n1538      0     0      0  Statement of intent  not evaluated   \n1539      0     0      0  Statement of intent  not evaluated   \n1540      0     0      0         Not relevant  not evaluated   \n1541      0     0      0  Statement of intent  not evaluated   \n1542      0     0      0         Not relevant  not evaluated   \n\n                  TOPIC            UNIT          SHAPE  \n0         not evaluated   not evaluated  not evaluated  \n1         not evaluated   not evaluated  not evaluated  \n2         not evaluated   not evaluated  not evaluated  \n3     new UNFCCC policy  responsibility       equality  \n4         not evaluated   not evaluated  not evaluated  \n...                 ...             ...            ...  \n1538      not evaluated   not evaluated  not evaluated  \n1539      not evaluated   not evaluated  not evaluated  \n1540      not evaluated   not evaluated  not evaluated  \n1541      not evaluated   not evaluated  not evaluated  \n1542      not evaluated   not evaluated  not evaluated  \n\n[1543 rows x 13 columns]",
      "text/html": "<div>\n<style scoped>\n    .dataframe tbody tr th:only-of-type {\n        vertical-align: middle;\n    }\n\n    .dataframe tbody tr th {\n        vertical-align: top;\n    }\n\n    .dataframe thead th {\n        text-align: right;\n    }\n</style>\n<table border=\"1\" class=\"dataframe\">\n  <thead>\n    <tr style=\"text-align: right;\">\n      <th></th>\n      <th>Unnamed: 0</th>\n      <th>id</th>\n      <th>Text</th>\n      <th>Relevance</th>\n      <th>Principle</th>\n      <th>Topic</th>\n      <th>Unit</th>\n      <th>Shape</th>\n      <th>RELEVANCE</th>\n      <th>PRINCIPLE</th>\n      <th>TOPIC</th>\n      <th>UNIT</th>\n      <th>SHAPE</th>\n    </tr>\n  </thead>\n  <tbody>\n    <tr>\n      <th>0</th>\n      <td>0</td>\n      <td>COP19_japan</td>\n      <td>Thank you, Mr. President .</td>\n      <td>0</td>\n      <td>0</td>\n      <td>0</td>\n      <td>0</td>\n      <td>0</td>\n      <td>Not relevant</td>\n      <td>not evaluated</td>\n      <td>not evaluated</td>\n      <td>not evaluated</td>\n      <td>not evaluated</td>\n    </tr>\n    <tr>\n      <th>1</th>\n      <td>1</td>\n      <td>COP19_japan</td>\n      <td>On beha lf of the government of Japan , I wou...</td>\n      <td>0</td>\n      <td>0</td>\n      <td>0</td>\n      <td>0</td>\n      <td>0</td>\n      <td>Not relevant</td>\n      <td>not evaluated</td>\n      <td>not evaluated</td>\n      <td>not evaluated</td>\n      <td>not evaluated</td>\n    </tr>\n    <tr>\n      <th>2</th>\n      <td>2</td>\n      <td>COP19_japan</td>\n      <td>I would also like to expr ess my d eepest con...</td>\n      <td>0</td>\n      <td>0</td>\n      <td>0</td>\n      <td>0</td>\n      <td>0</td>\n      <td>Not relevant</td>\n      <td>not evaluated</td>\n      <td>not evaluated</td>\n      <td>not evaluated</td>\n      <td>not evaluated</td>\n    </tr>\n    <tr>\n      <th>3</th>\n      <td>3</td>\n      <td>COP19_japan</td>\n      <td>Mr. President:  A fair and effective framewor...</td>\n      <td>2</td>\n      <td>3</td>\n      <td>1</td>\n      <td>2</td>\n      <td>2</td>\n      <td>Relevant</td>\n      <td>utilitarian</td>\n      <td>new UNFCCC policy</td>\n      <td>responsibility</td>\n      <td>equality</td>\n    </tr>\n    <tr>\n      <th>4</th>\n      <td>4</td>\n      <td>COP19_japan</td>\n      <td>In this regard, Japan firmly supports the est...</td>\n      <td>1</td>\n      <td>0</td>\n      <td>0</td>\n      <td>0</td>\n      <td>0</td>\n      <td>Statement of intent</td>\n      <td>not evaluated</td>\n      <td>not evaluated</td>\n      <td>not evaluated</td>\n      <td>not evaluated</td>\n    </tr>\n    <tr>\n      <th>...</th>\n      <td>...</td>\n      <td>...</td>\n      <td>...</td>\n      <td>...</td>\n      <td>...</td>\n      <td>...</td>\n      <td>...</td>\n      <td>...</td>\n      <td>...</td>\n      <td>...</td>\n      <td>...</td>\n      <td>...</td>\n      <td>...</td>\n    </tr>\n    <tr>\n      <th>1538</th>\n      <td>1397</td>\n      <td>COP28_belgium</td>\n      <td>The most important result of COP28 that I wou...</td>\n      <td>1</td>\n      <td>0</td>\n      <td>0</td>\n      <td>0</td>\n      <td>0</td>\n      <td>Statement of intent</td>\n      <td>not evaluated</td>\n      <td>not evaluated</td>\n      <td>not evaluated</td>\n      <td>not evaluated</td>\n    </tr>\n    <tr>\n      <th>1539</th>\n      <td>1398</td>\n      <td>COP28_belgium</td>\n      <td>Trust that “WE” , governments together with o...</td>\n      <td>1</td>\n      <td>0</td>\n      <td>0</td>\n      <td>0</td>\n      <td>0</td>\n      <td>Statement of intent</td>\n      <td>not evaluated</td>\n      <td>not evaluated</td>\n      <td>not evaluated</td>\n      <td>not evaluated</td>\n    </tr>\n    <tr>\n      <th>1540</th>\n      <td>1399</td>\n      <td>COP28_belgium</td>\n      <td></td>\n      <td>0</td>\n      <td>0</td>\n      <td>0</td>\n      <td>0</td>\n      <td>0</td>\n      <td>Not relevant</td>\n      <td>not evaluated</td>\n      <td>not evaluated</td>\n      <td>not evaluated</td>\n      <td>not evaluated</td>\n    </tr>\n    <tr>\n      <th>1541</th>\n      <td>1400</td>\n      <td>COP28_belgium</td>\n      <td>But for that, we need….to scale up the solutio...</td>\n      <td>1</td>\n      <td>0</td>\n      <td>0</td>\n      <td>0</td>\n      <td>0</td>\n      <td>Statement of intent</td>\n      <td>not evaluated</td>\n      <td>not evaluated</td>\n      <td>not evaluated</td>\n      <td>not evaluated</td>\n    </tr>\n    <tr>\n      <th>1542</th>\n      <td>1401</td>\n      <td>COP28_belgium</td>\n      <td>I thank you.</td>\n      <td>0</td>\n      <td>0</td>\n      <td>0</td>\n      <td>0</td>\n      <td>0</td>\n      <td>Not relevant</td>\n      <td>not evaluated</td>\n      <td>not evaluated</td>\n      <td>not evaluated</td>\n      <td>not evaluated</td>\n    </tr>\n  </tbody>\n</table>\n<p>1543 rows × 13 columns</p>\n</div>"
     },
     "execution_count": 10,
     "metadata": {},
     "output_type": "execute_result"
    }
   ],
   "source": [
    "# Open dataframe\n",
    "manual = pd.read_csv('final data/HLS_full.csv')\n",
    "manual"
   ],
   "metadata": {
    "collapsed": false,
    "ExecuteTime": {
     "start_time": "2024-06-18T17:00:20.306100Z",
     "end_time": "2024-06-18T17:00:20.410636Z"
    }
   }
  },
  {
   "cell_type": "code",
   "execution_count": 14,
   "outputs": [],
   "source": [
    "# Identify sentences\n",
    "utilitarian = manual[manual['PRINCIPLE'] == 'utilitarian'][['Text']]\n",
    "prioritarian = manual[manual['PRINCIPLE']=='prioritarian'][['Text']]\n",
    "egalitarian = manual[manual['PRINCIPLE']=='egalitarian'][['Text']]\n",
    "sufficientarian = manual[manual['PRINCIPLE']=='sufficientarian'][['Text']]\n",
    "libertarian = manual[manual['PRINCIPLE']=='libertarian'][['Text']]\n",
    "GNS = manual[manual['PRINCIPLE']=='general normative statement'][['Text']]"
   ],
   "metadata": {
    "collapsed": false,
    "ExecuteTime": {
     "start_time": "2024-06-18T17:04:36.324706Z",
     "end_time": "2024-06-18T17:04:36.341613Z"
    }
   }
  },
  {
   "cell_type": "code",
   "execution_count": 15,
   "outputs": [],
   "source": [
    "# Save each DataFrame to a CSV file\n",
    "utilitarian.to_csv('utilitarian.csv', index=False)\n",
    "prioritarian.to_csv('prioritarian.csv', index=False)\n",
    "egalitarian.to_csv('egalitarian.csv', index=False)\n",
    "sufficientarian.to_csv('sufficientarian.csv', index=False)\n",
    "libertarian.to_csv('libertarian.csv', index=False)\n",
    "GNS.to_csv('GNS.csv', index=False)"
   ],
   "metadata": {
    "collapsed": false,
    "ExecuteTime": {
     "start_time": "2024-06-18T17:04:38.375848Z",
     "end_time": "2024-06-18T17:04:38.392359Z"
    }
   }
  },
  {
   "cell_type": "code",
   "execution_count": null,
   "outputs": [],
   "source": [],
   "metadata": {
    "collapsed": false
   }
  }
 ],
 "metadata": {
  "kernelspec": {
   "display_name": "Python 3",
   "language": "python",
   "name": "python3"
  },
  "language_info": {
   "codemirror_mode": {
    "name": "ipython",
    "version": 2
   },
   "file_extension": ".py",
   "mimetype": "text/x-python",
   "name": "python",
   "nbconvert_exporter": "python",
   "pygments_lexer": "ipython2",
   "version": "2.7.6"
  }
 },
 "nbformat": 4,
 "nbformat_minor": 0
}
