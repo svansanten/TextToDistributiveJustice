{
 "cells": [
  {
   "cell_type": "markdown",
   "metadata": {
    "id": "NRMEai9kN2R7"
   },
   "source": [
    "## Application gpt_annotate on determining principle use\n",
    "evaluation of only sentences that are deemed relevant by manual annotation.\n",
    "1. Label for principle\n",
    "2. label for topic\n",
    "3. label for unit\n",
    "4. label for shape\n",
    "\n",
    "\n",
    "### Set up dependencies"
   ]
  },
  {
   "cell_type": "code",
   "execution_count": 1,
   "outputs": [
    {
     "name": "stdout",
     "output_type": "stream",
     "text": [
      "Requirement already satisfied: openai in c:\\app\\python\\lib\\site-packages (1.16.2)\n",
      "Requirement already satisfied: anyio<5,>=3.5.0 in c:\\app\\python\\lib\\site-packages (from openai) (3.6.2)\n",
      "Requirement already satisfied: distro<2,>=1.7.0 in c:\\app\\python\\lib\\site-packages (from openai) (1.9.0)\n",
      "Requirement already satisfied: httpx<1,>=0.23.0 in c:\\app\\python\\lib\\site-packages (from openai) (0.27.0)\n",
      "Requirement already satisfied: pydantic<3,>=1.9.0 in c:\\app\\python\\lib\\site-packages (from openai) (1.10.15)\n",
      "Requirement already satisfied: sniffio in c:\\app\\python\\lib\\site-packages (from openai) (1.3.0)\n",
      "Requirement already satisfied: tqdm>4 in c:\\app\\python\\lib\\site-packages (from openai) (4.64.1)\n",
      "Requirement already satisfied: typing-extensions<5,>=4.7 in c:\\app\\python\\lib\\site-packages (from openai) (4.9.0)\n",
      "Requirement already satisfied: idna>=2.8 in c:\\app\\python\\lib\\site-packages (from anyio<5,>=3.5.0->openai) (3.4)\n",
      "Requirement already satisfied: certifi in c:\\app\\python\\lib\\site-packages (from httpx<1,>=0.23.0->openai) (2022.12.7)\n",
      "Requirement already satisfied: httpcore==1.* in c:\\app\\python\\lib\\site-packages (from httpx<1,>=0.23.0->openai) (1.0.5)\n",
      "Requirement already satisfied: h11<0.15,>=0.13 in c:\\app\\python\\lib\\site-packages (from httpcore==1.*->httpx<1,>=0.23.0->openai) (0.14.0)\n",
      "Requirement already satisfied: colorama in c:\\app\\python\\lib\\site-packages (from tqdm>4->openai) (0.4.6)\n"
     ]
    },
    {
     "name": "stderr",
     "output_type": "stream",
     "text": [
      "\n",
      "[notice] A new release of pip available: 22.3.1 -> 24.0\n",
      "[notice] To update, run: C:\\App\\Python\\python.exe -m pip install --upgrade pip\n"
     ]
    }
   ],
   "source": [
    "!pip install openai"
   ],
   "metadata": {
    "collapsed": false,
    "ExecuteTime": {
     "start_time": "2024-05-19T11:09:25.462803Z",
     "end_time": "2024-05-19T11:09:32.507716Z"
    }
   }
  },
  {
   "cell_type": "code",
   "execution_count": 2,
   "outputs": [
    {
     "name": "stdout",
     "output_type": "stream",
     "text": [
      "Requirement already satisfied: tiktoken in c:\\app\\python\\lib\\site-packages (0.6.0)\n",
      "Requirement already satisfied: regex>=2022.1.18 in c:\\app\\python\\lib\\site-packages (from tiktoken) (2023.5.5)\n",
      "Requirement already satisfied: requests>=2.26.0 in c:\\app\\python\\lib\\site-packages (from tiktoken) (2.28.2)\n",
      "Requirement already satisfied: charset-normalizer<4,>=2 in c:\\app\\python\\lib\\site-packages (from requests>=2.26.0->tiktoken) (3.0.1)\n",
      "Requirement already satisfied: idna<4,>=2.5 in c:\\app\\python\\lib\\site-packages (from requests>=2.26.0->tiktoken) (3.4)\n",
      "Requirement already satisfied: urllib3<1.27,>=1.21.1 in c:\\app\\python\\lib\\site-packages (from requests>=2.26.0->tiktoken) (1.26.18)\n",
      "Requirement already satisfied: certifi>=2017.4.17 in c:\\app\\python\\lib\\site-packages (from requests>=2.26.0->tiktoken) (2022.12.7)\n"
     ]
    },
    {
     "name": "stderr",
     "output_type": "stream",
     "text": [
      "\n",
      "[notice] A new release of pip available: 22.3.1 -> 24.0\n",
      "[notice] To update, run: C:\\App\\Python\\python.exe -m pip install --upgrade pip\n"
     ]
    }
   ],
   "source": [
    "!pip install tiktoken"
   ],
   "metadata": {
    "collapsed": false,
    "ExecuteTime": {
     "start_time": "2024-05-19T11:09:32.510671Z",
     "end_time": "2024-05-19T11:09:38.748046Z"
    }
   }
  },
  {
   "cell_type": "code",
   "execution_count": 3,
   "metadata": {
    "id": "Go5O5Lt6N9Z1",
    "ExecuteTime": {
     "start_time": "2024-05-21T08:52:55.718040Z",
     "end_time": "2024-05-21T08:53:42.076669Z"
    }
   },
   "outputs": [],
   "source": [
    "import openai\n",
    "import pandas as pd\n",
    "import math\n",
    "import time\n",
    "import numpy as np\n",
    "import tiktoken\n",
    "import matplotlib.pyplot as plt\n",
    "\n",
    "#### Import main package: gpt_annotate.py\n",
    "# Make sure that the .py file is in the same directory as the .ipynb file, or you provide the correct relative or absolute path to the .py file.\n",
    "import gpt_annotate"
   ]
  },
  {
   "cell_type": "code",
   "execution_count": 4,
   "metadata": {
    "id": "s2SVKJPAOAWM",
    "ExecuteTime": {
     "start_time": "2024-05-21T08:53:42.076669Z",
     "end_time": "2024-05-21T08:53:42.095360Z"
    }
   },
   "outputs": [],
   "source": [
    "# don't type the key in this file! \n",
    "# create gpt_api.txt, put the key in that, and save\n",
    "with open('gpt_api_key.txt', 'r') as f:\n",
    "    key = f.read().strip()"
   ]
  },
  {
   "cell_type": "markdown",
   "metadata": {
    "id": "xb5K0uyrOlUY"
   },
   "source": [
    "### Load in text_to_annotate and codebook"
   ]
  },
  {
   "cell_type": "code",
   "execution_count": 5,
   "metadata": {
    "id": "Abeu-_5nOvLL",
    "ExecuteTime": {
     "start_time": "2024-05-21T09:01:17.579781Z",
     "end_time": "2024-05-21T09:01:18.743222Z"
    }
   },
   "outputs": [
    {
     "data": {
      "text/plain": "                                                   Text  principle_1  \\\n3      Mr. President:  A fair and effective framewor...            0   \n5     Such a framework must be based on “nationally ...            0   \n44    It should not only enable us to discuss global...            0   \n53    Global warming is a catastrophic problem that ...            0   \n54    Therefore, the multilateralism approach remain...            1   \n...                                                 ...          ...   \n1172   As we work to catch up on lost time and progr...            0   \n1173   Conflict -ridden communities, refugees, and d...            0   \n1174  Nor can we stand by , as the massive destructi...            0   \n1198   We recognise that we must deliver on our coll...            0   \n1205   We need a course correction, and working toge...            0   \n\n      principle_2  principle_3  principle_4  principle_5  principle_6  \n3               0            1            0            0            0  \n5               1            0            0            0            0  \n44              0            1            0            0            0  \n53              0            1            0            0            0  \n54              0            0            0            0            0  \n...           ...          ...          ...          ...          ...  \n1172            0            0            1            0            0  \n1173            0            0            1            0            0  \n1174            0            1            0            0            0  \n1198            0            0            1            0            0  \n1205            0            1            0            0            0  \n\n[218 rows x 7 columns]",
      "text/html": "<div>\n<style scoped>\n    .dataframe tbody tr th:only-of-type {\n        vertical-align: middle;\n    }\n\n    .dataframe tbody tr th {\n        vertical-align: top;\n    }\n\n    .dataframe thead th {\n        text-align: right;\n    }\n</style>\n<table border=\"1\" class=\"dataframe\">\n  <thead>\n    <tr style=\"text-align: right;\">\n      <th></th>\n      <th>Text</th>\n      <th>principle_1</th>\n      <th>principle_2</th>\n      <th>principle_3</th>\n      <th>principle_4</th>\n      <th>principle_5</th>\n      <th>principle_6</th>\n    </tr>\n  </thead>\n  <tbody>\n    <tr>\n      <th>3</th>\n      <td>Mr. President:  A fair and effective framewor...</td>\n      <td>0</td>\n      <td>0</td>\n      <td>1</td>\n      <td>0</td>\n      <td>0</td>\n      <td>0</td>\n    </tr>\n    <tr>\n      <th>5</th>\n      <td>Such a framework must be based on “nationally ...</td>\n      <td>0</td>\n      <td>1</td>\n      <td>0</td>\n      <td>0</td>\n      <td>0</td>\n      <td>0</td>\n    </tr>\n    <tr>\n      <th>44</th>\n      <td>It should not only enable us to discuss global...</td>\n      <td>0</td>\n      <td>0</td>\n      <td>1</td>\n      <td>0</td>\n      <td>0</td>\n      <td>0</td>\n    </tr>\n    <tr>\n      <th>53</th>\n      <td>Global warming is a catastrophic problem that ...</td>\n      <td>0</td>\n      <td>0</td>\n      <td>1</td>\n      <td>0</td>\n      <td>0</td>\n      <td>0</td>\n    </tr>\n    <tr>\n      <th>54</th>\n      <td>Therefore, the multilateralism approach remain...</td>\n      <td>1</td>\n      <td>0</td>\n      <td>0</td>\n      <td>0</td>\n      <td>0</td>\n      <td>0</td>\n    </tr>\n    <tr>\n      <th>...</th>\n      <td>...</td>\n      <td>...</td>\n      <td>...</td>\n      <td>...</td>\n      <td>...</td>\n      <td>...</td>\n      <td>...</td>\n    </tr>\n    <tr>\n      <th>1172</th>\n      <td>As we work to catch up on lost time and progr...</td>\n      <td>0</td>\n      <td>0</td>\n      <td>0</td>\n      <td>1</td>\n      <td>0</td>\n      <td>0</td>\n    </tr>\n    <tr>\n      <th>1173</th>\n      <td>Conflict -ridden communities, refugees, and d...</td>\n      <td>0</td>\n      <td>0</td>\n      <td>0</td>\n      <td>1</td>\n      <td>0</td>\n      <td>0</td>\n    </tr>\n    <tr>\n      <th>1174</th>\n      <td>Nor can we stand by , as the massive destructi...</td>\n      <td>0</td>\n      <td>0</td>\n      <td>1</td>\n      <td>0</td>\n      <td>0</td>\n      <td>0</td>\n    </tr>\n    <tr>\n      <th>1198</th>\n      <td>We recognise that we must deliver on our coll...</td>\n      <td>0</td>\n      <td>0</td>\n      <td>0</td>\n      <td>1</td>\n      <td>0</td>\n      <td>0</td>\n    </tr>\n    <tr>\n      <th>1205</th>\n      <td>We need a course correction, and working toge...</td>\n      <td>0</td>\n      <td>0</td>\n      <td>1</td>\n      <td>0</td>\n      <td>0</td>\n      <td>0</td>\n    </tr>\n  </tbody>\n</table>\n<p>218 rows × 7 columns</p>\n</div>"
     },
     "execution_count": 5,
     "metadata": {},
     "output_type": "execute_result"
    }
   ],
   "source": [
    "# Load text to annotate\n",
    "text_to_annotate_full = pd.read_csv(\"data/HLS_train_dummies.csv\")\n",
    "\n",
    "# Select only relevant sentences\n",
    "select_relevance = text_to_annotate_full[text_to_annotate_full['relevance_2']==1]\n",
    "\n",
    "text_to_annotate = select_relevance[[\"Text\",\"principle_1\", \"principle_2\", \"principle_3\", \"principle_4\", \"principle_5\", \"principle_6\"]]\n",
    "\n",
    "text_to_annotate"
   ]
  },
  {
   "cell_type": "code",
   "execution_count": 6,
   "outputs": [
    {
     "ename": "KeyError",
     "evalue": "\"None of [Index(['shape_1', 'shape_2', 'shape_3', 'shape_4', 'shape_5', 'shape_6',\\n       'shape_7'],\\n      dtype='object')] are in the [columns]\"",
     "output_type": "error",
     "traceback": [
      "\u001B[1;31m---------------------------------------------------------------------------\u001B[0m",
      "\u001B[1;31mKeyError\u001B[0m                                  Traceback (most recent call last)",
      "Cell \u001B[1;32mIn[6], line 2\u001B[0m\n\u001B[0;32m      1\u001B[0m \u001B[38;5;66;03m# Make a bar plot of the principle counts in each column\u001B[39;00m\n\u001B[1;32m----> 2\u001B[0m counts \u001B[38;5;241m=\u001B[39m \u001B[43mtext_to_annotate\u001B[49m\u001B[43m[\u001B[49m\u001B[43m[\u001B[49m\u001B[38;5;124;43m\"\u001B[39;49m\u001B[38;5;124;43mshape_1\u001B[39;49m\u001B[38;5;124;43m\"\u001B[39;49m\u001B[43m,\u001B[49m\u001B[43m \u001B[49m\u001B[38;5;124;43m\"\u001B[39;49m\u001B[38;5;124;43mshape_2\u001B[39;49m\u001B[38;5;124;43m\"\u001B[39;49m\u001B[43m,\u001B[49m\u001B[43m \u001B[49m\u001B[38;5;124;43m\"\u001B[39;49m\u001B[38;5;124;43mshape_3\u001B[39;49m\u001B[38;5;124;43m\"\u001B[39;49m\u001B[43m,\u001B[49m\u001B[43m \u001B[49m\u001B[38;5;124;43m\"\u001B[39;49m\u001B[38;5;124;43mshape_4\u001B[39;49m\u001B[38;5;124;43m\"\u001B[39;49m\u001B[43m,\u001B[49m\u001B[43m \u001B[49m\u001B[38;5;124;43m\"\u001B[39;49m\u001B[38;5;124;43mshape_5\u001B[39;49m\u001B[38;5;124;43m\"\u001B[39;49m\u001B[43m,\u001B[49m\u001B[43m \u001B[49m\u001B[38;5;124;43m\"\u001B[39;49m\u001B[38;5;124;43mshape_6\u001B[39;49m\u001B[38;5;124;43m\"\u001B[39;49m\u001B[43m,\u001B[49m\u001B[43m \u001B[49m\u001B[38;5;124;43m\"\u001B[39;49m\u001B[38;5;124;43mshape_7\u001B[39;49m\u001B[38;5;124;43m\"\u001B[39;49m\u001B[43m]\u001B[49m\u001B[43m]\u001B[49m\u001B[38;5;241m.\u001B[39msum()\n\u001B[0;32m      4\u001B[0m \u001B[38;5;66;03m# Step 4: Plot the counts using a bar plot\u001B[39;00m\n\u001B[0;32m      5\u001B[0m counts\u001B[38;5;241m.\u001B[39mplot(kind\u001B[38;5;241m=\u001B[39m\u001B[38;5;124m'\u001B[39m\u001B[38;5;124mbar\u001B[39m\u001B[38;5;124m'\u001B[39m)\n",
      "File \u001B[1;32mC:\\App\\Python\\Lib\\site-packages\\pandas\\core\\frame.py:3813\u001B[0m, in \u001B[0;36mDataFrame.__getitem__\u001B[1;34m(self, key)\u001B[0m\n\u001B[0;32m   3811\u001B[0m     \u001B[38;5;28;01mif\u001B[39;00m is_iterator(key):\n\u001B[0;32m   3812\u001B[0m         key \u001B[38;5;241m=\u001B[39m \u001B[38;5;28mlist\u001B[39m(key)\n\u001B[1;32m-> 3813\u001B[0m     indexer \u001B[38;5;241m=\u001B[39m \u001B[38;5;28;43mself\u001B[39;49m\u001B[38;5;241;43m.\u001B[39;49m\u001B[43mcolumns\u001B[49m\u001B[38;5;241;43m.\u001B[39;49m\u001B[43m_get_indexer_strict\u001B[49m\u001B[43m(\u001B[49m\u001B[43mkey\u001B[49m\u001B[43m,\u001B[49m\u001B[43m \u001B[49m\u001B[38;5;124;43m\"\u001B[39;49m\u001B[38;5;124;43mcolumns\u001B[39;49m\u001B[38;5;124;43m\"\u001B[39;49m\u001B[43m)\u001B[49m[\u001B[38;5;241m1\u001B[39m]\n\u001B[0;32m   3815\u001B[0m \u001B[38;5;66;03m# take() does not accept boolean indexers\u001B[39;00m\n\u001B[0;32m   3816\u001B[0m \u001B[38;5;28;01mif\u001B[39;00m \u001B[38;5;28mgetattr\u001B[39m(indexer, \u001B[38;5;124m\"\u001B[39m\u001B[38;5;124mdtype\u001B[39m\u001B[38;5;124m\"\u001B[39m, \u001B[38;5;28;01mNone\u001B[39;00m) \u001B[38;5;241m==\u001B[39m \u001B[38;5;28mbool\u001B[39m:\n",
      "File \u001B[1;32mC:\\App\\Python\\Lib\\site-packages\\pandas\\core\\indexes\\base.py:6070\u001B[0m, in \u001B[0;36mIndex._get_indexer_strict\u001B[1;34m(self, key, axis_name)\u001B[0m\n\u001B[0;32m   6067\u001B[0m \u001B[38;5;28;01melse\u001B[39;00m:\n\u001B[0;32m   6068\u001B[0m     keyarr, indexer, new_indexer \u001B[38;5;241m=\u001B[39m \u001B[38;5;28mself\u001B[39m\u001B[38;5;241m.\u001B[39m_reindex_non_unique(keyarr)\n\u001B[1;32m-> 6070\u001B[0m \u001B[38;5;28;43mself\u001B[39;49m\u001B[38;5;241;43m.\u001B[39;49m\u001B[43m_raise_if_missing\u001B[49m\u001B[43m(\u001B[49m\u001B[43mkeyarr\u001B[49m\u001B[43m,\u001B[49m\u001B[43m \u001B[49m\u001B[43mindexer\u001B[49m\u001B[43m,\u001B[49m\u001B[43m \u001B[49m\u001B[43maxis_name\u001B[49m\u001B[43m)\u001B[49m\n\u001B[0;32m   6072\u001B[0m keyarr \u001B[38;5;241m=\u001B[39m \u001B[38;5;28mself\u001B[39m\u001B[38;5;241m.\u001B[39mtake(indexer)\n\u001B[0;32m   6073\u001B[0m \u001B[38;5;28;01mif\u001B[39;00m \u001B[38;5;28misinstance\u001B[39m(key, Index):\n\u001B[0;32m   6074\u001B[0m     \u001B[38;5;66;03m# GH 42790 - Preserve name from an Index\u001B[39;00m\n",
      "File \u001B[1;32mC:\\App\\Python\\Lib\\site-packages\\pandas\\core\\indexes\\base.py:6130\u001B[0m, in \u001B[0;36mIndex._raise_if_missing\u001B[1;34m(self, key, indexer, axis_name)\u001B[0m\n\u001B[0;32m   6128\u001B[0m     \u001B[38;5;28;01mif\u001B[39;00m use_interval_msg:\n\u001B[0;32m   6129\u001B[0m         key \u001B[38;5;241m=\u001B[39m \u001B[38;5;28mlist\u001B[39m(key)\n\u001B[1;32m-> 6130\u001B[0m     \u001B[38;5;28;01mraise\u001B[39;00m \u001B[38;5;167;01mKeyError\u001B[39;00m(\u001B[38;5;124mf\u001B[39m\u001B[38;5;124m\"\u001B[39m\u001B[38;5;124mNone of [\u001B[39m\u001B[38;5;132;01m{\u001B[39;00mkey\u001B[38;5;132;01m}\u001B[39;00m\u001B[38;5;124m] are in the [\u001B[39m\u001B[38;5;132;01m{\u001B[39;00maxis_name\u001B[38;5;132;01m}\u001B[39;00m\u001B[38;5;124m]\u001B[39m\u001B[38;5;124m\"\u001B[39m)\n\u001B[0;32m   6132\u001B[0m not_found \u001B[38;5;241m=\u001B[39m \u001B[38;5;28mlist\u001B[39m(ensure_index(key)[missing_mask\u001B[38;5;241m.\u001B[39mnonzero()[\u001B[38;5;241m0\u001B[39m]]\u001B[38;5;241m.\u001B[39munique())\n\u001B[0;32m   6133\u001B[0m \u001B[38;5;28;01mraise\u001B[39;00m \u001B[38;5;167;01mKeyError\u001B[39;00m(\u001B[38;5;124mf\u001B[39m\u001B[38;5;124m\"\u001B[39m\u001B[38;5;132;01m{\u001B[39;00mnot_found\u001B[38;5;132;01m}\u001B[39;00m\u001B[38;5;124m not in index\u001B[39m\u001B[38;5;124m\"\u001B[39m)\n",
      "\u001B[1;31mKeyError\u001B[0m: \"None of [Index(['shape_1', 'shape_2', 'shape_3', 'shape_4', 'shape_5', 'shape_6',\\n       'shape_7'],\\n      dtype='object')] are in the [columns]\""
     ]
    }
   ],
   "source": [
    "# Make a bar plot of the principle counts in each column\n",
    "counts = text_to_annotate[[\"shape_1\", \"shape_2\", \"shape_3\", \"shape_4\", \"shape_5\", \"shape_6\", \"shape_7\"]].sum()\n",
    "\n",
    "# Step 4: Plot the counts using a bar plot\n",
    "counts.plot(kind='bar')\n",
    "\n",
    "# Adding titles and labels\n",
    "plt.title('Number of 1s in Each Column')\n",
    "plt.xlabel('Columns')\n",
    "plt.ylabel('Count of 1s')\n",
    "\n",
    "# Display the plot\n",
    "plt.show()"
   ],
   "metadata": {
    "collapsed": false,
    "ExecuteTime": {
     "start_time": "2024-05-19T17:57:27.142482Z",
     "end_time": "2024-05-19T17:57:27.370086Z"
    }
   }
  },
  {
   "cell_type": "markdown",
   "source": [
    "There is a clear class imbalance between all principles."
   ],
   "metadata": {
    "collapsed": false
   }
  },
  {
   "cell_type": "code",
   "execution_count": 7,
   "outputs": [
    {
     "name": "stdout",
     "output_type": "stream",
     "text": [
      "Columns with elements not being 0 or 1:\n",
      "Text\n"
     ]
    }
   ],
   "source": [
    "# Final check for binary columns\n",
    "invalid_columns = [col for col in text_to_annotate.columns if not all(text_to_annotate[col].isin([0, 1]))]\n",
    "\n",
    "if len(invalid_columns) == 0:\n",
    "    print(\"All columns contain only 0 or 1.\")\n",
    "else:\n",
    "    print(\"Columns with elements not being 0 or 1:\")\n",
    "    for col in invalid_columns:\n",
    "        print(col)"
   ],
   "metadata": {
    "collapsed": false,
    "ExecuteTime": {
     "start_time": "2024-05-21T14:24:20.373667Z",
     "end_time": "2024-05-21T14:24:20.386072Z"
    }
   }
  },
  {
   "cell_type": "code",
   "execution_count": 8,
   "outputs": [],
   "source": [
    "# Load codebook\n",
    "with open('Codebook/codebook_V3_principles', 'r', encoding='utf-8') as file:\n",
    "    codebook = file.read()"
   ],
   "metadata": {
    "collapsed": false,
    "ExecuteTime": {
     "start_time": "2024-05-21T14:24:22.815037Z",
     "end_time": "2024-05-21T14:24:22.820091Z"
    }
   }
  },
  {
   "cell_type": "markdown",
   "metadata": {
    "id": "apc7cy-eO8tF"
   },
   "source": [
    "# Annotate train data - manually annotated COP19-COP28 - total 41 speeches\n",
    "\n",
    "codebook short - determination of relevance"
   ]
  },
  {
   "cell_type": "code",
   "execution_count": 9,
   "metadata": {
    "id": "Dv7dc1mZPAGR",
    "ExecuteTime": {
     "start_time": "2024-05-21T14:24:50.243366Z",
     "end_time": "2024-05-21T14:24:53.905733Z"
    }
   },
   "outputs": [
    {
     "name": "stdout",
     "output_type": "stream",
     "text": [
      "\n",
      "Categories to annotate:\n",
      "1) principle_1\n",
      "2) principle_2\n",
      "3) principle_3\n",
      "4) principle_4\n",
      "5) principle_5\n",
      "6) principle_6\n",
      "\n",
      "Please input Y or N.\n",
      "\n",
      "Data is ready to be annotated using gpt_annotate()!\n",
      "\n",
      "Glimpse of your data:\n",
      "Shape of data:  (218, 9)\n",
      "   unique_id                                               text  principle_1  \\\n",
      "0          3   Mr. President:  A fair and effective framewor...            0   \n",
      "1          5  Such a framework must be based on “nationally ...            0   \n",
      "2         44  It should not only enable us to discuss global...            0   \n",
      "3         53  Global warming is a catastrophic problem that ...            0   \n",
      "4         54  Therefore, the multilateralism approach remain...            1   \n",
      "\n",
      "   principle_2  principle_3  principle_4  principle_5  principle_6  \\\n",
      "0            0            1            0            0            0   \n",
      "1            1            0            0            0            0   \n",
      "2            0            1            0            0            0   \n",
      "3            0            1            0            0            0   \n",
      "4            0            0            0            0            0   \n",
      "\n",
      "                                           llm_query  \n",
      "0  3  Mr. President:  A fair and effective framew...  \n",
      "1  5 Such a framework must be based on “nationall...  \n",
      "2  44 It should not only enable us to discuss glo...  \n",
      "3  53 Global warming is a catastrophic problem th...  \n",
      "4  54 Therefore, the multilateralism approach rem...  \n"
     ]
    }
   ],
   "source": [
    "# Prepare the data for annotation\n",
    "# Preparation is done with GPT-3.5-turbo - can be altered hardcoded\n",
    "text_to_annotate = gpt_annotate.prepare_data(text_to_annotate, codebook, key, prep_codebook=True)"
   ]
  },
  {
   "cell_type": "code",
   "execution_count": 10,
   "outputs": [
    {
     "name": "stdout",
     "output_type": "stream",
     "text": [
      "\n",
      "Categories to annotate:\n",
      "1) principle_1\n",
      "2) principle_2\n",
      "3) principle_3\n",
      "4) principle_4\n",
      "5) principle_5\n",
      "6) principle_6\n",
      "\n",
      "You are about to annotate 218 text samples and the number of iterations is set to 5\n",
      "Estimated cost range in US Dollars: 0.23 - 0.28\n",
      "Estimated minutes to run gpt_annotate(): 14.62 - 27.16\n",
      "Please note that these are rough estimates.\n",
      "\n",
      "iteration:  1 completed\n",
      "iteration:  2 completed\n",
      "iteration:  3 completed\n",
      "iteration:  4 completed\n",
      "iteration:  5 completed\n"
     ]
    }
   ],
   "source": [
    "# Annotate the data (returns 4 outputs)\n",
    "gpt_out_all, gpt_out_final, performance, incorrect =  gpt_annotate.gpt_annotate(text_to_annotate, codebook, key, num_iterations = 5, model = \"gpt-3.5-turbo\", temperature = 0.2, batch_size = 20, human_labels = True,  data_prep_warning = True, time_cost_warning = True)\n"
   ],
   "metadata": {
    "collapsed": false,
    "ExecuteTime": {
     "start_time": "2024-05-21T14:24:57.524999Z",
     "end_time": "2024-05-21T14:32:37.971568Z"
    }
   }
  },
  {
   "cell_type": "code",
   "execution_count": 11,
   "outputs": [
    {
     "data": {
      "text/plain": "      Category  Accuracy  Precision    Recall        F1\n0  principle_1  0.847926   0.000000  0.000000  0.000000\n1  principle_2  0.732719   0.315789  0.117647  0.171429\n2  principle_3  0.732719   0.000000  0.000000  0.000000\n3  principle_4  0.755760   0.882353  0.227273  0.361446\n4  principle_5  0.917051   0.000000  0.000000  0.000000\n5  principle_6  0.903226   0.000000  0.000000  0.000000",
      "text/html": "<div>\n<style scoped>\n    .dataframe tbody tr th:only-of-type {\n        vertical-align: middle;\n    }\n\n    .dataframe tbody tr th {\n        vertical-align: top;\n    }\n\n    .dataframe thead th {\n        text-align: right;\n    }\n</style>\n<table border=\"1\" class=\"dataframe\">\n  <thead>\n    <tr style=\"text-align: right;\">\n      <th></th>\n      <th>Category</th>\n      <th>Accuracy</th>\n      <th>Precision</th>\n      <th>Recall</th>\n      <th>F1</th>\n    </tr>\n  </thead>\n  <tbody>\n    <tr>\n      <th>0</th>\n      <td>principle_1</td>\n      <td>0.847926</td>\n      <td>0.000000</td>\n      <td>0.000000</td>\n      <td>0.000000</td>\n    </tr>\n    <tr>\n      <th>1</th>\n      <td>principle_2</td>\n      <td>0.732719</td>\n      <td>0.315789</td>\n      <td>0.117647</td>\n      <td>0.171429</td>\n    </tr>\n    <tr>\n      <th>2</th>\n      <td>principle_3</td>\n      <td>0.732719</td>\n      <td>0.000000</td>\n      <td>0.000000</td>\n      <td>0.000000</td>\n    </tr>\n    <tr>\n      <th>3</th>\n      <td>principle_4</td>\n      <td>0.755760</td>\n      <td>0.882353</td>\n      <td>0.227273</td>\n      <td>0.361446</td>\n    </tr>\n    <tr>\n      <th>4</th>\n      <td>principle_5</td>\n      <td>0.917051</td>\n      <td>0.000000</td>\n      <td>0.000000</td>\n      <td>0.000000</td>\n    </tr>\n    <tr>\n      <th>5</th>\n      <td>principle_6</td>\n      <td>0.903226</td>\n      <td>0.000000</td>\n      <td>0.000000</td>\n      <td>0.000000</td>\n    </tr>\n  </tbody>\n</table>\n</div>"
     },
     "execution_count": 11,
     "metadata": {},
     "output_type": "execute_result"
    }
   ],
   "source": [
    "performance"
   ],
   "metadata": {
    "collapsed": false,
    "ExecuteTime": {
     "start_time": "2024-05-21T14:33:08.084286Z",
     "end_time": "2024-05-21T14:33:08.098369Z"
    }
   }
  },
  {
   "cell_type": "code",
   "execution_count": null,
   "outputs": [],
   "source": [
    "performance_V2"
   ],
   "metadata": {
    "collapsed": false,
    "ExecuteTime": {
     "start_time": "2024-05-19T16:39:39.069335Z",
     "end_time": "2024-05-19T16:39:39.098157Z"
    }
   }
  },
  {
   "cell_type": "markdown",
   "source": [
    "## Results"
   ],
   "metadata": {
    "collapsed": false
   }
  },
  {
   "cell_type": "code",
   "execution_count": null,
   "outputs": [],
   "source": [
    "performance_V1"
   ],
   "metadata": {
    "collapsed": false,
    "ExecuteTime": {
     "start_time": "2024-05-19T11:59:21.462648Z",
     "end_time": "2024-05-19T11:59:21.489050Z"
    }
   }
  },
  {
   "cell_type": "markdown",
   "source": [
    "1 general normative statement - failed to identify any general normative statements\n",
    "2 egalitarian - 75% of egalitarian sentance were actually egalitarian\n",
    "3 utilitarian -\n",
    "4 prioritarian -\n",
    "5 sufficientarian -\n",
    "6 libertarian -\n",
    "\n",
    "Seems to capture only a very small amount\n",
    "\n",
    "Accuracy: accuracy is high, but this also includes labelling for not relevant.\n",
    "Precision: out of all sentences that the model predicted as relevant; only 22% were actually relevant. (high number of false positives)\n",
    "Recall: percentage of correctly identified positive instances. Percentage of total positive elements in the dataset that are labelled.."
   ],
   "metadata": {
    "collapsed": false
   }
  },
  {
   "cell_type": "code",
   "execution_count": null,
   "outputs": [],
   "source": [
    "performance_V2"
   ],
   "metadata": {
    "collapsed": false,
    "ExecuteTime": {
     "start_time": "2024-05-19T12:20:01.957621Z",
     "end_time": "2024-05-19T12:20:01.970231Z"
    }
   }
  },
  {
   "cell_type": "markdown",
   "source": [
    "By lowering the temperature of the model, the performance seems to improve. F1 scores remain low."
   ],
   "metadata": {
    "collapsed": false
   }
  },
  {
   "cell_type": "code",
   "execution_count": null,
   "outputs": [],
   "source": [
    "gpt_out_all_V1"
   ],
   "metadata": {
    "collapsed": false,
    "ExecuteTime": {
     "start_time": "2024-05-19T12:00:42.282109Z",
     "end_time": "2024-05-19T12:00:42.304336Z"
    }
   }
  },
  {
   "cell_type": "code",
   "execution_count": null,
   "outputs": [],
   "source": [
    "gpt_out_all_V2"
   ],
   "metadata": {
    "collapsed": false,
    "ExecuteTime": {
     "start_time": "2024-05-19T12:21:49.543811Z",
     "end_time": "2024-05-19T12:21:49.569263Z"
    }
   }
  }
 ],
 "metadata": {
  "colab": {
   "provenance": []
  },
  "kernelspec": {
   "display_name": "Python 3 (ipykernel)",
   "language": "python",
   "name": "python3"
  },
  "language_info": {
   "codemirror_mode": {
    "name": "ipython",
    "version": 3
   },
   "file_extension": ".py",
   "mimetype": "text/x-python",
   "name": "python",
   "nbconvert_exporter": "python",
   "pygments_lexer": "ipython3",
   "version": "3.8.16"
  }
 },
 "nbformat": 4,
 "nbformat_minor": 4
}
