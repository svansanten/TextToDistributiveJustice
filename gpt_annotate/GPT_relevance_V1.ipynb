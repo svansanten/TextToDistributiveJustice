{
 "cells": [
  {
   "cell_type": "markdown",
   "metadata": {
    "id": "NRMEai9kN2R7"
   },
   "source": [
    "## Application gpt_annotate on manual labels - determination of relevance\n",
    "Notes on LLM annotation following Nihit 7/5:\n",
    "- Add inclusion of context in your codebook \"you can take the previous and next two sentences into account as context.-> could be removed - currently not included\n",
    "- Evaluate if this truely makes a difference\n",
    "\n",
    "- Separate labelling for relevance; evaluate performance\n",
    "- 2 experiments\n",
    "    - only annotating for principles on sentences deemed relevant in previous iteration\n",
    "    - combing two tasks - more ellaborate codebook.\n",
    "\n",
    "Take costs into account. Not a bad thing to use what already exists\n",
    "\n",
    "THIS NOTEBOOK: focus on determination of relevance. Full annotation tasks VERY long.\n",
    "\n",
    "Conclusion on initial performance of relevance determination: poor.\n",
    "\n",
    "### Set up dependencies"
   ]
  },
  {
   "cell_type": "code",
   "execution_count": 1,
   "outputs": [
    {
     "name": "stdout",
     "output_type": "stream",
     "text": [
      "Requirement already satisfied: openai in c:\\app\\python\\lib\\site-packages (1.16.2)\n",
      "Requirement already satisfied: anyio<5,>=3.5.0 in c:\\app\\python\\lib\\site-packages (from openai) (3.6.2)\n",
      "Requirement already satisfied: distro<2,>=1.7.0 in c:\\app\\python\\lib\\site-packages (from openai) (1.9.0)\n",
      "Requirement already satisfied: httpx<1,>=0.23.0 in c:\\app\\python\\lib\\site-packages (from openai) (0.27.0)\n",
      "Requirement already satisfied: pydantic<3,>=1.9.0 in c:\\app\\python\\lib\\site-packages (from openai) (1.10.15)\n",
      "Requirement already satisfied: sniffio in c:\\app\\python\\lib\\site-packages (from openai) (1.3.0)\n",
      "Requirement already satisfied: tqdm>4 in c:\\app\\python\\lib\\site-packages (from openai) (4.64.1)\n",
      "Requirement already satisfied: typing-extensions<5,>=4.7 in c:\\app\\python\\lib\\site-packages (from openai) (4.9.0)\n",
      "Requirement already satisfied: idna>=2.8 in c:\\app\\python\\lib\\site-packages (from anyio<5,>=3.5.0->openai) (3.4)\n",
      "Requirement already satisfied: certifi in c:\\app\\python\\lib\\site-packages (from httpx<1,>=0.23.0->openai) (2022.12.7)\n",
      "Requirement already satisfied: httpcore==1.* in c:\\app\\python\\lib\\site-packages (from httpx<1,>=0.23.0->openai) (1.0.5)\n",
      "Requirement already satisfied: h11<0.15,>=0.13 in c:\\app\\python\\lib\\site-packages (from httpcore==1.*->httpx<1,>=0.23.0->openai) (0.14.0)\n",
      "Requirement already satisfied: colorama in c:\\app\\python\\lib\\site-packages (from tqdm>4->openai) (0.4.6)\n"
     ]
    },
    {
     "name": "stderr",
     "output_type": "stream",
     "text": [
      "\n",
      "[notice] A new release of pip available: 22.3.1 -> 24.0\n",
      "[notice] To update, run: C:\\App\\Python\\python.exe -m pip install --upgrade pip\n"
     ]
    }
   ],
   "source": [
    "!pip install openai"
   ],
   "metadata": {
    "collapsed": false,
    "ExecuteTime": {
     "start_time": "2024-05-18T17:05:47.088781Z",
     "end_time": "2024-05-18T17:05:54.469928Z"
    }
   }
  },
  {
   "cell_type": "code",
   "execution_count": 2,
   "outputs": [
    {
     "name": "stdout",
     "output_type": "stream",
     "text": [
      "Requirement already satisfied: tiktoken in c:\\app\\python\\lib\\site-packages (0.6.0)\n",
      "Requirement already satisfied: regex>=2022.1.18 in c:\\app\\python\\lib\\site-packages (from tiktoken) (2023.5.5)\n",
      "Requirement already satisfied: requests>=2.26.0 in c:\\app\\python\\lib\\site-packages (from tiktoken) (2.28.2)\n",
      "Requirement already satisfied: charset-normalizer<4,>=2 in c:\\app\\python\\lib\\site-packages (from requests>=2.26.0->tiktoken) (3.0.1)\n",
      "Requirement already satisfied: idna<4,>=2.5 in c:\\app\\python\\lib\\site-packages (from requests>=2.26.0->tiktoken) (3.4)\n",
      "Requirement already satisfied: urllib3<1.27,>=1.21.1 in c:\\app\\python\\lib\\site-packages (from requests>=2.26.0->tiktoken) (1.26.18)\n",
      "Requirement already satisfied: certifi>=2017.4.17 in c:\\app\\python\\lib\\site-packages (from requests>=2.26.0->tiktoken) (2022.12.7)\n"
     ]
    },
    {
     "name": "stderr",
     "output_type": "stream",
     "text": [
      "\n",
      "[notice] A new release of pip available: 22.3.1 -> 24.0\n",
      "[notice] To update, run: C:\\App\\Python\\python.exe -m pip install --upgrade pip\n"
     ]
    }
   ],
   "source": [
    "!pip install tiktoken"
   ],
   "metadata": {
    "collapsed": false,
    "ExecuteTime": {
     "start_time": "2024-05-18T17:05:54.468933Z",
     "end_time": "2024-05-18T17:06:00.325691Z"
    }
   }
  },
  {
   "cell_type": "code",
   "execution_count": 1,
   "metadata": {
    "id": "Go5O5Lt6N9Z1",
    "ExecuteTime": {
     "start_time": "2024-05-21T08:55:23.194140Z",
     "end_time": "2024-05-21T08:55:24.401669Z"
    }
   },
   "outputs": [],
   "source": [
    "import openai\n",
    "import pandas as pd\n",
    "import math\n",
    "import time\n",
    "import numpy as np\n",
    "import tiktoken\n",
    "\n",
    "import matplotlib.pyplot as plt"
   ]
  },
  {
   "cell_type": "code",
   "execution_count": 2,
   "outputs": [],
   "source": [
    "#### Import main package: gpt_annotate.py\n",
    "# Make sure that the .py file is in the same directory as the .ipynb file, or you provide the correct relative or absolute path to the .py file.\n",
    "import gpt_annotate"
   ],
   "metadata": {
    "collapsed": false,
    "ExecuteTime": {
     "start_time": "2024-05-21T08:55:24.407090Z",
     "end_time": "2024-05-21T08:55:58.628138Z"
    }
   }
  },
  {
   "cell_type": "code",
   "execution_count": 3,
   "metadata": {
    "id": "s2SVKJPAOAWM",
    "ExecuteTime": {
     "start_time": "2024-05-21T08:55:58.632774Z",
     "end_time": "2024-05-21T08:55:58.647319Z"
    }
   },
   "outputs": [],
   "source": [
    "# don't type the key in this file! \n",
    "# create gpt_api.txt, put the key in that, and save\n",
    "with open('gpt_api_key.txt', 'r') as f:\n",
    "    key = f.read().strip()"
   ]
  },
  {
   "cell_type": "markdown",
   "metadata": {
    "id": "xb5K0uyrOlUY"
   },
   "source": [
    "### Load in text_to_annotate and codebook"
   ]
  },
  {
   "cell_type": "code",
   "execution_count": 5,
   "metadata": {
    "id": "Abeu-_5nOvLL",
    "ExecuteTime": {
     "start_time": "2024-05-21T08:56:22.713118Z",
     "end_time": "2024-05-21T08:56:22.752123Z"
    }
   },
   "outputs": [
    {
     "data": {
      "text/plain": "                                                   Text  relevance_0  \\\n0                            Thank you, Mr. President .            1   \n1      On beha lf of the government of Japan , I wou...            1   \n2      I would also like to expr ess my d eepest con...            1   \n3      Mr. President:  A fair and effective framewor...            0   \n4      In this regard, Japan firmly supports the est...            0   \n...                                                 ...          ...   \n1207   New Zealand is proud to suppor t several impo...            1   \n1208  I am joined by New Zealand’s largest business,...            1   \n1209  The commitment o f New Zealanders from across ...            1   \n1210                            Thank you Mr President.            1   \n1211                                          Kia Kaha             1   \n\n      relevance_1  relevance_2  \n0               0            0  \n1               0            0  \n2               0            0  \n3               0            1  \n4               1            0  \n...           ...          ...  \n1207            0            0  \n1208            0            0  \n1209            0            0  \n1210            0            0  \n1211            0            0  \n\n[1212 rows x 4 columns]",
      "text/html": "<div>\n<style scoped>\n    .dataframe tbody tr th:only-of-type {\n        vertical-align: middle;\n    }\n\n    .dataframe tbody tr th {\n        vertical-align: top;\n    }\n\n    .dataframe thead th {\n        text-align: right;\n    }\n</style>\n<table border=\"1\" class=\"dataframe\">\n  <thead>\n    <tr style=\"text-align: right;\">\n      <th></th>\n      <th>Text</th>\n      <th>relevance_0</th>\n      <th>relevance_1</th>\n      <th>relevance_2</th>\n    </tr>\n  </thead>\n  <tbody>\n    <tr>\n      <th>0</th>\n      <td>Thank you, Mr. President .</td>\n      <td>1</td>\n      <td>0</td>\n      <td>0</td>\n    </tr>\n    <tr>\n      <th>1</th>\n      <td>On beha lf of the government of Japan , I wou...</td>\n      <td>1</td>\n      <td>0</td>\n      <td>0</td>\n    </tr>\n    <tr>\n      <th>2</th>\n      <td>I would also like to expr ess my d eepest con...</td>\n      <td>1</td>\n      <td>0</td>\n      <td>0</td>\n    </tr>\n    <tr>\n      <th>3</th>\n      <td>Mr. President:  A fair and effective framewor...</td>\n      <td>0</td>\n      <td>0</td>\n      <td>1</td>\n    </tr>\n    <tr>\n      <th>4</th>\n      <td>In this regard, Japan firmly supports the est...</td>\n      <td>0</td>\n      <td>1</td>\n      <td>0</td>\n    </tr>\n    <tr>\n      <th>...</th>\n      <td>...</td>\n      <td>...</td>\n      <td>...</td>\n      <td>...</td>\n    </tr>\n    <tr>\n      <th>1207</th>\n      <td>New Zealand is proud to suppor t several impo...</td>\n      <td>1</td>\n      <td>0</td>\n      <td>0</td>\n    </tr>\n    <tr>\n      <th>1208</th>\n      <td>I am joined by New Zealand’s largest business,...</td>\n      <td>1</td>\n      <td>0</td>\n      <td>0</td>\n    </tr>\n    <tr>\n      <th>1209</th>\n      <td>The commitment o f New Zealanders from across ...</td>\n      <td>1</td>\n      <td>0</td>\n      <td>0</td>\n    </tr>\n    <tr>\n      <th>1210</th>\n      <td>Thank you Mr President.</td>\n      <td>1</td>\n      <td>0</td>\n      <td>0</td>\n    </tr>\n    <tr>\n      <th>1211</th>\n      <td>Kia Kaha</td>\n      <td>1</td>\n      <td>0</td>\n      <td>0</td>\n    </tr>\n  </tbody>\n</table>\n<p>1212 rows × 4 columns</p>\n</div>"
     },
     "execution_count": 5,
     "metadata": {},
     "output_type": "execute_result"
    }
   ],
   "source": [
    "# Load text to annotate\n",
    "text_to_annotate_full = pd.read_csv(\"data/HLS_train_dummies.csv\")\n",
    "\n",
    "# For testing purposes, only select japan speech\n",
    "#select_cop = text_to_annotate_full[text_to_annotate_full['id']=='COP19_japan']\n",
    "\n",
    "#text_to_annotate = text_to_annotate_full[[\"Text\", \"principle_0\", \"principle_1\", \"principle_2\", \"principle_3\", \"principle_4\", \"principle_5\", \"principle_6\"]]\n",
    "\n",
    "text_to_annotate = text_to_annotate_full[[\"Text\", \"relevance_0\", \"relevance_1\", \"relevance_2\"]]\n",
    "\n",
    "text_to_annotate"
   ]
  },
  {
   "cell_type": "code",
   "execution_count": 11,
   "outputs": [
    {
     "data": {
      "text/plain": "<Figure size 640x480 with 1 Axes>",
      "image/png": "[encoded data removed]"
     },
     "metadata": {},
     "output_type": "display_data"
    }
   ],
   "source": [
    "# Make a bar plot of the principle counts in each column\n",
    "counts = text_to_annotate[[\"principle_0\", \"principle_1\", \"principle_2\", \"principle_3\", \"principle_4\", \"principle_5\", \"principle_6\"]].sum()\n",
    "\n",
    "# Step 4: Plot the counts using a bar plot\n",
    "counts.plot(kind='bar')\n",
    "\n",
    "# Adding titles and labels\n",
    "plt.title('Number of 1s in Each Column')\n",
    "plt.xlabel('Columns')\n",
    "plt.ylabel('Count of 1s')\n",
    "\n",
    "# Display the plot\n",
    "plt.show()"
   ],
   "metadata": {
    "collapsed": false,
    "ExecuteTime": {
     "start_time": "2024-05-19T14:43:28.267310Z",
     "end_time": "2024-05-19T14:43:28.577115Z"
    }
   }
  },
  {
   "cell_type": "code",
   "execution_count": 12,
   "outputs": [
    {
     "name": "stdout",
     "output_type": "stream",
     "text": [
      "Columns with elements not being 0 or 1:\n",
      "Text\n"
     ]
    }
   ],
   "source": [
    "# Final check for binary columns\n",
    "invalid_columns = [col for col in text_to_annotate.columns if not all(text_to_annotate[col].isin([0, 1]))]\n",
    "\n",
    "if len(invalid_columns) == 0:\n",
    "    print(\"All columns contain only 0 or 1.\")\n",
    "else:\n",
    "    print(\"Columns with elements not being 0 or 1:\")\n",
    "    for col in invalid_columns:\n",
    "        print(col)"
   ],
   "metadata": {
    "collapsed": false,
    "ExecuteTime": {
     "start_time": "2024-05-19T14:45:28.145605Z",
     "end_time": "2024-05-19T14:45:28.158222Z"
    }
   }
  },
  {
   "cell_type": "code",
   "execution_count": 6,
   "outputs": [
    {
     "data": {
      "text/plain": "'\"You are tasked to annotate sentences from speeches presented at the High Level Segment at UNFCCC Conference of the Parties.\\nAssign binary labels (0 or 1) for these 3 categories with category names: \\'relevance_0\\', \\'relevance_1\\', \\'relevance_2\\'. Follow the provided definitions of the categories during labelling process.\\nALWAYS ensure 1 of 3 categories is labelled as 1, the other two must be 0.\\n\\nLabelling steps for each sentence:\\n1. Evaluate the sentence. Take the 2 previous and 2 next sentences in you annotate into account as context to your evaluation.\\n2. Determine the BINARY label (0 or 1) of all 3 CATEGORIES (\\'relevance_0\\', \\'relevance_1\\', \\'relevance_2\\') based on the following DEFINITIONS:\\n    a.\\trelevance_0: Descriptive or Factual Statements\\n        Definition: A sentence that presents a descriptive or factual statement, including descriptions of policies already implemented or expressions of gratitude, condolences, formalities, or rhetorical questions.\\n    b.\\trelevance_1: Statement of intent\\n        Definition: A sentence with ambiguous normativity, often referring to policy intentions or expectations without clear normative motivations. These sentences prescribe an action or behaviour but lack explicit normative justification.\\n    c.\\trelevance_2: Normative statements\\n        Definition: A sentence that presents a normative statement with a value judgment or prescription based on norms and values, including motivations derived from the textual context.\\n\\n    Examples:\\n    a.  \"We need adequate, predictable, accessible and sustainable finance.\"\\n        relevance_0 = 1\\n        relevance_1 = 0\\n        relevance_2 = 0\\n    b.   “I would like to express my appreciation to the Government of Poland for hosting and presiding over the 24th Conference of the Parties.”\\n        relevance_0 = 1\\n        relevance_1 = 0\\n        relevance_2 = 0\\n    c.   \"Thank you Mr. President.\"\\n        relevance_0 = 1\\n        relevance_1 = 0\\n        relevance_2 = 0\\n    d.   “Mr. President, as we come to the end of the International Year of the SIDS, we hope to leave Lima on a high note.”\\n        relevance_0 = 0\\n        relevance_1 = 1\\n        relevance_2 = 0\\n    e.    “43% of our post -pandemic recovery funds will support sustainable green transition in transport, industry or buildings, while not leaving the most vulnerable behind.”\\n        relevance_0 = 0\\n        relevance_1 = 1\\n        relevance_2 = 0\\n    f.    “I am sure that you all agree with me that we must collectively and responsibly act for the welfare of our common Planet - Terra – a tiny beautiful little blue dot on the Celestial Map of our Solar System which supports Life as we know it.”\\n        relevance_0 = 0\\n        relevance_1 = 0\\n        relevance_2 = 1\\n    g.   “The global response to climate change must put fairness and equity at the heart of its work, and to keep the needs and aspirations of the world’s most vulnerable countries in its line of sight.\"\\n        relevance_0 = 0\\n        relevance_1 = 0\\n        relevance_2 = 1\\n3. Assign labels:\\n    a. If a definition applies to the statement, label the corresponding category as 1\\n    b. ALWAYS ensure one of 6 categories is labelled as 1. The other 2 categories should be 0.\\n    c. ALWAYS ensure that the labels are BINARY (0 OR 1)\\n\\nYour output should be in the following format:\\nunique_id | relevance_0 | relevance_1 | relevance_2\\n\\nAnnotate the following sentences based on the definitions provided:\"\\n\\n'"
     },
     "execution_count": 6,
     "metadata": {},
     "output_type": "execute_result"
    }
   ],
   "source": [
    "# Load codebook\n",
    "with open('Codebook/codebook_V7_relevance', 'r', encoding='utf-8') as file:\n",
    "    codebook = file.read()\n",
    "\n",
    "codebook"
   ],
   "metadata": {
    "collapsed": false,
    "ExecuteTime": {
     "start_time": "2024-05-21T08:56:36.857468Z",
     "end_time": "2024-05-21T08:56:36.878507Z"
    }
   }
  },
  {
   "cell_type": "markdown",
   "metadata": {
    "id": "apc7cy-eO8tF"
   },
   "source": [
    "# Annotate train data - manually annotated COP19-COP28 - total 41 speeches\n",
    "\n",
    "codebook: codebook_V4_relevance - determination of relevance"
   ]
  },
  {
   "cell_type": "code",
   "execution_count": 7,
   "metadata": {
    "id": "Dv7dc1mZPAGR",
    "ExecuteTime": {
     "start_time": "2024-05-21T08:56:40.054185Z",
     "end_time": "2024-05-21T08:56:42.730468Z"
    }
   },
   "outputs": [
    {
     "name": "stdout",
     "output_type": "stream",
     "text": [
      "\n",
      "Categories to annotate:\n",
      "1) relevance_0\n",
      "2) relevance_1\n",
      "3) relevance_2\n",
      "\n",
      "\n",
      "Data is ready to be annotated using gpt_annotate()!\n",
      "\n",
      "Glimpse of your data:\n",
      "Shape of data:  (1212, 6)\n",
      "   unique_id                                               text  relevance_0  \\\n",
      "0          0                         Thank you, Mr. President .            1   \n",
      "1          1   On beha lf of the government of Japan , I wou...            1   \n",
      "2          2   I would also like to expr ess my d eepest con...            1   \n",
      "3          3   Mr. President:  A fair and effective framewor...            0   \n",
      "4          4   In this regard, Japan firmly supports the est...            0   \n",
      "\n",
      "   relevance_1  relevance_2                                          llm_query  \n",
      "0            0            0                    0  Thank you, Mr. President .\\n  \n",
      "1            0            0  1  On beha lf of the government of Japan , I w...  \n",
      "2            0            0  2  I would also like to expr ess my d eepest c...  \n",
      "3            0            1  3  Mr. President:  A fair and effective framew...  \n",
      "4            1            0  4  In this regard, Japan firmly supports the e...  \n"
     ]
    }
   ],
   "source": [
    "# Prepare the data for annotation\n",
    "# Preparation is done with GPT-3.5-turbo - can be altered hardcoded\n",
    "text_to_annotate = gpt_annotate.prepare_data(text_to_annotate, codebook, key, prep_codebook=True)"
   ]
  },
  {
   "cell_type": "code",
   "execution_count": 10,
   "outputs": [
    {
     "name": "stdout",
     "output_type": "stream",
     "text": [
      "You are about to annotate 1212 text samples and the number of iterations is set to 5\n",
      "Estimated cost range in US Dollars: 0.82 - 1.0\n",
      "Estimated minutes to run gpt_annotate(): 52.98 - 98.4\n",
      "Please note that these are rough estimates.\n",
      "\n",
      "iteration:  1 completed\n",
      "iteration:  2 completed\n",
      "iteration:  3 completed\n",
      "iteration:  4 completed\n",
      "iteration:  5 completed\n"
     ]
    }
   ],
   "source": [
    "# Annotate the data (returns 4 outputs)\n",
    "gpt_out_all, gpt_out_final, performance, incorrect =  gpt_annotate.gpt_annotate(text_to_annotate, codebook, key, num_iterations = 5, model = \"gpt-3.5-turbo\", temperature = 0.6, batch_size = 20, human_labels = True,  data_prep_warning = False, time_cost_warning = True)"
   ],
   "metadata": {
    "collapsed": false,
    "ExecuteTime": {
     "start_time": "2024-05-21T09:31:54.821322Z",
     "end_time": "2024-05-21T09:57:33.251891Z"
    }
   }
  },
  {
   "cell_type": "code",
   "execution_count": 11,
   "outputs": [
    {
     "data": {
      "text/plain": "      Category  Accuracy  Precision    Recall        F1\n0  relevance_0  0.508861   0.818493  0.311198  0.450943\n1  relevance_1  0.613502   0.237500  0.553398  0.332362\n2  relevance_2  0.699578   0.265372  0.388626  0.315385",
      "text/html": "<div>\n<style scoped>\n    .dataframe tbody tr th:only-of-type {\n        vertical-align: middle;\n    }\n\n    .dataframe tbody tr th {\n        vertical-align: top;\n    }\n\n    .dataframe thead th {\n        text-align: right;\n    }\n</style>\n<table border=\"1\" class=\"dataframe\">\n  <thead>\n    <tr style=\"text-align: right;\">\n      <th></th>\n      <th>Category</th>\n      <th>Accuracy</th>\n      <th>Precision</th>\n      <th>Recall</th>\n      <th>F1</th>\n    </tr>\n  </thead>\n  <tbody>\n    <tr>\n      <th>0</th>\n      <td>relevance_0</td>\n      <td>0.508861</td>\n      <td>0.818493</td>\n      <td>0.311198</td>\n      <td>0.450943</td>\n    </tr>\n    <tr>\n      <th>1</th>\n      <td>relevance_1</td>\n      <td>0.613502</td>\n      <td>0.237500</td>\n      <td>0.553398</td>\n      <td>0.332362</td>\n    </tr>\n    <tr>\n      <th>2</th>\n      <td>relevance_2</td>\n      <td>0.699578</td>\n      <td>0.265372</td>\n      <td>0.388626</td>\n      <td>0.315385</td>\n    </tr>\n  </tbody>\n</table>\n</div>"
     },
     "execution_count": 11,
     "metadata": {},
     "output_type": "execute_result"
    }
   ],
   "source": [
    "# Results updated gpt_annotate to alter all non binary elements - hopefully problem fixed. - let op, output is not specified!\n",
    "performance"
   ],
   "metadata": {
    "collapsed": false,
    "ExecuteTime": {
     "start_time": "2024-05-21T10:03:43.866099Z",
     "end_time": "2024-05-21T10:03:43.911677Z"
    }
   }
  },
  {
   "cell_type": "code",
   "execution_count": 21,
   "outputs": [
    {
     "data": {
      "text/plain": "      Category  Accuracy  Precision    Recall        F1\n0  principle_0  0.215035   1.000000  0.047720  0.091093\n1  principle_1  0.972902   0.000000  0.000000  0.000000\n2  principle_2  0.940559   0.000000  0.000000  0.000000\n3  principle_3  0.930070   0.166667  0.107143  0.130435\n4  principle_4  0.926353   0.205128  0.133333  0.161616\n5  principle_5  0.991259   0.000000  0.000000  0.000000\n6  principle_6  0.969406   0.027778  1.000000  0.054054",
      "text/html": "<div>\n<style scoped>\n    .dataframe tbody tr th:only-of-type {\n        vertical-align: middle;\n    }\n\n    .dataframe tbody tr th {\n        vertical-align: top;\n    }\n\n    .dataframe thead th {\n        text-align: right;\n    }\n</style>\n<table border=\"1\" class=\"dataframe\">\n  <thead>\n    <tr style=\"text-align: right;\">\n      <th></th>\n      <th>Category</th>\n      <th>Accuracy</th>\n      <th>Precision</th>\n      <th>Recall</th>\n      <th>F1</th>\n    </tr>\n  </thead>\n  <tbody>\n    <tr>\n      <th>0</th>\n      <td>principle_0</td>\n      <td>0.215035</td>\n      <td>1.000000</td>\n      <td>0.047720</td>\n      <td>0.091093</td>\n    </tr>\n    <tr>\n      <th>1</th>\n      <td>principle_1</td>\n      <td>0.972902</td>\n      <td>0.000000</td>\n      <td>0.000000</td>\n      <td>0.000000</td>\n    </tr>\n    <tr>\n      <th>2</th>\n      <td>principle_2</td>\n      <td>0.940559</td>\n      <td>0.000000</td>\n      <td>0.000000</td>\n      <td>0.000000</td>\n    </tr>\n    <tr>\n      <th>3</th>\n      <td>principle_3</td>\n      <td>0.930070</td>\n      <td>0.166667</td>\n      <td>0.107143</td>\n      <td>0.130435</td>\n    </tr>\n    <tr>\n      <th>4</th>\n      <td>principle_4</td>\n      <td>0.926353</td>\n      <td>0.205128</td>\n      <td>0.133333</td>\n      <td>0.161616</td>\n    </tr>\n    <tr>\n      <th>5</th>\n      <td>principle_5</td>\n      <td>0.991259</td>\n      <td>0.000000</td>\n      <td>0.000000</td>\n      <td>0.000000</td>\n    </tr>\n    <tr>\n      <th>6</th>\n      <td>principle_6</td>\n      <td>0.969406</td>\n      <td>0.027778</td>\n      <td>1.000000</td>\n      <td>0.054054</td>\n    </tr>\n  </tbody>\n</table>\n</div>"
     },
     "execution_count": 21,
     "metadata": {},
     "output_type": "execute_result"
    }
   ],
   "source": [
    "performance"
   ],
   "metadata": {
    "collapsed": false,
    "ExecuteTime": {
     "start_time": "2024-05-19T16:20:45.167303Z",
     "end_time": "2024-05-19T16:20:45.214398Z"
    }
   }
  },
  {
   "cell_type": "code",
   "execution_count": 14,
   "outputs": [
    {
     "data": {
      "text/plain": "      unique_id                                               text  \\\n0             1   On beha lf of the government of Japan , I wou...   \n1             2   I would also like to expr ess my d eepest con...   \n2             3   Mr. President:  A fair and effective framewor...   \n3             4   In this regard, Japan firmly supports the est...   \n4             5  Such a framework must be based on “nationally ...   \n...         ...                                                ...   \n1199       1205   We need a course correction, and working toge...   \n1200       1206  Together we can: • Collaborate and partner to ...   \n1201       1207   New Zealand is proud to suppor t several impo...   \n1202       1208  I am joined by New Zealand’s largest business,...   \n1203       1209  The commitment o f New Zealanders from across ...   \n\n      relevance_0_true  relevance_1_true  relevance_2_true  relevance_0_pred  \\\n0                    1                 0                 0               1.0   \n1                    1                 0                 0               0.0   \n2                    0                 0                 1               0.0   \n3                    0                 1                 0               1.0   \n4                    0                 0                 1               0.0   \n...                ...               ...               ...               ...   \n1199                 0                 0                 1               0.0   \n1200                 1                 0                 0               0.0   \n1201                 1                 0                 0               0.0   \n1202                 1                 0                 0               0.0   \n1203                 1                 0                 0               0.0   \n\n      relevance_1_pred  relevance_2_pred  consistency_relevance_0  \\\n0                  0.0               0.0                 0.714286   \n1                  0.0               1.0                 1.000000   \n2                  1.0               0.0                 1.000000   \n3                  0.0               0.0                 1.000000   \n4                  1.0               0.0                 1.000000   \n...                ...               ...                      ...   \n1199               1.0               0.0                 1.000000   \n1200               1.0               0.0                 1.000000   \n1201               1.0               0.0                 0.714286   \n1202               1.0               0.0                 0.857143   \n1203               1.0               0.0                 0.857143   \n\n      consistency_relevance_1  ...  correct_2  tp_2  tn_2  fp_2  fn_2  \\\n0                    1.000000  ...          1     0     1     0     0   \n1                    1.000000  ...          1     0     1     0     0   \n2                    1.000000  ...          0     0     0     1     0   \n3                    1.000000  ...          0     0     0     0     1   \n4                    0.714286  ...          0     0     0     1     0   \n...                       ...  ...        ...   ...   ...   ...   ...   \n1199                 0.714286  ...          0     0     0     1     0   \n1200                 0.857143  ...          0     0     0     1     0   \n1201                 0.714286  ...          0     0     0     1     0   \n1202                 0.714286  ...          0     0     0     1     0   \n1203                 0.571429  ...          0     0     0     1     0   \n\n      correct_3  tp_3  tn_3  fp_3  fn_3  \n0             1     0     1     0     0  \n1             0     0     0     1     0  \n2             0     0     0     0     1  \n3             1     0     1     0     0  \n4             0     0     0     0     1  \n...         ...   ...   ...   ...   ...  \n1199          0     0     0     0     1  \n1200          1     0     1     0     0  \n1201          1     0     1     0     0  \n1202          1     0     1     0     0  \n1203          1     0     1     0     0  \n\n[1006 rows x 26 columns]",
      "text/html": "<div>\n<style scoped>\n    .dataframe tbody tr th:only-of-type {\n        vertical-align: middle;\n    }\n\n    .dataframe tbody tr th {\n        vertical-align: top;\n    }\n\n    .dataframe thead th {\n        text-align: right;\n    }\n</style>\n<table border=\"1\" class=\"dataframe\">\n  <thead>\n    <tr style=\"text-align: right;\">\n      <th></th>\n      <th>unique_id</th>\n      <th>text</th>\n      <th>relevance_0_true</th>\n      <th>relevance_1_true</th>\n      <th>relevance_2_true</th>\n      <th>relevance_0_pred</th>\n      <th>relevance_1_pred</th>\n      <th>relevance_2_pred</th>\n      <th>consistency_relevance_0</th>\n      <th>consistency_relevance_1</th>\n      <th>...</th>\n      <th>correct_2</th>\n      <th>tp_2</th>\n      <th>tn_2</th>\n      <th>fp_2</th>\n      <th>fn_2</th>\n      <th>correct_3</th>\n      <th>tp_3</th>\n      <th>tn_3</th>\n      <th>fp_3</th>\n      <th>fn_3</th>\n    </tr>\n  </thead>\n  <tbody>\n    <tr>\n      <th>0</th>\n      <td>1</td>\n      <td>On beha lf of the government of Japan , I wou...</td>\n      <td>1</td>\n      <td>0</td>\n      <td>0</td>\n      <td>1.0</td>\n      <td>0.0</td>\n      <td>0.0</td>\n      <td>0.714286</td>\n      <td>1.000000</td>\n      <td>...</td>\n      <td>1</td>\n      <td>0</td>\n      <td>1</td>\n      <td>0</td>\n      <td>0</td>\n      <td>1</td>\n      <td>0</td>\n      <td>1</td>\n      <td>0</td>\n      <td>0</td>\n    </tr>\n    <tr>\n      <th>1</th>\n      <td>2</td>\n      <td>I would also like to expr ess my d eepest con...</td>\n      <td>1</td>\n      <td>0</td>\n      <td>0</td>\n      <td>0.0</td>\n      <td>0.0</td>\n      <td>1.0</td>\n      <td>1.000000</td>\n      <td>1.000000</td>\n      <td>...</td>\n      <td>1</td>\n      <td>0</td>\n      <td>1</td>\n      <td>0</td>\n      <td>0</td>\n      <td>0</td>\n      <td>0</td>\n      <td>0</td>\n      <td>1</td>\n      <td>0</td>\n    </tr>\n    <tr>\n      <th>2</th>\n      <td>3</td>\n      <td>Mr. President:  A fair and effective framewor...</td>\n      <td>0</td>\n      <td>0</td>\n      <td>1</td>\n      <td>0.0</td>\n      <td>1.0</td>\n      <td>0.0</td>\n      <td>1.000000</td>\n      <td>1.000000</td>\n      <td>...</td>\n      <td>0</td>\n      <td>0</td>\n      <td>0</td>\n      <td>1</td>\n      <td>0</td>\n      <td>0</td>\n      <td>0</td>\n      <td>0</td>\n      <td>0</td>\n      <td>1</td>\n    </tr>\n    <tr>\n      <th>3</th>\n      <td>4</td>\n      <td>In this regard, Japan firmly supports the est...</td>\n      <td>0</td>\n      <td>1</td>\n      <td>0</td>\n      <td>1.0</td>\n      <td>0.0</td>\n      <td>0.0</td>\n      <td>1.000000</td>\n      <td>1.000000</td>\n      <td>...</td>\n      <td>0</td>\n      <td>0</td>\n      <td>0</td>\n      <td>0</td>\n      <td>1</td>\n      <td>1</td>\n      <td>0</td>\n      <td>1</td>\n      <td>0</td>\n      <td>0</td>\n    </tr>\n    <tr>\n      <th>4</th>\n      <td>5</td>\n      <td>Such a framework must be based on “nationally ...</td>\n      <td>0</td>\n      <td>0</td>\n      <td>1</td>\n      <td>0.0</td>\n      <td>1.0</td>\n      <td>0.0</td>\n      <td>1.000000</td>\n      <td>0.714286</td>\n      <td>...</td>\n      <td>0</td>\n      <td>0</td>\n      <td>0</td>\n      <td>1</td>\n      <td>0</td>\n      <td>0</td>\n      <td>0</td>\n      <td>0</td>\n      <td>0</td>\n      <td>1</td>\n    </tr>\n    <tr>\n      <th>...</th>\n      <td>...</td>\n      <td>...</td>\n      <td>...</td>\n      <td>...</td>\n      <td>...</td>\n      <td>...</td>\n      <td>...</td>\n      <td>...</td>\n      <td>...</td>\n      <td>...</td>\n      <td>...</td>\n      <td>...</td>\n      <td>...</td>\n      <td>...</td>\n      <td>...</td>\n      <td>...</td>\n      <td>...</td>\n      <td>...</td>\n      <td>...</td>\n      <td>...</td>\n      <td>...</td>\n    </tr>\n    <tr>\n      <th>1199</th>\n      <td>1205</td>\n      <td>We need a course correction, and working toge...</td>\n      <td>0</td>\n      <td>0</td>\n      <td>1</td>\n      <td>0.0</td>\n      <td>1.0</td>\n      <td>0.0</td>\n      <td>1.000000</td>\n      <td>0.714286</td>\n      <td>...</td>\n      <td>0</td>\n      <td>0</td>\n      <td>0</td>\n      <td>1</td>\n      <td>0</td>\n      <td>0</td>\n      <td>0</td>\n      <td>0</td>\n      <td>0</td>\n      <td>1</td>\n    </tr>\n    <tr>\n      <th>1200</th>\n      <td>1206</td>\n      <td>Together we can: • Collaborate and partner to ...</td>\n      <td>1</td>\n      <td>0</td>\n      <td>0</td>\n      <td>0.0</td>\n      <td>1.0</td>\n      <td>0.0</td>\n      <td>1.000000</td>\n      <td>0.857143</td>\n      <td>...</td>\n      <td>0</td>\n      <td>0</td>\n      <td>0</td>\n      <td>1</td>\n      <td>0</td>\n      <td>1</td>\n      <td>0</td>\n      <td>1</td>\n      <td>0</td>\n      <td>0</td>\n    </tr>\n    <tr>\n      <th>1201</th>\n      <td>1207</td>\n      <td>New Zealand is proud to suppor t several impo...</td>\n      <td>1</td>\n      <td>0</td>\n      <td>0</td>\n      <td>0.0</td>\n      <td>1.0</td>\n      <td>0.0</td>\n      <td>0.714286</td>\n      <td>0.714286</td>\n      <td>...</td>\n      <td>0</td>\n      <td>0</td>\n      <td>0</td>\n      <td>1</td>\n      <td>0</td>\n      <td>1</td>\n      <td>0</td>\n      <td>1</td>\n      <td>0</td>\n      <td>0</td>\n    </tr>\n    <tr>\n      <th>1202</th>\n      <td>1208</td>\n      <td>I am joined by New Zealand’s largest business,...</td>\n      <td>1</td>\n      <td>0</td>\n      <td>0</td>\n      <td>0.0</td>\n      <td>1.0</td>\n      <td>0.0</td>\n      <td>0.857143</td>\n      <td>0.714286</td>\n      <td>...</td>\n      <td>0</td>\n      <td>0</td>\n      <td>0</td>\n      <td>1</td>\n      <td>0</td>\n      <td>1</td>\n      <td>0</td>\n      <td>1</td>\n      <td>0</td>\n      <td>0</td>\n    </tr>\n    <tr>\n      <th>1203</th>\n      <td>1209</td>\n      <td>The commitment o f New Zealanders from across ...</td>\n      <td>1</td>\n      <td>0</td>\n      <td>0</td>\n      <td>0.0</td>\n      <td>1.0</td>\n      <td>0.0</td>\n      <td>0.857143</td>\n      <td>0.571429</td>\n      <td>...</td>\n      <td>0</td>\n      <td>0</td>\n      <td>0</td>\n      <td>1</td>\n      <td>0</td>\n      <td>1</td>\n      <td>0</td>\n      <td>1</td>\n      <td>0</td>\n      <td>0</td>\n    </tr>\n  </tbody>\n</table>\n<p>1006 rows × 26 columns</p>\n</div>"
     },
     "execution_count": 14,
     "metadata": {},
     "output_type": "execute_result"
    }
   ],
   "source": [
    "incorrect"
   ],
   "metadata": {
    "collapsed": false,
    "ExecuteTime": {
     "start_time": "2024-05-19T14:07:13.304785Z",
     "end_time": "2024-05-19T14:07:13.319065Z"
    }
   }
  },
  {
   "cell_type": "markdown",
   "source": [
    "## Results - V6 relevance - T1\n",
    "Temperature: 0.6\n",
    "Batch Size: 20\n",
    "Model: gpt-3.5-turbo\n",
    "iterations: 5\n",
    "\n",
    "Observation: seems like instructions are not followed. Update codebook to specify EXTREMELY well that instructions should be followed."
   ],
   "metadata": {
    "collapsed": false
   }
  }
 ],
 "metadata": {
  "colab": {
   "provenance": []
  },
  "kernelspec": {
   "display_name": "Python 3 (ipykernel)",
   "language": "python",
   "name": "python3"
  },
  "language_info": {
   "codemirror_mode": {
    "name": "ipython",
    "version": 3
   },
   "file_extension": ".py",
   "mimetype": "text/x-python",
   "name": "python",
   "nbconvert_exporter": "python",
   "pygments_lexer": "ipython3",
   "version": "3.8.16"
  }
 },
 "nbformat": 4,
 "nbformat_minor": 4
}
