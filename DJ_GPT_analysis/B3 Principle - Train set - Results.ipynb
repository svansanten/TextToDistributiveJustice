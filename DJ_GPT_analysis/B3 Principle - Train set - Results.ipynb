{
 "cells": [
  {
   "cell_type": "code",
   "execution_count": 3,
   "outputs": [],
   "source": [
    "import numpy as np\n",
    "import pandas as pd\n",
    "import os\n",
    "import re\n",
    "import matplotlib.pyplot as plt\n",
    "import seaborn as sns\n",
    "import difflib\n",
    "from collections import Counter\n",
    "from sklearn.metrics import ConfusionMatrixDisplay, confusion_matrix, classification_report"
   ],
   "metadata": {
    "collapsed": false,
    "ExecuteTime": {
     "start_time": "2024-06-06T13:06:23.619822Z",
     "end_time": "2024-06-06T13:06:23.927194Z"
    }
   }
  },
  {
   "cell_type": "markdown",
   "source": [
    "# 1. Results B3.0\n",
    "Evaluation of the annotations of the train set for task B3"
   ],
   "metadata": {
    "collapsed": false
   }
  },
  {
   "cell_type": "markdown",
   "source": [
    "### 1. Import Results\n",
    "Results created under the same fingerprint are saved in a CSV file for each seed. All results are combined into one dataset."
   ],
   "metadata": {
    "collapsed": false
   }
  },
  {
   "cell_type": "code",
   "execution_count": 4,
   "outputs": [],
   "source": [
    "#B1.0\n",
    "path_B3 = 'STRING_RESULT_TRAIN/B3.0/all_iterations'\n",
    "\n",
    "# Open all dataframes\n",
    "S1 = pd.read_csv(f'{path_B3}/all_iterations_string_T0_3644.csv')\n",
    "S2 = pd.read_csv(f'{path_B3}/all_iterations_string_T0_3441.csv')\n",
    "S3 = pd.read_csv(f'{path_B3}/all_iterations_string_T0_280.csv')\n",
    "S4 = pd.read_csv(f'{path_B3}/all_iterations_string_T0_5991.csv')\n",
    "S5 = pd.read_csv(f'{path_B3}/all_iterations_string_T0_7917.csv')\n"
   ],
   "metadata": {
    "collapsed": false,
    "ExecuteTime": {
     "start_time": "2024-06-06T13:06:25.548071Z",
     "end_time": "2024-06-06T13:06:25.811396Z"
    }
   }
  },
  {
   "cell_type": "code",
   "execution_count": 5,
   "outputs": [],
   "source": [
    "# Combine all dataframes into one\n",
    "B3_full = pd.concat([S1, S2, S3, S4, S5], ignore_index=True)"
   ],
   "metadata": {
    "collapsed": false,
    "ExecuteTime": {
     "start_time": "2024-06-06T13:06:30.386768Z",
     "end_time": "2024-06-06T13:06:30.404893Z"
    }
   }
  },
  {
   "cell_type": "code",
   "execution_count": 6,
   "outputs": [
    {
     "data": {
      "text/plain": "(5660, 6)"
     },
     "execution_count": 6,
     "metadata": {},
     "output_type": "execute_result"
    }
   ],
   "source": [
    "# Filter rows to keep only those where the unique_id appears exactly 5 times\n",
    "filtered_B3 = B3_full.groupby('unique_id').filter(lambda x: len(x) == 5)\n",
    "filtered_B3.shape"
   ],
   "metadata": {
    "collapsed": false,
    "ExecuteTime": {
     "start_time": "2024-06-06T13:06:39.864570Z",
     "end_time": "2024-06-06T13:06:39.911332Z"
    }
   }
  },
  {
   "cell_type": "code",
   "execution_count": 7,
   "outputs": [],
   "source": [
    "# List of unique_id's that are annotated 5 times\n",
    "unique_ids = filtered_B3['unique_id'].unique().tolist()"
   ],
   "metadata": {
    "collapsed": false,
    "ExecuteTime": {
     "start_time": "2024-06-06T13:08:36.685219Z",
     "end_time": "2024-06-06T13:08:36.713096Z"
    }
   }
  },
  {
   "cell_type": "code",
   "execution_count": 8,
   "outputs": [],
   "source": [
    "# Filter all original dataframes to only include sentences that are annotated 5x by other seeds\n",
    "FB1S1 = S1[S1['unique_id'].isin(unique_ids)]\n",
    "FB1S2 = S2[S2['unique_id'].isin(unique_ids)]\n",
    "FB1S3 = S3[S3['unique_id'].isin(unique_ids)]\n",
    "FB1S4 = S4[S4['unique_id'].isin(unique_ids)]\n",
    "FB1S5 = S5[S5['unique_id'].isin(unique_ids)]"
   ],
   "metadata": {
    "collapsed": false,
    "ExecuteTime": {
     "start_time": "2024-06-06T13:08:38.895705Z",
     "end_time": "2024-06-06T13:08:38.926771Z"
    }
   }
  },
  {
   "cell_type": "code",
   "execution_count": 9,
   "outputs": [
    {
     "name": "stdout",
     "output_type": "stream",
     "text": [
      "Classification Report for S1\n",
      "                             precision    recall  f1-score      support\n",
      "egalitarian                   0.368421  0.571429  0.448000    49.000000\n",
      "general normative statement   0.098131  0.636364  0.170040    33.000000\n",
      "libertarian                   0.000000  0.000000  0.000000     1.000000\n",
      "not evaluated                 0.984321  0.607527  0.751330   930.000000\n",
      "prioritarian                  0.352941  0.677419  0.464088    62.000000\n",
      "sufficientarian               0.357143  0.714286  0.476190     7.000000\n",
      "utilitarian                   0.250000  0.660000  0.362637    50.000000\n",
      "accuracy                      0.613074  0.613074  0.613074     0.613074\n",
      "macro avg                     0.344422  0.552432  0.381755  1132.000000\n",
      "weighted avg                  0.860063  0.613074  0.685988  1132.000000\n",
      "\n",
      "\n",
      "Classification Report for S2\n",
      "                             precision    recall  f1-score      support\n",
      "egalitarian                   0.370370  0.612245  0.461538    49.000000\n",
      "general normative statement   0.089686  0.606061  0.156250    33.000000\n",
      "libertarian                   0.000000  0.000000  0.000000     1.000000\n",
      "not evaluated                 0.989305  0.596774  0.744467   930.000000\n",
      "prioritarian                  0.347826  0.645161  0.451977    62.000000\n",
      "sufficientarian               0.416667  0.714286  0.526316     7.000000\n",
      "utilitarian                   0.253623  0.700000  0.372340    50.000000\n",
      "accuracy                      0.605124  0.605124  0.605124     0.605124\n",
      "macro avg                     0.352497  0.553504  0.387556  1132.000000\n",
      "weighted avg                  0.864244  0.605124  0.680609  1132.000000\n",
      "\n",
      "\n",
      "Classification Report for S3\n",
      "                             precision    recall  f1-score      support\n",
      "egalitarian                   0.365854  0.612245  0.458015    49.000000\n",
      "general normative statement   0.090498  0.606061  0.157480    33.000000\n",
      "libertarian                   0.000000  0.000000  0.000000     1.000000\n",
      "not evaluated                 0.985915  0.602151  0.747664   930.000000\n",
      "prioritarian                  0.350427  0.661290  0.458101    62.000000\n",
      "sufficientarian               0.357143  0.714286  0.476190     7.000000\n",
      "utilitarian                   0.250000  0.640000  0.359551    50.000000\n",
      "accuracy                      0.607774  0.607774  0.607774     0.607774\n",
      "macro avg                     0.342834  0.548005  0.379572  1132.000000\n",
      "weighted avg                  0.860902  0.607774  0.682579  1132.000000\n",
      "\n",
      "\n",
      "Classification Report for S4\n",
      "                             precision    recall  f1-score     support\n",
      "egalitarian                   0.394737  0.612245  0.480000    49.00000\n",
      "general normative statement   0.097222  0.636364  0.168675    33.00000\n",
      "libertarian                   0.000000  0.000000  0.000000     1.00000\n",
      "not evaluated                 0.991023  0.593548  0.742434   930.00000\n",
      "prioritarian                  0.349593  0.693548  0.464865    62.00000\n",
      "sufficientarian               0.357143  0.714286  0.476190     7.00000\n",
      "utilitarian                   0.230769  0.660000  0.341969    50.00000\n",
      "accuracy                      0.604240  0.604240  0.604240     0.60424\n",
      "macro avg                     0.345784  0.558570  0.382019  1132.00000\n",
      "weighted avg                  0.865650  0.604240  0.679155  1132.00000\n",
      "\n",
      "\n",
      "Classification Report for S5\n",
      "                             precision    recall  f1-score      support\n",
      "egalitarian                   0.381579  0.591837  0.464000    49.000000\n",
      "general normative statement   0.101942  0.636364  0.175732    33.000000\n",
      "libertarian                   0.000000  0.000000  0.000000     1.000000\n",
      "not evaluated                 0.989619  0.615054  0.758621   930.000000\n",
      "prioritarian                  0.359649  0.661290  0.465909    62.000000\n",
      "sufficientarian               0.400000  0.857143  0.545455     7.000000\n",
      "utilitarian                   0.228571  0.640000  0.336842    50.000000\n",
      "accuracy                      0.619258  0.619258  0.619258     0.619258\n",
      "macro avg                     0.351623  0.571670  0.392366  1132.000000\n",
      "weighted avg                  0.864783  0.619258  0.692225  1132.000000\n",
      "\n",
      "\n"
     ]
    }
   ],
   "source": [
    "# Evaluate performance of individual seeds for the same sentences\n",
    "# Function to generate classification report for each dataframe\n",
    "def generate_classification_report(df, true_label_col, pred_label_col):\n",
    "    return classification_report(df[true_label_col], df[pred_label_col], output_dict=True)\n",
    "\n",
    "# Generate classification reports\n",
    "report_S1 = generate_classification_report(FB1S1, 'PRINCIPLE_x', 'PRINCIPLE_y')\n",
    "report_S2 = generate_classification_report(FB1S2, 'PRINCIPLE_x', 'PRINCIPLE_y')\n",
    "report_S3 = generate_classification_report(FB1S3, 'PRINCIPLE_x', 'PRINCIPLE_y')\n",
    "report_S4 = generate_classification_report(FB1S4, 'PRINCIPLE_x', 'PRINCIPLE_y')\n",
    "report_S5 = generate_classification_report(FB1S5, 'PRINCIPLE_x', 'PRINCIPLE_y')\n",
    "\n",
    "# Function to print the classification reports for easy comparison\n",
    "def print_classification_report(report, title):\n",
    "    print(f\"Classification Report for {title}\")\n",
    "    print(pd.DataFrame(report).transpose())\n",
    "    print(\"\\n\")\n",
    "\n",
    "# Print the classification reports\n",
    "print_classification_report(report_S1, \"S1\")\n",
    "print_classification_report(report_S2, \"S2\")\n",
    "print_classification_report(report_S3, \"S3\")\n",
    "print_classification_report(report_S4, \"S4\")\n",
    "print_classification_report(report_S5, \"S5\")"
   ],
   "metadata": {
    "collapsed": false,
    "ExecuteTime": {
     "start_time": "2024-06-06T13:08:42.156246Z",
     "end_time": "2024-06-06T13:08:42.329400Z"
    }
   }
  },
  {
   "cell_type": "markdown",
   "source": [
    "Evaluate consistency of predictions over the 5 different instances - see which sentences are not consistantly predicted.\n"
   ],
   "metadata": {
    "collapsed": false
   }
  },
  {
   "cell_type": "code",
   "execution_count": 11,
   "outputs": [
    {
     "data": {
      "text/plain": "(855, 6)"
     },
     "execution_count": 11,
     "metadata": {},
     "output_type": "execute_result"
    }
   ],
   "source": [
    "# I want to evaluate consistency\n",
    "# Print all rows where inconsequences are found per seed\n",
    "def principle_y_not_uniform(group):\n",
    "    return group['PRINCIPLE_y'].nunique() != 1\n",
    "\n",
    "\n",
    "# Group by 'ID' and filter groups\n",
    "B3_consistency = filtered_B3.groupby('unique_id').filter(principle_y_not_uniform)\n",
    "\n",
    "B3_consistency.shape"
   ],
   "metadata": {
    "collapsed": false,
    "ExecuteTime": {
     "start_time": "2024-06-06T13:10:23.440278Z",
     "end_time": "2024-06-06T13:10:23.560792Z"
    }
   }
  },
  {
   "cell_type": "markdown",
   "source": [
    "\n",
    "In combined dataframe, groupyby unique ID and take the majority label"
   ],
   "metadata": {
    "collapsed": false
   }
  },
  {
   "cell_type": "code",
   "execution_count": 12,
   "outputs": [
    {
     "data": {
      "text/plain": "      unique_id                                               text  \\\n0             0                         Thank you, Mr. President .   \n1             1   On beha lf of the government of Japan , I wou...   \n2             2   I would also like to expr ess my d eepest con...   \n3             3   Mr. President:  A fair and effective framewor...   \n4             4   In this regard, Japan firmly supports the est...   \n...         ...                                                ...   \n1127       1207   New Zealand is proud to suppor t several impo...   \n1128       1208  I am joined by New Zealand’s largest business,...   \n1129       1209  The commitment o f New Zealanders from across ...   \n1130       1210                            Thank you Mr President.   \n1131       1211                                          Kia Kaha    \n\n        PRINCIPLE_x                                          llm_query  \\\n0     not evaluated                    0  Thank you, Mr. President .\\n   \n1     not evaluated  1  On beha lf of the government of Japan , I w...   \n2     not evaluated  2  I would also like to expr ess my d eepest c...   \n3       utilitarian  3  Mr. President:  A fair and effective framew...   \n4     not evaluated  4  In this regard, Japan firmly supports the e...   \n...             ...                                                ...   \n1127  not evaluated  1207  New Zealand is proud to suppor t several...   \n1128  not evaluated  1208 I am joined by New Zealand’s largest busi...   \n1129  not evaluated  1209 The commitment o f New Zealanders from ac...   \n1130  not evaluated                    1210  Thank you Mr President.\\n   \n1131  not evaluated                                   1211 Kia Kaha \\n   \n\n      iteration    PRINCIPLE_y  \n0             1  not evaluated  \n1             1  not evaluated  \n2             1  not evaluated  \n3             1    egalitarian  \n4             1  not evaluated  \n...         ...            ...  \n1127          1  not evaluated  \n1128          1  not evaluated  \n1129          1  not evaluated  \n1130          1  not evaluated  \n1131          1  not evaluated  \n\n[1132 rows x 6 columns]",
      "text/html": "<div>\n<style scoped>\n    .dataframe tbody tr th:only-of-type {\n        vertical-align: middle;\n    }\n\n    .dataframe tbody tr th {\n        vertical-align: top;\n    }\n\n    .dataframe thead th {\n        text-align: right;\n    }\n</style>\n<table border=\"1\" class=\"dataframe\">\n  <thead>\n    <tr style=\"text-align: right;\">\n      <th></th>\n      <th>unique_id</th>\n      <th>text</th>\n      <th>PRINCIPLE_x</th>\n      <th>llm_query</th>\n      <th>iteration</th>\n      <th>PRINCIPLE_y</th>\n    </tr>\n  </thead>\n  <tbody>\n    <tr>\n      <th>0</th>\n      <td>0</td>\n      <td>Thank you, Mr. President .</td>\n      <td>not evaluated</td>\n      <td>0  Thank you, Mr. President .\\n</td>\n      <td>1</td>\n      <td>not evaluated</td>\n    </tr>\n    <tr>\n      <th>1</th>\n      <td>1</td>\n      <td>On beha lf of the government of Japan , I wou...</td>\n      <td>not evaluated</td>\n      <td>1  On beha lf of the government of Japan , I w...</td>\n      <td>1</td>\n      <td>not evaluated</td>\n    </tr>\n    <tr>\n      <th>2</th>\n      <td>2</td>\n      <td>I would also like to expr ess my d eepest con...</td>\n      <td>not evaluated</td>\n      <td>2  I would also like to expr ess my d eepest c...</td>\n      <td>1</td>\n      <td>not evaluated</td>\n    </tr>\n    <tr>\n      <th>3</th>\n      <td>3</td>\n      <td>Mr. President:  A fair and effective framewor...</td>\n      <td>utilitarian</td>\n      <td>3  Mr. President:  A fair and effective framew...</td>\n      <td>1</td>\n      <td>egalitarian</td>\n    </tr>\n    <tr>\n      <th>4</th>\n      <td>4</td>\n      <td>In this regard, Japan firmly supports the est...</td>\n      <td>not evaluated</td>\n      <td>4  In this regard, Japan firmly supports the e...</td>\n      <td>1</td>\n      <td>not evaluated</td>\n    </tr>\n    <tr>\n      <th>...</th>\n      <td>...</td>\n      <td>...</td>\n      <td>...</td>\n      <td>...</td>\n      <td>...</td>\n      <td>...</td>\n    </tr>\n    <tr>\n      <th>1127</th>\n      <td>1207</td>\n      <td>New Zealand is proud to suppor t several impo...</td>\n      <td>not evaluated</td>\n      <td>1207  New Zealand is proud to suppor t several...</td>\n      <td>1</td>\n      <td>not evaluated</td>\n    </tr>\n    <tr>\n      <th>1128</th>\n      <td>1208</td>\n      <td>I am joined by New Zealand’s largest business,...</td>\n      <td>not evaluated</td>\n      <td>1208 I am joined by New Zealand’s largest busi...</td>\n      <td>1</td>\n      <td>not evaluated</td>\n    </tr>\n    <tr>\n      <th>1129</th>\n      <td>1209</td>\n      <td>The commitment o f New Zealanders from across ...</td>\n      <td>not evaluated</td>\n      <td>1209 The commitment o f New Zealanders from ac...</td>\n      <td>1</td>\n      <td>not evaluated</td>\n    </tr>\n    <tr>\n      <th>1130</th>\n      <td>1210</td>\n      <td>Thank you Mr President.</td>\n      <td>not evaluated</td>\n      <td>1210  Thank you Mr President.\\n</td>\n      <td>1</td>\n      <td>not evaluated</td>\n    </tr>\n    <tr>\n      <th>1131</th>\n      <td>1211</td>\n      <td>Kia Kaha</td>\n      <td>not evaluated</td>\n      <td>1211 Kia Kaha \\n</td>\n      <td>1</td>\n      <td>not evaluated</td>\n    </tr>\n  </tbody>\n</table>\n<p>1132 rows × 6 columns</p>\n</div>"
     },
     "execution_count": 12,
     "metadata": {},
     "output_type": "execute_result"
    }
   ],
   "source": [
    "# Define a function to get the most frequent element\n",
    "def most_frequent(x):\n",
    "    return Counter(x).most_common(1)[0][0]\n",
    "\n",
    "# List of all columns\n",
    "all_columns = filtered_B3.columns.tolist()\n",
    "\n",
    "# Dictionary to specify aggregation functions\n",
    "agg_dict = {col: 'first' for col in all_columns if col not in ['unique_id', 'PRINCIPLE_y']}\n",
    "agg_dict['PRINCIPLE_y'] = most_frequent\n",
    "\n",
    "# Group by 'unique_id' and apply the aggregation functions\n",
    "filtered_B3_grouped = filtered_B3.groupby('unique_id').agg(agg_dict).reset_index()\n",
    "\n",
    "filtered_B3_grouped"
   ],
   "metadata": {
    "collapsed": false,
    "ExecuteTime": {
     "start_time": "2024-06-06T13:11:01.303973Z",
     "end_time": "2024-06-06T13:11:01.369165Z"
    }
   }
  },
  {
   "cell_type": "code",
   "execution_count": 13,
   "outputs": [
    {
     "name": "stdout",
     "output_type": "stream",
     "text": [
      "                             precision    recall  f1-score   support\n",
      "\n",
      "                egalitarian       0.39      0.61      0.48        49\n",
      "general normative statement       0.10      0.64      0.17        33\n",
      "                libertarian       0.00      0.00      0.00         1\n",
      "              not evaluated       0.99      0.60      0.75       930\n",
      "               prioritarian       0.35      0.66      0.46        62\n",
      "            sufficientarian       0.36      0.71      0.48         7\n",
      "                utilitarian       0.24      0.64      0.35        50\n",
      "\n",
      "                   accuracy                           0.61      1132\n",
      "                  macro avg       0.35      0.55      0.38      1132\n",
      "               weighted avg       0.86      0.61      0.68      1132\n",
      "\n"
     ]
    }
   ],
   "source": [
    "# Evaluate performance of this dataframe\n",
    "print(classification_report(filtered_B3_grouped['PRINCIPLE_x'],filtered_B3_grouped['PRINCIPLE_y']))"
   ],
   "metadata": {
    "collapsed": false,
    "ExecuteTime": {
     "start_time": "2024-06-06T13:11:09.516480Z",
     "end_time": "2024-06-06T13:11:10.354432Z"
    }
   }
  },
  {
   "cell_type": "code",
   "execution_count": 15,
   "outputs": [
    {
     "data": {
      "text/plain": "(array([0, 1, 2, 3, 4, 5, 6]),\n [Text(0, 0, 'egalitarian'),\n  Text(1, 0, 'GNS'),\n  Text(2, 0, 'libertarian'),\n  Text(3, 0, 'not evaluated'),\n  Text(4, 0, 'prioritarian'),\n  Text(5, 0, 'sufficientarian'),\n  Text(6, 0, 'utilitarian')])"
     },
     "execution_count": 15,
     "metadata": {},
     "output_type": "execute_result"
    },
    {
     "data": {
      "text/plain": "<Figure size 8000x8000 with 0 Axes>"
     },
     "metadata": {},
     "output_type": "display_data"
    },
    {
     "data": {
      "text/plain": "<Figure size 640x480 with 2 Axes>",
      "image/png": "[encoded data removed]"
     },
     "metadata": {},
     "output_type": "display_data"
    }
   ],
   "source": [
    "# Evaluate confusionmatrix for this aggregated set\n",
    "labels = ['egalitarian', 'GNS', 'libertarian', 'not evaluated','prioritarian', 'sufficientarian', 'utilitarian']\n",
    "\n",
    "plt.figure(figsize=(80, 80))\n",
    "cm = confusion_matrix(filtered_B3_grouped['PRINCIPLE_x'],filtered_B3_grouped['PRINCIPLE_y'])\n",
    "disp = ConfusionMatrixDisplay(confusion_matrix=cm, display_labels=labels)\n",
    "disp.plot(cmap=plt.cm.Blues)\n",
    "\n",
    "# Rotate x-axis and y-axis tick labels\n",
    "plt.xticks(rotation=45)"
   ],
   "metadata": {
    "collapsed": false,
    "ExecuteTime": {
     "start_time": "2024-06-06T13:13:36.872689Z",
     "end_time": "2024-06-06T13:13:37.500899Z"
    }
   }
  },
  {
   "cell_type": "markdown",
   "source": [
    "-------------------------------------------------------"
   ],
   "metadata": {
    "collapsed": false
   }
  },
  {
   "cell_type": "markdown",
   "source": [
    "# 2. Results B3.0.1"
   ],
   "metadata": {
    "collapsed": false
   }
  },
  {
   "cell_type": "markdown",
   "source": [
    "### 1. Import Results\n",
    "Results created under the same fingerprint are saved in a CSV file for each seed. All results are combined into one dataset."
   ],
   "metadata": {
    "collapsed": false
   }
  },
  {
   "cell_type": "code",
   "execution_count": 16,
   "outputs": [],
   "source": [
    "#B1.0\n",
    "path_B3 = 'STRING_RESULT/B3.0.1/all_iterations'\n",
    "\n",
    "# Open all dataframes\n",
    "S1 = pd.read_csv(f'{path_B3}/all_iterations_string_T0_3644.csv')\n",
    "S2 = pd.read_csv(f'{path_B3}/all_iterations_string_T0_3441.csv')\n",
    "S3 = pd.read_csv(f'{path_B3}/all_iterations_string_T0_280.csv')\n",
    "S4 = pd.read_csv(f'{path_B3}/all_iterations_string_T0_5991.csv')\n",
    "S5 = pd.read_csv(f'{path_B3}/all_iterations_string_T0_7917.csv')\n"
   ],
   "metadata": {
    "collapsed": false,
    "ExecuteTime": {
     "start_time": "2024-06-06T13:14:48.468919Z",
     "end_time": "2024-06-06T13:14:48.617641Z"
    }
   }
  },
  {
   "cell_type": "code",
   "execution_count": 17,
   "outputs": [],
   "source": [
    "# Combine all dataframes into one\n",
    "B3_full = pd.concat([S1, S2, S3, S4, S5], ignore_index=True)"
   ],
   "metadata": {
    "collapsed": false,
    "ExecuteTime": {
     "start_time": "2024-06-06T13:14:49.317574Z",
     "end_time": "2024-06-06T13:14:49.325173Z"
    }
   }
  },
  {
   "cell_type": "code",
   "execution_count": 18,
   "outputs": [
    {
     "data": {
      "text/plain": "(5340, 6)"
     },
     "execution_count": 18,
     "metadata": {},
     "output_type": "execute_result"
    }
   ],
   "source": [
    "# Filter rows to keep only those where the unique_id appears exactly 5 times\n",
    "filtered_B3 = B3_full.groupby('unique_id').filter(lambda x: len(x) == 5)\n",
    "filtered_B3.shape"
   ],
   "metadata": {
    "collapsed": false,
    "ExecuteTime": {
     "start_time": "2024-06-06T13:14:50.119145Z",
     "end_time": "2024-06-06T13:14:50.178507Z"
    }
   }
  },
  {
   "cell_type": "code",
   "execution_count": 19,
   "outputs": [],
   "source": [
    "# List of unique_id's that are annotated 5 times\n",
    "unique_ids = filtered_B3['unique_id'].unique().tolist()"
   ],
   "metadata": {
    "collapsed": false,
    "ExecuteTime": {
     "start_time": "2024-06-06T13:15:14.276340Z",
     "end_time": "2024-06-06T13:15:14.287516Z"
    }
   }
  },
  {
   "cell_type": "code",
   "execution_count": 20,
   "outputs": [],
   "source": [
    "# Filter all original dataframes to only include sentences that are annotated 5x by other seeds\n",
    "FB1S1 = S1[S1['unique_id'].isin(unique_ids)]\n",
    "FB1S2 = S2[S2['unique_id'].isin(unique_ids)]\n",
    "FB1S3 = S3[S3['unique_id'].isin(unique_ids)]\n",
    "FB1S4 = S4[S4['unique_id'].isin(unique_ids)]\n",
    "FB1S5 = S5[S5['unique_id'].isin(unique_ids)]"
   ],
   "metadata": {
    "collapsed": false,
    "ExecuteTime": {
     "start_time": "2024-06-06T13:15:15.109191Z",
     "end_time": "2024-06-06T13:15:15.137334Z"
    }
   }
  },
  {
   "cell_type": "code",
   "execution_count": 21,
   "outputs": [
    {
     "name": "stderr",
     "output_type": "stream",
     "text": [
      "C:\\App\\Python\\Lib\\site-packages\\sklearn\\metrics\\_classification.py:1344: UndefinedMetricWarning: Recall and F-score are ill-defined and being set to 0.0 in labels with no true samples. Use `zero_division` parameter to control this behavior.\n",
      "  _warn_prf(average, modifier, msg_start, len(result))\n",
      "C:\\App\\Python\\Lib\\site-packages\\sklearn\\metrics\\_classification.py:1344: UndefinedMetricWarning: Recall and F-score are ill-defined and being set to 0.0 in labels with no true samples. Use `zero_division` parameter to control this behavior.\n",
      "  _warn_prf(average, modifier, msg_start, len(result))\n",
      "C:\\App\\Python\\Lib\\site-packages\\sklearn\\metrics\\_classification.py:1344: UndefinedMetricWarning: Recall and F-score are ill-defined and being set to 0.0 in labels with no true samples. Use `zero_division` parameter to control this behavior.\n",
      "  _warn_prf(average, modifier, msg_start, len(result))\n",
      "C:\\App\\Python\\Lib\\site-packages\\sklearn\\metrics\\_classification.py:1344: UndefinedMetricWarning: Recall and F-score are ill-defined and being set to 0.0 in labels with no true samples. Use `zero_division` parameter to control this behavior.\n",
      "  _warn_prf(average, modifier, msg_start, len(result))\n",
      "C:\\App\\Python\\Lib\\site-packages\\sklearn\\metrics\\_classification.py:1344: UndefinedMetricWarning: Recall and F-score are ill-defined and being set to 0.0 in labels with no true samples. Use `zero_division` parameter to control this behavior.\n",
      "  _warn_prf(average, modifier, msg_start, len(result))\n",
      "C:\\App\\Python\\Lib\\site-packages\\sklearn\\metrics\\_classification.py:1344: UndefinedMetricWarning: Recall and F-score are ill-defined and being set to 0.0 in labels with no true samples. Use `zero_division` parameter to control this behavior.\n",
      "  _warn_prf(average, modifier, msg_start, len(result))\n",
      "C:\\App\\Python\\Lib\\site-packages\\sklearn\\metrics\\_classification.py:1344: UndefinedMetricWarning: Recall and F-score are ill-defined and being set to 0.0 in labels with no true samples. Use `zero_division` parameter to control this behavior.\n",
      "  _warn_prf(average, modifier, msg_start, len(result))\n",
      "C:\\App\\Python\\Lib\\site-packages\\sklearn\\metrics\\_classification.py:1344: UndefinedMetricWarning: Recall and F-score are ill-defined and being set to 0.0 in labels with no true samples. Use `zero_division` parameter to control this behavior.\n",
      "  _warn_prf(average, modifier, msg_start, len(result))\n",
      "C:\\App\\Python\\Lib\\site-packages\\sklearn\\metrics\\_classification.py:1344: UndefinedMetricWarning: Recall and F-score are ill-defined and being set to 0.0 in labels with no true samples. Use `zero_division` parameter to control this behavior.\n",
      "  _warn_prf(average, modifier, msg_start, len(result))\n",
      "C:\\App\\Python\\Lib\\site-packages\\sklearn\\metrics\\_classification.py:1344: UndefinedMetricWarning: Recall and F-score are ill-defined and being set to 0.0 in labels with no true samples. Use `zero_division` parameter to control this behavior.\n",
      "  _warn_prf(average, modifier, msg_start, len(result))\n",
      "C:\\App\\Python\\Lib\\site-packages\\sklearn\\metrics\\_classification.py:1344: UndefinedMetricWarning: Recall and F-score are ill-defined and being set to 0.0 in labels with no true samples. Use `zero_division` parameter to control this behavior.\n",
      "  _warn_prf(average, modifier, msg_start, len(result))\n",
      "C:\\App\\Python\\Lib\\site-packages\\sklearn\\metrics\\_classification.py:1344: UndefinedMetricWarning: Recall and F-score are ill-defined and being set to 0.0 in labels with no true samples. Use `zero_division` parameter to control this behavior.\n",
      "  _warn_prf(average, modifier, msg_start, len(result))\n",
      "C:\\App\\Python\\Lib\\site-packages\\sklearn\\metrics\\_classification.py:1344: UndefinedMetricWarning: Recall and F-score are ill-defined and being set to 0.0 in labels with no true samples. Use `zero_division` parameter to control this behavior.\n",
      "  _warn_prf(average, modifier, msg_start, len(result))\n",
      "C:\\App\\Python\\Lib\\site-packages\\sklearn\\metrics\\_classification.py:1344: UndefinedMetricWarning: Recall and F-score are ill-defined and being set to 0.0 in labels with no true samples. Use `zero_division` parameter to control this behavior.\n",
      "  _warn_prf(average, modifier, msg_start, len(result))\n",
      "C:\\App\\Python\\Lib\\site-packages\\sklearn\\metrics\\_classification.py:1344: UndefinedMetricWarning: Recall and F-score are ill-defined and being set to 0.0 in labels with no true samples. Use `zero_division` parameter to control this behavior.\n",
      "  _warn_prf(average, modifier, msg_start, len(result))\n"
     ]
    },
    {
     "name": "stdout",
     "output_type": "stream",
     "text": [
      "Classification Report for S1\n",
      "                             precision    recall  f1-score      support\n",
      "egalitarian                   0.288889  0.604651  0.390977    43.000000\n",
      "general normative statement   0.093525  0.406250  0.152047    32.000000\n",
      "libertarian                   0.000000  0.000000  0.000000     0.000000\n",
      "not evaluated                 0.979817  0.614499  0.755304   869.000000\n",
      "prioritarian                  0.279720  0.677966  0.396040    59.000000\n",
      "sufficientarian               0.235294  0.500000  0.320000     8.000000\n",
      "utilitarian                   0.233083  0.543860  0.326316    57.000000\n",
      "accuracy                      0.606742  0.606742  0.606742     0.606742\n",
      "macro avg                     0.301475  0.478175  0.334383  1068.000000\n",
      "weighted avg                  0.841336  0.606742  0.676557  1068.000000\n",
      "\n",
      "\n",
      "Classification Report for S2\n",
      "                             precision    recall  f1-score      support\n",
      "egalitarian                   0.295455  0.604651  0.396947    43.000000\n",
      "general normative statement   0.093333  0.437500  0.153846    32.000000\n",
      "libertarian                   0.000000  0.000000  0.000000     0.000000\n",
      "not evaluated                 0.977819  0.608746  0.750355   869.000000\n",
      "prioritarian                  0.302158  0.711864  0.424242    59.000000\n",
      "sufficientarian               0.250000  0.500000  0.333333     8.000000\n",
      "utilitarian                   0.255639  0.596491  0.357895    57.000000\n",
      "accuracy                      0.607678  0.607678  0.607678     0.607678\n",
      "macro avg                     0.310629  0.494179  0.345231  1068.000000\n",
      "weighted avg                  0.842523  0.607678  0.676168  1068.000000\n",
      "\n",
      "\n",
      "Classification Report for S3\n",
      "                             precision    recall  f1-score      support\n",
      "egalitarian                   0.316456  0.581395  0.409836    43.000000\n",
      "general normative statement   0.108280  0.531250  0.179894    32.000000\n",
      "libertarian                   0.000000  0.000000  0.000000     0.000000\n",
      "not evaluated                 0.972376  0.607595  0.747875   869.000000\n",
      "prioritarian                  0.285714  0.677966  0.402010    59.000000\n",
      "sufficientarian               0.333333  0.625000  0.434783     8.000000\n",
      "utilitarian                   0.255639  0.596491  0.357895    57.000000\n",
      "accuracy                      0.607678  0.607678  0.607678     0.607678\n",
      "macro avg                     0.324543  0.517100  0.361756  1068.000000\n",
      "weighted avg                  0.839103  0.607678  0.674981  1068.000000\n",
      "\n",
      "\n",
      "Classification Report for S4\n",
      "                             precision    recall  f1-score      support\n",
      "egalitarian                   0.300000  0.558140  0.390244    43.000000\n",
      "general normative statement   0.097561  0.500000  0.163265    32.000000\n",
      "libertarian                   0.000000  0.000000  0.000000     0.000000\n",
      "not evaluated                 0.973734  0.597238  0.740371   869.000000\n",
      "prioritarian                  0.282609  0.661017  0.395939    59.000000\n",
      "sufficientarian               0.294118  0.625000  0.400000     8.000000\n",
      "utilitarian                   0.251852  0.596491  0.354167    57.000000\n",
      "accuracy                      0.596442  0.596442  0.596442     0.596442\n",
      "macro avg                     0.314268  0.505412  0.349141  1068.000000\n",
      "weighted avg                  0.838557  0.596442  0.666793  1068.000000\n",
      "\n",
      "\n",
      "Classification Report for S5\n",
      "                             precision    recall  f1-score      support\n",
      "egalitarian                   0.303371  0.627907  0.409091    43.000000\n",
      "general normative statement   0.109589  0.500000  0.179775    32.000000\n",
      "libertarian                   0.000000  0.000000  0.000000     0.000000\n",
      "not evaluated                 0.981718  0.617952  0.758475   869.000000\n",
      "prioritarian                  0.288889  0.661017  0.402062    59.000000\n",
      "sufficientarian               0.333333  0.625000  0.434783     8.000000\n",
      "utilitarian                   0.266667  0.631579  0.375000    57.000000\n",
      "accuracy                      0.617978  0.617978  0.617978     0.617978\n",
      "macro avg                     0.326224  0.523351  0.365598  1068.000000\n",
      "weighted avg                  0.846982  0.617978  0.684488  1068.000000\n",
      "\n",
      "\n"
     ]
    }
   ],
   "source": [
    "# Evaluate performance of individual seeds for the same sentences\n",
    "# Function to generate classification report for each dataframe\n",
    "def generate_classification_report(df, true_label_col, pred_label_col):\n",
    "    return classification_report(df[true_label_col], df[pred_label_col], output_dict=True)\n",
    "\n",
    "# Generate classification reports\n",
    "report_S1 = generate_classification_report(FB1S1, 'PRINCIPLE_x', 'PRINCIPLE_y')\n",
    "report_S2 = generate_classification_report(FB1S2, 'PRINCIPLE_x', 'PRINCIPLE_y')\n",
    "report_S3 = generate_classification_report(FB1S3, 'PRINCIPLE_x', 'PRINCIPLE_y')\n",
    "report_S4 = generate_classification_report(FB1S4, 'PRINCIPLE_x', 'PRINCIPLE_y')\n",
    "report_S5 = generate_classification_report(FB1S5, 'PRINCIPLE_x', 'PRINCIPLE_y')\n",
    "\n",
    "# Function to print the classification reports for easy comparison\n",
    "def print_classification_report(report, title):\n",
    "    print(f\"Classification Report for {title}\")\n",
    "    print(pd.DataFrame(report).transpose())\n",
    "    print(\"\\n\")\n",
    "\n",
    "# Print the classification reports\n",
    "print_classification_report(report_S1, \"S1\")\n",
    "print_classification_report(report_S2, \"S2\")\n",
    "print_classification_report(report_S3, \"S3\")\n",
    "print_classification_report(report_S4, \"S4\")\n",
    "print_classification_report(report_S5, \"S5\")"
   ],
   "metadata": {
    "collapsed": false,
    "ExecuteTime": {
     "start_time": "2024-06-06T13:15:15.678659Z",
     "end_time": "2024-06-06T13:15:15.907206Z"
    }
   }
  },
  {
   "cell_type": "markdown",
   "source": [
    "Evaluate consistency of predictions over the 5 different instances - see which sentences are not consistantly predicted.\n"
   ],
   "metadata": {
    "collapsed": false
   }
  },
  {
   "cell_type": "code",
   "execution_count": 22,
   "outputs": [
    {
     "data": {
      "text/plain": "(795, 6)"
     },
     "execution_count": 22,
     "metadata": {},
     "output_type": "execute_result"
    }
   ],
   "source": [
    "# I want to evaluate consistency\n",
    "# Print all rows where inconsequences are found per seed\n",
    "def principle_y_not_uniform(group):\n",
    "    return group['PRINCIPLE_y'].nunique() != 1\n",
    "\n",
    "\n",
    "# Group by 'ID' and filter groups\n",
    "B3_consistency = filtered_B3.groupby('unique_id').filter(principle_y_not_uniform)\n",
    "\n",
    "B3_consistency.shape"
   ],
   "metadata": {
    "collapsed": false,
    "ExecuteTime": {
     "start_time": "2024-06-06T13:16:18.249737Z",
     "end_time": "2024-06-06T13:16:18.366754Z"
    }
   }
  },
  {
   "cell_type": "markdown",
   "source": [
    "\n",
    "In combined dataframe, groupyby unique ID and take the majority label"
   ],
   "metadata": {
    "collapsed": false
   }
  },
  {
   "cell_type": "code",
   "execution_count": 23,
   "outputs": [
    {
     "data": {
      "text/plain": "      unique_id                                               text  \\\n0             0                         Thank you, Mr. President .   \n1             1   On beha lf of the government of Japan , I wou...   \n2             2   I would also like to expr ess my d eepest con...   \n3             3   Mr. President:  A fair and effective framewor...   \n4             4   In this regard, Japan firmly supports the est...   \n...         ...                                                ...   \n1063       1207   New Zealand is proud to suppor t several impo...   \n1064       1208  I am joined by New Zealand’s largest business,...   \n1065       1209  The commitment o f New Zealanders from across ...   \n1066       1210                            Thank you Mr President.   \n1067       1211                                          Kia Kaha    \n\n        PRINCIPLE_x                                          llm_query  \\\n0     not evaluated                    0  Thank you, Mr. President .\\n   \n1     not evaluated  1  On beha lf of the government of Japan , I w...   \n2     not evaluated  2  I would also like to expr ess my d eepest c...   \n3       utilitarian  3  Mr. President:  A fair and effective framew...   \n4     not evaluated  4  In this regard, Japan firmly supports the e...   \n...             ...                                                ...   \n1063  not evaluated  1207  New Zealand is proud to suppor t several...   \n1064  not evaluated  1208 I am joined by New Zealand’s largest busi...   \n1065  not evaluated  1209 The commitment o f New Zealanders from ac...   \n1066  not evaluated                    1210  Thank you Mr President.\\n   \n1067  not evaluated                                   1211 Kia Kaha \\n   \n\n      iteration    PRINCIPLE_y  \n0             1  not evaluated  \n1             1  not evaluated  \n2             1  not evaluated  \n3             1    egalitarian  \n4             1  not evaluated  \n...         ...            ...  \n1063          1  not evaluated  \n1064          1  not evaluated  \n1065          1  not evaluated  \n1066          1  not evaluated  \n1067          1  not evaluated  \n\n[1068 rows x 6 columns]",
      "text/html": "<div>\n<style scoped>\n    .dataframe tbody tr th:only-of-type {\n        vertical-align: middle;\n    }\n\n    .dataframe tbody tr th {\n        vertical-align: top;\n    }\n\n    .dataframe thead th {\n        text-align: right;\n    }\n</style>\n<table border=\"1\" class=\"dataframe\">\n  <thead>\n    <tr style=\"text-align: right;\">\n      <th></th>\n      <th>unique_id</th>\n      <th>text</th>\n      <th>PRINCIPLE_x</th>\n      <th>llm_query</th>\n      <th>iteration</th>\n      <th>PRINCIPLE_y</th>\n    </tr>\n  </thead>\n  <tbody>\n    <tr>\n      <th>0</th>\n      <td>0</td>\n      <td>Thank you, Mr. President .</td>\n      <td>not evaluated</td>\n      <td>0  Thank you, Mr. President .\\n</td>\n      <td>1</td>\n      <td>not evaluated</td>\n    </tr>\n    <tr>\n      <th>1</th>\n      <td>1</td>\n      <td>On beha lf of the government of Japan , I wou...</td>\n      <td>not evaluated</td>\n      <td>1  On beha lf of the government of Japan , I w...</td>\n      <td>1</td>\n      <td>not evaluated</td>\n    </tr>\n    <tr>\n      <th>2</th>\n      <td>2</td>\n      <td>I would also like to expr ess my d eepest con...</td>\n      <td>not evaluated</td>\n      <td>2  I would also like to expr ess my d eepest c...</td>\n      <td>1</td>\n      <td>not evaluated</td>\n    </tr>\n    <tr>\n      <th>3</th>\n      <td>3</td>\n      <td>Mr. President:  A fair and effective framewor...</td>\n      <td>utilitarian</td>\n      <td>3  Mr. President:  A fair and effective framew...</td>\n      <td>1</td>\n      <td>egalitarian</td>\n    </tr>\n    <tr>\n      <th>4</th>\n      <td>4</td>\n      <td>In this regard, Japan firmly supports the est...</td>\n      <td>not evaluated</td>\n      <td>4  In this regard, Japan firmly supports the e...</td>\n      <td>1</td>\n      <td>not evaluated</td>\n    </tr>\n    <tr>\n      <th>...</th>\n      <td>...</td>\n      <td>...</td>\n      <td>...</td>\n      <td>...</td>\n      <td>...</td>\n      <td>...</td>\n    </tr>\n    <tr>\n      <th>1063</th>\n      <td>1207</td>\n      <td>New Zealand is proud to suppor t several impo...</td>\n      <td>not evaluated</td>\n      <td>1207  New Zealand is proud to suppor t several...</td>\n      <td>1</td>\n      <td>not evaluated</td>\n    </tr>\n    <tr>\n      <th>1064</th>\n      <td>1208</td>\n      <td>I am joined by New Zealand’s largest business,...</td>\n      <td>not evaluated</td>\n      <td>1208 I am joined by New Zealand’s largest busi...</td>\n      <td>1</td>\n      <td>not evaluated</td>\n    </tr>\n    <tr>\n      <th>1065</th>\n      <td>1209</td>\n      <td>The commitment o f New Zealanders from across ...</td>\n      <td>not evaluated</td>\n      <td>1209 The commitment o f New Zealanders from ac...</td>\n      <td>1</td>\n      <td>not evaluated</td>\n    </tr>\n    <tr>\n      <th>1066</th>\n      <td>1210</td>\n      <td>Thank you Mr President.</td>\n      <td>not evaluated</td>\n      <td>1210  Thank you Mr President.\\n</td>\n      <td>1</td>\n      <td>not evaluated</td>\n    </tr>\n    <tr>\n      <th>1067</th>\n      <td>1211</td>\n      <td>Kia Kaha</td>\n      <td>not evaluated</td>\n      <td>1211 Kia Kaha \\n</td>\n      <td>1</td>\n      <td>not evaluated</td>\n    </tr>\n  </tbody>\n</table>\n<p>1068 rows × 6 columns</p>\n</div>"
     },
     "execution_count": 23,
     "metadata": {},
     "output_type": "execute_result"
    }
   ],
   "source": [
    "# Define a function to get the most frequent element\n",
    "def most_frequent(x):\n",
    "    return Counter(x).most_common(1)[0][0]\n",
    "\n",
    "# List of all columns\n",
    "all_columns = filtered_B3.columns.tolist()\n",
    "\n",
    "# Dictionary to specify aggregation functions\n",
    "agg_dict = {col: 'first' for col in all_columns if col not in ['unique_id', 'PRINCIPLE_y']}\n",
    "agg_dict['PRINCIPLE_y'] = most_frequent\n",
    "\n",
    "# Group by 'unique_id' and apply the aggregation functions\n",
    "filtered_B3_grouped = filtered_B3.groupby('unique_id').agg(agg_dict).reset_index()\n",
    "\n",
    "filtered_B3_grouped"
   ],
   "metadata": {
    "collapsed": false,
    "ExecuteTime": {
     "start_time": "2024-06-06T13:16:51.443621Z",
     "end_time": "2024-06-06T13:16:51.556688Z"
    }
   }
  },
  {
   "cell_type": "code",
   "execution_count": 24,
   "outputs": [
    {
     "name": "stdout",
     "output_type": "stream",
     "text": [
      "                             precision    recall  f1-score   support\n",
      "\n",
      "                egalitarian       0.29      0.60      0.39        43\n",
      "general normative statement       0.09      0.41      0.14        32\n",
      "                libertarian       0.00      0.00      0.00         0\n",
      "              not evaluated       0.98      0.61      0.75       869\n",
      "               prioritarian       0.29      0.68      0.41        59\n",
      "            sufficientarian       0.28      0.62      0.38         8\n",
      "                utilitarian       0.25      0.58      0.35        57\n",
      "\n",
      "                   accuracy                           0.60      1068\n",
      "                  macro avg       0.31      0.50      0.35      1068\n",
      "               weighted avg       0.84      0.60      0.67      1068\n",
      "\n"
     ]
    },
    {
     "name": "stderr",
     "output_type": "stream",
     "text": [
      "C:\\App\\Python\\Lib\\site-packages\\sklearn\\metrics\\_classification.py:1344: UndefinedMetricWarning: Recall and F-score are ill-defined and being set to 0.0 in labels with no true samples. Use `zero_division` parameter to control this behavior.\n",
      "  _warn_prf(average, modifier, msg_start, len(result))\n",
      "C:\\App\\Python\\Lib\\site-packages\\sklearn\\metrics\\_classification.py:1344: UndefinedMetricWarning: Recall and F-score are ill-defined and being set to 0.0 in labels with no true samples. Use `zero_division` parameter to control this behavior.\n",
      "  _warn_prf(average, modifier, msg_start, len(result))\n",
      "C:\\App\\Python\\Lib\\site-packages\\sklearn\\metrics\\_classification.py:1344: UndefinedMetricWarning: Recall and F-score are ill-defined and being set to 0.0 in labels with no true samples. Use `zero_division` parameter to control this behavior.\n",
      "  _warn_prf(average, modifier, msg_start, len(result))\n"
     ]
    }
   ],
   "source": [
    "# Evaluate performance of this dataframe\n",
    "print(classification_report(filtered_B3_grouped['PRINCIPLE_x'],filtered_B3_grouped['PRINCIPLE_y']))"
   ],
   "metadata": {
    "collapsed": false,
    "ExecuteTime": {
     "start_time": "2024-06-06T13:16:54.624141Z",
     "end_time": "2024-06-06T13:16:54.661966Z"
    }
   }
  },
  {
   "cell_type": "code",
   "execution_count": 25,
   "outputs": [
    {
     "data": {
      "text/plain": "(array([0, 1, 2, 3, 4, 5, 6]),\n [Text(0, 0, 'egalitarian'),\n  Text(1, 0, 'GNS'),\n  Text(2, 0, 'libertarian'),\n  Text(3, 0, 'not evaluated'),\n  Text(4, 0, 'prioritarian'),\n  Text(5, 0, 'sufficientarian'),\n  Text(6, 0, 'utilitarian')])"
     },
     "execution_count": 25,
     "metadata": {},
     "output_type": "execute_result"
    },
    {
     "data": {
      "text/plain": "<Figure size 8000x8000 with 0 Axes>"
     },
     "metadata": {},
     "output_type": "display_data"
    },
    {
     "data": {
      "text/plain": "<Figure size 640x480 with 2 Axes>",
      "image/png": "[encoded data removed]"
     },
     "metadata": {},
     "output_type": "display_data"
    }
   ],
   "source": [
    "# Evaluate confusionmatrix for this aggregated set\n",
    "labels = ['egalitarian', 'GNS', 'libertarian', 'not evaluated','prioritarian', 'sufficientarian', 'utilitarian']\n",
    "\n",
    "plt.figure(figsize=(80, 80))\n",
    "cm = confusion_matrix(filtered_B3_grouped['PRINCIPLE_x'],filtered_B3_grouped['PRINCIPLE_y'])\n",
    "disp = ConfusionMatrixDisplay(confusion_matrix=cm, display_labels=labels)\n",
    "disp.plot(cmap=plt.cm.Blues)\n",
    "\n",
    "# Rotate x-axis and y-axis tick labels\n",
    "plt.xticks(rotation=45)"
   ],
   "metadata": {
    "collapsed": false,
    "ExecuteTime": {
     "start_time": "2024-06-06T13:19:17.845009Z",
     "end_time": "2024-06-06T13:19:18.449731Z"
    }
   }
  },
  {
   "cell_type": "markdown",
   "source": [
    "-------------------------------------------------------"
   ],
   "metadata": {
    "collapsed": false
   }
  },
  {
   "cell_type": "markdown",
   "source": [
    "# 3. Results B3.1"
   ],
   "metadata": {
    "collapsed": false
   }
  },
  {
   "cell_type": "markdown",
   "source": [
    "### 1. Import Results\n",
    "Results created under the same fingerprint are saved in a CSV file for each seed. All results are combined into one dataset."
   ],
   "metadata": {
    "collapsed": false
   }
  },
  {
   "cell_type": "code",
   "execution_count": 26,
   "outputs": [],
   "source": [
    "#B1.0\n",
    "path_B3 = 'STRING_RESULT/B3.1/all_iterations'\n",
    "\n",
    "# Open all dataframes\n",
    "S1 = pd.read_csv(f'{path_B3}/all_iterations_string_T0_3644.csv')\n",
    "S2 = pd.read_csv(f'{path_B3}/all_iterations_string_T0_3441.csv')\n",
    "S3 = pd.read_csv(f'{path_B3}/all_iterations_string_T0_280.csv')\n",
    "S4 = pd.read_csv(f'{path_B3}/all_iterations_string_T0_5991.csv')\n",
    "S5 = pd.read_csv(f'{path_B3}/all_iterations_string_T0_7917.csv')\n"
   ],
   "metadata": {
    "collapsed": false,
    "ExecuteTime": {
     "start_time": "2024-06-06T13:20:28.287298Z",
     "end_time": "2024-06-06T13:20:28.429931Z"
    }
   }
  },
  {
   "cell_type": "code",
   "execution_count": 32,
   "outputs": [],
   "source": [
    "# Remove principle prefix from S4\n",
    "S4['PRINCIPLE_y'] = S4['PRINCIPLE_y'].str.replace('PRINCIPLE: ',\"\")"
   ],
   "metadata": {
    "collapsed": false,
    "ExecuteTime": {
     "start_time": "2024-06-06T13:23:45.437547Z",
     "end_time": "2024-06-06T13:23:45.487953Z"
    }
   }
  },
  {
   "cell_type": "code",
   "execution_count": 33,
   "outputs": [],
   "source": [
    "# Combine all dataframes into one\n",
    "B3_full = pd.concat([S1, S2, S3, S4, S5], ignore_index=True)"
   ],
   "metadata": {
    "collapsed": false,
    "ExecuteTime": {
     "start_time": "2024-06-06T13:23:57.606937Z",
     "end_time": "2024-06-06T13:23:57.658598Z"
    }
   }
  },
  {
   "cell_type": "code",
   "execution_count": 34,
   "outputs": [
    {
     "data": {
      "text/plain": "(5860, 6)"
     },
     "execution_count": 34,
     "metadata": {},
     "output_type": "execute_result"
    }
   ],
   "source": [
    "# Filter rows to keep only those where the unique_id appears exactly 5 times\n",
    "filtered_B3 = B3_full.groupby('unique_id').filter(lambda x: len(x) == 5)\n",
    "filtered_B3.shape"
   ],
   "metadata": {
    "collapsed": false,
    "ExecuteTime": {
     "start_time": "2024-06-06T13:23:59.867288Z",
     "end_time": "2024-06-06T13:23:59.935181Z"
    }
   }
  },
  {
   "cell_type": "code",
   "execution_count": 35,
   "outputs": [],
   "source": [
    "# List of unique_id's that are annotated 5 times\n",
    "unique_ids = filtered_B3['unique_id'].unique().tolist()"
   ],
   "metadata": {
    "collapsed": false,
    "ExecuteTime": {
     "start_time": "2024-06-06T13:24:02.258379Z",
     "end_time": "2024-06-06T13:24:02.282444Z"
    }
   }
  },
  {
   "cell_type": "code",
   "execution_count": 36,
   "outputs": [],
   "source": [
    "# Filter all original dataframes to only include sentences that are annotated 5x by other seeds\n",
    "FB1S1 = S1[S1['unique_id'].isin(unique_ids)]\n",
    "FB1S2 = S2[S2['unique_id'].isin(unique_ids)]\n",
    "FB1S3 = S3[S3['unique_id'].isin(unique_ids)]\n",
    "FB1S4 = S4[S4['unique_id'].isin(unique_ids)]\n",
    "FB1S5 = S5[S5['unique_id'].isin(unique_ids)]"
   ],
   "metadata": {
    "collapsed": false,
    "ExecuteTime": {
     "start_time": "2024-06-06T13:24:03.865646Z",
     "end_time": "2024-06-06T13:24:03.894392Z"
    }
   }
  },
  {
   "cell_type": "code",
   "execution_count": 37,
   "outputs": [
    {
     "name": "stdout",
     "output_type": "stream",
     "text": [
      "Classification Report for S1\n",
      "                             precision    recall  f1-score      support\n",
      "egalitarian                   0.426667  0.615385  0.503937    52.000000\n",
      "general normative statement   0.117904  0.794118  0.205323    34.000000\n",
      "libertarian                   0.200000  1.000000  0.333333     1.000000\n",
      "not evaluated                 0.992038  0.650993  0.786120   957.000000\n",
      "prioritarian                  0.385965  0.676923  0.491620    65.000000\n",
      "sufficientarian               0.454545  0.714286  0.555556     7.000000\n",
      "utilitarian                   0.272727  0.535714  0.361446    56.000000\n",
      "accuracy                      0.650171  0.650171  0.650171     0.650171\n",
      "macro avg                     0.407121  0.712488  0.462476  1172.000000\n",
      "weighted avg                  0.869725  0.650171  0.718363  1172.000000\n",
      "\n",
      "\n",
      "Classification Report for S2\n",
      "                             precision    recall  f1-score      support\n",
      "egalitarian                   0.436620  0.596154  0.504065    52.000000\n",
      "general normative statement   0.103175  0.764706  0.181818    34.000000\n",
      "libertarian                   0.200000  1.000000  0.333333     1.000000\n",
      "not evaluated                 0.990196  0.633229  0.772467   957.000000\n",
      "prioritarian                  0.383929  0.661538  0.485876    65.000000\n",
      "sufficientarian               0.461538  0.857143  0.600000     7.000000\n",
      "utilitarian                   0.280374  0.535714  0.368098    56.000000\n",
      "accuracy                      0.633959  0.633959  0.633959     0.633959\n",
      "macro avg                     0.407976  0.721212  0.463665  1172.000000\n",
      "weighted avg                  0.868530  0.633959  0.706802  1172.000000\n",
      "\n",
      "\n",
      "Classification Report for S3\n",
      "                             precision    recall  f1-score      support\n",
      "egalitarian                   0.421053  0.615385  0.500000    52.000000\n",
      "general normative statement   0.109170  0.735294  0.190114    34.000000\n",
      "libertarian                   0.200000  1.000000  0.333333     1.000000\n",
      "not evaluated                 0.990415  0.647858  0.783323   957.000000\n",
      "prioritarian                  0.379630  0.630769  0.473988    65.000000\n",
      "sufficientarian               0.461538  0.857143  0.600000     7.000000\n",
      "utilitarian                   0.278261  0.571429  0.374269    56.000000\n",
      "accuracy                      0.645904  0.645904  0.645904     0.645904\n",
      "macro avg                     0.405724  0.722554  0.465004  1172.000000\n",
      "weighted avg                  0.867853  0.645904  0.715363  1172.000000\n",
      "\n",
      "\n",
      "Classification Report for S4\n",
      "                             precision    recall  f1-score      support\n",
      "egalitarian                   0.405063  0.615385  0.488550    52.000000\n",
      "general normative statement   0.110638  0.764706  0.193309    34.000000\n",
      "libertarian                   0.250000  1.000000  0.400000     1.000000\n",
      "not evaluated                 0.988906  0.652038  0.785894   957.000000\n",
      "prioritarian                  0.364486  0.600000  0.453488    65.000000\n",
      "sufficientarian               0.416667  0.714286  0.526316     7.000000\n",
      "utilitarian                   0.288462  0.535714  0.375000    56.000000\n",
      "accuracy                      0.645904  0.645904  0.645904     0.645904\n",
      "macro avg                     0.403460  0.697447  0.460365  1172.000000\n",
      "weighted avg                  0.865376  0.645904  0.715562  1172.000000\n",
      "\n",
      "\n",
      "Classification Report for S5\n",
      "                             precision    recall  f1-score      support\n",
      "egalitarian                   0.386667  0.557692  0.456693    52.000000\n",
      "general normative statement   0.102881  0.735294  0.180505    34.000000\n",
      "libertarian                   0.250000  1.000000  0.400000     1.000000\n",
      "not evaluated                 0.988728  0.641588  0.778200   957.000000\n",
      "prioritarian                  0.370370  0.615385  0.462428    65.000000\n",
      "sufficientarian               0.500000  0.857143  0.631579     7.000000\n",
      "utilitarian                   0.275229  0.535714  0.363636    56.000000\n",
      "accuracy                      0.635666  0.635666  0.635666     0.635666\n",
      "macro avg                     0.410554  0.706117  0.467577  1172.000000\n",
      "weighted avg                  0.864381  0.635666  0.708076  1172.000000\n",
      "\n",
      "\n"
     ]
    }
   ],
   "source": [
    "# Evaluate performance of individual seeds for the same sentences\n",
    "# Function to generate classification report for each dataframe\n",
    "def generate_classification_report(df, true_label_col, pred_label_col):\n",
    "    return classification_report(df[true_label_col], df[pred_label_col], output_dict=True)\n",
    "\n",
    "# Generate classification reports\n",
    "report_S1 = generate_classification_report(FB1S1, 'PRINCIPLE_x', 'PRINCIPLE_y')\n",
    "report_S2 = generate_classification_report(FB1S2, 'PRINCIPLE_x', 'PRINCIPLE_y')\n",
    "report_S3 = generate_classification_report(FB1S3, 'PRINCIPLE_x', 'PRINCIPLE_y')\n",
    "report_S4 = generate_classification_report(FB1S4, 'PRINCIPLE_x', 'PRINCIPLE_y')\n",
    "report_S5 = generate_classification_report(FB1S5, 'PRINCIPLE_x', 'PRINCIPLE_y')\n",
    "\n",
    "# Function to print the classification reports for easy comparison\n",
    "def print_classification_report(report, title):\n",
    "    print(f\"Classification Report for {title}\")\n",
    "    print(pd.DataFrame(report).transpose())\n",
    "    print(\"\\n\")\n",
    "\n",
    "# Print the classification reports\n",
    "print_classification_report(report_S1, \"S1\")\n",
    "print_classification_report(report_S2, \"S2\")\n",
    "print_classification_report(report_S3, \"S3\")\n",
    "print_classification_report(report_S4, \"S4\")\n",
    "print_classification_report(report_S5, \"S5\")"
   ],
   "metadata": {
    "collapsed": false,
    "ExecuteTime": {
     "start_time": "2024-06-06T13:24:07.439116Z",
     "end_time": "2024-06-06T13:24:07.657715Z"
    }
   }
  },
  {
   "cell_type": "markdown",
   "source": [
    "Evaluate consistency of predictions over the 5 different instances - see which sentences are not consistantly predicted.\n"
   ],
   "metadata": {
    "collapsed": false
   }
  },
  {
   "cell_type": "code",
   "execution_count": 38,
   "outputs": [
    {
     "data": {
      "text/plain": "(650, 6)"
     },
     "execution_count": 38,
     "metadata": {},
     "output_type": "execute_result"
    }
   ],
   "source": [
    "# I want to evaluate consistency\n",
    "# Print all rows where inconsequences are found per seed\n",
    "def principle_y_not_uniform(group):\n",
    "    return group['PRINCIPLE_y'].nunique() != 1\n",
    "\n",
    "\n",
    "# Group by 'ID' and filter groups\n",
    "B3_consistency = filtered_B3.groupby('unique_id').filter(principle_y_not_uniform)\n",
    "\n",
    "B3_consistency.shape"
   ],
   "metadata": {
    "collapsed": false,
    "ExecuteTime": {
     "start_time": "2024-06-06T13:24:22.272096Z",
     "end_time": "2024-06-06T13:24:22.451827Z"
    }
   }
  },
  {
   "cell_type": "markdown",
   "source": [
    "\n",
    "In combined dataframe, groupyby unique ID and take the majority label"
   ],
   "metadata": {
    "collapsed": false
   }
  },
  {
   "cell_type": "code",
   "execution_count": 39,
   "outputs": [
    {
     "data": {
      "text/plain": "      unique_id                                               text  \\\n0             0                         Thank you, Mr. President .   \n1             1   On beha lf of the government of Japan , I wou...   \n2             2   I would also like to expr ess my d eepest con...   \n3             3   Mr. President:  A fair and effective framewor...   \n4             4   In this regard, Japan firmly supports the est...   \n...         ...                                                ...   \n1167       1207   New Zealand is proud to suppor t several impo...   \n1168       1208  I am joined by New Zealand’s largest business,...   \n1169       1209  The commitment o f New Zealanders from across ...   \n1170       1210                            Thank you Mr President.   \n1171       1211                                          Kia Kaha    \n\n        PRINCIPLE_x                                          llm_query  \\\n0     not evaluated                    0  Thank you, Mr. President .\\n   \n1     not evaluated  1  On beha lf of the government of Japan , I w...   \n2     not evaluated  2  I would also like to expr ess my d eepest c...   \n3       utilitarian  3  Mr. President:  A fair and effective framew...   \n4     not evaluated  4  In this regard, Japan firmly supports the e...   \n...             ...                                                ...   \n1167  not evaluated  1207  New Zealand is proud to suppor t several...   \n1168  not evaluated  1208 I am joined by New Zealand’s largest busi...   \n1169  not evaluated  1209 The commitment o f New Zealanders from ac...   \n1170  not evaluated                    1210  Thank you Mr President.\\n   \n1171  not evaluated                                   1211 Kia Kaha \\n   \n\n      iteration    PRINCIPLE_y  \n0             1  not evaluated  \n1             1  not evaluated  \n2             1  not evaluated  \n3             1    egalitarian  \n4             1  not evaluated  \n...         ...            ...  \n1167          1  not evaluated  \n1168          1  not evaluated  \n1169          1  not evaluated  \n1170          1  not evaluated  \n1171          1  not evaluated  \n\n[1172 rows x 6 columns]",
      "text/html": "<div>\n<style scoped>\n    .dataframe tbody tr th:only-of-type {\n        vertical-align: middle;\n    }\n\n    .dataframe tbody tr th {\n        vertical-align: top;\n    }\n\n    .dataframe thead th {\n        text-align: right;\n    }\n</style>\n<table border=\"1\" class=\"dataframe\">\n  <thead>\n    <tr style=\"text-align: right;\">\n      <th></th>\n      <th>unique_id</th>\n      <th>text</th>\n      <th>PRINCIPLE_x</th>\n      <th>llm_query</th>\n      <th>iteration</th>\n      <th>PRINCIPLE_y</th>\n    </tr>\n  </thead>\n  <tbody>\n    <tr>\n      <th>0</th>\n      <td>0</td>\n      <td>Thank you, Mr. President .</td>\n      <td>not evaluated</td>\n      <td>0  Thank you, Mr. President .\\n</td>\n      <td>1</td>\n      <td>not evaluated</td>\n    </tr>\n    <tr>\n      <th>1</th>\n      <td>1</td>\n      <td>On beha lf of the government of Japan , I wou...</td>\n      <td>not evaluated</td>\n      <td>1  On beha lf of the government of Japan , I w...</td>\n      <td>1</td>\n      <td>not evaluated</td>\n    </tr>\n    <tr>\n      <th>2</th>\n      <td>2</td>\n      <td>I would also like to expr ess my d eepest con...</td>\n      <td>not evaluated</td>\n      <td>2  I would also like to expr ess my d eepest c...</td>\n      <td>1</td>\n      <td>not evaluated</td>\n    </tr>\n    <tr>\n      <th>3</th>\n      <td>3</td>\n      <td>Mr. President:  A fair and effective framewor...</td>\n      <td>utilitarian</td>\n      <td>3  Mr. President:  A fair and effective framew...</td>\n      <td>1</td>\n      <td>egalitarian</td>\n    </tr>\n    <tr>\n      <th>4</th>\n      <td>4</td>\n      <td>In this regard, Japan firmly supports the est...</td>\n      <td>not evaluated</td>\n      <td>4  In this regard, Japan firmly supports the e...</td>\n      <td>1</td>\n      <td>not evaluated</td>\n    </tr>\n    <tr>\n      <th>...</th>\n      <td>...</td>\n      <td>...</td>\n      <td>...</td>\n      <td>...</td>\n      <td>...</td>\n      <td>...</td>\n    </tr>\n    <tr>\n      <th>1167</th>\n      <td>1207</td>\n      <td>New Zealand is proud to suppor t several impo...</td>\n      <td>not evaluated</td>\n      <td>1207  New Zealand is proud to suppor t several...</td>\n      <td>1</td>\n      <td>not evaluated</td>\n    </tr>\n    <tr>\n      <th>1168</th>\n      <td>1208</td>\n      <td>I am joined by New Zealand’s largest business,...</td>\n      <td>not evaluated</td>\n      <td>1208 I am joined by New Zealand’s largest busi...</td>\n      <td>1</td>\n      <td>not evaluated</td>\n    </tr>\n    <tr>\n      <th>1169</th>\n      <td>1209</td>\n      <td>The commitment o f New Zealanders from across ...</td>\n      <td>not evaluated</td>\n      <td>1209 The commitment o f New Zealanders from ac...</td>\n      <td>1</td>\n      <td>not evaluated</td>\n    </tr>\n    <tr>\n      <th>1170</th>\n      <td>1210</td>\n      <td>Thank you Mr President.</td>\n      <td>not evaluated</td>\n      <td>1210  Thank you Mr President.\\n</td>\n      <td>1</td>\n      <td>not evaluated</td>\n    </tr>\n    <tr>\n      <th>1171</th>\n      <td>1211</td>\n      <td>Kia Kaha</td>\n      <td>not evaluated</td>\n      <td>1211 Kia Kaha \\n</td>\n      <td>1</td>\n      <td>not evaluated</td>\n    </tr>\n  </tbody>\n</table>\n<p>1172 rows × 6 columns</p>\n</div>"
     },
     "execution_count": 39,
     "metadata": {},
     "output_type": "execute_result"
    }
   ],
   "source": [
    "# Define a function to get the most frequent element\n",
    "def most_frequent(x):\n",
    "    return Counter(x).most_common(1)[0][0]\n",
    "\n",
    "# List of all columns\n",
    "all_columns = filtered_B3.columns.tolist()\n",
    "\n",
    "# Dictionary to specify aggregation functions\n",
    "agg_dict = {col: 'first' for col in all_columns if col not in ['unique_id', 'PRINCIPLE_y']}\n",
    "agg_dict['PRINCIPLE_y'] = most_frequent\n",
    "\n",
    "# Group by 'unique_id' and apply the aggregation functions\n",
    "filtered_B3_grouped = filtered_B3.groupby('unique_id').agg(agg_dict).reset_index()\n",
    "\n",
    "filtered_B3_grouped"
   ],
   "metadata": {
    "collapsed": false,
    "ExecuteTime": {
     "start_time": "2024-06-06T13:24:44.520145Z",
     "end_time": "2024-06-06T13:24:44.573492Z"
    }
   }
  },
  {
   "cell_type": "code",
   "execution_count": 40,
   "outputs": [
    {
     "name": "stdout",
     "output_type": "stream",
     "text": [
      "                             precision    recall  f1-score   support\n",
      "\n",
      "                egalitarian       0.41      0.60      0.48        52\n",
      "general normative statement       0.11      0.76      0.19        34\n",
      "                libertarian       0.20      1.00      0.33         1\n",
      "              not evaluated       0.99      0.65      0.78       957\n",
      "               prioritarian       0.38      0.62      0.47        65\n",
      "            sufficientarian       0.46      0.86      0.60         7\n",
      "                utilitarian       0.28      0.54      0.36        56\n",
      "\n",
      "                   accuracy                           0.64      1172\n",
      "                  macro avg       0.40      0.72      0.46      1172\n",
      "               weighted avg       0.87      0.64      0.71      1172\n",
      "\n"
     ]
    }
   ],
   "source": [
    "# Evaluate performance of this dataframe\n",
    "print(classification_report(filtered_B3_grouped['PRINCIPLE_x'],filtered_B3_grouped['PRINCIPLE_y']))"
   ],
   "metadata": {
    "collapsed": false,
    "ExecuteTime": {
     "start_time": "2024-06-06T13:24:46.832667Z",
     "end_time": "2024-06-06T13:24:46.912167Z"
    }
   }
  },
  {
   "cell_type": "code",
   "execution_count": 41,
   "outputs": [
    {
     "data": {
      "text/plain": "(array([0, 1, 2, 3, 4, 5, 6]),\n [Text(0, 0, 'egalitarian'),\n  Text(1, 0, 'GNS'),\n  Text(2, 0, 'libertarian'),\n  Text(3, 0, 'not evaluated'),\n  Text(4, 0, 'prioritarian'),\n  Text(5, 0, 'sufficientarian'),\n  Text(6, 0, 'utilitarian')])"
     },
     "execution_count": 41,
     "metadata": {},
     "output_type": "execute_result"
    },
    {
     "data": {
      "text/plain": "<Figure size 8000x8000 with 0 Axes>"
     },
     "metadata": {},
     "output_type": "display_data"
    },
    {
     "data": {
      "text/plain": "<Figure size 640x480 with 2 Axes>",
      "image/png": "[encoded data removed]"
     },
     "metadata": {},
     "output_type": "display_data"
    }
   ],
   "source": [
    "# Evaluate confusionmatrix for this aggregated set\n",
    "labels = ['egalitarian', 'GNS', 'libertarian', 'not evaluated','prioritarian', 'sufficientarian', 'utilitarian']\n",
    "\n",
    "plt.figure(figsize=(80, 80))\n",
    "cm = confusion_matrix(filtered_B3_grouped['PRINCIPLE_x'],filtered_B3_grouped['PRINCIPLE_y'])\n",
    "disp = ConfusionMatrixDisplay(confusion_matrix=cm, display_labels=labels)\n",
    "disp.plot(cmap=plt.cm.Blues)\n",
    "\n",
    "# Rotate x-axis and y-axis tick labels\n",
    "plt.xticks(rotation=45)"
   ],
   "metadata": {
    "collapsed": false,
    "ExecuteTime": {
     "start_time": "2024-06-06T13:27:06.254705Z",
     "end_time": "2024-06-06T13:27:07.242821Z"
    }
   }
  },
  {
   "cell_type": "markdown",
   "source": [
    "# 4. Results B3.1.1"
   ],
   "metadata": {
    "collapsed": false
   }
  },
  {
   "cell_type": "markdown",
   "source": [
    "### 1. Import Results\n",
    "Results created under the same fingerprint are saved in a CSV file for each seed. All results are combined into one dataset."
   ],
   "metadata": {
    "collapsed": false
   }
  },
  {
   "cell_type": "code",
   "execution_count": 42,
   "outputs": [],
   "source": [
    "#B1.0\n",
    "path_B3 = 'STRING_RESULT/B3.1.1/all_iterations'\n",
    "\n",
    "# Open all dataframes\n",
    "S1 = pd.read_csv(f'{path_B3}/all_iterations_string_T0_3644.csv')\n",
    "S2 = pd.read_csv(f'{path_B3}/all_iterations_string_T0_3441.csv')\n",
    "S3 = pd.read_csv(f'{path_B3}/all_iterations_string_T0_280.csv')\n",
    "S4 = pd.read_csv(f'{path_B3}/all_iterations_string_T0_5991.csv')\n",
    "S5 = pd.read_csv(f'{path_B3}/all_iterations_string_T0_7917.csv')\n"
   ],
   "metadata": {
    "collapsed": false,
    "ExecuteTime": {
     "start_time": "2024-06-06T13:28:48.578932Z",
     "end_time": "2024-06-06T13:28:48.746411Z"
    }
   }
  },
  {
   "cell_type": "code",
   "execution_count": 43,
   "outputs": [],
   "source": [
    "# Remove principle prefix from S4\n",
    "S4['PRINCIPLE_y'] = S4['PRINCIPLE_y'].str.replace('PRINCIPLE: ',\"\")"
   ],
   "metadata": {
    "collapsed": false,
    "ExecuteTime": {
     "start_time": "2024-06-06T13:28:49.364246Z",
     "end_time": "2024-06-06T13:28:49.365779Z"
    }
   }
  },
  {
   "cell_type": "code",
   "execution_count": 44,
   "outputs": [],
   "source": [
    "# Combine all dataframes into one\n",
    "B3_full = pd.concat([S1, S2, S3, S4, S5], ignore_index=True)"
   ],
   "metadata": {
    "collapsed": false,
    "ExecuteTime": {
     "start_time": "2024-06-06T13:28:50.188917Z",
     "end_time": "2024-06-06T13:28:50.237185Z"
    }
   }
  },
  {
   "cell_type": "code",
   "execution_count": 45,
   "outputs": [
    {
     "data": {
      "text/plain": "(4160, 6)"
     },
     "execution_count": 45,
     "metadata": {},
     "output_type": "execute_result"
    }
   ],
   "source": [
    "# Filter rows to keep only those where the unique_id appears exactly 5 times\n",
    "filtered_B3 = B3_full.groupby('unique_id').filter(lambda x: len(x) == 5)\n",
    "filtered_B3.shape"
   ],
   "metadata": {
    "collapsed": false,
    "ExecuteTime": {
     "start_time": "2024-06-06T13:28:50.765253Z",
     "end_time": "2024-06-06T13:28:50.857308Z"
    }
   }
  },
  {
   "cell_type": "code",
   "execution_count": 46,
   "outputs": [],
   "source": [
    "# List of unique_id's that are annotated 5 times\n",
    "unique_ids = filtered_B3['unique_id'].unique().tolist()"
   ],
   "metadata": {
    "collapsed": false,
    "ExecuteTime": {
     "start_time": "2024-06-06T13:30:08.475385Z",
     "end_time": "2024-06-06T13:30:08.512866Z"
    }
   }
  },
  {
   "cell_type": "code",
   "execution_count": 47,
   "outputs": [],
   "source": [
    "# Filter all original dataframes to only include sentences that are annotated 5x by other seeds\n",
    "FB1S1 = S1[S1['unique_id'].isin(unique_ids)]\n",
    "FB1S2 = S2[S2['unique_id'].isin(unique_ids)]\n",
    "FB1S3 = S3[S3['unique_id'].isin(unique_ids)]\n",
    "FB1S4 = S4[S4['unique_id'].isin(unique_ids)]\n",
    "FB1S5 = S5[S5['unique_id'].isin(unique_ids)]"
   ],
   "metadata": {
    "collapsed": false,
    "ExecuteTime": {
     "start_time": "2024-06-06T13:30:09.467092Z",
     "end_time": "2024-06-06T13:30:09.481530Z"
    }
   }
  },
  {
   "cell_type": "code",
   "execution_count": 48,
   "outputs": [
    {
     "name": "stdout",
     "output_type": "stream",
     "text": [
      "Classification Report for S1\n",
      "                             precision    recall  f1-score     support\n",
      "egalitarian                   0.377358  0.645161  0.476190   31.000000\n",
      "general normative statement   0.125828  0.703704  0.213483   27.000000\n",
      "libertarian                   0.000000  0.000000  0.000000    0.000000\n",
      "not evaluated                 0.982906  0.675477  0.800696  681.000000\n",
      "prioritarian                  0.333333  0.530612  0.409449   49.000000\n",
      "sufficientarian               0.300000  0.600000  0.400000    5.000000\n",
      "utilitarian                   0.357143  0.641026  0.458716   39.000000\n",
      "accuracy                      0.664663  0.664663  0.664663    0.664663\n",
      "macro avg                     0.353795  0.542283  0.394076  832.000000\n",
      "weighted avg                  0.860837  0.664663  0.728069  832.000000\n",
      "\n",
      "\n",
      "Classification Report for S2\n",
      "                             precision    recall  f1-score     support\n",
      "egalitarian                   0.392157  0.645161  0.487805   31.000000\n",
      "general normative statement   0.129252  0.703704  0.218391   27.000000\n",
      "libertarian                   0.000000  0.000000  0.000000    0.000000\n",
      "not evaluated                 0.980728  0.672540  0.797909  681.000000\n",
      "prioritarian                  0.317073  0.530612  0.396947   49.000000\n",
      "sufficientarian               0.230769  0.600000  0.333333    5.000000\n",
      "utilitarian                   0.376812  0.666667  0.481481   39.000000\n",
      "accuracy                      0.663462  0.663462  0.663462    0.663462\n",
      "macro avg                     0.346684  0.545526  0.387981  832.000000\n",
      "weighted avg                  0.859265  0.663462  0.726310  832.000000\n",
      "\n",
      "\n",
      "Classification Report for S3\n",
      "                             precision    recall  f1-score     support\n",
      "egalitarian                   0.350000  0.677419  0.461538   31.000000\n",
      "general normative statement   0.111111  0.592593  0.187135   27.000000\n",
      "libertarian                   0.000000  0.000000  0.000000    0.000000\n",
      "not evaluated                 0.982759  0.669604  0.796507  681.000000\n",
      "prioritarian                  0.304878  0.510204  0.381679   49.000000\n",
      "sufficientarian               0.272727  0.600000  0.375000    5.000000\n",
      "utilitarian                   0.376812  0.666667  0.481481   39.000000\n",
      "accuracy                      0.657452  0.657452  0.657452    0.657452\n",
      "macro avg                     0.342612  0.530927  0.383334  832.000000\n",
      "weighted avg                  0.858302  0.657452  0.722520  832.000000\n",
      "\n",
      "\n",
      "Classification Report for S4\n",
      "                             precision    recall  f1-score     support\n",
      "egalitarian                   0.380000  0.612903  0.469136   31.000000\n",
      "general normative statement   0.130137  0.703704  0.219653   27.000000\n",
      "libertarian                   0.000000  0.000000  0.000000    0.000000\n",
      "not evaluated                 0.976645  0.675477  0.798611  681.000000\n",
      "prioritarian                  0.300000  0.489796  0.372093   49.000000\n",
      "sufficientarian               0.230769  0.600000  0.333333    5.000000\n",
      "utilitarian                   0.362319  0.641026  0.462963   39.000000\n",
      "accuracy                      0.661058  0.661058  0.661058    0.661058\n",
      "macro avg                     0.339981  0.531844  0.379398  832.000000\n",
      "weighted avg                  0.853814  0.661058  0.723898  832.000000\n",
      "\n",
      "\n",
      "Classification Report for S5\n",
      "                             precision    recall  f1-score     support\n",
      "egalitarian                   0.384615  0.645161  0.481928   31.000000\n",
      "general normative statement   0.130137  0.703704  0.219653   27.000000\n",
      "libertarian                   0.000000  0.000000  0.000000    0.000000\n",
      "not evaluated                 0.982495  0.659325  0.789104  681.000000\n",
      "prioritarian                  0.303371  0.551020  0.391304   49.000000\n",
      "sufficientarian               0.300000  0.600000  0.400000    5.000000\n",
      "utilitarian                   0.346667  0.666667  0.456140   39.000000\n",
      "accuracy                      0.653846  0.653846  0.653846    0.653846\n",
      "macro avg                     0.349612  0.546554  0.391161  832.000000\n",
      "weighted avg                  0.858655  0.653846  0.717805  832.000000\n",
      "\n",
      "\n"
     ]
    },
    {
     "name": "stderr",
     "output_type": "stream",
     "text": [
      "C:\\App\\Python\\Lib\\site-packages\\sklearn\\metrics\\_classification.py:1344: UndefinedMetricWarning: Recall and F-score are ill-defined and being set to 0.0 in labels with no true samples. Use `zero_division` parameter to control this behavior.\n",
      "  _warn_prf(average, modifier, msg_start, len(result))\n",
      "C:\\App\\Python\\Lib\\site-packages\\sklearn\\metrics\\_classification.py:1344: UndefinedMetricWarning: Recall and F-score are ill-defined and being set to 0.0 in labels with no true samples. Use `zero_division` parameter to control this behavior.\n",
      "  _warn_prf(average, modifier, msg_start, len(result))\n",
      "C:\\App\\Python\\Lib\\site-packages\\sklearn\\metrics\\_classification.py:1344: UndefinedMetricWarning: Recall and F-score are ill-defined and being set to 0.0 in labels with no true samples. Use `zero_division` parameter to control this behavior.\n",
      "  _warn_prf(average, modifier, msg_start, len(result))\n",
      "C:\\App\\Python\\Lib\\site-packages\\sklearn\\metrics\\_classification.py:1344: UndefinedMetricWarning: Recall and F-score are ill-defined and being set to 0.0 in labels with no true samples. Use `zero_division` parameter to control this behavior.\n",
      "  _warn_prf(average, modifier, msg_start, len(result))\n",
      "C:\\App\\Python\\Lib\\site-packages\\sklearn\\metrics\\_classification.py:1344: UndefinedMetricWarning: Recall and F-score are ill-defined and being set to 0.0 in labels with no true samples. Use `zero_division` parameter to control this behavior.\n",
      "  _warn_prf(average, modifier, msg_start, len(result))\n",
      "C:\\App\\Python\\Lib\\site-packages\\sklearn\\metrics\\_classification.py:1344: UndefinedMetricWarning: Recall and F-score are ill-defined and being set to 0.0 in labels with no true samples. Use `zero_division` parameter to control this behavior.\n",
      "  _warn_prf(average, modifier, msg_start, len(result))\n",
      "C:\\App\\Python\\Lib\\site-packages\\sklearn\\metrics\\_classification.py:1344: UndefinedMetricWarning: Recall and F-score are ill-defined and being set to 0.0 in labels with no true samples. Use `zero_division` parameter to control this behavior.\n",
      "  _warn_prf(average, modifier, msg_start, len(result))\n",
      "C:\\App\\Python\\Lib\\site-packages\\sklearn\\metrics\\_classification.py:1344: UndefinedMetricWarning: Recall and F-score are ill-defined and being set to 0.0 in labels with no true samples. Use `zero_division` parameter to control this behavior.\n",
      "  _warn_prf(average, modifier, msg_start, len(result))\n",
      "C:\\App\\Python\\Lib\\site-packages\\sklearn\\metrics\\_classification.py:1344: UndefinedMetricWarning: Recall and F-score are ill-defined and being set to 0.0 in labels with no true samples. Use `zero_division` parameter to control this behavior.\n",
      "  _warn_prf(average, modifier, msg_start, len(result))\n",
      "C:\\App\\Python\\Lib\\site-packages\\sklearn\\metrics\\_classification.py:1344: UndefinedMetricWarning: Recall and F-score are ill-defined and being set to 0.0 in labels with no true samples. Use `zero_division` parameter to control this behavior.\n",
      "  _warn_prf(average, modifier, msg_start, len(result))\n",
      "C:\\App\\Python\\Lib\\site-packages\\sklearn\\metrics\\_classification.py:1344: UndefinedMetricWarning: Recall and F-score are ill-defined and being set to 0.0 in labels with no true samples. Use `zero_division` parameter to control this behavior.\n",
      "  _warn_prf(average, modifier, msg_start, len(result))\n",
      "C:\\App\\Python\\Lib\\site-packages\\sklearn\\metrics\\_classification.py:1344: UndefinedMetricWarning: Recall and F-score are ill-defined and being set to 0.0 in labels with no true samples. Use `zero_division` parameter to control this behavior.\n",
      "  _warn_prf(average, modifier, msg_start, len(result))\n",
      "C:\\App\\Python\\Lib\\site-packages\\sklearn\\metrics\\_classification.py:1344: UndefinedMetricWarning: Recall and F-score are ill-defined and being set to 0.0 in labels with no true samples. Use `zero_division` parameter to control this behavior.\n",
      "  _warn_prf(average, modifier, msg_start, len(result))\n",
      "C:\\App\\Python\\Lib\\site-packages\\sklearn\\metrics\\_classification.py:1344: UndefinedMetricWarning: Recall and F-score are ill-defined and being set to 0.0 in labels with no true samples. Use `zero_division` parameter to control this behavior.\n",
      "  _warn_prf(average, modifier, msg_start, len(result))\n",
      "C:\\App\\Python\\Lib\\site-packages\\sklearn\\metrics\\_classification.py:1344: UndefinedMetricWarning: Recall and F-score are ill-defined and being set to 0.0 in labels with no true samples. Use `zero_division` parameter to control this behavior.\n",
      "  _warn_prf(average, modifier, msg_start, len(result))\n"
     ]
    }
   ],
   "source": [
    "# Evaluate performance of individual seeds for the same sentences\n",
    "# Function to generate classification report for each dataframe\n",
    "def generate_classification_report(df, true_label_col, pred_label_col):\n",
    "    return classification_report(df[true_label_col], df[pred_label_col], output_dict=True)\n",
    "\n",
    "# Generate classification reports\n",
    "report_S1 = generate_classification_report(FB1S1, 'PRINCIPLE_x', 'PRINCIPLE_y')\n",
    "report_S2 = generate_classification_report(FB1S2, 'PRINCIPLE_x', 'PRINCIPLE_y')\n",
    "report_S3 = generate_classification_report(FB1S3, 'PRINCIPLE_x', 'PRINCIPLE_y')\n",
    "report_S4 = generate_classification_report(FB1S4, 'PRINCIPLE_x', 'PRINCIPLE_y')\n",
    "report_S5 = generate_classification_report(FB1S5, 'PRINCIPLE_x', 'PRINCIPLE_y')\n",
    "\n",
    "# Function to print the classification reports for easy comparison\n",
    "def print_classification_report(report, title):\n",
    "    print(f\"Classification Report for {title}\")\n",
    "    print(pd.DataFrame(report).transpose())\n",
    "    print(\"\\n\")\n",
    "\n",
    "# Print the classification reports\n",
    "print_classification_report(report_S1, \"S1\")\n",
    "print_classification_report(report_S2, \"S2\")\n",
    "print_classification_report(report_S3, \"S3\")\n",
    "print_classification_report(report_S4, \"S4\")\n",
    "print_classification_report(report_S5, \"S5\")"
   ],
   "metadata": {
    "collapsed": false,
    "ExecuteTime": {
     "start_time": "2024-06-06T13:30:10.453910Z",
     "end_time": "2024-06-06T13:30:10.637627Z"
    }
   }
  },
  {
   "cell_type": "markdown",
   "source": [
    "Evaluate consistency of predictions over the 5 different instances - see which sentences are not consistantly predicted.\n"
   ],
   "metadata": {
    "collapsed": false
   }
  },
  {
   "cell_type": "code",
   "execution_count": 49,
   "outputs": [
    {
     "data": {
      "text/plain": "(465, 6)"
     },
     "execution_count": 49,
     "metadata": {},
     "output_type": "execute_result"
    }
   ],
   "source": [
    "# I want to evaluate consistency\n",
    "# Print all rows where inconsequences are found per seed\n",
    "def principle_y_not_uniform(group):\n",
    "    return group['PRINCIPLE_y'].nunique() != 1\n",
    "\n",
    "\n",
    "# Group by 'ID' and filter groups\n",
    "B3_consistency = filtered_B3.groupby('unique_id').filter(principle_y_not_uniform)\n",
    "\n",
    "B3_consistency.shape"
   ],
   "metadata": {
    "collapsed": false,
    "ExecuteTime": {
     "start_time": "2024-06-06T13:30:35.101513Z",
     "end_time": "2024-06-06T13:30:35.193059Z"
    }
   }
  },
  {
   "cell_type": "markdown",
   "source": [
    "\n",
    "In combined dataframe, groupyby unique ID and take the majority label"
   ],
   "metadata": {
    "collapsed": false
   }
  },
  {
   "cell_type": "code",
   "execution_count": 50,
   "outputs": [
    {
     "data": {
      "text/plain": "     unique_id                                               text  \\\n0           20   Japan will establish a low carbon society thr...   \n1           21   We will strategically promote mitigation meas...   \n2           22   We will enhance development and demonstration...   \n3           23      Japan is hosting the IPCC session next March.   \n4           24   Using that opportunity, we will launch a new ...   \n..         ...                                                ...   \n827       1207   New Zealand is proud to suppor t several impo...   \n828       1208  I am joined by New Zealand’s largest business,...   \n829       1209  The commitment o f New Zealanders from across ...   \n830       1210                            Thank you Mr President.   \n831       1211                                          Kia Kaha    \n\n       PRINCIPLE_x                                          llm_query  \\\n0    not evaluated  20  Japan will establish a low carbon society ...   \n1    not evaluated  21  We will strategically promote mitigation m...   \n2    not evaluated  22  We will enhance development and demonstrat...   \n3    not evaluated  23  Japan is hosting the IPCC session next Mar...   \n4    not evaluated  24  Using that opportunity, we will launch a n...   \n..             ...                                                ...   \n827  not evaluated  1207  New Zealand is proud to suppor t several...   \n828  not evaluated  1208 I am joined by New Zealand’s largest busi...   \n829  not evaluated  1209 The commitment o f New Zealanders from ac...   \n830  not evaluated                    1210  Thank you Mr President.\\n   \n831  not evaluated                                   1211 Kia Kaha \\n   \n\n     iteration    PRINCIPLE_y  \n0            1  not evaluated  \n1            1  not evaluated  \n2            1  not evaluated  \n3            1  not evaluated  \n4            1  not evaluated  \n..         ...            ...  \n827          1  not evaluated  \n828          1  not evaluated  \n829          1  not evaluated  \n830          1  not evaluated  \n831          1  not evaluated  \n\n[832 rows x 6 columns]",
      "text/html": "<div>\n<style scoped>\n    .dataframe tbody tr th:only-of-type {\n        vertical-align: middle;\n    }\n\n    .dataframe tbody tr th {\n        vertical-align: top;\n    }\n\n    .dataframe thead th {\n        text-align: right;\n    }\n</style>\n<table border=\"1\" class=\"dataframe\">\n  <thead>\n    <tr style=\"text-align: right;\">\n      <th></th>\n      <th>unique_id</th>\n      <th>text</th>\n      <th>PRINCIPLE_x</th>\n      <th>llm_query</th>\n      <th>iteration</th>\n      <th>PRINCIPLE_y</th>\n    </tr>\n  </thead>\n  <tbody>\n    <tr>\n      <th>0</th>\n      <td>20</td>\n      <td>Japan will establish a low carbon society thr...</td>\n      <td>not evaluated</td>\n      <td>20  Japan will establish a low carbon society ...</td>\n      <td>1</td>\n      <td>not evaluated</td>\n    </tr>\n    <tr>\n      <th>1</th>\n      <td>21</td>\n      <td>We will strategically promote mitigation meas...</td>\n      <td>not evaluated</td>\n      <td>21  We will strategically promote mitigation m...</td>\n      <td>1</td>\n      <td>not evaluated</td>\n    </tr>\n    <tr>\n      <th>2</th>\n      <td>22</td>\n      <td>We will enhance development and demonstration...</td>\n      <td>not evaluated</td>\n      <td>22  We will enhance development and demonstrat...</td>\n      <td>1</td>\n      <td>not evaluated</td>\n    </tr>\n    <tr>\n      <th>3</th>\n      <td>23</td>\n      <td>Japan is hosting the IPCC session next March.</td>\n      <td>not evaluated</td>\n      <td>23  Japan is hosting the IPCC session next Mar...</td>\n      <td>1</td>\n      <td>not evaluated</td>\n    </tr>\n    <tr>\n      <th>4</th>\n      <td>24</td>\n      <td>Using that opportunity, we will launch a new ...</td>\n      <td>not evaluated</td>\n      <td>24  Using that opportunity, we will launch a n...</td>\n      <td>1</td>\n      <td>not evaluated</td>\n    </tr>\n    <tr>\n      <th>...</th>\n      <td>...</td>\n      <td>...</td>\n      <td>...</td>\n      <td>...</td>\n      <td>...</td>\n      <td>...</td>\n    </tr>\n    <tr>\n      <th>827</th>\n      <td>1207</td>\n      <td>New Zealand is proud to suppor t several impo...</td>\n      <td>not evaluated</td>\n      <td>1207  New Zealand is proud to suppor t several...</td>\n      <td>1</td>\n      <td>not evaluated</td>\n    </tr>\n    <tr>\n      <th>828</th>\n      <td>1208</td>\n      <td>I am joined by New Zealand’s largest business,...</td>\n      <td>not evaluated</td>\n      <td>1208 I am joined by New Zealand’s largest busi...</td>\n      <td>1</td>\n      <td>not evaluated</td>\n    </tr>\n    <tr>\n      <th>829</th>\n      <td>1209</td>\n      <td>The commitment o f New Zealanders from across ...</td>\n      <td>not evaluated</td>\n      <td>1209 The commitment o f New Zealanders from ac...</td>\n      <td>1</td>\n      <td>not evaluated</td>\n    </tr>\n    <tr>\n      <th>830</th>\n      <td>1210</td>\n      <td>Thank you Mr President.</td>\n      <td>not evaluated</td>\n      <td>1210  Thank you Mr President.\\n</td>\n      <td>1</td>\n      <td>not evaluated</td>\n    </tr>\n    <tr>\n      <th>831</th>\n      <td>1211</td>\n      <td>Kia Kaha</td>\n      <td>not evaluated</td>\n      <td>1211 Kia Kaha \\n</td>\n      <td>1</td>\n      <td>not evaluated</td>\n    </tr>\n  </tbody>\n</table>\n<p>832 rows × 6 columns</p>\n</div>"
     },
     "execution_count": 50,
     "metadata": {},
     "output_type": "execute_result"
    }
   ],
   "source": [
    "# Define a function to get the most frequent element\n",
    "def most_frequent(x):\n",
    "    return Counter(x).most_common(1)[0][0]\n",
    "\n",
    "# List of all columns\n",
    "all_columns = filtered_B3.columns.tolist()\n",
    "\n",
    "# Dictionary to specify aggregation functions\n",
    "agg_dict = {col: 'first' for col in all_columns if col not in ['unique_id', 'PRINCIPLE_y']}\n",
    "agg_dict['PRINCIPLE_y'] = most_frequent\n",
    "\n",
    "# Group by 'unique_id' and apply the aggregation functions\n",
    "filtered_B3_grouped = filtered_B3.groupby('unique_id').agg(agg_dict).reset_index()\n",
    "\n",
    "filtered_B3_grouped"
   ],
   "metadata": {
    "collapsed": false,
    "ExecuteTime": {
     "start_time": "2024-06-06T13:30:58.370779Z",
     "end_time": "2024-06-06T13:30:58.426205Z"
    }
   }
  },
  {
   "cell_type": "code",
   "execution_count": 51,
   "outputs": [
    {
     "name": "stdout",
     "output_type": "stream",
     "text": [
      "                             precision    recall  f1-score   support\n",
      "\n",
      "                egalitarian       0.38      0.65      0.48        31\n",
      "general normative statement       0.13      0.70      0.22        27\n",
      "                libertarian       0.00      0.00      0.00         0\n",
      "              not evaluated       0.98      0.68      0.80       681\n",
      "               prioritarian       0.30      0.49      0.37        49\n",
      "            sufficientarian       0.25      0.60      0.35         5\n",
      "                utilitarian       0.37      0.67      0.48        39\n",
      "\n",
      "                   accuracy                           0.66       832\n",
      "                  macro avg       0.34      0.54      0.39       832\n",
      "               weighted avg       0.86      0.66      0.73       832\n",
      "\n"
     ]
    },
    {
     "name": "stderr",
     "output_type": "stream",
     "text": [
      "C:\\App\\Python\\Lib\\site-packages\\sklearn\\metrics\\_classification.py:1344: UndefinedMetricWarning: Recall and F-score are ill-defined and being set to 0.0 in labels with no true samples. Use `zero_division` parameter to control this behavior.\n",
      "  _warn_prf(average, modifier, msg_start, len(result))\n",
      "C:\\App\\Python\\Lib\\site-packages\\sklearn\\metrics\\_classification.py:1344: UndefinedMetricWarning: Recall and F-score are ill-defined and being set to 0.0 in labels with no true samples. Use `zero_division` parameter to control this behavior.\n",
      "  _warn_prf(average, modifier, msg_start, len(result))\n",
      "C:\\App\\Python\\Lib\\site-packages\\sklearn\\metrics\\_classification.py:1344: UndefinedMetricWarning: Recall and F-score are ill-defined and being set to 0.0 in labels with no true samples. Use `zero_division` parameter to control this behavior.\n",
      "  _warn_prf(average, modifier, msg_start, len(result))\n"
     ]
    }
   ],
   "source": [
    "# Evaluate performance of this dataframe\n",
    "print(classification_report(filtered_B3_grouped['PRINCIPLE_x'],filtered_B3_grouped['PRINCIPLE_y']))"
   ],
   "metadata": {
    "collapsed": false,
    "ExecuteTime": {
     "start_time": "2024-06-06T13:31:00.684733Z",
     "end_time": "2024-06-06T13:31:00.743521Z"
    }
   }
  },
  {
   "cell_type": "code",
   "execution_count": 52,
   "outputs": [
    {
     "data": {
      "text/plain": "(array([0, 1, 2, 3, 4, 5, 6]),\n [Text(0, 0, 'egalitarian'),\n  Text(1, 0, 'GNS'),\n  Text(2, 0, 'libertarian'),\n  Text(3, 0, 'not evaluated'),\n  Text(4, 0, 'prioritarian'),\n  Text(5, 0, 'sufficientarian'),\n  Text(6, 0, 'utilitarian')])"
     },
     "execution_count": 52,
     "metadata": {},
     "output_type": "execute_result"
    },
    {
     "data": {
      "text/plain": "<Figure size 8000x8000 with 0 Axes>"
     },
     "metadata": {},
     "output_type": "display_data"
    },
    {
     "data": {
      "text/plain": "<Figure size 640x480 with 2 Axes>",
      "image/png": "[encoded data removed]"
     },
     "metadata": {},
     "output_type": "display_data"
    }
   ],
   "source": [
    "# Evaluate confusionmatrix for this aggregated set\n",
    "labels = ['egalitarian', 'GNS', 'libertarian', 'not evaluated','prioritarian', 'sufficientarian', 'utilitarian']\n",
    "\n",
    "plt.figure(figsize=(80, 80))\n",
    "cm = confusion_matrix(filtered_B3_grouped['PRINCIPLE_x'],filtered_B3_grouped['PRINCIPLE_y'])\n",
    "disp = ConfusionMatrixDisplay(confusion_matrix=cm, display_labels=labels)\n",
    "disp.plot(cmap=plt.cm.Blues)\n",
    "\n",
    "# Rotate x-axis and y-axis tick labels\n",
    "plt.xticks(rotation=45)"
   ],
   "metadata": {
    "collapsed": false,
    "ExecuteTime": {
     "start_time": "2024-06-06T13:33:38.892067Z",
     "end_time": "2024-06-06T13:33:39.459215Z"
    }
   }
  }
 ],
 "metadata": {
  "kernelspec": {
   "display_name": "Python 3",
   "language": "python",
   "name": "python3"
  },
  "language_info": {
   "codemirror_mode": {
    "name": "ipython",
    "version": 2
   },
   "file_extension": ".py",
   "mimetype": "text/x-python",
   "name": "python",
   "nbconvert_exporter": "python",
   "pygments_lexer": "ipython2",
   "version": "2.7.6"
  }
 },
 "nbformat": 4,
 "nbformat_minor": 0
}
