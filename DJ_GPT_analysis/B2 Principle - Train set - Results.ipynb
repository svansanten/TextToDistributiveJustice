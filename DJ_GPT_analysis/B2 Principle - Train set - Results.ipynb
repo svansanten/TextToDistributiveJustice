{
 "cells": [
  {
   "cell_type": "code",
   "execution_count": 1,
   "outputs": [],
   "source": [
    "import numpy as np\n",
    "import pandas as pd\n",
    "import os\n",
    "import re\n",
    "import matplotlib.pyplot as plt\n",
    "import seaborn as sns\n",
    "import difflib\n",
    "from collections import Counter\n",
    "from sklearn.metrics import ConfusionMatrixDisplay, confusion_matrix, classification_report"
   ],
   "metadata": {
    "collapsed": false,
    "ExecuteTime": {
     "start_time": "2024-06-06T12:55:47.348536Z",
     "end_time": "2024-06-06T12:55:47.732178Z"
    }
   }
  },
  {
   "cell_type": "markdown",
   "source": [
    "# 2. Results B2.0\n",
    "Evaluation of the annotations of the train set for task B2"
   ],
   "metadata": {
    "collapsed": false
   }
  },
  {
   "cell_type": "markdown",
   "source": [
    "### 1. Import Results\n",
    "Results created under the same fingerprint are saved in a CSV file for each seed. All results are combined into one dataset."
   ],
   "metadata": {
    "collapsed": false
   }
  },
  {
   "cell_type": "code",
   "execution_count": 2,
   "outputs": [],
   "source": [
    "#B1.0\n",
    "path_B2 = 'STRING_RESULT_TRAIN/B2.0/all_iterations'\n",
    "\n",
    "# Open all dataframes\n",
    "S1 = pd.read_csv(f'{path_B2}/all_iterations_string_T0_3644.csv')\n",
    "S2 = pd.read_csv(f'{path_B2}/all_iterations_string_T0_3441.csv')\n",
    "S3 = pd.read_csv(f'{path_B2}/all_iterations_string_T0_280.csv')\n",
    "S4 = pd.read_csv(f'{path_B2}/all_iterations_string_T0_5991.csv')\n",
    "S5 = pd.read_csv(f'{path_B2}/all_iterations_string_T0_7917.csv')\n"
   ],
   "metadata": {
    "collapsed": false,
    "ExecuteTime": {
     "start_time": "2024-06-06T12:55:50.674028Z",
     "end_time": "2024-06-06T12:55:50.700793Z"
    }
   }
  },
  {
   "cell_type": "code",
   "execution_count": 3,
   "outputs": [],
   "source": [
    "# Combine all dataframes into one\n",
    "B2_full = pd.concat([S1, S2, S3, S4, S5], ignore_index=True)"
   ],
   "metadata": {
    "collapsed": false,
    "ExecuteTime": {
     "start_time": "2024-06-06T12:55:52.018000Z",
     "end_time": "2024-06-06T12:55:52.038109Z"
    }
   }
  },
  {
   "cell_type": "code",
   "execution_count": 4,
   "outputs": [
    {
     "data": {
      "text/plain": "(800, 6)"
     },
     "execution_count": 4,
     "metadata": {},
     "output_type": "execute_result"
    }
   ],
   "source": [
    "# Filter rows to keep only those where the unique_id appears exactly 5 times\n",
    "filtered_B2 = B2_full.groupby('unique_id').filter(lambda x: len(x) == 5)\n",
    "filtered_B2.shape"
   ],
   "metadata": {
    "collapsed": false,
    "ExecuteTime": {
     "start_time": "2024-06-06T12:55:53.142446Z",
     "end_time": "2024-06-06T12:55:53.174960Z"
    }
   }
  },
  {
   "cell_type": "code",
   "execution_count": 5,
   "outputs": [],
   "source": [
    "# List of unique_id's that are annotated 5 times\n",
    "unique_ids = filtered_B2['unique_id'].unique().tolist()"
   ],
   "metadata": {
    "collapsed": false,
    "ExecuteTime": {
     "start_time": "2024-06-06T12:56:00.224110Z",
     "end_time": "2024-06-06T12:56:00.255862Z"
    }
   }
  },
  {
   "cell_type": "code",
   "execution_count": 6,
   "outputs": [],
   "source": [
    "# Filter all original dataframes to only include sentences that are annotated 5x by other seeds\n",
    "FB1S1 = S1[S1['unique_id'].isin(unique_ids)]\n",
    "FB1S2 = S2[S2['unique_id'].isin(unique_ids)]\n",
    "FB1S3 = S3[S3['unique_id'].isin(unique_ids)]\n",
    "FB1S4 = S4[S4['unique_id'].isin(unique_ids)]\n",
    "FB1S5 = S5[S5['unique_id'].isin(unique_ids)]"
   ],
   "metadata": {
    "collapsed": false,
    "ExecuteTime": {
     "start_time": "2024-06-06T12:56:01.483333Z",
     "end_time": "2024-06-06T12:56:01.513680Z"
    }
   }
  },
  {
   "cell_type": "code",
   "execution_count": 7,
   "outputs": [
    {
     "name": "stdout",
     "output_type": "stream",
     "text": [
      "Classification Report for S1\n",
      "                             precision    recall  f1-score    support\n",
      "egalitarian                   0.794118  0.627907  0.701299   43.00000\n",
      "general normative statement   0.571429  0.347826  0.432432   23.00000\n",
      "libertarian                   0.000000  0.000000  0.000000    1.00000\n",
      "prioritarian                  0.777778  0.760870  0.769231   46.00000\n",
      "sufficientarian               0.444444  0.666667  0.533333    6.00000\n",
      "utilitarian                   0.614035  0.853659  0.714286   41.00000\n",
      "accuracy                      0.681250  0.681250  0.681250    0.68125\n",
      "macro avg                     0.533634  0.542821  0.525097  160.00000\n",
      "weighted avg                  0.693186  0.681250  0.674826  160.00000\n",
      "\n",
      "\n",
      "Classification Report for S2\n",
      "                             precision    recall  f1-score  support\n",
      "egalitarian                   0.729730  0.627907  0.675000   43.000\n",
      "general normative statement   0.562500  0.391304  0.461538   23.000\n",
      "libertarian                   0.000000  0.000000  0.000000    1.000\n",
      "prioritarian                  0.790698  0.739130  0.764045   46.000\n",
      "sufficientarian               0.400000  0.666667  0.500000    6.000\n",
      "utilitarian                   0.641509  0.829268  0.723404   41.000\n",
      "accuracy                      0.675000  0.675000  0.675000    0.675\n",
      "macro avg                     0.520739  0.542379  0.520665  160.000\n",
      "weighted avg                  0.683687  0.675000  0.671538  160.000\n",
      "\n",
      "\n",
      "Classification Report for S3\n",
      "                             precision    recall  f1-score    support\n",
      "egalitarian                   0.750000  0.627907  0.683544   43.00000\n",
      "general normative statement   0.470588  0.347826  0.400000   23.00000\n",
      "libertarian                   0.000000  0.000000  0.000000    1.00000\n",
      "prioritarian                  0.790698  0.739130  0.764045   46.00000\n",
      "sufficientarian               0.444444  0.666667  0.533333    6.00000\n",
      "utilitarian                   0.629630  0.829268  0.715789   41.00000\n",
      "accuracy                      0.668750  0.668750  0.668750    0.66875\n",
      "macro avg                     0.514227  0.535133  0.516119  160.00000\n",
      "weighted avg                  0.674544  0.668750  0.664287  160.00000\n",
      "\n",
      "\n",
      "Classification Report for S4\n",
      "                             precision    recall  f1-score   support\n",
      "egalitarian                   0.812500  0.604651  0.693333   43.0000\n",
      "general normative statement   0.520000  0.565217  0.541667   23.0000\n",
      "libertarian                   0.000000  0.000000  0.000000    1.0000\n",
      "prioritarian                  0.772727  0.739130  0.755556   46.0000\n",
      "sufficientarian               0.444444  0.666667  0.533333    6.0000\n",
      "utilitarian                   0.673469  0.804878  0.733333   41.0000\n",
      "accuracy                      0.687500  0.687500  0.687500    0.6875\n",
      "macro avg                     0.537190  0.563424  0.542870  160.0000\n",
      "weighted avg                  0.704512  0.687500  0.689337  160.0000\n",
      "\n",
      "\n",
      "Classification Report for S5\n",
      "                             precision    recall  f1-score  support\n",
      "egalitarian                   0.771429  0.627907  0.692308   43.000\n",
      "general normative statement   0.562500  0.391304  0.461538   23.000\n",
      "libertarian                   0.000000  0.000000  0.000000    1.000\n",
      "prioritarian                  0.772727  0.739130  0.755556   46.000\n",
      "sufficientarian               0.444444  0.666667  0.533333    6.000\n",
      "utilitarian                   0.618182  0.829268  0.708333   41.000\n",
      "accuracy                      0.675000  0.675000  0.675000    0.675\n",
      "macro avg                     0.528214  0.542379  0.525178  160.000\n",
      "weighted avg                  0.685416  0.675000  0.671136  160.000\n",
      "\n",
      "\n"
     ]
    }
   ],
   "source": [
    "# Evaluate performance of individual seeds for the same sentences\n",
    "# Function to generate classification report for each dataframe\n",
    "def generate_classification_report(df, true_label_col, pred_label_col):\n",
    "    return classification_report(df[true_label_col], df[pred_label_col], output_dict=True)\n",
    "\n",
    "# Generate classification reports\n",
    "report_S1 = generate_classification_report(FB1S1, 'PRINCIPLE_x', 'PRINCIPLE_y')\n",
    "report_S2 = generate_classification_report(FB1S2, 'PRINCIPLE_x', 'PRINCIPLE_y')\n",
    "report_S3 = generate_classification_report(FB1S3, 'PRINCIPLE_x', 'PRINCIPLE_y')\n",
    "report_S4 = generate_classification_report(FB1S4, 'PRINCIPLE_x', 'PRINCIPLE_y')\n",
    "report_S5 = generate_classification_report(FB1S5, 'PRINCIPLE_x', 'PRINCIPLE_y')\n",
    "\n",
    "# Function to print the classification reports for easy comparison\n",
    "def print_classification_report(report, title):\n",
    "    print(f\"Classification Report for {title}\")\n",
    "    print(pd.DataFrame(report).transpose())\n",
    "    print(\"\\n\")\n",
    "\n",
    "# Print the classification reports\n",
    "print_classification_report(report_S1, \"S1\")\n",
    "print_classification_report(report_S2, \"S2\")\n",
    "print_classification_report(report_S3, \"S3\")\n",
    "print_classification_report(report_S4, \"S4\")\n",
    "print_classification_report(report_S5, \"S5\")"
   ],
   "metadata": {
    "collapsed": false,
    "ExecuteTime": {
     "start_time": "2024-06-06T12:56:02.735340Z",
     "end_time": "2024-06-06T12:56:02.834378Z"
    }
   }
  },
  {
   "cell_type": "markdown",
   "source": [
    "Evaluate consistency of predictions over the 5 different instances - see which sentences are not consistantly predicted.\n"
   ],
   "metadata": {
    "collapsed": false
   }
  },
  {
   "cell_type": "code",
   "execution_count": 11,
   "outputs": [
    {
     "data": {
      "text/plain": "(115, 6)"
     },
     "execution_count": 11,
     "metadata": {},
     "output_type": "execute_result"
    }
   ],
   "source": [
    "# I want to evaluate consistency\n",
    "# Print all rows where inconsequences are found per seed\n",
    "def principle_y_not_uniform(group):\n",
    "    return group['PRINCIPLE_y'].nunique() != 1\n",
    "\n",
    "\n",
    "# Group by 'ID' and filter groups\n",
    "B2_consistency = filtered_B2.groupby('unique_id').filter(principle_y_not_uniform)\n",
    "\n",
    "B2_consistency.shape"
   ],
   "metadata": {
    "collapsed": false,
    "ExecuteTime": {
     "start_time": "2024-06-06T12:56:16.339704Z",
     "end_time": "2024-06-06T12:56:16.383750Z"
    }
   }
  },
  {
   "cell_type": "markdown",
   "source": [
    "\n",
    "In combined dataframe, groupyby unique ID and take the majority label"
   ],
   "metadata": {
    "collapsed": false
   }
  },
  {
   "cell_type": "code",
   "execution_count": 12,
   "outputs": [
    {
     "data": {
      "text/plain": "     unique_id                                               text  \\\n0          107  Typhoon Haiyan has once again gravely reminded...   \n1          125  We urge, all parties here in Warsaw to take de...   \n2          126  We believe that, Nationally Appropriate Mitiga...   \n3          130  We must also take decisions on finance, techno...   \n4          131  We urge parties to take decisions on simplific...   \n..         ...                                                ...   \n155       1089  Adequate and predictable funding, structured f...   \n156       1090  We call upon the developed countries that have...   \n157       1092  We must educate our citizens about climate cha...   \n158       1093  We must view climate education as an investmen...   \n159       1095  It is incumbent upon us to act together, with ...   \n\n                     PRINCIPLE_x  \\\n0                    utilitarian   \n1                   prioritarian   \n2                   prioritarian   \n3    general normative statement   \n4                   prioritarian   \n..                           ...   \n155                 prioritarian   \n156                 prioritarian   \n157  general normative statement   \n158                  utilitarian   \n159                  utilitarian   \n\n                                             llm_query  iteration  \\\n0    107 Typhoon Haiyan has once again gravely remi...          1   \n1    125 We urge, all parties here in Warsaw to tak...          1   \n2    126 We believe that, Nationally Appropriate Mi...          1   \n3    130 We must also take decisions on finance, te...          1   \n4    131 We urge parties to take decisions on simpl...          1   \n..                                                 ...        ...   \n155  1089 Adequate and predictable funding, structu...          1   \n156  1090 We call upon the developed countries that...          1   \n157  1092 We must educate our citizens about climat...          1   \n158  1093 We must view climate education as an inve...          1   \n159  1095 It is incumbent upon us to act together, ...          1   \n\n      PRINCIPLE_y  \n0     utilitarian  \n1     egalitarian  \n2     egalitarian  \n3     utilitarian  \n4     egalitarian  \n..            ...  \n155  prioritarian  \n156  prioritarian  \n157   utilitarian  \n158   utilitarian  \n159   utilitarian  \n\n[160 rows x 6 columns]",
      "text/html": "<div>\n<style scoped>\n    .dataframe tbody tr th:only-of-type {\n        vertical-align: middle;\n    }\n\n    .dataframe tbody tr th {\n        vertical-align: top;\n    }\n\n    .dataframe thead th {\n        text-align: right;\n    }\n</style>\n<table border=\"1\" class=\"dataframe\">\n  <thead>\n    <tr style=\"text-align: right;\">\n      <th></th>\n      <th>unique_id</th>\n      <th>text</th>\n      <th>PRINCIPLE_x</th>\n      <th>llm_query</th>\n      <th>iteration</th>\n      <th>PRINCIPLE_y</th>\n    </tr>\n  </thead>\n  <tbody>\n    <tr>\n      <th>0</th>\n      <td>107</td>\n      <td>Typhoon Haiyan has once again gravely reminded...</td>\n      <td>utilitarian</td>\n      <td>107 Typhoon Haiyan has once again gravely remi...</td>\n      <td>1</td>\n      <td>utilitarian</td>\n    </tr>\n    <tr>\n      <th>1</th>\n      <td>125</td>\n      <td>We urge, all parties here in Warsaw to take de...</td>\n      <td>prioritarian</td>\n      <td>125 We urge, all parties here in Warsaw to tak...</td>\n      <td>1</td>\n      <td>egalitarian</td>\n    </tr>\n    <tr>\n      <th>2</th>\n      <td>126</td>\n      <td>We believe that, Nationally Appropriate Mitiga...</td>\n      <td>prioritarian</td>\n      <td>126 We believe that, Nationally Appropriate Mi...</td>\n      <td>1</td>\n      <td>egalitarian</td>\n    </tr>\n    <tr>\n      <th>3</th>\n      <td>130</td>\n      <td>We must also take decisions on finance, techno...</td>\n      <td>general normative statement</td>\n      <td>130 We must also take decisions on finance, te...</td>\n      <td>1</td>\n      <td>utilitarian</td>\n    </tr>\n    <tr>\n      <th>4</th>\n      <td>131</td>\n      <td>We urge parties to take decisions on simplific...</td>\n      <td>prioritarian</td>\n      <td>131 We urge parties to take decisions on simpl...</td>\n      <td>1</td>\n      <td>egalitarian</td>\n    </tr>\n    <tr>\n      <th>...</th>\n      <td>...</td>\n      <td>...</td>\n      <td>...</td>\n      <td>...</td>\n      <td>...</td>\n      <td>...</td>\n    </tr>\n    <tr>\n      <th>155</th>\n      <td>1089</td>\n      <td>Adequate and predictable funding, structured f...</td>\n      <td>prioritarian</td>\n      <td>1089 Adequate and predictable funding, structu...</td>\n      <td>1</td>\n      <td>prioritarian</td>\n    </tr>\n    <tr>\n      <th>156</th>\n      <td>1090</td>\n      <td>We call upon the developed countries that have...</td>\n      <td>prioritarian</td>\n      <td>1090 We call upon the developed countries that...</td>\n      <td>1</td>\n      <td>prioritarian</td>\n    </tr>\n    <tr>\n      <th>157</th>\n      <td>1092</td>\n      <td>We must educate our citizens about climate cha...</td>\n      <td>general normative statement</td>\n      <td>1092 We must educate our citizens about climat...</td>\n      <td>1</td>\n      <td>utilitarian</td>\n    </tr>\n    <tr>\n      <th>158</th>\n      <td>1093</td>\n      <td>We must view climate education as an investmen...</td>\n      <td>utilitarian</td>\n      <td>1093 We must view climate education as an inve...</td>\n      <td>1</td>\n      <td>utilitarian</td>\n    </tr>\n    <tr>\n      <th>159</th>\n      <td>1095</td>\n      <td>It is incumbent upon us to act together, with ...</td>\n      <td>utilitarian</td>\n      <td>1095 It is incumbent upon us to act together, ...</td>\n      <td>1</td>\n      <td>utilitarian</td>\n    </tr>\n  </tbody>\n</table>\n<p>160 rows × 6 columns</p>\n</div>"
     },
     "execution_count": 12,
     "metadata": {},
     "output_type": "execute_result"
    }
   ],
   "source": [
    "# Define a function to get the most frequent element\n",
    "def most_frequent(x):\n",
    "    return Counter(x).most_common(1)[0][0]\n",
    "\n",
    "# List of all columns\n",
    "all_columns = filtered_B2.columns.tolist()\n",
    "\n",
    "# Dictionary to specify aggregation functions\n",
    "agg_dict = {col: 'first' for col in all_columns if col not in ['unique_id', 'PRINCIPLE_y']}\n",
    "agg_dict['PRINCIPLE_y'] = most_frequent\n",
    "\n",
    "# Group by 'unique_id' and apply the aggregation functions\n",
    "filtered_B2_grouped = filtered_B2.groupby('unique_id').agg(agg_dict).reset_index()\n",
    "\n",
    "filtered_B2_grouped"
   ],
   "metadata": {
    "collapsed": false,
    "ExecuteTime": {
     "start_time": "2024-06-06T12:56:23.478356Z",
     "end_time": "2024-06-06T12:56:23.547395Z"
    }
   }
  },
  {
   "cell_type": "code",
   "execution_count": 13,
   "outputs": [
    {
     "name": "stdout",
     "output_type": "stream",
     "text": [
      "                             precision    recall  f1-score   support\n",
      "\n",
      "                egalitarian       0.75      0.63      0.68        43\n",
      "general normative statement       0.56      0.39      0.46        23\n",
      "                libertarian       0.00      0.00      0.00         1\n",
      "               prioritarian       0.79      0.74      0.76        46\n",
      "            sufficientarian       0.40      0.67      0.50         6\n",
      "                utilitarian       0.63      0.83      0.72        41\n",
      "\n",
      "                   accuracy                           0.68       160\n",
      "                  macro avg       0.52      0.54      0.52       160\n",
      "               weighted avg       0.69      0.68      0.67       160\n",
      "\n"
     ]
    }
   ],
   "source": [
    "# Evaluate performance of this dataframe\n",
    "print(classification_report(filtered_B2_grouped['PRINCIPLE_x'],filtered_B2_grouped['PRINCIPLE_y']))"
   ],
   "metadata": {
    "collapsed": false,
    "ExecuteTime": {
     "start_time": "2024-06-06T12:56:28.611923Z",
     "end_time": "2024-06-06T12:56:28.625335Z"
    }
   }
  },
  {
   "cell_type": "code",
   "execution_count": 14,
   "outputs": [
    {
     "data": {
      "text/plain": "(array([0, 1, 2, 3, 4, 5]),\n [Text(0, 0, 'egalitarian'),\n  Text(1, 0, 'GNS'),\n  Text(2, 0, 'libertarian'),\n  Text(3, 0, 'prioritarian'),\n  Text(4, 0, 'sufficientarian'),\n  Text(5, 0, 'utilitarian')])"
     },
     "execution_count": 14,
     "metadata": {},
     "output_type": "execute_result"
    },
    {
     "data": {
      "text/plain": "<Figure size 8000x8000 with 0 Axes>"
     },
     "metadata": {},
     "output_type": "display_data"
    },
    {
     "data": {
      "text/plain": "<Figure size 640x480 with 2 Axes>",
      "image/png": "[encoded data removed]"
     },
     "metadata": {},
     "output_type": "display_data"
    }
   ],
   "source": [
    "# Evaluate confusionmatrix for this aggregated set\n",
    "labels = ['egalitarian', 'GNS', 'libertarian','prioritarian', 'sufficientarian', 'utilitarian']\n",
    "\n",
    "plt.figure(figsize=(80, 80))\n",
    "cm = confusion_matrix(filtered_B2_grouped['PRINCIPLE_x'],filtered_B2_grouped['PRINCIPLE_y'])\n",
    "disp = ConfusionMatrixDisplay(confusion_matrix=cm, display_labels=labels)\n",
    "disp.plot(cmap=plt.cm.Blues)\n",
    "\n",
    "# Rotate x-axis and y-axis tick labels\n",
    "plt.xticks(rotation=45)"
   ],
   "metadata": {
    "collapsed": false,
    "ExecuteTime": {
     "start_time": "2024-06-06T12:57:15.464947Z",
     "end_time": "2024-06-06T12:57:16.021004Z"
    }
   }
  },
  {
   "cell_type": "markdown",
   "source": [
    "-------------------------------------------------------"
   ],
   "metadata": {
    "collapsed": false
   }
  },
  {
   "cell_type": "markdown",
   "source": [
    "# 2. Results B2.1 - FP1!"
   ],
   "metadata": {
    "collapsed": false
   }
  },
  {
   "cell_type": "markdown",
   "source": [
    "### 1. Import Results\n",
    "Results created under the same fingerprint are saved in a CSV file for each seed. All results are combined into one dataset."
   ],
   "metadata": {
    "collapsed": false
   }
  },
  {
   "cell_type": "code",
   "execution_count": 16,
   "outputs": [],
   "source": [
    "#B1.0\n",
    "path_B21 = 'STRING_RESULT/B2.1/all_iterations_138'\n",
    "\n",
    "# Open all dataframes\n",
    "S1 = pd.read_csv(f'{path_B21}/all_iterations_string_T0_3644.csv')\n",
    "S2 = pd.read_csv(f'{path_B21}/all_iterations_string_T0_3441.csv')\n",
    "S3 = pd.read_csv(f'{path_B21}/all_iterations_string_T0_280.csv')\n",
    "S4 = pd.read_csv(f'{path_B21}/all_iterations_string_T0_5991.csv')\n",
    "S5 = pd.read_csv(f'{path_B21}/all_iterations_string_T0_7917.csv')\n"
   ],
   "metadata": {
    "collapsed": false,
    "ExecuteTime": {
     "start_time": "2024-06-06T12:57:31.538629Z",
     "end_time": "2024-06-06T12:57:31.589497Z"
    }
   }
  },
  {
   "cell_type": "code",
   "execution_count": 17,
   "outputs": [],
   "source": [
    "# Combine all dataframes into one\n",
    "B21_full = pd.concat([S1, S2, S3, S4, S5], ignore_index=True)"
   ],
   "metadata": {
    "collapsed": false,
    "ExecuteTime": {
     "start_time": "2024-06-06T12:57:33.827772Z",
     "end_time": "2024-06-06T12:57:33.861283Z"
    }
   }
  },
  {
   "cell_type": "code",
   "execution_count": 18,
   "outputs": [
    {
     "data": {
      "text/plain": "(690, 6)"
     },
     "execution_count": 18,
     "metadata": {},
     "output_type": "execute_result"
    }
   ],
   "source": [
    "# Filter rows to keep only those where the unique_id appears exactly 5 times\n",
    "filtered_B21 = B21_full.groupby('unique_id').filter(lambda x: len(x) == 5)\n",
    "filtered_B21.shape"
   ],
   "metadata": {
    "collapsed": false,
    "ExecuteTime": {
     "start_time": "2024-06-06T12:57:36.785693Z",
     "end_time": "2024-06-06T12:57:36.820387Z"
    }
   }
  },
  {
   "cell_type": "code",
   "execution_count": 19,
   "outputs": [],
   "source": [
    "# List of unique_id's that are annotated 5 times\n",
    "unique_ids = filtered_B21['unique_id'].unique().tolist()"
   ],
   "metadata": {
    "collapsed": false,
    "ExecuteTime": {
     "start_time": "2024-06-06T12:57:42.644277Z",
     "end_time": "2024-06-06T12:57:42.682665Z"
    }
   }
  },
  {
   "cell_type": "code",
   "execution_count": 20,
   "outputs": [],
   "source": [
    "# Filter all original dataframes to only include sentences that are annotated 5x by other seeds\n",
    "FB1S1 = S1[S1['unique_id'].isin(unique_ids)]\n",
    "FB1S2 = S2[S2['unique_id'].isin(unique_ids)]\n",
    "FB1S3 = S3[S3['unique_id'].isin(unique_ids)]\n",
    "FB1S4 = S4[S4['unique_id'].isin(unique_ids)]\n",
    "FB1S5 = S5[S5['unique_id'].isin(unique_ids)]"
   ],
   "metadata": {
    "collapsed": false,
    "ExecuteTime": {
     "start_time": "2024-06-06T12:57:45.024687Z",
     "end_time": "2024-06-06T12:57:45.033136Z"
    }
   }
  },
  {
   "cell_type": "code",
   "execution_count": 21,
   "outputs": [
    {
     "name": "stdout",
     "output_type": "stream",
     "text": [
      "Classification Report for S1\n",
      "                             precision    recall  f1-score    support\n",
      "egalitarian                   0.478261  0.458333  0.468085   24.00000\n",
      "general normative statement   0.428571  0.391304  0.409091   23.00000\n",
      "libertarian                   1.000000  1.000000  1.000000    1.00000\n",
      "prioritarian                  0.777778  0.777778  0.777778   45.00000\n",
      "sufficientarian               1.000000  0.600000  0.750000    5.00000\n",
      "utilitarian                   0.711111  0.800000  0.752941   40.00000\n",
      "accuracy                      0.659420  0.659420  0.659420    0.65942\n",
      "macro avg                     0.732620  0.671236  0.692982  138.00000\n",
      "weighted avg                  0.657825  0.659420  0.655875  138.00000\n",
      "\n",
      "\n",
      "Classification Report for S2\n",
      "                             precision    recall  f1-score     support\n",
      "egalitarian                   0.434783  0.416667  0.425532   24.000000\n",
      "general normative statement   0.391304  0.391304  0.391304   23.000000\n",
      "libertarian                   1.000000  1.000000  1.000000    1.000000\n",
      "prioritarian                  0.772727  0.755556  0.764045   45.000000\n",
      "sufficientarian               0.600000  0.600000  0.600000    5.000000\n",
      "utilitarian                   0.714286  0.750000  0.731707   40.000000\n",
      "accuracy                      0.630435  0.630435  0.630435    0.630435\n",
      "macro avg                     0.652183  0.652254  0.652098  138.000000\n",
      "weighted avg                  0.628833  0.630435  0.629443  138.000000\n",
      "\n",
      "\n",
      "Classification Report for S3\n",
      "                             precision    recall  f1-score     support\n",
      "egalitarian                   0.541667  0.541667  0.541667   24.000000\n",
      "general normative statement   0.409091  0.391304  0.400000   23.000000\n",
      "libertarian                   1.000000  1.000000  1.000000    1.000000\n",
      "prioritarian                  0.750000  0.800000  0.774194   45.000000\n",
      "sufficientarian               0.600000  0.600000  0.600000    5.000000\n",
      "utilitarian                   0.736842  0.700000  0.717949   40.000000\n",
      "accuracy                      0.652174  0.652174  0.652174    0.652174\n",
      "macro avg                     0.672933  0.672162  0.672301  138.000000\n",
      "weighted avg                  0.649513  0.652174  0.650411  138.000000\n",
      "\n",
      "\n",
      "Classification Report for S4\n",
      "                             precision    recall  f1-score    support\n",
      "egalitarian                   0.545455  0.500000  0.521739   24.00000\n",
      "general normative statement   0.400000  0.434783  0.416667   23.00000\n",
      "libertarian                   1.000000  1.000000  1.000000    1.00000\n",
      "prioritarian                  0.777778  0.777778  0.777778   45.00000\n",
      "sufficientarian               0.600000  0.600000  0.600000    5.00000\n",
      "utilitarian                   0.750000  0.750000  0.750000   40.00000\n",
      "accuracy                      0.659420  0.659420  0.659420    0.65942\n",
      "macro avg                     0.678872  0.677093  0.677697  138.00000\n",
      "weighted avg                  0.661528  0.659420  0.660182  138.00000\n",
      "\n",
      "\n",
      "Classification Report for S5\n",
      "                             precision    recall  f1-score     support\n",
      "egalitarian                   0.478261  0.458333  0.468085   24.000000\n",
      "general normative statement   0.409091  0.391304  0.400000   23.000000\n",
      "libertarian                   1.000000  1.000000  1.000000    1.000000\n",
      "prioritarian                  0.772727  0.755556  0.764045   45.000000\n",
      "sufficientarian               1.000000  0.600000  0.750000    5.000000\n",
      "utilitarian                   0.711111  0.800000  0.752941   40.000000\n",
      "accuracy                      0.652174  0.652174  0.652174    0.652174\n",
      "macro avg                     0.728532  0.667532  0.689179  138.000000\n",
      "weighted avg                  0.652931  0.652174  0.649882  138.000000\n",
      "\n",
      "\n"
     ]
    }
   ],
   "source": [
    "# Evaluate performance of individual seeds for the same sentences\n",
    "# Function to generate classification report for each dataframe\n",
    "def generate_classification_report(df, true_label_col, pred_label_col):\n",
    "    return classification_report(df[true_label_col], df[pred_label_col], output_dict=True)\n",
    "\n",
    "# Generate classification reports\n",
    "report_S1 = generate_classification_report(FB1S1, 'PRINCIPLE_x', 'PRINCIPLE_y')\n",
    "report_S2 = generate_classification_report(FB1S2, 'PRINCIPLE_x', 'PRINCIPLE_y')\n",
    "report_S3 = generate_classification_report(FB1S3, 'PRINCIPLE_x', 'PRINCIPLE_y')\n",
    "report_S4 = generate_classification_report(FB1S4, 'PRINCIPLE_x', 'PRINCIPLE_y')\n",
    "report_S5 = generate_classification_report(FB1S5, 'PRINCIPLE_x', 'PRINCIPLE_y')\n",
    "\n",
    "# Function to print the classification reports for easy comparison\n",
    "def print_classification_report(report, title):\n",
    "    print(f\"Classification Report for {title}\")\n",
    "    print(pd.DataFrame(report).transpose())\n",
    "    print(\"\\n\")\n",
    "\n",
    "# Print the classification reports\n",
    "print_classification_report(report_S1, \"S1\")\n",
    "print_classification_report(report_S2, \"S2\")\n",
    "print_classification_report(report_S3, \"S3\")\n",
    "print_classification_report(report_S4, \"S4\")\n",
    "print_classification_report(report_S5, \"S5\")"
   ],
   "metadata": {
    "collapsed": false,
    "ExecuteTime": {
     "start_time": "2024-06-06T12:57:47.084264Z",
     "end_time": "2024-06-06T12:57:47.157395Z"
    }
   }
  },
  {
   "cell_type": "markdown",
   "source": [
    "Evaluate consistency of predictions over the 5 different instances - see which sentences are not consistantly predicted.\n"
   ],
   "metadata": {
    "collapsed": false
   }
  },
  {
   "cell_type": "code",
   "execution_count": 39,
   "outputs": [
    {
     "data": {
      "text/plain": "(115, 6)"
     },
     "execution_count": 39,
     "metadata": {},
     "output_type": "execute_result"
    }
   ],
   "source": [
    "# I want to evaluate consistency\n",
    "# Print all rows where inconsequences are found per seed\n",
    "def principle_y_not_uniform(group):\n",
    "    return group['PRINCIPLE_y'].nunique() != 1\n",
    "\n",
    "\n",
    "# Group by 'ID' and filter groups\n",
    "B21_consistency = filtered_B21.groupby('unique_id').filter(principle_y_not_uniform)\n",
    "\n",
    "B21_consistency.shape"
   ],
   "metadata": {
    "collapsed": false,
    "ExecuteTime": {
     "start_time": "2024-06-07T15:34:26.854814Z",
     "end_time": "2024-06-07T15:34:26.962147Z"
    }
   }
  },
  {
   "cell_type": "markdown",
   "source": [
    "\n",
    "In combined dataframe, groupyby unique ID and take the majority label"
   ],
   "metadata": {
    "collapsed": false
   }
  },
  {
   "cell_type": "code",
   "execution_count": 37,
   "outputs": [
    {
     "data": {
      "text/plain": "     unique_id                                               text  \\\n0            3   Mr. President:  A fair and effective framewor...   \n1            5  Such a framework must be based on “nationally ...   \n2           44  It should not only enable us to discuss global...   \n3           53  Global warming is a catastrophic problem that ...   \n4           54  Therefore, the multilateralism approach remain...   \n..         ...                                                ...   \n213       1172   As we work to catch up on lost time and progr...   \n214       1173   Conflict -ridden communities, refugees, and d...   \n215       1174  Nor can we stand by , as the massive destructi...   \n216       1198   We recognise that we must deliver on our coll...   \n217       1205   We need a course correction, and working toge...   \n\n                     PRINCIPLE_x  \\\n0                    utilitarian   \n1                    egalitarian   \n2                    utilitarian   \n3                    utilitarian   \n4    general normative statement   \n..                           ...   \n213                 prioritarian   \n214                 prioritarian   \n215                  utilitarian   \n216                 prioritarian   \n217                  utilitarian   \n\n                                             llm_query  iteration  \\\n0    3  Mr. President:  A fair and effective framew...          1   \n1    5 Such a framework must be based on “nationall...          1   \n2    44 It should not only enable us to discuss glo...          1   \n3    53 Global warming is a catastrophic problem th...          1   \n4    54 Therefore, the multilateralism approach rem...          1   \n..                                                 ...        ...   \n213  1172  As we work to catch up on lost time and ...          1   \n214  1173  Conflict -ridden communities, refugees, ...          1   \n215  1174 Nor can we stand by , as the massive dest...          1   \n216  1198  We recognise that we must deliver on our...          1   \n217  1205  We need a course correction, and working...          1   \n\n                     PRINCIPLE_y  \n0                    egalitarian  \n1    general normative statement  \n2                    utilitarian  \n3                    utilitarian  \n4    general normative statement  \n..                           ...  \n213                 prioritarian  \n214                 prioritarian  \n215                 prioritarian  \n216                 prioritarian  \n217                  utilitarian  \n\n[218 rows x 6 columns]",
      "text/html": "<div>\n<style scoped>\n    .dataframe tbody tr th:only-of-type {\n        vertical-align: middle;\n    }\n\n    .dataframe tbody tr th {\n        vertical-align: top;\n    }\n\n    .dataframe thead th {\n        text-align: right;\n    }\n</style>\n<table border=\"1\" class=\"dataframe\">\n  <thead>\n    <tr style=\"text-align: right;\">\n      <th></th>\n      <th>unique_id</th>\n      <th>text</th>\n      <th>PRINCIPLE_x</th>\n      <th>llm_query</th>\n      <th>iteration</th>\n      <th>PRINCIPLE_y</th>\n    </tr>\n  </thead>\n  <tbody>\n    <tr>\n      <th>0</th>\n      <td>3</td>\n      <td>Mr. President:  A fair and effective framewor...</td>\n      <td>utilitarian</td>\n      <td>3  Mr. President:  A fair and effective framew...</td>\n      <td>1</td>\n      <td>egalitarian</td>\n    </tr>\n    <tr>\n      <th>1</th>\n      <td>5</td>\n      <td>Such a framework must be based on “nationally ...</td>\n      <td>egalitarian</td>\n      <td>5 Such a framework must be based on “nationall...</td>\n      <td>1</td>\n      <td>general normative statement</td>\n    </tr>\n    <tr>\n      <th>2</th>\n      <td>44</td>\n      <td>It should not only enable us to discuss global...</td>\n      <td>utilitarian</td>\n      <td>44 It should not only enable us to discuss glo...</td>\n      <td>1</td>\n      <td>utilitarian</td>\n    </tr>\n    <tr>\n      <th>3</th>\n      <td>53</td>\n      <td>Global warming is a catastrophic problem that ...</td>\n      <td>utilitarian</td>\n      <td>53 Global warming is a catastrophic problem th...</td>\n      <td>1</td>\n      <td>utilitarian</td>\n    </tr>\n    <tr>\n      <th>4</th>\n      <td>54</td>\n      <td>Therefore, the multilateralism approach remain...</td>\n      <td>general normative statement</td>\n      <td>54 Therefore, the multilateralism approach rem...</td>\n      <td>1</td>\n      <td>general normative statement</td>\n    </tr>\n    <tr>\n      <th>...</th>\n      <td>...</td>\n      <td>...</td>\n      <td>...</td>\n      <td>...</td>\n      <td>...</td>\n      <td>...</td>\n    </tr>\n    <tr>\n      <th>213</th>\n      <td>1172</td>\n      <td>As we work to catch up on lost time and progr...</td>\n      <td>prioritarian</td>\n      <td>1172  As we work to catch up on lost time and ...</td>\n      <td>1</td>\n      <td>prioritarian</td>\n    </tr>\n    <tr>\n      <th>214</th>\n      <td>1173</td>\n      <td>Conflict -ridden communities, refugees, and d...</td>\n      <td>prioritarian</td>\n      <td>1173  Conflict -ridden communities, refugees, ...</td>\n      <td>1</td>\n      <td>prioritarian</td>\n    </tr>\n    <tr>\n      <th>215</th>\n      <td>1174</td>\n      <td>Nor can we stand by , as the massive destructi...</td>\n      <td>utilitarian</td>\n      <td>1174 Nor can we stand by , as the massive dest...</td>\n      <td>1</td>\n      <td>prioritarian</td>\n    </tr>\n    <tr>\n      <th>216</th>\n      <td>1198</td>\n      <td>We recognise that we must deliver on our coll...</td>\n      <td>prioritarian</td>\n      <td>1198  We recognise that we must deliver on our...</td>\n      <td>1</td>\n      <td>prioritarian</td>\n    </tr>\n    <tr>\n      <th>217</th>\n      <td>1205</td>\n      <td>We need a course correction, and working toge...</td>\n      <td>utilitarian</td>\n      <td>1205  We need a course correction, and working...</td>\n      <td>1</td>\n      <td>utilitarian</td>\n    </tr>\n  </tbody>\n</table>\n<p>218 rows × 6 columns</p>\n</div>"
     },
     "execution_count": 37,
     "metadata": {},
     "output_type": "execute_result"
    }
   ],
   "source": [
    "# Define a function to get the most frequent element\n",
    "def most_frequent(x):\n",
    "    return Counter(x).most_common(1)[0][0]\n",
    "\n",
    "# List of all columns\n",
    "all_columns = filtered_B21.columns.tolist()\n",
    "\n",
    "# Dictionary to specify aggregation functions\n",
    "agg_dict = {col: 'first' for col in all_columns if col not in ['unique_id', 'PRINCIPLE_y']}\n",
    "agg_dict['PRINCIPLE_y'] = most_frequent\n",
    "\n",
    "# Group by 'unique_id' and apply the aggregation functions\n",
    "filtered_B21_grouped = filtered_B21.groupby('unique_id').agg(agg_dict).reset_index()\n",
    "\n",
    "filtered_B21_grouped"
   ],
   "metadata": {
    "collapsed": false,
    "ExecuteTime": {
     "start_time": "2024-06-07T15:34:18.106150Z",
     "end_time": "2024-06-07T15:34:18.157195Z"
    }
   }
  },
  {
   "cell_type": "code",
   "execution_count": 38,
   "outputs": [
    {
     "name": "stdout",
     "output_type": "stream",
     "text": [
      "                             precision    recall  f1-score   support\n",
      "\n",
      "                egalitarian       0.71      0.57      0.63        51\n",
      "general normative statement       0.45      0.42      0.44        33\n",
      "                libertarian       0.50      1.00      0.67         1\n",
      "               prioritarian       0.81      0.82      0.81        66\n",
      "            sufficientarian       0.46      0.75      0.57         8\n",
      "                utilitarian       0.67      0.73      0.70        59\n",
      "\n",
      "                   accuracy                           0.67       218\n",
      "                  macro avg       0.60      0.71      0.64       218\n",
      "               weighted avg       0.68      0.67      0.67       218\n",
      "\n"
     ]
    }
   ],
   "source": [
    "# Evaluate performance of this dataframe\n",
    "print(classification_report(filtered_B21_grouped['PRINCIPLE_x'],filtered_B21_grouped['PRINCIPLE_y']))"
   ],
   "metadata": {
    "collapsed": false,
    "ExecuteTime": {
     "start_time": "2024-06-07T15:34:20.963840Z",
     "end_time": "2024-06-07T15:34:21.024673Z"
    }
   }
  },
  {
   "cell_type": "code",
   "execution_count": 25,
   "outputs": [
    {
     "data": {
      "text/plain": "(array([0, 1, 2, 3, 4, 5]),\n [Text(0, 0, 'egalitarian'),\n  Text(1, 0, 'GNS'),\n  Text(2, 0, 'libertarian'),\n  Text(3, 0, 'prioritarian'),\n  Text(4, 0, 'sufficientarian'),\n  Text(5, 0, 'utilitarian')])"
     },
     "execution_count": 25,
     "metadata": {},
     "output_type": "execute_result"
    },
    {
     "data": {
      "text/plain": "<Figure size 8000x8000 with 0 Axes>"
     },
     "metadata": {},
     "output_type": "display_data"
    },
    {
     "data": {
      "text/plain": "<Figure size 640x480 with 2 Axes>",
      "image/png": "[encoded data removed]"
     },
     "metadata": {},
     "output_type": "display_data"
    }
   ],
   "source": [
    "# Evaluate confusionmatrix for this aggregated set\n",
    "labels = ['egalitarian', 'GNS', 'libertarian','prioritarian', 'sufficientarian', 'utilitarian']\n",
    "\n",
    "plt.figure(figsize=(80, 80))\n",
    "cm = confusion_matrix(filtered_B21_grouped['PRINCIPLE_x'],filtered_B21_grouped['PRINCIPLE_y'])\n",
    "disp = ConfusionMatrixDisplay(confusion_matrix=cm, display_labels=labels)\n",
    "disp.plot(cmap=plt.cm.Blues)\n",
    "\n",
    "# Rotate x-axis and y-axis tick labels\n",
    "plt.xticks(rotation=45)"
   ],
   "metadata": {
    "collapsed": false,
    "ExecuteTime": {
     "start_time": "2024-06-06T12:58:12.346991Z",
     "end_time": "2024-06-06T12:58:12.908225Z"
    }
   }
  },
  {
   "cell_type": "code",
   "execution_count": null,
   "outputs": [],
   "source": [],
   "metadata": {
    "collapsed": false
   }
  },
  {
   "cell_type": "markdown",
   "source": [
    "# 2. Results B2.1 - FP2!"
   ],
   "metadata": {
    "collapsed": false
   }
  },
  {
   "cell_type": "markdown",
   "source": [
    "### 1. Import Results\n",
    "Results created under the same fingerprint are saved in a CSV file for each seed. All results are combined into one dataset."
   ],
   "metadata": {
    "collapsed": false
   }
  },
  {
   "cell_type": "code",
   "execution_count": 26,
   "outputs": [],
   "source": [
    "#B1.0\n",
    "path_B21 = 'STRING_RESULT/B2.1/all_iterations'\n",
    "\n",
    "# Open all dataframes\n",
    "S1 = pd.read_csv(f'{path_B21}/all_iterations_string_T0_3644.csv')\n",
    "S2 = pd.read_csv(f'{path_B21}/all_iterations_string_T0_3441.csv')\n",
    "S3 = pd.read_csv(f'{path_B21}/all_iterations_string_T0_280.csv')\n",
    "S4 = pd.read_csv(f'{path_B21}/all_iterations_string_T0_5991.csv')\n",
    "S5 = pd.read_csv(f'{path_B21}/all_iterations_string_T0_7917.csv')\n"
   ],
   "metadata": {
    "collapsed": false,
    "ExecuteTime": {
     "start_time": "2024-06-06T12:58:47.380571Z",
     "end_time": "2024-06-06T12:58:47.410789Z"
    }
   }
  },
  {
   "cell_type": "code",
   "execution_count": 27,
   "outputs": [],
   "source": [
    "# Combine all dataframes into one\n",
    "B21_full = pd.concat([S1, S2, S3, S4, S5], ignore_index=True)"
   ],
   "metadata": {
    "collapsed": false,
    "ExecuteTime": {
     "start_time": "2024-06-06T12:58:49.998229Z",
     "end_time": "2024-06-06T12:58:50.020056Z"
    }
   }
  },
  {
   "cell_type": "code",
   "execution_count": 28,
   "outputs": [
    {
     "data": {
      "text/plain": "(1090, 6)"
     },
     "execution_count": 28,
     "metadata": {},
     "output_type": "execute_result"
    }
   ],
   "source": [
    "# Filter rows to keep only those where the unique_id appears exactly 5 times\n",
    "filtered_B21 = B21_full.groupby('unique_id').filter(lambda x: len(x) == 5)\n",
    "filtered_B21.shape"
   ],
   "metadata": {
    "collapsed": false,
    "ExecuteTime": {
     "start_time": "2024-06-06T12:58:52.483651Z",
     "end_time": "2024-06-06T12:58:52.527046Z"
    }
   }
  },
  {
   "cell_type": "code",
   "execution_count": 29,
   "outputs": [],
   "source": [
    "# List of unique_id's that are annotated 5 times\n",
    "unique_ids = filtered_B21['unique_id'].unique().tolist()"
   ],
   "metadata": {
    "collapsed": false,
    "ExecuteTime": {
     "start_time": "2024-06-06T12:59:15.328036Z",
     "end_time": "2024-06-06T12:59:15.335674Z"
    }
   }
  },
  {
   "cell_type": "code",
   "execution_count": 30,
   "outputs": [],
   "source": [
    "# Filter all original dataframes to only include sentences that are annotated 5x by other seeds\n",
    "FB1S1 = S1[S1['unique_id'].isin(unique_ids)]\n",
    "FB1S2 = S2[S2['unique_id'].isin(unique_ids)]\n",
    "FB1S3 = S3[S3['unique_id'].isin(unique_ids)]\n",
    "FB1S4 = S4[S4['unique_id'].isin(unique_ids)]\n",
    "FB1S5 = S5[S5['unique_id'].isin(unique_ids)]"
   ],
   "metadata": {
    "collapsed": false,
    "ExecuteTime": {
     "start_time": "2024-06-06T12:59:16.913520Z",
     "end_time": "2024-06-06T12:59:16.941228Z"
    }
   }
  },
  {
   "cell_type": "code",
   "execution_count": 31,
   "outputs": [
    {
     "name": "stdout",
     "output_type": "stream",
     "text": [
      "Classification Report for S1\n",
      "                             precision    recall  f1-score     support\n",
      "egalitarian                   0.690476  0.568627  0.623656   51.000000\n",
      "general normative statement   0.451613  0.424242  0.437500   33.000000\n",
      "libertarian                   0.500000  1.000000  0.666667    1.000000\n",
      "prioritarian                  0.805970  0.818182  0.812030   66.000000\n",
      "sufficientarian               0.461538  0.750000  0.571429    8.000000\n",
      "utilitarian                   0.666667  0.711864  0.688525   59.000000\n",
      "accuracy                      0.669725  0.669725  0.669725    0.669725\n",
      "macro avg                     0.596044  0.712153  0.633301  218.000000\n",
      "weighted avg                  0.673565  0.669725  0.668344  218.000000\n",
      "\n",
      "\n",
      "Classification Report for S2\n",
      "                             precision    recall  f1-score     support\n",
      "egalitarian                   0.763158  0.568627  0.651685   51.000000\n",
      "general normative statement   0.444444  0.484848  0.463768   33.000000\n",
      "libertarian                   0.500000  1.000000  0.666667    1.000000\n",
      "prioritarian                  0.808824  0.833333  0.820896   66.000000\n",
      "sufficientarian               0.500000  0.750000  0.600000    8.000000\n",
      "utilitarian                   0.693548  0.728814  0.710744   59.000000\n",
      "accuracy                      0.688073  0.688073  0.688073    0.688073\n",
      "macro avg                     0.618329  0.727604  0.652293  218.000000\n",
      "weighted avg                  0.699034  0.688073  0.688624  218.000000\n",
      "\n",
      "\n",
      "Classification Report for S3\n",
      "                             precision    recall  f1-score     support\n",
      "egalitarian                   0.690476  0.568627  0.623656   51.000000\n",
      "general normative statement   0.483871  0.454545  0.468750   33.000000\n",
      "libertarian                   0.500000  1.000000  0.666667    1.000000\n",
      "prioritarian                  0.818182  0.818182  0.818182   66.000000\n",
      "sufficientarian               0.600000  0.750000  0.666667    8.000000\n",
      "utilitarian                   0.686567  0.779661  0.730159   59.000000\n",
      "accuracy                      0.692661  0.692661  0.692661    0.692661\n",
      "macro avg                     0.629849  0.728503  0.662347  218.000000\n",
      "weighted avg                  0.692612  0.692661  0.689700  218.000000\n",
      "\n",
      "\n",
      "Classification Report for S4\n",
      "                             precision    recall  f1-score     support\n",
      "egalitarian                   0.652174  0.588235  0.618557   51.000000\n",
      "general normative statement   0.451613  0.424242  0.437500   33.000000\n",
      "libertarian                   0.500000  1.000000  0.666667    1.000000\n",
      "prioritarian                  0.822581  0.772727  0.796875   66.000000\n",
      "sufficientarian               0.461538  0.750000  0.571429    8.000000\n",
      "utilitarian                   0.687500  0.745763  0.715447   59.000000\n",
      "accuracy                      0.669725  0.669725  0.669725    0.669725\n",
      "macro avg                     0.595901  0.713495  0.634412  218.000000\n",
      "weighted avg                  0.675272  0.669725  0.669849  218.000000\n",
      "\n",
      "\n",
      "Classification Report for S5\n",
      "                             precision    recall  f1-score     support\n",
      "egalitarian                   0.704545  0.607843  0.652632   51.000000\n",
      "general normative statement   0.451613  0.424242  0.437500   33.000000\n",
      "libertarian                   0.500000  1.000000  0.666667    1.000000\n",
      "prioritarian                  0.805970  0.818182  0.812030   66.000000\n",
      "sufficientarian               0.500000  0.750000  0.600000    8.000000\n",
      "utilitarian                   0.677419  0.711864  0.694215   59.000000\n",
      "accuracy                      0.678899  0.678899  0.678899    0.678899\n",
      "macro avg                     0.606591  0.718689  0.643841  218.000000\n",
      "weighted avg                  0.681178  0.678899  0.677711  218.000000\n",
      "\n",
      "\n"
     ]
    }
   ],
   "source": [
    "# Evaluate performance of individual seeds for the same sentences\n",
    "# Function to generate classification report for each dataframe\n",
    "def generate_classification_report(df, true_label_col, pred_label_col):\n",
    "    return classification_report(df[true_label_col], df[pred_label_col], output_dict=True)\n",
    "\n",
    "# Generate classification reports\n",
    "report_S1 = generate_classification_report(FB1S1, 'PRINCIPLE_x', 'PRINCIPLE_y')\n",
    "report_S2 = generate_classification_report(FB1S2, 'PRINCIPLE_x', 'PRINCIPLE_y')\n",
    "report_S3 = generate_classification_report(FB1S3, 'PRINCIPLE_x', 'PRINCIPLE_y')\n",
    "report_S4 = generate_classification_report(FB1S4, 'PRINCIPLE_x', 'PRINCIPLE_y')\n",
    "report_S5 = generate_classification_report(FB1S5, 'PRINCIPLE_x', 'PRINCIPLE_y')\n",
    "\n",
    "# Function to print the classification reports for easy comparison\n",
    "def print_classification_report(report, title):\n",
    "    print(f\"Classification Report for {title}\")\n",
    "    print(pd.DataFrame(report).transpose())\n",
    "    print(\"\\n\")\n",
    "\n",
    "# Print the classification reports\n",
    "print_classification_report(report_S1, \"S1\")\n",
    "print_classification_report(report_S2, \"S2\")\n",
    "print_classification_report(report_S3, \"S3\")\n",
    "print_classification_report(report_S4, \"S4\")\n",
    "print_classification_report(report_S5, \"S5\")"
   ],
   "metadata": {
    "collapsed": false,
    "ExecuteTime": {
     "start_time": "2024-06-06T12:59:19.851550Z",
     "end_time": "2024-06-06T12:59:19.920652Z"
    }
   }
  },
  {
   "cell_type": "markdown",
   "source": [
    "Evaluate consistency of predictions over the 5 different instances - see which sentences are not consistantly predicted.\n"
   ],
   "metadata": {
    "collapsed": false
   }
  },
  {
   "cell_type": "code",
   "execution_count": 32,
   "outputs": [
    {
     "data": {
      "text/plain": "      unique_id                                               text  \\\n21          125  We urge, all parties here in Warsaw to take de...   \n22          126  We believe that, Nationally Appropriate Mitiga...   \n31          139  In addition, major developing countries must a...   \n35          148  The Holy See’s Delegation has repeatedly calle...   \n45          173  The Holy Sce hopes that everyone will join in ...   \n...         ...                                                ...   \n1079       1123  Jamaica urges developed nations to fulfill the...   \n1082       1135  We encourage all nations to adopt a similar ap...   \n1083       1139  Let us rise above our differences, unite in pu...   \n1087       1174  Nor can we stand by , as the massive destructi...   \n1088       1198   We recognise that we must deliver on our coll...   \n\n                      PRINCIPLE_x  \\\n21                   prioritarian   \n22                   prioritarian   \n31    general normative statement   \n35                    egalitarian   \n45                    utilitarian   \n...                           ...   \n1079  general normative statement   \n1082                  egalitarian   \n1083                  egalitarian   \n1087                  utilitarian   \n1088                 prioritarian   \n\n                                              llm_query   PRINCIPLE_y  \\\n21    125 We urge, all parties here in Warsaw to tak...   egalitarian   \n22    126 We believe that, Nationally Appropriate Mi...   egalitarian   \n31    139 In addition, major developing countries mu...   egalitarian   \n35    148 The Holy See’s Delegation has repeatedly c...   utilitarian   \n45    173 The Holy Sce hopes that everyone will join...   utilitarian   \n...                                                 ...           ...   \n1079  1123 Jamaica urges developed nations to fulfil...  prioritarian   \n1082  1135 We encourage all nations to adopt a simil...   egalitarian   \n1083  1139 Let us rise above our differences, unite ...   egalitarian   \n1087  1174 Nor can we stand by , as the massive dest...  prioritarian   \n1088  1198  We recognise that we must deliver on our...  prioritarian   \n\n      iteration  \n21            1  \n22            1  \n31            1  \n35            1  \n45            1  \n...         ...  \n1079          1  \n1082          1  \n1083          1  \n1087          1  \n1088          1  \n\n[115 rows x 6 columns]",
      "text/html": "<div>\n<style scoped>\n    .dataframe tbody tr th:only-of-type {\n        vertical-align: middle;\n    }\n\n    .dataframe tbody tr th {\n        vertical-align: top;\n    }\n\n    .dataframe thead th {\n        text-align: right;\n    }\n</style>\n<table border=\"1\" class=\"dataframe\">\n  <thead>\n    <tr style=\"text-align: right;\">\n      <th></th>\n      <th>unique_id</th>\n      <th>text</th>\n      <th>PRINCIPLE_x</th>\n      <th>llm_query</th>\n      <th>PRINCIPLE_y</th>\n      <th>iteration</th>\n    </tr>\n  </thead>\n  <tbody>\n    <tr>\n      <th>21</th>\n      <td>125</td>\n      <td>We urge, all parties here in Warsaw to take de...</td>\n      <td>prioritarian</td>\n      <td>125 We urge, all parties here in Warsaw to tak...</td>\n      <td>egalitarian</td>\n      <td>1</td>\n    </tr>\n    <tr>\n      <th>22</th>\n      <td>126</td>\n      <td>We believe that, Nationally Appropriate Mitiga...</td>\n      <td>prioritarian</td>\n      <td>126 We believe that, Nationally Appropriate Mi...</td>\n      <td>egalitarian</td>\n      <td>1</td>\n    </tr>\n    <tr>\n      <th>31</th>\n      <td>139</td>\n      <td>In addition, major developing countries must a...</td>\n      <td>general normative statement</td>\n      <td>139 In addition, major developing countries mu...</td>\n      <td>egalitarian</td>\n      <td>1</td>\n    </tr>\n    <tr>\n      <th>35</th>\n      <td>148</td>\n      <td>The Holy See’s Delegation has repeatedly calle...</td>\n      <td>egalitarian</td>\n      <td>148 The Holy See’s Delegation has repeatedly c...</td>\n      <td>utilitarian</td>\n      <td>1</td>\n    </tr>\n    <tr>\n      <th>45</th>\n      <td>173</td>\n      <td>The Holy Sce hopes that everyone will join in ...</td>\n      <td>utilitarian</td>\n      <td>173 The Holy Sce hopes that everyone will join...</td>\n      <td>utilitarian</td>\n      <td>1</td>\n    </tr>\n    <tr>\n      <th>...</th>\n      <td>...</td>\n      <td>...</td>\n      <td>...</td>\n      <td>...</td>\n      <td>...</td>\n      <td>...</td>\n    </tr>\n    <tr>\n      <th>1079</th>\n      <td>1123</td>\n      <td>Jamaica urges developed nations to fulfill the...</td>\n      <td>general normative statement</td>\n      <td>1123 Jamaica urges developed nations to fulfil...</td>\n      <td>prioritarian</td>\n      <td>1</td>\n    </tr>\n    <tr>\n      <th>1082</th>\n      <td>1135</td>\n      <td>We encourage all nations to adopt a similar ap...</td>\n      <td>egalitarian</td>\n      <td>1135 We encourage all nations to adopt a simil...</td>\n      <td>egalitarian</td>\n      <td>1</td>\n    </tr>\n    <tr>\n      <th>1083</th>\n      <td>1139</td>\n      <td>Let us rise above our differences, unite in pu...</td>\n      <td>egalitarian</td>\n      <td>1139 Let us rise above our differences, unite ...</td>\n      <td>egalitarian</td>\n      <td>1</td>\n    </tr>\n    <tr>\n      <th>1087</th>\n      <td>1174</td>\n      <td>Nor can we stand by , as the massive destructi...</td>\n      <td>utilitarian</td>\n      <td>1174 Nor can we stand by , as the massive dest...</td>\n      <td>prioritarian</td>\n      <td>1</td>\n    </tr>\n    <tr>\n      <th>1088</th>\n      <td>1198</td>\n      <td>We recognise that we must deliver on our coll...</td>\n      <td>prioritarian</td>\n      <td>1198  We recognise that we must deliver on our...</td>\n      <td>prioritarian</td>\n      <td>1</td>\n    </tr>\n  </tbody>\n</table>\n<p>115 rows × 6 columns</p>\n</div>"
     },
     "execution_count": 32,
     "metadata": {},
     "output_type": "execute_result"
    }
   ],
   "source": [
    "# I want to evaluate consistency\n",
    "# Print all rows where inconsequences are found per seed\n",
    "def principle_y_not_uniform(group):\n",
    "    return group['PRINCIPLE_y'].nunique() != 1\n",
    "\n",
    "\n",
    "# Group by 'ID' and filter groups\n",
    "B21_consistency = filtered_B21.groupby('unique_id').filter(principle_y_not_uniform)\n",
    "\n",
    "B21_consistency"
   ],
   "metadata": {
    "collapsed": false,
    "ExecuteTime": {
     "start_time": "2024-06-06T12:59:37.868910Z",
     "end_time": "2024-06-06T12:59:37.902935Z"
    }
   }
  },
  {
   "cell_type": "markdown",
   "source": [
    "\n",
    "In combined dataframe, groupyby unique ID and take the majority label"
   ],
   "metadata": {
    "collapsed": false
   }
  },
  {
   "cell_type": "code",
   "execution_count": 33,
   "outputs": [
    {
     "data": {
      "text/plain": "     unique_id                                               text  \\\n0            3   Mr. President:  A fair and effective framewor...   \n1            5  Such a framework must be based on “nationally ...   \n2           44  It should not only enable us to discuss global...   \n3           53  Global warming is a catastrophic problem that ...   \n4           54  Therefore, the multilateralism approach remain...   \n..         ...                                                ...   \n213       1172   As we work to catch up on lost time and progr...   \n214       1173   Conflict -ridden communities, refugees, and d...   \n215       1174  Nor can we stand by , as the massive destructi...   \n216       1198   We recognise that we must deliver on our coll...   \n217       1205   We need a course correction, and working toge...   \n\n                     PRINCIPLE_x  \\\n0                    utilitarian   \n1                    egalitarian   \n2                    utilitarian   \n3                    utilitarian   \n4    general normative statement   \n..                           ...   \n213                 prioritarian   \n214                 prioritarian   \n215                  utilitarian   \n216                 prioritarian   \n217                  utilitarian   \n\n                                             llm_query  iteration  \\\n0    3  Mr. President:  A fair and effective framew...          1   \n1    5 Such a framework must be based on “nationall...          1   \n2    44 It should not only enable us to discuss glo...          1   \n3    53 Global warming is a catastrophic problem th...          1   \n4    54 Therefore, the multilateralism approach rem...          1   \n..                                                 ...        ...   \n213  1172  As we work to catch up on lost time and ...          1   \n214  1173  Conflict -ridden communities, refugees, ...          1   \n215  1174 Nor can we stand by , as the massive dest...          1   \n216  1198  We recognise that we must deliver on our...          1   \n217  1205  We need a course correction, and working...          1   \n\n                     PRINCIPLE_y  \n0                    egalitarian  \n1    general normative statement  \n2                    utilitarian  \n3                    utilitarian  \n4    general normative statement  \n..                           ...  \n213                 prioritarian  \n214                 prioritarian  \n215                 prioritarian  \n216                 prioritarian  \n217                  utilitarian  \n\n[218 rows x 6 columns]",
      "text/html": "<div>\n<style scoped>\n    .dataframe tbody tr th:only-of-type {\n        vertical-align: middle;\n    }\n\n    .dataframe tbody tr th {\n        vertical-align: top;\n    }\n\n    .dataframe thead th {\n        text-align: right;\n    }\n</style>\n<table border=\"1\" class=\"dataframe\">\n  <thead>\n    <tr style=\"text-align: right;\">\n      <th></th>\n      <th>unique_id</th>\n      <th>text</th>\n      <th>PRINCIPLE_x</th>\n      <th>llm_query</th>\n      <th>iteration</th>\n      <th>PRINCIPLE_y</th>\n    </tr>\n  </thead>\n  <tbody>\n    <tr>\n      <th>0</th>\n      <td>3</td>\n      <td>Mr. President:  A fair and effective framewor...</td>\n      <td>utilitarian</td>\n      <td>3  Mr. President:  A fair and effective framew...</td>\n      <td>1</td>\n      <td>egalitarian</td>\n    </tr>\n    <tr>\n      <th>1</th>\n      <td>5</td>\n      <td>Such a framework must be based on “nationally ...</td>\n      <td>egalitarian</td>\n      <td>5 Such a framework must be based on “nationall...</td>\n      <td>1</td>\n      <td>general normative statement</td>\n    </tr>\n    <tr>\n      <th>2</th>\n      <td>44</td>\n      <td>It should not only enable us to discuss global...</td>\n      <td>utilitarian</td>\n      <td>44 It should not only enable us to discuss glo...</td>\n      <td>1</td>\n      <td>utilitarian</td>\n    </tr>\n    <tr>\n      <th>3</th>\n      <td>53</td>\n      <td>Global warming is a catastrophic problem that ...</td>\n      <td>utilitarian</td>\n      <td>53 Global warming is a catastrophic problem th...</td>\n      <td>1</td>\n      <td>utilitarian</td>\n    </tr>\n    <tr>\n      <th>4</th>\n      <td>54</td>\n      <td>Therefore, the multilateralism approach remain...</td>\n      <td>general normative statement</td>\n      <td>54 Therefore, the multilateralism approach rem...</td>\n      <td>1</td>\n      <td>general normative statement</td>\n    </tr>\n    <tr>\n      <th>...</th>\n      <td>...</td>\n      <td>...</td>\n      <td>...</td>\n      <td>...</td>\n      <td>...</td>\n      <td>...</td>\n    </tr>\n    <tr>\n      <th>213</th>\n      <td>1172</td>\n      <td>As we work to catch up on lost time and progr...</td>\n      <td>prioritarian</td>\n      <td>1172  As we work to catch up on lost time and ...</td>\n      <td>1</td>\n      <td>prioritarian</td>\n    </tr>\n    <tr>\n      <th>214</th>\n      <td>1173</td>\n      <td>Conflict -ridden communities, refugees, and d...</td>\n      <td>prioritarian</td>\n      <td>1173  Conflict -ridden communities, refugees, ...</td>\n      <td>1</td>\n      <td>prioritarian</td>\n    </tr>\n    <tr>\n      <th>215</th>\n      <td>1174</td>\n      <td>Nor can we stand by , as the massive destructi...</td>\n      <td>utilitarian</td>\n      <td>1174 Nor can we stand by , as the massive dest...</td>\n      <td>1</td>\n      <td>prioritarian</td>\n    </tr>\n    <tr>\n      <th>216</th>\n      <td>1198</td>\n      <td>We recognise that we must deliver on our coll...</td>\n      <td>prioritarian</td>\n      <td>1198  We recognise that we must deliver on our...</td>\n      <td>1</td>\n      <td>prioritarian</td>\n    </tr>\n    <tr>\n      <th>217</th>\n      <td>1205</td>\n      <td>We need a course correction, and working toge...</td>\n      <td>utilitarian</td>\n      <td>1205  We need a course correction, and working...</td>\n      <td>1</td>\n      <td>utilitarian</td>\n    </tr>\n  </tbody>\n</table>\n<p>218 rows × 6 columns</p>\n</div>"
     },
     "execution_count": 33,
     "metadata": {},
     "output_type": "execute_result"
    }
   ],
   "source": [
    "# Define a function to get the most frequent element\n",
    "def most_frequent(x):\n",
    "    return Counter(x).most_common(1)[0][0]\n",
    "\n",
    "# List of all columns\n",
    "all_columns = filtered_B21.columns.tolist()\n",
    "\n",
    "# Dictionary to specify aggregation functions\n",
    "agg_dict = {col: 'first' for col in all_columns if col not in ['unique_id', 'PRINCIPLE_y']}\n",
    "agg_dict['PRINCIPLE_y'] = most_frequent\n",
    "\n",
    "# Group by 'unique_id' and apply the aggregation functions\n",
    "filtered_B21_grouped = filtered_B21.groupby('unique_id').agg(agg_dict).reset_index()\n",
    "\n",
    "filtered_B21_grouped"
   ],
   "metadata": {
    "collapsed": false,
    "ExecuteTime": {
     "start_time": "2024-06-06T12:59:57.137395Z",
     "end_time": "2024-06-06T12:59:57.172579Z"
    }
   }
  },
  {
   "cell_type": "code",
   "execution_count": 34,
   "outputs": [
    {
     "name": "stdout",
     "output_type": "stream",
     "text": [
      "                             precision    recall  f1-score   support\n",
      "\n",
      "                egalitarian       0.71      0.57      0.63        51\n",
      "general normative statement       0.45      0.42      0.44        33\n",
      "                libertarian       0.50      1.00      0.67         1\n",
      "               prioritarian       0.81      0.82      0.81        66\n",
      "            sufficientarian       0.46      0.75      0.57         8\n",
      "                utilitarian       0.67      0.73      0.70        59\n",
      "\n",
      "                   accuracy                           0.67       218\n",
      "                  macro avg       0.60      0.71      0.64       218\n",
      "               weighted avg       0.68      0.67      0.67       218\n",
      "\n"
     ]
    }
   ],
   "source": [
    "# Evaluate performance of this dataframe\n",
    "print(classification_report(filtered_B21_grouped['PRINCIPLE_x'],filtered_B21_grouped['PRINCIPLE_y']))"
   ],
   "metadata": {
    "collapsed": false,
    "ExecuteTime": {
     "start_time": "2024-06-06T13:00:00.807364Z",
     "end_time": "2024-06-06T13:00:00.840030Z"
    }
   }
  },
  {
   "cell_type": "code",
   "execution_count": 35,
   "outputs": [
    {
     "data": {
      "text/plain": "(array([0, 1, 2, 3, 4, 5]),\n [Text(0, 0, 'egalitarian'),\n  Text(1, 0, 'GNS'),\n  Text(2, 0, 'libertarian'),\n  Text(3, 0, 'prioritarian'),\n  Text(4, 0, 'sufficientarian'),\n  Text(5, 0, 'utilitarian')])"
     },
     "execution_count": 35,
     "metadata": {},
     "output_type": "execute_result"
    },
    {
     "data": {
      "text/plain": "<Figure size 8000x8000 with 0 Axes>"
     },
     "metadata": {},
     "output_type": "display_data"
    },
    {
     "data": {
      "text/plain": "<Figure size 640x480 with 2 Axes>",
      "image/png": "[encoded data removed]"
     },
     "metadata": {},
     "output_type": "display_data"
    }
   ],
   "source": [
    "# Evaluate confusionmatrix for this aggregated set\n",
    "labels = ['egalitarian', 'GNS', 'libertarian','prioritarian', 'sufficientarian', 'utilitarian']\n",
    "\n",
    "plt.figure(figsize=(80, 80))\n",
    "cm = confusion_matrix(filtered_B21_grouped['PRINCIPLE_x'],filtered_B21_grouped['PRINCIPLE_y'])\n",
    "disp = ConfusionMatrixDisplay(confusion_matrix=cm, display_labels=labels)\n",
    "disp.plot(cmap=plt.cm.Blues)\n",
    "\n",
    "# Rotate x-axis and y-axis tick labels\n",
    "plt.xticks(rotation=45)"
   ],
   "metadata": {
    "collapsed": false,
    "ExecuteTime": {
     "start_time": "2024-06-06T13:03:21.663906Z",
     "end_time": "2024-06-06T13:03:22.175941Z"
    }
   }
  }
 ],
 "metadata": {
  "kernelspec": {
   "display_name": "Python 3",
   "language": "python",
   "name": "python3"
  },
  "language_info": {
   "codemirror_mode": {
    "name": "ipython",
    "version": 2
   },
   "file_extension": ".py",
   "mimetype": "text/x-python",
   "name": "python",
   "nbconvert_exporter": "python",
   "pygments_lexer": "ipython2",
   "version": "2.7.6"
  }
 },
 "nbformat": 4,
 "nbformat_minor": 0
}
