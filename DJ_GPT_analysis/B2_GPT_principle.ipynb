{
 "cells": [
  {
   "cell_type": "code",
   "execution_count": 1,
   "metadata": {
    "collapsed": true,
    "ExecuteTime": {
     "start_time": "2024-06-06T12:37:17.595894Z",
     "end_time": "2024-06-06T12:37:17.613010Z"
    }
   },
   "outputs": [],
   "source": [
    "import numpy as np\n",
    "import pandas as pd\n",
    "import os\n",
    "import re\n",
    "import matplotlib.pyplot as plt\n",
    "import seaborn as sns\n",
    "import difflib"
   ]
  },
  {
   "cell_type": "markdown",
   "source": [
    "## Notebook to annotate HLS speeches for principles\n",
    "### B: string-based labels\n",
    "\n",
    "Codebooks:\n",
    "- B2.0: zero shot\n",
    "- B2.1: one shot\n",
    "\n",
    "Only apply on sentences in ground truth dataframe labelled as relevant\n",
    "Temperature: 0\n",
    "Iterations: 1\n",
    "\n",
    "Test for 5 different seeds Batch of 20 sentences, Temperature 0\n",
    "Model selection: GPT-4o\n"
   ],
   "metadata": {
    "collapsed": false
   }
  },
  {
   "cell_type": "markdown",
   "source": [
    "### 1. Import text to annotate\n",
    "Select only relevant columns of the full dataframe, in this case:\n",
    "PRINCIPLE\n",
    "\n",
    "In this case, evaluation is performed on only the sentences that are deemed relevant in the manual annotation. Only these sentences are labelled for the principle they present."
   ],
   "metadata": {
    "collapsed": false
   }
  },
  {
   "cell_type": "code",
   "execution_count": 2,
   "outputs": [],
   "source": [
    "# Import string based datafile\n",
    "HLS_train = pd.read_csv('data/string/HLS_train_string.csv')"
   ],
   "metadata": {
    "collapsed": false,
    "ExecuteTime": {
     "start_time": "2024-06-06T12:37:20.474556Z",
     "end_time": "2024-06-06T12:37:20.489749Z"
    }
   }
  },
  {
   "cell_type": "code",
   "execution_count": 3,
   "outputs": [],
   "source": [
    "HLS_train_relevant = HLS_train[HLS_train['RELEVANCE']=='Relevant']"
   ],
   "metadata": {
    "collapsed": false,
    "ExecuteTime": {
     "start_time": "2024-06-06T12:37:21.390613Z",
     "end_time": "2024-06-06T12:37:21.413029Z"
    }
   }
  },
  {
   "cell_type": "code",
   "execution_count": 4,
   "outputs": [
    {
     "data": {
      "text/plain": "                                                   Text  \\\n3      Mr. President:  A fair and effective framewor...   \n5     Such a framework must be based on “nationally ...   \n44    It should not only enable us to discuss global...   \n53    Global warming is a catastrophic problem that ...   \n54    Therefore, the multilateralism approach remain...   \n...                                                 ...   \n1172   As we work to catch up on lost time and progr...   \n1173   Conflict -ridden communities, refugees, and d...   \n1174  Nor can we stand by , as the massive destructi...   \n1198   We recognise that we must deliver on our coll...   \n1205   We need a course correction, and working toge...   \n\n                        PRINCIPLE  \n3                     utilitarian  \n5                     egalitarian  \n44                    utilitarian  \n53                    utilitarian  \n54    general normative statement  \n...                           ...  \n1172                 prioritarian  \n1173                 prioritarian  \n1174                  utilitarian  \n1198                 prioritarian  \n1205                  utilitarian  \n\n[218 rows x 2 columns]",
      "text/html": "<div>\n<style scoped>\n    .dataframe tbody tr th:only-of-type {\n        vertical-align: middle;\n    }\n\n    .dataframe tbody tr th {\n        vertical-align: top;\n    }\n\n    .dataframe thead th {\n        text-align: right;\n    }\n</style>\n<table border=\"1\" class=\"dataframe\">\n  <thead>\n    <tr style=\"text-align: right;\">\n      <th></th>\n      <th>Text</th>\n      <th>PRINCIPLE</th>\n    </tr>\n  </thead>\n  <tbody>\n    <tr>\n      <th>3</th>\n      <td>Mr. President:  A fair and effective framewor...</td>\n      <td>utilitarian</td>\n    </tr>\n    <tr>\n      <th>5</th>\n      <td>Such a framework must be based on “nationally ...</td>\n      <td>egalitarian</td>\n    </tr>\n    <tr>\n      <th>44</th>\n      <td>It should not only enable us to discuss global...</td>\n      <td>utilitarian</td>\n    </tr>\n    <tr>\n      <th>53</th>\n      <td>Global warming is a catastrophic problem that ...</td>\n      <td>utilitarian</td>\n    </tr>\n    <tr>\n      <th>54</th>\n      <td>Therefore, the multilateralism approach remain...</td>\n      <td>general normative statement</td>\n    </tr>\n    <tr>\n      <th>...</th>\n      <td>...</td>\n      <td>...</td>\n    </tr>\n    <tr>\n      <th>1172</th>\n      <td>As we work to catch up on lost time and progr...</td>\n      <td>prioritarian</td>\n    </tr>\n    <tr>\n      <th>1173</th>\n      <td>Conflict -ridden communities, refugees, and d...</td>\n      <td>prioritarian</td>\n    </tr>\n    <tr>\n      <th>1174</th>\n      <td>Nor can we stand by , as the massive destructi...</td>\n      <td>utilitarian</td>\n    </tr>\n    <tr>\n      <th>1198</th>\n      <td>We recognise that we must deliver on our coll...</td>\n      <td>prioritarian</td>\n    </tr>\n    <tr>\n      <th>1205</th>\n      <td>We need a course correction, and working toge...</td>\n      <td>utilitarian</td>\n    </tr>\n  </tbody>\n</table>\n<p>218 rows × 2 columns</p>\n</div>"
     },
     "execution_count": 4,
     "metadata": {},
     "output_type": "execute_result"
    }
   ],
   "source": [
    "# Select only columns containing relevance labels\n",
    "HLS_principle = HLS_train_relevant[['Text', 'PRINCIPLE']]\n",
    "HLS_principle"
   ],
   "metadata": {
    "collapsed": false,
    "ExecuteTime": {
     "start_time": "2024-06-06T12:37:22.279421Z",
     "end_time": "2024-06-06T12:37:22.312816Z"
    }
   }
  },
  {
   "cell_type": "code",
   "execution_count": 5,
   "outputs": [
    {
     "data": {
      "text/plain": "prioritarian                   66\nutilitarian                    59\negalitarian                    51\ngeneral normative statement    33\nsufficientarian                 8\nlibertarian                     1\nName: PRINCIPLE, dtype: int64"
     },
     "execution_count": 5,
     "metadata": {},
     "output_type": "execute_result"
    }
   ],
   "source": [
    "HLS_principle.PRINCIPLE.value_counts()"
   ],
   "metadata": {
    "collapsed": false,
    "ExecuteTime": {
     "start_time": "2024-06-06T12:37:25.898435Z",
     "end_time": "2024-06-06T12:37:25.907302Z"
    }
   }
  },
  {
   "cell_type": "markdown",
   "source": [
    "### 2. Import necessary files\n",
    "- codebooks\n",
    "- API key\n",
    "- import gpt_annotate_num"
   ],
   "metadata": {
    "collapsed": false
   }
  },
  {
   "cell_type": "code",
   "execution_count": 6,
   "outputs": [],
   "source": [
    "# Load codebook - zero shot\n",
    "with open('codebooks/B2.0', 'r', encoding='utf-8') as file:\n",
    "    B20 = file.read()"
   ],
   "metadata": {
    "collapsed": false,
    "ExecuteTime": {
     "start_time": "2024-06-06T12:37:28.741655Z",
     "end_time": "2024-06-06T12:37:28.755982Z"
    }
   }
  },
  {
   "cell_type": "code",
   "execution_count": 7,
   "outputs": [],
   "source": [
    "# OpenAI key\n",
    "with open('gpt_api_key.txt', 'r') as f:\n",
    "    key = f.read().strip()"
   ],
   "metadata": {
    "collapsed": false,
    "ExecuteTime": {
     "start_time": "2024-06-06T12:37:29.226779Z",
     "end_time": "2024-06-06T12:37:29.238729Z"
    }
   }
  },
  {
   "cell_type": "code",
   "execution_count": 8,
   "outputs": [],
   "source": [
    "import gpt_annotate_string"
   ],
   "metadata": {
    "collapsed": false,
    "ExecuteTime": {
     "start_time": "2024-06-06T12:37:29.911527Z",
     "end_time": "2024-06-06T12:37:45.937709Z"
    }
   }
  },
  {
   "cell_type": "markdown",
   "source": [
    "### 3. Prepare data for annotation\n",
    "Compares column names in HLS_principle to the codes identified by GPT-4o in the codebook. Seed for this identification is set to 1234."
   ],
   "metadata": {
    "collapsed": false
   }
  },
  {
   "cell_type": "code",
   "execution_count": 9,
   "outputs": [
    {
     "name": "stdout",
     "output_type": "stream",
     "text": [
      "ChatCompletion(id='chatcmpl-9X4n4012lUNhn8thU5wR7f6y2jIUE', choices=[Choice(finish_reason='stop', index=0, logprobs=None, message=ChatCompletionMessage(content='PRINCIPLE', role='assistant', function_call=None, tool_calls=None))], created=1717670266, model='gpt-4o-2024-05-13', object='chat.completion', system_fingerprint='fp_319be4768e', usage=CompletionUsage(completion_tokens=3, prompt_tokens=582, total_tokens=585))\n",
      "\n",
      "Categories to annotate:\n",
      "1) PRINCIPLE\n",
      "\n",
      "\n",
      "Data is ready to be annotated using gpt_annotate()!\n",
      "\n",
      "Glimpse of your data:\n",
      "Shape of data:  (218, 4)\n",
      "   unique_id                                               text  \\\n",
      "0          3   Mr. President:  A fair and effective framewor...   \n",
      "1          5  Such a framework must be based on “nationally ...   \n",
      "2         44  It should not only enable us to discuss global...   \n",
      "3         53  Global warming is a catastrophic problem that ...   \n",
      "4         54  Therefore, the multilateralism approach remain...   \n",
      "\n",
      "                     PRINCIPLE  \\\n",
      "0                  utilitarian   \n",
      "1                  egalitarian   \n",
      "2                  utilitarian   \n",
      "3                  utilitarian   \n",
      "4  general normative statement   \n",
      "\n",
      "                                           llm_query  \n",
      "0  3  Mr. President:  A fair and effective framew...  \n",
      "1  5 Such a framework must be based on “nationall...  \n",
      "2  44 It should not only enable us to discuss glo...  \n",
      "3  53 Global warming is a catastrophic problem th...  \n",
      "4  54 Therefore, the multilateralism approach rem...  \n"
     ]
    }
   ],
   "source": [
    "# Prepare dataframe for annotation\n",
    "text_to_annotate = gpt_annotate_string.prepare_data(HLS_principle, B20, key, prep_codebook=True)"
   ],
   "metadata": {
    "collapsed": false,
    "ExecuteTime": {
     "start_time": "2024-06-06T12:37:45.942816Z",
     "end_time": "2024-06-06T12:38:00.289895Z"
    }
   }
  },
  {
   "cell_type": "markdown",
   "source": [
    "Fingerprint used: fp_319be4768e\n",
    "\n",
    "Seed of textpreparation is hardcoded into gpt_annotate. This to ensure that onlye the results of the same fingerprint for all seeds and all iterations. Essentially every time GPT-4o is called only results with this specific fingerprint are saved."
   ],
   "metadata": {
    "collapsed": false
   }
  },
  {
   "cell_type": "markdown",
   "source": [
    "# 4. Run gpt_annotate_string\n",
    "Evaluation per seed -\n",
    "5 different seeds\n",
    "Batch of 20 sentences\n",
    "1 iteration\n",
    "\n",
    "Returns 3 outputs:\n",
    "1. all_iterations_{seed}.csv\n",
    "2. fingerprints_all.csv\n",
    "3. missed_batches.csv\n",
    "\n",
    "## B2.0 principle - zero shot"
   ],
   "metadata": {
    "collapsed": false
   }
  },
  {
   "cell_type": "code",
   "execution_count": 10,
   "outputs": [],
   "source": [
    "fingerprint = 'fp_319be4768e'\n",
    "\n",
    "#Block seed to prevent accidental rerun of gpt_annotate\n",
    "seeds = [3644,3441, 280, 5991, 7917]"
   ],
   "metadata": {
    "collapsed": false,
    "ExecuteTime": {
     "start_time": "2024-06-06T12:38:07.835123Z",
     "end_time": "2024-06-06T12:38:07.848087Z"
    }
   }
  },
  {
   "cell_type": "code",
   "execution_count": 15,
   "outputs": [
    {
     "name": "stdout",
     "output_type": "stream",
     "text": [
      "3644 - iteration 1\n",
      "iteration:  1 completed\n",
      "3441 - iteration 1\n",
      "3441 - I1 - B8 fingerprint does not match\n",
      "iteration:  1 completed\n",
      "280 - iteration 1\n",
      "280 - I1 - B1 fingerprint does not match\n",
      "280 - I1 - B11 fingerprint does not match\n",
      "iteration:  1 completed\n",
      "5991 - iteration 1\n",
      "iteration:  1 completed\n",
      "7917 - iteration 1\n",
      "iteration:  1 completed\n"
     ]
    }
   ],
   "source": [
    "# Annotate the data - T0 - I1\n",
    "for seed in seeds:\n",
    "    gpt_annotate_string.gpt_annotate(text_to_annotate, B20, key, seed,fingerprint, experiment=\"B2.0\",  num_iterations=1, model=\"gpt-4o\", temperature=0, batch_size=20, human_labels=True)"
   ],
   "metadata": {
    "collapsed": false,
    "ExecuteTime": {
     "start_time": "2024-05-29T00:11:16.818300Z",
     "end_time": "2024-05-29T00:14:07.665172Z"
    }
   }
  },
  {
   "cell_type": "markdown",
   "source": [
    "## B2.1 principle - one shot"
   ],
   "metadata": {
    "collapsed": false
   }
  },
  {
   "cell_type": "code",
   "execution_count": 12,
   "outputs": [],
   "source": [
    "# Load codebook - zero shot\n",
    "with open('codebooks/B2.1', 'r', encoding='utf-8') as file:\n",
    "    B21 = file.read()"
   ],
   "metadata": {
    "collapsed": false,
    "ExecuteTime": {
     "start_time": "2024-06-06T12:38:29.031184Z",
     "end_time": "2024-06-06T12:38:29.031184Z"
    }
   }
  },
  {
   "cell_type": "code",
   "execution_count": 13,
   "outputs": [
    {
     "name": "stdout",
     "output_type": "stream",
     "text": [
      "3644 - iteration 1\n",
      "iteration:  1 completed\n",
      "3441 - iteration 1\n",
      "iteration:  1 completed\n",
      "280 - iteration 1\n",
      "iteration:  1 completed\n",
      "5991 - iteration 1\n",
      "iteration:  1 completed\n",
      "7917 - iteration 1\n",
      "iteration:  1 completed\n"
     ]
    }
   ],
   "source": [
    "# Annotate the data - T0 - I1\n",
    "for seed in seeds:\n",
    "    gpt_annotate_string.gpt_annotate(text_to_annotate, B21, key, seed,fingerprint, experiment=\"B2.1\",  num_iterations=1, model=\"gpt-4o\", temperature=0, batch_size=20, human_labels=True)"
   ],
   "metadata": {
    "collapsed": false,
    "ExecuteTime": {
     "start_time": "2024-06-06T12:38:31.028764Z",
     "end_time": "2024-06-06T12:41:35.799796Z"
    }
   }
  }
 ],
 "metadata": {
  "kernelspec": {
   "display_name": "Python 3",
   "language": "python",
   "name": "python3"
  },
  "language_info": {
   "codemirror_mode": {
    "name": "ipython",
    "version": 2
   },
   "file_extension": ".py",
   "mimetype": "text/x-python",
   "name": "python",
   "nbconvert_exporter": "python",
   "pygments_lexer": "ipython2",
   "version": "2.7.6"
  }
 },
 "nbformat": 4,
 "nbformat_minor": 0
}
