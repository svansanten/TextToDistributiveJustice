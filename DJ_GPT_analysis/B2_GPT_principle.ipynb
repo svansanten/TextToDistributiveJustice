{
 "cells": [
  {
   "cell_type": "code",
   "execution_count": 1,
   "metadata": {
    "collapsed": true,
    "ExecuteTime": {
     "start_time": "2024-06-06T12:37:17.595894Z",
     "end_time": "2024-06-06T12:37:17.613010Z"
    }
   },
   "outputs": [],
   "source": [
    "import numpy as np\n",
    "import pandas as pd\n",
    "import os\n",
    "import re\n",
    "import matplotlib.pyplot as plt\n",
    "import seaborn as sns\n",
    "import difflib"
   ]
  },
  {
   "cell_type": "markdown",
   "source": [
    "## Notebook to annotate HLS speeches for principles\n",
    "### B: string-based labels\n",
    "\n",
    "Codebooks:\n",
    "- B2.0: zero shot\n",
    "- B2.1: one shot\n",
    "\n",
    "Only apply on sentences in OG dataframe labelled as relevant\n",
    "Temperature: 0\n",
    "Iterations: 1\n",
    "\n",
    "Model selection:\n",
    " As of 22-05-2024, gpt-4-turbo-2024-04-09 seems to be the only gpt-model that returns a fingerprint in addition to gpt-4o\n",
    "\n",
    "  #model= \"gpt-4-turbo-2024-04-09\"\n",
    "  #model = \"gpt-3.5-turbo-0125\"\n"
   ],
   "metadata": {
    "collapsed": false
   }
  },
  {
   "cell_type": "markdown",
   "source": [
    "### 1. Import text to annotate\n",
    "Select only relevant columns of the full dataframe, in this case:\n",
    "PRINCIPLE\n",
    "\n",
    "In this case, evaluation is performed on only the sentences that are deemed relevant in the manual annotation. Only these sentences are labelled for the principle they present."
   ],
   "metadata": {
    "collapsed": false
   }
  },
  {
   "cell_type": "code",
   "execution_count": 2,
   "outputs": [],
   "source": [
    "# Import string based datafile\n",
    "HLS_train = pd.read_csv('data/string/HLS_train_string.csv')"
   ],
   "metadata": {
    "collapsed": false,
    "ExecuteTime": {
     "start_time": "2024-06-06T12:37:20.474556Z",
     "end_time": "2024-06-06T12:37:20.489749Z"
    }
   }
  },
  {
   "cell_type": "code",
   "execution_count": 3,
   "outputs": [],
   "source": [
    "### Select only japan for testing purposes\n",
    "#HLS_train_japan = HLS_train[HLS_train['id']=='COP19_japan']\n",
    "HLS_train_relevant = HLS_train[HLS_train['RELEVANCE']=='Relevant']"
   ],
   "metadata": {
    "collapsed": false,
    "ExecuteTime": {
     "start_time": "2024-06-06T12:37:21.390613Z",
     "end_time": "2024-06-06T12:37:21.413029Z"
    }
   }
  },
  {
   "cell_type": "code",
   "execution_count": 4,
   "outputs": [
    {
     "data": {
      "text/plain": "                                                   Text  \\\n3      Mr. President:  A fair and effective framewor...   \n5     Such a framework must be based on “nationally ...   \n44    It should not only enable us to discuss global...   \n53    Global warming is a catastrophic problem that ...   \n54    Therefore, the multilateralism approach remain...   \n...                                                 ...   \n1172   As we work to catch up on lost time and progr...   \n1173   Conflict -ridden communities, refugees, and d...   \n1174  Nor can we stand by , as the massive destructi...   \n1198   We recognise that we must deliver on our coll...   \n1205   We need a course correction, and working toge...   \n\n                        PRINCIPLE  \n3                     utilitarian  \n5                     egalitarian  \n44                    utilitarian  \n53                    utilitarian  \n54    general normative statement  \n...                           ...  \n1172                 prioritarian  \n1173                 prioritarian  \n1174                  utilitarian  \n1198                 prioritarian  \n1205                  utilitarian  \n\n[218 rows x 2 columns]",
      "text/html": "<div>\n<style scoped>\n    .dataframe tbody tr th:only-of-type {\n        vertical-align: middle;\n    }\n\n    .dataframe tbody tr th {\n        vertical-align: top;\n    }\n\n    .dataframe thead th {\n        text-align: right;\n    }\n</style>\n<table border=\"1\" class=\"dataframe\">\n  <thead>\n    <tr style=\"text-align: right;\">\n      <th></th>\n      <th>Text</th>\n      <th>PRINCIPLE</th>\n    </tr>\n  </thead>\n  <tbody>\n    <tr>\n      <th>3</th>\n      <td>Mr. President:  A fair and effective framewor...</td>\n      <td>utilitarian</td>\n    </tr>\n    <tr>\n      <th>5</th>\n      <td>Such a framework must be based on “nationally ...</td>\n      <td>egalitarian</td>\n    </tr>\n    <tr>\n      <th>44</th>\n      <td>It should not only enable us to discuss global...</td>\n      <td>utilitarian</td>\n    </tr>\n    <tr>\n      <th>53</th>\n      <td>Global warming is a catastrophic problem that ...</td>\n      <td>utilitarian</td>\n    </tr>\n    <tr>\n      <th>54</th>\n      <td>Therefore, the multilateralism approach remain...</td>\n      <td>general normative statement</td>\n    </tr>\n    <tr>\n      <th>...</th>\n      <td>...</td>\n      <td>...</td>\n    </tr>\n    <tr>\n      <th>1172</th>\n      <td>As we work to catch up on lost time and progr...</td>\n      <td>prioritarian</td>\n    </tr>\n    <tr>\n      <th>1173</th>\n      <td>Conflict -ridden communities, refugees, and d...</td>\n      <td>prioritarian</td>\n    </tr>\n    <tr>\n      <th>1174</th>\n      <td>Nor can we stand by , as the massive destructi...</td>\n      <td>utilitarian</td>\n    </tr>\n    <tr>\n      <th>1198</th>\n      <td>We recognise that we must deliver on our coll...</td>\n      <td>prioritarian</td>\n    </tr>\n    <tr>\n      <th>1205</th>\n      <td>We need a course correction, and working toge...</td>\n      <td>utilitarian</td>\n    </tr>\n  </tbody>\n</table>\n<p>218 rows × 2 columns</p>\n</div>"
     },
     "execution_count": 4,
     "metadata": {},
     "output_type": "execute_result"
    }
   ],
   "source": [
    "# Select only columns containing relevance labels\n",
    "HLS_principle = HLS_train_relevant[['Text', 'PRINCIPLE']]\n",
    "HLS_principle"
   ],
   "metadata": {
    "collapsed": false,
    "ExecuteTime": {
     "start_time": "2024-06-06T12:37:22.279421Z",
     "end_time": "2024-06-06T12:37:22.312816Z"
    }
   }
  },
  {
   "cell_type": "code",
   "execution_count": 5,
   "outputs": [
    {
     "data": {
      "text/plain": "prioritarian                   66\nutilitarian                    59\negalitarian                    51\ngeneral normative statement    33\nsufficientarian                 8\nlibertarian                     1\nName: PRINCIPLE, dtype: int64"
     },
     "execution_count": 5,
     "metadata": {},
     "output_type": "execute_result"
    }
   ],
   "source": [
    "HLS_principle.PRINCIPLE.value_counts()"
   ],
   "metadata": {
    "collapsed": false,
    "ExecuteTime": {
     "start_time": "2024-06-06T12:37:25.898435Z",
     "end_time": "2024-06-06T12:37:25.907302Z"
    }
   }
  },
  {
   "cell_type": "markdown",
   "source": [
    "### 2. Import necessary files\n",
    "- codebooks\n",
    "- API key\n",
    "- import gpt_annotate_num"
   ],
   "metadata": {
    "collapsed": false
   }
  },
  {
   "cell_type": "code",
   "execution_count": 6,
   "outputs": [],
   "source": [
    "# Load codebook - zero shot\n",
    "with open('codebooks/B2.0', 'r', encoding='utf-8') as file:\n",
    "    B20 = file.read()"
   ],
   "metadata": {
    "collapsed": false,
    "ExecuteTime": {
     "start_time": "2024-06-06T12:37:28.741655Z",
     "end_time": "2024-06-06T12:37:28.755982Z"
    }
   }
  },
  {
   "cell_type": "code",
   "execution_count": 7,
   "outputs": [],
   "source": [
    "# OpenAI key\n",
    "with open('gpt_api_key.txt', 'r') as f:\n",
    "    key = f.read().strip()"
   ],
   "metadata": {
    "collapsed": false,
    "ExecuteTime": {
     "start_time": "2024-06-06T12:37:29.226779Z",
     "end_time": "2024-06-06T12:37:29.238729Z"
    }
   }
  },
  {
   "cell_type": "code",
   "execution_count": 8,
   "outputs": [],
   "source": [
    "import gpt_annotate_string"
   ],
   "metadata": {
    "collapsed": false,
    "ExecuteTime": {
     "start_time": "2024-06-06T12:37:29.911527Z",
     "end_time": "2024-06-06T12:37:45.937709Z"
    }
   }
  },
  {
   "cell_type": "markdown",
   "source": [
    "### 3. Prepare data for annotation\n",
    "Compares column names in HLS_principle to the codes identified by GPT-4o in the codebook. Seed for this identification is set to 1234."
   ],
   "metadata": {
    "collapsed": false
   }
  },
  {
   "cell_type": "code",
   "execution_count": 9,
   "outputs": [
    {
     "name": "stdout",
     "output_type": "stream",
     "text": [
      "ChatCompletion(id='chatcmpl-9X4n4012lUNhn8thU5wR7f6y2jIUE', choices=[Choice(finish_reason='stop', index=0, logprobs=None, message=ChatCompletionMessage(content='PRINCIPLE', role='assistant', function_call=None, tool_calls=None))], created=1717670266, model='gpt-4o-2024-05-13', object='chat.completion', system_fingerprint='fp_319be4768e', usage=CompletionUsage(completion_tokens=3, prompt_tokens=582, total_tokens=585))\n",
      "\n",
      "Categories to annotate:\n",
      "1) PRINCIPLE\n",
      "\n",
      "\n",
      "Data is ready to be annotated using gpt_annotate()!\n",
      "\n",
      "Glimpse of your data:\n",
      "Shape of data:  (218, 4)\n",
      "   unique_id                                               text  \\\n",
      "0          3   Mr. President:  A fair and effective framewor...   \n",
      "1          5  Such a framework must be based on “nationally ...   \n",
      "2         44  It should not only enable us to discuss global...   \n",
      "3         53  Global warming is a catastrophic problem that ...   \n",
      "4         54  Therefore, the multilateralism approach remain...   \n",
      "\n",
      "                     PRINCIPLE  \\\n",
      "0                  utilitarian   \n",
      "1                  egalitarian   \n",
      "2                  utilitarian   \n",
      "3                  utilitarian   \n",
      "4  general normative statement   \n",
      "\n",
      "                                           llm_query  \n",
      "0  3  Mr. President:  A fair and effective framew...  \n",
      "1  5 Such a framework must be based on “nationall...  \n",
      "2  44 It should not only enable us to discuss glo...  \n",
      "3  53 Global warming is a catastrophic problem th...  \n",
      "4  54 Therefore, the multilateralism approach rem...  \n"
     ]
    }
   ],
   "source": [
    "# Prepare dataframe for annotation\n",
    "text_to_annotate = gpt_annotate_string.prepare_data(HLS_principle, B20, key, prep_codebook=True)"
   ],
   "metadata": {
    "collapsed": false,
    "ExecuteTime": {
     "start_time": "2024-06-06T12:37:45.942816Z",
     "end_time": "2024-06-06T12:38:00.289895Z"
    }
   }
  },
  {
   "cell_type": "markdown",
   "source": [
    "Fingerprint used: fp_43dfabdef1 (OG - only 138 selected))\n",
    "Fingerprint used: fp_319be4768e\n",
    "\n",
    "Seed of textpreparation is hardcoded into gpt_annotate. This to ensure that onlye the results of the same fingerprint for all seeds and all iterations. Essentially every time GPT-4o is called only results with this specific fingerprint are saved."
   ],
   "metadata": {
    "collapsed": false
   }
  },
  {
   "cell_type": "markdown",
   "source": [
    "# 4. Run gpt_annotate_num\n",
    "Evaluation per seed -\n",
    "5 different seeds\n",
    "Batch of 20 sentences\n",
    "1 iteration\n",
    "\n",
    "Returns 3 outputs:\n",
    "1. all_iterations_{seed}.csv\n",
    "2. fingerprints_all.csv\n",
    "3. missed_batches.csv\n",
    "\n",
    "## B2.0 principle - zero shot"
   ],
   "metadata": {
    "collapsed": false
   }
  },
  {
   "cell_type": "code",
   "execution_count": 10,
   "outputs": [],
   "source": [
    "#fingerprint = 'fp_43dfabdef1' OG!\n",
    "fingerprint = 'fp_319be4768e'\n",
    "\n",
    "#Block seed to prevent accidental rerun of gpt_annotate\n",
    "seeds = [3644,3441, 280, 5991, 7917]"
   ],
   "metadata": {
    "collapsed": false,
    "ExecuteTime": {
     "start_time": "2024-06-06T12:38:07.835123Z",
     "end_time": "2024-06-06T12:38:07.848087Z"
    }
   }
  },
  {
   "cell_type": "code",
   "execution_count": 15,
   "outputs": [
    {
     "name": "stdout",
     "output_type": "stream",
     "text": [
      "3644 - iteration 1\n",
      "iteration:  1 completed\n",
      "3441 - iteration 1\n",
      "3441 - I1 - B8 fingerprint does not match\n",
      "iteration:  1 completed\n",
      "280 - iteration 1\n",
      "280 - I1 - B1 fingerprint does not match\n",
      "280 - I1 - B11 fingerprint does not match\n",
      "iteration:  1 completed\n",
      "5991 - iteration 1\n",
      "iteration:  1 completed\n",
      "7917 - iteration 1\n",
      "iteration:  1 completed\n"
     ]
    }
   ],
   "source": [
    "# Annotate the data - T0 - I1\n",
    "for seed in seeds:\n",
    "    gpt_annotate_string.gpt_annotate(text_to_annotate, B20, key, seed,fingerprint, experiment=\"B2.0\",  num_iterations=1, model=\"gpt-4o\", temperature=0, batch_size=20, human_labels=True)"
   ],
   "metadata": {
    "collapsed": false,
    "ExecuteTime": {
     "start_time": "2024-05-29T00:11:16.818300Z",
     "end_time": "2024-05-29T00:14:07.665172Z"
    }
   }
  },
  {
   "cell_type": "markdown",
   "source": [
    "## B2.1 principle - one shot"
   ],
   "metadata": {
    "collapsed": false
   }
  },
  {
   "cell_type": "code",
   "execution_count": 12,
   "outputs": [],
   "source": [
    "# Load codebook - zero shot\n",
    "with open('codebooks/B2.1', 'r', encoding='utf-8') as file:\n",
    "    B21 = file.read()"
   ],
   "metadata": {
    "collapsed": false,
    "ExecuteTime": {
     "start_time": "2024-06-06T12:38:29.031184Z",
     "end_time": "2024-06-06T12:38:29.031184Z"
    }
   }
  },
  {
   "cell_type": "code",
   "execution_count": 13,
   "outputs": [
    {
     "name": "stdout",
     "output_type": "stream",
     "text": [
      "3644 - iteration 1\n",
      "iteration:  1 completed\n",
      "3441 - iteration 1\n",
      "iteration:  1 completed\n",
      "280 - iteration 1\n",
      "iteration:  1 completed\n",
      "5991 - iteration 1\n",
      "iteration:  1 completed\n",
      "7917 - iteration 1\n",
      "iteration:  1 completed\n"
     ]
    }
   ],
   "source": [
    "# Annotate the data - T0 - I1\n",
    "for seed in seeds:\n",
    "    gpt_annotate_string.gpt_annotate(text_to_annotate, B21, key, seed,fingerprint, experiment=\"B2.1\",  num_iterations=1, model=\"gpt-4o\", temperature=0, batch_size=20, human_labels=True)"
   ],
   "metadata": {
    "collapsed": false,
    "ExecuteTime": {
     "start_time": "2024-06-06T12:38:31.028764Z",
     "end_time": "2024-06-06T12:41:35.799796Z"
    }
   }
  },
  {
   "cell_type": "markdown",
   "source": [
    "### 5. Define evaluation functions\n"
   ],
   "metadata": {
    "collapsed": false
   }
  },
  {
   "cell_type": "code",
   "execution_count": 18,
   "outputs": [],
   "source": [
    "# Define similarity score function and save to DF\n",
    "def get_similarity_score(Rx, Ry):\n",
    "    # Ensure Rx and Ry are pandas Series and convert to strings with stripped whitespace\n",
    "    Rx = Rx.astype(str).str.strip()\n",
    "    Ry = Ry.astype(str).str.strip()\n",
    "\n",
    "    # Calculate similarity scores\n",
    "    similarity_scores = Rx.combine(Ry, lambda x, y: difflib.SequenceMatcher(None, x, y).ratio())\n",
    "\n",
    "    # Apply the threshold - maybe put higher?\n",
    "    similarity_scores = similarity_scores.apply(lambda x: x if x >= 0.9 else 0)\n",
    "\n",
    "    # Return the mean similarity score as a percentage - no need for mean as 1 iteration is used\n",
    "    return similarity_scores.mean()"
   ],
   "metadata": {
    "collapsed": false,
    "ExecuteTime": {
     "start_time": "2024-05-29T00:17:59.168906Z",
     "end_time": "2024-05-29T00:17:59.184194Z"
    }
   }
  },
  {
   "cell_type": "code",
   "execution_count": 19,
   "outputs": [],
   "source": [
    "def similarity(directory):\n",
    "    # Iterate through each file in the directory\n",
    "    list = []\n",
    "    for filename in os.listdir(directory):\n",
    "        file_path = os.path.join(directory, filename)\n",
    "        df = pd.read_csv(file_path)\n",
    "        Rx = df['PRINCIPLE_x']\n",
    "        Ry = df['PRINCIPLE_y']\n",
    "\n",
    "        similarity_score = get_similarity_score(Rx,Ry)\n",
    "\n",
    "        #Save the score in a dataframe\n",
    "        list.append((filename, similarity_score))\n",
    "\n",
    "    similarity = pd.DataFrame(list, columns=['filename', 'similarity ALL'])\n",
    "    return similarity\n"
   ],
   "metadata": {
    "collapsed": false,
    "ExecuteTime": {
     "start_time": "2024-05-29T00:18:02.512429Z",
     "end_time": "2024-05-29T00:18:02.528559Z"
    }
   }
  },
  {
   "cell_type": "code",
   "execution_count": 20,
   "outputs": [],
   "source": [
    "def recall(directory, principle_x):\n",
    "    # Iterate through each file in the directory\n",
    "    list = []\n",
    "    for filename in os.listdir(directory):\n",
    "        file_path = os.path.join(directory, filename)\n",
    "        df = pd.read_csv(file_path)\n",
    "\n",
    "        relevant_df = df[df['PRINCIPLE_x'] == principle_x]\n",
    "\n",
    "        Rx = relevant_df['PRINCIPLE_x']\n",
    "        Ry = relevant_df['PRINCIPLE_y']\n",
    "\n",
    "        similarity_score = get_similarity_score(Rx,Ry)\n",
    "\n",
    "        #Save the score in a dataframe\n",
    "        list.append((filename, similarity_score))\n",
    "\n",
    "    recall = pd.DataFrame(list, columns=['filename', f'{principle_x} recall'])\n",
    "    return recall"
   ],
   "metadata": {
    "collapsed": false,
    "ExecuteTime": {
     "start_time": "2024-05-29T00:18:03.221228Z",
     "end_time": "2024-05-29T00:18:03.233329Z"
    }
   }
  },
  {
   "cell_type": "code",
   "execution_count": 21,
   "outputs": [],
   "source": [
    "def precision(directory, principle_y):\n",
    "    # Iterate through each file in the directory\n",
    "    list = []\n",
    "    for filename in os.listdir(directory):\n",
    "        file_path = os.path.join(directory, filename)\n",
    "        df = pd.read_csv(file_path)\n",
    "\n",
    "        relevant_df = df[df['PRINCIPLE_y'] == principle_y]\n",
    "\n",
    "        Rx = relevant_df['PRINCIPLE_x']\n",
    "        Ry = relevant_df['PRINCIPLE_y']\n",
    "\n",
    "        similarity_score = get_similarity_score(Rx,Ry)\n",
    "\n",
    "        #Save the score in a dataframe\n",
    "        list.append((filename, similarity_score))\n",
    "\n",
    "    precision = pd.DataFrame(list, columns=['filename', f'{principle_y} precision'])\n",
    "    return precision"
   ],
   "metadata": {
    "collapsed": false,
    "ExecuteTime": {
     "start_time": "2024-05-29T00:18:04.426024Z",
     "end_time": "2024-05-29T00:18:04.436499Z"
    }
   }
  },
  {
   "cell_type": "markdown",
   "source": [
    "### 6. Evaluate performance"
   ],
   "metadata": {
    "collapsed": false
   }
  },
  {
   "cell_type": "code",
   "execution_count": 22,
   "outputs": [
    {
     "data": {
      "text/plain": "                            filename  similarity ALL\n0   all_iterations_string_T0_280.csv        0.666667\n1  all_iterations_string_T0_3441.csv        0.666667\n2  all_iterations_string_T0_3644.csv        0.669725\n3  all_iterations_string_T0_5991.csv        0.669725\n4  all_iterations_string_T0_7917.csv        0.655963",
      "text/html": "<div>\n<style scoped>\n    .dataframe tbody tr th:only-of-type {\n        vertical-align: middle;\n    }\n\n    .dataframe tbody tr th {\n        vertical-align: top;\n    }\n\n    .dataframe thead th {\n        text-align: right;\n    }\n</style>\n<table border=\"1\" class=\"dataframe\">\n  <thead>\n    <tr style=\"text-align: right;\">\n      <th></th>\n      <th>filename</th>\n      <th>similarity ALL</th>\n    </tr>\n  </thead>\n  <tbody>\n    <tr>\n      <th>0</th>\n      <td>all_iterations_string_T0_280.csv</td>\n      <td>0.666667</td>\n    </tr>\n    <tr>\n      <th>1</th>\n      <td>all_iterations_string_T0_3441.csv</td>\n      <td>0.666667</td>\n    </tr>\n    <tr>\n      <th>2</th>\n      <td>all_iterations_string_T0_3644.csv</td>\n      <td>0.669725</td>\n    </tr>\n    <tr>\n      <th>3</th>\n      <td>all_iterations_string_T0_5991.csv</td>\n      <td>0.669725</td>\n    </tr>\n    <tr>\n      <th>4</th>\n      <td>all_iterations_string_T0_7917.csv</td>\n      <td>0.655963</td>\n    </tr>\n  </tbody>\n</table>\n</div>"
     },
     "execution_count": 22,
     "metadata": {},
     "output_type": "execute_result"
    }
   ],
   "source": [
    "directory = 'STRING_RESULT/B2.0/all_iterations'\n",
    "similarity(directory)"
   ],
   "metadata": {
    "collapsed": false,
    "ExecuteTime": {
     "start_time": "2024-05-29T00:18:09.339529Z",
     "end_time": "2024-05-29T00:18:09.407522Z"
    }
   }
  },
  {
   "cell_type": "code",
   "execution_count": 23,
   "outputs": [
    {
     "data": {
      "text/plain": "                            filename  egalitarian recall\n0   all_iterations_string_T0_280.csv            0.644444\n1  all_iterations_string_T0_3441.csv            0.632653\n2  all_iterations_string_T0_3644.csv            0.647059\n3  all_iterations_string_T0_5991.csv            0.627451\n4  all_iterations_string_T0_7917.csv            0.647059",
      "text/html": "<div>\n<style scoped>\n    .dataframe tbody tr th:only-of-type {\n        vertical-align: middle;\n    }\n\n    .dataframe tbody tr th {\n        vertical-align: top;\n    }\n\n    .dataframe thead th {\n        text-align: right;\n    }\n</style>\n<table border=\"1\" class=\"dataframe\">\n  <thead>\n    <tr style=\"text-align: right;\">\n      <th></th>\n      <th>filename</th>\n      <th>egalitarian recall</th>\n    </tr>\n  </thead>\n  <tbody>\n    <tr>\n      <th>0</th>\n      <td>all_iterations_string_T0_280.csv</td>\n      <td>0.644444</td>\n    </tr>\n    <tr>\n      <th>1</th>\n      <td>all_iterations_string_T0_3441.csv</td>\n      <td>0.632653</td>\n    </tr>\n    <tr>\n      <th>2</th>\n      <td>all_iterations_string_T0_3644.csv</td>\n      <td>0.647059</td>\n    </tr>\n    <tr>\n      <th>3</th>\n      <td>all_iterations_string_T0_5991.csv</td>\n      <td>0.627451</td>\n    </tr>\n    <tr>\n      <th>4</th>\n      <td>all_iterations_string_T0_7917.csv</td>\n      <td>0.647059</td>\n    </tr>\n  </tbody>\n</table>\n</div>"
     },
     "execution_count": 23,
     "metadata": {},
     "output_type": "execute_result"
    }
   ],
   "source": [
    "principle_x =  'egalitarian'\n",
    "recall(directory,principle_x)"
   ],
   "metadata": {
    "collapsed": false,
    "ExecuteTime": {
     "start_time": "2024-05-29T00:18:14.077392Z",
     "end_time": "2024-05-29T00:18:14.121462Z"
    }
   }
  },
  {
   "cell_type": "code",
   "execution_count": 24,
   "outputs": [
    {
     "data": {
      "text/plain": "                            filename  egalitarian precision\n0   all_iterations_string_T0_280.csv               0.743590\n1  all_iterations_string_T0_3441.csv               0.704545\n2  all_iterations_string_T0_3644.csv               0.750000\n3  all_iterations_string_T0_5991.csv               0.761905\n4  all_iterations_string_T0_7917.csv               0.733333",
      "text/html": "<div>\n<style scoped>\n    .dataframe tbody tr th:only-of-type {\n        vertical-align: middle;\n    }\n\n    .dataframe tbody tr th {\n        vertical-align: top;\n    }\n\n    .dataframe thead th {\n        text-align: right;\n    }\n</style>\n<table border=\"1\" class=\"dataframe\">\n  <thead>\n    <tr style=\"text-align: right;\">\n      <th></th>\n      <th>filename</th>\n      <th>egalitarian precision</th>\n    </tr>\n  </thead>\n  <tbody>\n    <tr>\n      <th>0</th>\n      <td>all_iterations_string_T0_280.csv</td>\n      <td>0.743590</td>\n    </tr>\n    <tr>\n      <th>1</th>\n      <td>all_iterations_string_T0_3441.csv</td>\n      <td>0.704545</td>\n    </tr>\n    <tr>\n      <th>2</th>\n      <td>all_iterations_string_T0_3644.csv</td>\n      <td>0.750000</td>\n    </tr>\n    <tr>\n      <th>3</th>\n      <td>all_iterations_string_T0_5991.csv</td>\n      <td>0.761905</td>\n    </tr>\n    <tr>\n      <th>4</th>\n      <td>all_iterations_string_T0_7917.csv</td>\n      <td>0.733333</td>\n    </tr>\n  </tbody>\n</table>\n</div>"
     },
     "execution_count": 24,
     "metadata": {},
     "output_type": "execute_result"
    }
   ],
   "source": [
    "principle_y = 'egalitarian'\n",
    "precision(directory,principle_y)"
   ],
   "metadata": {
    "collapsed": false,
    "ExecuteTime": {
     "start_time": "2024-05-29T00:18:16.524405Z",
     "end_time": "2024-05-29T00:18:16.561045Z"
    }
   }
  },
  {
   "cell_type": "code",
   "execution_count": 25,
   "outputs": [
    {
     "data": {
      "text/plain": "                            filename  similarity ALL\n0   all_iterations_string_T0_280.csv        0.681818\n1  all_iterations_string_T0_3441.csv        0.655963\n2  all_iterations_string_T0_3644.csv        0.691011\n3  all_iterations_string_T0_5991.csv        0.656566\n4  all_iterations_string_T0_7917.csv        0.669725",
      "text/html": "<div>\n<style scoped>\n    .dataframe tbody tr th:only-of-type {\n        vertical-align: middle;\n    }\n\n    .dataframe tbody tr th {\n        vertical-align: top;\n    }\n\n    .dataframe thead th {\n        text-align: right;\n    }\n</style>\n<table border=\"1\" class=\"dataframe\">\n  <thead>\n    <tr style=\"text-align: right;\">\n      <th></th>\n      <th>filename</th>\n      <th>similarity ALL</th>\n    </tr>\n  </thead>\n  <tbody>\n    <tr>\n      <th>0</th>\n      <td>all_iterations_string_T0_280.csv</td>\n      <td>0.681818</td>\n    </tr>\n    <tr>\n      <th>1</th>\n      <td>all_iterations_string_T0_3441.csv</td>\n      <td>0.655963</td>\n    </tr>\n    <tr>\n      <th>2</th>\n      <td>all_iterations_string_T0_3644.csv</td>\n      <td>0.691011</td>\n    </tr>\n    <tr>\n      <th>3</th>\n      <td>all_iterations_string_T0_5991.csv</td>\n      <td>0.656566</td>\n    </tr>\n    <tr>\n      <th>4</th>\n      <td>all_iterations_string_T0_7917.csv</td>\n      <td>0.669725</td>\n    </tr>\n  </tbody>\n</table>\n</div>"
     },
     "execution_count": 25,
     "metadata": {},
     "output_type": "execute_result"
    }
   ],
   "source": [
    "B21 = 'STRING_RESULT/B2.1/all_iterations'\n",
    "similarity(B21)"
   ],
   "metadata": {
    "collapsed": false,
    "ExecuteTime": {
     "start_time": "2024-05-29T00:18:25.881686Z",
     "end_time": "2024-05-29T00:18:25.979018Z"
    }
   }
  },
  {
   "cell_type": "code",
   "execution_count": 26,
   "outputs": [
    {
     "data": {
      "text/plain": "                            filename  egalitarian recall\n0   all_iterations_string_T0_280.csv            0.585366\n1  all_iterations_string_T0_3441.csv            0.549020\n2  all_iterations_string_T0_3644.csv            0.555556\n3  all_iterations_string_T0_5991.csv            0.571429\n4  all_iterations_string_T0_7917.csv            0.568627",
      "text/html": "<div>\n<style scoped>\n    .dataframe tbody tr th:only-of-type {\n        vertical-align: middle;\n    }\n\n    .dataframe tbody tr th {\n        vertical-align: top;\n    }\n\n    .dataframe thead th {\n        text-align: right;\n    }\n</style>\n<table border=\"1\" class=\"dataframe\">\n  <thead>\n    <tr style=\"text-align: right;\">\n      <th></th>\n      <th>filename</th>\n      <th>egalitarian recall</th>\n    </tr>\n  </thead>\n  <tbody>\n    <tr>\n      <th>0</th>\n      <td>all_iterations_string_T0_280.csv</td>\n      <td>0.585366</td>\n    </tr>\n    <tr>\n      <th>1</th>\n      <td>all_iterations_string_T0_3441.csv</td>\n      <td>0.549020</td>\n    </tr>\n    <tr>\n      <th>2</th>\n      <td>all_iterations_string_T0_3644.csv</td>\n      <td>0.555556</td>\n    </tr>\n    <tr>\n      <th>3</th>\n      <td>all_iterations_string_T0_5991.csv</td>\n      <td>0.571429</td>\n    </tr>\n    <tr>\n      <th>4</th>\n      <td>all_iterations_string_T0_7917.csv</td>\n      <td>0.568627</td>\n    </tr>\n  </tbody>\n</table>\n</div>"
     },
     "execution_count": 26,
     "metadata": {},
     "output_type": "execute_result"
    }
   ],
   "source": [
    "principle_x =  'egalitarian'\n",
    "recall(B21,principle_x)"
   ],
   "metadata": {
    "collapsed": false,
    "ExecuteTime": {
     "start_time": "2024-05-29T00:18:29.382221Z",
     "end_time": "2024-05-29T00:18:29.436722Z"
    }
   }
  },
  {
   "cell_type": "code",
   "execution_count": 27,
   "outputs": [
    {
     "data": {
      "text/plain": "                            filename  egalitarian precision\n0   all_iterations_string_T0_280.csv               0.648649\n1  all_iterations_string_T0_3441.csv               0.622222\n2  all_iterations_string_T0_3644.csv               0.588235\n3  all_iterations_string_T0_5991.csv               0.700000\n4  all_iterations_string_T0_7917.csv               0.644444",
      "text/html": "<div>\n<style scoped>\n    .dataframe tbody tr th:only-of-type {\n        vertical-align: middle;\n    }\n\n    .dataframe tbody tr th {\n        vertical-align: top;\n    }\n\n    .dataframe thead th {\n        text-align: right;\n    }\n</style>\n<table border=\"1\" class=\"dataframe\">\n  <thead>\n    <tr style=\"text-align: right;\">\n      <th></th>\n      <th>filename</th>\n      <th>egalitarian precision</th>\n    </tr>\n  </thead>\n  <tbody>\n    <tr>\n      <th>0</th>\n      <td>all_iterations_string_T0_280.csv</td>\n      <td>0.648649</td>\n    </tr>\n    <tr>\n      <th>1</th>\n      <td>all_iterations_string_T0_3441.csv</td>\n      <td>0.622222</td>\n    </tr>\n    <tr>\n      <th>2</th>\n      <td>all_iterations_string_T0_3644.csv</td>\n      <td>0.588235</td>\n    </tr>\n    <tr>\n      <th>3</th>\n      <td>all_iterations_string_T0_5991.csv</td>\n      <td>0.700000</td>\n    </tr>\n    <tr>\n      <th>4</th>\n      <td>all_iterations_string_T0_7917.csv</td>\n      <td>0.644444</td>\n    </tr>\n  </tbody>\n</table>\n</div>"
     },
     "execution_count": 27,
     "metadata": {},
     "output_type": "execute_result"
    }
   ],
   "source": [
    "principle_y =  'egalitarian'\n",
    "precision(B21,principle_y)"
   ],
   "metadata": {
    "collapsed": false,
    "ExecuteTime": {
     "start_time": "2024-05-29T00:18:51.450689Z",
     "end_time": "2024-05-29T00:18:51.515937Z"
    }
   }
  },
  {
   "cell_type": "markdown",
   "source": [
    "Zou kunnen dat dus een specifiek voorbeeld beter is"
   ],
   "metadata": {
    "collapsed": false
   }
  },
  {
   "cell_type": "markdown",
   "source": [
    "## 7. Evaluate full outcomes - Confusionmatrix"
   ],
   "metadata": {
    "collapsed": false
   }
  },
  {
   "cell_type": "code",
   "execution_count": 28,
   "outputs": [],
   "source": [
    "from sklearn.metrics import ConfusionMatrixDisplay, confusion_matrix, classification_report, \\\n",
    "    #precision_recall_curve not supported for multiple classes"
   ],
   "metadata": {
    "collapsed": false,
    "ExecuteTime": {
     "start_time": "2024-05-29T00:19:26.494678Z",
     "end_time": "2024-05-29T00:19:27.130934Z"
    }
   }
  },
  {
   "cell_type": "code",
   "execution_count": 35,
   "outputs": [
    {
     "data": {
      "text/plain": "     unique_id                                               text  \\\n0          107  Typhoon Haiyan has once again gravely reminded...   \n1          125  We urge, all parties here in Warsaw to take de...   \n2          126  We believe that, Nationally Appropriate Mitiga...   \n3          130  We must also take decisions on finance, techno...   \n4          131  We urge parties to take decisions on simplific...   \n..         ...                                                ...   \n175       1089  Adequate and predictable funding, structured f...   \n176       1090  We call upon the developed countries that have...   \n177       1092  We must educate our citizens about climate cha...   \n178       1093  We must view climate education as an investmen...   \n179       1095  It is incumbent upon us to act together, with ...   \n\n                     PRINCIPLE_x  \\\n0                    utilitarian   \n1                   prioritarian   \n2                   prioritarian   \n3    general normative statement   \n4                   prioritarian   \n..                           ...   \n175                 prioritarian   \n176                 prioritarian   \n177  general normative statement   \n178                  utilitarian   \n179                  utilitarian   \n\n                                             llm_query   PRINCIPLE_y  \\\n0    107 Typhoon Haiyan has once again gravely remi...   utilitarian   \n1    125 We urge, all parties here in Warsaw to tak...   egalitarian   \n2    126 We believe that, Nationally Appropriate Mi...   egalitarian   \n3    130 We must also take decisions on finance, te...   utilitarian   \n4    131 We urge parties to take decisions on simpl...   egalitarian   \n..                                                 ...           ...   \n175  1089 Adequate and predictable funding, structu...  prioritarian   \n176  1090 We call upon the developed countries that...  prioritarian   \n177  1092 We must educate our citizens about climat...   utilitarian   \n178  1093 We must view climate education as an inve...   utilitarian   \n179  1095 It is incumbent upon us to act together, ...   utilitarian   \n\n     iteration  \n0            1  \n1            1  \n2            1  \n3            1  \n4            1  \n..         ...  \n175          1  \n176          1  \n177          1  \n178          1  \n179          1  \n\n[180 rows x 6 columns]",
      "text/html": "<div>\n<style scoped>\n    .dataframe tbody tr th:only-of-type {\n        vertical-align: middle;\n    }\n\n    .dataframe tbody tr th {\n        vertical-align: top;\n    }\n\n    .dataframe thead th {\n        text-align: right;\n    }\n</style>\n<table border=\"1\" class=\"dataframe\">\n  <thead>\n    <tr style=\"text-align: right;\">\n      <th></th>\n      <th>unique_id</th>\n      <th>text</th>\n      <th>PRINCIPLE_x</th>\n      <th>llm_query</th>\n      <th>PRINCIPLE_y</th>\n      <th>iteration</th>\n    </tr>\n  </thead>\n  <tbody>\n    <tr>\n      <th>0</th>\n      <td>107</td>\n      <td>Typhoon Haiyan has once again gravely reminded...</td>\n      <td>utilitarian</td>\n      <td>107 Typhoon Haiyan has once again gravely remi...</td>\n      <td>utilitarian</td>\n      <td>1</td>\n    </tr>\n    <tr>\n      <th>1</th>\n      <td>125</td>\n      <td>We urge, all parties here in Warsaw to take de...</td>\n      <td>prioritarian</td>\n      <td>125 We urge, all parties here in Warsaw to tak...</td>\n      <td>egalitarian</td>\n      <td>1</td>\n    </tr>\n    <tr>\n      <th>2</th>\n      <td>126</td>\n      <td>We believe that, Nationally Appropriate Mitiga...</td>\n      <td>prioritarian</td>\n      <td>126 We believe that, Nationally Appropriate Mi...</td>\n      <td>egalitarian</td>\n      <td>1</td>\n    </tr>\n    <tr>\n      <th>3</th>\n      <td>130</td>\n      <td>We must also take decisions on finance, techno...</td>\n      <td>general normative statement</td>\n      <td>130 We must also take decisions on finance, te...</td>\n      <td>utilitarian</td>\n      <td>1</td>\n    </tr>\n    <tr>\n      <th>4</th>\n      <td>131</td>\n      <td>We urge parties to take decisions on simplific...</td>\n      <td>prioritarian</td>\n      <td>131 We urge parties to take decisions on simpl...</td>\n      <td>egalitarian</td>\n      <td>1</td>\n    </tr>\n    <tr>\n      <th>...</th>\n      <td>...</td>\n      <td>...</td>\n      <td>...</td>\n      <td>...</td>\n      <td>...</td>\n      <td>...</td>\n    </tr>\n    <tr>\n      <th>175</th>\n      <td>1089</td>\n      <td>Adequate and predictable funding, structured f...</td>\n      <td>prioritarian</td>\n      <td>1089 Adequate and predictable funding, structu...</td>\n      <td>prioritarian</td>\n      <td>1</td>\n    </tr>\n    <tr>\n      <th>176</th>\n      <td>1090</td>\n      <td>We call upon the developed countries that have...</td>\n      <td>prioritarian</td>\n      <td>1090 We call upon the developed countries that...</td>\n      <td>prioritarian</td>\n      <td>1</td>\n    </tr>\n    <tr>\n      <th>177</th>\n      <td>1092</td>\n      <td>We must educate our citizens about climate cha...</td>\n      <td>general normative statement</td>\n      <td>1092 We must educate our citizens about climat...</td>\n      <td>utilitarian</td>\n      <td>1</td>\n    </tr>\n    <tr>\n      <th>178</th>\n      <td>1093</td>\n      <td>We must view climate education as an investmen...</td>\n      <td>utilitarian</td>\n      <td>1093 We must view climate education as an inve...</td>\n      <td>utilitarian</td>\n      <td>1</td>\n    </tr>\n    <tr>\n      <th>179</th>\n      <td>1095</td>\n      <td>It is incumbent upon us to act together, with ...</td>\n      <td>utilitarian</td>\n      <td>1095 It is incumbent upon us to act together, ...</td>\n      <td>utilitarian</td>\n      <td>1</td>\n    </tr>\n  </tbody>\n</table>\n<p>180 rows × 6 columns</p>\n</div>"
     },
     "execution_count": 35,
     "metadata": {},
     "output_type": "execute_result"
    }
   ],
   "source": [
    "B20_280 = pd.read_csv('STRING_RESULT/B2.0/all_iterations/all_iterations_string_T0_280.csv')\n",
    "B20_280"
   ],
   "metadata": {
    "collapsed": false,
    "ExecuteTime": {
     "start_time": "2024-05-29T00:30:24.154215Z",
     "end_time": "2024-05-29T00:30:24.184741Z"
    }
   }
  },
  {
   "cell_type": "code",
   "execution_count": 32,
   "outputs": [
    {
     "data": {
      "text/plain": "utilitarian                    64\nprioritarian                   49\negalitarian                    39\ngeneral normative statement    18\nsufficientarian                 9\nlibertarian                     1\nName: PRINCIPLE_y, dtype: int64"
     },
     "execution_count": 32,
     "metadata": {},
     "output_type": "execute_result"
    }
   ],
   "source": [
    "B20_280.PRINCIPLE_y.value_counts()"
   ],
   "metadata": {
    "collapsed": false,
    "ExecuteTime": {
     "start_time": "2024-05-29T00:22:43.913181Z",
     "end_time": "2024-05-29T00:22:43.926001Z"
    }
   }
  },
  {
   "cell_type": "code",
   "execution_count": 33,
   "outputs": [
    {
     "data": {
      "text/plain": "prioritarian                   54\nutilitarian                    47\negalitarian                    45\ngeneral normative statement    27\nsufficientarian                 6\nlibertarian                     1\nName: PRINCIPLE_x, dtype: int64"
     },
     "execution_count": 33,
     "metadata": {},
     "output_type": "execute_result"
    }
   ],
   "source": [
    "B20_280.PRINCIPLE_x.value_counts()"
   ],
   "metadata": {
    "collapsed": false,
    "ExecuteTime": {
     "start_time": "2024-05-29T00:25:49.355155Z",
     "end_time": "2024-05-29T00:25:49.389663Z"
    }
   }
  },
  {
   "cell_type": "code",
   "execution_count": 37,
   "outputs": [
    {
     "data": {
      "text/plain": "<Figure size 640x480 with 2 Axes>",
      "image/png": "[encoded data removed]"
     },
     "metadata": {},
     "output_type": "display_data"
    }
   ],
   "source": [
    "# Now only make confusionmatrix for one element\n",
    "principle = B20_280['PRINCIPLE_x']\n",
    "principle_pred = B20_280['PRINCIPLE_y']\n",
    "\n",
    "# Step 6: Create the confusion matrix\n",
    "cm = confusion_matrix(principle, principle_pred)\n",
    "\n",
    "labels = ['egalitarian', 'general normative statement', 'libertarian', 'prioritarian', 'sufficientarian', 'utilitarian']\n",
    "\n",
    "# Visualize the confusion matrix\n",
    "disp = ConfusionMatrixDisplay(confusion_matrix=cm, display_labels=labels)\n",
    "disp.plot(cmap=plt.cm.Blues)\n",
    "plt.title(\"Confusion Matrix\")\n",
    "plt.show()"
   ],
   "metadata": {
    "collapsed": false,
    "ExecuteTime": {
     "start_time": "2024-05-29T00:35:22.766831Z",
     "end_time": "2024-05-29T00:35:23.046904Z"
    }
   }
  },
  {
   "cell_type": "code",
   "execution_count": 39,
   "outputs": [
    {
     "name": "stdout",
     "output_type": "stream",
     "text": [
      "                             precision    recall  f1-score   support\n",
      "\n",
      "                egalitarian       0.74      0.64      0.69        45\n",
      "general normative statement       0.44      0.30      0.36        27\n",
      "                libertarian       0.00      0.00      0.00         1\n",
      "               prioritarian       0.82      0.74      0.78        54\n",
      "            sufficientarian       0.44      0.67      0.53         6\n",
      "                utilitarian       0.61      0.83      0.70        47\n",
      "\n",
      "                   accuracy                           0.67       180\n",
      "                  macro avg       0.51      0.53      0.51       180\n",
      "               weighted avg       0.67      0.67      0.66       180\n",
      "\n"
     ]
    }
   ],
   "source": [
    "# Assuming y_true and y_pred are your true labels and predicted labels\n",
    "report = classification_report(principle, principle_pred)\n",
    "print(report)"
   ],
   "metadata": {
    "collapsed": false,
    "ExecuteTime": {
     "start_time": "2024-05-29T00:38:25.129401Z",
     "end_time": "2024-05-29T00:38:25.151333Z"
    }
   }
  }
 ],
 "metadata": {
  "kernelspec": {
   "display_name": "Python 3",
   "language": "python",
   "name": "python3"
  },
  "language_info": {
   "codemirror_mode": {
    "name": "ipython",
    "version": 2
   },
   "file_extension": ".py",
   "mimetype": "text/x-python",
   "name": "python",
   "nbconvert_exporter": "python",
   "pygments_lexer": "ipython2",
   "version": "2.7.6"
  }
 },
 "nbformat": 4,
 "nbformat_minor": 0
}
