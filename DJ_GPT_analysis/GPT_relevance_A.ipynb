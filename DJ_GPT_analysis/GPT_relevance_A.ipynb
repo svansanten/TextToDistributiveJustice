{
 "cells": [
  {
   "cell_type": "code",
   "execution_count": 1,
   "metadata": {
    "collapsed": true,
    "ExecuteTime": {
     "start_time": "2024-05-28T09:39:49.922143Z",
     "end_time": "2024-05-28T09:39:50.694456Z"
    }
   },
   "outputs": [],
   "source": [
    "import numpy as np\n",
    "import pandas as pd\n",
    "import os\n",
    "import re\n",
    "import matplotlib.pyplot as plt\n",
    "import seaborn as sns\n",
    "import openai"
   ]
  },
  {
   "cell_type": "markdown",
   "source": [
    "## Notebook to annotate HLS speeches for relevance\n",
    "### A: one-hot coded labels\n",
    "\n",
    "Codebooks:\n",
    "- A1.0: zero shot\n",
    "- A1.1: one shot\n",
    "- A1.2: two shot\n",
    "\n",
    "- A1.1.1: one shot with specific inclusion of context\n",
    "\n",
    "Test for 5 different seeds\n",
    "Batch of 20 sentences\n",
    "5 iterations\n",
    "\n",
    "Temperature: 0 - 0.2 - 0.6\n",
    "\n",
    "Hypothesis: accuracy decreases with temperature\n",
    "\n",
    "\n",
    "Model selection:\n",
    " As of 22-05-2024, gpt-4-turbo-2024-04-09 seems to be the only gpt-model that returns a fingerprint in addition to gpt-4o\n",
    "\n",
    "  #model= \"gpt-4-turbo-2024-04-09\"\n",
    "  #model = \"gpt-3.5-turbo-0125\"\n"
   ],
   "metadata": {
    "collapsed": false
   }
  },
  {
   "cell_type": "markdown",
   "source": [
    "### Import text to annotate\n",
    "Select only relevant columns of the full dataframe, in this case:\n",
    "relevance_0, relevance_1, relevance_2"
   ],
   "metadata": {
    "collapsed": false
   }
  },
  {
   "cell_type": "code",
   "execution_count": 2,
   "outputs": [],
   "source": [
    "# Import numerical csv file\n",
    "HLS_train = pd.read_csv('data/num/HLS_train_dummies.csv')"
   ],
   "metadata": {
    "collapsed": false,
    "ExecuteTime": {
     "start_time": "2024-05-28T09:39:53.832497Z",
     "end_time": "2024-05-28T09:39:53.878448Z"
    }
   }
  },
  {
   "cell_type": "code",
   "execution_count": 3,
   "outputs": [
    {
     "data": {
      "text/plain": "             id                                               Text  \\\n0   COP19_japan                         Thank you, Mr. President .   \n1   COP19_japan   On beha lf of the government of Japan , I wou...   \n2   COP19_japan   I would also like to expr ess my d eepest con...   \n3   COP19_japan   Mr. President:  A fair and effective framewor...   \n4   COP19_japan   In this regard, Japan firmly supports the est...   \n5   COP19_japan  Such a framework must be based on “nationally ...   \n6   COP19_japan   I will devote myself toward the s uccessful o...   \n7   COP19_japan   Mr. President:  The Great East Japan Earthqua...   \n8   COP19_japan   Even under such circumstance both the public ...   \n9   COP19_japan   Our greenhouse gas emissions for the first co...   \n10  COP19_japan  As a result, our target under the Kyoto Protoc...   \n11  COP19_japan   As the next step, Japan has set a target to r...   \n12  COP19_japan       This target may appear to be less ambitious.   \n13  COP19_japan             However, this is an ambitious target .   \n14  COP19_japan   It requires Japan to improve its energy effic...   \n15  COP19_japan               This is a target for the time being.   \n16  COP19_japan   It was determined without taking into account...   \n17  COP19_japan       Consideration is underway on energy policy .   \n18  COP19_japan   We will conduct further review in line with i...   \n19  COP19_japan   And then, a firm target will eventually be set .   \n20  COP19_japan   Japan will establish a low carbon society thr...   \n21  COP19_japan   We will strategically promote mitigation meas...   \n22  COP19_japan   We will enhance development and demonstration...   \n23  COP19_japan      Japan is hosting the IPCC session next March.   \n24  COP19_japan   Using that opportunity, we will launch a new ...   \n25  COP19_japan   Mr. President:  Japan reaffirms the goal to r...   \n26  COP19_japan   Now is the time for Japan to take “ Actions f...   \n27  COP19_japan  First, Japan will promote further technologica...   \n28  COP19_japan   In this context, Japan’s public and private s...   \n29  COP19_japan  Second, Japan will promote the application of ...   \n30  COP19_japan   In so doing , we will contribute to global em...   \n31  COP19_japan   Furthermore, Japan will strengthen its partne...   \n32  COP19_japan   We will provide support to developing countri...   \n33  COP19_japan   We will mobiliz e official development assist...   \n34  COP19_japan   Tokyo has been selected as the host of the 20...   \n35  COP19_japan   Through the Olympic Games , we will demonstra...   \n36  COP19_japan                 Thank you for your kind attention.   \n\n    relevance_0  relevance_1  relevance_2  principle_0  principle_1  \\\n0             1            0            0            1            0   \n1             1            0            0            1            0   \n2             1            0            0            1            0   \n3             0            0            1            0            0   \n4             0            1            0            1            0   \n5             0            0            1            0            0   \n6             0            1            0            1            0   \n7             1            0            0            1            0   \n8             1            0            0            1            0   \n9             1            0            0            1            0   \n10            1            0            0            1            0   \n11            1            0            0            1            0   \n12            1            0            0            1            0   \n13            1            0            0            1            0   \n14            1            0            0            1            0   \n15            1            0            0            1            0   \n16            1            0            0            1            0   \n17            1            0            0            1            0   \n18            0            1            0            1            0   \n19            0            1            0            1            0   \n20            0            1            0            1            0   \n21            0            1            0            1            0   \n22            0            1            0            1            0   \n23            1            0            0            1            0   \n24            0            1            0            1            0   \n25            0            1            0            1            0   \n26            0            1            0            1            0   \n27            0            1            0            1            0   \n28            0            1            0            1            0   \n29            0            1            0            1            0   \n30            0            1            0            1            0   \n31            0            1            0            1            0   \n32            0            1            0            1            0   \n33            0            1            0            1            0   \n34            1            0            0            1            0   \n35            0            1            0            1            0   \n36            1            0            0            1            0   \n\n    principle_2  principle_3  principle_4  ...  unit_7  shape_0  shape_1  \\\n0             0            0            0  ...       0        1        0   \n1             0            0            0  ...       0        1        0   \n2             0            0            0  ...       0        1        0   \n3             0            1            0  ...       0        0        0   \n4             0            0            0  ...       0        1        0   \n5             1            0            0  ...       0        0        0   \n6             0            0            0  ...       0        1        0   \n7             0            0            0  ...       0        1        0   \n8             0            0            0  ...       0        1        0   \n9             0            0            0  ...       0        1        0   \n10            0            0            0  ...       0        1        0   \n11            0            0            0  ...       0        1        0   \n12            0            0            0  ...       0        1        0   \n13            0            0            0  ...       0        1        0   \n14            0            0            0  ...       0        1        0   \n15            0            0            0  ...       0        1        0   \n16            0            0            0  ...       0        1        0   \n17            0            0            0  ...       0        1        0   \n18            0            0            0  ...       0        1        0   \n19            0            0            0  ...       0        1        0   \n20            0            0            0  ...       0        1        0   \n21            0            0            0  ...       0        1        0   \n22            0            0            0  ...       0        1        0   \n23            0            0            0  ...       0        1        0   \n24            0            0            0  ...       0        1        0   \n25            0            0            0  ...       0        1        0   \n26            0            0            0  ...       0        1        0   \n27            0            0            0  ...       0        1        0   \n28            0            0            0  ...       0        1        0   \n29            0            0            0  ...       0        1        0   \n30            0            0            0  ...       0        1        0   \n31            0            0            0  ...       0        1        0   \n32            0            0            0  ...       0        1        0   \n33            0            0            0  ...       0        1        0   \n34            0            0            0  ...       0        1        0   \n35            0            0            0  ...       0        1        0   \n36            0            0            0  ...       0        1        0   \n\n    shape_2  shape_3  shape_4  shape_5  shape_6  shape_7  shape_8  \n0         0        0        0        0        0        0        0  \n1         0        0        0        0        0        0        0  \n2         0        0        0        0        0        0        0  \n3         1        0        0        0        0        0        0  \n4         0        0        0        0        0        0        0  \n5         0        1        0        0        0        0        0  \n6         0        0        0        0        0        0        0  \n7         0        0        0        0        0        0        0  \n8         0        0        0        0        0        0        0  \n9         0        0        0        0        0        0        0  \n10        0        0        0        0        0        0        0  \n11        0        0        0        0        0        0        0  \n12        0        0        0        0        0        0        0  \n13        0        0        0        0        0        0        0  \n14        0        0        0        0        0        0        0  \n15        0        0        0        0        0        0        0  \n16        0        0        0        0        0        0        0  \n17        0        0        0        0        0        0        0  \n18        0        0        0        0        0        0        0  \n19        0        0        0        0        0        0        0  \n20        0        0        0        0        0        0        0  \n21        0        0        0        0        0        0        0  \n22        0        0        0        0        0        0        0  \n23        0        0        0        0        0        0        0  \n24        0        0        0        0        0        0        0  \n25        0        0        0        0        0        0        0  \n26        0        0        0        0        0        0        0  \n27        0        0        0        0        0        0        0  \n28        0        0        0        0        0        0        0  \n29        0        0        0        0        0        0        0  \n30        0        0        0        0        0        0        0  \n31        0        0        0        0        0        0        0  \n32        0        0        0        0        0        0        0  \n33        0        0        0        0        0        0        0  \n34        0        0        0        0        0        0        0  \n35        0        0        0        0        0        0        0  \n36        0        0        0        0        0        0        0  \n\n[37 rows x 39 columns]",
      "text/html": "<div>\n<style scoped>\n    .dataframe tbody tr th:only-of-type {\n        vertical-align: middle;\n    }\n\n    .dataframe tbody tr th {\n        vertical-align: top;\n    }\n\n    .dataframe thead th {\n        text-align: right;\n    }\n</style>\n<table border=\"1\" class=\"dataframe\">\n  <thead>\n    <tr style=\"text-align: right;\">\n      <th></th>\n      <th>id</th>\n      <th>Text</th>\n      <th>relevance_0</th>\n      <th>relevance_1</th>\n      <th>relevance_2</th>\n      <th>principle_0</th>\n      <th>principle_1</th>\n      <th>principle_2</th>\n      <th>principle_3</th>\n      <th>principle_4</th>\n      <th>...</th>\n      <th>unit_7</th>\n      <th>shape_0</th>\n      <th>shape_1</th>\n      <th>shape_2</th>\n      <th>shape_3</th>\n      <th>shape_4</th>\n      <th>shape_5</th>\n      <th>shape_6</th>\n      <th>shape_7</th>\n      <th>shape_8</th>\n    </tr>\n  </thead>\n  <tbody>\n    <tr>\n      <th>0</th>\n      <td>COP19_japan</td>\n      <td>Thank you, Mr. President .</td>\n      <td>1</td>\n      <td>0</td>\n      <td>0</td>\n      <td>1</td>\n      <td>0</td>\n      <td>0</td>\n      <td>0</td>\n      <td>0</td>\n      <td>...</td>\n      <td>0</td>\n      <td>1</td>\n      <td>0</td>\n      <td>0</td>\n      <td>0</td>\n      <td>0</td>\n      <td>0</td>\n      <td>0</td>\n      <td>0</td>\n      <td>0</td>\n    </tr>\n    <tr>\n      <th>1</th>\n      <td>COP19_japan</td>\n      <td>On beha lf of the government of Japan , I wou...</td>\n      <td>1</td>\n      <td>0</td>\n      <td>0</td>\n      <td>1</td>\n      <td>0</td>\n      <td>0</td>\n      <td>0</td>\n      <td>0</td>\n      <td>...</td>\n      <td>0</td>\n      <td>1</td>\n      <td>0</td>\n      <td>0</td>\n      <td>0</td>\n      <td>0</td>\n      <td>0</td>\n      <td>0</td>\n      <td>0</td>\n      <td>0</td>\n    </tr>\n    <tr>\n      <th>2</th>\n      <td>COP19_japan</td>\n      <td>I would also like to expr ess my d eepest con...</td>\n      <td>1</td>\n      <td>0</td>\n      <td>0</td>\n      <td>1</td>\n      <td>0</td>\n      <td>0</td>\n      <td>0</td>\n      <td>0</td>\n      <td>...</td>\n      <td>0</td>\n      <td>1</td>\n      <td>0</td>\n      <td>0</td>\n      <td>0</td>\n      <td>0</td>\n      <td>0</td>\n      <td>0</td>\n      <td>0</td>\n      <td>0</td>\n    </tr>\n    <tr>\n      <th>3</th>\n      <td>COP19_japan</td>\n      <td>Mr. President:  A fair and effective framewor...</td>\n      <td>0</td>\n      <td>0</td>\n      <td>1</td>\n      <td>0</td>\n      <td>0</td>\n      <td>0</td>\n      <td>1</td>\n      <td>0</td>\n      <td>...</td>\n      <td>0</td>\n      <td>0</td>\n      <td>0</td>\n      <td>1</td>\n      <td>0</td>\n      <td>0</td>\n      <td>0</td>\n      <td>0</td>\n      <td>0</td>\n      <td>0</td>\n    </tr>\n    <tr>\n      <th>4</th>\n      <td>COP19_japan</td>\n      <td>In this regard, Japan firmly supports the est...</td>\n      <td>0</td>\n      <td>1</td>\n      <td>0</td>\n      <td>1</td>\n      <td>0</td>\n      <td>0</td>\n      <td>0</td>\n      <td>0</td>\n      <td>...</td>\n      <td>0</td>\n      <td>1</td>\n      <td>0</td>\n      <td>0</td>\n      <td>0</td>\n      <td>0</td>\n      <td>0</td>\n      <td>0</td>\n      <td>0</td>\n      <td>0</td>\n    </tr>\n    <tr>\n      <th>5</th>\n      <td>COP19_japan</td>\n      <td>Such a framework must be based on “nationally ...</td>\n      <td>0</td>\n      <td>0</td>\n      <td>1</td>\n      <td>0</td>\n      <td>0</td>\n      <td>1</td>\n      <td>0</td>\n      <td>0</td>\n      <td>...</td>\n      <td>0</td>\n      <td>0</td>\n      <td>0</td>\n      <td>0</td>\n      <td>1</td>\n      <td>0</td>\n      <td>0</td>\n      <td>0</td>\n      <td>0</td>\n      <td>0</td>\n    </tr>\n    <tr>\n      <th>6</th>\n      <td>COP19_japan</td>\n      <td>I will devote myself toward the s uccessful o...</td>\n      <td>0</td>\n      <td>1</td>\n      <td>0</td>\n      <td>1</td>\n      <td>0</td>\n      <td>0</td>\n      <td>0</td>\n      <td>0</td>\n      <td>...</td>\n      <td>0</td>\n      <td>1</td>\n      <td>0</td>\n      <td>0</td>\n      <td>0</td>\n      <td>0</td>\n      <td>0</td>\n      <td>0</td>\n      <td>0</td>\n      <td>0</td>\n    </tr>\n    <tr>\n      <th>7</th>\n      <td>COP19_japan</td>\n      <td>Mr. President:  The Great East Japan Earthqua...</td>\n      <td>1</td>\n      <td>0</td>\n      <td>0</td>\n      <td>1</td>\n      <td>0</td>\n      <td>0</td>\n      <td>0</td>\n      <td>0</td>\n      <td>...</td>\n      <td>0</td>\n      <td>1</td>\n      <td>0</td>\n      <td>0</td>\n      <td>0</td>\n      <td>0</td>\n      <td>0</td>\n      <td>0</td>\n      <td>0</td>\n      <td>0</td>\n    </tr>\n    <tr>\n      <th>8</th>\n      <td>COP19_japan</td>\n      <td>Even under such circumstance both the public ...</td>\n      <td>1</td>\n      <td>0</td>\n      <td>0</td>\n      <td>1</td>\n      <td>0</td>\n      <td>0</td>\n      <td>0</td>\n      <td>0</td>\n      <td>...</td>\n      <td>0</td>\n      <td>1</td>\n      <td>0</td>\n      <td>0</td>\n      <td>0</td>\n      <td>0</td>\n      <td>0</td>\n      <td>0</td>\n      <td>0</td>\n      <td>0</td>\n    </tr>\n    <tr>\n      <th>9</th>\n      <td>COP19_japan</td>\n      <td>Our greenhouse gas emissions for the first co...</td>\n      <td>1</td>\n      <td>0</td>\n      <td>0</td>\n      <td>1</td>\n      <td>0</td>\n      <td>0</td>\n      <td>0</td>\n      <td>0</td>\n      <td>...</td>\n      <td>0</td>\n      <td>1</td>\n      <td>0</td>\n      <td>0</td>\n      <td>0</td>\n      <td>0</td>\n      <td>0</td>\n      <td>0</td>\n      <td>0</td>\n      <td>0</td>\n    </tr>\n    <tr>\n      <th>10</th>\n      <td>COP19_japan</td>\n      <td>As a result, our target under the Kyoto Protoc...</td>\n      <td>1</td>\n      <td>0</td>\n      <td>0</td>\n      <td>1</td>\n      <td>0</td>\n      <td>0</td>\n      <td>0</td>\n      <td>0</td>\n      <td>...</td>\n      <td>0</td>\n      <td>1</td>\n      <td>0</td>\n      <td>0</td>\n      <td>0</td>\n      <td>0</td>\n      <td>0</td>\n      <td>0</td>\n      <td>0</td>\n      <td>0</td>\n    </tr>\n    <tr>\n      <th>11</th>\n      <td>COP19_japan</td>\n      <td>As the next step, Japan has set a target to r...</td>\n      <td>1</td>\n      <td>0</td>\n      <td>0</td>\n      <td>1</td>\n      <td>0</td>\n      <td>0</td>\n      <td>0</td>\n      <td>0</td>\n      <td>...</td>\n      <td>0</td>\n      <td>1</td>\n      <td>0</td>\n      <td>0</td>\n      <td>0</td>\n      <td>0</td>\n      <td>0</td>\n      <td>0</td>\n      <td>0</td>\n      <td>0</td>\n    </tr>\n    <tr>\n      <th>12</th>\n      <td>COP19_japan</td>\n      <td>This target may appear to be less ambitious.</td>\n      <td>1</td>\n      <td>0</td>\n      <td>0</td>\n      <td>1</td>\n      <td>0</td>\n      <td>0</td>\n      <td>0</td>\n      <td>0</td>\n      <td>...</td>\n      <td>0</td>\n      <td>1</td>\n      <td>0</td>\n      <td>0</td>\n      <td>0</td>\n      <td>0</td>\n      <td>0</td>\n      <td>0</td>\n      <td>0</td>\n      <td>0</td>\n    </tr>\n    <tr>\n      <th>13</th>\n      <td>COP19_japan</td>\n      <td>However, this is an ambitious target .</td>\n      <td>1</td>\n      <td>0</td>\n      <td>0</td>\n      <td>1</td>\n      <td>0</td>\n      <td>0</td>\n      <td>0</td>\n      <td>0</td>\n      <td>...</td>\n      <td>0</td>\n      <td>1</td>\n      <td>0</td>\n      <td>0</td>\n      <td>0</td>\n      <td>0</td>\n      <td>0</td>\n      <td>0</td>\n      <td>0</td>\n      <td>0</td>\n    </tr>\n    <tr>\n      <th>14</th>\n      <td>COP19_japan</td>\n      <td>It requires Japan to improve its energy effic...</td>\n      <td>1</td>\n      <td>0</td>\n      <td>0</td>\n      <td>1</td>\n      <td>0</td>\n      <td>0</td>\n      <td>0</td>\n      <td>0</td>\n      <td>...</td>\n      <td>0</td>\n      <td>1</td>\n      <td>0</td>\n      <td>0</td>\n      <td>0</td>\n      <td>0</td>\n      <td>0</td>\n      <td>0</td>\n      <td>0</td>\n      <td>0</td>\n    </tr>\n    <tr>\n      <th>15</th>\n      <td>COP19_japan</td>\n      <td>This is a target for the time being.</td>\n      <td>1</td>\n      <td>0</td>\n      <td>0</td>\n      <td>1</td>\n      <td>0</td>\n      <td>0</td>\n      <td>0</td>\n      <td>0</td>\n      <td>...</td>\n      <td>0</td>\n      <td>1</td>\n      <td>0</td>\n      <td>0</td>\n      <td>0</td>\n      <td>0</td>\n      <td>0</td>\n      <td>0</td>\n      <td>0</td>\n      <td>0</td>\n    </tr>\n    <tr>\n      <th>16</th>\n      <td>COP19_japan</td>\n      <td>It was determined without taking into account...</td>\n      <td>1</td>\n      <td>0</td>\n      <td>0</td>\n      <td>1</td>\n      <td>0</td>\n      <td>0</td>\n      <td>0</td>\n      <td>0</td>\n      <td>...</td>\n      <td>0</td>\n      <td>1</td>\n      <td>0</td>\n      <td>0</td>\n      <td>0</td>\n      <td>0</td>\n      <td>0</td>\n      <td>0</td>\n      <td>0</td>\n      <td>0</td>\n    </tr>\n    <tr>\n      <th>17</th>\n      <td>COP19_japan</td>\n      <td>Consideration is underway on energy policy .</td>\n      <td>1</td>\n      <td>0</td>\n      <td>0</td>\n      <td>1</td>\n      <td>0</td>\n      <td>0</td>\n      <td>0</td>\n      <td>0</td>\n      <td>...</td>\n      <td>0</td>\n      <td>1</td>\n      <td>0</td>\n      <td>0</td>\n      <td>0</td>\n      <td>0</td>\n      <td>0</td>\n      <td>0</td>\n      <td>0</td>\n      <td>0</td>\n    </tr>\n    <tr>\n      <th>18</th>\n      <td>COP19_japan</td>\n      <td>We will conduct further review in line with i...</td>\n      <td>0</td>\n      <td>1</td>\n      <td>0</td>\n      <td>1</td>\n      <td>0</td>\n      <td>0</td>\n      <td>0</td>\n      <td>0</td>\n      <td>...</td>\n      <td>0</td>\n      <td>1</td>\n      <td>0</td>\n      <td>0</td>\n      <td>0</td>\n      <td>0</td>\n      <td>0</td>\n      <td>0</td>\n      <td>0</td>\n      <td>0</td>\n    </tr>\n    <tr>\n      <th>19</th>\n      <td>COP19_japan</td>\n      <td>And then, a firm target will eventually be set .</td>\n      <td>0</td>\n      <td>1</td>\n      <td>0</td>\n      <td>1</td>\n      <td>0</td>\n      <td>0</td>\n      <td>0</td>\n      <td>0</td>\n      <td>...</td>\n      <td>0</td>\n      <td>1</td>\n      <td>0</td>\n      <td>0</td>\n      <td>0</td>\n      <td>0</td>\n      <td>0</td>\n      <td>0</td>\n      <td>0</td>\n      <td>0</td>\n    </tr>\n    <tr>\n      <th>20</th>\n      <td>COP19_japan</td>\n      <td>Japan will establish a low carbon society thr...</td>\n      <td>0</td>\n      <td>1</td>\n      <td>0</td>\n      <td>1</td>\n      <td>0</td>\n      <td>0</td>\n      <td>0</td>\n      <td>0</td>\n      <td>...</td>\n      <td>0</td>\n      <td>1</td>\n      <td>0</td>\n      <td>0</td>\n      <td>0</td>\n      <td>0</td>\n      <td>0</td>\n      <td>0</td>\n      <td>0</td>\n      <td>0</td>\n    </tr>\n    <tr>\n      <th>21</th>\n      <td>COP19_japan</td>\n      <td>We will strategically promote mitigation meas...</td>\n      <td>0</td>\n      <td>1</td>\n      <td>0</td>\n      <td>1</td>\n      <td>0</td>\n      <td>0</td>\n      <td>0</td>\n      <td>0</td>\n      <td>...</td>\n      <td>0</td>\n      <td>1</td>\n      <td>0</td>\n      <td>0</td>\n      <td>0</td>\n      <td>0</td>\n      <td>0</td>\n      <td>0</td>\n      <td>0</td>\n      <td>0</td>\n    </tr>\n    <tr>\n      <th>22</th>\n      <td>COP19_japan</td>\n      <td>We will enhance development and demonstration...</td>\n      <td>0</td>\n      <td>1</td>\n      <td>0</td>\n      <td>1</td>\n      <td>0</td>\n      <td>0</td>\n      <td>0</td>\n      <td>0</td>\n      <td>...</td>\n      <td>0</td>\n      <td>1</td>\n      <td>0</td>\n      <td>0</td>\n      <td>0</td>\n      <td>0</td>\n      <td>0</td>\n      <td>0</td>\n      <td>0</td>\n      <td>0</td>\n    </tr>\n    <tr>\n      <th>23</th>\n      <td>COP19_japan</td>\n      <td>Japan is hosting the IPCC session next March.</td>\n      <td>1</td>\n      <td>0</td>\n      <td>0</td>\n      <td>1</td>\n      <td>0</td>\n      <td>0</td>\n      <td>0</td>\n      <td>0</td>\n      <td>...</td>\n      <td>0</td>\n      <td>1</td>\n      <td>0</td>\n      <td>0</td>\n      <td>0</td>\n      <td>0</td>\n      <td>0</td>\n      <td>0</td>\n      <td>0</td>\n      <td>0</td>\n    </tr>\n    <tr>\n      <th>24</th>\n      <td>COP19_japan</td>\n      <td>Using that opportunity, we will launch a new ...</td>\n      <td>0</td>\n      <td>1</td>\n      <td>0</td>\n      <td>1</td>\n      <td>0</td>\n      <td>0</td>\n      <td>0</td>\n      <td>0</td>\n      <td>...</td>\n      <td>0</td>\n      <td>1</td>\n      <td>0</td>\n      <td>0</td>\n      <td>0</td>\n      <td>0</td>\n      <td>0</td>\n      <td>0</td>\n      <td>0</td>\n      <td>0</td>\n    </tr>\n    <tr>\n      <th>25</th>\n      <td>COP19_japan</td>\n      <td>Mr. President:  Japan reaffirms the goal to r...</td>\n      <td>0</td>\n      <td>1</td>\n      <td>0</td>\n      <td>1</td>\n      <td>0</td>\n      <td>0</td>\n      <td>0</td>\n      <td>0</td>\n      <td>...</td>\n      <td>0</td>\n      <td>1</td>\n      <td>0</td>\n      <td>0</td>\n      <td>0</td>\n      <td>0</td>\n      <td>0</td>\n      <td>0</td>\n      <td>0</td>\n      <td>0</td>\n    </tr>\n    <tr>\n      <th>26</th>\n      <td>COP19_japan</td>\n      <td>Now is the time for Japan to take “ Actions f...</td>\n      <td>0</td>\n      <td>1</td>\n      <td>0</td>\n      <td>1</td>\n      <td>0</td>\n      <td>0</td>\n      <td>0</td>\n      <td>0</td>\n      <td>...</td>\n      <td>0</td>\n      <td>1</td>\n      <td>0</td>\n      <td>0</td>\n      <td>0</td>\n      <td>0</td>\n      <td>0</td>\n      <td>0</td>\n      <td>0</td>\n      <td>0</td>\n    </tr>\n    <tr>\n      <th>27</th>\n      <td>COP19_japan</td>\n      <td>First, Japan will promote further technologica...</td>\n      <td>0</td>\n      <td>1</td>\n      <td>0</td>\n      <td>1</td>\n      <td>0</td>\n      <td>0</td>\n      <td>0</td>\n      <td>0</td>\n      <td>...</td>\n      <td>0</td>\n      <td>1</td>\n      <td>0</td>\n      <td>0</td>\n      <td>0</td>\n      <td>0</td>\n      <td>0</td>\n      <td>0</td>\n      <td>0</td>\n      <td>0</td>\n    </tr>\n    <tr>\n      <th>28</th>\n      <td>COP19_japan</td>\n      <td>In this context, Japan’s public and private s...</td>\n      <td>0</td>\n      <td>1</td>\n      <td>0</td>\n      <td>1</td>\n      <td>0</td>\n      <td>0</td>\n      <td>0</td>\n      <td>0</td>\n      <td>...</td>\n      <td>0</td>\n      <td>1</td>\n      <td>0</td>\n      <td>0</td>\n      <td>0</td>\n      <td>0</td>\n      <td>0</td>\n      <td>0</td>\n      <td>0</td>\n      <td>0</td>\n    </tr>\n    <tr>\n      <th>29</th>\n      <td>COP19_japan</td>\n      <td>Second, Japan will promote the application of ...</td>\n      <td>0</td>\n      <td>1</td>\n      <td>0</td>\n      <td>1</td>\n      <td>0</td>\n      <td>0</td>\n      <td>0</td>\n      <td>0</td>\n      <td>...</td>\n      <td>0</td>\n      <td>1</td>\n      <td>0</td>\n      <td>0</td>\n      <td>0</td>\n      <td>0</td>\n      <td>0</td>\n      <td>0</td>\n      <td>0</td>\n      <td>0</td>\n    </tr>\n    <tr>\n      <th>30</th>\n      <td>COP19_japan</td>\n      <td>In so doing , we will contribute to global em...</td>\n      <td>0</td>\n      <td>1</td>\n      <td>0</td>\n      <td>1</td>\n      <td>0</td>\n      <td>0</td>\n      <td>0</td>\n      <td>0</td>\n      <td>...</td>\n      <td>0</td>\n      <td>1</td>\n      <td>0</td>\n      <td>0</td>\n      <td>0</td>\n      <td>0</td>\n      <td>0</td>\n      <td>0</td>\n      <td>0</td>\n      <td>0</td>\n    </tr>\n    <tr>\n      <th>31</th>\n      <td>COP19_japan</td>\n      <td>Furthermore, Japan will strengthen its partne...</td>\n      <td>0</td>\n      <td>1</td>\n      <td>0</td>\n      <td>1</td>\n      <td>0</td>\n      <td>0</td>\n      <td>0</td>\n      <td>0</td>\n      <td>...</td>\n      <td>0</td>\n      <td>1</td>\n      <td>0</td>\n      <td>0</td>\n      <td>0</td>\n      <td>0</td>\n      <td>0</td>\n      <td>0</td>\n      <td>0</td>\n      <td>0</td>\n    </tr>\n    <tr>\n      <th>32</th>\n      <td>COP19_japan</td>\n      <td>We will provide support to developing countri...</td>\n      <td>0</td>\n      <td>1</td>\n      <td>0</td>\n      <td>1</td>\n      <td>0</td>\n      <td>0</td>\n      <td>0</td>\n      <td>0</td>\n      <td>...</td>\n      <td>0</td>\n      <td>1</td>\n      <td>0</td>\n      <td>0</td>\n      <td>0</td>\n      <td>0</td>\n      <td>0</td>\n      <td>0</td>\n      <td>0</td>\n      <td>0</td>\n    </tr>\n    <tr>\n      <th>33</th>\n      <td>COP19_japan</td>\n      <td>We will mobiliz e official development assist...</td>\n      <td>0</td>\n      <td>1</td>\n      <td>0</td>\n      <td>1</td>\n      <td>0</td>\n      <td>0</td>\n      <td>0</td>\n      <td>0</td>\n      <td>...</td>\n      <td>0</td>\n      <td>1</td>\n      <td>0</td>\n      <td>0</td>\n      <td>0</td>\n      <td>0</td>\n      <td>0</td>\n      <td>0</td>\n      <td>0</td>\n      <td>0</td>\n    </tr>\n    <tr>\n      <th>34</th>\n      <td>COP19_japan</td>\n      <td>Tokyo has been selected as the host of the 20...</td>\n      <td>1</td>\n      <td>0</td>\n      <td>0</td>\n      <td>1</td>\n      <td>0</td>\n      <td>0</td>\n      <td>0</td>\n      <td>0</td>\n      <td>...</td>\n      <td>0</td>\n      <td>1</td>\n      <td>0</td>\n      <td>0</td>\n      <td>0</td>\n      <td>0</td>\n      <td>0</td>\n      <td>0</td>\n      <td>0</td>\n      <td>0</td>\n    </tr>\n    <tr>\n      <th>35</th>\n      <td>COP19_japan</td>\n      <td>Through the Olympic Games , we will demonstra...</td>\n      <td>0</td>\n      <td>1</td>\n      <td>0</td>\n      <td>1</td>\n      <td>0</td>\n      <td>0</td>\n      <td>0</td>\n      <td>0</td>\n      <td>...</td>\n      <td>0</td>\n      <td>1</td>\n      <td>0</td>\n      <td>0</td>\n      <td>0</td>\n      <td>0</td>\n      <td>0</td>\n      <td>0</td>\n      <td>0</td>\n      <td>0</td>\n    </tr>\n    <tr>\n      <th>36</th>\n      <td>COP19_japan</td>\n      <td>Thank you for your kind attention.</td>\n      <td>1</td>\n      <td>0</td>\n      <td>0</td>\n      <td>1</td>\n      <td>0</td>\n      <td>0</td>\n      <td>0</td>\n      <td>0</td>\n      <td>...</td>\n      <td>0</td>\n      <td>1</td>\n      <td>0</td>\n      <td>0</td>\n      <td>0</td>\n      <td>0</td>\n      <td>0</td>\n      <td>0</td>\n      <td>0</td>\n      <td>0</td>\n    </tr>\n  </tbody>\n</table>\n<p>37 rows × 39 columns</p>\n</div>"
     },
     "execution_count": 3,
     "metadata": {},
     "output_type": "execute_result"
    }
   ],
   "source": [
    "### Select only japan for testing purposes\n",
    "HLS_train_japan = HLS_train[HLS_train['id']=='COP19_japan']\n",
    "HLS_train_japan"
   ],
   "metadata": {
    "collapsed": false,
    "ExecuteTime": {
     "start_time": "2024-05-28T09:39:55.252809Z",
     "end_time": "2024-05-28T09:39:55.331356Z"
    }
   }
  },
  {
   "cell_type": "code",
   "execution_count": 4,
   "outputs": [],
   "source": [
    "# Select only columns containing relevance labels\n",
    "HLS_relevance = HLS_train_japan[['Text', 'relevance_0', 'relevance_1', 'relevance_2']]"
   ],
   "metadata": {
    "collapsed": false,
    "ExecuteTime": {
     "start_time": "2024-05-28T09:39:56.047900Z",
     "end_time": "2024-05-28T09:39:56.076733Z"
    }
   }
  },
  {
   "cell_type": "markdown",
   "source": [
    "### Import necessary files\n",
    "- codebooks\n",
    "- API key\n",
    "- import gpt_annotate_num"
   ],
   "metadata": {
    "collapsed": false
   }
  },
  {
   "cell_type": "code",
   "execution_count": 5,
   "outputs": [],
   "source": [
    "# Load codebook - zero shot\n",
    "with open('codebooks/A1.0', 'r', encoding='utf-8') as file:\n",
    "    A10 = file.read()"
   ],
   "metadata": {
    "collapsed": false,
    "ExecuteTime": {
     "start_time": "2024-05-28T09:39:58.087428Z",
     "end_time": "2024-05-28T09:39:58.097539Z"
    }
   }
  },
  {
   "cell_type": "code",
   "execution_count": 6,
   "outputs": [],
   "source": [
    "# OpenAI key\n",
    "with open('gpt_api_key.txt', 'r') as f:\n",
    "    key = f.read().strip()"
   ],
   "metadata": {
    "collapsed": false,
    "ExecuteTime": {
     "start_time": "2024-05-28T09:39:58.698740Z",
     "end_time": "2024-05-28T09:39:58.712261Z"
    }
   }
  },
  {
   "cell_type": "code",
   "execution_count": 7,
   "outputs": [],
   "source": [
    "import gpt_annotate_num"
   ],
   "metadata": {
    "collapsed": false,
    "ExecuteTime": {
     "start_time": "2024-05-28T09:39:59.315033Z",
     "end_time": "2024-05-28T09:40:13.387245Z"
    }
   }
  },
  {
   "cell_type": "markdown",
   "source": [
    "### Prepare data for annotation\n",
    "Compares column names in HLS_relevance to the codes identified by GPT-4o in the codebook. Seed for this identification is set to 1234."
   ],
   "metadata": {
    "collapsed": false
   }
  },
  {
   "cell_type": "code",
   "execution_count": 10,
   "outputs": [
    {
     "name": "stdout",
     "output_type": "stream",
     "text": [
      "ChatCompletion(id='chatcmpl-9TljdNzK66sKsQvhJA3ijG46BDSSe', choices=[Choice(finish_reason='stop', index=0, logprobs=None, message=ChatCompletionMessage(content='relevance_0, relevance_1, relevance_2', role='assistant', function_call=None, tool_calls=None))], created=1716882033, model='gpt-4o-2024-05-13', object='chat.completion', system_fingerprint='fp_43dfabdef1', usage=CompletionUsage(completion_tokens=12, prompt_tokens=389, total_tokens=401))\n",
      "\n",
      "Categories to annotate:\n",
      "1) relevance_0\n",
      "2) relevance_1\n",
      "3) relevance_2\n",
      "\n",
      "\n",
      "Data is ready to be annotated using gpt_annotate()!\n",
      "\n",
      "Glimpse of your data:\n",
      "Shape of data:  (37, 6)\n",
      "   unique_id                                               text  relevance_0  \\\n",
      "0          0                         Thank you, Mr. President .            1   \n",
      "1          1   On beha lf of the government of Japan , I wou...            1   \n",
      "2          2   I would also like to expr ess my d eepest con...            1   \n",
      "3          3   Mr. President:  A fair and effective framewor...            0   \n",
      "4          4   In this regard, Japan firmly supports the est...            0   \n",
      "\n",
      "   relevance_1  relevance_2                                          llm_query  \n",
      "0            0            0                    0  Thank you, Mr. President .\\n  \n",
      "1            0            0  1  On beha lf of the government of Japan , I w...  \n",
      "2            0            0  2  I would also like to expr ess my d eepest c...  \n",
      "3            0            1  3  Mr. President:  A fair and effective framew...  \n",
      "4            1            0  4  In this regard, Japan firmly supports the e...  \n"
     ]
    }
   ],
   "source": [
    "# Prepare dataframe for annotation\n",
    "text_to_annotate = gpt_annotate_num.prepare_data(HLS_relevance, A10, key, prep_codebook=True)"
   ],
   "metadata": {
    "collapsed": false,
    "ExecuteTime": {
     "start_time": "2024-05-28T09:40:35.057767Z",
     "end_time": "2024-05-28T09:40:38.466501Z"
    }
   }
  },
  {
   "cell_type": "markdown",
   "source": [
    "Fingerprint used: fp_43dfabdef1\n",
    "\n",
    "Seed of textpreparation is hardcoded into gpt_annotate. This to ensure that onlye the results of the same fingerprint for all seeds and all iterations. Essentially every time GPT-4o is called only results with this specific fingerprint are saved."
   ],
   "metadata": {
    "collapsed": false
   }
  },
  {
   "cell_type": "markdown",
   "source": [
    "### Run gpt_annotate_num\n",
    "Evaluation per seed -\n",
    "5 different seeds\n",
    "Batch of 20 sentences\n",
    "5 iterations\n",
    "\n",
    "Returns 5 outputs per seed;\n",
    "1. all_iterations_num_{seed}.csv\n",
    "2. final_num_{seed}.csv\n",
    "3. performance_metrics_{seed}\n",
    "4. incorrect_{seed}.csv\n",
    "5. fingerprints_all.csv\n"
   ],
   "metadata": {
    "collapsed": false
   }
  },
  {
   "cell_type": "code",
   "execution_count": 8,
   "outputs": [],
   "source": [
    "fingerprint = 'fp_43dfabdef1'\n",
    "seeds = [3644,3441, 280, 5991, 7917]"
   ],
   "metadata": {
    "collapsed": false,
    "ExecuteTime": {
     "start_time": "2024-05-28T09:40:24.124086Z",
     "end_time": "2024-05-28T09:40:24.125642Z"
    }
   }
  },
  {
   "cell_type": "code",
   "execution_count": 11,
   "outputs": [
    {
     "name": "stdout",
     "output_type": "stream",
     "text": [
      "Seed: 3644: Iteration 1, batch 1: fingerprintmatch found!\n",
      "Seed: 3644: Iteration 1, batch 2: fingerprintmatch found!\n",
      "iteration:  1 completed\n",
      "Seed: 3644: Iteration 2, batch 1: fingerprintmatch found!\n",
      "Seed: 3644: Iteration 2, batch 2: fingerprintmatch found!\n",
      "iteration:  2 completed\n",
      "Seed: 3644: Iteration 3, batch 1: fingerprint does not match\n",
      "Seed: 3644: Iteration 3, batch 2: fingerprintmatch found!\n",
      "iteration:  3 completed\n",
      "Seed: 3441: Iteration 1, batch 1: fingerprintmatch found!\n",
      "Seed: 3441: Iteration 1, batch 2: fingerprintmatch found!\n",
      "iteration:  1 completed\n",
      "Seed: 3441: Iteration 2, batch 1: fingerprintmatch found!\n",
      "Seed: 3441: Iteration 2, batch 2: fingerprintmatch found!\n",
      "iteration:  2 completed\n",
      "Seed: 3441: Iteration 3, batch 1: fingerprintmatch found!\n",
      "Seed: 3441: Iteration 3, batch 2: fingerprintmatch found!\n",
      "iteration:  3 completed\n",
      "Seed: 280: Iteration 1, batch 1: fingerprintmatch found!\n",
      "Seed: 280: Iteration 1, batch 2: fingerprintmatch found!\n",
      "iteration:  1 completed\n",
      "Seed: 280: Iteration 2, batch 1: fingerprintmatch found!\n",
      "Seed: 280: Iteration 2, batch 2: fingerprintmatch found!\n",
      "iteration:  2 completed\n",
      "Seed: 280: Iteration 3, batch 1: fingerprintmatch found!\n",
      "Seed: 280: Iteration 3, batch 2: fingerprintmatch found!\n",
      "iteration:  3 completed\n",
      "Seed: 5991: Iteration 1, batch 1: fingerprintmatch found!\n",
      "Seed: 5991: Iteration 1, batch 2: fingerprintmatch found!\n",
      "iteration:  1 completed\n",
      "Seed: 5991: Iteration 2, batch 1: fingerprintmatch found!\n",
      "Seed: 5991: Iteration 2, batch 2: fingerprintmatch found!\n",
      "iteration:  2 completed\n",
      "Seed: 5991: Iteration 3, batch 1: fingerprintmatch found!\n",
      "Seed: 5991: Iteration 3, batch 2: fingerprintmatch found!\n",
      "iteration:  3 completed\n",
      "Seed: 7917: Iteration 1, batch 1: fingerprintmatch found!\n",
      "Seed: 7917: Iteration 1, batch 2: fingerprint does not match\n",
      "iteration:  1 completed\n",
      "Seed: 7917: Iteration 2, batch 1: fingerprintmatch found!\n",
      "Seed: 7917: Iteration 2, batch 2: fingerprintmatch found!\n",
      "iteration:  2 completed\n",
      "Seed: 7917: Iteration 3, batch 1: fingerprintmatch found!\n",
      "Seed: 7917: Iteration 3, batch 2: fingerprintmatch found!\n",
      "iteration:  3 completed\n"
     ]
    }
   ],
   "source": [
    "# Annotate the data - T0\n",
    "for seed in seeds:\n",
    "    gpt_annotate_num.gpt_annotate(text_to_annotate, A10, key, seed, fingerprint,experiment='A1.0', num_iterations=3, model=\"gpt-4o\", temperature=0,batch_size=20, human_labels=True)"
   ],
   "metadata": {
    "collapsed": false,
    "ExecuteTime": {
     "start_time": "2024-05-28T09:40:48.345516Z",
     "end_time": "2024-05-28T09:43:39.297465Z"
    }
   }
  },
  {
   "cell_type": "markdown",
   "source": [
    "Time to evaluate: 5 seeds, 5 iterations, 37 lines: 4 min"
   ],
   "metadata": {
    "collapsed": false
   }
  },
  {
   "cell_type": "code",
   "execution_count": 16,
   "outputs": [
    {
     "data": {
      "text/plain": "     unique_id                                               text  \\\n0            0                         Thank you, Mr. President .   \n1            0                         Thank you, Mr. President .   \n2            0                         Thank you, Mr. President .   \n3            0                         Thank you, Mr. President .   \n4            0                         Thank you, Mr. President .   \n..         ...                                                ...   \n168         35   Through the Olympic Games , we will demonstra...   \n169         36                 Thank you for your kind attention.   \n170         36                 Thank you for your kind attention.   \n171         36                 Thank you for your kind attention.   \n172         36                 Thank you for your kind attention.   \n\n     relevance_0_x  relevance_1_x  relevance_2_x  \\\n0                1              0              0   \n1                1              0              0   \n2                1              0              0   \n3                1              0              0   \n4                1              0              0   \n..             ...            ...            ...   \n168              0              1              0   \n169              1              0              0   \n170              1              0              0   \n171              1              0              0   \n172              1              0              0   \n\n                                             llm_query  relevance_0_y  \\\n0                      0  Thank you, Mr. President .\\n              1   \n1                      0  Thank you, Mr. President .\\n              1   \n2                      0  Thank you, Mr. President .\\n              1   \n3                      0  Thank you, Mr. President .\\n              1   \n4                      0  Thank you, Mr. President .\\n              1   \n..                                                 ...            ...   \n168  35  Through the Olympic Games , we will demons...              0   \n169           36  Thank you for your kind attention.\\n              1   \n170           36  Thank you for your kind attention.\\n              1   \n171           36  Thank you for your kind attention.\\n              1   \n172           36  Thank you for your kind attention.\\n              1   \n\n     relevance_1_y  relevance_2_y  iteration  \n0                0              0          1  \n1                0              0          2  \n2                0              0          3  \n3                0              0          4  \n4                0              0          5  \n..             ...            ...        ...  \n168              0              1          4  \n169              0              0          1  \n170              0              0          2  \n171              0              0          3  \n172              0              0          4  \n\n[173 rows x 10 columns]",
      "text/html": "<div>\n<style scoped>\n    .dataframe tbody tr th:only-of-type {\n        vertical-align: middle;\n    }\n\n    .dataframe tbody tr th {\n        vertical-align: top;\n    }\n\n    .dataframe thead th {\n        text-align: right;\n    }\n</style>\n<table border=\"1\" class=\"dataframe\">\n  <thead>\n    <tr style=\"text-align: right;\">\n      <th></th>\n      <th>unique_id</th>\n      <th>text</th>\n      <th>relevance_0_x</th>\n      <th>relevance_1_x</th>\n      <th>relevance_2_x</th>\n      <th>llm_query</th>\n      <th>relevance_0_y</th>\n      <th>relevance_1_y</th>\n      <th>relevance_2_y</th>\n      <th>iteration</th>\n    </tr>\n  </thead>\n  <tbody>\n    <tr>\n      <th>0</th>\n      <td>0</td>\n      <td>Thank you, Mr. President .</td>\n      <td>1</td>\n      <td>0</td>\n      <td>0</td>\n      <td>0  Thank you, Mr. President .\\n</td>\n      <td>1</td>\n      <td>0</td>\n      <td>0</td>\n      <td>1</td>\n    </tr>\n    <tr>\n      <th>1</th>\n      <td>0</td>\n      <td>Thank you, Mr. President .</td>\n      <td>1</td>\n      <td>0</td>\n      <td>0</td>\n      <td>0  Thank you, Mr. President .\\n</td>\n      <td>1</td>\n      <td>0</td>\n      <td>0</td>\n      <td>2</td>\n    </tr>\n    <tr>\n      <th>2</th>\n      <td>0</td>\n      <td>Thank you, Mr. President .</td>\n      <td>1</td>\n      <td>0</td>\n      <td>0</td>\n      <td>0  Thank you, Mr. President .\\n</td>\n      <td>1</td>\n      <td>0</td>\n      <td>0</td>\n      <td>3</td>\n    </tr>\n    <tr>\n      <th>3</th>\n      <td>0</td>\n      <td>Thank you, Mr. President .</td>\n      <td>1</td>\n      <td>0</td>\n      <td>0</td>\n      <td>0  Thank you, Mr. President .\\n</td>\n      <td>1</td>\n      <td>0</td>\n      <td>0</td>\n      <td>4</td>\n    </tr>\n    <tr>\n      <th>4</th>\n      <td>0</td>\n      <td>Thank you, Mr. President .</td>\n      <td>1</td>\n      <td>0</td>\n      <td>0</td>\n      <td>0  Thank you, Mr. President .\\n</td>\n      <td>1</td>\n      <td>0</td>\n      <td>0</td>\n      <td>5</td>\n    </tr>\n    <tr>\n      <th>...</th>\n      <td>...</td>\n      <td>...</td>\n      <td>...</td>\n      <td>...</td>\n      <td>...</td>\n      <td>...</td>\n      <td>...</td>\n      <td>...</td>\n      <td>...</td>\n      <td>...</td>\n    </tr>\n    <tr>\n      <th>168</th>\n      <td>35</td>\n      <td>Through the Olympic Games , we will demonstra...</td>\n      <td>0</td>\n      <td>1</td>\n      <td>0</td>\n      <td>35  Through the Olympic Games , we will demons...</td>\n      <td>0</td>\n      <td>0</td>\n      <td>1</td>\n      <td>4</td>\n    </tr>\n    <tr>\n      <th>169</th>\n      <td>36</td>\n      <td>Thank you for your kind attention.</td>\n      <td>1</td>\n      <td>0</td>\n      <td>0</td>\n      <td>36  Thank you for your kind attention.\\n</td>\n      <td>1</td>\n      <td>0</td>\n      <td>0</td>\n      <td>1</td>\n    </tr>\n    <tr>\n      <th>170</th>\n      <td>36</td>\n      <td>Thank you for your kind attention.</td>\n      <td>1</td>\n      <td>0</td>\n      <td>0</td>\n      <td>36  Thank you for your kind attention.\\n</td>\n      <td>1</td>\n      <td>0</td>\n      <td>0</td>\n      <td>2</td>\n    </tr>\n    <tr>\n      <th>171</th>\n      <td>36</td>\n      <td>Thank you for your kind attention.</td>\n      <td>1</td>\n      <td>0</td>\n      <td>0</td>\n      <td>36  Thank you for your kind attention.\\n</td>\n      <td>1</td>\n      <td>0</td>\n      <td>0</td>\n      <td>3</td>\n    </tr>\n    <tr>\n      <th>172</th>\n      <td>36</td>\n      <td>Thank you for your kind attention.</td>\n      <td>1</td>\n      <td>0</td>\n      <td>0</td>\n      <td>36  Thank you for your kind attention.\\n</td>\n      <td>1</td>\n      <td>0</td>\n      <td>0</td>\n      <td>4</td>\n    </tr>\n  </tbody>\n</table>\n<p>173 rows × 10 columns</p>\n</div>"
     },
     "execution_count": 16,
     "metadata": {},
     "output_type": "execute_result"
    }
   ],
   "source": [
    "all_3644 = pd.read_csv('NUM_RESULT/A1.0/JAPAN - no temp/all_iterations_num_3644.csv')\n",
    "all_3644"
   ],
   "metadata": {
    "collapsed": false,
    "ExecuteTime": {
     "start_time": "2024-05-28T09:51:02.758168Z",
     "end_time": "2024-05-28T09:51:02.786444Z"
    }
   }
  },
  {
   "cell_type": "markdown",
   "source": [
    "### Evaluate Performance metrics\n",
    "Print performance metrics"
   ],
   "metadata": {
    "collapsed": false
   }
  },
  {
   "cell_type": "code",
   "execution_count": 13,
   "outputs": [
    {
     "data": {
      "text/plain": "             Category  Accuracy  Precision    Recall        F1\n0    0_280relevance_0  0.864865   1.000000  0.705882  0.827586\n1    0_280relevance_1  0.864865   0.782609  1.000000  0.878049\n2    0_280relevance_2  0.891892   0.000000  0.000000  0.000000\n3   0_3441relevance_0  0.837838   0.923077  0.705882  0.800000\n4   0_3441relevance_1  0.837838   0.772727  0.944444  0.850000\n5   0_3441relevance_2  0.891892   0.000000  0.000000  0.000000\n6   0_3644relevance_0  0.837838   0.923077  0.705882  0.800000\n7   0_3644relevance_1  0.837838   0.772727  0.944444  0.850000\n8   0_3644relevance_2  0.891892   0.000000  0.000000  0.000000\n9   0_5991relevance_0  0.837838   0.923077  0.705882  0.800000\n10  0_5991relevance_1  0.837838   0.772727  0.944444  0.850000\n11  0_5991relevance_2  0.891892   0.000000  0.000000  0.000000\n12  0_7917relevance_0  0.810811   0.857143  0.705882  0.774194\n13  0_7917relevance_1  0.810811   0.761905  0.888889  0.820513\n14  0_7917relevance_2  0.891892   0.000000  0.000000  0.000000",
      "text/html": "<div>\n<style scoped>\n    .dataframe tbody tr th:only-of-type {\n        vertical-align: middle;\n    }\n\n    .dataframe tbody tr th {\n        vertical-align: top;\n    }\n\n    .dataframe thead th {\n        text-align: right;\n    }\n</style>\n<table border=\"1\" class=\"dataframe\">\n  <thead>\n    <tr style=\"text-align: right;\">\n      <th></th>\n      <th>Category</th>\n      <th>Accuracy</th>\n      <th>Precision</th>\n      <th>Recall</th>\n      <th>F1</th>\n    </tr>\n  </thead>\n  <tbody>\n    <tr>\n      <th>0</th>\n      <td>0_280relevance_0</td>\n      <td>0.864865</td>\n      <td>1.000000</td>\n      <td>0.705882</td>\n      <td>0.827586</td>\n    </tr>\n    <tr>\n      <th>1</th>\n      <td>0_280relevance_1</td>\n      <td>0.864865</td>\n      <td>0.782609</td>\n      <td>1.000000</td>\n      <td>0.878049</td>\n    </tr>\n    <tr>\n      <th>2</th>\n      <td>0_280relevance_2</td>\n      <td>0.891892</td>\n      <td>0.000000</td>\n      <td>0.000000</td>\n      <td>0.000000</td>\n    </tr>\n    <tr>\n      <th>3</th>\n      <td>0_3441relevance_0</td>\n      <td>0.837838</td>\n      <td>0.923077</td>\n      <td>0.705882</td>\n      <td>0.800000</td>\n    </tr>\n    <tr>\n      <th>4</th>\n      <td>0_3441relevance_1</td>\n      <td>0.837838</td>\n      <td>0.772727</td>\n      <td>0.944444</td>\n      <td>0.850000</td>\n    </tr>\n    <tr>\n      <th>5</th>\n      <td>0_3441relevance_2</td>\n      <td>0.891892</td>\n      <td>0.000000</td>\n      <td>0.000000</td>\n      <td>0.000000</td>\n    </tr>\n    <tr>\n      <th>6</th>\n      <td>0_3644relevance_0</td>\n      <td>0.837838</td>\n      <td>0.923077</td>\n      <td>0.705882</td>\n      <td>0.800000</td>\n    </tr>\n    <tr>\n      <th>7</th>\n      <td>0_3644relevance_1</td>\n      <td>0.837838</td>\n      <td>0.772727</td>\n      <td>0.944444</td>\n      <td>0.850000</td>\n    </tr>\n    <tr>\n      <th>8</th>\n      <td>0_3644relevance_2</td>\n      <td>0.891892</td>\n      <td>0.000000</td>\n      <td>0.000000</td>\n      <td>0.000000</td>\n    </tr>\n    <tr>\n      <th>9</th>\n      <td>0_5991relevance_0</td>\n      <td>0.837838</td>\n      <td>0.923077</td>\n      <td>0.705882</td>\n      <td>0.800000</td>\n    </tr>\n    <tr>\n      <th>10</th>\n      <td>0_5991relevance_1</td>\n      <td>0.837838</td>\n      <td>0.772727</td>\n      <td>0.944444</td>\n      <td>0.850000</td>\n    </tr>\n    <tr>\n      <th>11</th>\n      <td>0_5991relevance_2</td>\n      <td>0.891892</td>\n      <td>0.000000</td>\n      <td>0.000000</td>\n      <td>0.000000</td>\n    </tr>\n    <tr>\n      <th>12</th>\n      <td>0_7917relevance_0</td>\n      <td>0.810811</td>\n      <td>0.857143</td>\n      <td>0.705882</td>\n      <td>0.774194</td>\n    </tr>\n    <tr>\n      <th>13</th>\n      <td>0_7917relevance_1</td>\n      <td>0.810811</td>\n      <td>0.761905</td>\n      <td>0.888889</td>\n      <td>0.820513</td>\n    </tr>\n    <tr>\n      <th>14</th>\n      <td>0_7917relevance_2</td>\n      <td>0.891892</td>\n      <td>0.000000</td>\n      <td>0.000000</td>\n      <td>0.000000</td>\n    </tr>\n  </tbody>\n</table>\n</div>"
     },
     "execution_count": 13,
     "metadata": {},
     "output_type": "execute_result"
    }
   ],
   "source": [
    "# Function to extract numbers from the filename string\n",
    "def extract_numbers(filename):\n",
    "    return re.findall(r'\\d+', filename)\n",
    "\n",
    "# Iterate through each file in the directory\n",
    "directory = 'NUM_RESULT/A1.0/performance_metrics_num'\n",
    "\n",
    "# Create empty list to store all dataframes\n",
    "dataframes = []\n",
    "\n",
    "# Open each file and make dataframe of complete scores\n",
    "for filename in os.listdir(directory):\n",
    "    file_path = os.path.join(directory, filename)\n",
    "    df = pd.read_csv(file_path)\n",
    "\n",
    "    seed = extract_numbers(filename)\n",
    "    # Convert the list of numbers to a string\n",
    "    seed_str = '_'.join(seed)\n",
    "\n",
    "    # Add the extracted numbers to the first column entries\n",
    "    if not df.empty and seed_str:\n",
    "        # Ensure the first column is treated as a string\n",
    "        df.iloc[:, 0] = seed_str + df.iloc[:, 0].astype(str)\n",
    "\n",
    "    dataframes.append(df)\n",
    "\n",
    "performance_all = pd.concat(dataframes, ignore_index=True)\n",
    "performance_all"
   ],
   "metadata": {
    "collapsed": false,
    "ExecuteTime": {
     "start_time": "2024-05-28T09:47:40.845443Z",
     "end_time": "2024-05-28T09:47:40.882653Z"
    }
   }
  },
  {
   "cell_type": "markdown",
   "source": [
    "### Evaluate full dataframes - to see if any inconsistencies occur\n",
    "Hypothesis: String based annotation performs significantly better.\n",
    "Could in itself be a limitation of the testing possibilities. Limits the evaluation metrics that can be used."
   ],
   "metadata": {
    "collapsed": false
   }
  },
  {
   "cell_type": "code",
   "execution_count": 22,
   "outputs": [
    {
     "data": {
      "text/plain": "     unique_id                                 text  relevance_0_x  \\\n0            0           Thank you, Mr. President .              1   \n1            0           Thank you, Mr. President .              1   \n2            0           Thank you, Mr. President .              1   \n3            0           Thank you, Mr. President .              1   \n4            0           Thank you, Mr. President .              1   \n..         ...                                  ...            ...   \n185         36   Thank you for your kind attention.              1   \n186         36   Thank you for your kind attention.              1   \n187         36   Thank you for your kind attention.              1   \n188         36   Thank you for your kind attention.              1   \n189         36   Thank you for your kind attention.              1   \n\n     relevance_1_x  relevance_2_x                                 llm_query  \\\n0                0              0           0  Thank you, Mr. President .\\n   \n1                0              0           0  Thank you, Mr. President .\\n   \n2                0              0           0  Thank you, Mr. President .\\n   \n3                0              0           0  Thank you, Mr. President .\\n   \n4                0              0           0  Thank you, Mr. President .\\n   \n..             ...            ...                                       ...   \n185              0              0  36  Thank you for your kind attention.\\n   \n186              0              0  36  Thank you for your kind attention.\\n   \n187              0              0  36  Thank you for your kind attention.\\n   \n188              0              0  36  Thank you for your kind attention.\\n   \n189              0              0  36  Thank you for your kind attention.\\n   \n\n     relevance_0_y  relevance_1_y  relevance_2_y  iteration  \n0                1              0              0          1  \n1                1              0              0          2  \n2                1              0              0          3  \n3                1              0              0          4  \n4                1              0              0          5  \n..             ...            ...            ...        ...  \n185              1              0              0          1  \n186              1              0              0          2  \n187              1              0              0          3  \n188              1              0              0          4  \n189              1              0              0          5  \n\n[190 rows x 10 columns]",
      "text/html": "<div>\n<style scoped>\n    .dataframe tbody tr th:only-of-type {\n        vertical-align: middle;\n    }\n\n    .dataframe tbody tr th {\n        vertical-align: top;\n    }\n\n    .dataframe thead th {\n        text-align: right;\n    }\n</style>\n<table border=\"1\" class=\"dataframe\">\n  <thead>\n    <tr style=\"text-align: right;\">\n      <th></th>\n      <th>unique_id</th>\n      <th>text</th>\n      <th>relevance_0_x</th>\n      <th>relevance_1_x</th>\n      <th>relevance_2_x</th>\n      <th>llm_query</th>\n      <th>relevance_0_y</th>\n      <th>relevance_1_y</th>\n      <th>relevance_2_y</th>\n      <th>iteration</th>\n    </tr>\n  </thead>\n  <tbody>\n    <tr>\n      <th>0</th>\n      <td>0</td>\n      <td>Thank you, Mr. President .</td>\n      <td>1</td>\n      <td>0</td>\n      <td>0</td>\n      <td>0  Thank you, Mr. President .\\n</td>\n      <td>1</td>\n      <td>0</td>\n      <td>0</td>\n      <td>1</td>\n    </tr>\n    <tr>\n      <th>1</th>\n      <td>0</td>\n      <td>Thank you, Mr. President .</td>\n      <td>1</td>\n      <td>0</td>\n      <td>0</td>\n      <td>0  Thank you, Mr. President .\\n</td>\n      <td>1</td>\n      <td>0</td>\n      <td>0</td>\n      <td>2</td>\n    </tr>\n    <tr>\n      <th>2</th>\n      <td>0</td>\n      <td>Thank you, Mr. President .</td>\n      <td>1</td>\n      <td>0</td>\n      <td>0</td>\n      <td>0  Thank you, Mr. President .\\n</td>\n      <td>1</td>\n      <td>0</td>\n      <td>0</td>\n      <td>3</td>\n    </tr>\n    <tr>\n      <th>3</th>\n      <td>0</td>\n      <td>Thank you, Mr. President .</td>\n      <td>1</td>\n      <td>0</td>\n      <td>0</td>\n      <td>0  Thank you, Mr. President .\\n</td>\n      <td>1</td>\n      <td>0</td>\n      <td>0</td>\n      <td>4</td>\n    </tr>\n    <tr>\n      <th>4</th>\n      <td>0</td>\n      <td>Thank you, Mr. President .</td>\n      <td>1</td>\n      <td>0</td>\n      <td>0</td>\n      <td>0  Thank you, Mr. President .\\n</td>\n      <td>1</td>\n      <td>0</td>\n      <td>0</td>\n      <td>5</td>\n    </tr>\n    <tr>\n      <th>...</th>\n      <td>...</td>\n      <td>...</td>\n      <td>...</td>\n      <td>...</td>\n      <td>...</td>\n      <td>...</td>\n      <td>...</td>\n      <td>...</td>\n      <td>...</td>\n      <td>...</td>\n    </tr>\n    <tr>\n      <th>185</th>\n      <td>36</td>\n      <td>Thank you for your kind attention.</td>\n      <td>1</td>\n      <td>0</td>\n      <td>0</td>\n      <td>36  Thank you for your kind attention.\\n</td>\n      <td>1</td>\n      <td>0</td>\n      <td>0</td>\n      <td>1</td>\n    </tr>\n    <tr>\n      <th>186</th>\n      <td>36</td>\n      <td>Thank you for your kind attention.</td>\n      <td>1</td>\n      <td>0</td>\n      <td>0</td>\n      <td>36  Thank you for your kind attention.\\n</td>\n      <td>1</td>\n      <td>0</td>\n      <td>0</td>\n      <td>2</td>\n    </tr>\n    <tr>\n      <th>187</th>\n      <td>36</td>\n      <td>Thank you for your kind attention.</td>\n      <td>1</td>\n      <td>0</td>\n      <td>0</td>\n      <td>36  Thank you for your kind attention.\\n</td>\n      <td>1</td>\n      <td>0</td>\n      <td>0</td>\n      <td>3</td>\n    </tr>\n    <tr>\n      <th>188</th>\n      <td>36</td>\n      <td>Thank you for your kind attention.</td>\n      <td>1</td>\n      <td>0</td>\n      <td>0</td>\n      <td>36  Thank you for your kind attention.\\n</td>\n      <td>1</td>\n      <td>0</td>\n      <td>0</td>\n      <td>4</td>\n    </tr>\n    <tr>\n      <th>189</th>\n      <td>36</td>\n      <td>Thank you for your kind attention.</td>\n      <td>1</td>\n      <td>0</td>\n      <td>0</td>\n      <td>36  Thank you for your kind attention.\\n</td>\n      <td>1</td>\n      <td>0</td>\n      <td>0</td>\n      <td>5</td>\n    </tr>\n  </tbody>\n</table>\n<p>190 rows × 10 columns</p>\n</div>"
     },
     "execution_count": 22,
     "metadata": {},
     "output_type": "execute_result"
    }
   ],
   "source": [
    "result_all = pd.read_csv('NUM_RESULT/A1.0/all_iterations_num/all_iterations_num_280.csv')\n",
    "\n",
    "result_all"
   ],
   "metadata": {
    "collapsed": false,
    "ExecuteTime": {
     "start_time": "2024-05-27T15:58:29.630898Z",
     "end_time": "2024-05-27T15:58:29.726962Z"
    }
   }
  },
  {
   "cell_type": "markdown",
   "source": [
    "Observations: Answers are consistent - no switching of label after evaluation. (for temperature 0). However, sentence 20 is included twice.\n",
    "\n",
    "Accuracy really is a lot worse. Not a single relevant sentence is labelled correctly.\n",
    "However, does show that precision is 0 and apparently for all seeds."
   ],
   "metadata": {
    "collapsed": false
   }
  },
  {
   "cell_type": "code",
   "execution_count": null,
   "outputs": [],
   "source": [],
   "metadata": {
    "collapsed": false
   }
  }
 ],
 "metadata": {
  "kernelspec": {
   "display_name": "Python 3",
   "language": "python",
   "name": "python3"
  },
  "language_info": {
   "codemirror_mode": {
    "name": "ipython",
    "version": 2
   },
   "file_extension": ".py",
   "mimetype": "text/x-python",
   "name": "python",
   "nbconvert_exporter": "python",
   "pygments_lexer": "ipython2",
   "version": "2.7.6"
  }
 },
 "nbformat": 4,
 "nbformat_minor": 0
}
