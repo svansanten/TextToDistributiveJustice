{
 "cells": [
  {
   "cell_type": "code",
   "execution_count": 75,
   "outputs": [],
   "source": [
    "import numpy as np\n",
    "import pandas as pd\n",
    "import os\n",
    "import re\n",
    "import matplotlib.pyplot as plt\n",
    "import seaborn as sns\n",
    "import difflib\n",
    "from collections import Counter\n",
    "from sklearn.metrics import ConfusionMatrixDisplay, confusion_matrix, classification_report"
   ],
   "metadata": {
    "collapsed": false,
    "ExecuteTime": {
     "start_time": "2024-06-07T11:07:05.873855Z",
     "end_time": "2024-06-07T11:07:05.973787Z"
    }
   }
  },
  {
   "cell_type": "markdown",
   "source": [
    "# 1. Results B1.0"
   ],
   "metadata": {
    "collapsed": false
   }
  },
  {
   "cell_type": "markdown",
   "source": [
    "### 1. Import Results\n",
    "Results created under the same fingerprint are saved in a CSV file for each seed. All results are combined into one dataset."
   ],
   "metadata": {
    "collapsed": false
   }
  },
  {
   "cell_type": "code",
   "execution_count": 77,
   "outputs": [
    {
     "ename": "FileNotFoundError",
     "evalue": "[Errno 2] No such file or directory: 'STRING_RESULT/B1.0/all_iterations_T0/all_iterations_string_T0_3644.csv'",
     "output_type": "error",
     "traceback": [
      "\u001B[1;31m---------------------------------------------------------------------------\u001B[0m",
      "\u001B[1;31mFileNotFoundError\u001B[0m                         Traceback (most recent call last)",
      "Cell \u001B[1;32mIn[77], line 5\u001B[0m\n\u001B[0;32m      2\u001B[0m path_B1 \u001B[38;5;241m=\u001B[39m \u001B[38;5;124m'\u001B[39m\u001B[38;5;124mSTRING_RESULT/B1.0/all_iterations_T0\u001B[39m\u001B[38;5;124m'\u001B[39m\n\u001B[0;32m      4\u001B[0m \u001B[38;5;66;03m# Open all dataframes\u001B[39;00m\n\u001B[1;32m----> 5\u001B[0m S1 \u001B[38;5;241m=\u001B[39m \u001B[43mpd\u001B[49m\u001B[38;5;241;43m.\u001B[39;49m\u001B[43mread_csv\u001B[49m\u001B[43m(\u001B[49m\u001B[38;5;124;43mf\u001B[39;49m\u001B[38;5;124;43m'\u001B[39;49m\u001B[38;5;132;43;01m{\u001B[39;49;00m\u001B[43mpath_B1\u001B[49m\u001B[38;5;132;43;01m}\u001B[39;49;00m\u001B[38;5;124;43m/all_iterations_string_T0_3644.csv\u001B[39;49m\u001B[38;5;124;43m'\u001B[39;49m\u001B[43m)\u001B[49m\n\u001B[0;32m      6\u001B[0m S2 \u001B[38;5;241m=\u001B[39m pd\u001B[38;5;241m.\u001B[39mread_csv(\u001B[38;5;124mf\u001B[39m\u001B[38;5;124m'\u001B[39m\u001B[38;5;132;01m{\u001B[39;00mpath_B1\u001B[38;5;132;01m}\u001B[39;00m\u001B[38;5;124m/all_iterations_string_T0_3441.csv\u001B[39m\u001B[38;5;124m'\u001B[39m)\n\u001B[0;32m      7\u001B[0m S3 \u001B[38;5;241m=\u001B[39m pd\u001B[38;5;241m.\u001B[39mread_csv(\u001B[38;5;124mf\u001B[39m\u001B[38;5;124m'\u001B[39m\u001B[38;5;132;01m{\u001B[39;00mpath_B1\u001B[38;5;132;01m}\u001B[39;00m\u001B[38;5;124m/all_iterations_string_T0_280.csv\u001B[39m\u001B[38;5;124m'\u001B[39m)\n",
      "File \u001B[1;32mC:\\App\\Python\\Lib\\site-packages\\pandas\\util\\_decorators.py:211\u001B[0m, in \u001B[0;36mdeprecate_kwarg.<locals>._deprecate_kwarg.<locals>.wrapper\u001B[1;34m(*args, **kwargs)\u001B[0m\n\u001B[0;32m    209\u001B[0m     \u001B[38;5;28;01melse\u001B[39;00m:\n\u001B[0;32m    210\u001B[0m         kwargs[new_arg_name] \u001B[38;5;241m=\u001B[39m new_arg_value\n\u001B[1;32m--> 211\u001B[0m \u001B[38;5;28;01mreturn\u001B[39;00m \u001B[43mfunc\u001B[49m\u001B[43m(\u001B[49m\u001B[38;5;241;43m*\u001B[39;49m\u001B[43margs\u001B[49m\u001B[43m,\u001B[49m\u001B[43m \u001B[49m\u001B[38;5;241;43m*\u001B[39;49m\u001B[38;5;241;43m*\u001B[39;49m\u001B[43mkwargs\u001B[49m\u001B[43m)\u001B[49m\n",
      "File \u001B[1;32mC:\\App\\Python\\Lib\\site-packages\\pandas\\util\\_decorators.py:331\u001B[0m, in \u001B[0;36mdeprecate_nonkeyword_arguments.<locals>.decorate.<locals>.wrapper\u001B[1;34m(*args, **kwargs)\u001B[0m\n\u001B[0;32m    325\u001B[0m \u001B[38;5;28;01mif\u001B[39;00m \u001B[38;5;28mlen\u001B[39m(args) \u001B[38;5;241m>\u001B[39m num_allow_args:\n\u001B[0;32m    326\u001B[0m     warnings\u001B[38;5;241m.\u001B[39mwarn(\n\u001B[0;32m    327\u001B[0m         msg\u001B[38;5;241m.\u001B[39mformat(arguments\u001B[38;5;241m=\u001B[39m_format_argument_list(allow_args)),\n\u001B[0;32m    328\u001B[0m         \u001B[38;5;167;01mFutureWarning\u001B[39;00m,\n\u001B[0;32m    329\u001B[0m         stacklevel\u001B[38;5;241m=\u001B[39mfind_stack_level(),\n\u001B[0;32m    330\u001B[0m     )\n\u001B[1;32m--> 331\u001B[0m \u001B[38;5;28;01mreturn\u001B[39;00m \u001B[43mfunc\u001B[49m\u001B[43m(\u001B[49m\u001B[38;5;241;43m*\u001B[39;49m\u001B[43margs\u001B[49m\u001B[43m,\u001B[49m\u001B[43m \u001B[49m\u001B[38;5;241;43m*\u001B[39;49m\u001B[38;5;241;43m*\u001B[39;49m\u001B[43mkwargs\u001B[49m\u001B[43m)\u001B[49m\n",
      "File \u001B[1;32mC:\\App\\Python\\Lib\\site-packages\\pandas\\io\\parsers\\readers.py:950\u001B[0m, in \u001B[0;36mread_csv\u001B[1;34m(filepath_or_buffer, sep, delimiter, header, names, index_col, usecols, squeeze, prefix, mangle_dupe_cols, dtype, engine, converters, true_values, false_values, skipinitialspace, skiprows, skipfooter, nrows, na_values, keep_default_na, na_filter, verbose, skip_blank_lines, parse_dates, infer_datetime_format, keep_date_col, date_parser, dayfirst, cache_dates, iterator, chunksize, compression, thousands, decimal, lineterminator, quotechar, quoting, doublequote, escapechar, comment, encoding, encoding_errors, dialect, error_bad_lines, warn_bad_lines, on_bad_lines, delim_whitespace, low_memory, memory_map, float_precision, storage_options)\u001B[0m\n\u001B[0;32m    935\u001B[0m kwds_defaults \u001B[38;5;241m=\u001B[39m _refine_defaults_read(\n\u001B[0;32m    936\u001B[0m     dialect,\n\u001B[0;32m    937\u001B[0m     delimiter,\n\u001B[1;32m   (...)\u001B[0m\n\u001B[0;32m    946\u001B[0m     defaults\u001B[38;5;241m=\u001B[39m{\u001B[38;5;124m\"\u001B[39m\u001B[38;5;124mdelimiter\u001B[39m\u001B[38;5;124m\"\u001B[39m: \u001B[38;5;124m\"\u001B[39m\u001B[38;5;124m,\u001B[39m\u001B[38;5;124m\"\u001B[39m},\n\u001B[0;32m    947\u001B[0m )\n\u001B[0;32m    948\u001B[0m kwds\u001B[38;5;241m.\u001B[39mupdate(kwds_defaults)\n\u001B[1;32m--> 950\u001B[0m \u001B[38;5;28;01mreturn\u001B[39;00m \u001B[43m_read\u001B[49m\u001B[43m(\u001B[49m\u001B[43mfilepath_or_buffer\u001B[49m\u001B[43m,\u001B[49m\u001B[43m \u001B[49m\u001B[43mkwds\u001B[49m\u001B[43m)\u001B[49m\n",
      "File \u001B[1;32mC:\\App\\Python\\Lib\\site-packages\\pandas\\io\\parsers\\readers.py:605\u001B[0m, in \u001B[0;36m_read\u001B[1;34m(filepath_or_buffer, kwds)\u001B[0m\n\u001B[0;32m    602\u001B[0m _validate_names(kwds\u001B[38;5;241m.\u001B[39mget(\u001B[38;5;124m\"\u001B[39m\u001B[38;5;124mnames\u001B[39m\u001B[38;5;124m\"\u001B[39m, \u001B[38;5;28;01mNone\u001B[39;00m))\n\u001B[0;32m    604\u001B[0m \u001B[38;5;66;03m# Create the parser.\u001B[39;00m\n\u001B[1;32m--> 605\u001B[0m parser \u001B[38;5;241m=\u001B[39m \u001B[43mTextFileReader\u001B[49m\u001B[43m(\u001B[49m\u001B[43mfilepath_or_buffer\u001B[49m\u001B[43m,\u001B[49m\u001B[43m \u001B[49m\u001B[38;5;241;43m*\u001B[39;49m\u001B[38;5;241;43m*\u001B[39;49m\u001B[43mkwds\u001B[49m\u001B[43m)\u001B[49m\n\u001B[0;32m    607\u001B[0m \u001B[38;5;28;01mif\u001B[39;00m chunksize \u001B[38;5;129;01mor\u001B[39;00m iterator:\n\u001B[0;32m    608\u001B[0m     \u001B[38;5;28;01mreturn\u001B[39;00m parser\n",
      "File \u001B[1;32mC:\\App\\Python\\Lib\\site-packages\\pandas\\io\\parsers\\readers.py:1442\u001B[0m, in \u001B[0;36mTextFileReader.__init__\u001B[1;34m(self, f, engine, **kwds)\u001B[0m\n\u001B[0;32m   1439\u001B[0m     \u001B[38;5;28mself\u001B[39m\u001B[38;5;241m.\u001B[39moptions[\u001B[38;5;124m\"\u001B[39m\u001B[38;5;124mhas_index_names\u001B[39m\u001B[38;5;124m\"\u001B[39m] \u001B[38;5;241m=\u001B[39m kwds[\u001B[38;5;124m\"\u001B[39m\u001B[38;5;124mhas_index_names\u001B[39m\u001B[38;5;124m\"\u001B[39m]\n\u001B[0;32m   1441\u001B[0m \u001B[38;5;28mself\u001B[39m\u001B[38;5;241m.\u001B[39mhandles: IOHandles \u001B[38;5;241m|\u001B[39m \u001B[38;5;28;01mNone\u001B[39;00m \u001B[38;5;241m=\u001B[39m \u001B[38;5;28;01mNone\u001B[39;00m\n\u001B[1;32m-> 1442\u001B[0m \u001B[38;5;28mself\u001B[39m\u001B[38;5;241m.\u001B[39m_engine \u001B[38;5;241m=\u001B[39m \u001B[38;5;28;43mself\u001B[39;49m\u001B[38;5;241;43m.\u001B[39;49m\u001B[43m_make_engine\u001B[49m\u001B[43m(\u001B[49m\u001B[43mf\u001B[49m\u001B[43m,\u001B[49m\u001B[43m \u001B[49m\u001B[38;5;28;43mself\u001B[39;49m\u001B[38;5;241;43m.\u001B[39;49m\u001B[43mengine\u001B[49m\u001B[43m)\u001B[49m\n",
      "File \u001B[1;32mC:\\App\\Python\\Lib\\site-packages\\pandas\\io\\parsers\\readers.py:1735\u001B[0m, in \u001B[0;36mTextFileReader._make_engine\u001B[1;34m(self, f, engine)\u001B[0m\n\u001B[0;32m   1733\u001B[0m     \u001B[38;5;28;01mif\u001B[39;00m \u001B[38;5;124m\"\u001B[39m\u001B[38;5;124mb\u001B[39m\u001B[38;5;124m\"\u001B[39m \u001B[38;5;129;01mnot\u001B[39;00m \u001B[38;5;129;01min\u001B[39;00m mode:\n\u001B[0;32m   1734\u001B[0m         mode \u001B[38;5;241m+\u001B[39m\u001B[38;5;241m=\u001B[39m \u001B[38;5;124m\"\u001B[39m\u001B[38;5;124mb\u001B[39m\u001B[38;5;124m\"\u001B[39m\n\u001B[1;32m-> 1735\u001B[0m \u001B[38;5;28mself\u001B[39m\u001B[38;5;241m.\u001B[39mhandles \u001B[38;5;241m=\u001B[39m \u001B[43mget_handle\u001B[49m\u001B[43m(\u001B[49m\n\u001B[0;32m   1736\u001B[0m \u001B[43m    \u001B[49m\u001B[43mf\u001B[49m\u001B[43m,\u001B[49m\n\u001B[0;32m   1737\u001B[0m \u001B[43m    \u001B[49m\u001B[43mmode\u001B[49m\u001B[43m,\u001B[49m\n\u001B[0;32m   1738\u001B[0m \u001B[43m    \u001B[49m\u001B[43mencoding\u001B[49m\u001B[38;5;241;43m=\u001B[39;49m\u001B[38;5;28;43mself\u001B[39;49m\u001B[38;5;241;43m.\u001B[39;49m\u001B[43moptions\u001B[49m\u001B[38;5;241;43m.\u001B[39;49m\u001B[43mget\u001B[49m\u001B[43m(\u001B[49m\u001B[38;5;124;43m\"\u001B[39;49m\u001B[38;5;124;43mencoding\u001B[39;49m\u001B[38;5;124;43m\"\u001B[39;49m\u001B[43m,\u001B[49m\u001B[43m \u001B[49m\u001B[38;5;28;43;01mNone\u001B[39;49;00m\u001B[43m)\u001B[49m\u001B[43m,\u001B[49m\n\u001B[0;32m   1739\u001B[0m \u001B[43m    \u001B[49m\u001B[43mcompression\u001B[49m\u001B[38;5;241;43m=\u001B[39;49m\u001B[38;5;28;43mself\u001B[39;49m\u001B[38;5;241;43m.\u001B[39;49m\u001B[43moptions\u001B[49m\u001B[38;5;241;43m.\u001B[39;49m\u001B[43mget\u001B[49m\u001B[43m(\u001B[49m\u001B[38;5;124;43m\"\u001B[39;49m\u001B[38;5;124;43mcompression\u001B[39;49m\u001B[38;5;124;43m\"\u001B[39;49m\u001B[43m,\u001B[49m\u001B[43m \u001B[49m\u001B[38;5;28;43;01mNone\u001B[39;49;00m\u001B[43m)\u001B[49m\u001B[43m,\u001B[49m\n\u001B[0;32m   1740\u001B[0m \u001B[43m    \u001B[49m\u001B[43mmemory_map\u001B[49m\u001B[38;5;241;43m=\u001B[39;49m\u001B[38;5;28;43mself\u001B[39;49m\u001B[38;5;241;43m.\u001B[39;49m\u001B[43moptions\u001B[49m\u001B[38;5;241;43m.\u001B[39;49m\u001B[43mget\u001B[49m\u001B[43m(\u001B[49m\u001B[38;5;124;43m\"\u001B[39;49m\u001B[38;5;124;43mmemory_map\u001B[39;49m\u001B[38;5;124;43m\"\u001B[39;49m\u001B[43m,\u001B[49m\u001B[43m \u001B[49m\u001B[38;5;28;43;01mFalse\u001B[39;49;00m\u001B[43m)\u001B[49m\u001B[43m,\u001B[49m\n\u001B[0;32m   1741\u001B[0m \u001B[43m    \u001B[49m\u001B[43mis_text\u001B[49m\u001B[38;5;241;43m=\u001B[39;49m\u001B[43mis_text\u001B[49m\u001B[43m,\u001B[49m\n\u001B[0;32m   1742\u001B[0m \u001B[43m    \u001B[49m\u001B[43merrors\u001B[49m\u001B[38;5;241;43m=\u001B[39;49m\u001B[38;5;28;43mself\u001B[39;49m\u001B[38;5;241;43m.\u001B[39;49m\u001B[43moptions\u001B[49m\u001B[38;5;241;43m.\u001B[39;49m\u001B[43mget\u001B[49m\u001B[43m(\u001B[49m\u001B[38;5;124;43m\"\u001B[39;49m\u001B[38;5;124;43mencoding_errors\u001B[39;49m\u001B[38;5;124;43m\"\u001B[39;49m\u001B[43m,\u001B[49m\u001B[43m \u001B[49m\u001B[38;5;124;43m\"\u001B[39;49m\u001B[38;5;124;43mstrict\u001B[39;49m\u001B[38;5;124;43m\"\u001B[39;49m\u001B[43m)\u001B[49m\u001B[43m,\u001B[49m\n\u001B[0;32m   1743\u001B[0m \u001B[43m    \u001B[49m\u001B[43mstorage_options\u001B[49m\u001B[38;5;241;43m=\u001B[39;49m\u001B[38;5;28;43mself\u001B[39;49m\u001B[38;5;241;43m.\u001B[39;49m\u001B[43moptions\u001B[49m\u001B[38;5;241;43m.\u001B[39;49m\u001B[43mget\u001B[49m\u001B[43m(\u001B[49m\u001B[38;5;124;43m\"\u001B[39;49m\u001B[38;5;124;43mstorage_options\u001B[39;49m\u001B[38;5;124;43m\"\u001B[39;49m\u001B[43m,\u001B[49m\u001B[43m \u001B[49m\u001B[38;5;28;43;01mNone\u001B[39;49;00m\u001B[43m)\u001B[49m\u001B[43m,\u001B[49m\n\u001B[0;32m   1744\u001B[0m \u001B[43m\u001B[49m\u001B[43m)\u001B[49m\n\u001B[0;32m   1745\u001B[0m \u001B[38;5;28;01massert\u001B[39;00m \u001B[38;5;28mself\u001B[39m\u001B[38;5;241m.\u001B[39mhandles \u001B[38;5;129;01mis\u001B[39;00m \u001B[38;5;129;01mnot\u001B[39;00m \u001B[38;5;28;01mNone\u001B[39;00m\n\u001B[0;32m   1746\u001B[0m f \u001B[38;5;241m=\u001B[39m \u001B[38;5;28mself\u001B[39m\u001B[38;5;241m.\u001B[39mhandles\u001B[38;5;241m.\u001B[39mhandle\n",
      "File \u001B[1;32mC:\\App\\Python\\Lib\\site-packages\\pandas\\io\\common.py:856\u001B[0m, in \u001B[0;36mget_handle\u001B[1;34m(path_or_buf, mode, encoding, compression, memory_map, is_text, errors, storage_options)\u001B[0m\n\u001B[0;32m    851\u001B[0m \u001B[38;5;28;01melif\u001B[39;00m \u001B[38;5;28misinstance\u001B[39m(handle, \u001B[38;5;28mstr\u001B[39m):\n\u001B[0;32m    852\u001B[0m     \u001B[38;5;66;03m# Check whether the filename is to be opened in binary mode.\u001B[39;00m\n\u001B[0;32m    853\u001B[0m     \u001B[38;5;66;03m# Binary mode does not support 'encoding' and 'newline'.\u001B[39;00m\n\u001B[0;32m    854\u001B[0m     \u001B[38;5;28;01mif\u001B[39;00m ioargs\u001B[38;5;241m.\u001B[39mencoding \u001B[38;5;129;01mand\u001B[39;00m \u001B[38;5;124m\"\u001B[39m\u001B[38;5;124mb\u001B[39m\u001B[38;5;124m\"\u001B[39m \u001B[38;5;129;01mnot\u001B[39;00m \u001B[38;5;129;01min\u001B[39;00m ioargs\u001B[38;5;241m.\u001B[39mmode:\n\u001B[0;32m    855\u001B[0m         \u001B[38;5;66;03m# Encoding\u001B[39;00m\n\u001B[1;32m--> 856\u001B[0m         handle \u001B[38;5;241m=\u001B[39m \u001B[38;5;28mopen\u001B[39m(\n\u001B[0;32m    857\u001B[0m             handle,\n\u001B[0;32m    858\u001B[0m             ioargs\u001B[38;5;241m.\u001B[39mmode,\n\u001B[0;32m    859\u001B[0m             encoding\u001B[38;5;241m=\u001B[39mioargs\u001B[38;5;241m.\u001B[39mencoding,\n\u001B[0;32m    860\u001B[0m             errors\u001B[38;5;241m=\u001B[39merrors,\n\u001B[0;32m    861\u001B[0m             newline\u001B[38;5;241m=\u001B[39m\u001B[38;5;124m\"\u001B[39m\u001B[38;5;124m\"\u001B[39m,\n\u001B[0;32m    862\u001B[0m         )\n\u001B[0;32m    863\u001B[0m     \u001B[38;5;28;01melse\u001B[39;00m:\n\u001B[0;32m    864\u001B[0m         \u001B[38;5;66;03m# Binary mode\u001B[39;00m\n\u001B[0;32m    865\u001B[0m         handle \u001B[38;5;241m=\u001B[39m \u001B[38;5;28mopen\u001B[39m(handle, ioargs\u001B[38;5;241m.\u001B[39mmode)\n",
      "\u001B[1;31mFileNotFoundError\u001B[0m: [Errno 2] No such file or directory: 'STRING_RESULT/B1.0/all_iterations_T0/all_iterations_string_T0_3644.csv'"
     ]
    }
   ],
   "source": [
    "#B1.0\n",
    "path_B1 = 'STRING_RESULT/B1.0/all_iterations_T0I1'\n",
    "\n",
    "# Open all dataframes\n",
    "S1 = pd.read_csv(f'{path_B1}/all_iterations_string_T0_3644.csv')\n",
    "S2 = pd.read_csv(f'{path_B1}/all_iterations_string_T0_3441.csv')\n",
    "S3 = pd.read_csv(f'{path_B1}/all_iterations_string_T0_280.csv')\n",
    "S4 = pd.read_csv(f'{path_B1}/all_iterations_string_T0_5991.csv')\n",
    "S5 = pd.read_csv(f'{path_B1}/all_iterations_string_T0_7917.csv')\n"
   ],
   "metadata": {
    "collapsed": false,
    "ExecuteTime": {
     "start_time": "2024-06-06T10:54:30.524590Z",
     "end_time": "2024-06-06T10:54:30.639693Z"
    }
   }
  },
  {
   "cell_type": "code",
   "execution_count": 9,
   "outputs": [
    {
     "data": {
      "text/plain": "      unique_id                                               text  \\\n0             0                         Thank you, Mr. President .   \n1             1   On beha lf of the government of Japan , I wou...   \n2             2   I would also like to expr ess my d eepest con...   \n3             3   Mr. President:  A fair and effective framewor...   \n4             4   In this regard, Japan firmly supports the est...   \n...         ...                                                ...   \n5815       1207   New Zealand is proud to suppor t several impo...   \n5816       1208  I am joined by New Zealand’s largest business,...   \n5817       1209  The commitment o f New Zealanders from across ...   \n5818       1210                            Thank you Mr President.   \n5819       1211                                          Kia Kaha    \n\n              RELEVANCE_x                                          llm_query  \\\n0            Not relevant                    0  Thank you, Mr. President .\\n   \n1            Not relevant  1  On beha lf of the government of Japan , I w...   \n2            Not relevant  2  I would also like to expr ess my d eepest c...   \n3                Relevant  3  Mr. President:  A fair and effective framew...   \n4     Statement of intent  4  In this regard, Japan firmly supports the e...   \n...                   ...                                                ...   \n5815         Not relevant  1207  New Zealand is proud to suppor t several...   \n5816         Not relevant  1208 I am joined by New Zealand’s largest busi...   \n5817         Not relevant  1209 The commitment o f New Zealanders from ac...   \n5818         Not relevant                    1210  Thank you Mr President.\\n   \n5819         Not relevant                                   1211 Kia Kaha \\n   \n\n              RELEVANCE_y  iteration  \n0            Not relevant          1  \n1            Not relevant          1  \n2            Not relevant          1  \n3                Relevant          1  \n4     Statement of intent          1  \n...                   ...        ...  \n5815         Not relevant          1  \n5816         Not relevant          1  \n5817         Not relevant          1  \n5818         Not relevant          1  \n5819         Not relevant          1  \n\n[5820 rows x 6 columns]",
      "text/html": "<div>\n<style scoped>\n    .dataframe tbody tr th:only-of-type {\n        vertical-align: middle;\n    }\n\n    .dataframe tbody tr th {\n        vertical-align: top;\n    }\n\n    .dataframe thead th {\n        text-align: right;\n    }\n</style>\n<table border=\"1\" class=\"dataframe\">\n  <thead>\n    <tr style=\"text-align: right;\">\n      <th></th>\n      <th>unique_id</th>\n      <th>text</th>\n      <th>RELEVANCE_x</th>\n      <th>llm_query</th>\n      <th>RELEVANCE_y</th>\n      <th>iteration</th>\n    </tr>\n  </thead>\n  <tbody>\n    <tr>\n      <th>0</th>\n      <td>0</td>\n      <td>Thank you, Mr. President .</td>\n      <td>Not relevant</td>\n      <td>0  Thank you, Mr. President .\\n</td>\n      <td>Not relevant</td>\n      <td>1</td>\n    </tr>\n    <tr>\n      <th>1</th>\n      <td>1</td>\n      <td>On beha lf of the government of Japan , I wou...</td>\n      <td>Not relevant</td>\n      <td>1  On beha lf of the government of Japan , I w...</td>\n      <td>Not relevant</td>\n      <td>1</td>\n    </tr>\n    <tr>\n      <th>2</th>\n      <td>2</td>\n      <td>I would also like to expr ess my d eepest con...</td>\n      <td>Not relevant</td>\n      <td>2  I would also like to expr ess my d eepest c...</td>\n      <td>Not relevant</td>\n      <td>1</td>\n    </tr>\n    <tr>\n      <th>3</th>\n      <td>3</td>\n      <td>Mr. President:  A fair and effective framewor...</td>\n      <td>Relevant</td>\n      <td>3  Mr. President:  A fair and effective framew...</td>\n      <td>Relevant</td>\n      <td>1</td>\n    </tr>\n    <tr>\n      <th>4</th>\n      <td>4</td>\n      <td>In this regard, Japan firmly supports the est...</td>\n      <td>Statement of intent</td>\n      <td>4  In this regard, Japan firmly supports the e...</td>\n      <td>Statement of intent</td>\n      <td>1</td>\n    </tr>\n    <tr>\n      <th>...</th>\n      <td>...</td>\n      <td>...</td>\n      <td>...</td>\n      <td>...</td>\n      <td>...</td>\n      <td>...</td>\n    </tr>\n    <tr>\n      <th>5815</th>\n      <td>1207</td>\n      <td>New Zealand is proud to suppor t several impo...</td>\n      <td>Not relevant</td>\n      <td>1207  New Zealand is proud to suppor t several...</td>\n      <td>Not relevant</td>\n      <td>1</td>\n    </tr>\n    <tr>\n      <th>5816</th>\n      <td>1208</td>\n      <td>I am joined by New Zealand’s largest business,...</td>\n      <td>Not relevant</td>\n      <td>1208 I am joined by New Zealand’s largest busi...</td>\n      <td>Not relevant</td>\n      <td>1</td>\n    </tr>\n    <tr>\n      <th>5817</th>\n      <td>1209</td>\n      <td>The commitment o f New Zealanders from across ...</td>\n      <td>Not relevant</td>\n      <td>1209 The commitment o f New Zealanders from ac...</td>\n      <td>Not relevant</td>\n      <td>1</td>\n    </tr>\n    <tr>\n      <th>5818</th>\n      <td>1210</td>\n      <td>Thank you Mr President.</td>\n      <td>Not relevant</td>\n      <td>1210  Thank you Mr President.\\n</td>\n      <td>Not relevant</td>\n      <td>1</td>\n    </tr>\n    <tr>\n      <th>5819</th>\n      <td>1211</td>\n      <td>Kia Kaha</td>\n      <td>Not relevant</td>\n      <td>1211 Kia Kaha \\n</td>\n      <td>Not relevant</td>\n      <td>1</td>\n    </tr>\n  </tbody>\n</table>\n<p>5820 rows × 6 columns</p>\n</div>"
     },
     "execution_count": 9,
     "metadata": {},
     "output_type": "execute_result"
    }
   ],
   "source": [
    "# Combine all dataframes into one\n",
    "B1_full = pd.concat([S1, S2, S3, S4, S5], ignore_index=True)"
   ],
   "metadata": {
    "collapsed": false,
    "ExecuteTime": {
     "start_time": "2024-06-06T10:54:30.607773Z",
     "end_time": "2024-06-06T10:54:30.639693Z"
    }
   }
  },
  {
   "cell_type": "code",
   "execution_count": 37,
   "outputs": [
    {
     "data": {
      "text/plain": "(4860, 6)"
     },
     "execution_count": 37,
     "metadata": {},
     "output_type": "execute_result"
    }
   ],
   "source": [
    "# Filter rows to keep only those where the unique_id appears exactly 5 times\n",
    "filtered_B1 = B1_full.groupby('unique_id').filter(lambda x: len(x) == 5)\n",
    "filtered_B1.shape"
   ],
   "metadata": {
    "collapsed": false,
    "ExecuteTime": {
     "start_time": "2024-06-06T11:47:40.788444Z",
     "end_time": "2024-06-06T11:47:40.862559Z"
    }
   }
  },
  {
   "cell_type": "code",
   "execution_count": 15,
   "outputs": [],
   "source": [
    "# List of unique_id's that are annotated 5 times\n",
    "unique_ids = filtered_B1['unique_id'].unique().tolist()"
   ],
   "metadata": {
    "collapsed": false,
    "ExecuteTime": {
     "start_time": "2024-06-06T11:00:11.361976Z",
     "end_time": "2024-06-06T11:00:11.373301Z"
    }
   }
  },
  {
   "cell_type": "code",
   "execution_count": 16,
   "outputs": [],
   "source": [
    "# Filter all original dataframes to only include sentences that are annotated 5x by other seeds\n",
    "FB1S1 = S1[S1['unique_id'].isin(unique_ids)]\n",
    "FB1S2 = S2[S2['unique_id'].isin(unique_ids)]\n",
    "FB1S3 = S3[S3['unique_id'].isin(unique_ids)]\n",
    "FB1S4 = S4[S4['unique_id'].isin(unique_ids)]\n",
    "FB1S5 = S5[S5['unique_id'].isin(unique_ids)]"
   ],
   "metadata": {
    "collapsed": false,
    "ExecuteTime": {
     "start_time": "2024-06-06T11:00:13.347957Z",
     "end_time": "2024-06-06T11:00:13.356411Z"
    }
   }
  },
  {
   "cell_type": "code",
   "execution_count": 18,
   "outputs": [
    {
     "name": "stdout",
     "output_type": "stream",
     "text": [
      "Classification Report for S1\n",
      "                     precision    recall  f1-score    support\n",
      "Not relevant          0.955844  0.573209  0.716650  642.00000\n",
      "Relevant              0.347395  0.818713  0.487805  171.00000\n",
      "Statement of intent   0.472826  0.547170  0.507289  159.00000\n",
      "accuracy              0.612140  0.612140  0.612140    0.61214\n",
      "macro avg             0.592022  0.646364  0.570581  972.00000\n",
      "weighted avg          0.769790  0.612140  0.642143  972.00000\n",
      "\n",
      "\n",
      "Classification Report for S2\n",
      "                     precision    recall  f1-score     support\n",
      "Not relevant          0.955263  0.565421  0.710372  642.000000\n",
      "Relevant              0.349127  0.818713  0.489510  171.000000\n",
      "Statement of intent   0.460733  0.553459  0.502857  159.000000\n",
      "accuracy              0.608025  0.608025  0.608025    0.608025\n",
      "macro avg             0.588374  0.645864  0.567580  972.000000\n",
      "weighted avg          0.767733  0.608025  0.637571  972.000000\n",
      "\n",
      "\n",
      "Classification Report for S3\n",
      "                     precision    recall  f1-score     support\n",
      "Not relevant          0.954667  0.557632  0.704031  642.000000\n",
      "Relevant              0.343902  0.824561  0.485370  171.000000\n",
      "Statement of intent   0.470588  0.553459  0.508671  159.000000\n",
      "accuracy              0.603909  0.603909  0.603909    0.603909\n",
      "macro avg             0.589719  0.645218  0.566024  972.000000\n",
      "weighted avg          0.768032  0.603909  0.633606  972.000000\n",
      "\n",
      "\n",
      "Classification Report for S4\n",
      "                     precision    recall  f1-score     support\n",
      "Not relevant          0.949198  0.552960  0.698819  642.000000\n",
      "Relevant              0.332512  0.789474  0.467938  171.000000\n",
      "Statement of intent   0.447917  0.540881  0.490028  159.000000\n",
      "accuracy              0.592593  0.592593  0.592593    0.592593\n",
      "macro avg             0.576542  0.627771  0.552262  972.000000\n",
      "weighted avg          0.758707  0.592593  0.624047  972.000000\n",
      "\n",
      "\n",
      "Classification Report for S5\n",
      "                     precision    recall  f1-score     support\n",
      "Not relevant          0.948509  0.545171  0.692384  642.000000\n",
      "Relevant              0.338200  0.812865  0.477663  171.000000\n",
      "Statement of intent   0.453125  0.547170  0.495726  159.000000\n",
      "accuracy              0.592593  0.592593  0.592593    0.592593\n",
      "macro avg             0.579945  0.635069  0.555258  972.000000\n",
      "weighted avg          0.760105  0.592593  0.622440  972.000000\n",
      "\n",
      "\n"
     ]
    }
   ],
   "source": [
    "# Evaluate performance of individual seeds for the same sentences\n",
    "# Function to generate classification report for each dataframe\n",
    "def generate_classification_report(df, true_label_col, pred_label_col):\n",
    "    return classification_report(df[true_label_col], df[pred_label_col], output_dict=True)\n",
    "\n",
    "# Generate classification reports\n",
    "report_S1 = generate_classification_report(FB1S1, 'RELEVANCE_x', 'RELEVANCE_y')\n",
    "report_S2 = generate_classification_report(FB1S2, 'RELEVANCE_x', 'RELEVANCE_y')\n",
    "report_S3 = generate_classification_report(FB1S3, 'RELEVANCE_x', 'RELEVANCE_y')\n",
    "report_S4 = generate_classification_report(FB1S4, 'RELEVANCE_x', 'RELEVANCE_y')\n",
    "report_S5 = generate_classification_report(FB1S5, 'RELEVANCE_x', 'RELEVANCE_y')\n",
    "\n",
    "# Function to print the classification reports for easy comparison\n",
    "def print_classification_report(report, title):\n",
    "    print(f\"Classification Report for {title}\")\n",
    "    print(pd.DataFrame(report).transpose())\n",
    "    print(\"\\n\")\n",
    "\n",
    "# Print the classification reports\n",
    "print_classification_report(report_S1, \"S1\")\n",
    "print_classification_report(report_S2, \"S2\")\n",
    "print_classification_report(report_S3, \"S3\")\n",
    "print_classification_report(report_S4, \"S4\")\n",
    "print_classification_report(report_S5, \"S5\")"
   ],
   "metadata": {
    "collapsed": false,
    "ExecuteTime": {
     "start_time": "2024-06-06T11:04:28.389438Z",
     "end_time": "2024-06-06T11:04:28.535846Z"
    }
   }
  },
  {
   "cell_type": "markdown",
   "source": [
    "Evaluate consistency of predictions over the 5 different instances - see which sentences are not consistantly predicted.\n"
   ],
   "metadata": {
    "collapsed": false
   }
  },
  {
   "cell_type": "code",
   "execution_count": 19,
   "outputs": [
    {
     "data": {
      "text/plain": "      unique_id                                               text  \\\n46           46  These resources are affected by the negative i...   \n47           47  It is for this reason that Namibia and Africa ...   \n49           49       Temperatures are rising at an alarming rate.   \n57           57  Costs associated with adaptation efforts are a...   \n101         101  Mr. President, my delegation welcomes the furt...   \n...         ...                                                ...   \n5762       1154   And as a country where refugees make up over ...   \n5763       1155  This global initiative prioritises climate -re...   \n5767       1159   Today, Jordan’s most ambitious and vital proj...   \n5809       1201                    And COP28 is our moment to act.   \n5814       1206  Together we can: • Collaborate and partner to ...   \n\n       RELEVANCE_x                                          llm_query  \\\n46    Not relevant  46 These resources are affected by the negativ...   \n47    Not relevant  47 It is for this reason that Namibia and Afri...   \n49    Not relevant  49 Temperatures are rising at an alarming rate.\\n   \n57    Not relevant  57 Costs associated with adaptation efforts ar...   \n101   Not relevant  101 Mr. President, my delegation welcomes the ...   \n...            ...                                                ...   \n5762  Not relevant  1154  And as a country where refugees make up ...   \n5763  Not relevant  1155 This global initiative prioritises climat...   \n5767  Not relevant  1159  Today, Jordan’s most ambitious and vital...   \n5809  Not relevant             1201 And COP28 is our moment to act.\\n   \n5814  Not relevant  1206 Together we can: • Collaborate and partne...   \n\n              RELEVANCE_y  iteration  \n46           Not relevant          1  \n47    Statement of intent          1  \n49           Not relevant          1  \n57           Not relevant          1  \n101          Not relevant          1  \n...                   ...        ...  \n5762  Statement of intent          1  \n5763             Relevant          1  \n5767  Statement of intent          1  \n5809  Statement of intent          1  \n5814             Relevant          1  \n\n[545 rows x 6 columns]",
      "text/html": "<div>\n<style scoped>\n    .dataframe tbody tr th:only-of-type {\n        vertical-align: middle;\n    }\n\n    .dataframe tbody tr th {\n        vertical-align: top;\n    }\n\n    .dataframe thead th {\n        text-align: right;\n    }\n</style>\n<table border=\"1\" class=\"dataframe\">\n  <thead>\n    <tr style=\"text-align: right;\">\n      <th></th>\n      <th>unique_id</th>\n      <th>text</th>\n      <th>RELEVANCE_x</th>\n      <th>llm_query</th>\n      <th>RELEVANCE_y</th>\n      <th>iteration</th>\n    </tr>\n  </thead>\n  <tbody>\n    <tr>\n      <th>46</th>\n      <td>46</td>\n      <td>These resources are affected by the negative i...</td>\n      <td>Not relevant</td>\n      <td>46 These resources are affected by the negativ...</td>\n      <td>Not relevant</td>\n      <td>1</td>\n    </tr>\n    <tr>\n      <th>47</th>\n      <td>47</td>\n      <td>It is for this reason that Namibia and Africa ...</td>\n      <td>Not relevant</td>\n      <td>47 It is for this reason that Namibia and Afri...</td>\n      <td>Statement of intent</td>\n      <td>1</td>\n    </tr>\n    <tr>\n      <th>49</th>\n      <td>49</td>\n      <td>Temperatures are rising at an alarming rate.</td>\n      <td>Not relevant</td>\n      <td>49 Temperatures are rising at an alarming rate.\\n</td>\n      <td>Not relevant</td>\n      <td>1</td>\n    </tr>\n    <tr>\n      <th>57</th>\n      <td>57</td>\n      <td>Costs associated with adaptation efforts are a...</td>\n      <td>Not relevant</td>\n      <td>57 Costs associated with adaptation efforts ar...</td>\n      <td>Not relevant</td>\n      <td>1</td>\n    </tr>\n    <tr>\n      <th>101</th>\n      <td>101</td>\n      <td>Mr. President, my delegation welcomes the furt...</td>\n      <td>Not relevant</td>\n      <td>101 Mr. President, my delegation welcomes the ...</td>\n      <td>Not relevant</td>\n      <td>1</td>\n    </tr>\n    <tr>\n      <th>...</th>\n      <td>...</td>\n      <td>...</td>\n      <td>...</td>\n      <td>...</td>\n      <td>...</td>\n      <td>...</td>\n    </tr>\n    <tr>\n      <th>5762</th>\n      <td>1154</td>\n      <td>And as a country where refugees make up over ...</td>\n      <td>Not relevant</td>\n      <td>1154  And as a country where refugees make up ...</td>\n      <td>Statement of intent</td>\n      <td>1</td>\n    </tr>\n    <tr>\n      <th>5763</th>\n      <td>1155</td>\n      <td>This global initiative prioritises climate -re...</td>\n      <td>Not relevant</td>\n      <td>1155 This global initiative prioritises climat...</td>\n      <td>Relevant</td>\n      <td>1</td>\n    </tr>\n    <tr>\n      <th>5767</th>\n      <td>1159</td>\n      <td>Today, Jordan’s most ambitious and vital proj...</td>\n      <td>Not relevant</td>\n      <td>1159  Today, Jordan’s most ambitious and vital...</td>\n      <td>Statement of intent</td>\n      <td>1</td>\n    </tr>\n    <tr>\n      <th>5809</th>\n      <td>1201</td>\n      <td>And COP28 is our moment to act.</td>\n      <td>Not relevant</td>\n      <td>1201 And COP28 is our moment to act.\\n</td>\n      <td>Statement of intent</td>\n      <td>1</td>\n    </tr>\n    <tr>\n      <th>5814</th>\n      <td>1206</td>\n      <td>Together we can: • Collaborate and partner to ...</td>\n      <td>Not relevant</td>\n      <td>1206 Together we can: • Collaborate and partne...</td>\n      <td>Relevant</td>\n      <td>1</td>\n    </tr>\n  </tbody>\n</table>\n<p>545 rows × 6 columns</p>\n</div>"
     },
     "execution_count": 19,
     "metadata": {},
     "output_type": "execute_result"
    }
   ],
   "source": [
    "# I want to evaluate consistency\n",
    "# Print all rows where inconsequences are found per seed\n",
    "# Define a function to check if all values in relevance_y are the same\n",
    "def relevance_y_not_uniform(group):\n",
    "    return group['RELEVANCE_y'].nunique() != 1\n",
    "\n",
    "\n",
    "# Group by 'ID' and filter groups\n",
    "B1_consistency = filtered_B1.groupby('unique_id').filter(relevance_y_not_uniform)\n",
    "\n",
    "B1_consistency"
   ],
   "metadata": {
    "collapsed": false,
    "ExecuteTime": {
     "start_time": "2024-06-06T11:08:23.310877Z",
     "end_time": "2024-06-06T11:08:23.431761Z"
    }
   }
  },
  {
   "cell_type": "markdown",
   "source": [
    "\n",
    "In combined dataframe, groupyby unique ID and take the majority label"
   ],
   "metadata": {
    "collapsed": false
   }
  },
  {
   "cell_type": "code",
   "execution_count": 29,
   "outputs": [
    {
     "data": {
      "text/plain": "     unique_id                                               text  \\\n0           20   Japan will establish a low carbon society thr...   \n1           21   We will strategically promote mitigation meas...   \n2           22   We will enhance development and demonstration...   \n3           23      Japan is hosting the IPCC session next March.   \n4           24   Using that opportunity, we will launch a new ...   \n..         ...                                                ...   \n967       1207   New Zealand is proud to suppor t several impo...   \n968       1208  I am joined by New Zealand’s largest business,...   \n969       1209  The commitment o f New Zealanders from across ...   \n970       1210                            Thank you Mr President.   \n971       1211                                          Kia Kaha    \n\n             RELEVANCE_x                                          llm_query  \\\n0    Statement of intent  20  Japan will establish a low carbon society ...   \n1    Statement of intent  21  We will strategically promote mitigation m...   \n2    Statement of intent  22  We will enhance development and demonstrat...   \n3           Not relevant  23  Japan is hosting the IPCC session next Mar...   \n4    Statement of intent  24  Using that opportunity, we will launch a n...   \n..                   ...                                                ...   \n967         Not relevant  1207  New Zealand is proud to suppor t several...   \n968         Not relevant  1208 I am joined by New Zealand’s largest busi...   \n969         Not relevant  1209 The commitment o f New Zealanders from ac...   \n970         Not relevant                    1210  Thank you Mr President.\\n   \n971         Not relevant                                   1211 Kia Kaha \\n   \n\n     iteration          RELEVANCE_y  \n0            1  Statement of intent  \n1            1  Statement of intent  \n2            1  Statement of intent  \n3            1         Not relevant  \n4            1  Statement of intent  \n..         ...                  ...  \n967          1         Not relevant  \n968          1         Not relevant  \n969          1         Not relevant  \n970          1         Not relevant  \n971          1         Not relevant  \n\n[972 rows x 6 columns]",
      "text/html": "<div>\n<style scoped>\n    .dataframe tbody tr th:only-of-type {\n        vertical-align: middle;\n    }\n\n    .dataframe tbody tr th {\n        vertical-align: top;\n    }\n\n    .dataframe thead th {\n        text-align: right;\n    }\n</style>\n<table border=\"1\" class=\"dataframe\">\n  <thead>\n    <tr style=\"text-align: right;\">\n      <th></th>\n      <th>unique_id</th>\n      <th>text</th>\n      <th>RELEVANCE_x</th>\n      <th>llm_query</th>\n      <th>iteration</th>\n      <th>RELEVANCE_y</th>\n    </tr>\n  </thead>\n  <tbody>\n    <tr>\n      <th>0</th>\n      <td>20</td>\n      <td>Japan will establish a low carbon society thr...</td>\n      <td>Statement of intent</td>\n      <td>20  Japan will establish a low carbon society ...</td>\n      <td>1</td>\n      <td>Statement of intent</td>\n    </tr>\n    <tr>\n      <th>1</th>\n      <td>21</td>\n      <td>We will strategically promote mitigation meas...</td>\n      <td>Statement of intent</td>\n      <td>21  We will strategically promote mitigation m...</td>\n      <td>1</td>\n      <td>Statement of intent</td>\n    </tr>\n    <tr>\n      <th>2</th>\n      <td>22</td>\n      <td>We will enhance development and demonstration...</td>\n      <td>Statement of intent</td>\n      <td>22  We will enhance development and demonstrat...</td>\n      <td>1</td>\n      <td>Statement of intent</td>\n    </tr>\n    <tr>\n      <th>3</th>\n      <td>23</td>\n      <td>Japan is hosting the IPCC session next March.</td>\n      <td>Not relevant</td>\n      <td>23  Japan is hosting the IPCC session next Mar...</td>\n      <td>1</td>\n      <td>Not relevant</td>\n    </tr>\n    <tr>\n      <th>4</th>\n      <td>24</td>\n      <td>Using that opportunity, we will launch a new ...</td>\n      <td>Statement of intent</td>\n      <td>24  Using that opportunity, we will launch a n...</td>\n      <td>1</td>\n      <td>Statement of intent</td>\n    </tr>\n    <tr>\n      <th>...</th>\n      <td>...</td>\n      <td>...</td>\n      <td>...</td>\n      <td>...</td>\n      <td>...</td>\n      <td>...</td>\n    </tr>\n    <tr>\n      <th>967</th>\n      <td>1207</td>\n      <td>New Zealand is proud to suppor t several impo...</td>\n      <td>Not relevant</td>\n      <td>1207  New Zealand is proud to suppor t several...</td>\n      <td>1</td>\n      <td>Not relevant</td>\n    </tr>\n    <tr>\n      <th>968</th>\n      <td>1208</td>\n      <td>I am joined by New Zealand’s largest business,...</td>\n      <td>Not relevant</td>\n      <td>1208 I am joined by New Zealand’s largest busi...</td>\n      <td>1</td>\n      <td>Not relevant</td>\n    </tr>\n    <tr>\n      <th>969</th>\n      <td>1209</td>\n      <td>The commitment o f New Zealanders from across ...</td>\n      <td>Not relevant</td>\n      <td>1209 The commitment o f New Zealanders from ac...</td>\n      <td>1</td>\n      <td>Not relevant</td>\n    </tr>\n    <tr>\n      <th>970</th>\n      <td>1210</td>\n      <td>Thank you Mr President.</td>\n      <td>Not relevant</td>\n      <td>1210  Thank you Mr President.\\n</td>\n      <td>1</td>\n      <td>Not relevant</td>\n    </tr>\n    <tr>\n      <th>971</th>\n      <td>1211</td>\n      <td>Kia Kaha</td>\n      <td>Not relevant</td>\n      <td>1211 Kia Kaha \\n</td>\n      <td>1</td>\n      <td>Not relevant</td>\n    </tr>\n  </tbody>\n</table>\n<p>972 rows × 6 columns</p>\n</div>"
     },
     "execution_count": 29,
     "metadata": {},
     "output_type": "execute_result"
    }
   ],
   "source": [
    "# Define a function to get the most frequent element\n",
    "def most_frequent(x):\n",
    "    return Counter(x).most_common(1)[0][0]\n",
    "\n",
    "# List of all columns\n",
    "all_columns = filtered_B1.columns.tolist()\n",
    "\n",
    "# Dictionary to specify aggregation functions\n",
    "agg_dict = {col: 'first' for col in all_columns if col not in ['unique_id', 'RELEVANCE_y']}\n",
    "agg_dict['RELEVANCE_y'] = most_frequent\n",
    "\n",
    "# Group by 'unique_id' and apply the aggregation functions\n",
    "filtered_B1_grouped = filtered_B1.groupby('unique_id').agg(agg_dict).reset_index()\n",
    "\n",
    "filtered_B1_grouped"
   ],
   "metadata": {
    "collapsed": false,
    "ExecuteTime": {
     "start_time": "2024-06-06T11:22:50.948074Z",
     "end_time": "2024-06-06T11:22:51.050172Z"
    }
   }
  },
  {
   "cell_type": "code",
   "execution_count": 30,
   "outputs": [
    {
     "name": "stdout",
     "output_type": "stream",
     "text": [
      "                     precision    recall  f1-score   support\n",
      "\n",
      "       Not relevant       0.96      0.55      0.70       642\n",
      "           Relevant       0.34      0.81      0.48       171\n",
      "Statement of intent       0.46      0.56      0.51       159\n",
      "\n",
      "           accuracy                           0.60       972\n",
      "          macro avg       0.59      0.64      0.56       972\n",
      "       weighted avg       0.77      0.60      0.63       972\n",
      "\n"
     ]
    }
   ],
   "source": [
    "# Evaluate performance of this dataframe\n",
    "print(classification_report(filtered_B1_grouped['RELEVANCE_x'],filtered_B1_grouped['RELEVANCE_y']))"
   ],
   "metadata": {
    "collapsed": false,
    "ExecuteTime": {
     "start_time": "2024-06-06T11:23:47.778944Z",
     "end_time": "2024-06-06T11:23:47.851571Z"
    }
   }
  },
  {
   "cell_type": "code",
   "execution_count": 32,
   "outputs": [
    {
     "data": {
      "text/plain": "<sklearn.metrics._plot.confusion_matrix.ConfusionMatrixDisplay at 0x1f078c43dd0>"
     },
     "execution_count": 32,
     "metadata": {},
     "output_type": "execute_result"
    },
    {
     "data": {
      "text/plain": "<Figure size 640x480 with 2 Axes>",
      "image/png": "[encoded data removed]"
     },
     "metadata": {},
     "output_type": "display_data"
    }
   ],
   "source": [
    "# Evaluate confusionmatrix for this aggregated set\n",
    "labels = ['not relevant', 'statement of intent', 'relevant']\n",
    "\n",
    "cm = confusion_matrix(filtered_B1_grouped['RELEVANCE_x'],filtered_B1_grouped['RELEVANCE_y'])\n",
    "disp = ConfusionMatrixDisplay(confusion_matrix=cm, display_labels=labels)\n",
    "disp.plot(cmap=plt.cm.Blues)\n"
   ],
   "metadata": {
    "collapsed": false,
    "ExecuteTime": {
     "start_time": "2024-06-06T11:35:21.947631Z",
     "end_time": "2024-06-06T11:35:22.634995Z"
    }
   }
  },
  {
   "cell_type": "markdown",
   "source": [
    "-------------------------------------------------------"
   ],
   "metadata": {
    "collapsed": false
   }
  },
  {
   "cell_type": "markdown",
   "source": [
    "# 2. Results B1.0.1"
   ],
   "metadata": {
    "collapsed": false
   }
  },
  {
   "cell_type": "markdown",
   "source": [
    "### 1. Import Results\n",
    "Results created under the same fingerprint are saved in a CSV file for each seed. All results are combined into one dataset."
   ],
   "metadata": {
    "collapsed": false
   }
  },
  {
   "cell_type": "code",
   "execution_count": 38,
   "outputs": [],
   "source": [
    "#B1.0\n",
    "path_B101 = 'STRING_RESULT/B1.0.1/all_iterations'\n",
    "\n",
    "# Open all dataframes\n",
    "S1 = pd.read_csv(f'{path_B101}/all_iterations_string_T0_3644.csv')\n",
    "S2 = pd.read_csv(f'{path_B101}/all_iterations_string_T0_3441.csv')\n",
    "S3 = pd.read_csv(f'{path_B101}/all_iterations_string_T0_280.csv')\n",
    "S4 = pd.read_csv(f'{path_B101}/all_iterations_string_T0_5991.csv')\n",
    "S5 = pd.read_csv(f'{path_B101}/all_iterations_string_T0_7917.csv')\n",
    "\n",
    "# Combine all dataframes into one\n",
    "B101_full = pd.concat([S1, S2, S3, S4, S5], ignore_index=True)"
   ],
   "metadata": {
    "collapsed": false,
    "ExecuteTime": {
     "start_time": "2024-06-06T11:48:12.980392Z",
     "end_time": "2024-06-06T11:48:13.053372Z"
    }
   }
  },
  {
   "cell_type": "code",
   "execution_count": 41,
   "outputs": [
    {
     "data": {
      "text/plain": "(4700, 6)"
     },
     "execution_count": 41,
     "metadata": {},
     "output_type": "execute_result"
    }
   ],
   "source": [
    "# Filter rows to keep only those where the unique_id appears exactly 5 times\n",
    "filtered_B101 = B101_full.groupby('unique_id').filter(lambda x: len(x) == 5)\n",
    "filtered_B101.shape"
   ],
   "metadata": {
    "collapsed": false,
    "ExecuteTime": {
     "start_time": "2024-06-06T11:48:39.100267Z",
     "end_time": "2024-06-06T11:48:39.141579Z"
    }
   }
  },
  {
   "cell_type": "code",
   "execution_count": 42,
   "outputs": [],
   "source": [
    "# List of unique_id's that are annotated 5 times\n",
    "unique_ids = filtered_B101['unique_id'].unique().tolist()"
   ],
   "metadata": {
    "collapsed": false,
    "ExecuteTime": {
     "start_time": "2024-06-06T11:49:14.470491Z",
     "end_time": "2024-06-06T11:49:14.490800Z"
    }
   }
  },
  {
   "cell_type": "code",
   "execution_count": 43,
   "outputs": [],
   "source": [
    "# Filter all original dataframes to only include sentences that are annotated 5x by other seeds\n",
    "FB1S1 = S1[S1['unique_id'].isin(unique_ids)]\n",
    "FB1S2 = S2[S2['unique_id'].isin(unique_ids)]\n",
    "FB1S3 = S3[S3['unique_id'].isin(unique_ids)]\n",
    "FB1S4 = S4[S4['unique_id'].isin(unique_ids)]\n",
    "FB1S5 = S5[S5['unique_id'].isin(unique_ids)]"
   ],
   "metadata": {
    "collapsed": false,
    "ExecuteTime": {
     "start_time": "2024-06-06T11:49:39.382516Z",
     "end_time": "2024-06-06T11:49:39.417371Z"
    }
   }
  },
  {
   "cell_type": "code",
   "execution_count": 44,
   "outputs": [
    {
     "name": "stdout",
     "output_type": "stream",
     "text": [
      "Classification Report for S1\n",
      "                     precision    recall  f1-score     support\n",
      "Not relevant          0.934579  0.499168  0.650759  601.000000\n",
      "Relevant              0.321101  0.823529  0.462046  170.000000\n",
      "Statement of intent   0.475410  0.514793  0.494318  169.000000\n",
      "accuracy              0.560638  0.560638  0.560638    0.560638\n",
      "macro avg             0.577030  0.612497  0.535708  940.000000\n",
      "weighted avg          0.741078  0.560638  0.588504  940.000000\n",
      "\n",
      "\n",
      "Classification Report for S2\n",
      "                     precision    recall  f1-score     support\n",
      "Not relevant          0.930380  0.489185  0.641221  601.000000\n",
      "Relevant              0.312207  0.782353  0.446309  170.000000\n",
      "Statement of intent   0.469697  0.550296  0.506812  169.000000\n",
      "accuracy              0.553191  0.553191  0.553191    0.553191\n",
      "macro avg             0.570761  0.607278  0.531447  940.000000\n",
      "weighted avg          0.735758  0.553191  0.581806  940.000000\n",
      "\n",
      "\n",
      "Classification Report for S3\n",
      "                     precision    recall  f1-score  support\n",
      "Not relevant          0.934169  0.495840  0.647826   601.00\n",
      "Relevant              0.312500  0.794118  0.448505   170.00\n",
      "Statement of intent   0.444444  0.497041  0.469274   169.00\n",
      "accuracy              0.550000  0.550000  0.550000     0.55\n",
      "macro avg             0.563705  0.595666  0.521868   940.00\n",
      "weighted avg          0.733693  0.550000  0.579677   940.00\n",
      "\n",
      "\n",
      "Classification Report for S4\n",
      "                     precision    recall  f1-score     support\n",
      "Not relevant          0.939394  0.515807  0.665951  601.000000\n",
      "Relevant              0.324582  0.800000  0.461800  170.000000\n",
      "Statement of intent   0.471204  0.532544  0.500000  169.000000\n",
      "accuracy              0.570213  0.570213  0.570213    0.570213\n",
      "macro avg             0.578393  0.616117  0.542583  940.000000\n",
      "weighted avg          0.744030  0.570213  0.599194  940.000000\n",
      "\n",
      "\n",
      "Classification Report for S5\n",
      "                     precision    recall  f1-score    support\n",
      "Not relevant          0.941896  0.512479  0.663793  601.00000\n",
      "Relevant              0.327751  0.805882  0.465986  170.00000\n",
      "Statement of intent   0.476923  0.550296  0.510989  169.00000\n",
      "accuracy              0.572340  0.572340  0.572340    0.57234\n",
      "macro avg             0.582190  0.622886  0.546923  940.00000\n",
      "weighted avg          0.747231  0.572340  0.600547  940.00000\n",
      "\n",
      "\n"
     ]
    }
   ],
   "source": [
    "# Evaluate performance of individual seeds for the same sentences\n",
    "# Function to generate classification report for each dataframe\n",
    "def generate_classification_report(df, true_label_col, pred_label_col):\n",
    "    return classification_report(df[true_label_col], df[pred_label_col], output_dict=True)\n",
    "\n",
    "# Generate classification reports\n",
    "report_S1 = generate_classification_report(FB1S1, 'RELEVANCE_x', 'RELEVANCE_y')\n",
    "report_S2 = generate_classification_report(FB1S2, 'RELEVANCE_x', 'RELEVANCE_y')\n",
    "report_S3 = generate_classification_report(FB1S3, 'RELEVANCE_x', 'RELEVANCE_y')\n",
    "report_S4 = generate_classification_report(FB1S4, 'RELEVANCE_x', 'RELEVANCE_y')\n",
    "report_S5 = generate_classification_report(FB1S5, 'RELEVANCE_x', 'RELEVANCE_y')\n",
    "\n",
    "# Function to print the classification reports for easy comparison\n",
    "def print_classification_report(report, title):\n",
    "    print(f\"Classification Report for {title}\")\n",
    "    print(pd.DataFrame(report).transpose())\n",
    "    print(\"\\n\")\n",
    "\n",
    "# Print the classification reports\n",
    "print_classification_report(report_S1, \"S1\")\n",
    "print_classification_report(report_S2, \"S2\")\n",
    "print_classification_report(report_S3, \"S3\")\n",
    "print_classification_report(report_S4, \"S4\")\n",
    "print_classification_report(report_S5, \"S5\")"
   ],
   "metadata": {
    "collapsed": false,
    "ExecuteTime": {
     "start_time": "2024-06-06T11:49:47.749267Z",
     "end_time": "2024-06-06T11:49:47.907546Z"
    }
   }
  },
  {
   "cell_type": "markdown",
   "source": [
    "Evaluate consistency of predictions over the 5 different instances - see which sentences are not consistantly predicted.\n"
   ],
   "metadata": {
    "collapsed": false
   }
  },
  {
   "cell_type": "code",
   "execution_count": 45,
   "outputs": [
    {
     "data": {
      "text/plain": "      unique_id                                               text  \\\n8             8   Even under such circumstance both the public ...   \n12           12       This target may appear to be less ambitious.   \n65           65  Namibia believes that in order to achieve a co...   \n67           67  This body, will bridge the scientific informat...   \n77           77  Climate change has no border; it affects all c...   \n...         ...                                                ...   \n5669       1073  Excellencies It is with great humility and hon...   \n5670       1074  My government is aware of t he challenges pose...   \n5671       1075  The theme of this event, \" climate transition ...   \n5693       1097  Our NDC is ambitious enough to contribute our ...   \n5751       1155  This global initiative prioritises climate -re...   \n\n       RELEVANCE_x                                          llm_query  \\\n8     Not relevant  8  Even under such circumstance both the publi...   \n12    Not relevant  12  This target may appear to be less ambitiou...   \n65        Relevant  65 Namibia believes that in order to achieve a...   \n67    Not relevant  67 This body, will bridge the scientific infor...   \n77    Not relevant  77 Climate change has no border; it affects al...   \n...            ...                                                ...   \n5669  Not relevant  1073 Excellencies It is with great humility an...   \n5670  Not relevant  1074 My government is aware of t he challenges...   \n5671  Not relevant  1075 The theme of this event, \" climate transi...   \n5693  Not relevant  1097 Our NDC is ambitious enough to contribute...   \n5751  Not relevant  1155 This global initiative prioritises climat...   \n\n              RELEVANCE_y  iteration  \n8                Relevant          1  \n12           Not relevant          1  \n65               Relevant          1  \n67           Not relevant          1  \n77           Not relevant          1  \n...                   ...        ...  \n5669         Not relevant          1  \n5670         Not relevant          1  \n5671         Not relevant          1  \n5693  Statement of intent          1  \n5751             Relevant          1  \n\n[485 rows x 6 columns]",
      "text/html": "<div>\n<style scoped>\n    .dataframe tbody tr th:only-of-type {\n        vertical-align: middle;\n    }\n\n    .dataframe tbody tr th {\n        vertical-align: top;\n    }\n\n    .dataframe thead th {\n        text-align: right;\n    }\n</style>\n<table border=\"1\" class=\"dataframe\">\n  <thead>\n    <tr style=\"text-align: right;\">\n      <th></th>\n      <th>unique_id</th>\n      <th>text</th>\n      <th>RELEVANCE_x</th>\n      <th>llm_query</th>\n      <th>RELEVANCE_y</th>\n      <th>iteration</th>\n    </tr>\n  </thead>\n  <tbody>\n    <tr>\n      <th>8</th>\n      <td>8</td>\n      <td>Even under such circumstance both the public ...</td>\n      <td>Not relevant</td>\n      <td>8  Even under such circumstance both the publi...</td>\n      <td>Relevant</td>\n      <td>1</td>\n    </tr>\n    <tr>\n      <th>12</th>\n      <td>12</td>\n      <td>This target may appear to be less ambitious.</td>\n      <td>Not relevant</td>\n      <td>12  This target may appear to be less ambitiou...</td>\n      <td>Not relevant</td>\n      <td>1</td>\n    </tr>\n    <tr>\n      <th>65</th>\n      <td>65</td>\n      <td>Namibia believes that in order to achieve a co...</td>\n      <td>Relevant</td>\n      <td>65 Namibia believes that in order to achieve a...</td>\n      <td>Relevant</td>\n      <td>1</td>\n    </tr>\n    <tr>\n      <th>67</th>\n      <td>67</td>\n      <td>This body, will bridge the scientific informat...</td>\n      <td>Not relevant</td>\n      <td>67 This body, will bridge the scientific infor...</td>\n      <td>Not relevant</td>\n      <td>1</td>\n    </tr>\n    <tr>\n      <th>77</th>\n      <td>77</td>\n      <td>Climate change has no border; it affects all c...</td>\n      <td>Not relevant</td>\n      <td>77 Climate change has no border; it affects al...</td>\n      <td>Not relevant</td>\n      <td>1</td>\n    </tr>\n    <tr>\n      <th>...</th>\n      <td>...</td>\n      <td>...</td>\n      <td>...</td>\n      <td>...</td>\n      <td>...</td>\n      <td>...</td>\n    </tr>\n    <tr>\n      <th>5669</th>\n      <td>1073</td>\n      <td>Excellencies It is with great humility and hon...</td>\n      <td>Not relevant</td>\n      <td>1073 Excellencies It is with great humility an...</td>\n      <td>Not relevant</td>\n      <td>1</td>\n    </tr>\n    <tr>\n      <th>5670</th>\n      <td>1074</td>\n      <td>My government is aware of t he challenges pose...</td>\n      <td>Not relevant</td>\n      <td>1074 My government is aware of t he challenges...</td>\n      <td>Not relevant</td>\n      <td>1</td>\n    </tr>\n    <tr>\n      <th>5671</th>\n      <td>1075</td>\n      <td>The theme of this event, \" climate transition ...</td>\n      <td>Not relevant</td>\n      <td>1075 The theme of this event, \" climate transi...</td>\n      <td>Not relevant</td>\n      <td>1</td>\n    </tr>\n    <tr>\n      <th>5693</th>\n      <td>1097</td>\n      <td>Our NDC is ambitious enough to contribute our ...</td>\n      <td>Not relevant</td>\n      <td>1097 Our NDC is ambitious enough to contribute...</td>\n      <td>Statement of intent</td>\n      <td>1</td>\n    </tr>\n    <tr>\n      <th>5751</th>\n      <td>1155</td>\n      <td>This global initiative prioritises climate -re...</td>\n      <td>Not relevant</td>\n      <td>1155 This global initiative prioritises climat...</td>\n      <td>Relevant</td>\n      <td>1</td>\n    </tr>\n  </tbody>\n</table>\n<p>485 rows × 6 columns</p>\n</div>"
     },
     "execution_count": 45,
     "metadata": {},
     "output_type": "execute_result"
    }
   ],
   "source": [
    "# I want to evaluate consistency\n",
    "# Print all rows where inconsequences are found per seed\n",
    "# Define a function to check if all values in relevance_y are the same\n",
    "def relevance_y_not_uniform(group):\n",
    "    return group['RELEVANCE_y'].nunique() != 1\n",
    "\n",
    "\n",
    "# Group by 'ID' and filter groups\n",
    "B101_consistency = filtered_B101.groupby('unique_id').filter(relevance_y_not_uniform)\n",
    "\n",
    "B101_consistency"
   ],
   "metadata": {
    "collapsed": false,
    "ExecuteTime": {
     "start_time": "2024-06-06T11:51:38.469974Z",
     "end_time": "2024-06-06T11:51:38.588802Z"
    }
   }
  },
  {
   "cell_type": "markdown",
   "source": [
    "\n",
    "In combined dataframe, groupyby unique ID and take the majority label"
   ],
   "metadata": {
    "collapsed": false
   }
  },
  {
   "cell_type": "code",
   "execution_count": 49,
   "outputs": [
    {
     "data": {
      "text/plain": "     unique_id                                               text  \\\n0            0                         Thank you, Mr. President .   \n1            1   On beha lf of the government of Japan , I wou...   \n2            2   I would also like to expr ess my d eepest con...   \n3            3   Mr. President:  A fair and effective framewor...   \n4            4   In this regard, Japan firmly supports the est...   \n..         ...                                                ...   \n935       1155  This global initiative prioritises climate -re...   \n936       1156  We are grateful for the 58 countries that have...   \n937       1157                    But much more needs to be done.   \n938       1158   My friends,  Jordan contributes a slim 0.06 p...   \n939       1159   Today, Jordan’s most ambitious and vital proj...   \n\n             RELEVANCE_x                                          llm_query  \\\n0           Not relevant                    0  Thank you, Mr. President .\\n   \n1           Not relevant  1  On beha lf of the government of Japan , I w...   \n2           Not relevant  2  I would also like to expr ess my d eepest c...   \n3               Relevant  3  Mr. President:  A fair and effective framew...   \n4    Statement of intent  4  In this regard, Japan firmly supports the e...   \n..                   ...                                                ...   \n935         Not relevant  1155 This global initiative prioritises climat...   \n936         Not relevant  1156 We are grateful for the 58 countries that...   \n937  Statement of intent             1157 But much more needs to be done.\\n   \n938         Not relevant  1158  My friends,  Jordan contributes a slim 0...   \n939         Not relevant  1159  Today, Jordan’s most ambitious and vital...   \n\n     iteration          RELEVANCE_y  \n0            1         Not relevant  \n1            1         Not relevant  \n2            1         Not relevant  \n3            1             Relevant  \n4            1  Statement of intent  \n..         ...                  ...  \n935          1             Relevant  \n936          1         Not relevant  \n937          1  Statement of intent  \n938          1             Relevant  \n939          1  Statement of intent  \n\n[940 rows x 6 columns]",
      "text/html": "<div>\n<style scoped>\n    .dataframe tbody tr th:only-of-type {\n        vertical-align: middle;\n    }\n\n    .dataframe tbody tr th {\n        vertical-align: top;\n    }\n\n    .dataframe thead th {\n        text-align: right;\n    }\n</style>\n<table border=\"1\" class=\"dataframe\">\n  <thead>\n    <tr style=\"text-align: right;\">\n      <th></th>\n      <th>unique_id</th>\n      <th>text</th>\n      <th>RELEVANCE_x</th>\n      <th>llm_query</th>\n      <th>iteration</th>\n      <th>RELEVANCE_y</th>\n    </tr>\n  </thead>\n  <tbody>\n    <tr>\n      <th>0</th>\n      <td>0</td>\n      <td>Thank you, Mr. President .</td>\n      <td>Not relevant</td>\n      <td>0  Thank you, Mr. President .\\n</td>\n      <td>1</td>\n      <td>Not relevant</td>\n    </tr>\n    <tr>\n      <th>1</th>\n      <td>1</td>\n      <td>On beha lf of the government of Japan , I wou...</td>\n      <td>Not relevant</td>\n      <td>1  On beha lf of the government of Japan , I w...</td>\n      <td>1</td>\n      <td>Not relevant</td>\n    </tr>\n    <tr>\n      <th>2</th>\n      <td>2</td>\n      <td>I would also like to expr ess my d eepest con...</td>\n      <td>Not relevant</td>\n      <td>2  I would also like to expr ess my d eepest c...</td>\n      <td>1</td>\n      <td>Not relevant</td>\n    </tr>\n    <tr>\n      <th>3</th>\n      <td>3</td>\n      <td>Mr. President:  A fair and effective framewor...</td>\n      <td>Relevant</td>\n      <td>3  Mr. President:  A fair and effective framew...</td>\n      <td>1</td>\n      <td>Relevant</td>\n    </tr>\n    <tr>\n      <th>4</th>\n      <td>4</td>\n      <td>In this regard, Japan firmly supports the est...</td>\n      <td>Statement of intent</td>\n      <td>4  In this regard, Japan firmly supports the e...</td>\n      <td>1</td>\n      <td>Statement of intent</td>\n    </tr>\n    <tr>\n      <th>...</th>\n      <td>...</td>\n      <td>...</td>\n      <td>...</td>\n      <td>...</td>\n      <td>...</td>\n      <td>...</td>\n    </tr>\n    <tr>\n      <th>935</th>\n      <td>1155</td>\n      <td>This global initiative prioritises climate -re...</td>\n      <td>Not relevant</td>\n      <td>1155 This global initiative prioritises climat...</td>\n      <td>1</td>\n      <td>Relevant</td>\n    </tr>\n    <tr>\n      <th>936</th>\n      <td>1156</td>\n      <td>We are grateful for the 58 countries that have...</td>\n      <td>Not relevant</td>\n      <td>1156 We are grateful for the 58 countries that...</td>\n      <td>1</td>\n      <td>Not relevant</td>\n    </tr>\n    <tr>\n      <th>937</th>\n      <td>1157</td>\n      <td>But much more needs to be done.</td>\n      <td>Statement of intent</td>\n      <td>1157 But much more needs to be done.\\n</td>\n      <td>1</td>\n      <td>Statement of intent</td>\n    </tr>\n    <tr>\n      <th>938</th>\n      <td>1158</td>\n      <td>My friends,  Jordan contributes a slim 0.06 p...</td>\n      <td>Not relevant</td>\n      <td>1158  My friends,  Jordan contributes a slim 0...</td>\n      <td>1</td>\n      <td>Relevant</td>\n    </tr>\n    <tr>\n      <th>939</th>\n      <td>1159</td>\n      <td>Today, Jordan’s most ambitious and vital proj...</td>\n      <td>Not relevant</td>\n      <td>1159  Today, Jordan’s most ambitious and vital...</td>\n      <td>1</td>\n      <td>Statement of intent</td>\n    </tr>\n  </tbody>\n</table>\n<p>940 rows × 6 columns</p>\n</div>"
     },
     "execution_count": 49,
     "metadata": {},
     "output_type": "execute_result"
    }
   ],
   "source": [
    "# Define a function to get the most frequent element\n",
    "def most_frequent(x):\n",
    "    return Counter(x).most_common(1)[0][0]\n",
    "\n",
    "# List of all columns\n",
    "all_columns = filtered_B101.columns.tolist()\n",
    "\n",
    "# Dictionary to specify aggregation functions\n",
    "agg_dict = {col: 'first' for col in all_columns if col not in ['unique_id', 'RELEVANCE_y']}\n",
    "agg_dict['RELEVANCE_y'] = most_frequent\n",
    "\n",
    "# Group by 'unique_id' and apply the aggregation functions\n",
    "filtered_B101_grouped = filtered_B101.groupby('unique_id').agg(agg_dict).reset_index()\n",
    "\n",
    "filtered_B101_grouped"
   ],
   "metadata": {
    "collapsed": false,
    "ExecuteTime": {
     "start_time": "2024-06-06T11:53:09.833572Z",
     "end_time": "2024-06-06T11:53:09.896648Z"
    }
   }
  },
  {
   "cell_type": "code",
   "execution_count": 52,
   "outputs": [
    {
     "name": "stdout",
     "output_type": "stream",
     "text": [
      "                     precision    recall  f1-score   support\n",
      "\n",
      "       Not relevant       0.94      0.50      0.65       601\n",
      "           Relevant       0.32      0.81      0.46       170\n",
      "Statement of intent       0.46      0.52      0.49       169\n",
      "\n",
      "           accuracy                           0.56       940\n",
      "          macro avg       0.57      0.61      0.53       940\n",
      "       weighted avg       0.74      0.56      0.59       940\n",
      "\n"
     ]
    }
   ],
   "source": [
    "# Evaluate performance of this dataframe\n",
    "print(classification_report(filtered_B101_grouped['RELEVANCE_x'],filtered_B101_grouped['RELEVANCE_y']))"
   ],
   "metadata": {
    "collapsed": false,
    "ExecuteTime": {
     "start_time": "2024-06-06T11:53:30.358198Z",
     "end_time": "2024-06-06T11:53:30.441172Z"
    }
   }
  },
  {
   "cell_type": "code",
   "execution_count": 53,
   "outputs": [
    {
     "data": {
      "text/plain": "<sklearn.metrics._plot.confusion_matrix.ConfusionMatrixDisplay at 0x1f07a8c3850>"
     },
     "execution_count": 53,
     "metadata": {},
     "output_type": "execute_result"
    },
    {
     "data": {
      "text/plain": "<Figure size 640x480 with 2 Axes>",
      "image/png": "[encoded data removed]"
     },
     "metadata": {},
     "output_type": "display_data"
    }
   ],
   "source": [
    "# Evaluate confusionmatrix for this aggregated set\n",
    "labels = ['not relevant', 'statement of intent', 'relevant']\n",
    "\n",
    "cm = confusion_matrix(filtered_B101_grouped['RELEVANCE_x'],filtered_B101_grouped['RELEVANCE_y'])\n",
    "disp = ConfusionMatrixDisplay(confusion_matrix=cm, display_labels=labels)\n",
    "disp.plot(cmap=plt.cm.Blues)\n"
   ],
   "metadata": {
    "collapsed": false,
    "ExecuteTime": {
     "start_time": "2024-06-06T11:55:08.280627Z",
     "end_time": "2024-06-06T11:55:08.605186Z"
    }
   }
  },
  {
   "cell_type": "markdown",
   "source": [
    "-------------------------------------------------------"
   ],
   "metadata": {
    "collapsed": false
   }
  },
  {
   "cell_type": "markdown",
   "source": [
    "# 3. Results B1.1"
   ],
   "metadata": {
    "collapsed": false
   }
  },
  {
   "cell_type": "markdown",
   "source": [
    "### 1. Import Results\n",
    "Results created under the same fingerprint are saved in a CSV file for each seed. All results are combined into one dataset."
   ],
   "metadata": {
    "collapsed": false
   }
  },
  {
   "cell_type": "code",
   "execution_count": 54,
   "outputs": [],
   "source": [
    "#B1.0\n",
    "path_B11 = 'STRING_RESULT/B1.1/all_iterations'\n",
    "\n",
    "# Open all dataframes\n",
    "S1 = pd.read_csv(f'{path_B11}/all_iterations_string_T0_3644.csv')\n",
    "S2 = pd.read_csv(f'{path_B11}/all_iterations_string_T0_3441.csv')\n",
    "S3 = pd.read_csv(f'{path_B11}/all_iterations_string_T0_280.csv')\n",
    "S4 = pd.read_csv(f'{path_B11}/all_iterations_string_T0_5991.csv')\n",
    "S5 = pd.read_csv(f'{path_B11}/all_iterations_string_T0_7917.csv')\n",
    "\n",
    "# Combine all dataframes into one\n",
    "B11_full = pd.concat([S1, S2, S3, S4, S5], ignore_index=True)"
   ],
   "metadata": {
    "collapsed": false,
    "ExecuteTime": {
     "start_time": "2024-06-06T11:57:23.141312Z",
     "end_time": "2024-06-06T11:57:23.289257Z"
    }
   }
  },
  {
   "cell_type": "code",
   "execution_count": 55,
   "outputs": [
    {
     "data": {
      "text/plain": "(4300, 6)"
     },
     "execution_count": 55,
     "metadata": {},
     "output_type": "execute_result"
    }
   ],
   "source": [
    "# Filter rows to keep only those where the unique_id appears exactly 5 times\n",
    "filtered_B11 = B11_full.groupby('unique_id').filter(lambda x: len(x) == 5)\n",
    "filtered_B11.shape"
   ],
   "metadata": {
    "collapsed": false,
    "ExecuteTime": {
     "start_time": "2024-06-06T11:57:32.455888Z",
     "end_time": "2024-06-06T11:57:32.516922Z"
    }
   }
  },
  {
   "cell_type": "code",
   "execution_count": 56,
   "outputs": [],
   "source": [
    "# List of unique_id's that are annotated 5 times\n",
    "unique_ids = filtered_B11['unique_id'].unique().tolist()"
   ],
   "metadata": {
    "collapsed": false,
    "ExecuteTime": {
     "start_time": "2024-06-06T11:59:05.963118Z",
     "end_time": "2024-06-06T11:59:05.970438Z"
    }
   }
  },
  {
   "cell_type": "code",
   "execution_count": 57,
   "outputs": [],
   "source": [
    "# Filter all original dataframes to only include sentences that are annotated 5x by other seeds\n",
    "FB1S1 = S1[S1['unique_id'].isin(unique_ids)]\n",
    "FB1S2 = S2[S2['unique_id'].isin(unique_ids)]\n",
    "FB1S3 = S3[S3['unique_id'].isin(unique_ids)]\n",
    "FB1S4 = S4[S4['unique_id'].isin(unique_ids)]\n",
    "FB1S5 = S5[S5['unique_id'].isin(unique_ids)]"
   ],
   "metadata": {
    "collapsed": false,
    "ExecuteTime": {
     "start_time": "2024-06-06T11:59:07.542840Z",
     "end_time": "2024-06-06T11:59:07.560270Z"
    }
   }
  },
  {
   "cell_type": "code",
   "execution_count": 58,
   "outputs": [
    {
     "name": "stdout",
     "output_type": "stream",
     "text": [
      "Classification Report for S1\n",
      "                     precision    recall  f1-score     support\n",
      "Not relevant          0.947090  0.615120  0.745833  582.000000\n",
      "Relevant              0.372240  0.808219  0.509719  146.000000\n",
      "Statement of intent   0.430303  0.537879  0.478114  132.000000\n",
      "accuracy              0.636047  0.636047  0.636047    0.636047\n",
      "macro avg             0.583211  0.653739  0.577889  860.000000\n",
      "weighted avg          0.770178  0.636047  0.664657  860.000000\n",
      "\n",
      "\n",
      "Classification Report for S2\n",
      "                     precision    recall  f1-score     support\n",
      "Not relevant          0.942105  0.615120  0.744283  582.000000\n",
      "Relevant              0.375394  0.815068  0.514039  146.000000\n",
      "Statement of intent   0.435583  0.537879  0.481356  132.000000\n",
      "accuracy              0.637209  0.637209  0.637209    0.637209\n",
      "macro avg             0.584361  0.656023  0.579893  860.000000\n",
      "weighted avg          0.768151  0.637209  0.664839  860.000000\n",
      "\n",
      "\n",
      "Classification Report for S3\n",
      "                     precision    recall  f1-score     support\n",
      "Not relevant          0.937500  0.618557  0.745342  582.000000\n",
      "Relevant              0.373418  0.808219  0.510823  146.000000\n",
      "Statement of intent   0.431250  0.522727  0.472603  132.000000\n",
      "accuracy              0.636047  0.636047  0.636047    0.636047\n",
      "macro avg             0.580723  0.649834  0.576256  860.000000\n",
      "weighted avg          0.764034  0.636047  0.663666  860.000000\n",
      "\n",
      "\n",
      "Classification Report for S4\n",
      "                     precision    recall  f1-score     support\n",
      "Not relevant          0.947090  0.615120  0.745833  582.000000\n",
      "Relevant              0.379939  0.856164  0.526316  146.000000\n",
      "Statement of intent   0.457516  0.530303  0.491228  132.000000\n",
      "accuracy              0.643023  0.643023  0.643023    0.643023\n",
      "macro avg             0.594848  0.667196  0.587792  860.000000\n",
      "weighted avg          0.775662  0.643023  0.669487  860.000000\n",
      "\n",
      "\n",
      "Classification Report for S5\n",
      "                     precision    recall  f1-score     support\n",
      "Not relevant          0.944149  0.609966  0.741127  582.000000\n",
      "Relevant              0.370717  0.815068  0.509636  146.000000\n",
      "Statement of intent   0.423313  0.522727  0.467797  132.000000\n",
      "accuracy              0.631395  0.631395  0.631395    0.631395\n",
      "macro avg             0.579393  0.649254  0.572853  860.000000\n",
      "weighted avg          0.766857  0.631395  0.659875  860.000000\n",
      "\n",
      "\n"
     ]
    }
   ],
   "source": [
    "# Evaluate performance of individual seeds for the same sentences\n",
    "# Function to generate classification report for each dataframe\n",
    "def generate_classification_report(df, true_label_col, pred_label_col):\n",
    "    return classification_report(df[true_label_col], df[pred_label_col], output_dict=True)\n",
    "\n",
    "# Generate classification reports\n",
    "report_S1 = generate_classification_report(FB1S1, 'RELEVANCE_x', 'RELEVANCE_y')\n",
    "report_S2 = generate_classification_report(FB1S2, 'RELEVANCE_x', 'RELEVANCE_y')\n",
    "report_S3 = generate_classification_report(FB1S3, 'RELEVANCE_x', 'RELEVANCE_y')\n",
    "report_S4 = generate_classification_report(FB1S4, 'RELEVANCE_x', 'RELEVANCE_y')\n",
    "report_S5 = generate_classification_report(FB1S5, 'RELEVANCE_x', 'RELEVANCE_y')\n",
    "\n",
    "# Function to print the classification reports for easy comparison\n",
    "def print_classification_report(report, title):\n",
    "    print(f\"Classification Report for {title}\")\n",
    "    print(pd.DataFrame(report).transpose())\n",
    "    print(\"\\n\")\n",
    "\n",
    "# Print the classification reports\n",
    "print_classification_report(report_S1, \"S1\")\n",
    "print_classification_report(report_S2, \"S2\")\n",
    "print_classification_report(report_S3, \"S3\")\n",
    "print_classification_report(report_S4, \"S4\")\n",
    "print_classification_report(report_S5, \"S5\")"
   ],
   "metadata": {
    "collapsed": false,
    "ExecuteTime": {
     "start_time": "2024-06-06T11:59:20.837062Z",
     "end_time": "2024-06-06T11:59:20.977294Z"
    }
   }
  },
  {
   "cell_type": "markdown",
   "source": [
    "Evaluate consistency of predictions over the 5 different instances - see which sentences are not consistantly predicted.\n"
   ],
   "metadata": {
    "collapsed": false
   }
  },
  {
   "cell_type": "code",
   "execution_count": 59,
   "outputs": [
    {
     "data": {
      "text/plain": "      unique_id                                               text  \\\n47           47  It is for this reason that Namibia and Africa ...   \n95           95  This green growth Agenda is in line with low e...   \n96           96  In light of the above, I want to inform this g...   \n140         140  Our future generation will proud of us, if we ...   \n145         145  We arenot the masters of nature, but its stewa...   \n...         ...                                                ...   \n5522       1094  In conclusion , let us remember that climate c...   \n5561       1133   Climate Action Jamaica is not merely a specta...   \n5583       1155  This global initiative prioritises climate -re...   \n5592       1164   In other climate action, research at the Aqab...   \n5625       1197  We back the 2050 strategy for the Blue Pacific...   \n\n              RELEVANCE_x                                          llm_query  \\\n47           Not relevant  47 It is for this reason that Namibia and Afri...   \n95           Not relevant  95 This green growth Agenda is in line with lo...   \n96           Not relevant  96 In light of the above, I want to inform thi...   \n140              Relevant  140 Our future generation will proud of us, if...   \n145          Not relevant  145 We arenot the masters of nature, but its s...   \n...                   ...                                                ...   \n5522  Statement of intent  1094 In conclusion , let us remember that clim...   \n5561         Not relevant  1133  Climate Action Jamaica is not merely a s...   \n5583         Not relevant  1155 This global initiative prioritises climat...   \n5592         Not relevant  1164  In other climate action, research at the...   \n5625  Statement of intent  1197 We back the 2050 strategy for the Blue Pa...   \n\n              RELEVANCE_y  iteration  \n47    Statement of intent          1  \n95    Statement of intent          1  \n96               Relevant          1  \n140   Statement of intent          1  \n145              Relevant          1  \n...                   ...        ...  \n5522             Relevant          1  \n5561             Relevant          1  \n5583  Statement of intent          1  \n5592  Statement of intent          1  \n5625             Relevant          1  \n\n[360 rows x 6 columns]",
      "text/html": "<div>\n<style scoped>\n    .dataframe tbody tr th:only-of-type {\n        vertical-align: middle;\n    }\n\n    .dataframe tbody tr th {\n        vertical-align: top;\n    }\n\n    .dataframe thead th {\n        text-align: right;\n    }\n</style>\n<table border=\"1\" class=\"dataframe\">\n  <thead>\n    <tr style=\"text-align: right;\">\n      <th></th>\n      <th>unique_id</th>\n      <th>text</th>\n      <th>RELEVANCE_x</th>\n      <th>llm_query</th>\n      <th>RELEVANCE_y</th>\n      <th>iteration</th>\n    </tr>\n  </thead>\n  <tbody>\n    <tr>\n      <th>47</th>\n      <td>47</td>\n      <td>It is for this reason that Namibia and Africa ...</td>\n      <td>Not relevant</td>\n      <td>47 It is for this reason that Namibia and Afri...</td>\n      <td>Statement of intent</td>\n      <td>1</td>\n    </tr>\n    <tr>\n      <th>95</th>\n      <td>95</td>\n      <td>This green growth Agenda is in line with low e...</td>\n      <td>Not relevant</td>\n      <td>95 This green growth Agenda is in line with lo...</td>\n      <td>Statement of intent</td>\n      <td>1</td>\n    </tr>\n    <tr>\n      <th>96</th>\n      <td>96</td>\n      <td>In light of the above, I want to inform this g...</td>\n      <td>Not relevant</td>\n      <td>96 In light of the above, I want to inform thi...</td>\n      <td>Relevant</td>\n      <td>1</td>\n    </tr>\n    <tr>\n      <th>140</th>\n      <td>140</td>\n      <td>Our future generation will proud of us, if we ...</td>\n      <td>Relevant</td>\n      <td>140 Our future generation will proud of us, if...</td>\n      <td>Statement of intent</td>\n      <td>1</td>\n    </tr>\n    <tr>\n      <th>145</th>\n      <td>145</td>\n      <td>We arenot the masters of nature, but its stewa...</td>\n      <td>Not relevant</td>\n      <td>145 We arenot the masters of nature, but its s...</td>\n      <td>Relevant</td>\n      <td>1</td>\n    </tr>\n    <tr>\n      <th>...</th>\n      <td>...</td>\n      <td>...</td>\n      <td>...</td>\n      <td>...</td>\n      <td>...</td>\n      <td>...</td>\n    </tr>\n    <tr>\n      <th>5522</th>\n      <td>1094</td>\n      <td>In conclusion , let us remember that climate c...</td>\n      <td>Statement of intent</td>\n      <td>1094 In conclusion , let us remember that clim...</td>\n      <td>Relevant</td>\n      <td>1</td>\n    </tr>\n    <tr>\n      <th>5561</th>\n      <td>1133</td>\n      <td>Climate Action Jamaica is not merely a specta...</td>\n      <td>Not relevant</td>\n      <td>1133  Climate Action Jamaica is not merely a s...</td>\n      <td>Relevant</td>\n      <td>1</td>\n    </tr>\n    <tr>\n      <th>5583</th>\n      <td>1155</td>\n      <td>This global initiative prioritises climate -re...</td>\n      <td>Not relevant</td>\n      <td>1155 This global initiative prioritises climat...</td>\n      <td>Statement of intent</td>\n      <td>1</td>\n    </tr>\n    <tr>\n      <th>5592</th>\n      <td>1164</td>\n      <td>In other climate action, research at the Aqab...</td>\n      <td>Not relevant</td>\n      <td>1164  In other climate action, research at the...</td>\n      <td>Statement of intent</td>\n      <td>1</td>\n    </tr>\n    <tr>\n      <th>5625</th>\n      <td>1197</td>\n      <td>We back the 2050 strategy for the Blue Pacific...</td>\n      <td>Statement of intent</td>\n      <td>1197 We back the 2050 strategy for the Blue Pa...</td>\n      <td>Relevant</td>\n      <td>1</td>\n    </tr>\n  </tbody>\n</table>\n<p>360 rows × 6 columns</p>\n</div>"
     },
     "execution_count": 59,
     "metadata": {},
     "output_type": "execute_result"
    }
   ],
   "source": [
    "# I want to evaluate consistency\n",
    "# Print all rows where inconsequences are found per seed\n",
    "# Define a function to check if all values in relevance_y are the same\n",
    "def relevance_y_not_uniform(group):\n",
    "    return group['RELEVANCE_y'].nunique() != 1\n",
    "\n",
    "\n",
    "# Group by 'ID' and filter groups\n",
    "B11_consistency = filtered_B11.groupby('unique_id').filter(relevance_y_not_uniform)\n",
    "\n",
    "B11_consistency"
   ],
   "metadata": {
    "collapsed": false,
    "ExecuteTime": {
     "start_time": "2024-06-06T12:00:19.182782Z",
     "end_time": "2024-06-06T12:00:19.302591Z"
    }
   }
  },
  {
   "cell_type": "markdown",
   "source": [
    "\n",
    "In combined dataframe, groupyby unique ID and take the majority label"
   ],
   "metadata": {
    "collapsed": false
   }
  },
  {
   "cell_type": "code",
   "execution_count": 61,
   "outputs": [
    {
     "data": {
      "text/plain": "     unique_id                                               text  \\\n0           40  Namibia stands side by side with the Philippin...   \n1           41  Namibia extends its warm appreciation to the G...   \n2           42  We look forward to constructively engage and c...   \n3           43  Mr. President, COP19 has come and will soon pass.   \n4           44  It should not only enable us to discuss global...   \n..         ...                                                ...   \n855       1195   We’re also committed to collaborating with ou...   \n856       1196  It is the number one secur ity threat to our r...   \n857       1197  We back the 2050 strategy for the Blue Pacific...   \n858       1198   We recognise that we must deliver on our coll...   \n859       1199                     We have 72 months u ntil 2030.   \n\n             RELEVANCE_x                                          llm_query  \\\n0           Not relevant  40 Namibia stands side by side with the Philip...   \n1           Not relevant  41 Namibia extends its warm appreciation to th...   \n2    Statement of intent  42 We look forward to constructively engage an...   \n3           Not relevant  43 Mr. President, COP19 has come and will soon...   \n4               Relevant  44 It should not only enable us to discuss glo...   \n..                   ...                                                ...   \n855         Not relevant  1195  We’re also committed to collaborating wi...   \n856         Not relevant  1196 It is the number one secur ity threat to ...   \n857  Statement of intent  1197 We back the 2050 strategy for the Blue Pa...   \n858             Relevant  1198  We recognise that we must deliver on our...   \n859         Not relevant            1199   We have 72 months u ntil 2030.\\n   \n\n     iteration          RELEVANCE_y  \n0            1         Not relevant  \n1            1         Not relevant  \n2            1  Statement of intent  \n3            1         Not relevant  \n4            1             Relevant  \n..         ...                  ...  \n855          1  Statement of intent  \n856          1             Relevant  \n857          1             Relevant  \n858          1             Relevant  \n859          1         Not relevant  \n\n[860 rows x 6 columns]",
      "text/html": "<div>\n<style scoped>\n    .dataframe tbody tr th:only-of-type {\n        vertical-align: middle;\n    }\n\n    .dataframe tbody tr th {\n        vertical-align: top;\n    }\n\n    .dataframe thead th {\n        text-align: right;\n    }\n</style>\n<table border=\"1\" class=\"dataframe\">\n  <thead>\n    <tr style=\"text-align: right;\">\n      <th></th>\n      <th>unique_id</th>\n      <th>text</th>\n      <th>RELEVANCE_x</th>\n      <th>llm_query</th>\n      <th>iteration</th>\n      <th>RELEVANCE_y</th>\n    </tr>\n  </thead>\n  <tbody>\n    <tr>\n      <th>0</th>\n      <td>40</td>\n      <td>Namibia stands side by side with the Philippin...</td>\n      <td>Not relevant</td>\n      <td>40 Namibia stands side by side with the Philip...</td>\n      <td>1</td>\n      <td>Not relevant</td>\n    </tr>\n    <tr>\n      <th>1</th>\n      <td>41</td>\n      <td>Namibia extends its warm appreciation to the G...</td>\n      <td>Not relevant</td>\n      <td>41 Namibia extends its warm appreciation to th...</td>\n      <td>1</td>\n      <td>Not relevant</td>\n    </tr>\n    <tr>\n      <th>2</th>\n      <td>42</td>\n      <td>We look forward to constructively engage and c...</td>\n      <td>Statement of intent</td>\n      <td>42 We look forward to constructively engage an...</td>\n      <td>1</td>\n      <td>Statement of intent</td>\n    </tr>\n    <tr>\n      <th>3</th>\n      <td>43</td>\n      <td>Mr. President, COP19 has come and will soon pass.</td>\n      <td>Not relevant</td>\n      <td>43 Mr. President, COP19 has come and will soon...</td>\n      <td>1</td>\n      <td>Not relevant</td>\n    </tr>\n    <tr>\n      <th>4</th>\n      <td>44</td>\n      <td>It should not only enable us to discuss global...</td>\n      <td>Relevant</td>\n      <td>44 It should not only enable us to discuss glo...</td>\n      <td>1</td>\n      <td>Relevant</td>\n    </tr>\n    <tr>\n      <th>...</th>\n      <td>...</td>\n      <td>...</td>\n      <td>...</td>\n      <td>...</td>\n      <td>...</td>\n      <td>...</td>\n    </tr>\n    <tr>\n      <th>855</th>\n      <td>1195</td>\n      <td>We’re also committed to collaborating with ou...</td>\n      <td>Not relevant</td>\n      <td>1195  We’re also committed to collaborating wi...</td>\n      <td>1</td>\n      <td>Statement of intent</td>\n    </tr>\n    <tr>\n      <th>856</th>\n      <td>1196</td>\n      <td>It is the number one secur ity threat to our r...</td>\n      <td>Not relevant</td>\n      <td>1196 It is the number one secur ity threat to ...</td>\n      <td>1</td>\n      <td>Relevant</td>\n    </tr>\n    <tr>\n      <th>857</th>\n      <td>1197</td>\n      <td>We back the 2050 strategy for the Blue Pacific...</td>\n      <td>Statement of intent</td>\n      <td>1197 We back the 2050 strategy for the Blue Pa...</td>\n      <td>1</td>\n      <td>Relevant</td>\n    </tr>\n    <tr>\n      <th>858</th>\n      <td>1198</td>\n      <td>We recognise that we must deliver on our coll...</td>\n      <td>Relevant</td>\n      <td>1198  We recognise that we must deliver on our...</td>\n      <td>1</td>\n      <td>Relevant</td>\n    </tr>\n    <tr>\n      <th>859</th>\n      <td>1199</td>\n      <td>We have 72 months u ntil 2030.</td>\n      <td>Not relevant</td>\n      <td>1199   We have 72 months u ntil 2030.\\n</td>\n      <td>1</td>\n      <td>Not relevant</td>\n    </tr>\n  </tbody>\n</table>\n<p>860 rows × 6 columns</p>\n</div>"
     },
     "execution_count": 61,
     "metadata": {},
     "output_type": "execute_result"
    }
   ],
   "source": [
    "# Define a function to get the most frequent element\n",
    "def most_frequent(x):\n",
    "    return Counter(x).most_common(1)[0][0]\n",
    "\n",
    "# List of all columns\n",
    "all_columns = filtered_B11.columns.tolist()\n",
    "\n",
    "# Dictionary to specify aggregation functions\n",
    "agg_dict = {col: 'first' for col in all_columns if col not in ['unique_id', 'RELEVANCE_y']}\n",
    "agg_dict['RELEVANCE_y'] = most_frequent\n",
    "\n",
    "# Group by 'unique_id' and apply the aggregation functions\n",
    "filtered_B11_grouped = filtered_B11.groupby('unique_id').agg(agg_dict).reset_index()\n",
    "\n",
    "filtered_B11_grouped"
   ],
   "metadata": {
    "collapsed": false,
    "ExecuteTime": {
     "start_time": "2024-06-06T12:01:41.144230Z",
     "end_time": "2024-06-06T12:01:41.205246Z"
    }
   }
  },
  {
   "cell_type": "code",
   "execution_count": 63,
   "outputs": [
    {
     "name": "stdout",
     "output_type": "stream",
     "text": [
      "                     precision    recall  f1-score   support\n",
      "\n",
      "       Not relevant       0.94      0.61      0.74       582\n",
      "           Relevant       0.37      0.82      0.51       146\n",
      "Statement of intent       0.43      0.52      0.47       132\n",
      "\n",
      "           accuracy                           0.63       860\n",
      "          macro avg       0.58      0.65      0.57       860\n",
      "       weighted avg       0.77      0.63      0.66       860\n",
      "\n"
     ]
    }
   ],
   "source": [
    "# Evaluate performance of this dataframe\n",
    "print(classification_report(filtered_B11_grouped['RELEVANCE_x'],filtered_B11_grouped['RELEVANCE_y']))"
   ],
   "metadata": {
    "collapsed": false,
    "ExecuteTime": {
     "start_time": "2024-06-06T12:01:51.894823Z",
     "end_time": "2024-06-06T12:01:51.935485Z"
    }
   }
  },
  {
   "cell_type": "code",
   "execution_count": 64,
   "outputs": [
    {
     "data": {
      "text/plain": "<sklearn.metrics._plot.confusion_matrix.ConfusionMatrixDisplay at 0x1f07880ac10>"
     },
     "execution_count": 64,
     "metadata": {},
     "output_type": "execute_result"
    },
    {
     "data": {
      "text/plain": "<Figure size 640x480 with 2 Axes>",
      "image/png": "[encoded data removed]"
     },
     "metadata": {},
     "output_type": "display_data"
    }
   ],
   "source": [
    "# Evaluate confusionmatrix for this aggregated set\n",
    "labels = ['not relevant', 'statement of intent', 'relevant']\n",
    "\n",
    "cm = confusion_matrix(filtered_B11_grouped['RELEVANCE_x'],filtered_B11_grouped['RELEVANCE_y'])\n",
    "disp = ConfusionMatrixDisplay(confusion_matrix=cm, display_labels=labels)\n",
    "disp.plot(cmap=plt.cm.Blues)\n"
   ],
   "metadata": {
    "collapsed": false,
    "ExecuteTime": {
     "start_time": "2024-06-06T12:03:44.387477Z",
     "end_time": "2024-06-06T12:03:44.701408Z"
    }
   }
  },
  {
   "cell_type": "markdown",
   "source": [
    "-------------------------------------------------------"
   ],
   "metadata": {
    "collapsed": false
   }
  },
  {
   "cell_type": "markdown",
   "source": [
    "# 4. Results B1.1.1"
   ],
   "metadata": {
    "collapsed": false
   }
  },
  {
   "cell_type": "markdown",
   "source": [
    "### 1. Import Results\n",
    "Results created under the same fingerprint are saved in a CSV file for each seed. All results are combined into one dataset."
   ],
   "metadata": {
    "collapsed": false
   }
  },
  {
   "cell_type": "code",
   "execution_count": 65,
   "outputs": [],
   "source": [
    "#B1.0\n",
    "path_B111 = 'STRING_RESULT/B1.1.1/all_iterations'\n",
    "\n",
    "# Open all dataframes\n",
    "S1 = pd.read_csv(f'{path_B111}/all_iterations_string_T0_3644.csv')\n",
    "S2 = pd.read_csv(f'{path_B111}/all_iterations_string_T0_3441.csv')\n",
    "S3 = pd.read_csv(f'{path_B111}/all_iterations_string_T0_280.csv')\n",
    "S4 = pd.read_csv(f'{path_B111}/all_iterations_string_T0_5991.csv')\n",
    "S5 = pd.read_csv(f'{path_B111}/all_iterations_string_T0_7917.csv')\n",
    "\n",
    "# Combine all dataframes into one\n",
    "B111_full = pd.concat([S1, S2, S3, S4, S5], ignore_index=True)"
   ],
   "metadata": {
    "collapsed": false,
    "ExecuteTime": {
     "start_time": "2024-06-06T12:05:19.640811Z",
     "end_time": "2024-06-06T12:05:19.816476Z"
    }
   }
  },
  {
   "cell_type": "code",
   "execution_count": 66,
   "outputs": [
    {
     "data": {
      "text/plain": "(4760, 6)"
     },
     "execution_count": 66,
     "metadata": {},
     "output_type": "execute_result"
    }
   ],
   "source": [
    "# Filter rows to keep only those where the unique_id appears exactly 5 times\n",
    "filtered_B111 = B111_full.groupby('unique_id').filter(lambda x: len(x) == 5)\n",
    "filtered_B111.shape"
   ],
   "metadata": {
    "collapsed": false,
    "ExecuteTime": {
     "start_time": "2024-06-06T12:05:21.379226Z",
     "end_time": "2024-06-06T12:05:21.429725Z"
    }
   }
  },
  {
   "cell_type": "code",
   "execution_count": 67,
   "outputs": [],
   "source": [
    "# List of unique_id's that are annotated 5 times\n",
    "unique_ids = filtered_B111['unique_id'].unique().tolist()"
   ],
   "metadata": {
    "collapsed": false,
    "ExecuteTime": {
     "start_time": "2024-06-06T12:05:50.459337Z",
     "end_time": "2024-06-06T12:05:50.518032Z"
    }
   }
  },
  {
   "cell_type": "code",
   "execution_count": 68,
   "outputs": [],
   "source": [
    "# Filter all original dataframes to only include sentences that are annotated 5x by other seeds\n",
    "FB1S1 = S1[S1['unique_id'].isin(unique_ids)]\n",
    "FB1S2 = S2[S2['unique_id'].isin(unique_ids)]\n",
    "FB1S3 = S3[S3['unique_id'].isin(unique_ids)]\n",
    "FB1S4 = S4[S4['unique_id'].isin(unique_ids)]\n",
    "FB1S5 = S5[S5['unique_id'].isin(unique_ids)]"
   ],
   "metadata": {
    "collapsed": false,
    "ExecuteTime": {
     "start_time": "2024-06-06T12:05:52.557456Z",
     "end_time": "2024-06-06T12:05:52.596112Z"
    }
   }
  },
  {
   "cell_type": "code",
   "execution_count": 69,
   "outputs": [
    {
     "name": "stdout",
     "output_type": "stream",
     "text": [
      "Classification Report for S1\n",
      "                     precision    recall  f1-score     support\n",
      "Not relevant          0.938830  0.575856  0.713852  613.000000\n",
      "Relevant              0.343832  0.808642  0.482505  162.000000\n",
      "Statement of intent   0.492308  0.542373  0.516129  177.000000\n",
      "accuracy              0.609244  0.609244  0.609244    0.609244\n",
      "macro avg             0.591657  0.642290  0.570829  952.000000\n",
      "weighted avg          0.754561  0.609244  0.637723  952.000000\n",
      "\n",
      "\n",
      "Classification Report for S2\n",
      "                     precision    recall  f1-score     support\n",
      "Not relevant          0.939633  0.584013  0.720322  613.000000\n",
      "Relevant              0.352332  0.839506  0.496350  162.000000\n",
      "Statement of intent   0.497297  0.519774  0.508287  177.000000\n",
      "accuracy              0.615546  0.615546  0.615546    0.615546\n",
      "macro avg             0.596420  0.647764  0.574987  952.000000\n",
      "weighted avg          0.757452  0.615546  0.642787  952.000000\n",
      "\n",
      "\n",
      "Classification Report for S3\n",
      "                     precision    recall  f1-score     support\n",
      "Not relevant          0.941176  0.574225  0.713273  613.000000\n",
      "Relevant              0.350254  0.851852  0.496403  162.000000\n",
      "Statement of intent   0.516304  0.536723  0.526316  177.000000\n",
      "accuracy              0.614496  0.614496  0.614496    0.614496\n",
      "macro avg             0.602578  0.654267  0.578664  952.000000\n",
      "weighted avg          0.761626  0.614496  0.641608  952.000000\n",
      "\n",
      "\n",
      "Classification Report for S4\n",
      "                     precision    recall  f1-score     support\n",
      "Not relevant          0.945026  0.588907  0.725628  613.000000\n",
      "Relevant              0.352000  0.814815  0.491620  162.000000\n",
      "Statement of intent   0.492308  0.542373  0.516129  177.000000\n",
      "accuracy              0.618697  0.618697  0.618697    0.618697\n",
      "macro avg             0.596445  0.648698  0.577792  952.000000\n",
      "weighted avg          0.759941  0.618697  0.646856  952.000000\n",
      "\n",
      "\n",
      "Classification Report for S5\n",
      "                     precision    recall  f1-score     support\n",
      "Not relevant          0.944444  0.582382  0.720484  613.000000\n",
      "Relevant              0.345013  0.790123  0.480300  162.000000\n",
      "Statement of intent   0.482759  0.553672  0.515789  177.000000\n",
      "accuracy              0.612395  0.612395  0.612395    0.612395\n",
      "macro avg             0.590739  0.642059  0.572191  952.000000\n",
      "weighted avg          0.756602  0.612395  0.641555  952.000000\n",
      "\n",
      "\n"
     ]
    }
   ],
   "source": [
    "# Evaluate performance of individual seeds for the same sentences\n",
    "# Function to generate classification report for each dataframe\n",
    "def generate_classification_report(df, true_label_col, pred_label_col):\n",
    "    return classification_report(df[true_label_col], df[pred_label_col], output_dict=True)\n",
    "\n",
    "# Generate classification reports\n",
    "report_S1 = generate_classification_report(FB1S1, 'RELEVANCE_x', 'RELEVANCE_y')\n",
    "report_S2 = generate_classification_report(FB1S2, 'RELEVANCE_x', 'RELEVANCE_y')\n",
    "report_S3 = generate_classification_report(FB1S3, 'RELEVANCE_x', 'RELEVANCE_y')\n",
    "report_S4 = generate_classification_report(FB1S4, 'RELEVANCE_x', 'RELEVANCE_y')\n",
    "report_S5 = generate_classification_report(FB1S5, 'RELEVANCE_x', 'RELEVANCE_y')\n",
    "\n",
    "# Function to print the classification reports for easy comparison\n",
    "def print_classification_report(report, title):\n",
    "    print(f\"Classification Report for {title}\")\n",
    "    print(pd.DataFrame(report).transpose())\n",
    "    print(\"\\n\")\n",
    "\n",
    "# Print the classification reports\n",
    "print_classification_report(report_S1, \"S1\")\n",
    "print_classification_report(report_S2, \"S2\")\n",
    "print_classification_report(report_S3, \"S3\")\n",
    "print_classification_report(report_S4, \"S4\")\n",
    "print_classification_report(report_S5, \"S5\")"
   ],
   "metadata": {
    "collapsed": false,
    "ExecuteTime": {
     "start_time": "2024-06-06T12:05:59.583057Z",
     "end_time": "2024-06-06T12:05:59.726788Z"
    }
   }
  },
  {
   "cell_type": "markdown",
   "source": [
    "Evaluate consistency of predictions over the 5 different instances - see which sentences are not consistantly predicted.\n"
   ],
   "metadata": {
    "collapsed": false
   }
  },
  {
   "cell_type": "code",
   "execution_count": 70,
   "outputs": [
    {
     "data": {
      "text/plain": "      unique_id                                               text  \\\n15           15               This is a target for the time being.   \n28           28   In this context, Japan’s public and private s...   \n32           32   We will provide support to developing countri...   \n105         125  We urge, all parties here in Warsaw to take de...   \n107         127  In addition, all parties need to reaffirm thei...   \n...         ...                                                ...   \n5735       1187  And we are bracing ourselves for more fires th...   \n5738       1190   New Zealand has an ambitious NDC to reduce ne...   \n5739       1191  We are committed to achieving this, and our 20...   \n5748       1200    This is the time to move from words to action .   \n5749       1201                    And COP28 is our moment to act.   \n\n              RELEVANCE_x                                          llm_query  \\\n15           Not relevant         15  This is a target for the time being.\\n   \n28    Statement of intent  28  In this context, Japan’s public and privat...   \n32    Statement of intent  32  We will provide support to developing coun...   \n105              Relevant  125 We urge, all parties here in Warsaw to tak...   \n107   Statement of intent  127 In addition, all parties need to reaffirm ...   \n...                   ...                                                ...   \n5735         Not relevant  1187 And we are bracing ourselves for more fir...   \n5738         Not relevant  1190  New Zealand has an ambitious NDC to redu...   \n5739  Statement of intent  1191 We are committed to achieving this, and o...   \n5748         Not relevant  1200 This is the time to move from words to ac...   \n5749         Not relevant             1201 And COP28 is our moment to act.\\n   \n\n              RELEVANCE_y  iteration  \n15    Statement of intent          1  \n28           Not relevant          1  \n32    Statement of intent          1  \n105              Relevant          1  \n107   Statement of intent          1  \n...                   ...        ...  \n5735             Relevant          1  \n5738  Statement of intent          1  \n5739  Statement of intent          1  \n5748  Statement of intent          1  \n5749  Statement of intent          1  \n\n[590 rows x 6 columns]",
      "text/html": "<div>\n<style scoped>\n    .dataframe tbody tr th:only-of-type {\n        vertical-align: middle;\n    }\n\n    .dataframe tbody tr th {\n        vertical-align: top;\n    }\n\n    .dataframe thead th {\n        text-align: right;\n    }\n</style>\n<table border=\"1\" class=\"dataframe\">\n  <thead>\n    <tr style=\"text-align: right;\">\n      <th></th>\n      <th>unique_id</th>\n      <th>text</th>\n      <th>RELEVANCE_x</th>\n      <th>llm_query</th>\n      <th>RELEVANCE_y</th>\n      <th>iteration</th>\n    </tr>\n  </thead>\n  <tbody>\n    <tr>\n      <th>15</th>\n      <td>15</td>\n      <td>This is a target for the time being.</td>\n      <td>Not relevant</td>\n      <td>15  This is a target for the time being.\\n</td>\n      <td>Statement of intent</td>\n      <td>1</td>\n    </tr>\n    <tr>\n      <th>28</th>\n      <td>28</td>\n      <td>In this context, Japan’s public and private s...</td>\n      <td>Statement of intent</td>\n      <td>28  In this context, Japan’s public and privat...</td>\n      <td>Not relevant</td>\n      <td>1</td>\n    </tr>\n    <tr>\n      <th>32</th>\n      <td>32</td>\n      <td>We will provide support to developing countri...</td>\n      <td>Statement of intent</td>\n      <td>32  We will provide support to developing coun...</td>\n      <td>Statement of intent</td>\n      <td>1</td>\n    </tr>\n    <tr>\n      <th>105</th>\n      <td>125</td>\n      <td>We urge, all parties here in Warsaw to take de...</td>\n      <td>Relevant</td>\n      <td>125 We urge, all parties here in Warsaw to tak...</td>\n      <td>Relevant</td>\n      <td>1</td>\n    </tr>\n    <tr>\n      <th>107</th>\n      <td>127</td>\n      <td>In addition, all parties need to reaffirm thei...</td>\n      <td>Statement of intent</td>\n      <td>127 In addition, all parties need to reaffirm ...</td>\n      <td>Statement of intent</td>\n      <td>1</td>\n    </tr>\n    <tr>\n      <th>...</th>\n      <td>...</td>\n      <td>...</td>\n      <td>...</td>\n      <td>...</td>\n      <td>...</td>\n      <td>...</td>\n    </tr>\n    <tr>\n      <th>5735</th>\n      <td>1187</td>\n      <td>And we are bracing ourselves for more fires th...</td>\n      <td>Not relevant</td>\n      <td>1187 And we are bracing ourselves for more fir...</td>\n      <td>Relevant</td>\n      <td>1</td>\n    </tr>\n    <tr>\n      <th>5738</th>\n      <td>1190</td>\n      <td>New Zealand has an ambitious NDC to reduce ne...</td>\n      <td>Not relevant</td>\n      <td>1190  New Zealand has an ambitious NDC to redu...</td>\n      <td>Statement of intent</td>\n      <td>1</td>\n    </tr>\n    <tr>\n      <th>5739</th>\n      <td>1191</td>\n      <td>We are committed to achieving this, and our 20...</td>\n      <td>Statement of intent</td>\n      <td>1191 We are committed to achieving this, and o...</td>\n      <td>Statement of intent</td>\n      <td>1</td>\n    </tr>\n    <tr>\n      <th>5748</th>\n      <td>1200</td>\n      <td>This is the time to move from words to action .</td>\n      <td>Not relevant</td>\n      <td>1200 This is the time to move from words to ac...</td>\n      <td>Statement of intent</td>\n      <td>1</td>\n    </tr>\n    <tr>\n      <th>5749</th>\n      <td>1201</td>\n      <td>And COP28 is our moment to act.</td>\n      <td>Not relevant</td>\n      <td>1201 And COP28 is our moment to act.\\n</td>\n      <td>Statement of intent</td>\n      <td>1</td>\n    </tr>\n  </tbody>\n</table>\n<p>590 rows × 6 columns</p>\n</div>"
     },
     "execution_count": 70,
     "metadata": {},
     "output_type": "execute_result"
    }
   ],
   "source": [
    "# I want to evaluate consistency\n",
    "# Print all rows where inconsequences are found per seed\n",
    "# Define a function to check if all values in relevance_y are the same\n",
    "def relevance_y_not_uniform(group):\n",
    "    return group['RELEVANCE_y'].nunique() != 1\n",
    "\n",
    "\n",
    "# Group by 'ID' and filter groups\n",
    "B111_consistency = filtered_B111.groupby('unique_id').filter(relevance_y_not_uniform)\n",
    "\n",
    "B111_consistency"
   ],
   "metadata": {
    "collapsed": false,
    "ExecuteTime": {
     "start_time": "2024-06-06T12:06:23.769593Z",
     "end_time": "2024-06-06T12:06:23.896875Z"
    }
   }
  },
  {
   "cell_type": "markdown",
   "source": [
    "\n",
    "In combined dataframe, groupyby unique ID and take the majority label"
   ],
   "metadata": {
    "collapsed": false
   }
  },
  {
   "cell_type": "code",
   "execution_count": 72,
   "outputs": [
    {
     "data": {
      "text/plain": "     unique_id                                               text  \\\n0            0                         Thank you, Mr. President .   \n1            1   On beha lf of the government of Japan , I wou...   \n2            2   I would also like to expr ess my d eepest con...   \n3            3   Mr. President:  A fair and effective framewor...   \n4            4   In this regard, Japan firmly supports the est...   \n..         ...                                                ...   \n947       1207   New Zealand is proud to suppor t several impo...   \n948       1208  I am joined by New Zealand’s largest business,...   \n949       1209  The commitment o f New Zealanders from across ...   \n950       1210                            Thank you Mr President.   \n951       1211                                          Kia Kaha    \n\n             RELEVANCE_x                                          llm_query  \\\n0           Not relevant                    0  Thank you, Mr. President .\\n   \n1           Not relevant  1  On beha lf of the government of Japan , I w...   \n2           Not relevant  2  I would also like to expr ess my d eepest c...   \n3               Relevant  3  Mr. President:  A fair and effective framew...   \n4    Statement of intent  4  In this regard, Japan firmly supports the e...   \n..                   ...                                                ...   \n947         Not relevant  1207  New Zealand is proud to suppor t several...   \n948         Not relevant  1208 I am joined by New Zealand’s largest busi...   \n949         Not relevant  1209 The commitment o f New Zealanders from ac...   \n950         Not relevant                    1210  Thank you Mr President.\\n   \n951         Not relevant                                   1211 Kia Kaha \\n   \n\n     iteration          RELEVANCE_y  \n0            1         Not relevant  \n1            1         Not relevant  \n2            1         Not relevant  \n3            1             Relevant  \n4            1  Statement of intent  \n..         ...                  ...  \n947          1         Not relevant  \n948          1         Not relevant  \n949          1         Not relevant  \n950          1         Not relevant  \n951          1         Not relevant  \n\n[952 rows x 6 columns]",
      "text/html": "<div>\n<style scoped>\n    .dataframe tbody tr th:only-of-type {\n        vertical-align: middle;\n    }\n\n    .dataframe tbody tr th {\n        vertical-align: top;\n    }\n\n    .dataframe thead th {\n        text-align: right;\n    }\n</style>\n<table border=\"1\" class=\"dataframe\">\n  <thead>\n    <tr style=\"text-align: right;\">\n      <th></th>\n      <th>unique_id</th>\n      <th>text</th>\n      <th>RELEVANCE_x</th>\n      <th>llm_query</th>\n      <th>iteration</th>\n      <th>RELEVANCE_y</th>\n    </tr>\n  </thead>\n  <tbody>\n    <tr>\n      <th>0</th>\n      <td>0</td>\n      <td>Thank you, Mr. President .</td>\n      <td>Not relevant</td>\n      <td>0  Thank you, Mr. President .\\n</td>\n      <td>1</td>\n      <td>Not relevant</td>\n    </tr>\n    <tr>\n      <th>1</th>\n      <td>1</td>\n      <td>On beha lf of the government of Japan , I wou...</td>\n      <td>Not relevant</td>\n      <td>1  On beha lf of the government of Japan , I w...</td>\n      <td>1</td>\n      <td>Not relevant</td>\n    </tr>\n    <tr>\n      <th>2</th>\n      <td>2</td>\n      <td>I would also like to expr ess my d eepest con...</td>\n      <td>Not relevant</td>\n      <td>2  I would also like to expr ess my d eepest c...</td>\n      <td>1</td>\n      <td>Not relevant</td>\n    </tr>\n    <tr>\n      <th>3</th>\n      <td>3</td>\n      <td>Mr. President:  A fair and effective framewor...</td>\n      <td>Relevant</td>\n      <td>3  Mr. President:  A fair and effective framew...</td>\n      <td>1</td>\n      <td>Relevant</td>\n    </tr>\n    <tr>\n      <th>4</th>\n      <td>4</td>\n      <td>In this regard, Japan firmly supports the est...</td>\n      <td>Statement of intent</td>\n      <td>4  In this regard, Japan firmly supports the e...</td>\n      <td>1</td>\n      <td>Statement of intent</td>\n    </tr>\n    <tr>\n      <th>...</th>\n      <td>...</td>\n      <td>...</td>\n      <td>...</td>\n      <td>...</td>\n      <td>...</td>\n      <td>...</td>\n    </tr>\n    <tr>\n      <th>947</th>\n      <td>1207</td>\n      <td>New Zealand is proud to suppor t several impo...</td>\n      <td>Not relevant</td>\n      <td>1207  New Zealand is proud to suppor t several...</td>\n      <td>1</td>\n      <td>Not relevant</td>\n    </tr>\n    <tr>\n      <th>948</th>\n      <td>1208</td>\n      <td>I am joined by New Zealand’s largest business,...</td>\n      <td>Not relevant</td>\n      <td>1208 I am joined by New Zealand’s largest busi...</td>\n      <td>1</td>\n      <td>Not relevant</td>\n    </tr>\n    <tr>\n      <th>949</th>\n      <td>1209</td>\n      <td>The commitment o f New Zealanders from across ...</td>\n      <td>Not relevant</td>\n      <td>1209 The commitment o f New Zealanders from ac...</td>\n      <td>1</td>\n      <td>Not relevant</td>\n    </tr>\n    <tr>\n      <th>950</th>\n      <td>1210</td>\n      <td>Thank you Mr President.</td>\n      <td>Not relevant</td>\n      <td>1210  Thank you Mr President.\\n</td>\n      <td>1</td>\n      <td>Not relevant</td>\n    </tr>\n    <tr>\n      <th>951</th>\n      <td>1211</td>\n      <td>Kia Kaha</td>\n      <td>Not relevant</td>\n      <td>1211 Kia Kaha \\n</td>\n      <td>1</td>\n      <td>Not relevant</td>\n    </tr>\n  </tbody>\n</table>\n<p>952 rows × 6 columns</p>\n</div>"
     },
     "execution_count": 72,
     "metadata": {},
     "output_type": "execute_result"
    }
   ],
   "source": [
    "# Define a function to get the most frequent element\n",
    "def most_frequent(x):\n",
    "    return Counter(x).most_common(1)[0][0]\n",
    "\n",
    "# List of all columns\n",
    "all_columns = filtered_B111.columns.tolist()\n",
    "\n",
    "# Dictionary to specify aggregation functions\n",
    "agg_dict = {col: 'first' for col in all_columns if col not in ['unique_id', 'RELEVANCE_y']}\n",
    "agg_dict['RELEVANCE_y'] = most_frequent\n",
    "\n",
    "# Group by 'unique_id' and apply the aggregation functions\n",
    "filtered_B111_grouped = filtered_B111.groupby('unique_id').agg(agg_dict).reset_index()\n",
    "\n",
    "filtered_B111_grouped"
   ],
   "metadata": {
    "collapsed": false,
    "ExecuteTime": {
     "start_time": "2024-06-06T12:07:41.301929Z",
     "end_time": "2024-06-06T12:07:41.356718Z"
    }
   }
  },
  {
   "cell_type": "code",
   "execution_count": 73,
   "outputs": [
    {
     "name": "stdout",
     "output_type": "stream",
     "text": [
      "                     precision    recall  f1-score   support\n",
      "\n",
      "       Not relevant       0.94      0.58      0.72       613\n",
      "           Relevant       0.35      0.84      0.49       162\n",
      "Statement of intent       0.51      0.54      0.53       177\n",
      "\n",
      "           accuracy                           0.62       952\n",
      "          macro avg       0.60      0.65      0.58       952\n",
      "       weighted avg       0.76      0.62      0.64       952\n",
      "\n"
     ]
    }
   ],
   "source": [
    "# Evaluate performance of this dataframe\n",
    "print(classification_report(filtered_B111_grouped['RELEVANCE_x'],filtered_B111_grouped['RELEVANCE_y']))"
   ],
   "metadata": {
    "collapsed": false,
    "ExecuteTime": {
     "start_time": "2024-06-06T12:07:48.455803Z",
     "end_time": "2024-06-06T12:07:48.521410Z"
    }
   }
  },
  {
   "cell_type": "code",
   "execution_count": 74,
   "outputs": [
    {
     "data": {
      "text/plain": "<sklearn.metrics._plot.confusion_matrix.ConfusionMatrixDisplay at 0x1f07db38dd0>"
     },
     "execution_count": 74,
     "metadata": {},
     "output_type": "execute_result"
    },
    {
     "data": {
      "text/plain": "<Figure size 640x480 with 2 Axes>",
      "image/png": "[encoded data removed]"
     },
     "metadata": {},
     "output_type": "display_data"
    }
   ],
   "source": [
    "# Evaluate confusionmatrix for this aggregated set\n",
    "labels = ['not relevant', 'statement of intent', 'relevant']\n",
    "\n",
    "cm = confusion_matrix(filtered_B111_grouped['RELEVANCE_x'],filtered_B111_grouped['RELEVANCE_y'])\n",
    "disp = ConfusionMatrixDisplay(confusion_matrix=cm, display_labels=labels)\n",
    "disp.plot(cmap=plt.cm.Blues)\n"
   ],
   "metadata": {
    "collapsed": false,
    "ExecuteTime": {
     "start_time": "2024-06-06T12:10:03.653514Z",
     "end_time": "2024-06-06T12:10:04.067886Z"
    }
   }
  }
 ],
 "metadata": {
  "kernelspec": {
   "display_name": "Python 3",
   "language": "python",
   "name": "python3"
  },
  "language_info": {
   "codemirror_mode": {
    "name": "ipython",
    "version": 2
   },
   "file_extension": ".py",
   "mimetype": "text/x-python",
   "name": "python",
   "nbconvert_exporter": "python",
   "pygments_lexer": "ipython2",
   "version": "2.7.6"
  }
 },
 "nbformat": 4,
 "nbformat_minor": 0
}
