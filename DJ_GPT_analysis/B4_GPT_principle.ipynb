{
 "cells": [
  {
   "cell_type": "code",
   "execution_count": 1,
   "metadata": {
    "collapsed": true,
    "ExecuteTime": {
     "start_time": "2024-06-07T19:16:27.006191Z",
     "end_time": "2024-06-07T19:16:27.012558Z"
    }
   },
   "outputs": [],
   "source": [
    "import numpy as np\n",
    "import pandas as pd\n",
    "import os\n",
    "import re\n",
    "import matplotlib.pyplot as plt\n",
    "import seaborn as sns\n",
    "import difflib"
   ]
  },
  {
   "cell_type": "markdown",
   "source": [
    "## Notebook to annotate HLS speeches for principles, topic, unit, shape\n",
    "### B: string-based labels\n",
    "\n",
    "Codebooks:\n",
    "- B4.0\n",
    "\n",
    "Apply on full string-based dataset\n",
    "Temperature: 0\n",
    "Iterations: 1\n",
    "\n",
    "Model selection:\n",
    " As of 22-05-2024, gpt-4-turbo-2024-04-09 seems to be the only gpt-model that returns a fingerprint in addition to gpt-4o\n",
    "\n",
    "  #model= \"gpt-4-turbo-2024-04-09\"\n",
    "  #model = \"gpt-3.5-turbo-0125\"\n"
   ],
   "metadata": {
    "collapsed": false
   }
  },
  {
   "cell_type": "markdown",
   "source": [
    "### 1. Import text to annotate\n",
    "Select only relevant columns of the full dataframe, in this case:\n",
    "PRINCIPLE"
   ],
   "metadata": {
    "collapsed": false
   }
  },
  {
   "cell_type": "code",
   "execution_count": 2,
   "outputs": [],
   "source": [
    "# Import string based datafile\n",
    "HLS_train = pd.read_csv('data/string/HLS_train_string.csv')"
   ],
   "metadata": {
    "collapsed": false,
    "ExecuteTime": {
     "start_time": "2024-06-07T19:16:50.700549Z",
     "end_time": "2024-06-07T19:16:50.774449Z"
    }
   }
  },
  {
   "cell_type": "code",
   "execution_count": 4,
   "outputs": [
    {
     "data": {
      "text/plain": "                                                   Text      PRINCIPLE  \\\n0                            Thank you, Mr. President .  not evaluated   \n1      On beha lf of the government of Japan , I wou...  not evaluated   \n2      I would also like to expr ess my d eepest con...  not evaluated   \n3      Mr. President:  A fair and effective framewor...    utilitarian   \n4      In this regard, Japan firmly supports the est...  not evaluated   \n...                                                 ...            ...   \n1207   New Zealand is proud to suppor t several impo...  not evaluated   \n1208  I am joined by New Zealand’s largest business,...  not evaluated   \n1209  The commitment o f New Zealanders from across ...  not evaluated   \n1210                            Thank you Mr President.  not evaluated   \n1211                                          Kia Kaha   not evaluated   \n\n                  TOPIC            UNIT          SHAPE  \n0         not evaluated   not evaluated  not evaluated  \n1         not evaluated   not evaluated  not evaluated  \n2         not evaluated   not evaluated  not evaluated  \n3     new UNFCCC policy  responsibility       equality  \n4         not evaluated   not evaluated  not evaluated  \n...                 ...             ...            ...  \n1207      not evaluated   not evaluated  not evaluated  \n1208      not evaluated   not evaluated  not evaluated  \n1209      not evaluated   not evaluated  not evaluated  \n1210      not evaluated   not evaluated  not evaluated  \n1211      not evaluated   not evaluated  not evaluated  \n\n[1212 rows x 5 columns]",
      "text/html": "<div>\n<style scoped>\n    .dataframe tbody tr th:only-of-type {\n        vertical-align: middle;\n    }\n\n    .dataframe tbody tr th {\n        vertical-align: top;\n    }\n\n    .dataframe thead th {\n        text-align: right;\n    }\n</style>\n<table border=\"1\" class=\"dataframe\">\n  <thead>\n    <tr style=\"text-align: right;\">\n      <th></th>\n      <th>Text</th>\n      <th>PRINCIPLE</th>\n      <th>TOPIC</th>\n      <th>UNIT</th>\n      <th>SHAPE</th>\n    </tr>\n  </thead>\n  <tbody>\n    <tr>\n      <th>0</th>\n      <td>Thank you, Mr. President .</td>\n      <td>not evaluated</td>\n      <td>not evaluated</td>\n      <td>not evaluated</td>\n      <td>not evaluated</td>\n    </tr>\n    <tr>\n      <th>1</th>\n      <td>On beha lf of the government of Japan , I wou...</td>\n      <td>not evaluated</td>\n      <td>not evaluated</td>\n      <td>not evaluated</td>\n      <td>not evaluated</td>\n    </tr>\n    <tr>\n      <th>2</th>\n      <td>I would also like to expr ess my d eepest con...</td>\n      <td>not evaluated</td>\n      <td>not evaluated</td>\n      <td>not evaluated</td>\n      <td>not evaluated</td>\n    </tr>\n    <tr>\n      <th>3</th>\n      <td>Mr. President:  A fair and effective framewor...</td>\n      <td>utilitarian</td>\n      <td>new UNFCCC policy</td>\n      <td>responsibility</td>\n      <td>equality</td>\n    </tr>\n    <tr>\n      <th>4</th>\n      <td>In this regard, Japan firmly supports the est...</td>\n      <td>not evaluated</td>\n      <td>not evaluated</td>\n      <td>not evaluated</td>\n      <td>not evaluated</td>\n    </tr>\n    <tr>\n      <th>...</th>\n      <td>...</td>\n      <td>...</td>\n      <td>...</td>\n      <td>...</td>\n      <td>...</td>\n    </tr>\n    <tr>\n      <th>1207</th>\n      <td>New Zealand is proud to suppor t several impo...</td>\n      <td>not evaluated</td>\n      <td>not evaluated</td>\n      <td>not evaluated</td>\n      <td>not evaluated</td>\n    </tr>\n    <tr>\n      <th>1208</th>\n      <td>I am joined by New Zealand’s largest business,...</td>\n      <td>not evaluated</td>\n      <td>not evaluated</td>\n      <td>not evaluated</td>\n      <td>not evaluated</td>\n    </tr>\n    <tr>\n      <th>1209</th>\n      <td>The commitment o f New Zealanders from across ...</td>\n      <td>not evaluated</td>\n      <td>not evaluated</td>\n      <td>not evaluated</td>\n      <td>not evaluated</td>\n    </tr>\n    <tr>\n      <th>1210</th>\n      <td>Thank you Mr President.</td>\n      <td>not evaluated</td>\n      <td>not evaluated</td>\n      <td>not evaluated</td>\n      <td>not evaluated</td>\n    </tr>\n    <tr>\n      <th>1211</th>\n      <td>Kia Kaha</td>\n      <td>not evaluated</td>\n      <td>not evaluated</td>\n      <td>not evaluated</td>\n      <td>not evaluated</td>\n    </tr>\n  </tbody>\n</table>\n<p>1212 rows × 5 columns</p>\n</div>"
     },
     "execution_count": 4,
     "metadata": {},
     "output_type": "execute_result"
    }
   ],
   "source": [
    "# Select only columns containing relevance labels\n",
    "HLS = HLS_train[['Text', 'PRINCIPLE','TOPIC', 'UNIT', 'SHAPE']]\n",
    "HLS"
   ],
   "metadata": {
    "collapsed": false,
    "ExecuteTime": {
     "start_time": "2024-06-01T18:35:58.150396Z",
     "end_time": "2024-06-01T18:35:58.203694Z"
    }
   }
  },
  {
   "cell_type": "code",
   "execution_count": 5,
   "outputs": [
    {
     "data": {
      "text/plain": "not evaluated                  992\nprioritarian                    66\nutilitarian                     59\negalitarian                     52\ngeneral normative statement     34\nsufficientarian                  8\nlibertarian                      1\nName: PRINCIPLE, dtype: int64"
     },
     "execution_count": 5,
     "metadata": {},
     "output_type": "execute_result"
    }
   ],
   "source": [
    "HLS.PRINCIPLE.value_counts()"
   ],
   "metadata": {
    "collapsed": false,
    "ExecuteTime": {
     "start_time": "2024-06-01T18:36:02.199074Z",
     "end_time": "2024-06-01T18:36:02.208272Z"
    }
   }
  },
  {
   "cell_type": "code",
   "execution_count": 6,
   "outputs": [
    {
     "data": {
      "text/plain": "not evaluated                       992\nother                                46\nnew UNFCCC policy                    41\nurgency                              36\nUNFCCC agreements and principles     32\ncooperation                          23\nfinancial mechanisms                 22\nadaptation and mitigation            11\nmitigation                            7\nadaptation                            2\nName: TOPIC, dtype: int64"
     },
     "execution_count": 6,
     "metadata": {},
     "output_type": "execute_result"
    }
   ],
   "source": [
    "HLS.TOPIC.value_counts()"
   ],
   "metadata": {
    "collapsed": false,
    "ExecuteTime": {
     "start_time": "2024-06-01T18:36:03.625225Z",
     "end_time": "2024-06-01T18:36:03.650758Z"
    }
   }
  },
  {
   "cell_type": "code",
   "execution_count": 7,
   "outputs": [
    {
     "data": {
      "text/plain": "not evaluated                            992\nnot indicated                            106\nresponsibility                            49\nfinancial resources                       31\nsupport                                   19\nfinancial and technological resources      8\nother                                      4\ntechnological resources                    3\nName: UNIT, dtype: int64"
     },
     "execution_count": 7,
     "metadata": {},
     "output_type": "execute_result"
    }
   ],
   "source": [
    "HLS.UNIT.value_counts()"
   ],
   "metadata": {
    "collapsed": false,
    "ExecuteTime": {
     "start_time": "2024-06-01T18:36:05.789324Z",
     "end_time": "2024-06-01T18:36:05.833863Z"
    }
   }
  },
  {
   "cell_type": "code",
   "execution_count": 8,
   "outputs": [
    {
     "data": {
      "text/plain": "not evaluated                   994\nnot indicated                   130\npriority to worst off            34\nproportional to commitment       19\nequity                           14\nequality                         11\nneeds based                       5\nproportional to contribution      5\nName: SHAPE, dtype: int64"
     },
     "execution_count": 8,
     "metadata": {},
     "output_type": "execute_result"
    }
   ],
   "source": [
    "HLS.SHAPE.value_counts()"
   ],
   "metadata": {
    "collapsed": false,
    "ExecuteTime": {
     "start_time": "2024-06-01T18:36:19.370541Z",
     "end_time": "2024-06-01T18:36:19.396339Z"
    }
   }
  },
  {
   "cell_type": "markdown",
   "source": [
    "Classes are VERY imbalanced\n"
   ],
   "metadata": {
    "collapsed": false
   }
  },
  {
   "cell_type": "markdown",
   "source": [
    "### 2. Import necessary files\n",
    "- codebooks\n",
    "- API key\n",
    "- import gpt_annotate_num"
   ],
   "metadata": {
    "collapsed": false
   }
  },
  {
   "cell_type": "code",
   "execution_count": 4,
   "outputs": [],
   "source": [
    "# OpenAI key\n",
    "with open('gpt_api_key.txt', 'r') as f:\n",
    "    key = f.read().strip()"
   ],
   "metadata": {
    "collapsed": false,
    "ExecuteTime": {
     "start_time": "2024-06-07T19:18:24.398436Z",
     "end_time": "2024-06-07T19:18:24.408058Z"
    }
   }
  },
  {
   "cell_type": "code",
   "execution_count": 5,
   "outputs": [],
   "source": [
    "import gpt_annotate_string"
   ],
   "metadata": {
    "collapsed": false,
    "ExecuteTime": {
     "start_time": "2024-06-07T19:18:26.604790Z",
     "end_time": "2024-06-07T19:18:48.210935Z"
    }
   }
  },
  {
   "cell_type": "code",
   "execution_count": 11,
   "outputs": [],
   "source": [
    "# Load codebook - zero shot\n",
    "with open('codebooks/B4.0', 'r', encoding='utf-8') as file:\n",
    "    B40 = file.read()"
   ],
   "metadata": {
    "collapsed": false,
    "ExecuteTime": {
     "start_time": "2024-06-01T18:38:02.759509Z",
     "end_time": "2024-06-01T18:38:02.786679Z"
    }
   }
  },
  {
   "cell_type": "markdown",
   "source": [
    "### 3. Prepare data for annotation\n",
    "Compares column names in HLS_principle to the codes identified by GPT-4o in the codebook. Seed for this identification is set to 1234."
   ],
   "metadata": {
    "collapsed": false
   }
  },
  {
   "cell_type": "code",
   "execution_count": 13,
   "outputs": [
    {
     "name": "stdout",
     "output_type": "stream",
     "text": [
      "ChatCompletion(id='chatcmpl-9VM2BkUjpLsBnVZDaC9pSXNp1P7HS', choices=[Choice(finish_reason='stop', index=0, logprobs=None, message=ChatCompletionMessage(content='PRINCIPLE, TOPIC, UNIT, SHAPE', role='assistant', function_call=None, tool_calls=None))], created=1717259895, model='gpt-4o-2024-05-13', object='chat.completion', system_fingerprint='fp_319be4768e', usage=CompletionUsage(completion_tokens=11, prompt_tokens=1731, total_tokens=1742))\n",
      "\n",
      "Categories to annotate:\n",
      "1) PRINCIPLE\n",
      "2) TOPIC\n",
      "3) UNIT\n",
      "4) SHAPE\n",
      "\n",
      "\n",
      "Data is ready to be annotated using gpt_annotate()!\n",
      "\n",
      "Glimpse of your data:\n",
      "Shape of data:  (1212, 7)\n",
      "   unique_id                                               text  \\\n",
      "0          0                         Thank you, Mr. President .   \n",
      "1          1   On beha lf of the government of Japan , I wou...   \n",
      "2          2   I would also like to expr ess my d eepest con...   \n",
      "3          3   Mr. President:  A fair and effective framewor...   \n",
      "4          4   In this regard, Japan firmly supports the est...   \n",
      "\n",
      "       PRINCIPLE              TOPIC            UNIT          SHAPE  \\\n",
      "0  not evaluated      not evaluated   not evaluated  not evaluated   \n",
      "1  not evaluated      not evaluated   not evaluated  not evaluated   \n",
      "2  not evaluated      not evaluated   not evaluated  not evaluated   \n",
      "3    utilitarian  new UNFCCC policy  responsibility       equality   \n",
      "4  not evaluated      not evaluated   not evaluated  not evaluated   \n",
      "\n",
      "                                           llm_query  \n",
      "0                    0  Thank you, Mr. President .\\n  \n",
      "1  1  On beha lf of the government of Japan , I w...  \n",
      "2  2  I would also like to expr ess my d eepest c...  \n",
      "3  3  Mr. President:  A fair and effective framew...  \n",
      "4  4  In this regard, Japan firmly supports the e...  \n"
     ]
    }
   ],
   "source": [
    "# Prepare dataframe for annotation\n",
    "text_to_annotate = gpt_annotate_string.prepare_data(HLS, B40, key, prep_codebook=True)"
   ],
   "metadata": {
    "collapsed": false,
    "ExecuteTime": {
     "start_time": "2024-06-01T18:38:14.671310Z",
     "end_time": "2024-06-01T18:38:17.141865Z"
    }
   }
  },
  {
   "cell_type": "markdown",
   "source": [
    "Fingerprint used: fp_319be4768e\n",
    "Unsure as to why a different fingerprint is used.\n",
    "Fingerprint used in other tests: fp_43dfabdef1\n",
    "\n",
    "Seed of textpreparation is hardcoded into gpt_annotate. This to ensure that only the results of the same fingerprint for all seeds and all iterations. Essentially every time GPT-4o is called only results with this specific fingerprint are saved."
   ],
   "metadata": {
    "collapsed": false
   }
  },
  {
   "cell_type": "markdown",
   "source": [
    "# 4. Run gpt_annotate_num\n",
    "Evaluation per seed -\n",
    "5 different seeds\n",
    "Batch of 20 sentences\n",
    "1 iteration\n",
    "\n",
    "Returns 3 outputs:\n",
    "1. all_iterations_{seed}.csv\n",
    "2. fingerprints_all.csv\n",
    "3. missed_batches.csv\n",
    "\n",
    "## B4.0 full annotation on all sentences"
   ],
   "metadata": {
    "collapsed": false
   }
  },
  {
   "cell_type": "code",
   "execution_count": 14,
   "outputs": [],
   "source": [
    "fingerprint = 'fp_319be4768e'\n",
    "## Take fingerprint into account!! Could go wrong\n",
    "\n",
    "#Block seed to prevent accidental rerun of gpt_annotate\n",
    "seeds = [3644,3441, 280, 5991, 7917]"
   ],
   "metadata": {
    "collapsed": false,
    "ExecuteTime": {
     "start_time": "2024-06-01T18:38:49.062008Z",
     "end_time": "2024-06-01T18:38:49.067270Z"
    }
   }
  },
  {
   "cell_type": "code",
   "execution_count": 15,
   "outputs": [
    {
     "name": "stdout",
     "output_type": "stream",
     "text": [
      "3644 - iteration 1\n",
      "iteration:  1 completed\n",
      "3441 - iteration 1\n",
      "3441 - I1 - B4 fingerprint does not match\n",
      "iteration:  1 completed\n",
      "280 - iteration 1\n",
      "280 - I1 - B36 fingerprint does not match\n",
      "iteration:  1 completed\n",
      "5991 - iteration 1\n",
      "5991 - I1 - B25 fingerprint does not match\n",
      "iteration:  1 completed\n",
      "7917 - iteration 1\n",
      "7917 - I1 - B10 fingerprint does not match\n",
      "7917 - I1 - B26 fingerprint does not match\n",
      "iteration:  1 completed\n"
     ]
    }
   ],
   "source": [
    "# Annotate the data - T0 - I1\n",
    "for seed in seeds:\n",
    "    gpt_annotate_string.gpt_annotate(text_to_annotate, B40, key, seed,fingerprint, experiment=\"B4.0\",  num_iterations=1, model=\"gpt-4o\", temperature=0, batch_size=20, human_labels=True)"
   ],
   "metadata": {
    "collapsed": false,
    "ExecuteTime": {
     "start_time": "2024-06-01T18:38:52.645349Z",
     "end_time": "2024-06-01T19:09:51.006761Z"
    }
   }
  },
  {
   "cell_type": "markdown",
   "source": [
    "## B4.1 full annotation on relevant sentences"
   ],
   "metadata": {
    "collapsed": false
   }
  },
  {
   "cell_type": "code",
   "execution_count": 3,
   "outputs": [
    {
     "data": {
      "text/plain": "                                                   Text  \\\n3      Mr. President:  A fair and effective framewor...   \n5     Such a framework must be based on “nationally ...   \n44    It should not only enable us to discuss global...   \n53    Global warming is a catastrophic problem that ...   \n54    Therefore, the multilateralism approach remain...   \n...                                                 ...   \n1172   As we work to catch up on lost time and progr...   \n1173   Conflict -ridden communities, refugees, and d...   \n1174  Nor can we stand by , as the massive destructi...   \n1198   We recognise that we must deliver on our coll...   \n1205   We need a course correction, and working toge...   \n\n                        PRINCIPLE                 TOPIC                 UNIT  \\\n3                     utilitarian     new UNFCCC policy       responsibility   \n5                     egalitarian     new UNFCCC policy       responsibility   \n44                    utilitarian     new UNFCCC policy        not indicated   \n53                    utilitarian               urgency        not indicated   \n54    general normative statement     new UNFCCC policy        not indicated   \n...                           ...                   ...                  ...   \n1172                 prioritarian               urgency        not indicated   \n1173                 prioritarian     new UNFCCC policy        not indicated   \n1174                  utilitarian                 other        not indicated   \n1198                 prioritarian  financial mechanisms  financial resources   \n1205                  utilitarian           cooperation        not indicated   \n\n                           SHAPE  \n3                       equality  \n5                         equity  \n44                 not indicated  \n53                 not indicated  \n54                 not indicated  \n...                          ...  \n1172               not indicated  \n1173               not indicated  \n1174               not indicated  \n1198  proportional to commitment  \n1205               not indicated  \n\n[218 rows x 5 columns]",
      "text/html": "<div>\n<style scoped>\n    .dataframe tbody tr th:only-of-type {\n        vertical-align: middle;\n    }\n\n    .dataframe tbody tr th {\n        vertical-align: top;\n    }\n\n    .dataframe thead th {\n        text-align: right;\n    }\n</style>\n<table border=\"1\" class=\"dataframe\">\n  <thead>\n    <tr style=\"text-align: right;\">\n      <th></th>\n      <th>Text</th>\n      <th>PRINCIPLE</th>\n      <th>TOPIC</th>\n      <th>UNIT</th>\n      <th>SHAPE</th>\n    </tr>\n  </thead>\n  <tbody>\n    <tr>\n      <th>3</th>\n      <td>Mr. President:  A fair and effective framewor...</td>\n      <td>utilitarian</td>\n      <td>new UNFCCC policy</td>\n      <td>responsibility</td>\n      <td>equality</td>\n    </tr>\n    <tr>\n      <th>5</th>\n      <td>Such a framework must be based on “nationally ...</td>\n      <td>egalitarian</td>\n      <td>new UNFCCC policy</td>\n      <td>responsibility</td>\n      <td>equity</td>\n    </tr>\n    <tr>\n      <th>44</th>\n      <td>It should not only enable us to discuss global...</td>\n      <td>utilitarian</td>\n      <td>new UNFCCC policy</td>\n      <td>not indicated</td>\n      <td>not indicated</td>\n    </tr>\n    <tr>\n      <th>53</th>\n      <td>Global warming is a catastrophic problem that ...</td>\n      <td>utilitarian</td>\n      <td>urgency</td>\n      <td>not indicated</td>\n      <td>not indicated</td>\n    </tr>\n    <tr>\n      <th>54</th>\n      <td>Therefore, the multilateralism approach remain...</td>\n      <td>general normative statement</td>\n      <td>new UNFCCC policy</td>\n      <td>not indicated</td>\n      <td>not indicated</td>\n    </tr>\n    <tr>\n      <th>...</th>\n      <td>...</td>\n      <td>...</td>\n      <td>...</td>\n      <td>...</td>\n      <td>...</td>\n    </tr>\n    <tr>\n      <th>1172</th>\n      <td>As we work to catch up on lost time and progr...</td>\n      <td>prioritarian</td>\n      <td>urgency</td>\n      <td>not indicated</td>\n      <td>not indicated</td>\n    </tr>\n    <tr>\n      <th>1173</th>\n      <td>Conflict -ridden communities, refugees, and d...</td>\n      <td>prioritarian</td>\n      <td>new UNFCCC policy</td>\n      <td>not indicated</td>\n      <td>not indicated</td>\n    </tr>\n    <tr>\n      <th>1174</th>\n      <td>Nor can we stand by , as the massive destructi...</td>\n      <td>utilitarian</td>\n      <td>other</td>\n      <td>not indicated</td>\n      <td>not indicated</td>\n    </tr>\n    <tr>\n      <th>1198</th>\n      <td>We recognise that we must deliver on our coll...</td>\n      <td>prioritarian</td>\n      <td>financial mechanisms</td>\n      <td>financial resources</td>\n      <td>proportional to commitment</td>\n    </tr>\n    <tr>\n      <th>1205</th>\n      <td>We need a course correction, and working toge...</td>\n      <td>utilitarian</td>\n      <td>cooperation</td>\n      <td>not indicated</td>\n      <td>not indicated</td>\n    </tr>\n  </tbody>\n</table>\n<p>218 rows × 5 columns</p>\n</div>"
     },
     "execution_count": 3,
     "metadata": {},
     "output_type": "execute_result"
    }
   ],
   "source": [
    "### Select only japan for testing purposes\n",
    "#HLS_train_japan = HLS_train[HLS_train['id']=='COP19_japan']\n",
    "HLS_train_relevant = HLS_train[HLS_train['RELEVANCE']=='Relevant']\n",
    "# Select only columns containing relevance labels\n",
    "HLS = HLS_train_relevant[['Text', 'PRINCIPLE','TOPIC', 'UNIT', 'SHAPE']]\n",
    "HLS"
   ],
   "metadata": {
    "collapsed": false,
    "ExecuteTime": {
     "start_time": "2024-06-07T19:18:16.435384Z",
     "end_time": "2024-06-07T19:18:16.493874Z"
    }
   }
  },
  {
   "cell_type": "code",
   "execution_count": 6,
   "outputs": [],
   "source": [
    "# Load codebook - zero shot\n",
    "with open('codebooks/B4.1', 'r', encoding='utf-8') as file:\n",
    "    B41 = file.read()"
   ],
   "metadata": {
    "collapsed": false,
    "ExecuteTime": {
     "start_time": "2024-06-07T19:18:48.215903Z",
     "end_time": "2024-06-07T19:18:48.228027Z"
    }
   }
  },
  {
   "cell_type": "code",
   "execution_count": 7,
   "outputs": [
    {
     "name": "stdout",
     "output_type": "stream",
     "text": [
      "ChatCompletion(id='chatcmpl-9XXWxTp7nr4UVABCZhjQtE3wsDCNk', choices=[Choice(finish_reason='stop', index=0, logprobs=None, message=ChatCompletionMessage(content='PRINCIPLE, TOPIC, UNIT, SHAPE', role='assistant', function_call=None, tool_calls=None))], created=1717780743, model='gpt-4o-2024-05-13', object='chat.completion', system_fingerprint='fp_319be4768e', usage=CompletionUsage(completion_tokens=11, prompt_tokens=1408, total_tokens=1419))\n",
      "\n",
      "Categories to annotate:\n",
      "1) PRINCIPLE\n",
      "2) TOPIC\n",
      "3) UNIT\n",
      "4) SHAPE\n",
      "\n",
      "\n",
      "Data is ready to be annotated using gpt_annotate()!\n",
      "\n",
      "Glimpse of your data:\n",
      "Shape of data:  (218, 7)\n",
      "   unique_id                                               text  \\\n",
      "0          3   Mr. President:  A fair and effective framewor...   \n",
      "1          5  Such a framework must be based on “nationally ...   \n",
      "2         44  It should not only enable us to discuss global...   \n",
      "3         53  Global warming is a catastrophic problem that ...   \n",
      "4         54  Therefore, the multilateralism approach remain...   \n",
      "\n",
      "                     PRINCIPLE              TOPIC            UNIT  \\\n",
      "0                  utilitarian  new UNFCCC policy  responsibility   \n",
      "1                  egalitarian  new UNFCCC policy  responsibility   \n",
      "2                  utilitarian  new UNFCCC policy   not indicated   \n",
      "3                  utilitarian            urgency   not indicated   \n",
      "4  general normative statement  new UNFCCC policy   not indicated   \n",
      "\n",
      "           SHAPE                                          llm_query  \n",
      "0       equality  3  Mr. President:  A fair and effective framew...  \n",
      "1         equity  5 Such a framework must be based on “nationall...  \n",
      "2  not indicated  44 It should not only enable us to discuss glo...  \n",
      "3  not indicated  53 Global warming is a catastrophic problem th...  \n",
      "4  not indicated  54 Therefore, the multilateralism approach rem...  \n"
     ]
    }
   ],
   "source": [
    "# Prepare dataframe for annotation\n",
    "text_to_annotate = gpt_annotate_string.prepare_data(HLS, B41, key, prep_codebook=True)"
   ],
   "metadata": {
    "collapsed": false,
    "ExecuteTime": {
     "start_time": "2024-06-07T19:19:03.475968Z",
     "end_time": "2024-06-07T19:19:05.982326Z"
    }
   }
  },
  {
   "cell_type": "code",
   "execution_count": 8,
   "outputs": [
    {
     "name": "stdout",
     "output_type": "stream",
     "text": [
      "3644 - iteration 1\n",
      "iteration:  1 completed\n",
      "3441 - iteration 1\n",
      "iteration:  1 completed\n",
      "280 - iteration 1\n",
      "iteration:  1 completed\n",
      "5991 - iteration 1\n",
      "iteration:  1 completed\n",
      "7917 - iteration 1\n",
      "7917 - I1 - B5 fingerprint does not match\n",
      "iteration:  1 completed\n"
     ]
    }
   ],
   "source": [
    "fingerprint = 'fp_319be4768e'\n",
    "## Take fingerprint into account!! Could go wrong\n",
    "\n",
    "#Block seed to prevent accidental rerun of gpt_annotate\n",
    "seeds = [3644, 3441, 280, 5991, 7917]\n",
    "\n",
    "# Annotate the data - T0 - I1\n",
    "for seed in seeds:\n",
    "    gpt_annotate_string.gpt_annotate(text_to_annotate, B41, key, seed, fingerprint, experiment=\"B4.1\", num_iterations=1,\n",
    "                                     model=\"gpt-4o\", temperature=0, batch_size=20, human_labels=True)"
   ],
   "metadata": {
    "collapsed": false,
    "ExecuteTime": {
     "start_time": "2024-06-07T19:19:45.733633Z",
     "end_time": "2024-06-07T19:26:15.994235Z"
    }
   }
  },
  {
   "cell_type": "code",
   "execution_count": null,
   "outputs": [],
   "source": [],
   "metadata": {
    "collapsed": false
   }
  },
  {
   "cell_type": "markdown",
   "source": [
    "## B4.1 full annotation on relevant sentences TEST SET"
   ],
   "metadata": {
    "collapsed": false
   }
  },
  {
   "cell_type": "code",
   "execution_count": 10,
   "outputs": [
    {
     "data": {
      "text/plain": "                                                  Text  \\\n14   We have advocated a structure for the new agre...   \n15   •  This kind of structure, based on a spectrum...   \n16   •  By contrast, an agreement based on 1992 cat...   \n18   If those categories are to beoperational in ch...   \n25   •  Let us work together, mindful of our mutual...   \n35   The major polluters, especially those who are ...   \n38   Pledges to the Green Climate Fund have now pas...   \n40   We call on our partners to deliver the large s...   \n41   Loss and damage should also be included as an ...   \n44   We also fully support inclusion of gender equa...   \n45   Full and equal participation of women in all c...   \n52   We must all take every opportunity to cooperat...   \n66   Therefore, I urge all parties to ensure that t...   \n67   I also urge you all to recognize the contribut...   \n72   Hence, I strongly call upon the countries with...   \n75   Therefore, I call upon alldeveloped countries ...   \n77   As Lord Buddha said, we are here not to blame ...   \n87   As we move forward , we must employ an inclusi...   \n88   This, however, requires predictable , adequate...   \n95         This requires global commitment and action.   \n96   All countries, including the Republic of China...   \n103  Mr. President, Predictable finance, balanced b...   \n106  We seek your continued engagement to further e...   \n107  Furthermore, where adaptation is not an option...   \n109  There are three key actions that we can and mu...   \n115  'The Paris Agreement is about action by all, t...   \n126    The task of political leadership by all of u...   \n131   I firmly believe that COP23 is not just about...   \n151  The Paris Agreement is about action by all, th...   \n152   We need to work together to enable ambitious ...   \n155  We must share our experiences along with ensur...   \n172     Addressing the warming of our planet requir...   \n179  We must respond quickly to the best science av...   \n183     1 The Paris Agreement Work Programme should...   \n191  Parties must strengthen their commitment by go...   \n192  This revised and increased level of climate fi...   \n225  Failure to provide this critical finance and t...   \n226                          It is immoral and unjust.   \n233   Are we really going to leave Scotland without...   \n239  Leaders must not fail those who elect them to ...   \n243   An annual increase in SDRs of $500bn for 20 y...   \n251                 Our people and our planet need it.   \n270  There is a critical need to leverage knowle dg...   \n280  In this regard, we require bold solutions, and...   \n287  In order to attain our goals, we need everyone...   \n311   What we need now is a conduc ive environment ...   \n313   We will only reach these goals when innovatio...   \n315   In Europe we need to create the right incenti...   \n325   Mr. President, Your Excellencies,  Ladies and...   \n\n                       PRINCIPLE                             TOPIC  \\\n14                   egalitarian                 new UNFCCC policy   \n15                   utilitarian  UNFCCC agreements and principles   \n16                   libertarian  UNFCCC agreements and principles   \n18   general normative statement                 new UNFCCC policy   \n25                   egalitarian                       cooperation   \n35   general normative statement  UNFCCC agreements and principles   \n38                  prioritarian              financial mechanisms   \n40   general normative statement              financial mechanisms   \n41   general normative statement                             other   \n44                   egalitarian                             other   \n45                   egalitarian                             other   \n52   general normative statement                       cooperation   \n66                   utilitarian  UNFCCC agreements and principles   \n67                  prioritarian                 new UNFCCC policy   \n72                   utilitarian                             other   \n75                  prioritarian              financial mechanisms   \n77                   utilitarian                 new UNFCCC policy   \n87   general normative statement                 new UNFCCC policy   \n88   general normative statement                 new UNFCCC policy   \n95                   egalitarian                 new UNFCCC policy   \n96                   egalitarian                             other   \n103  general normative statement                 new UNFCCC policy   \n106                 prioritarian              financial mechanisms   \n107                 prioritarian                             other   \n109                 prioritarian              financial mechanisms   \n115                  egalitarian  UNFCCC agreements and principles   \n126                  egalitarian                             other   \n131              sufficientarian  UNFCCC agreements and principles   \n151                  egalitarian  UNFCCC agreements and principles   \n152  general normative statement                       cooperation   \n155              sufficientarian                             other   \n172  general normative statement                             other   \n179  general normative statement                           urgency   \n183                  libertarian                 new UNFCCC policy   \n191  general normative statement  UNFCCC agreements and principles   \n192                  egalitarian              financial mechanisms   \n225  general normative statement                             other   \n226  general normative statement                             other   \n233                  utilitarian                 new UNFCCC policy   \n239  general normative statement                             other   \n243  general normative statement              financial mechanisms   \n251                  utilitarian                           urgency   \n270                  egalitarian  UNFCCC agreements and principles   \n280                  egalitarian                 new UNFCCC policy   \n287                  egalitarian                             other   \n311                  egalitarian                           urgency   \n313                  egalitarian                             other   \n315                  libertarian                             other   \n325                  egalitarian                       cooperation   \n\n                                      UNIT                         SHAPE  \n14                          responsibility                      equality  \n15                          responsibility                        equity  \n16                           not indicated                 not indicated  \n18                          responsibility                        equity  \n25                          responsibility                 not indicated  \n35                          responsibility  proportional to contribution  \n38                     financial resources         priority to worst off  \n40                     financial resources                 not indicated  \n41                           not indicated                 not indicated  \n44                           not indicated                 not indicated  \n45                           not indicated                 not indicated  \n52                          responsibility                 not indicated  \n66                          responsibility                 not indicated  \n67                                 support         priority to worst off  \n72                                   other  proportional to contribution  \n75                     financial resources         priority to worst off  \n77                           not indicated                        equity  \n87                           not indicated                 not indicated  \n88                           not indicated                 not indicated  \n95                          responsibility                      equality  \n96                                   other                      equality  \n103  financial and technological resources                 not indicated  \n106                    financial resources                   needs based  \n107                                support         priority to worst off  \n109                    financial resources         priority to worst off  \n115                         responsibility                      equality  \n126                         responsibility                        equity  \n131                          not indicated                 not indicated  \n151                         responsibility                      equality  \n152                          not indicated                 not indicated  \n155                                  other                   needs based  \n172                         responsibility                      equality  \n179                          not indicated                 not indicated  \n183                          not indicated                 not indicated  \n191                    financial resources    proportional to commitment  \n192                    financial resources                   needs based  \n225                          not indicated                 not indicated  \n226                          not indicated                 not indicated  \n233                         responsibility                 not indicated  \n239                         responsibility                 not indicated  \n243                    financial resources                 not indicated  \n251                         responsibility                 not indicated  \n270                technological resources                 not indicated  \n280                          not indicated                 not indicated  \n287                          not indicated                 not indicated  \n311                          not indicated                 not indicated  \n313  financial and technological resources                 not indicated  \n315                    financial resources                 not indicated  \n325                          not indicated                 not indicated  ",
      "text/html": "<div>\n<style scoped>\n    .dataframe tbody tr th:only-of-type {\n        vertical-align: middle;\n    }\n\n    .dataframe tbody tr th {\n        vertical-align: top;\n    }\n\n    .dataframe thead th {\n        text-align: right;\n    }\n</style>\n<table border=\"1\" class=\"dataframe\">\n  <thead>\n    <tr style=\"text-align: right;\">\n      <th></th>\n      <th>Text</th>\n      <th>PRINCIPLE</th>\n      <th>TOPIC</th>\n      <th>UNIT</th>\n      <th>SHAPE</th>\n    </tr>\n  </thead>\n  <tbody>\n    <tr>\n      <th>14</th>\n      <td>We have advocated a structure for the new agre...</td>\n      <td>egalitarian</td>\n      <td>new UNFCCC policy</td>\n      <td>responsibility</td>\n      <td>equality</td>\n    </tr>\n    <tr>\n      <th>15</th>\n      <td>•  This kind of structure, based on a spectrum...</td>\n      <td>utilitarian</td>\n      <td>UNFCCC agreements and principles</td>\n      <td>responsibility</td>\n      <td>equity</td>\n    </tr>\n    <tr>\n      <th>16</th>\n      <td>•  By contrast, an agreement based on 1992 cat...</td>\n      <td>libertarian</td>\n      <td>UNFCCC agreements and principles</td>\n      <td>not indicated</td>\n      <td>not indicated</td>\n    </tr>\n    <tr>\n      <th>18</th>\n      <td>If those categories are to beoperational in ch...</td>\n      <td>general normative statement</td>\n      <td>new UNFCCC policy</td>\n      <td>responsibility</td>\n      <td>equity</td>\n    </tr>\n    <tr>\n      <th>25</th>\n      <td>•  Let us work together, mindful of our mutual...</td>\n      <td>egalitarian</td>\n      <td>cooperation</td>\n      <td>responsibility</td>\n      <td>not indicated</td>\n    </tr>\n    <tr>\n      <th>35</th>\n      <td>The major polluters, especially those who are ...</td>\n      <td>general normative statement</td>\n      <td>UNFCCC agreements and principles</td>\n      <td>responsibility</td>\n      <td>proportional to contribution</td>\n    </tr>\n    <tr>\n      <th>38</th>\n      <td>Pledges to the Green Climate Fund have now pas...</td>\n      <td>prioritarian</td>\n      <td>financial mechanisms</td>\n      <td>financial resources</td>\n      <td>priority to worst off</td>\n    </tr>\n    <tr>\n      <th>40</th>\n      <td>We call on our partners to deliver the large s...</td>\n      <td>general normative statement</td>\n      <td>financial mechanisms</td>\n      <td>financial resources</td>\n      <td>not indicated</td>\n    </tr>\n    <tr>\n      <th>41</th>\n      <td>Loss and damage should also be included as an ...</td>\n      <td>general normative statement</td>\n      <td>other</td>\n      <td>not indicated</td>\n      <td>not indicated</td>\n    </tr>\n    <tr>\n      <th>44</th>\n      <td>We also fully support inclusion of gender equa...</td>\n      <td>egalitarian</td>\n      <td>other</td>\n      <td>not indicated</td>\n      <td>not indicated</td>\n    </tr>\n    <tr>\n      <th>45</th>\n      <td>Full and equal participation of women in all c...</td>\n      <td>egalitarian</td>\n      <td>other</td>\n      <td>not indicated</td>\n      <td>not indicated</td>\n    </tr>\n    <tr>\n      <th>52</th>\n      <td>We must all take every opportunity to cooperat...</td>\n      <td>general normative statement</td>\n      <td>cooperation</td>\n      <td>responsibility</td>\n      <td>not indicated</td>\n    </tr>\n    <tr>\n      <th>66</th>\n      <td>Therefore, I urge all parties to ensure that t...</td>\n      <td>utilitarian</td>\n      <td>UNFCCC agreements and principles</td>\n      <td>responsibility</td>\n      <td>not indicated</td>\n    </tr>\n    <tr>\n      <th>67</th>\n      <td>I also urge you all to recognize the contribut...</td>\n      <td>prioritarian</td>\n      <td>new UNFCCC policy</td>\n      <td>support</td>\n      <td>priority to worst off</td>\n    </tr>\n    <tr>\n      <th>72</th>\n      <td>Hence, I strongly call upon the countries with...</td>\n      <td>utilitarian</td>\n      <td>other</td>\n      <td>other</td>\n      <td>proportional to contribution</td>\n    </tr>\n    <tr>\n      <th>75</th>\n      <td>Therefore, I call upon alldeveloped countries ...</td>\n      <td>prioritarian</td>\n      <td>financial mechanisms</td>\n      <td>financial resources</td>\n      <td>priority to worst off</td>\n    </tr>\n    <tr>\n      <th>77</th>\n      <td>As Lord Buddha said, we are here not to blame ...</td>\n      <td>utilitarian</td>\n      <td>new UNFCCC policy</td>\n      <td>not indicated</td>\n      <td>equity</td>\n    </tr>\n    <tr>\n      <th>87</th>\n      <td>As we move forward , we must employ an inclusi...</td>\n      <td>general normative statement</td>\n      <td>new UNFCCC policy</td>\n      <td>not indicated</td>\n      <td>not indicated</td>\n    </tr>\n    <tr>\n      <th>88</th>\n      <td>This, however, requires predictable , adequate...</td>\n      <td>general normative statement</td>\n      <td>new UNFCCC policy</td>\n      <td>not indicated</td>\n      <td>not indicated</td>\n    </tr>\n    <tr>\n      <th>95</th>\n      <td>This requires global commitment and action.</td>\n      <td>egalitarian</td>\n      <td>new UNFCCC policy</td>\n      <td>responsibility</td>\n      <td>equality</td>\n    </tr>\n    <tr>\n      <th>96</th>\n      <td>All countries, including the Republic of China...</td>\n      <td>egalitarian</td>\n      <td>other</td>\n      <td>other</td>\n      <td>equality</td>\n    </tr>\n    <tr>\n      <th>103</th>\n      <td>Mr. President, Predictable finance, balanced b...</td>\n      <td>general normative statement</td>\n      <td>new UNFCCC policy</td>\n      <td>financial and technological resources</td>\n      <td>not indicated</td>\n    </tr>\n    <tr>\n      <th>106</th>\n      <td>We seek your continued engagement to further e...</td>\n      <td>prioritarian</td>\n      <td>financial mechanisms</td>\n      <td>financial resources</td>\n      <td>needs based</td>\n    </tr>\n    <tr>\n      <th>107</th>\n      <td>Furthermore, where adaptation is not an option...</td>\n      <td>prioritarian</td>\n      <td>other</td>\n      <td>support</td>\n      <td>priority to worst off</td>\n    </tr>\n    <tr>\n      <th>109</th>\n      <td>There are three key actions that we can and mu...</td>\n      <td>prioritarian</td>\n      <td>financial mechanisms</td>\n      <td>financial resources</td>\n      <td>priority to worst off</td>\n    </tr>\n    <tr>\n      <th>115</th>\n      <td>'The Paris Agreement is about action by all, t...</td>\n      <td>egalitarian</td>\n      <td>UNFCCC agreements and principles</td>\n      <td>responsibility</td>\n      <td>equality</td>\n    </tr>\n    <tr>\n      <th>126</th>\n      <td>The task of political leadership by all of u...</td>\n      <td>egalitarian</td>\n      <td>other</td>\n      <td>responsibility</td>\n      <td>equity</td>\n    </tr>\n    <tr>\n      <th>131</th>\n      <td>I firmly believe that COP23 is not just about...</td>\n      <td>sufficientarian</td>\n      <td>UNFCCC agreements and principles</td>\n      <td>not indicated</td>\n      <td>not indicated</td>\n    </tr>\n    <tr>\n      <th>151</th>\n      <td>The Paris Agreement is about action by all, th...</td>\n      <td>egalitarian</td>\n      <td>UNFCCC agreements and principles</td>\n      <td>responsibility</td>\n      <td>equality</td>\n    </tr>\n    <tr>\n      <th>152</th>\n      <td>We need to work together to enable ambitious ...</td>\n      <td>general normative statement</td>\n      <td>cooperation</td>\n      <td>not indicated</td>\n      <td>not indicated</td>\n    </tr>\n    <tr>\n      <th>155</th>\n      <td>We must share our experiences along with ensur...</td>\n      <td>sufficientarian</td>\n      <td>other</td>\n      <td>other</td>\n      <td>needs based</td>\n    </tr>\n    <tr>\n      <th>172</th>\n      <td>Addressing the warming of our planet requir...</td>\n      <td>general normative statement</td>\n      <td>other</td>\n      <td>responsibility</td>\n      <td>equality</td>\n    </tr>\n    <tr>\n      <th>179</th>\n      <td>We must respond quickly to the best science av...</td>\n      <td>general normative statement</td>\n      <td>urgency</td>\n      <td>not indicated</td>\n      <td>not indicated</td>\n    </tr>\n    <tr>\n      <th>183</th>\n      <td>1 The Paris Agreement Work Programme should...</td>\n      <td>libertarian</td>\n      <td>new UNFCCC policy</td>\n      <td>not indicated</td>\n      <td>not indicated</td>\n    </tr>\n    <tr>\n      <th>191</th>\n      <td>Parties must strengthen their commitment by go...</td>\n      <td>general normative statement</td>\n      <td>UNFCCC agreements and principles</td>\n      <td>financial resources</td>\n      <td>proportional to commitment</td>\n    </tr>\n    <tr>\n      <th>192</th>\n      <td>This revised and increased level of climate fi...</td>\n      <td>egalitarian</td>\n      <td>financial mechanisms</td>\n      <td>financial resources</td>\n      <td>needs based</td>\n    </tr>\n    <tr>\n      <th>225</th>\n      <td>Failure to provide this critical finance and t...</td>\n      <td>general normative statement</td>\n      <td>other</td>\n      <td>not indicated</td>\n      <td>not indicated</td>\n    </tr>\n    <tr>\n      <th>226</th>\n      <td>It is immoral and unjust.</td>\n      <td>general normative statement</td>\n      <td>other</td>\n      <td>not indicated</td>\n      <td>not indicated</td>\n    </tr>\n    <tr>\n      <th>233</th>\n      <td>Are we really going to leave Scotland without...</td>\n      <td>utilitarian</td>\n      <td>new UNFCCC policy</td>\n      <td>responsibility</td>\n      <td>not indicated</td>\n    </tr>\n    <tr>\n      <th>239</th>\n      <td>Leaders must not fail those who elect them to ...</td>\n      <td>general normative statement</td>\n      <td>other</td>\n      <td>responsibility</td>\n      <td>not indicated</td>\n    </tr>\n    <tr>\n      <th>243</th>\n      <td>An annual increase in SDRs of $500bn for 20 y...</td>\n      <td>general normative statement</td>\n      <td>financial mechanisms</td>\n      <td>financial resources</td>\n      <td>not indicated</td>\n    </tr>\n    <tr>\n      <th>251</th>\n      <td>Our people and our planet need it.</td>\n      <td>utilitarian</td>\n      <td>urgency</td>\n      <td>responsibility</td>\n      <td>not indicated</td>\n    </tr>\n    <tr>\n      <th>270</th>\n      <td>There is a critical need to leverage knowle dg...</td>\n      <td>egalitarian</td>\n      <td>UNFCCC agreements and principles</td>\n      <td>technological resources</td>\n      <td>not indicated</td>\n    </tr>\n    <tr>\n      <th>280</th>\n      <td>In this regard, we require bold solutions, and...</td>\n      <td>egalitarian</td>\n      <td>new UNFCCC policy</td>\n      <td>not indicated</td>\n      <td>not indicated</td>\n    </tr>\n    <tr>\n      <th>287</th>\n      <td>In order to attain our goals, we need everyone...</td>\n      <td>egalitarian</td>\n      <td>other</td>\n      <td>not indicated</td>\n      <td>not indicated</td>\n    </tr>\n    <tr>\n      <th>311</th>\n      <td>What we need now is a conduc ive environment ...</td>\n      <td>egalitarian</td>\n      <td>urgency</td>\n      <td>not indicated</td>\n      <td>not indicated</td>\n    </tr>\n    <tr>\n      <th>313</th>\n      <td>We will only reach these goals when innovatio...</td>\n      <td>egalitarian</td>\n      <td>other</td>\n      <td>financial and technological resources</td>\n      <td>not indicated</td>\n    </tr>\n    <tr>\n      <th>315</th>\n      <td>In Europe we need to create the right incenti...</td>\n      <td>libertarian</td>\n      <td>other</td>\n      <td>financial resources</td>\n      <td>not indicated</td>\n    </tr>\n    <tr>\n      <th>325</th>\n      <td>Mr. President, Your Excellencies,  Ladies and...</td>\n      <td>egalitarian</td>\n      <td>cooperation</td>\n      <td>not indicated</td>\n      <td>not indicated</td>\n    </tr>\n  </tbody>\n</table>\n</div>"
     },
     "execution_count": 10,
     "metadata": {},
     "output_type": "execute_result"
    }
   ],
   "source": [
    "### Select only japan for testing purposes\n",
    "#HLS_train_japan = HLS_train[HLS_train['id']=='COP19_japan']\n",
    "TEST = pd.read_csv('data/string/HLS_test_string.csv')\n",
    "HLS_test_relevant = TEST[TEST['RELEVANCE']=='Relevant']\n",
    "# Select only columns containing relevance labels\n",
    "HLS_test = HLS_test_relevant[['Text', 'PRINCIPLE','TOPIC', 'UNIT', 'SHAPE']]\n",
    "HLS_test"
   ],
   "metadata": {
    "collapsed": false,
    "ExecuteTime": {
     "start_time": "2024-06-07T20:49:52.045190Z",
     "end_time": "2024-06-07T20:49:52.141640Z"
    }
   }
  },
  {
   "cell_type": "code",
   "execution_count": 11,
   "outputs": [],
   "source": [
    "# Load codebook - zero shot\n",
    "with open('codebooks/B4.1', 'r', encoding='utf-8') as file:\n",
    "    B41 = file.read()"
   ],
   "metadata": {
    "collapsed": false,
    "ExecuteTime": {
     "start_time": "2024-06-07T20:49:57.835704Z",
     "end_time": "2024-06-07T20:49:57.922923Z"
    }
   }
  },
  {
   "cell_type": "code",
   "execution_count": 12,
   "outputs": [
    {
     "name": "stdout",
     "output_type": "stream",
     "text": [
      "ChatCompletion(id='chatcmpl-9XYx6Zk3tRq8knmGhqh3FuZuP4Bc3', choices=[Choice(finish_reason='stop', index=0, logprobs=None, message=ChatCompletionMessage(content='PRINCIPLE, TOPIC, UNIT, SHAPE', role='assistant', function_call=None, tool_calls=None))], created=1717786208, model='gpt-4o-2024-05-13', object='chat.completion', system_fingerprint='fp_aa87380ac5', usage=CompletionUsage(completion_tokens=11, prompt_tokens=1408, total_tokens=1419))\n",
      "\n",
      "Categories to annotate:\n",
      "1) PRINCIPLE\n",
      "2) TOPIC\n",
      "3) UNIT\n",
      "4) SHAPE\n",
      "\n",
      "\n",
      "Data is ready to be annotated using gpt_annotate()!\n",
      "\n",
      "Glimpse of your data:\n",
      "Shape of data:  (49, 7)\n",
      "   unique_id                                               text  \\\n",
      "0         14  We have advocated a structure for the new agre...   \n",
      "1         15  •  This kind of structure, based on a spectrum...   \n",
      "2         16  •  By contrast, an agreement based on 1992 cat...   \n",
      "3         18  If those categories are to beoperational in ch...   \n",
      "4         25  •  Let us work together, mindful of our mutual...   \n",
      "\n",
      "                     PRINCIPLE                             TOPIC  \\\n",
      "0                  egalitarian                 new UNFCCC policy   \n",
      "1                  utilitarian  UNFCCC agreements and principles   \n",
      "2                  libertarian  UNFCCC agreements and principles   \n",
      "3  general normative statement                 new UNFCCC policy   \n",
      "4                  egalitarian                       cooperation   \n",
      "\n",
      "             UNIT          SHAPE  \\\n",
      "0  responsibility       equality   \n",
      "1  responsibility         equity   \n",
      "2   not indicated  not indicated   \n",
      "3  responsibility         equity   \n",
      "4  responsibility  not indicated   \n",
      "\n",
      "                                           llm_query  \n",
      "0  14 We have advocated a structure for the new a...  \n",
      "1  15 •  This kind of structure, based on a spect...  \n",
      "2  16 •  By contrast, an agreement based on 1992 ...  \n",
      "3  18 If those categories are to beoperational in...  \n",
      "4  25 •  Let us work together, mindful of our mut...  \n"
     ]
    }
   ],
   "source": [
    "# Prepare dataframe for annotation\n",
    "text_to_annotate = gpt_annotate_string.prepare_data(HLS_test, B41, key, prep_codebook=True)"
   ],
   "metadata": {
    "collapsed": false,
    "ExecuteTime": {
     "start_time": "2024-06-07T20:50:05.985638Z",
     "end_time": "2024-06-07T20:50:09.655118Z"
    }
   }
  },
  {
   "cell_type": "code",
   "execution_count": 15,
   "outputs": [
    {
     "name": "stdout",
     "output_type": "stream",
     "text": [
      "3644 - iteration 1\n",
      "iteration:  1 completed\n",
      "3441 - iteration 1\n",
      "3441 - I1 - B3 fingerprint does not match\n",
      "iteration:  1 completed\n",
      "280 - iteration 1\n",
      "280 - I1 - B2 fingerprint does not match\n",
      "iteration:  1 completed\n",
      "5991 - iteration 1\n",
      "iteration:  1 completed\n",
      "7917 - iteration 1\n",
      "iteration:  1 completed\n"
     ]
    }
   ],
   "source": [
    "fingerprint = 'fp_319be4768e'\n",
    "\n",
    "#fingerprint = 'fp_aa87380ac5'\n",
    "## Take fingerprint into account!! Could go wrong\n",
    "\n",
    "#Block seed to prevent accidental rerun of gpt_annotate\n",
    "seeds = [3644, 3441, 280, 5991, 7917]\n",
    "\n",
    "# Annotate the data - T0 - I1\n",
    "for seed in seeds:\n",
    "    gpt_annotate_string.gpt_annotate(text_to_annotate, B41, key, seed, fingerprint, experiment=\"B4.1\", num_iterations=1,\n",
    "                                     model=\"gpt-4o\", temperature=0, batch_size=20, human_labels=True)"
   ],
   "metadata": {
    "collapsed": false,
    "ExecuteTime": {
     "start_time": "2024-06-07T20:52:23.768654Z",
     "end_time": "2024-06-07T20:53:49.982974Z"
    }
   }
  },
  {
   "cell_type": "code",
   "execution_count": null,
   "outputs": [],
   "source": [],
   "metadata": {
    "collapsed": false
   }
  }
 ],
 "metadata": {
  "kernelspec": {
   "display_name": "Python 3",
   "language": "python",
   "name": "python3"
  },
  "language_info": {
   "codemirror_mode": {
    "name": "ipython",
    "version": 2
   },
   "file_extension": ".py",
   "mimetype": "text/x-python",
   "name": "python",
   "nbconvert_exporter": "python",
   "pygments_lexer": "ipython2",
   "version": "2.7.6"
  }
 },
 "nbformat": 4,
 "nbformat_minor": 0
}
