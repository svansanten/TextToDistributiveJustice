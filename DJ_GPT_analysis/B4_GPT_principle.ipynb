{
 "cells": [
  {
   "cell_type": "code",
   "execution_count": 2,
   "metadata": {
    "collapsed": true,
    "ExecuteTime": {
     "start_time": "2024-06-01T18:35:54.875222Z",
     "end_time": "2024-06-01T18:35:54.890876Z"
    }
   },
   "outputs": [],
   "source": [
    "import numpy as np\n",
    "import pandas as pd\n",
    "import os\n",
    "import re\n",
    "import matplotlib.pyplot as plt\n",
    "import seaborn as sns\n",
    "import difflib"
   ]
  },
  {
   "cell_type": "markdown",
   "source": [
    "## Notebook to annotate HLS speeches for principles, topic, unit, shape\n",
    "### B: string-based labels\n",
    "\n",
    "Codebooks:\n",
    "- B4.0\n",
    "\n",
    "Apply on full string-based dataset\n",
    "Temperature: 0\n",
    "Iterations: 1\n",
    "\n",
    "Model selection:\n",
    " As of 22-05-2024, gpt-4-turbo-2024-04-09 seems to be the only gpt-model that returns a fingerprint in addition to gpt-4o\n",
    "\n",
    "  #model= \"gpt-4-turbo-2024-04-09\"\n",
    "  #model = \"gpt-3.5-turbo-0125\"\n"
   ],
   "metadata": {
    "collapsed": false
   }
  },
  {
   "cell_type": "markdown",
   "source": [
    "### 1. Import text to annotate\n",
    "Select only relevant columns of the full dataframe, in this case:\n",
    "PRINCIPLE"
   ],
   "metadata": {
    "collapsed": false
   }
  },
  {
   "cell_type": "code",
   "execution_count": 3,
   "outputs": [],
   "source": [
    "# Import string based datafile\n",
    "HLS_train = pd.read_csv('data/string/HLS_train_string.csv')"
   ],
   "metadata": {
    "collapsed": false,
    "ExecuteTime": {
     "start_time": "2024-06-01T18:35:57.459298Z",
     "end_time": "2024-06-01T18:35:57.482341Z"
    }
   }
  },
  {
   "cell_type": "code",
   "execution_count": 4,
   "outputs": [
    {
     "data": {
      "text/plain": "                                                   Text      PRINCIPLE  \\\n0                            Thank you, Mr. President .  not evaluated   \n1      On beha lf of the government of Japan , I wou...  not evaluated   \n2      I would also like to expr ess my d eepest con...  not evaluated   \n3      Mr. President:  A fair and effective framewor...    utilitarian   \n4      In this regard, Japan firmly supports the est...  not evaluated   \n...                                                 ...            ...   \n1207   New Zealand is proud to suppor t several impo...  not evaluated   \n1208  I am joined by New Zealand’s largest business,...  not evaluated   \n1209  The commitment o f New Zealanders from across ...  not evaluated   \n1210                            Thank you Mr President.  not evaluated   \n1211                                          Kia Kaha   not evaluated   \n\n                  TOPIC            UNIT          SHAPE  \n0         not evaluated   not evaluated  not evaluated  \n1         not evaluated   not evaluated  not evaluated  \n2         not evaluated   not evaluated  not evaluated  \n3     new UNFCCC policy  responsibility       equality  \n4         not evaluated   not evaluated  not evaluated  \n...                 ...             ...            ...  \n1207      not evaluated   not evaluated  not evaluated  \n1208      not evaluated   not evaluated  not evaluated  \n1209      not evaluated   not evaluated  not evaluated  \n1210      not evaluated   not evaluated  not evaluated  \n1211      not evaluated   not evaluated  not evaluated  \n\n[1212 rows x 5 columns]",
      "text/html": "<div>\n<style scoped>\n    .dataframe tbody tr th:only-of-type {\n        vertical-align: middle;\n    }\n\n    .dataframe tbody tr th {\n        vertical-align: top;\n    }\n\n    .dataframe thead th {\n        text-align: right;\n    }\n</style>\n<table border=\"1\" class=\"dataframe\">\n  <thead>\n    <tr style=\"text-align: right;\">\n      <th></th>\n      <th>Text</th>\n      <th>PRINCIPLE</th>\n      <th>TOPIC</th>\n      <th>UNIT</th>\n      <th>SHAPE</th>\n    </tr>\n  </thead>\n  <tbody>\n    <tr>\n      <th>0</th>\n      <td>Thank you, Mr. President .</td>\n      <td>not evaluated</td>\n      <td>not evaluated</td>\n      <td>not evaluated</td>\n      <td>not evaluated</td>\n    </tr>\n    <tr>\n      <th>1</th>\n      <td>On beha lf of the government of Japan , I wou...</td>\n      <td>not evaluated</td>\n      <td>not evaluated</td>\n      <td>not evaluated</td>\n      <td>not evaluated</td>\n    </tr>\n    <tr>\n      <th>2</th>\n      <td>I would also like to expr ess my d eepest con...</td>\n      <td>not evaluated</td>\n      <td>not evaluated</td>\n      <td>not evaluated</td>\n      <td>not evaluated</td>\n    </tr>\n    <tr>\n      <th>3</th>\n      <td>Mr. President:  A fair and effective framewor...</td>\n      <td>utilitarian</td>\n      <td>new UNFCCC policy</td>\n      <td>responsibility</td>\n      <td>equality</td>\n    </tr>\n    <tr>\n      <th>4</th>\n      <td>In this regard, Japan firmly supports the est...</td>\n      <td>not evaluated</td>\n      <td>not evaluated</td>\n      <td>not evaluated</td>\n      <td>not evaluated</td>\n    </tr>\n    <tr>\n      <th>...</th>\n      <td>...</td>\n      <td>...</td>\n      <td>...</td>\n      <td>...</td>\n      <td>...</td>\n    </tr>\n    <tr>\n      <th>1207</th>\n      <td>New Zealand is proud to suppor t several impo...</td>\n      <td>not evaluated</td>\n      <td>not evaluated</td>\n      <td>not evaluated</td>\n      <td>not evaluated</td>\n    </tr>\n    <tr>\n      <th>1208</th>\n      <td>I am joined by New Zealand’s largest business,...</td>\n      <td>not evaluated</td>\n      <td>not evaluated</td>\n      <td>not evaluated</td>\n      <td>not evaluated</td>\n    </tr>\n    <tr>\n      <th>1209</th>\n      <td>The commitment o f New Zealanders from across ...</td>\n      <td>not evaluated</td>\n      <td>not evaluated</td>\n      <td>not evaluated</td>\n      <td>not evaluated</td>\n    </tr>\n    <tr>\n      <th>1210</th>\n      <td>Thank you Mr President.</td>\n      <td>not evaluated</td>\n      <td>not evaluated</td>\n      <td>not evaluated</td>\n      <td>not evaluated</td>\n    </tr>\n    <tr>\n      <th>1211</th>\n      <td>Kia Kaha</td>\n      <td>not evaluated</td>\n      <td>not evaluated</td>\n      <td>not evaluated</td>\n      <td>not evaluated</td>\n    </tr>\n  </tbody>\n</table>\n<p>1212 rows × 5 columns</p>\n</div>"
     },
     "execution_count": 4,
     "metadata": {},
     "output_type": "execute_result"
    }
   ],
   "source": [
    "# Select only columns containing relevance labels\n",
    "HLS = HLS_train[['Text', 'PRINCIPLE','TOPIC', 'UNIT', 'SHAPE']]\n",
    "HLS"
   ],
   "metadata": {
    "collapsed": false,
    "ExecuteTime": {
     "start_time": "2024-06-01T18:35:58.150396Z",
     "end_time": "2024-06-01T18:35:58.203694Z"
    }
   }
  },
  {
   "cell_type": "code",
   "execution_count": 5,
   "outputs": [
    {
     "data": {
      "text/plain": "not evaluated                  992\nprioritarian                    66\nutilitarian                     59\negalitarian                     52\ngeneral normative statement     34\nsufficientarian                  8\nlibertarian                      1\nName: PRINCIPLE, dtype: int64"
     },
     "execution_count": 5,
     "metadata": {},
     "output_type": "execute_result"
    }
   ],
   "source": [
    "HLS.PRINCIPLE.value_counts()"
   ],
   "metadata": {
    "collapsed": false,
    "ExecuteTime": {
     "start_time": "2024-06-01T18:36:02.199074Z",
     "end_time": "2024-06-01T18:36:02.208272Z"
    }
   }
  },
  {
   "cell_type": "code",
   "execution_count": 6,
   "outputs": [
    {
     "data": {
      "text/plain": "not evaluated                       992\nother                                46\nnew UNFCCC policy                    41\nurgency                              36\nUNFCCC agreements and principles     32\ncooperation                          23\nfinancial mechanisms                 22\nadaptation and mitigation            11\nmitigation                            7\nadaptation                            2\nName: TOPIC, dtype: int64"
     },
     "execution_count": 6,
     "metadata": {},
     "output_type": "execute_result"
    }
   ],
   "source": [
    "HLS.TOPIC.value_counts()"
   ],
   "metadata": {
    "collapsed": false,
    "ExecuteTime": {
     "start_time": "2024-06-01T18:36:03.625225Z",
     "end_time": "2024-06-01T18:36:03.650758Z"
    }
   }
  },
  {
   "cell_type": "code",
   "execution_count": 7,
   "outputs": [
    {
     "data": {
      "text/plain": "not evaluated                            992\nnot indicated                            106\nresponsibility                            49\nfinancial resources                       31\nsupport                                   19\nfinancial and technological resources      8\nother                                      4\ntechnological resources                    3\nName: UNIT, dtype: int64"
     },
     "execution_count": 7,
     "metadata": {},
     "output_type": "execute_result"
    }
   ],
   "source": [
    "HLS.UNIT.value_counts()"
   ],
   "metadata": {
    "collapsed": false,
    "ExecuteTime": {
     "start_time": "2024-06-01T18:36:05.789324Z",
     "end_time": "2024-06-01T18:36:05.833863Z"
    }
   }
  },
  {
   "cell_type": "code",
   "execution_count": 8,
   "outputs": [
    {
     "data": {
      "text/plain": "not evaluated                   994\nnot indicated                   130\npriority to worst off            34\nproportional to commitment       19\nequity                           14\nequality                         11\nneeds based                       5\nproportional to contribution      5\nName: SHAPE, dtype: int64"
     },
     "execution_count": 8,
     "metadata": {},
     "output_type": "execute_result"
    }
   ],
   "source": [
    "HLS.SHAPE.value_counts()"
   ],
   "metadata": {
    "collapsed": false,
    "ExecuteTime": {
     "start_time": "2024-06-01T18:36:19.370541Z",
     "end_time": "2024-06-01T18:36:19.396339Z"
    }
   }
  },
  {
   "cell_type": "markdown",
   "source": [
    "Classes are VERY imbalanced\n"
   ],
   "metadata": {
    "collapsed": false
   }
  },
  {
   "cell_type": "markdown",
   "source": [
    "### 2. Import necessary files\n",
    "- codebooks\n",
    "- API key\n",
    "- import gpt_annotate_num"
   ],
   "metadata": {
    "collapsed": false
   }
  },
  {
   "cell_type": "code",
   "execution_count": 9,
   "outputs": [],
   "source": [
    "# OpenAI key\n",
    "with open('gpt_api_key.txt', 'r') as f:\n",
    "    key = f.read().strip()"
   ],
   "metadata": {
    "collapsed": false,
    "ExecuteTime": {
     "start_time": "2024-06-01T18:36:46.016488Z",
     "end_time": "2024-06-01T18:36:46.017005Z"
    }
   }
  },
  {
   "cell_type": "code",
   "execution_count": 10,
   "outputs": [],
   "source": [
    "import gpt_annotate_string"
   ],
   "metadata": {
    "collapsed": false,
    "ExecuteTime": {
     "start_time": "2024-06-01T18:36:46.582282Z",
     "end_time": "2024-06-01T18:37:02.079914Z"
    }
   }
  },
  {
   "cell_type": "code",
   "execution_count": 11,
   "outputs": [],
   "source": [
    "# Load codebook - zero shot\n",
    "with open('codebooks/B4.0', 'r', encoding='utf-8') as file:\n",
    "    B40 = file.read()"
   ],
   "metadata": {
    "collapsed": false,
    "ExecuteTime": {
     "start_time": "2024-06-01T18:38:02.759509Z",
     "end_time": "2024-06-01T18:38:02.786679Z"
    }
   }
  },
  {
   "cell_type": "markdown",
   "source": [
    "### 3. Prepare data for annotation\n",
    "Compares column names in HLS_principle to the codes identified by GPT-4o in the codebook. Seed for this identification is set to 1234."
   ],
   "metadata": {
    "collapsed": false
   }
  },
  {
   "cell_type": "code",
   "execution_count": 13,
   "outputs": [
    {
     "name": "stdout",
     "output_type": "stream",
     "text": [
      "ChatCompletion(id='chatcmpl-9VM2BkUjpLsBnVZDaC9pSXNp1P7HS', choices=[Choice(finish_reason='stop', index=0, logprobs=None, message=ChatCompletionMessage(content='PRINCIPLE, TOPIC, UNIT, SHAPE', role='assistant', function_call=None, tool_calls=None))], created=1717259895, model='gpt-4o-2024-05-13', object='chat.completion', system_fingerprint='fp_319be4768e', usage=CompletionUsage(completion_tokens=11, prompt_tokens=1731, total_tokens=1742))\n",
      "\n",
      "Categories to annotate:\n",
      "1) PRINCIPLE\n",
      "2) TOPIC\n",
      "3) UNIT\n",
      "4) SHAPE\n",
      "\n",
      "\n",
      "Data is ready to be annotated using gpt_annotate()!\n",
      "\n",
      "Glimpse of your data:\n",
      "Shape of data:  (1212, 7)\n",
      "   unique_id                                               text  \\\n",
      "0          0                         Thank you, Mr. President .   \n",
      "1          1   On beha lf of the government of Japan , I wou...   \n",
      "2          2   I would also like to expr ess my d eepest con...   \n",
      "3          3   Mr. President:  A fair and effective framewor...   \n",
      "4          4   In this regard, Japan firmly supports the est...   \n",
      "\n",
      "       PRINCIPLE              TOPIC            UNIT          SHAPE  \\\n",
      "0  not evaluated      not evaluated   not evaluated  not evaluated   \n",
      "1  not evaluated      not evaluated   not evaluated  not evaluated   \n",
      "2  not evaluated      not evaluated   not evaluated  not evaluated   \n",
      "3    utilitarian  new UNFCCC policy  responsibility       equality   \n",
      "4  not evaluated      not evaluated   not evaluated  not evaluated   \n",
      "\n",
      "                                           llm_query  \n",
      "0                    0  Thank you, Mr. President .\\n  \n",
      "1  1  On beha lf of the government of Japan , I w...  \n",
      "2  2  I would also like to expr ess my d eepest c...  \n",
      "3  3  Mr. President:  A fair and effective framew...  \n",
      "4  4  In this regard, Japan firmly supports the e...  \n"
     ]
    }
   ],
   "source": [
    "# Prepare dataframe for annotation\n",
    "text_to_annotate = gpt_annotate_string.prepare_data(HLS, B40, key, prep_codebook=True)"
   ],
   "metadata": {
    "collapsed": false,
    "ExecuteTime": {
     "start_time": "2024-06-01T18:38:14.671310Z",
     "end_time": "2024-06-01T18:38:17.141865Z"
    }
   }
  },
  {
   "cell_type": "markdown",
   "source": [
    "Fingerprint used: fp_319be4768e\n",
    "Unsure as to why a different fingerprint is used.\n",
    "Fingerprint used in other tests: fp_43dfabdef1\n",
    "\n",
    "Seed of textpreparation is hardcoded into gpt_annotate. This to ensure that only the results of the same fingerprint for all seeds and all iterations. Essentially every time GPT-4o is called only results with this specific fingerprint are saved."
   ],
   "metadata": {
    "collapsed": false
   }
  },
  {
   "cell_type": "markdown",
   "source": [
    "# 4. Run gpt_annotate_num\n",
    "Evaluation per seed -\n",
    "5 different seeds\n",
    "Batch of 20 sentences\n",
    "1 iteration\n",
    "\n",
    "Returns 3 outputs:\n",
    "1. all_iterations_{seed}.csv\n",
    "2. fingerprints_all.csv\n",
    "3. missed_batches.csv\n",
    "\n",
    "## B4.0 full annotation on all sentences"
   ],
   "metadata": {
    "collapsed": false
   }
  },
  {
   "cell_type": "code",
   "execution_count": 14,
   "outputs": [],
   "source": [
    "fingerprint = 'fp_319be4768e'\n",
    "## Take fingerprint into account!! Could go wrong\n",
    "\n",
    "#Block seed to prevent accidental rerun of gpt_annotate\n",
    "seeds = [3644,3441, 280, 5991, 7917]"
   ],
   "metadata": {
    "collapsed": false,
    "ExecuteTime": {
     "start_time": "2024-06-01T18:38:49.062008Z",
     "end_time": "2024-06-01T18:38:49.067270Z"
    }
   }
  },
  {
   "cell_type": "code",
   "execution_count": 15,
   "outputs": [
    {
     "name": "stdout",
     "output_type": "stream",
     "text": [
      "3644 - iteration 1\n",
      "iteration:  1 completed\n",
      "3441 - iteration 1\n",
      "3441 - I1 - B4 fingerprint does not match\n",
      "iteration:  1 completed\n",
      "280 - iteration 1\n",
      "280 - I1 - B36 fingerprint does not match\n",
      "iteration:  1 completed\n",
      "5991 - iteration 1\n",
      "5991 - I1 - B25 fingerprint does not match\n",
      "iteration:  1 completed\n",
      "7917 - iteration 1\n",
      "7917 - I1 - B10 fingerprint does not match\n",
      "7917 - I1 - B26 fingerprint does not match\n",
      "iteration:  1 completed\n"
     ]
    }
   ],
   "source": [
    "# Annotate the data - T0 - I1\n",
    "for seed in seeds:\n",
    "    gpt_annotate_string.gpt_annotate(text_to_annotate, B40, key, seed,fingerprint, experiment=\"B4.0\",  num_iterations=1, model=\"gpt-4o\", temperature=0, batch_size=20, human_labels=True)"
   ],
   "metadata": {
    "collapsed": false,
    "ExecuteTime": {
     "start_time": "2024-06-01T18:38:52.645349Z",
     "end_time": "2024-06-01T19:09:51.006761Z"
    }
   }
  },
  {
   "cell_type": "code",
   "execution_count": null,
   "outputs": [],
   "source": [],
   "metadata": {
    "collapsed": false
   }
  }
 ],
 "metadata": {
  "kernelspec": {
   "display_name": "Python 3",
   "language": "python",
   "name": "python3"
  },
  "language_info": {
   "codemirror_mode": {
    "name": "ipython",
    "version": 2
   },
   "file_extension": ".py",
   "mimetype": "text/x-python",
   "name": "python",
   "nbconvert_exporter": "python",
   "pygments_lexer": "ipython2",
   "version": "2.7.6"
  }
 },
 "nbformat": 4,
 "nbformat_minor": 0
}
