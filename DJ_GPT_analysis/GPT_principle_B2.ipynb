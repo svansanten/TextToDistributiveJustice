{
 "cells": [
  {
   "cell_type": "code",
   "execution_count": 1,
   "metadata": {
    "collapsed": true,
    "ExecuteTime": {
     "start_time": "2024-05-28T19:09:07.855577Z",
     "end_time": "2024-05-28T19:09:07.872286Z"
    }
   },
   "outputs": [],
   "source": [
    "import numpy as np\n",
    "import pandas as pd\n",
    "import os\n",
    "import re\n",
    "import matplotlib.pyplot as plt\n",
    "import seaborn as sns\n",
    "import difflib"
   ]
  },
  {
   "cell_type": "markdown",
   "source": [
    "## Notebook to annotate HLS speeches for principles\n",
    "### B: string-based labels\n",
    "\n",
    "Codebooks:\n",
    "- B2.0: zero shot\n",
    "- B2.1: one shot\n",
    "\n",
    "Only apply on sentences in OG dataframe labelled as relevant\n",
    "Temperature: 0\n",
    "Iterations: 1\n",
    "\n",
    "Model selection:\n",
    " As of 22-05-2024, gpt-4-turbo-2024-04-09 seems to be the only gpt-model that returns a fingerprint in addition to gpt-4o\n",
    "\n",
    "  #model= \"gpt-4-turbo-2024-04-09\"\n",
    "  #model = \"gpt-3.5-turbo-0125\"\n"
   ],
   "metadata": {
    "collapsed": false
   }
  },
  {
   "cell_type": "markdown",
   "source": [
    "### 1. Import text to annotate\n",
    "Select only relevant columns of the full dataframe, in this case:\n",
    "PRINCIPLE\n",
    "\n",
    "In this case, evaluation is performed on only the sentences that are deemed relevant in the manual annotation. Only these sentences are labelled for the principle they present."
   ],
   "metadata": {
    "collapsed": false
   }
  },
  {
   "cell_type": "code",
   "execution_count": 2,
   "outputs": [],
   "source": [
    "# Import string based datafile\n",
    "HLS_train = pd.read_csv('data/string/HLS_train_string.csv')"
   ],
   "metadata": {
    "collapsed": false,
    "ExecuteTime": {
     "start_time": "2024-05-28T19:09:07.877266Z",
     "end_time": "2024-05-28T19:09:07.910622Z"
    }
   }
  },
  {
   "cell_type": "code",
   "execution_count": 3,
   "outputs": [],
   "source": [
    "### Select only japan for testing purposes\n",
    "#HLS_train_japan = HLS_train[HLS_train['id']=='COP19_japan']\n",
    "HLS_train_relevant = HLS_train[HLS_train['RELEVANCE']=='Relevant']"
   ],
   "metadata": {
    "collapsed": false,
    "ExecuteTime": {
     "start_time": "2024-05-28T19:09:08.183112Z",
     "end_time": "2024-05-28T19:09:08.203662Z"
    }
   }
  },
  {
   "cell_type": "code",
   "execution_count": 4,
   "outputs": [
    {
     "data": {
      "text/plain": "                                                Text      PRINCIPLE\n0                         Thank you, Mr. President .  not evaluated\n1   On beha lf of the government of Japan , I wou...  not evaluated\n2   I would also like to expr ess my d eepest con...  not evaluated\n3   Mr. President:  A fair and effective framewor...    utilitarian\n4   In this regard, Japan firmly supports the est...  not evaluated",
      "text/html": "<div>\n<style scoped>\n    .dataframe tbody tr th:only-of-type {\n        vertical-align: middle;\n    }\n\n    .dataframe tbody tr th {\n        vertical-align: top;\n    }\n\n    .dataframe thead th {\n        text-align: right;\n    }\n</style>\n<table border=\"1\" class=\"dataframe\">\n  <thead>\n    <tr style=\"text-align: right;\">\n      <th></th>\n      <th>Text</th>\n      <th>PRINCIPLE</th>\n    </tr>\n  </thead>\n  <tbody>\n    <tr>\n      <th>0</th>\n      <td>Thank you, Mr. President .</td>\n      <td>not evaluated</td>\n    </tr>\n    <tr>\n      <th>1</th>\n      <td>On beha lf of the government of Japan , I wou...</td>\n      <td>not evaluated</td>\n    </tr>\n    <tr>\n      <th>2</th>\n      <td>I would also like to expr ess my d eepest con...</td>\n      <td>not evaluated</td>\n    </tr>\n    <tr>\n      <th>3</th>\n      <td>Mr. President:  A fair and effective framewor...</td>\n      <td>utilitarian</td>\n    </tr>\n    <tr>\n      <th>4</th>\n      <td>In this regard, Japan firmly supports the est...</td>\n      <td>not evaluated</td>\n    </tr>\n  </tbody>\n</table>\n</div>"
     },
     "execution_count": 4,
     "metadata": {},
     "output_type": "execute_result"
    }
   ],
   "source": [
    "# Select only columns containing relevance labels\n",
    "HLS_principle = HLS_train[['Text', 'PRINCIPLE']]\n",
    "HLS_principle.head()"
   ],
   "metadata": {
    "collapsed": false,
    "ExecuteTime": {
     "start_time": "2024-05-28T19:09:10.628046Z",
     "end_time": "2024-05-28T19:09:10.669383Z"
    }
   }
  },
  {
   "cell_type": "markdown",
   "source": [
    "### 2. Import necessary files\n",
    "- codebooks\n",
    "- API key\n",
    "- import gpt_annotate_num"
   ],
   "metadata": {
    "collapsed": false
   }
  },
  {
   "cell_type": "code",
   "execution_count": 5,
   "outputs": [],
   "source": [
    "# Load codebook - zero shot\n",
    "with open('codebooks/B2.0', 'r', encoding='utf-8') as file:\n",
    "    B20 = file.read()"
   ],
   "metadata": {
    "collapsed": false,
    "ExecuteTime": {
     "start_time": "2024-05-28T19:09:12.193612Z",
     "end_time": "2024-05-28T19:09:12.243540Z"
    }
   }
  },
  {
   "cell_type": "code",
   "execution_count": 6,
   "outputs": [],
   "source": [
    "# OpenAI key\n",
    "with open('gpt_api_key.txt', 'r') as f:\n",
    "    key = f.read().strip()"
   ],
   "metadata": {
    "collapsed": false,
    "ExecuteTime": {
     "start_time": "2024-05-28T19:09:13.527516Z",
     "end_time": "2024-05-28T19:09:13.538775Z"
    }
   }
  },
  {
   "cell_type": "code",
   "execution_count": 7,
   "outputs": [],
   "source": [
    "import gpt_annotate_string"
   ],
   "metadata": {
    "collapsed": false,
    "ExecuteTime": {
     "start_time": "2024-05-28T19:09:14.066562Z",
     "end_time": "2024-05-28T19:09:40.801367Z"
    }
   }
  },
  {
   "cell_type": "markdown",
   "source": [
    "### 3. Prepare data for annotation\n",
    "Compares column names in HLS_relevance to the codes identified by GPT-4o in the codebook. Seed for this identification is set to 1234."
   ],
   "metadata": {
    "collapsed": false
   }
  },
  {
   "cell_type": "code",
   "execution_count": 8,
   "outputs": [
    {
     "name": "stdout",
     "output_type": "stream",
     "text": [
      "ChatCompletion(id='chatcmpl-9TucTLCEnrxTwVha51BcaUMAvMnBr', choices=[Choice(finish_reason='stop', index=0, logprobs=None, message=ChatCompletionMessage(content='PRINCIPLE', role='assistant', function_call=None, tool_calls=None))], created=1716916185, model='gpt-4o-2024-05-13', object='chat.completion', system_fingerprint='fp_43dfabdef1', usage=CompletionUsage(completion_tokens=3, prompt_tokens=584, total_tokens=587))\n",
      "\n",
      "Categories to annotate:\n",
      "1) PRINCIPLE\n",
      "\n",
      "\n",
      "Data is ready to be annotated using gpt_annotate()!\n",
      "\n",
      "Glimpse of your data:\n",
      "Shape of data:  (1212, 4)\n",
      "   unique_id                                               text  \\\n",
      "0          0                         Thank you, Mr. President .   \n",
      "1          1   On beha lf of the government of Japan , I wou...   \n",
      "2          2   I would also like to expr ess my d eepest con...   \n",
      "3          3   Mr. President:  A fair and effective framewor...   \n",
      "4          4   In this regard, Japan firmly supports the est...   \n",
      "\n",
      "       PRINCIPLE                                          llm_query  \n",
      "0  not evaluated                    0  Thank you, Mr. President .\\n  \n",
      "1  not evaluated  1  On beha lf of the government of Japan , I w...  \n",
      "2  not evaluated  2  I would also like to expr ess my d eepest c...  \n",
      "3    utilitarian  3  Mr. President:  A fair and effective framew...  \n",
      "4  not evaluated  4  In this regard, Japan firmly supports the e...  \n"
     ]
    }
   ],
   "source": [
    "# Prepare dataframe for annotation\n",
    "text_to_annotate = gpt_annotate_string.prepare_data(HLS_principle, B20, key, prep_codebook=True)"
   ],
   "metadata": {
    "collapsed": false,
    "ExecuteTime": {
     "start_time": "2024-05-28T19:09:44.110351Z",
     "end_time": "2024-05-28T19:09:47.019977Z"
    }
   }
  },
  {
   "cell_type": "markdown",
   "source": [
    "Fingerprint used: fp_43dfabdef1\n",
    "\n",
    "Seed of textpreparation is hardcoded into gpt_annotate. This to ensure that onlye the results of the same fingerprint for all seeds and all iterations. Essentially every time GPT-4o is called only results with this specific fingerprint are saved."
   ],
   "metadata": {
    "collapsed": false
   }
  },
  {
   "cell_type": "markdown",
   "source": [
    "# 4. Run gpt_annotate_num\n",
    "Evaluation per seed -\n",
    "5 different seeds\n",
    "Batch of 20 sentences\n",
    "1 iteration\n",
    "\n",
    "Returns 3 outputs:\n",
    "1. all_iterations_{seed}.csv\n",
    "2. fingerprints_all.csv\n",
    "3. missed_batches.csv\n",
    "\n",
    "## B2.0 principle - zero shot"
   ],
   "metadata": {
    "collapsed": false
   }
  },
  {
   "cell_type": "code",
   "execution_count": 9,
   "outputs": [],
   "source": [
    "fingerprint = 'fp_43dfabdef1'\n",
    "\n",
    "#Block seed to prevent accidental rerun of gpt_annotate\n",
    "#seeds = [3644,3441, 280, 5991, 7917]"
   ],
   "metadata": {
    "collapsed": false,
    "ExecuteTime": {
     "start_time": "2024-05-28T19:10:20.814357Z",
     "end_time": "2024-05-28T19:10:20.845971Z"
    }
   }
  },
  {
   "cell_type": "code",
   "execution_count": 10,
   "outputs": [
    {
     "name": "stdout",
     "output_type": "stream",
     "text": [
      "3644 - iteration 1\n",
      "3644 - I1 - B4 fingerprint does not match\n",
      "3644 - I1 - B10 fingerprint does not match\n",
      "3644 - I1 - B27 fingerprint does not match\n",
      "3644 - I1 - B46 fingerprint does not match\n",
      "3644 - I1 - B50 fingerprint does not match\n",
      "iteration:  1 completed\n",
      "3441 - iteration 1\n",
      "3441 - I1 - B27 fingerprint does not match\n",
      "iteration:  1 completed\n",
      "280 - iteration 1\n",
      "280 - I1 - B33 fingerprint does not match\n",
      "280 - I1 - B47 fingerprint does not match\n",
      "280 - I1 - B58 fingerprint does not match\n",
      "280 - I1 - B60 fingerprint does not match\n",
      "iteration:  1 completed\n",
      "5991 - iteration 1\n",
      "5991 - I1 - B8 fingerprint does not match\n",
      "5991 - I1 - B25 fingerprint does not match\n",
      "5991 - I1 - B37 fingerprint does not match\n",
      "iteration:  1 completed\n",
      "7917 - iteration 1\n",
      "7917 - I1 - B25 fingerprint does not match\n",
      "7917 - I1 - B49 fingerprint does not match\n",
      "7917 - I1 - B55 fingerprint does not match\n",
      "iteration:  1 completed\n"
     ]
    }
   ],
   "source": [
    "# Annotate the data - T0 - I1\n",
    "for seed in seeds:\n",
    "    gpt_annotate_string.gpt_annotate(text_to_annotate, B20, key, seed,fingerprint, experiment=\"B2.0\",  num_iterations=1, model=\"gpt-4o\", temperature=0, batch_size=20, human_labels=True)"
   ],
   "metadata": {
    "collapsed": false,
    "ExecuteTime": {
     "start_time": "2024-05-28T19:10:34.064771Z",
     "end_time": "2024-05-28T19:28:11.694610Z"
    }
   }
  },
  {
   "cell_type": "markdown",
   "source": [
    "## B2.1 principle - one shot"
   ],
   "metadata": {
    "collapsed": false
   }
  },
  {
   "cell_type": "code",
   "execution_count": 28,
   "outputs": [],
   "source": [
    "# Load codebook - zero shot\n",
    "with open('codebooks/B2.1', 'r', encoding='utf-8') as file:\n",
    "    B21 = file.read()"
   ],
   "metadata": {
    "collapsed": false,
    "ExecuteTime": {
     "start_time": "2024-05-28T23:09:03.874392Z",
     "end_time": "2024-05-28T23:09:03.900337Z"
    }
   }
  },
  {
   "cell_type": "code",
   "execution_count": 29,
   "outputs": [
    {
     "name": "stdout",
     "output_type": "stream",
     "text": [
      "3644 - iteration 1\n",
      "3644 - I1 - B2 fingerprint does not match\n",
      "3644 - I1 - B12 fingerprint does not match\n",
      "3644 - I1 - B25 fingerprint does not match\n",
      "3644 - I1 - B45 fingerprint does not match\n",
      "iteration:  1 completed\n",
      "3441 - iteration 1\n",
      "3441 - I1 - B1 fingerprint does not match\n",
      "3441 - I1 - B3 fingerprint does not match\n",
      "3441 - I1 - B7 fingerprint does not match\n",
      "3441 - I1 - B38 fingerprint does not match\n",
      "iteration:  1 completed\n",
      "280 - iteration 1\n",
      "280 - I1 - B16 fingerprint does not match\n",
      "280 - I1 - B17 fingerprint does not match\n",
      "280 - I1 - B18 fingerprint does not match\n",
      "280 - I1 - B41 fingerprint does not match\n",
      "iteration:  1 completed\n",
      "5991 - iteration 1\n",
      "5991 - I1 - B28 fingerprint does not match\n",
      "5991 - I1 - B31 fingerprint does not match\n",
      "5991 - I1 - B57 fingerprint does not match\n",
      "iteration:  1 completed\n",
      "7917 - iteration 1\n",
      "7917 - I1 - B5 fingerprint does not match\n",
      "7917 - I1 - B19 fingerprint does not match\n",
      "7917 - I1 - B33 fingerprint does not match\n",
      "7917 - I1 - B50 fingerprint does not match\n",
      "7917 - I1 - B61 fingerprint does not match\n",
      "iteration:  1 completed\n"
     ]
    }
   ],
   "source": [
    "# Annotate the data - T0 - I1\n",
    "for seed in seeds:\n",
    "    gpt_annotate_string.gpt_annotate(text_to_annotate, B21, key, seed,fingerprint, experiment=\"B2.1\",  num_iterations=1, model=\"gpt-4o\", temperature=0, batch_size=20, human_labels=True)"
   ],
   "metadata": {
    "collapsed": false,
    "ExecuteTime": {
     "start_time": "2024-05-28T23:09:19.767524Z",
     "end_time": "2024-05-28T23:26:41.553563Z"
    }
   }
  },
  {
   "cell_type": "markdown",
   "source": [
    "### 5. Define evaluation functions\n"
   ],
   "metadata": {
    "collapsed": false
   }
  },
  {
   "cell_type": "code",
   "execution_count": 12,
   "outputs": [],
   "source": [
    "# Define similarity score function and save to DF\n",
    "def get_similarity_score(Rx, Ry):\n",
    "    # Ensure Rx and Ry are pandas Series and convert to strings with stripped whitespace\n",
    "    Rx = Rx.astype(str).str.strip()\n",
    "    Ry = Ry.astype(str).str.strip()\n",
    "\n",
    "    # Calculate similarity scores\n",
    "    similarity_scores = Rx.combine(Ry, lambda x, y: difflib.SequenceMatcher(None, x, y).ratio())\n",
    "\n",
    "    # Apply the threshold - maybe put higher?\n",
    "    similarity_scores = similarity_scores.apply(lambda x: x if x >= 0.9 else 0)\n",
    "\n",
    "    # Return the mean similarity score as a percentage - no need for mean as 1 iteration is used\n",
    "    return similarity_scores.mean()"
   ],
   "metadata": {
    "collapsed": false,
    "ExecuteTime": {
     "start_time": "2024-05-28T22:59:34.332338Z",
     "end_time": "2024-05-28T22:59:34.352419Z"
    }
   }
  },
  {
   "cell_type": "code",
   "execution_count": 15,
   "outputs": [],
   "source": [
    "def similarity(directory):\n",
    "    # Iterate through each file in the directory\n",
    "    list = []\n",
    "    for filename in os.listdir(directory):\n",
    "        file_path = os.path.join(directory, filename)\n",
    "        df = pd.read_csv(file_path)\n",
    "        Rx = df['PRINCIPLE_x']\n",
    "        Ry = df['PRINCIPLE_y']\n",
    "\n",
    "        similarity_score = get_similarity_score(Rx,Ry)\n",
    "\n",
    "        #Save the score in a dataframe\n",
    "        list.append((filename, similarity_score))\n",
    "\n",
    "    similarity = pd.DataFrame(list, columns=['filename', 'similarity ALL'])\n",
    "    return similarity\n"
   ],
   "metadata": {
    "collapsed": false,
    "ExecuteTime": {
     "start_time": "2024-05-28T23:00:19.786520Z",
     "end_time": "2024-05-28T23:00:19.796639Z"
    }
   }
  },
  {
   "cell_type": "code",
   "execution_count": 22,
   "outputs": [],
   "source": [
    "def recall(directory, principle_x):\n",
    "    # Iterate through each file in the directory\n",
    "    list = []\n",
    "    for filename in os.listdir(directory):\n",
    "        file_path = os.path.join(directory, filename)\n",
    "        df = pd.read_csv(file_path)\n",
    "\n",
    "        relevant_df = df[df['PRINCIPLE_x'] == principle_x]\n",
    "\n",
    "        Rx = relevant_df['PRINCIPLE_x']\n",
    "        Ry = relevant_df['PRINCIPLE_y']\n",
    "\n",
    "        similarity_score = get_similarity_score(Rx,Ry)\n",
    "\n",
    "        #Save the score in a dataframe\n",
    "        list.append((filename, similarity_score))\n",
    "\n",
    "    recall = pd.DataFrame(list, columns=['filename', f'{principle_x} recall'])\n",
    "    return recall"
   ],
   "metadata": {
    "collapsed": false,
    "ExecuteTime": {
     "start_time": "2024-05-28T23:05:07.565335Z",
     "end_time": "2024-05-28T23:05:07.565335Z"
    }
   }
  },
  {
   "cell_type": "code",
   "execution_count": 30,
   "outputs": [],
   "source": [
    "def precision(directory, principle_y):\n",
    "    # Iterate through each file in the directory\n",
    "    list = []\n",
    "    for filename in os.listdir(directory):\n",
    "        file_path = os.path.join(directory, filename)\n",
    "        df = pd.read_csv(file_path)\n",
    "\n",
    "        relevant_df = df[df['PRINCIPLE_y'] == principle_y]\n",
    "\n",
    "        Rx = relevant_df['PRINCIPLE_x']\n",
    "        Ry = relevant_df['PRINCIPLE_y']\n",
    "\n",
    "        similarity_score = get_similarity_score(Rx,Ry)\n",
    "\n",
    "        #Save the score in a dataframe\n",
    "        list.append((filename, similarity_score))\n",
    "\n",
    "    precision = pd.DataFrame(list, columns=['filename', f'{principle_y} precision'])\n",
    "    return precision"
   ],
   "metadata": {
    "collapsed": false,
    "ExecuteTime": {
     "start_time": "2024-05-28T23:26:41.562197Z",
     "end_time": "2024-05-28T23:26:41.567962Z"
    }
   }
  },
  {
   "cell_type": "markdown",
   "source": [
    "### 6. Evaluate performance"
   ],
   "metadata": {
    "collapsed": false
   }
  },
  {
   "cell_type": "code",
   "execution_count": 16,
   "outputs": [
    {
     "data": {
      "text/plain": "                            filename  similarity ALL\n0   all_iterations_string_T0_280.csv        0.119258\n1  all_iterations_string_T0_3441.csv        0.111577\n2  all_iterations_string_T0_3644.csv        0.110612\n3  all_iterations_string_T0_5991.csv        0.111979\n4  all_iterations_string_T0_7917.csv        0.115451",
      "text/html": "<div>\n<style scoped>\n    .dataframe tbody tr th:only-of-type {\n        vertical-align: middle;\n    }\n\n    .dataframe tbody tr th {\n        vertical-align: top;\n    }\n\n    .dataframe thead th {\n        text-align: right;\n    }\n</style>\n<table border=\"1\" class=\"dataframe\">\n  <thead>\n    <tr style=\"text-align: right;\">\n      <th></th>\n      <th>filename</th>\n      <th>similarity ALL</th>\n    </tr>\n  </thead>\n  <tbody>\n    <tr>\n      <th>0</th>\n      <td>all_iterations_string_T0_280.csv</td>\n      <td>0.119258</td>\n    </tr>\n    <tr>\n      <th>1</th>\n      <td>all_iterations_string_T0_3441.csv</td>\n      <td>0.111577</td>\n    </tr>\n    <tr>\n      <th>2</th>\n      <td>all_iterations_string_T0_3644.csv</td>\n      <td>0.110612</td>\n    </tr>\n    <tr>\n      <th>3</th>\n      <td>all_iterations_string_T0_5991.csv</td>\n      <td>0.111979</td>\n    </tr>\n    <tr>\n      <th>4</th>\n      <td>all_iterations_string_T0_7917.csv</td>\n      <td>0.115451</td>\n    </tr>\n  </tbody>\n</table>\n</div>"
     },
     "execution_count": 16,
     "metadata": {},
     "output_type": "execute_result"
    }
   ],
   "source": [
    "directory = 'STRING_RESULT/B2.0/all_iterations'\n",
    "similarity(directory)"
   ],
   "metadata": {
    "collapsed": false
   }
  },
  {
   "cell_type": "code",
   "execution_count": 23,
   "outputs": [
    {
     "data": {
      "text/plain": "                            filename  egalitarian recall\n0   all_iterations_string_T0_280.csv            0.625000\n1  all_iterations_string_T0_3441.csv            0.659574\n2  all_iterations_string_T0_3644.csv            0.702703\n3  all_iterations_string_T0_5991.csv            0.600000\n4  all_iterations_string_T0_7917.csv            0.647059",
      "text/html": "<div>\n<style scoped>\n    .dataframe tbody tr th:only-of-type {\n        vertical-align: middle;\n    }\n\n    .dataframe tbody tr th {\n        vertical-align: top;\n    }\n\n    .dataframe thead th {\n        text-align: right;\n    }\n</style>\n<table border=\"1\" class=\"dataframe\">\n  <thead>\n    <tr style=\"text-align: right;\">\n      <th></th>\n      <th>filename</th>\n      <th>egalitarian recall</th>\n    </tr>\n  </thead>\n  <tbody>\n    <tr>\n      <th>0</th>\n      <td>all_iterations_string_T0_280.csv</td>\n      <td>0.625000</td>\n    </tr>\n    <tr>\n      <th>1</th>\n      <td>all_iterations_string_T0_3441.csv</td>\n      <td>0.659574</td>\n    </tr>\n    <tr>\n      <th>2</th>\n      <td>all_iterations_string_T0_3644.csv</td>\n      <td>0.702703</td>\n    </tr>\n    <tr>\n      <th>3</th>\n      <td>all_iterations_string_T0_5991.csv</td>\n      <td>0.600000</td>\n    </tr>\n    <tr>\n      <th>4</th>\n      <td>all_iterations_string_T0_7917.csv</td>\n      <td>0.647059</td>\n    </tr>\n  </tbody>\n</table>\n</div>"
     },
     "execution_count": 23,
     "metadata": {},
     "output_type": "execute_result"
    }
   ],
   "source": [
    "principle_x =  'egalitarian'\n",
    "recall(directory,principle_x)"
   ],
   "metadata": {
    "collapsed": false,
    "ExecuteTime": {
     "start_time": "2024-05-28T23:05:13.110092Z",
     "end_time": "2024-05-28T23:05:13.200966Z"
    }
   }
  },
  {
   "cell_type": "code",
   "execution_count": 32,
   "outputs": [
    {
     "data": {
      "text/plain": "                            filename  egalitarian precision\n0   all_iterations_string_T0_280.csv               0.309278\n1  all_iterations_string_T0_3441.csv               0.264957\n2  all_iterations_string_T0_3644.csv               0.247619\n3  all_iterations_string_T0_5991.csv               0.300000\n4  all_iterations_string_T0_7917.csv               0.330000",
      "text/html": "<div>\n<style scoped>\n    .dataframe tbody tr th:only-of-type {\n        vertical-align: middle;\n    }\n\n    .dataframe tbody tr th {\n        vertical-align: top;\n    }\n\n    .dataframe thead th {\n        text-align: right;\n    }\n</style>\n<table border=\"1\" class=\"dataframe\">\n  <thead>\n    <tr style=\"text-align: right;\">\n      <th></th>\n      <th>filename</th>\n      <th>egalitarian precision</th>\n    </tr>\n  </thead>\n  <tbody>\n    <tr>\n      <th>0</th>\n      <td>all_iterations_string_T0_280.csv</td>\n      <td>0.309278</td>\n    </tr>\n    <tr>\n      <th>1</th>\n      <td>all_iterations_string_T0_3441.csv</td>\n      <td>0.264957</td>\n    </tr>\n    <tr>\n      <th>2</th>\n      <td>all_iterations_string_T0_3644.csv</td>\n      <td>0.247619</td>\n    </tr>\n    <tr>\n      <th>3</th>\n      <td>all_iterations_string_T0_5991.csv</td>\n      <td>0.300000</td>\n    </tr>\n    <tr>\n      <th>4</th>\n      <td>all_iterations_string_T0_7917.csv</td>\n      <td>0.330000</td>\n    </tr>\n  </tbody>\n</table>\n</div>"
     },
     "execution_count": 32,
     "metadata": {},
     "output_type": "execute_result"
    }
   ],
   "source": [
    "principle_y = 'egalitarian'\n",
    "precision(directory,principle_y)"
   ],
   "metadata": {
    "collapsed": false,
    "ExecuteTime": {
     "start_time": "2024-05-28T23:29:50.024964Z",
     "end_time": "2024-05-28T23:29:50.114987Z"
    }
   }
  },
  {
   "cell_type": "code",
   "execution_count": 31,
   "outputs": [
    {
     "data": {
      "text/plain": "                            filename  similarity ALL\n0   all_iterations_string_T0_280.csv        0.121025\n1  all_iterations_string_T0_3441.csv        0.119258\n2  all_iterations_string_T0_3644.csv        0.122792\n3  all_iterations_string_T0_5991.csv        0.121528\n4  all_iterations_string_T0_7917.csv        0.121429",
      "text/html": "<div>\n<style scoped>\n    .dataframe tbody tr th:only-of-type {\n        vertical-align: middle;\n    }\n\n    .dataframe tbody tr th {\n        vertical-align: top;\n    }\n\n    .dataframe thead th {\n        text-align: right;\n    }\n</style>\n<table border=\"1\" class=\"dataframe\">\n  <thead>\n    <tr style=\"text-align: right;\">\n      <th></th>\n      <th>filename</th>\n      <th>similarity ALL</th>\n    </tr>\n  </thead>\n  <tbody>\n    <tr>\n      <th>0</th>\n      <td>all_iterations_string_T0_280.csv</td>\n      <td>0.121025</td>\n    </tr>\n    <tr>\n      <th>1</th>\n      <td>all_iterations_string_T0_3441.csv</td>\n      <td>0.119258</td>\n    </tr>\n    <tr>\n      <th>2</th>\n      <td>all_iterations_string_T0_3644.csv</td>\n      <td>0.122792</td>\n    </tr>\n    <tr>\n      <th>3</th>\n      <td>all_iterations_string_T0_5991.csv</td>\n      <td>0.121528</td>\n    </tr>\n    <tr>\n      <th>4</th>\n      <td>all_iterations_string_T0_7917.csv</td>\n      <td>0.121429</td>\n    </tr>\n  </tbody>\n</table>\n</div>"
     },
     "execution_count": 31,
     "metadata": {},
     "output_type": "execute_result"
    }
   ],
   "source": [
    "B21 = 'STRING_RESULT/B2.1/all_iterations'\n",
    "similarity(B21)"
   ],
   "metadata": {
    "collapsed": false,
    "ExecuteTime": {
     "start_time": "2024-05-28T23:29:41.480828Z",
     "end_time": "2024-05-28T23:29:41.785111Z"
    }
   }
  },
  {
   "cell_type": "code",
   "execution_count": 33,
   "outputs": [
    {
     "data": {
      "text/plain": "                            filename  egalitarian recall\n0   all_iterations_string_T0_280.csv            0.580000\n1  all_iterations_string_T0_3441.csv            0.620000\n2  all_iterations_string_T0_3644.csv            0.591837\n3  all_iterations_string_T0_5991.csv            0.674419\n4  all_iterations_string_T0_7917.csv            0.673913",
      "text/html": "<div>\n<style scoped>\n    .dataframe tbody tr th:only-of-type {\n        vertical-align: middle;\n    }\n\n    .dataframe tbody tr th {\n        vertical-align: top;\n    }\n\n    .dataframe thead th {\n        text-align: right;\n    }\n</style>\n<table border=\"1\" class=\"dataframe\">\n  <thead>\n    <tr style=\"text-align: right;\">\n      <th></th>\n      <th>filename</th>\n      <th>egalitarian recall</th>\n    </tr>\n  </thead>\n  <tbody>\n    <tr>\n      <th>0</th>\n      <td>all_iterations_string_T0_280.csv</td>\n      <td>0.580000</td>\n    </tr>\n    <tr>\n      <th>1</th>\n      <td>all_iterations_string_T0_3441.csv</td>\n      <td>0.620000</td>\n    </tr>\n    <tr>\n      <th>2</th>\n      <td>all_iterations_string_T0_3644.csv</td>\n      <td>0.591837</td>\n    </tr>\n    <tr>\n      <th>3</th>\n      <td>all_iterations_string_T0_5991.csv</td>\n      <td>0.674419</td>\n    </tr>\n    <tr>\n      <th>4</th>\n      <td>all_iterations_string_T0_7917.csv</td>\n      <td>0.673913</td>\n    </tr>\n  </tbody>\n</table>\n</div>"
     },
     "execution_count": 33,
     "metadata": {},
     "output_type": "execute_result"
    }
   ],
   "source": [
    "principle_x =  'egalitarian'\n",
    "recall(B21,principle_x)"
   ],
   "metadata": {
    "collapsed": false,
    "ExecuteTime": {
     "start_time": "2024-05-28T23:30:18.566766Z",
     "end_time": "2024-05-28T23:30:18.652651Z"
    }
   }
  },
  {
   "cell_type": "code",
   "execution_count": 34,
   "outputs": [
    {
     "data": {
      "text/plain": "                            filename  egalitarian precision\n0   all_iterations_string_T0_280.csv               0.284314\n1  all_iterations_string_T0_3441.csv               0.306931\n2  all_iterations_string_T0_3644.csv               0.287129\n3  all_iterations_string_T0_5991.csv               0.278846\n4  all_iterations_string_T0_7917.csv               0.281818",
      "text/html": "<div>\n<style scoped>\n    .dataframe tbody tr th:only-of-type {\n        vertical-align: middle;\n    }\n\n    .dataframe tbody tr th {\n        vertical-align: top;\n    }\n\n    .dataframe thead th {\n        text-align: right;\n    }\n</style>\n<table border=\"1\" class=\"dataframe\">\n  <thead>\n    <tr style=\"text-align: right;\">\n      <th></th>\n      <th>filename</th>\n      <th>egalitarian precision</th>\n    </tr>\n  </thead>\n  <tbody>\n    <tr>\n      <th>0</th>\n      <td>all_iterations_string_T0_280.csv</td>\n      <td>0.284314</td>\n    </tr>\n    <tr>\n      <th>1</th>\n      <td>all_iterations_string_T0_3441.csv</td>\n      <td>0.306931</td>\n    </tr>\n    <tr>\n      <th>2</th>\n      <td>all_iterations_string_T0_3644.csv</td>\n      <td>0.287129</td>\n    </tr>\n    <tr>\n      <th>3</th>\n      <td>all_iterations_string_T0_5991.csv</td>\n      <td>0.278846</td>\n    </tr>\n    <tr>\n      <th>4</th>\n      <td>all_iterations_string_T0_7917.csv</td>\n      <td>0.281818</td>\n    </tr>\n  </tbody>\n</table>\n</div>"
     },
     "execution_count": 34,
     "metadata": {},
     "output_type": "execute_result"
    }
   ],
   "source": [
    "principle_y =  'egalitarian'\n",
    "precision(B21,principle_y)"
   ],
   "metadata": {
    "collapsed": false,
    "ExecuteTime": {
     "start_time": "2024-05-28T23:30:45.932406Z",
     "end_time": "2024-05-28T23:30:46.041615Z"
    }
   }
  },
  {
   "cell_type": "markdown",
   "source": [
    "## 7. Evaluate full outcomes - Confusionmatrix"
   ],
   "metadata": {
    "collapsed": false
   }
  },
  {
   "cell_type": "code",
   "execution_count": 35,
   "outputs": [],
   "source": [
    "from sklearn.metrics import ConfusionMatrixDisplay, confusion_matrix, matthews_corrcoef, make_scorer, classification_report"
   ],
   "metadata": {
    "collapsed": false,
    "ExecuteTime": {
     "start_time": "2024-05-28T23:38:31.875408Z",
     "end_time": "2024-05-28T23:38:33.577446Z"
    }
   }
  },
  {
   "cell_type": "code",
   "execution_count": null,
   "outputs": [],
   "source": [
    "# Now only make confusionmatrix for one element\n",
    "\n",
    "relevance =\n",
    "cf_matrix = confusion_matrix(y, y_pred"
   ],
   "metadata": {
    "collapsed": false
   }
  }
 ],
 "metadata": {
  "kernelspec": {
   "display_name": "Python 3",
   "language": "python",
   "name": "python3"
  },
  "language_info": {
   "codemirror_mode": {
    "name": "ipython",
    "version": 2
   },
   "file_extension": ".py",
   "mimetype": "text/x-python",
   "name": "python",
   "nbconvert_exporter": "python",
   "pygments_lexer": "ipython2",
   "version": "2.7.6"
  }
 },
 "nbformat": 4,
 "nbformat_minor": 0
}
