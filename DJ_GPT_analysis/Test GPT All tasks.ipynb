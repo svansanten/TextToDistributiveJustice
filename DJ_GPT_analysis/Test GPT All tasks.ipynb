{
 "cells": [
  {
   "cell_type": "code",
   "execution_count": 1,
   "metadata": {
    "collapsed": true,
    "ExecuteTime": {
     "start_time": "2024-06-06T17:17:07.213169Z",
     "end_time": "2024-06-06T17:17:07.239953Z"
    }
   },
   "outputs": [],
   "source": [
    "import numpy as np\n",
    "import pandas as pd\n",
    "import os\n",
    "import re\n",
    "import matplotlib.pyplot as plt\n",
    "import seaborn as sns\n",
    "import difflib"
   ]
  },
  {
   "cell_type": "markdown",
   "source": [
    "# Notebook to annotate HLS speeches Test set\n",
    "All prompts are also evaluated with the test set. Overview in appendix?"
   ],
   "metadata": {
    "collapsed": false
   }
  },
  {
   "cell_type": "code",
   "execution_count": 2,
   "outputs": [],
   "source": [
    "# Import string based datafile\n",
    "HLS_test = pd.read_csv('data/string/HLS_test_string.csv')"
   ],
   "metadata": {
    "collapsed": false,
    "ExecuteTime": {
     "start_time": "2024-06-06T17:17:08.633183Z",
     "end_time": "2024-06-06T17:17:08.712154Z"
    }
   }
  },
  {
   "cell_type": "code",
   "execution_count": 3,
   "outputs": [],
   "source": [
    "# OpenAI key\n",
    "with open('gpt_api_key.txt', 'r') as f:\n",
    "    key = f.read().strip()"
   ],
   "metadata": {
    "collapsed": false,
    "ExecuteTime": {
     "start_time": "2024-06-06T17:17:09.128818Z",
     "end_time": "2024-06-06T17:17:09.143076Z"
    }
   }
  },
  {
   "cell_type": "code",
   "execution_count": 4,
   "outputs": [],
   "source": [
    "import gpt_annotate_string"
   ],
   "metadata": {
    "collapsed": false,
    "ExecuteTime": {
     "start_time": "2024-06-06T17:17:09.548747Z",
     "end_time": "2024-06-06T17:17:29.373237Z"
    }
   }
  },
  {
   "cell_type": "markdown",
   "source": [
    "## 1. Pre-processing"
   ],
   "metadata": {
    "collapsed": false
   }
  },
  {
   "cell_type": "code",
   "execution_count": 5,
   "outputs": [
    {
     "data": {
      "text/plain": "                                                  Text            RELEVANCE\n0      The U.S. has led the way in the relief effo...         Not relevant\n1    Inthe past 10 years, the U.S. has contributed ...         Not relevant\n2      Of course, scientists dont know that clima...         Not relevant\n3      It is for this reason that President Obama ...         Not relevant\n4      Last June, President Obama announced the U....         Not relevant\n..                                                 ...                  ...\n326   The most important result of COP28 that I wou...  Statement of intent\n327   Trust that “WE” , governments together with o...  Statement of intent\n328                                                            Not relevant\n329  But for that, we need….to scale up the solutio...  Statement of intent\n330                                       I thank you.         Not relevant\n\n[331 rows x 2 columns]",
      "text/html": "<div>\n<style scoped>\n    .dataframe tbody tr th:only-of-type {\n        vertical-align: middle;\n    }\n\n    .dataframe tbody tr th {\n        vertical-align: top;\n    }\n\n    .dataframe thead th {\n        text-align: right;\n    }\n</style>\n<table border=\"1\" class=\"dataframe\">\n  <thead>\n    <tr style=\"text-align: right;\">\n      <th></th>\n      <th>Text</th>\n      <th>RELEVANCE</th>\n    </tr>\n  </thead>\n  <tbody>\n    <tr>\n      <th>0</th>\n      <td>  The U.S. has led the way in the relief effo...</td>\n      <td>Not relevant</td>\n    </tr>\n    <tr>\n      <th>1</th>\n      <td>Inthe past 10 years, the U.S. has contributed ...</td>\n      <td>Not relevant</td>\n    </tr>\n    <tr>\n      <th>2</th>\n      <td>  Of course, scientists dont know that clima...</td>\n      <td>Not relevant</td>\n    </tr>\n    <tr>\n      <th>3</th>\n      <td>  It is for this reason that President Obama ...</td>\n      <td>Not relevant</td>\n    </tr>\n    <tr>\n      <th>4</th>\n      <td>  Last June, President Obama announced the U....</td>\n      <td>Not relevant</td>\n    </tr>\n    <tr>\n      <th>...</th>\n      <td>...</td>\n      <td>...</td>\n    </tr>\n    <tr>\n      <th>326</th>\n      <td>The most important result of COP28 that I wou...</td>\n      <td>Statement of intent</td>\n    </tr>\n    <tr>\n      <th>327</th>\n      <td>Trust that “WE” , governments together with o...</td>\n      <td>Statement of intent</td>\n    </tr>\n    <tr>\n      <th>328</th>\n      <td></td>\n      <td>Not relevant</td>\n    </tr>\n    <tr>\n      <th>329</th>\n      <td>But for that, we need….to scale up the solutio...</td>\n      <td>Statement of intent</td>\n    </tr>\n    <tr>\n      <th>330</th>\n      <td>I thank you.</td>\n      <td>Not relevant</td>\n    </tr>\n  </tbody>\n</table>\n<p>331 rows × 2 columns</p>\n</div>"
     },
     "execution_count": 5,
     "metadata": {},
     "output_type": "execute_result"
    }
   ],
   "source": [
    "# Select only columns containing relevance labels\n",
    "HLS_relevant = HLS_test[['Text', 'RELEVANCE']]\n",
    "HLS_relevant"
   ],
   "metadata": {
    "collapsed": false,
    "ExecuteTime": {
     "start_time": "2024-06-06T17:17:29.337094Z",
     "end_time": "2024-06-06T17:17:29.419662Z"
    }
   }
  },
  {
   "cell_type": "code",
   "execution_count": 6,
   "outputs": [
    {
     "data": {
      "text/plain": "Not relevant           213\nStatement of intent     69\nRelevant                49\nName: RELEVANCE, dtype: int64"
     },
     "execution_count": 6,
     "metadata": {},
     "output_type": "execute_result"
    }
   ],
   "source": [
    "HLS_relevant.RELEVANCE.value_counts()"
   ],
   "metadata": {
    "collapsed": false,
    "ExecuteTime": {
     "start_time": "2024-06-06T17:17:29.366505Z",
     "end_time": "2024-06-06T17:17:29.419662Z"
    }
   }
  },
  {
   "cell_type": "markdown",
   "source": [
    "Import all codebooks"
   ],
   "metadata": {
    "collapsed": false
   }
  },
  {
   "cell_type": "code",
   "execution_count": 10,
   "outputs": [],
   "source": [
    "## Import codebook for B1.1\n",
    "with open('codebooks/B1.0', 'r', encoding='utf-8') as file:\n",
    "    B10= file.read()\n",
    "\n",
    "    ## Import codebook for B1.1\n",
    "with open('codebooks/B1.0.1', 'r', encoding='utf-8') as file:\n",
    "    B101 = file.read()\n",
    "\n",
    "    ## Import codebook for B1.1\n",
    "with open('codebooks/B1.1', 'r', encoding='utf-8') as file:\n",
    "    B11 = file.read()\n",
    "\n",
    "    ## Import codebook for B1.1\n",
    "with open('codebooks/B1.1.1', 'r', encoding='utf-8') as file:\n",
    "    B111 = file.read()"
   ],
   "metadata": {
    "collapsed": false,
    "ExecuteTime": {
     "start_time": "2024-06-06T17:18:19.792418Z",
     "end_time": "2024-06-06T17:18:19.803426Z"
    }
   }
  },
  {
   "cell_type": "code",
   "execution_count": 8,
   "outputs": [
    {
     "name": "stdout",
     "output_type": "stream",
     "text": [
      "ChatCompletion(id='chatcmpl-9X99lp2nWUGnWJvbyQhUlfJjHvAlX', choices=[Choice(finish_reason='stop', index=0, logprobs=None, message=ChatCompletionMessage(content='RELEVANCE', role='assistant', function_call=None, tool_calls=None))], created=1717687049, model='gpt-4o-2024-05-13', object='chat.completion', system_fingerprint='fp_319be4768e', usage=CompletionUsage(completion_tokens=3, prompt_tokens=448, total_tokens=451))\n",
      "\n",
      "Categories to annotate:\n",
      "1) RELEVANCE\n",
      "\n",
      "\n",
      "Data is ready to be annotated using gpt_annotate()!\n",
      "\n",
      "Glimpse of your data:\n",
      "Shape of data:  (331, 4)\n",
      "   unique_id                                               text     RELEVANCE  \\\n",
      "0          0    The U.S. has led the way in the relief effo...  Not relevant   \n",
      "1          1  Inthe past 10 years, the U.S. has contributed ...  Not relevant   \n",
      "2          2    Of course, scientists dont know that clima...  Not relevant   \n",
      "3          3    It is for this reason that President Obama ...  Not relevant   \n",
      "4          4    Last June, President Obama announced the U....  Not relevant   \n",
      "\n",
      "                                           llm_query  \n",
      "0  0   The U.S. has led the way in the relief ef...  \n",
      "1  1 Inthe past 10 years, the U.S. has contribute...  \n",
      "2  2   Of course, scientists dont know that cli...  \n",
      "3  3   It is for this reason that President Obam...  \n",
      "4  4   Last June, President Obama announced the ...  \n"
     ]
    }
   ],
   "source": [
    "# Prepare dataframe for annotation\n",
    "text_to_annotate_B1 = gpt_annotate_string.prepare_data(HLS_relevant, B10, key, prep_codebook=True)"
   ],
   "metadata": {
    "collapsed": false,
    "ExecuteTime": {
     "start_time": "2024-06-06T17:17:29.381379Z",
     "end_time": "2024-06-06T17:17:32.910105Z"
    }
   }
  },
  {
   "cell_type": "markdown",
   "source": [
    "Fingerprint used: fp_319be4768e"
   ],
   "metadata": {
    "collapsed": false
   }
  },
  {
   "cell_type": "code",
   "execution_count": 9,
   "outputs": [],
   "source": [
    "fingerprint = 'fp_319be4768e'\n",
    "\n",
    "#Block seed to prevent accidental rerun of gpt_annotate\n",
    "seeds = [3644,3441, 280, 5991, 7917]"
   ],
   "metadata": {
    "collapsed": false,
    "ExecuteTime": {
     "start_time": "2024-06-06T17:17:44.568940Z",
     "end_time": "2024-06-06T17:17:44.581746Z"
    }
   }
  },
  {
   "cell_type": "code",
   "execution_count": 11,
   "outputs": [
    {
     "name": "stdout",
     "output_type": "stream",
     "text": [
      "3644 - iteration 1\n",
      "3644 - I1 - B10 fingerprint does not match\n",
      "iteration:  1 completed\n",
      "3441 - iteration 1\n",
      "iteration:  1 completed\n",
      "280 - iteration 1\n",
      "iteration:  1 completed\n",
      "5991 - iteration 1\n",
      "5991 - I1 - B3 fingerprint does not match\n",
      "5991 - I1 - B13 fingerprint does not match\n",
      "iteration:  1 completed\n",
      "7917 - iteration 1\n",
      "7917 - I1 - B5 fingerprint does not match\n",
      "iteration:  1 completed\n"
     ]
    }
   ],
   "source": [
    "# Annotate the data - B1.1 TEST SET\n",
    "for seed in seeds:\n",
    "    gpt_annotate_string.gpt_annotate(text_to_annotate_B1, B10, key, seed,fingerprint, experiment=\"B1.0\",  num_iterations=1, model=\"gpt-4o\", temperature=0, batch_size=20, human_labels=True)"
   ],
   "metadata": {
    "collapsed": false,
    "ExecuteTime": {
     "start_time": "2024-06-06T17:19:04.191702Z",
     "end_time": "2024-06-06T17:24:05.976952Z"
    }
   }
  },
  {
   "cell_type": "code",
   "execution_count": 12,
   "outputs": [
    {
     "name": "stdout",
     "output_type": "stream",
     "text": [
      "3644 - iteration 1\n",
      "iteration:  1 completed\n",
      "3441 - iteration 1\n",
      "iteration:  1 completed\n",
      "280 - iteration 1\n",
      "280 - I1 - B8 fingerprint does not match\n",
      "280 - I1 - B13 fingerprint does not match\n",
      "iteration:  1 completed\n",
      "5991 - iteration 1\n",
      "iteration:  1 completed\n",
      "7917 - iteration 1\n",
      "iteration:  1 completed\n"
     ]
    }
   ],
   "source": [
    "# Annotate the data - B1.0.1 TEST SET\n",
    "for seed in seeds:\n",
    "    gpt_annotate_string.gpt_annotate(text_to_annotate_B1, B101, key, seed,fingerprint, experiment=\"B1.0.1\",  num_iterations=1, model=\"gpt-4o\", temperature=0, batch_size=20, human_labels=True)"
   ],
   "metadata": {
    "collapsed": false,
    "ExecuteTime": {
     "start_time": "2024-06-06T17:25:49.157366Z",
     "end_time": "2024-06-06T17:31:17.900398Z"
    }
   }
  },
  {
   "cell_type": "code",
   "execution_count": 14,
   "outputs": [
    {
     "name": "stdout",
     "output_type": "stream",
     "text": [
      "3644 - iteration 1\n",
      "iteration:  1 completed\n",
      "3441 - iteration 1\n",
      "3441 - I1 - B4 fingerprint does not match\n",
      "iteration:  1 completed\n",
      "280 - iteration 1\n",
      "iteration:  1 completed\n",
      "5991 - iteration 1\n",
      "5991 - I1 - B6 fingerprint does not match\n",
      "iteration:  1 completed\n",
      "7917 - iteration 1\n",
      "iteration:  1 completed\n"
     ]
    }
   ],
   "source": [
    "# Annotate the data - B1.1 TEST SET\n",
    "for seed in seeds:\n",
    "    gpt_annotate_string.gpt_annotate(text_to_annotate_B1, B11, key, seed,fingerprint, experiment=\"B1.1\",  num_iterations=1, model=\"gpt-4o\", temperature=0, batch_size=20, human_labels=True)"
   ],
   "metadata": {
    "collapsed": false,
    "ExecuteTime": {
     "start_time": "2024-06-06T17:39:12.608030Z",
     "end_time": "2024-06-06T17:43:51.526623Z"
    }
   }
  },
  {
   "cell_type": "code",
   "execution_count": 15,
   "outputs": [
    {
     "name": "stdout",
     "output_type": "stream",
     "text": [
      "3644 - iteration 1\n",
      "iteration:  1 completed\n",
      "3441 - iteration 1\n",
      "iteration:  1 completed\n",
      "280 - iteration 1\n",
      "iteration:  1 completed\n",
      "5991 - iteration 1\n",
      "iteration:  1 completed\n",
      "7917 - iteration 1\n",
      "iteration:  1 completed\n"
     ]
    }
   ],
   "source": [
    "# Annotate the data - B1.1.1 TEST SET\n",
    "for seed in seeds:\n",
    "    gpt_annotate_string.gpt_annotate(text_to_annotate_B1, B111, key, seed,fingerprint, experiment=\"B1.1.1\",  num_iterations=1, model=\"gpt-4o\", temperature=0, batch_size=20, human_labels=True)"
   ],
   "metadata": {
    "collapsed": false,
    "ExecuteTime": {
     "start_time": "2024-06-06T17:47:21.624653Z",
     "end_time": "2024-06-06T17:52:17.431237Z"
    }
   }
  },
  {
   "cell_type": "markdown",
   "source": [
    "## 2. Principles - relevant sentences\n",
    "\n",
    "Filter test dataset for only ground truth relevant sentences"
   ],
   "metadata": {
    "collapsed": false
   }
  },
  {
   "cell_type": "code",
   "execution_count": 16,
   "outputs": [
    {
     "data": {
      "text/plain": "                                                  Text  \\\n14   We have advocated a structure for the new agre...   \n15   •  This kind of structure, based on a spectrum...   \n16   •  By contrast, an agreement based on 1992 cat...   \n18   If those categories are to beoperational in ch...   \n25   •  Let us work together, mindful of our mutual...   \n35   The major polluters, especially those who are ...   \n38   Pledges to the Green Climate Fund have now pas...   \n40   We call on our partners to deliver the large s...   \n41   Loss and damage should also be included as an ...   \n44   We also fully support inclusion of gender equa...   \n45   Full and equal participation of women in all c...   \n52   We must all take every opportunity to cooperat...   \n66   Therefore, I urge all parties to ensure that t...   \n67   I also urge you all to recognize the contribut...   \n72   Hence, I strongly call upon the countries with...   \n75   Therefore, I call upon alldeveloped countries ...   \n77   As Lord Buddha said, we are here not to blame ...   \n87   As we move forward , we must employ an inclusi...   \n88   This, however, requires predictable , adequate...   \n95         This requires global commitment and action.   \n96   All countries, including the Republic of China...   \n103  Mr. President, Predictable finance, balanced b...   \n106  We seek your continued engagement to further e...   \n107  Furthermore, where adaptation is not an option...   \n109  There are three key actions that we can and mu...   \n115  'The Paris Agreement is about action by all, t...   \n126    The task of political leadership by all of u...   \n131   I firmly believe that COP23 is not just about...   \n151  The Paris Agreement is about action by all, th...   \n152   We need to work together to enable ambitious ...   \n155  We must share our experiences along with ensur...   \n172     Addressing the warming of our planet requir...   \n179  We must respond quickly to the best science av...   \n183     1 The Paris Agreement Work Programme should...   \n191  Parties must strengthen their commitment by go...   \n192  This revised and increased level of climate fi...   \n225  Failure to provide this critical finance and t...   \n226                          It is immoral and unjust.   \n233   Are we really going to leave Scotland without...   \n239  Leaders must not fail those who elect them to ...   \n243   An annual increase in SDRs of $500bn for 20 y...   \n251                 Our people and our planet need it.   \n270  There is a critical need to leverage knowle dg...   \n280  In this regard, we require bold solutions, and...   \n287  In order to attain our goals, we need everyone...   \n311   What we need now is a conduc ive environment ...   \n313   We will only reach these goals when innovatio...   \n315   In Europe we need to create the right incenti...   \n325   Mr. President, Your Excellencies,  Ladies and...   \n\n                       PRINCIPLE  \n14                   egalitarian  \n15                   utilitarian  \n16                   libertarian  \n18   general normative statement  \n25                   egalitarian  \n35   general normative statement  \n38                  prioritarian  \n40   general normative statement  \n41   general normative statement  \n44                   egalitarian  \n45                   egalitarian  \n52   general normative statement  \n66                   utilitarian  \n67                  prioritarian  \n72                   utilitarian  \n75                  prioritarian  \n77                   utilitarian  \n87   general normative statement  \n88   general normative statement  \n95                   egalitarian  \n96                   egalitarian  \n103  general normative statement  \n106                 prioritarian  \n107                 prioritarian  \n109                 prioritarian  \n115                  egalitarian  \n126                  egalitarian  \n131              sufficientarian  \n151                  egalitarian  \n152  general normative statement  \n155              sufficientarian  \n172  general normative statement  \n179  general normative statement  \n183                  libertarian  \n191  general normative statement  \n192                  egalitarian  \n225  general normative statement  \n226  general normative statement  \n233                  utilitarian  \n239  general normative statement  \n243  general normative statement  \n251                  utilitarian  \n270                  egalitarian  \n280                  egalitarian  \n287                  egalitarian  \n311                  egalitarian  \n313                  egalitarian  \n315                  libertarian  \n325                  egalitarian  ",
      "text/html": "<div>\n<style scoped>\n    .dataframe tbody tr th:only-of-type {\n        vertical-align: middle;\n    }\n\n    .dataframe tbody tr th {\n        vertical-align: top;\n    }\n\n    .dataframe thead th {\n        text-align: right;\n    }\n</style>\n<table border=\"1\" class=\"dataframe\">\n  <thead>\n    <tr style=\"text-align: right;\">\n      <th></th>\n      <th>Text</th>\n      <th>PRINCIPLE</th>\n    </tr>\n  </thead>\n  <tbody>\n    <tr>\n      <th>14</th>\n      <td>We have advocated a structure for the new agre...</td>\n      <td>egalitarian</td>\n    </tr>\n    <tr>\n      <th>15</th>\n      <td>•  This kind of structure, based on a spectrum...</td>\n      <td>utilitarian</td>\n    </tr>\n    <tr>\n      <th>16</th>\n      <td>•  By contrast, an agreement based on 1992 cat...</td>\n      <td>libertarian</td>\n    </tr>\n    <tr>\n      <th>18</th>\n      <td>If those categories are to beoperational in ch...</td>\n      <td>general normative statement</td>\n    </tr>\n    <tr>\n      <th>25</th>\n      <td>•  Let us work together, mindful of our mutual...</td>\n      <td>egalitarian</td>\n    </tr>\n    <tr>\n      <th>35</th>\n      <td>The major polluters, especially those who are ...</td>\n      <td>general normative statement</td>\n    </tr>\n    <tr>\n      <th>38</th>\n      <td>Pledges to the Green Climate Fund have now pas...</td>\n      <td>prioritarian</td>\n    </tr>\n    <tr>\n      <th>40</th>\n      <td>We call on our partners to deliver the large s...</td>\n      <td>general normative statement</td>\n    </tr>\n    <tr>\n      <th>41</th>\n      <td>Loss and damage should also be included as an ...</td>\n      <td>general normative statement</td>\n    </tr>\n    <tr>\n      <th>44</th>\n      <td>We also fully support inclusion of gender equa...</td>\n      <td>egalitarian</td>\n    </tr>\n    <tr>\n      <th>45</th>\n      <td>Full and equal participation of women in all c...</td>\n      <td>egalitarian</td>\n    </tr>\n    <tr>\n      <th>52</th>\n      <td>We must all take every opportunity to cooperat...</td>\n      <td>general normative statement</td>\n    </tr>\n    <tr>\n      <th>66</th>\n      <td>Therefore, I urge all parties to ensure that t...</td>\n      <td>utilitarian</td>\n    </tr>\n    <tr>\n      <th>67</th>\n      <td>I also urge you all to recognize the contribut...</td>\n      <td>prioritarian</td>\n    </tr>\n    <tr>\n      <th>72</th>\n      <td>Hence, I strongly call upon the countries with...</td>\n      <td>utilitarian</td>\n    </tr>\n    <tr>\n      <th>75</th>\n      <td>Therefore, I call upon alldeveloped countries ...</td>\n      <td>prioritarian</td>\n    </tr>\n    <tr>\n      <th>77</th>\n      <td>As Lord Buddha said, we are here not to blame ...</td>\n      <td>utilitarian</td>\n    </tr>\n    <tr>\n      <th>87</th>\n      <td>As we move forward , we must employ an inclusi...</td>\n      <td>general normative statement</td>\n    </tr>\n    <tr>\n      <th>88</th>\n      <td>This, however, requires predictable , adequate...</td>\n      <td>general normative statement</td>\n    </tr>\n    <tr>\n      <th>95</th>\n      <td>This requires global commitment and action.</td>\n      <td>egalitarian</td>\n    </tr>\n    <tr>\n      <th>96</th>\n      <td>All countries, including the Republic of China...</td>\n      <td>egalitarian</td>\n    </tr>\n    <tr>\n      <th>103</th>\n      <td>Mr. President, Predictable finance, balanced b...</td>\n      <td>general normative statement</td>\n    </tr>\n    <tr>\n      <th>106</th>\n      <td>We seek your continued engagement to further e...</td>\n      <td>prioritarian</td>\n    </tr>\n    <tr>\n      <th>107</th>\n      <td>Furthermore, where adaptation is not an option...</td>\n      <td>prioritarian</td>\n    </tr>\n    <tr>\n      <th>109</th>\n      <td>There are three key actions that we can and mu...</td>\n      <td>prioritarian</td>\n    </tr>\n    <tr>\n      <th>115</th>\n      <td>'The Paris Agreement is about action by all, t...</td>\n      <td>egalitarian</td>\n    </tr>\n    <tr>\n      <th>126</th>\n      <td>The task of political leadership by all of u...</td>\n      <td>egalitarian</td>\n    </tr>\n    <tr>\n      <th>131</th>\n      <td>I firmly believe that COP23 is not just about...</td>\n      <td>sufficientarian</td>\n    </tr>\n    <tr>\n      <th>151</th>\n      <td>The Paris Agreement is about action by all, th...</td>\n      <td>egalitarian</td>\n    </tr>\n    <tr>\n      <th>152</th>\n      <td>We need to work together to enable ambitious ...</td>\n      <td>general normative statement</td>\n    </tr>\n    <tr>\n      <th>155</th>\n      <td>We must share our experiences along with ensur...</td>\n      <td>sufficientarian</td>\n    </tr>\n    <tr>\n      <th>172</th>\n      <td>Addressing the warming of our planet requir...</td>\n      <td>general normative statement</td>\n    </tr>\n    <tr>\n      <th>179</th>\n      <td>We must respond quickly to the best science av...</td>\n      <td>general normative statement</td>\n    </tr>\n    <tr>\n      <th>183</th>\n      <td>1 The Paris Agreement Work Programme should...</td>\n      <td>libertarian</td>\n    </tr>\n    <tr>\n      <th>191</th>\n      <td>Parties must strengthen their commitment by go...</td>\n      <td>general normative statement</td>\n    </tr>\n    <tr>\n      <th>192</th>\n      <td>This revised and increased level of climate fi...</td>\n      <td>egalitarian</td>\n    </tr>\n    <tr>\n      <th>225</th>\n      <td>Failure to provide this critical finance and t...</td>\n      <td>general normative statement</td>\n    </tr>\n    <tr>\n      <th>226</th>\n      <td>It is immoral and unjust.</td>\n      <td>general normative statement</td>\n    </tr>\n    <tr>\n      <th>233</th>\n      <td>Are we really going to leave Scotland without...</td>\n      <td>utilitarian</td>\n    </tr>\n    <tr>\n      <th>239</th>\n      <td>Leaders must not fail those who elect them to ...</td>\n      <td>general normative statement</td>\n    </tr>\n    <tr>\n      <th>243</th>\n      <td>An annual increase in SDRs of $500bn for 20 y...</td>\n      <td>general normative statement</td>\n    </tr>\n    <tr>\n      <th>251</th>\n      <td>Our people and our planet need it.</td>\n      <td>utilitarian</td>\n    </tr>\n    <tr>\n      <th>270</th>\n      <td>There is a critical need to leverage knowle dg...</td>\n      <td>egalitarian</td>\n    </tr>\n    <tr>\n      <th>280</th>\n      <td>In this regard, we require bold solutions, and...</td>\n      <td>egalitarian</td>\n    </tr>\n    <tr>\n      <th>287</th>\n      <td>In order to attain our goals, we need everyone...</td>\n      <td>egalitarian</td>\n    </tr>\n    <tr>\n      <th>311</th>\n      <td>What we need now is a conduc ive environment ...</td>\n      <td>egalitarian</td>\n    </tr>\n    <tr>\n      <th>313</th>\n      <td>We will only reach these goals when innovatio...</td>\n      <td>egalitarian</td>\n    </tr>\n    <tr>\n      <th>315</th>\n      <td>In Europe we need to create the right incenti...</td>\n      <td>libertarian</td>\n    </tr>\n    <tr>\n      <th>325</th>\n      <td>Mr. President, Your Excellencies,  Ladies and...</td>\n      <td>egalitarian</td>\n    </tr>\n  </tbody>\n</table>\n</div>"
     },
     "execution_count": 16,
     "metadata": {},
     "output_type": "execute_result"
    }
   ],
   "source": [
    "HLS_test_relevant = HLS_test[HLS_test['RELEVANCE']=='Relevant']\n",
    "# Select only columns containing relevance labels\n",
    "HLS_principle_B2 = HLS_test_relevant[['Text', 'PRINCIPLE']]\n",
    "HLS_principle_B2"
   ],
   "metadata": {
    "collapsed": false,
    "ExecuteTime": {
     "start_time": "2024-06-06T17:52:41.443750Z",
     "end_time": "2024-06-06T17:52:41.469094Z"
    }
   }
  },
  {
   "cell_type": "code",
   "execution_count": 17,
   "outputs": [
    {
     "data": {
      "text/plain": "egalitarian                    16\ngeneral normative statement    16\nutilitarian                     6\nprioritarian                    6\nlibertarian                     3\nsufficientarian                 2\nName: PRINCIPLE, dtype: int64"
     },
     "execution_count": 17,
     "metadata": {},
     "output_type": "execute_result"
    }
   ],
   "source": [
    "HLS_principle_B2.PRINCIPLE.value_counts()"
   ],
   "metadata": {
    "collapsed": false,
    "ExecuteTime": {
     "start_time": "2024-06-06T17:52:42.906793Z",
     "end_time": "2024-06-06T17:52:42.919539Z"
    }
   }
  },
  {
   "cell_type": "code",
   "execution_count": 18,
   "outputs": [],
   "source": [
    "## Import codebook for B1.1\n",
    "with open('codebooks/B2.0', 'r', encoding='utf-8') as file:\n",
    "    B20 = file.read()\n",
    "\n",
    "    ## Import codebook for B1.1\n",
    "with open('codebooks/B2.1', 'r', encoding='utf-8') as file:\n",
    "    B21 = file.read()\n"
   ],
   "metadata": {
    "collapsed": false,
    "ExecuteTime": {
     "start_time": "2024-06-06T17:52:45.396272Z",
     "end_time": "2024-06-06T17:52:45.426544Z"
    }
   }
  },
  {
   "cell_type": "code",
   "execution_count": 19,
   "outputs": [
    {
     "name": "stdout",
     "output_type": "stream",
     "text": [
      "ChatCompletion(id='chatcmpl-9X9huhinnVx5MQCwRxTphwJ8xXNSx', choices=[Choice(finish_reason='stop', index=0, logprobs=None, message=ChatCompletionMessage(content='PRINCIPLE', role='assistant', function_call=None, tool_calls=None))], created=1717689166, model='gpt-4o-2024-05-13', object='chat.completion', system_fingerprint='fp_319be4768e', usage=CompletionUsage(completion_tokens=3, prompt_tokens=582, total_tokens=585))\n",
      "\n",
      "Categories to annotate:\n",
      "1) PRINCIPLE\n",
      "\n",
      "\n",
      "Data is ready to be annotated using gpt_annotate()!\n",
      "\n",
      "Glimpse of your data:\n",
      "Shape of data:  (49, 4)\n",
      "   unique_id                                               text  \\\n",
      "0         14  We have advocated a structure for the new agre...   \n",
      "1         15  •  This kind of structure, based on a spectrum...   \n",
      "2         16  •  By contrast, an agreement based on 1992 cat...   \n",
      "3         18  If those categories are to beoperational in ch...   \n",
      "4         25  •  Let us work together, mindful of our mutual...   \n",
      "\n",
      "                     PRINCIPLE  \\\n",
      "0                  egalitarian   \n",
      "1                  utilitarian   \n",
      "2                  libertarian   \n",
      "3  general normative statement   \n",
      "4                  egalitarian   \n",
      "\n",
      "                                           llm_query  \n",
      "0  14 We have advocated a structure for the new a...  \n",
      "1  15 •  This kind of structure, based on a spect...  \n",
      "2  16 •  By contrast, an agreement based on 1992 ...  \n",
      "3  18 If those categories are to beoperational in...  \n",
      "4  25 •  Let us work together, mindful of our mut...  \n"
     ]
    }
   ],
   "source": [
    "# Prepare dataframe for annotation\n",
    "text_to_annotate_B2 = gpt_annotate_string.prepare_data(HLS_principle_B2, B20, key, prep_codebook=True)"
   ],
   "metadata": {
    "collapsed": false,
    "ExecuteTime": {
     "start_time": "2024-06-06T17:52:46.829950Z",
     "end_time": "2024-06-06T17:52:48.939462Z"
    }
   }
  },
  {
   "cell_type": "markdown",
   "source": [
    "Fingerprint used: fp_319be4768e"
   ],
   "metadata": {
    "collapsed": false
   }
  },
  {
   "cell_type": "code",
   "execution_count": 20,
   "outputs": [],
   "source": [
    "fingerprint = 'fp_319be4768e'\n",
    "\n",
    "#Block seed to prevent accidental rerun of gpt_annotate\n",
    "seeds = [3644,3441, 280, 5991, 7917]"
   ],
   "metadata": {
    "collapsed": false,
    "ExecuteTime": {
     "start_time": "2024-06-06T17:52:57.091733Z",
     "end_time": "2024-06-06T17:52:57.120397Z"
    }
   }
  },
  {
   "cell_type": "code",
   "execution_count": 21,
   "outputs": [
    {
     "name": "stdout",
     "output_type": "stream",
     "text": [
      "3644 - iteration 1\n",
      "iteration:  1 completed\n",
      "3441 - iteration 1\n",
      "iteration:  1 completed\n",
      "280 - iteration 1\n",
      "iteration:  1 completed\n",
      "5991 - iteration 1\n",
      "iteration:  1 completed\n",
      "7917 - iteration 1\n",
      "iteration:  1 completed\n"
     ]
    }
   ],
   "source": [
    "# Annotate the data - B2.0 TEST SET\n",
    "for seed in seeds:\n",
    "    gpt_annotate_string.gpt_annotate(text_to_annotate_B2, B20, key, seed,fingerprint, experiment=\"B2.0\",  num_iterations=1, model=\"gpt-4o\", temperature=0, batch_size=20, human_labels=True)"
   ],
   "metadata": {
    "collapsed": false,
    "ExecuteTime": {
     "start_time": "2024-06-06T17:53:00.639751Z",
     "end_time": "2024-06-06T17:53:44.102474Z"
    }
   }
  },
  {
   "cell_type": "code",
   "execution_count": 22,
   "outputs": [
    {
     "name": "stdout",
     "output_type": "stream",
     "text": [
      "3644 - iteration 1\n",
      "iteration:  1 completed\n",
      "3441 - iteration 1\n",
      "iteration:  1 completed\n",
      "280 - iteration 1\n",
      "iteration:  1 completed\n",
      "5991 - iteration 1\n",
      "iteration:  1 completed\n",
      "7917 - iteration 1\n",
      "iteration:  1 completed\n"
     ]
    }
   ],
   "source": [
    "# Annotate the data - B2.1 TEST SET\n",
    "for seed in seeds:\n",
    "    gpt_annotate_string.gpt_annotate(text_to_annotate_B2, B21, key, seed,fingerprint, experiment=\"B2.1\",  num_iterations=1, model=\"gpt-4o\", temperature=0, batch_size=20, human_labels=True)"
   ],
   "metadata": {
    "collapsed": false,
    "ExecuteTime": {
     "start_time": "2024-06-06T17:53:47.763712Z",
     "end_time": "2024-06-06T17:54:46.491502Z"
    }
   }
  },
  {
   "cell_type": "markdown",
   "source": [
    "## 3. Principles - all sentences\n",
    "\n",
    "Filter test dataset for only ground truth relevant sentences"
   ],
   "metadata": {
    "collapsed": false
   }
  },
  {
   "cell_type": "code",
   "execution_count": 24,
   "outputs": [
    {
     "data": {
      "text/plain": "                                                  Text  \\\n0      The U.S. has led the way in the relief effo...   \n1    Inthe past 10 years, the U.S. has contributed ...   \n2      Of course, scientists dont know that clima...   \n3      It is for this reason that President Obama ...   \n4      Last June, President Obama announced the U....   \n..                                                 ...   \n326   The most important result of COP28 that I wou...   \n327   Trust that “WE” , governments together with o...   \n328                                                      \n329  But for that, we need….to scale up the solutio...   \n330                                       I thank you.   \n\n                       PRINCIPLE  \n0                  not evaluated  \n1                  not evaluated  \n2                  not evaluated  \n3                  not evaluated  \n4                  not evaluated  \n..                           ...  \n326                not evaluated  \n327                not evaluated  \n328                not evaluated  \n329  general normative statement  \n330                not evaluated  \n\n[331 rows x 2 columns]",
      "text/html": "<div>\n<style scoped>\n    .dataframe tbody tr th:only-of-type {\n        vertical-align: middle;\n    }\n\n    .dataframe tbody tr th {\n        vertical-align: top;\n    }\n\n    .dataframe thead th {\n        text-align: right;\n    }\n</style>\n<table border=\"1\" class=\"dataframe\">\n  <thead>\n    <tr style=\"text-align: right;\">\n      <th></th>\n      <th>Text</th>\n      <th>PRINCIPLE</th>\n    </tr>\n  </thead>\n  <tbody>\n    <tr>\n      <th>0</th>\n      <td>  The U.S. has led the way in the relief effo...</td>\n      <td>not evaluated</td>\n    </tr>\n    <tr>\n      <th>1</th>\n      <td>Inthe past 10 years, the U.S. has contributed ...</td>\n      <td>not evaluated</td>\n    </tr>\n    <tr>\n      <th>2</th>\n      <td>  Of course, scientists dont know that clima...</td>\n      <td>not evaluated</td>\n    </tr>\n    <tr>\n      <th>3</th>\n      <td>  It is for this reason that President Obama ...</td>\n      <td>not evaluated</td>\n    </tr>\n    <tr>\n      <th>4</th>\n      <td>  Last June, President Obama announced the U....</td>\n      <td>not evaluated</td>\n    </tr>\n    <tr>\n      <th>...</th>\n      <td>...</td>\n      <td>...</td>\n    </tr>\n    <tr>\n      <th>326</th>\n      <td>The most important result of COP28 that I wou...</td>\n      <td>not evaluated</td>\n    </tr>\n    <tr>\n      <th>327</th>\n      <td>Trust that “WE” , governments together with o...</td>\n      <td>not evaluated</td>\n    </tr>\n    <tr>\n      <th>328</th>\n      <td></td>\n      <td>not evaluated</td>\n    </tr>\n    <tr>\n      <th>329</th>\n      <td>But for that, we need….to scale up the solutio...</td>\n      <td>general normative statement</td>\n    </tr>\n    <tr>\n      <th>330</th>\n      <td>I thank you.</td>\n      <td>not evaluated</td>\n    </tr>\n  </tbody>\n</table>\n<p>331 rows × 2 columns</p>\n</div>"
     },
     "execution_count": 24,
     "metadata": {},
     "output_type": "execute_result"
    }
   ],
   "source": [
    "#Prepare dataset\n",
    "HLS_principle_B3 = HLS_test[['Text', 'PRINCIPLE']]\n",
    "HLS_principle_B3"
   ],
   "metadata": {
    "collapsed": false,
    "ExecuteTime": {
     "start_time": "2024-06-06T17:55:24.823760Z",
     "end_time": "2024-06-06T17:55:24.861029Z"
    }
   }
  },
  {
   "cell_type": "code",
   "execution_count": 25,
   "outputs": [
    {
     "data": {
      "text/plain": "not evaluated                  281\ngeneral normative statement     17\negalitarian                     16\nutilitarian                      6\nprioritarian                     6\nlibertarian                      3\nsufficientarian                  2\nName: PRINCIPLE, dtype: int64"
     },
     "execution_count": 25,
     "metadata": {},
     "output_type": "execute_result"
    }
   ],
   "source": [
    "HLS_principle_B3.PRINCIPLE.value_counts()"
   ],
   "metadata": {
    "collapsed": false,
    "ExecuteTime": {
     "start_time": "2024-06-06T17:55:25.907537Z",
     "end_time": "2024-06-06T17:55:25.930838Z"
    }
   }
  },
  {
   "cell_type": "code",
   "execution_count": 26,
   "outputs": [],
   "source": [
    "## Import codebook for B1.1\n",
    "with open('codebooks/B3.0', 'r', encoding='utf-8') as file:\n",
    "    B30 = file.read()\n",
    "\n",
    "    ## Import codebook for B1.1\n",
    "with open('codebooks/B3.0.1', 'r', encoding='utf-8') as file:\n",
    "    B301 = file.read()\n",
    "\n",
    " ## Import codebook for B1.1\n",
    "with open('codebooks/B3.1', 'r', encoding='utf-8') as file:\n",
    "    B31 = file.read()\n",
    "\n",
    " ## Import codebook for B1.1\n",
    "with open('codebooks/B3.1.1', 'r', encoding='utf-8') as file:\n",
    "    B311 = file.read()\n"
   ],
   "metadata": {
    "collapsed": false,
    "ExecuteTime": {
     "start_time": "2024-06-06T17:55:27.171749Z",
     "end_time": "2024-06-06T17:55:27.224151Z"
    }
   }
  },
  {
   "cell_type": "code",
   "execution_count": 27,
   "outputs": [
    {
     "name": "stdout",
     "output_type": "stream",
     "text": [
      "ChatCompletion(id='chatcmpl-9X9kWTNdtwl5AvXdp2lwPH5Dbqlzl', choices=[Choice(finish_reason='stop', index=0, logprobs=None, message=ChatCompletionMessage(content='PRINCIPLE', role='assistant', function_call=None, tool_calls=None))], created=1717689328, model='gpt-4o-2024-05-13', object='chat.completion', system_fingerprint='fp_319be4768e', usage=CompletionUsage(completion_tokens=3, prompt_tokens=670, total_tokens=673))\n",
      "\n",
      "Categories to annotate:\n",
      "1) PRINCIPLE\n",
      "\n",
      "\n",
      "Data is ready to be annotated using gpt_annotate()!\n",
      "\n",
      "Glimpse of your data:\n",
      "Shape of data:  (331, 4)\n",
      "   unique_id                                               text  \\\n",
      "0          0    The U.S. has led the way in the relief effo...   \n",
      "1          1  Inthe past 10 years, the U.S. has contributed ...   \n",
      "2          2    Of course, scientists dont know that clima...   \n",
      "3          3    It is for this reason that President Obama ...   \n",
      "4          4    Last June, President Obama announced the U....   \n",
      "\n",
      "       PRINCIPLE                                          llm_query  \n",
      "0  not evaluated  0   The U.S. has led the way in the relief ef...  \n",
      "1  not evaluated  1 Inthe past 10 years, the U.S. has contribute...  \n",
      "2  not evaluated  2   Of course, scientists dont know that cli...  \n",
      "3  not evaluated  3   It is for this reason that President Obam...  \n",
      "4  not evaluated  4   Last June, President Obama announced the ...  \n"
     ]
    }
   ],
   "source": [
    "# Prepare dataframe for annotation\n",
    "text_to_annotate_B3 = gpt_annotate_string.prepare_data(HLS_principle_B3, B30, key, prep_codebook=True)"
   ],
   "metadata": {
    "collapsed": false,
    "ExecuteTime": {
     "start_time": "2024-06-06T17:55:29.143864Z",
     "end_time": "2024-06-06T17:55:32.319421Z"
    }
   }
  },
  {
   "cell_type": "markdown",
   "source": [
    "Fingerprint used: fp_319be4768e"
   ],
   "metadata": {
    "collapsed": false
   }
  },
  {
   "cell_type": "code",
   "execution_count": 28,
   "outputs": [],
   "source": [
    "fingerprint = 'fp_319be4768e'\n",
    "\n",
    "#Block seed to prevent accidental rerun of gpt_annotate\n",
    "seeds = [3644,3441, 280, 5991, 7917]"
   ],
   "metadata": {
    "collapsed": false,
    "ExecuteTime": {
     "start_time": "2024-06-06T17:55:38.910515Z",
     "end_time": "2024-06-06T17:55:38.912592Z"
    }
   }
  },
  {
   "cell_type": "code",
   "execution_count": 29,
   "outputs": [
    {
     "name": "stdout",
     "output_type": "stream",
     "text": [
      "3644 - iteration 1\n",
      "3644 - I1 - B5 fingerprint does not match\n",
      "iteration:  1 completed\n",
      "3441 - iteration 1\n",
      "3441 - I1 - B8 fingerprint does not match\n",
      "3441 - I1 - B16 fingerprint does not match\n",
      "iteration:  1 completed\n",
      "280 - iteration 1\n",
      "iteration:  1 completed\n",
      "5991 - iteration 1\n",
      "iteration:  1 completed\n",
      "7917 - iteration 1\n",
      "7917 - I1 - B10 fingerprint does not match\n",
      "iteration:  1 completed\n"
     ]
    }
   ],
   "source": [
    "# Annotate the data\n",
    "for seed in seeds:\n",
    "    gpt_annotate_string.gpt_annotate(text_to_annotate_B3, B30, key, seed,fingerprint, experiment=\"B3.0\",  num_iterations=1, model=\"gpt-4o\", temperature=0, batch_size=20, human_labels=True)"
   ],
   "metadata": {
    "collapsed": false,
    "ExecuteTime": {
     "start_time": "2024-06-06T17:55:39.594033Z",
     "end_time": "2024-06-06T18:00:56.482093Z"
    }
   }
  },
  {
   "cell_type": "code",
   "execution_count": 30,
   "outputs": [
    {
     "name": "stdout",
     "output_type": "stream",
     "text": [
      "3644 - iteration 1\n",
      "3644 - I1 - B3 fingerprint does not match\n",
      "iteration:  1 completed\n",
      "3441 - iteration 1\n",
      "iteration:  1 completed\n",
      "280 - iteration 1\n",
      "iteration:  1 completed\n",
      "5991 - iteration 1\n",
      "iteration:  1 completed\n",
      "7917 - iteration 1\n",
      "iteration:  1 completed\n"
     ]
    }
   ],
   "source": [
    "# Annotate the data\n",
    "for seed in seeds:\n",
    "    gpt_annotate_string.gpt_annotate(text_to_annotate_B3, B301, key, seed,fingerprint, experiment=\"B3.0.1\",  num_iterations=1, model=\"gpt-4o\", temperature=0, batch_size=20, human_labels=True)"
   ],
   "metadata": {
    "collapsed": false,
    "ExecuteTime": {
     "start_time": "2024-06-06T18:03:22.162317Z",
     "end_time": "2024-06-06T18:08:21.864228Z"
    }
   }
  },
  {
   "cell_type": "code",
   "execution_count": 31,
   "outputs": [
    {
     "name": "stdout",
     "output_type": "stream",
     "text": [
      "3644 - iteration 1\n",
      "3644 - I1 - B5 fingerprint does not match\n",
      "iteration:  1 completed\n",
      "3441 - iteration 1\n",
      "iteration:  1 completed\n",
      "280 - iteration 1\n",
      "iteration:  1 completed\n",
      "5991 - iteration 1\n",
      "5991 - I1 - B9 fingerprint does not match\n",
      "5991 - I1 - B10 fingerprint does not match\n",
      "5991 - I1 - B11 fingerprint does not match\n",
      "5991 - I1 - B15 fingerprint does not match\n",
      "iteration:  1 completed\n",
      "7917 - iteration 1\n",
      "7917 - I1 - B2 fingerprint does not match\n",
      "7917 - I1 - B16 fingerprint does not match\n",
      "iteration:  1 completed\n"
     ]
    }
   ],
   "source": [
    "# Annotate the data\n",
    "for seed in seeds:\n",
    "    gpt_annotate_string.gpt_annotate(text_to_annotate_B3, B31, key, seed,fingerprint, experiment=\"B3.1\",  num_iterations=1, model=\"gpt-4o\", temperature=0, batch_size=20, human_labels=True)"
   ],
   "metadata": {
    "collapsed": false,
    "ExecuteTime": {
     "start_time": "2024-06-06T18:09:23.808825Z",
     "end_time": "2024-06-06T18:14:26.655295Z"
    }
   }
  },
  {
   "cell_type": "code",
   "execution_count": 32,
   "outputs": [
    {
     "name": "stdout",
     "output_type": "stream",
     "text": [
      "3644 - iteration 1\n",
      "3644 - I1 - B9 fingerprint does not match\n",
      "iteration:  1 completed\n",
      "3441 - iteration 1\n",
      "3441 - I1 - B7 fingerprint does not match\n",
      "iteration:  1 completed\n",
      "280 - iteration 1\n",
      "280 - I1 - B5 fingerprint does not match\n",
      "iteration:  1 completed\n",
      "5991 - iteration 1\n",
      "5991 - I1 - B13 fingerprint does not match\n",
      "iteration:  1 completed\n",
      "7917 - iteration 1\n",
      "7917 - I1 - B9 fingerprint does not match\n",
      "iteration:  1 completed\n"
     ]
    }
   ],
   "source": [
    "# Annotate the data\n",
    "for seed in seeds:\n",
    "    gpt_annotate_string.gpt_annotate(text_to_annotate_B3, B311, key, seed,fingerprint, experiment=\"B3.1.1\",  num_iterations=1, model=\"gpt-4o\", temperature=0, batch_size=20, human_labels=True)"
   ],
   "metadata": {
    "collapsed": false,
    "ExecuteTime": {
     "start_time": "2024-06-06T18:14:55.627933Z",
     "end_time": "2024-06-06T18:19:43.365304Z"
    }
   }
  },
  {
   "cell_type": "markdown",
   "source": [
    "## 4. Principles & characteristics - All sentences\n",
    "\n",
    "Filter test dataset for only ground truth relevant sentences"
   ],
   "metadata": {
    "collapsed": false
   }
  },
  {
   "cell_type": "code",
   "execution_count": 33,
   "outputs": [
    {
     "data": {
      "text/plain": "                                                  Text  \\\n0      The U.S. has led the way in the relief effo...   \n1    Inthe past 10 years, the U.S. has contributed ...   \n2      Of course, scientists dont know that clima...   \n3      It is for this reason that President Obama ...   \n4      Last June, President Obama announced the U....   \n..                                                 ...   \n326   The most important result of COP28 that I wou...   \n327   Trust that “WE” , governments together with o...   \n328                                                      \n329  But for that, we need….to scale up the solutio...   \n330                                       I thank you.   \n\n                       PRINCIPLE          TOPIC           UNIT          SHAPE  \n0                  not evaluated  not evaluated  not evaluated  not evaluated  \n1                  not evaluated  not evaluated  not evaluated  not evaluated  \n2                  not evaluated  not evaluated  not evaluated  not evaluated  \n3                  not evaluated  not evaluated  not evaluated  not evaluated  \n4                  not evaluated  not evaluated  not evaluated  not evaluated  \n..                           ...            ...            ...            ...  \n326                not evaluated  not evaluated  not evaluated  not evaluated  \n327                not evaluated  not evaluated  not evaluated  not evaluated  \n328                not evaluated  not evaluated  not evaluated  not evaluated  \n329  general normative statement        urgency  not indicated  not indicated  \n330                not evaluated  not evaluated  not evaluated  not evaluated  \n\n[331 rows x 5 columns]",
      "text/html": "<div>\n<style scoped>\n    .dataframe tbody tr th:only-of-type {\n        vertical-align: middle;\n    }\n\n    .dataframe tbody tr th {\n        vertical-align: top;\n    }\n\n    .dataframe thead th {\n        text-align: right;\n    }\n</style>\n<table border=\"1\" class=\"dataframe\">\n  <thead>\n    <tr style=\"text-align: right;\">\n      <th></th>\n      <th>Text</th>\n      <th>PRINCIPLE</th>\n      <th>TOPIC</th>\n      <th>UNIT</th>\n      <th>SHAPE</th>\n    </tr>\n  </thead>\n  <tbody>\n    <tr>\n      <th>0</th>\n      <td>  The U.S. has led the way in the relief effo...</td>\n      <td>not evaluated</td>\n      <td>not evaluated</td>\n      <td>not evaluated</td>\n      <td>not evaluated</td>\n    </tr>\n    <tr>\n      <th>1</th>\n      <td>Inthe past 10 years, the U.S. has contributed ...</td>\n      <td>not evaluated</td>\n      <td>not evaluated</td>\n      <td>not evaluated</td>\n      <td>not evaluated</td>\n    </tr>\n    <tr>\n      <th>2</th>\n      <td>  Of course, scientists dont know that clima...</td>\n      <td>not evaluated</td>\n      <td>not evaluated</td>\n      <td>not evaluated</td>\n      <td>not evaluated</td>\n    </tr>\n    <tr>\n      <th>3</th>\n      <td>  It is for this reason that President Obama ...</td>\n      <td>not evaluated</td>\n      <td>not evaluated</td>\n      <td>not evaluated</td>\n      <td>not evaluated</td>\n    </tr>\n    <tr>\n      <th>4</th>\n      <td>  Last June, President Obama announced the U....</td>\n      <td>not evaluated</td>\n      <td>not evaluated</td>\n      <td>not evaluated</td>\n      <td>not evaluated</td>\n    </tr>\n    <tr>\n      <th>...</th>\n      <td>...</td>\n      <td>...</td>\n      <td>...</td>\n      <td>...</td>\n      <td>...</td>\n    </tr>\n    <tr>\n      <th>326</th>\n      <td>The most important result of COP28 that I wou...</td>\n      <td>not evaluated</td>\n      <td>not evaluated</td>\n      <td>not evaluated</td>\n      <td>not evaluated</td>\n    </tr>\n    <tr>\n      <th>327</th>\n      <td>Trust that “WE” , governments together with o...</td>\n      <td>not evaluated</td>\n      <td>not evaluated</td>\n      <td>not evaluated</td>\n      <td>not evaluated</td>\n    </tr>\n    <tr>\n      <th>328</th>\n      <td></td>\n      <td>not evaluated</td>\n      <td>not evaluated</td>\n      <td>not evaluated</td>\n      <td>not evaluated</td>\n    </tr>\n    <tr>\n      <th>329</th>\n      <td>But for that, we need….to scale up the solutio...</td>\n      <td>general normative statement</td>\n      <td>urgency</td>\n      <td>not indicated</td>\n      <td>not indicated</td>\n    </tr>\n    <tr>\n      <th>330</th>\n      <td>I thank you.</td>\n      <td>not evaluated</td>\n      <td>not evaluated</td>\n      <td>not evaluated</td>\n      <td>not evaluated</td>\n    </tr>\n  </tbody>\n</table>\n<p>331 rows × 5 columns</p>\n</div>"
     },
     "execution_count": 33,
     "metadata": {},
     "output_type": "execute_result"
    }
   ],
   "source": [
    "#HLS_test_relevant = HLS_test[HLS_test['RELEVANCE']=='Relevant']\n",
    "# Select only columns containing relevance labels\n",
    "HLS_principle_B4 = HLS_test[['Text', 'PRINCIPLE', 'TOPIC', 'UNIT', 'SHAPE']]\n",
    "HLS_principle_B4"
   ],
   "metadata": {
    "collapsed": false,
    "ExecuteTime": {
     "start_time": "2024-06-06T18:19:43.365304Z",
     "end_time": "2024-06-06T18:19:43.380325Z"
    }
   }
  },
  {
   "cell_type": "code",
   "execution_count": 34,
   "outputs": [],
   "source": [
    "## Import codebook for B1.1\n",
    "with open('codebooks/B4.0', 'r', encoding='utf-8') as file:\n",
    "    B4 = file.read()"
   ],
   "metadata": {
    "collapsed": false,
    "ExecuteTime": {
     "start_time": "2024-06-06T18:19:43.380325Z",
     "end_time": "2024-06-06T18:19:43.430898Z"
    }
   }
  },
  {
   "cell_type": "code",
   "execution_count": 35,
   "outputs": [
    {
     "name": "stdout",
     "output_type": "stream",
     "text": [
      "ChatCompletion(id='chatcmpl-9XA7yDe2xIVOV5NYkzjUlbD94FPB8', choices=[Choice(finish_reason='stop', index=0, logprobs=None, message=ChatCompletionMessage(content='PRINCIPLE, TOPIC, UNIT, SHAPE', role='assistant', function_call=None, tool_calls=None))], created=1717690782, model='gpt-4o-2024-05-13', object='chat.completion', system_fingerprint='fp_319be4768e', usage=CompletionUsage(completion_tokens=11, prompt_tokens=1731, total_tokens=1742))\n",
      "\n",
      "Categories to annotate:\n",
      "1) PRINCIPLE\n",
      "2) TOPIC\n",
      "3) UNIT\n",
      "4) SHAPE\n",
      "\n",
      "\n",
      "Data is ready to be annotated using gpt_annotate()!\n",
      "\n",
      "Glimpse of your data:\n",
      "Shape of data:  (331, 7)\n",
      "   unique_id                                               text  \\\n",
      "0          0    The U.S. has led the way in the relief effo...   \n",
      "1          1  Inthe past 10 years, the U.S. has contributed ...   \n",
      "2          2    Of course, scientists dont know that clima...   \n",
      "3          3    It is for this reason that President Obama ...   \n",
      "4          4    Last June, President Obama announced the U....   \n",
      "\n",
      "       PRINCIPLE          TOPIC           UNIT          SHAPE  \\\n",
      "0  not evaluated  not evaluated  not evaluated  not evaluated   \n",
      "1  not evaluated  not evaluated  not evaluated  not evaluated   \n",
      "2  not evaluated  not evaluated  not evaluated  not evaluated   \n",
      "3  not evaluated  not evaluated  not evaluated  not evaluated   \n",
      "4  not evaluated  not evaluated  not evaluated  not evaluated   \n",
      "\n",
      "                                           llm_query  \n",
      "0  0   The U.S. has led the way in the relief ef...  \n",
      "1  1 Inthe past 10 years, the U.S. has contribute...  \n",
      "2  2   Of course, scientists dont know that cli...  \n",
      "3  3   It is for this reason that President Obam...  \n",
      "4  4   Last June, President Obama announced the ...  \n"
     ]
    }
   ],
   "source": [
    "# Prepare dataframe for annotation\n",
    "text_to_annotate_B4 = gpt_annotate_string.prepare_data(HLS_principle_B4, B4, key, prep_codebook=True)"
   ],
   "metadata": {
    "collapsed": false,
    "ExecuteTime": {
     "start_time": "2024-06-06T18:19:43.399649Z",
     "end_time": "2024-06-06T18:19:52.478200Z"
    }
   }
  },
  {
   "cell_type": "markdown",
   "source": [
    "Fingerprint used: fp_319be4768e"
   ],
   "metadata": {
    "collapsed": false
   }
  },
  {
   "cell_type": "code",
   "execution_count": 36,
   "outputs": [],
   "source": [
    "fingerprint = 'fp_319be4768e'\n",
    "\n",
    "#Block seed to prevent accidental rerun of gpt_annotate\n",
    "seeds = [3644,3441, 280, 5991, 7917]"
   ],
   "metadata": {
    "collapsed": false,
    "ExecuteTime": {
     "start_time": "2024-06-06T18:19:52.360907Z",
     "end_time": "2024-06-06T18:19:52.478200Z"
    }
   }
  },
  {
   "cell_type": "code",
   "execution_count": 37,
   "outputs": [
    {
     "name": "stdout",
     "output_type": "stream",
     "text": [
      "3644 - iteration 1\n",
      "3644 - I1 - B7 fingerprint does not match\n",
      "iteration:  1 completed\n",
      "3441 - iteration 1\n",
      "iteration:  1 completed\n",
      "280 - iteration 1\n",
      "iteration:  1 completed\n",
      "5991 - iteration 1\n",
      "iteration:  1 completed\n",
      "7917 - iteration 1\n",
      "7917 - I1 - B12 fingerprint does not match\n",
      "iteration:  1 completed\n"
     ]
    }
   ],
   "source": [
    "# Annotate the data - B1.1 TEST SET\n",
    "for seed in seeds:\n",
    "    gpt_annotate_string.gpt_annotate(text_to_annotate_B4, B4, key, seed,fingerprint, experiment=\"B4.0\",  num_iterations=1, model=\"gpt-4o\", temperature=0, batch_size=20, human_labels=True)"
   ],
   "metadata": {
    "collapsed": false,
    "ExecuteTime": {
     "start_time": "2024-06-06T18:19:52.370673Z",
     "end_time": "2024-06-06T18:31:53.326020Z"
    }
   }
  },
  {
   "cell_type": "code",
   "execution_count": null,
   "outputs": [],
   "source": [],
   "metadata": {
    "collapsed": false
   }
  }
 ],
 "metadata": {
  "kernelspec": {
   "display_name": "Python 3",
   "language": "python",
   "name": "python3"
  },
  "language_info": {
   "codemirror_mode": {
    "name": "ipython",
    "version": 2
   },
   "file_extension": ".py",
   "mimetype": "text/x-python",
   "name": "python",
   "nbconvert_exporter": "python",
   "pygments_lexer": "ipython2",
   "version": "2.7.6"
  }
 },
 "nbformat": 4,
 "nbformat_minor": 0
}
