{
 "cells": [
  {
   "cell_type": "code",
   "execution_count": 14,
   "metadata": {
    "collapsed": true,
    "ExecuteTime": {
     "start_time": "2024-05-28T17:09:47.510082Z",
     "end_time": "2024-05-28T17:09:47.538470Z"
    }
   },
   "outputs": [],
   "source": [
    "import numpy as np\n",
    "import pandas as pd\n",
    "import os\n",
    "import re\n",
    "import matplotlib.pyplot as plt\n",
    "import seaborn as sns\n",
    "import openai\n",
    "import difflib"
   ]
  },
  {
   "cell_type": "markdown",
   "source": [
    "## Notebook to annotate HLS speeches for relevance\n",
    "### A: one-hot coded labels\n",
    "\n",
    "Codebooks:\n",
    "- A1.0: zero shot\n",
    "- A1.1: one shot\n",
    "- (A1.2: two shot)\n",
    "- A1.0.1: zero shot with specific inclusion of context\n",
    "- A1.1.1: one shot with specific inclusion of context\n",
    "\n",
    "Test for 5 different seeds\n",
    "Batch of 20 sentences\n",
    "1 iterations\n",
    "\n",
    "Main outcomes: T0 - I1\n",
    "For testing purposes: T0 - T 0.2 - T 0.6 : (I3)\n",
    "\n",
    "Model selection:\n",
    " As of 22-05-2024, gpt-4-turbo-2024-04-09 seems to be the only gpt-model that returns a fingerprint in addition to gpt-4o\n",
    "\n",
    "  #model= \"gpt-4-turbo-2024-04-09\"\n",
    "  #model = \"gpt-3.5-turbo-0125\"\n"
   ],
   "metadata": {
    "collapsed": false
   }
  },
  {
   "cell_type": "markdown",
   "source": [
    "### Import text to annotate\n",
    "Select only relevant columns of the full dataframe, in this case:\n",
    "relevance_0, relevance_1, relevance_2"
   ],
   "metadata": {
    "collapsed": false
   }
  },
  {
   "cell_type": "code",
   "execution_count": 2,
   "outputs": [],
   "source": [
    "# Import numerical csv file\n",
    "HLS_train = pd.read_csv('data/num/HLS_train_dummies.csv')"
   ],
   "metadata": {
    "collapsed": false,
    "ExecuteTime": {
     "start_time": "2024-05-28T16:09:05.906886Z",
     "end_time": "2024-05-28T16:09:05.945500Z"
    }
   }
  },
  {
   "cell_type": "code",
   "execution_count": 3,
   "outputs": [
    {
     "data": {
      "text/plain": "                    id                                               Text  \\\n0          COP19_japan                         Thank you, Mr. President .   \n1          COP19_japan   On beha lf of the government of Japan , I wou...   \n2          COP19_japan   I would also like to expr ess my d eepest con...   \n3          COP19_japan   Mr. President:  A fair and effective framewor...   \n4          COP19_japan   In this regard, Japan firmly supports the est...   \n...                ...                                                ...   \n1207  COP28_newzealand   New Zealand is proud to suppor t several impo...   \n1208  COP28_newzealand  I am joined by New Zealand’s largest business,...   \n1209  COP28_newzealand  The commitment o f New Zealanders from across ...   \n1210  COP28_newzealand                            Thank you Mr President.   \n1211  COP28_newzealand                                          Kia Kaha    \n\n      relevance_0  relevance_1  relevance_2  principle_0  principle_1  \\\n0               1            0            0            1            0   \n1               1            0            0            1            0   \n2               1            0            0            1            0   \n3               0            0            1            0            0   \n4               0            1            0            1            0   \n...           ...          ...          ...          ...          ...   \n1207            1            0            0            1            0   \n1208            1            0            0            1            0   \n1209            1            0            0            1            0   \n1210            1            0            0            1            0   \n1211            1            0            0            1            0   \n\n      principle_2  principle_3  principle_4  ...  unit_7  shape_0  shape_1  \\\n0               0            0            0  ...       0        1        0   \n1               0            0            0  ...       0        1        0   \n2               0            0            0  ...       0        1        0   \n3               0            1            0  ...       0        0        0   \n4               0            0            0  ...       0        1        0   \n...           ...          ...          ...  ...     ...      ...      ...   \n1207            0            0            0  ...       0        1        0   \n1208            0            0            0  ...       0        1        0   \n1209            0            0            0  ...       0        1        0   \n1210            0            0            0  ...       0        1        0   \n1211            0            0            0  ...       0        1        0   \n\n      shape_2  shape_3  shape_4  shape_5  shape_6  shape_7  shape_8  \n0           0        0        0        0        0        0        0  \n1           0        0        0        0        0        0        0  \n2           0        0        0        0        0        0        0  \n3           1        0        0        0        0        0        0  \n4           0        0        0        0        0        0        0  \n...       ...      ...      ...      ...      ...      ...      ...  \n1207        0        0        0        0        0        0        0  \n1208        0        0        0        0        0        0        0  \n1209        0        0        0        0        0        0        0  \n1210        0        0        0        0        0        0        0  \n1211        0        0        0        0        0        0        0  \n\n[1212 rows x 39 columns]",
      "text/html": "<div>\n<style scoped>\n    .dataframe tbody tr th:only-of-type {\n        vertical-align: middle;\n    }\n\n    .dataframe tbody tr th {\n        vertical-align: top;\n    }\n\n    .dataframe thead th {\n        text-align: right;\n    }\n</style>\n<table border=\"1\" class=\"dataframe\">\n  <thead>\n    <tr style=\"text-align: right;\">\n      <th></th>\n      <th>id</th>\n      <th>Text</th>\n      <th>relevance_0</th>\n      <th>relevance_1</th>\n      <th>relevance_2</th>\n      <th>principle_0</th>\n      <th>principle_1</th>\n      <th>principle_2</th>\n      <th>principle_3</th>\n      <th>principle_4</th>\n      <th>...</th>\n      <th>unit_7</th>\n      <th>shape_0</th>\n      <th>shape_1</th>\n      <th>shape_2</th>\n      <th>shape_3</th>\n      <th>shape_4</th>\n      <th>shape_5</th>\n      <th>shape_6</th>\n      <th>shape_7</th>\n      <th>shape_8</th>\n    </tr>\n  </thead>\n  <tbody>\n    <tr>\n      <th>0</th>\n      <td>COP19_japan</td>\n      <td>Thank you, Mr. President .</td>\n      <td>1</td>\n      <td>0</td>\n      <td>0</td>\n      <td>1</td>\n      <td>0</td>\n      <td>0</td>\n      <td>0</td>\n      <td>0</td>\n      <td>...</td>\n      <td>0</td>\n      <td>1</td>\n      <td>0</td>\n      <td>0</td>\n      <td>0</td>\n      <td>0</td>\n      <td>0</td>\n      <td>0</td>\n      <td>0</td>\n      <td>0</td>\n    </tr>\n    <tr>\n      <th>1</th>\n      <td>COP19_japan</td>\n      <td>On beha lf of the government of Japan , I wou...</td>\n      <td>1</td>\n      <td>0</td>\n      <td>0</td>\n      <td>1</td>\n      <td>0</td>\n      <td>0</td>\n      <td>0</td>\n      <td>0</td>\n      <td>...</td>\n      <td>0</td>\n      <td>1</td>\n      <td>0</td>\n      <td>0</td>\n      <td>0</td>\n      <td>0</td>\n      <td>0</td>\n      <td>0</td>\n      <td>0</td>\n      <td>0</td>\n    </tr>\n    <tr>\n      <th>2</th>\n      <td>COP19_japan</td>\n      <td>I would also like to expr ess my d eepest con...</td>\n      <td>1</td>\n      <td>0</td>\n      <td>0</td>\n      <td>1</td>\n      <td>0</td>\n      <td>0</td>\n      <td>0</td>\n      <td>0</td>\n      <td>...</td>\n      <td>0</td>\n      <td>1</td>\n      <td>0</td>\n      <td>0</td>\n      <td>0</td>\n      <td>0</td>\n      <td>0</td>\n      <td>0</td>\n      <td>0</td>\n      <td>0</td>\n    </tr>\n    <tr>\n      <th>3</th>\n      <td>COP19_japan</td>\n      <td>Mr. President:  A fair and effective framewor...</td>\n      <td>0</td>\n      <td>0</td>\n      <td>1</td>\n      <td>0</td>\n      <td>0</td>\n      <td>0</td>\n      <td>1</td>\n      <td>0</td>\n      <td>...</td>\n      <td>0</td>\n      <td>0</td>\n      <td>0</td>\n      <td>1</td>\n      <td>0</td>\n      <td>0</td>\n      <td>0</td>\n      <td>0</td>\n      <td>0</td>\n      <td>0</td>\n    </tr>\n    <tr>\n      <th>4</th>\n      <td>COP19_japan</td>\n      <td>In this regard, Japan firmly supports the est...</td>\n      <td>0</td>\n      <td>1</td>\n      <td>0</td>\n      <td>1</td>\n      <td>0</td>\n      <td>0</td>\n      <td>0</td>\n      <td>0</td>\n      <td>...</td>\n      <td>0</td>\n      <td>1</td>\n      <td>0</td>\n      <td>0</td>\n      <td>0</td>\n      <td>0</td>\n      <td>0</td>\n      <td>0</td>\n      <td>0</td>\n      <td>0</td>\n    </tr>\n    <tr>\n      <th>...</th>\n      <td>...</td>\n      <td>...</td>\n      <td>...</td>\n      <td>...</td>\n      <td>...</td>\n      <td>...</td>\n      <td>...</td>\n      <td>...</td>\n      <td>...</td>\n      <td>...</td>\n      <td>...</td>\n      <td>...</td>\n      <td>...</td>\n      <td>...</td>\n      <td>...</td>\n      <td>...</td>\n      <td>...</td>\n      <td>...</td>\n      <td>...</td>\n      <td>...</td>\n      <td>...</td>\n    </tr>\n    <tr>\n      <th>1207</th>\n      <td>COP28_newzealand</td>\n      <td>New Zealand is proud to suppor t several impo...</td>\n      <td>1</td>\n      <td>0</td>\n      <td>0</td>\n      <td>1</td>\n      <td>0</td>\n      <td>0</td>\n      <td>0</td>\n      <td>0</td>\n      <td>...</td>\n      <td>0</td>\n      <td>1</td>\n      <td>0</td>\n      <td>0</td>\n      <td>0</td>\n      <td>0</td>\n      <td>0</td>\n      <td>0</td>\n      <td>0</td>\n      <td>0</td>\n    </tr>\n    <tr>\n      <th>1208</th>\n      <td>COP28_newzealand</td>\n      <td>I am joined by New Zealand’s largest business,...</td>\n      <td>1</td>\n      <td>0</td>\n      <td>0</td>\n      <td>1</td>\n      <td>0</td>\n      <td>0</td>\n      <td>0</td>\n      <td>0</td>\n      <td>...</td>\n      <td>0</td>\n      <td>1</td>\n      <td>0</td>\n      <td>0</td>\n      <td>0</td>\n      <td>0</td>\n      <td>0</td>\n      <td>0</td>\n      <td>0</td>\n      <td>0</td>\n    </tr>\n    <tr>\n      <th>1209</th>\n      <td>COP28_newzealand</td>\n      <td>The commitment o f New Zealanders from across ...</td>\n      <td>1</td>\n      <td>0</td>\n      <td>0</td>\n      <td>1</td>\n      <td>0</td>\n      <td>0</td>\n      <td>0</td>\n      <td>0</td>\n      <td>...</td>\n      <td>0</td>\n      <td>1</td>\n      <td>0</td>\n      <td>0</td>\n      <td>0</td>\n      <td>0</td>\n      <td>0</td>\n      <td>0</td>\n      <td>0</td>\n      <td>0</td>\n    </tr>\n    <tr>\n      <th>1210</th>\n      <td>COP28_newzealand</td>\n      <td>Thank you Mr President.</td>\n      <td>1</td>\n      <td>0</td>\n      <td>0</td>\n      <td>1</td>\n      <td>0</td>\n      <td>0</td>\n      <td>0</td>\n      <td>0</td>\n      <td>...</td>\n      <td>0</td>\n      <td>1</td>\n      <td>0</td>\n      <td>0</td>\n      <td>0</td>\n      <td>0</td>\n      <td>0</td>\n      <td>0</td>\n      <td>0</td>\n      <td>0</td>\n    </tr>\n    <tr>\n      <th>1211</th>\n      <td>COP28_newzealand</td>\n      <td>Kia Kaha</td>\n      <td>1</td>\n      <td>0</td>\n      <td>0</td>\n      <td>1</td>\n      <td>0</td>\n      <td>0</td>\n      <td>0</td>\n      <td>0</td>\n      <td>...</td>\n      <td>0</td>\n      <td>1</td>\n      <td>0</td>\n      <td>0</td>\n      <td>0</td>\n      <td>0</td>\n      <td>0</td>\n      <td>0</td>\n      <td>0</td>\n      <td>0</td>\n    </tr>\n  </tbody>\n</table>\n<p>1212 rows × 39 columns</p>\n</div>"
     },
     "execution_count": 3,
     "metadata": {},
     "output_type": "execute_result"
    }
   ],
   "source": [
    "# ### Select only japan for testing purposes\n",
    "# HLS_train_japan = HLS_train[HLS_train['id']=='COP19_japan']\n",
    "HLS_train"
   ],
   "metadata": {
    "collapsed": false,
    "ExecuteTime": {
     "start_time": "2024-05-28T16:09:08.347326Z",
     "end_time": "2024-05-28T16:09:08.431742Z"
    }
   }
  },
  {
   "cell_type": "code",
   "execution_count": 4,
   "outputs": [],
   "source": [
    "# Select only columns containing relevance labels\n",
    "HLS_relevance = HLS_train[['Text', 'relevance_0', 'relevance_1', 'relevance_2']]"
   ],
   "metadata": {
    "collapsed": false,
    "ExecuteTime": {
     "start_time": "2024-05-28T16:09:17.190561Z",
     "end_time": "2024-05-28T16:09:17.202477Z"
    }
   }
  },
  {
   "cell_type": "markdown",
   "source": [
    "### Import necessary files\n",
    "- codebooks\n",
    "- API key\n",
    "- import gpt_annotate_num"
   ],
   "metadata": {
    "collapsed": false
   }
  },
  {
   "cell_type": "code",
   "execution_count": 5,
   "outputs": [],
   "source": [
    "# Load codebook - zero shot\n",
    "with open('codebooks/A/A1.0', 'r', encoding='utf-8') as file:\n",
    "    A10 = file.read()"
   ],
   "metadata": {
    "collapsed": false,
    "ExecuteTime": {
     "start_time": "2024-05-28T16:09:21.430816Z",
     "end_time": "2024-05-28T16:09:21.481174Z"
    }
   }
  },
  {
   "cell_type": "code",
   "execution_count": 6,
   "outputs": [],
   "source": [
    "# OpenAI key\n",
    "with open('gpt_api_key.txt', 'r') as f:\n",
    "    key = f.read().strip()"
   ],
   "metadata": {
    "collapsed": false,
    "ExecuteTime": {
     "start_time": "2024-05-28T16:09:23.550090Z",
     "end_time": "2024-05-28T16:09:23.583046Z"
    }
   }
  },
  {
   "cell_type": "code",
   "execution_count": 7,
   "outputs": [],
   "source": [
    "import gpt_annotate_num"
   ],
   "metadata": {
    "collapsed": false,
    "ExecuteTime": {
     "start_time": "2024-05-28T16:09:24.801437Z",
     "end_time": "2024-05-28T16:09:41.258361Z"
    }
   }
  },
  {
   "cell_type": "markdown",
   "source": [
    "### Prepare data for annotation\n",
    "Compares column names in HLS_relevance to the codes identified by GPT-4o in the codebook. Seed for this identification is set to 1234."
   ],
   "metadata": {
    "collapsed": false
   }
  },
  {
   "cell_type": "code",
   "execution_count": 8,
   "outputs": [
    {
     "name": "stdout",
     "output_type": "stream",
     "text": [
      "ChatCompletion(id='chatcmpl-9Trobvxu3ic6yy7h0gtlaZfagr0VC', choices=[Choice(finish_reason='stop', index=0, logprobs=None, message=ChatCompletionMessage(content='relevance_0, relevance_1, relevance_2', role='assistant', function_call=None, tool_calls=None))], created=1716905405, model='gpt-4o-2024-05-13', object='chat.completion', system_fingerprint='fp_43dfabdef1', usage=CompletionUsage(completion_tokens=12, prompt_tokens=389, total_tokens=401))\n",
      "\n",
      "Categories to annotate:\n",
      "1) relevance_0\n",
      "2) relevance_1\n",
      "3) relevance_2\n",
      "\n",
      "\n",
      "Data is ready to be annotated using gpt_annotate()!\n",
      "\n",
      "Glimpse of your data:\n",
      "Shape of data:  (1212, 6)\n",
      "   unique_id                                               text  relevance_0  \\\n",
      "0          0                         Thank you, Mr. President .            1   \n",
      "1          1   On beha lf of the government of Japan , I wou...            1   \n",
      "2          2   I would also like to expr ess my d eepest con...            1   \n",
      "3          3   Mr. President:  A fair and effective framewor...            0   \n",
      "4          4   In this regard, Japan firmly supports the est...            0   \n",
      "\n",
      "   relevance_1  relevance_2                                          llm_query  \n",
      "0            0            0                    0  Thank you, Mr. President .\\n  \n",
      "1            0            0  1  On beha lf of the government of Japan , I w...  \n",
      "2            0            0  2  I would also like to expr ess my d eepest c...  \n",
      "3            0            1  3  Mr. President:  A fair and effective framew...  \n",
      "4            1            0  4  In this regard, Japan firmly supports the e...  \n"
     ]
    }
   ],
   "source": [
    "# Prepare dataframe for annotation\n",
    "text_to_annotate = gpt_annotate_num.prepare_data(HLS_relevance, A10, key, prep_codebook=True)"
   ],
   "metadata": {
    "collapsed": false,
    "ExecuteTime": {
     "start_time": "2024-05-28T16:10:05.526930Z",
     "end_time": "2024-05-28T16:10:09.793520Z"
    }
   }
  },
  {
   "cell_type": "markdown",
   "source": [
    "Fingerprint used: 'fp_43dfabdef1'\n",
    "\n",
    "Seed of textpreparation is hardcoded into gpt_annotate. This to ensure that onlye the results of the same fingerprint for all seeds and all iterations. Essentially every time GPT-4o is called only results with this specific fingerprint are saved."
   ],
   "metadata": {
    "collapsed": false
   }
  },
  {
   "cell_type": "markdown",
   "source": [
    "### Run gpt_annotate_num\n",
    "Evaluation per seed -\n",
    "5 different seeds\n",
    "Batch of 20 sentences\n",
    "1 iterations\n",
    "\n",
    "Returns 5 outputs per seed;\n",
    "1. all_iterations_num_{seed}.csv\n",
    "2. final_num_{seed}.csv\n",
    "3. performance_metrics_{seed}\n",
    "4. incorrect_{seed}.csv\n",
    "5. fingerprints_all.csv\n"
   ],
   "metadata": {
    "collapsed": false
   }
  },
  {
   "cell_type": "code",
   "execution_count": 9,
   "outputs": [],
   "source": [
    "fingerprint = 'fp_43dfabdef1'\n",
    "seeds = [3644,3441, 280, 5991, 7917]"
   ],
   "metadata": {
    "collapsed": false,
    "ExecuteTime": {
     "start_time": "2024-05-28T16:10:32.176278Z",
     "end_time": "2024-05-28T16:10:32.194448Z"
    }
   }
  },
  {
   "cell_type": "code",
   "execution_count": 10,
   "outputs": [
    {
     "name": "stdout",
     "output_type": "stream",
     "text": [
      "3644 - iteration 1\n",
      "3644 - I1 - B15 fingerprint does not match\n",
      "3644 - I1 - B17 fingerprint does not match\n",
      "3644 - I1 - B61 fingerprint does not match\n",
      "iteration:  1 completed\n",
      "3441 - iteration 1\n",
      "3441 - I1 - B2 fingerprint does not match\n",
      "3441 - I1 - B16 fingerprint does not match\n",
      "iteration:  1 completed\n",
      "280 - iteration 1\n",
      "280 - I1 - B7 fingerprint does not match\n",
      "280 - I1 - B15 fingerprint does not match\n",
      "280 - I1 - B18 fingerprint does not match\n",
      "280 - I1 - B23 fingerprint does not match\n",
      "280 - I1 - B53 fingerprint does not match\n",
      "280 - I1 - B61 fingerprint does not match\n",
      "iteration:  1 completed\n",
      "5991 - iteration 1\n",
      "5991 - I1 - B31 fingerprint does not match\n",
      "5991 - I1 - B51 fingerprint does not match\n",
      "iteration:  1 completed\n",
      "7917 - iteration 1\n",
      "7917 - I1 - B46 fingerprint does not match\n",
      "7917 - I1 - B55 fingerprint does not match\n",
      "iteration:  1 completed\n"
     ]
    }
   ],
   "source": [
    "# Annotate the data - T0\n",
    "for seed in seeds:\n",
    "    gpt_annotate_num.gpt_annotate(text_to_annotate, A10, key, seed, fingerprint,experiment='A1.0', num_iterations=1, model=\"gpt-4o\", temperature=0,batch_size=20, human_labels=True)"
   ],
   "metadata": {
    "collapsed": false,
    "ExecuteTime": {
     "start_time": "2024-05-28T16:10:34.406380Z",
     "end_time": "2024-05-28T16:45:57.801215Z"
    }
   }
  },
  {
   "cell_type": "markdown",
   "source": [
    "Time to evaluate: 35 min"
   ],
   "metadata": {
    "collapsed": false
   }
  },
  {
   "cell_type": "markdown",
   "source": [
    "### Evaluate Performance metrics\n",
    "Print performance metrics"
   ],
   "metadata": {
    "collapsed": false
   }
  },
  {
   "cell_type": "code",
   "execution_count": 11,
   "outputs": [
    {
     "data": {
      "text/plain": "             Category  Accuracy  Precision    Recall        F1\n0    0_280relevance_0  0.787273   0.881620  0.781768  0.828697\n1    0_280relevance_1  0.724545   0.323529  0.601093  0.420650\n2    0_280relevance_2  0.825455   0.503448  0.378238  0.431953\n3   0_3441relevance_0  0.777304   0.864629  0.779528  0.819876\n4   0_3441relevance_1  0.711604   0.303279  0.572165  0.396429\n5   0_3441relevance_2  0.819113   0.512346  0.384259  0.439153\n6   0_3644relevance_0  0.776724   0.870482  0.769640  0.816961\n7   0_3644relevance_1  0.716379   0.331522  0.595122  0.425829\n8   0_3644relevance_2  0.818103   0.479290  0.397059  0.434316\n9   0_5991relevance_0  0.784130   0.874260  0.778656  0.823693\n10  0_5991relevance_1  0.715017   0.323684  0.615000  0.424138\n11  0_5991relevance_2  0.825939   0.526627  0.417840  0.465969\n12  0_7917relevance_0  0.764505   0.856094  0.766097  0.808599\n13  0_7917relevance_1  0.711604   0.314763  0.551220  0.400709\n14  0_7917relevance_2  0.821672   0.491525  0.422330  0.454308",
      "text/html": "<div>\n<style scoped>\n    .dataframe tbody tr th:only-of-type {\n        vertical-align: middle;\n    }\n\n    .dataframe tbody tr th {\n        vertical-align: top;\n    }\n\n    .dataframe thead th {\n        text-align: right;\n    }\n</style>\n<table border=\"1\" class=\"dataframe\">\n  <thead>\n    <tr style=\"text-align: right;\">\n      <th></th>\n      <th>Category</th>\n      <th>Accuracy</th>\n      <th>Precision</th>\n      <th>Recall</th>\n      <th>F1</th>\n    </tr>\n  </thead>\n  <tbody>\n    <tr>\n      <th>0</th>\n      <td>0_280relevance_0</td>\n      <td>0.787273</td>\n      <td>0.881620</td>\n      <td>0.781768</td>\n      <td>0.828697</td>\n    </tr>\n    <tr>\n      <th>1</th>\n      <td>0_280relevance_1</td>\n      <td>0.724545</td>\n      <td>0.323529</td>\n      <td>0.601093</td>\n      <td>0.420650</td>\n    </tr>\n    <tr>\n      <th>2</th>\n      <td>0_280relevance_2</td>\n      <td>0.825455</td>\n      <td>0.503448</td>\n      <td>0.378238</td>\n      <td>0.431953</td>\n    </tr>\n    <tr>\n      <th>3</th>\n      <td>0_3441relevance_0</td>\n      <td>0.777304</td>\n      <td>0.864629</td>\n      <td>0.779528</td>\n      <td>0.819876</td>\n    </tr>\n    <tr>\n      <th>4</th>\n      <td>0_3441relevance_1</td>\n      <td>0.711604</td>\n      <td>0.303279</td>\n      <td>0.572165</td>\n      <td>0.396429</td>\n    </tr>\n    <tr>\n      <th>5</th>\n      <td>0_3441relevance_2</td>\n      <td>0.819113</td>\n      <td>0.512346</td>\n      <td>0.384259</td>\n      <td>0.439153</td>\n    </tr>\n    <tr>\n      <th>6</th>\n      <td>0_3644relevance_0</td>\n      <td>0.776724</td>\n      <td>0.870482</td>\n      <td>0.769640</td>\n      <td>0.816961</td>\n    </tr>\n    <tr>\n      <th>7</th>\n      <td>0_3644relevance_1</td>\n      <td>0.716379</td>\n      <td>0.331522</td>\n      <td>0.595122</td>\n      <td>0.425829</td>\n    </tr>\n    <tr>\n      <th>8</th>\n      <td>0_3644relevance_2</td>\n      <td>0.818103</td>\n      <td>0.479290</td>\n      <td>0.397059</td>\n      <td>0.434316</td>\n    </tr>\n    <tr>\n      <th>9</th>\n      <td>0_5991relevance_0</td>\n      <td>0.784130</td>\n      <td>0.874260</td>\n      <td>0.778656</td>\n      <td>0.823693</td>\n    </tr>\n    <tr>\n      <th>10</th>\n      <td>0_5991relevance_1</td>\n      <td>0.715017</td>\n      <td>0.323684</td>\n      <td>0.615000</td>\n      <td>0.424138</td>\n    </tr>\n    <tr>\n      <th>11</th>\n      <td>0_5991relevance_2</td>\n      <td>0.825939</td>\n      <td>0.526627</td>\n      <td>0.417840</td>\n      <td>0.465969</td>\n    </tr>\n    <tr>\n      <th>12</th>\n      <td>0_7917relevance_0</td>\n      <td>0.764505</td>\n      <td>0.856094</td>\n      <td>0.766097</td>\n      <td>0.808599</td>\n    </tr>\n    <tr>\n      <th>13</th>\n      <td>0_7917relevance_1</td>\n      <td>0.711604</td>\n      <td>0.314763</td>\n      <td>0.551220</td>\n      <td>0.400709</td>\n    </tr>\n    <tr>\n      <th>14</th>\n      <td>0_7917relevance_2</td>\n      <td>0.821672</td>\n      <td>0.491525</td>\n      <td>0.422330</td>\n      <td>0.454308</td>\n    </tr>\n  </tbody>\n</table>\n</div>"
     },
     "execution_count": 11,
     "metadata": {},
     "output_type": "execute_result"
    }
   ],
   "source": [
    "# Function to extract numbers from the filename string\n",
    "def extract_numbers(filename):\n",
    "    return re.findall(r'\\d+', filename)\n",
    "\n",
    "# Iterate through each file in the directory\n",
    "directory = 'NUM_RESULT/A1.0/performance_metrics_num'\n",
    "\n",
    "# Create empty list to store all dataframes\n",
    "dataframes = []\n",
    "\n",
    "# Open each file and make dataframe of complete scores\n",
    "for filename in os.listdir(directory):\n",
    "    file_path = os.path.join(directory, filename)\n",
    "    df = pd.read_csv(file_path)\n",
    "\n",
    "    seed = extract_numbers(filename)\n",
    "    # Convert the list of numbers to a string\n",
    "    seed_str = '_'.join(seed)\n",
    "\n",
    "    # Add the extracted numbers to the first column entries\n",
    "    if not df.empty and seed_str:\n",
    "        # Ensure the first column is treated as a string\n",
    "        df.iloc[:, 0] = seed_str + df.iloc[:, 0].astype(str)\n",
    "\n",
    "    dataframes.append(df)\n",
    "\n",
    "performance_all = pd.concat(dataframes, ignore_index=True)\n",
    "performance_all"
   ],
   "metadata": {
    "collapsed": false,
    "ExecuteTime": {
     "start_time": "2024-05-28T16:56:59.746005Z",
     "end_time": "2024-05-28T16:56:59.928406Z"
    }
   }
  },
  {
   "cell_type": "markdown",
   "source": [
    "### Evaluate similarities between the predicted and true outcomes\n",
    "Also only selecting relevant sentences to see what the outcome would be.\n",
    "\n",
    "Hypothesis: String based annotation performs significantly better.\n",
    "Could in itself be a limitation of the testing possibilities. Limits the evaluation metrics that can be used."
   ],
   "metadata": {
    "collapsed": false
   }
  },
  {
   "cell_type": "code",
   "execution_count": 17,
   "outputs": [],
   "source": [
    "def get_similarity_score(Rx, Ry):\n",
    "    # Ensure Rx and Ry are pandas Series and convert to strings with stripped whitespace\n",
    "    Rx = Rx.astype(str).str.strip()\n",
    "    Ry = Ry.astype(str).str.strip()\n",
    "\n",
    "    # Calculate similarity scores\n",
    "    similarity_scores = Rx.combine(Ry, lambda x, y: difflib.SequenceMatcher(None, x, y).ratio())\n",
    "\n",
    "    # Apply the threshold - maybe put higher?\n",
    "    similarity_scores = similarity_scores.apply(lambda x: x if x >= 0.95 else 0)\n",
    "\n",
    "    # Return the mean similarity score as a percentage\n",
    "    return similarity_scores.mean() * 100"
   ],
   "metadata": {
    "collapsed": false,
    "ExecuteTime": {
     "start_time": "2024-05-28T17:12:07.731437Z",
     "end_time": "2024-05-28T17:12:07.761717Z"
    }
   }
  },
  {
   "cell_type": "code",
   "execution_count": 18,
   "outputs": [
    {
     "data": {
      "text/plain": "                         filename  similarity 2\n0   all_iterations_num_T0_280.csv     82.545455\n1  all_iterations_num_T0_3441.csv     81.911263\n2  all_iterations_num_T0_3644.csv     81.810345\n3  all_iterations_num_T0_5991.csv     82.593857\n4  all_iterations_num_T0_7917.csv     82.167235",
      "text/html": "<div>\n<style scoped>\n    .dataframe tbody tr th:only-of-type {\n        vertical-align: middle;\n    }\n\n    .dataframe tbody tr th {\n        vertical-align: top;\n    }\n\n    .dataframe thead th {\n        text-align: right;\n    }\n</style>\n<table border=\"1\" class=\"dataframe\">\n  <thead>\n    <tr style=\"text-align: right;\">\n      <th></th>\n      <th>filename</th>\n      <th>similarity 2</th>\n    </tr>\n  </thead>\n  <tbody>\n    <tr>\n      <th>0</th>\n      <td>all_iterations_num_T0_280.csv</td>\n      <td>82.545455</td>\n    </tr>\n    <tr>\n      <th>1</th>\n      <td>all_iterations_num_T0_3441.csv</td>\n      <td>81.911263</td>\n    </tr>\n    <tr>\n      <th>2</th>\n      <td>all_iterations_num_T0_3644.csv</td>\n      <td>81.810345</td>\n    </tr>\n    <tr>\n      <th>3</th>\n      <td>all_iterations_num_T0_5991.csv</td>\n      <td>82.593857</td>\n    </tr>\n    <tr>\n      <th>4</th>\n      <td>all_iterations_num_T0_7917.csv</td>\n      <td>82.167235</td>\n    </tr>\n  </tbody>\n</table>\n</div>"
     },
     "execution_count": 18,
     "metadata": {},
     "output_type": "execute_result"
    }
   ],
   "source": [
    "# Iterate through each file in the directory\n",
    "directory = 'NUM_RESULT/A1.0/all_iterations_num'\n",
    "similarity_scores_2 = []\n",
    "\n",
    "for filename in os.listdir(directory):\n",
    "    file_path = os.path.join(directory, filename)\n",
    "    df = pd.read_csv(file_path)\n",
    "    Rx = df['relevance_2_x']\n",
    "    Ry = df['relevance_2_y']\n",
    "\n",
    "    similarity_score = get_similarity_score(Rx,Ry)\n",
    "\n",
    "    #Save the score in a dataframe\n",
    "    similarity_scores_2.append((filename, similarity_score))\n",
    "\n",
    "similarity_2 = pd.DataFrame(similarity_scores_2, columns=['filename', 'similarity 2'])\n",
    "similarity_2.to_csv(\"NUM_RESULT/A1.0/T0_similarity_scores_2\", index=False)\n",
    "\n",
    "similarity_2"
   ],
   "metadata": {
    "collapsed": false,
    "ExecuteTime": {
     "start_time": "2024-05-28T17:12:27.062124Z",
     "end_time": "2024-05-28T17:12:27.267587Z"
    }
   }
  },
  {
   "cell_type": "code",
   "execution_count": 20,
   "outputs": [
    {
     "data": {
      "text/plain": "                         filename  similarity 2\n0   all_iterations_num_T0_280.csv     37.823834\n1  all_iterations_num_T0_3441.csv     38.425926\n2  all_iterations_num_T0_3644.csv     39.705882\n3  all_iterations_num_T0_5991.csv     41.784038\n4  all_iterations_num_T0_7917.csv     42.233010",
      "text/html": "<div>\n<style scoped>\n    .dataframe tbody tr th:only-of-type {\n        vertical-align: middle;\n    }\n\n    .dataframe tbody tr th {\n        vertical-align: top;\n    }\n\n    .dataframe thead th {\n        text-align: right;\n    }\n</style>\n<table border=\"1\" class=\"dataframe\">\n  <thead>\n    <tr style=\"text-align: right;\">\n      <th></th>\n      <th>filename</th>\n      <th>similarity 2</th>\n    </tr>\n  </thead>\n  <tbody>\n    <tr>\n      <th>0</th>\n      <td>all_iterations_num_T0_280.csv</td>\n      <td>37.823834</td>\n    </tr>\n    <tr>\n      <th>1</th>\n      <td>all_iterations_num_T0_3441.csv</td>\n      <td>38.425926</td>\n    </tr>\n    <tr>\n      <th>2</th>\n      <td>all_iterations_num_T0_3644.csv</td>\n      <td>39.705882</td>\n    </tr>\n    <tr>\n      <th>3</th>\n      <td>all_iterations_num_T0_5991.csv</td>\n      <td>41.784038</td>\n    </tr>\n    <tr>\n      <th>4</th>\n      <td>all_iterations_num_T0_7917.csv</td>\n      <td>42.233010</td>\n    </tr>\n  </tbody>\n</table>\n</div>"
     },
     "execution_count": 20,
     "metadata": {},
     "output_type": "execute_result"
    }
   ],
   "source": [
    "similarity_scores_22 = []\n",
    "\n",
    "for filename in os.listdir(directory):\n",
    "    file_path = os.path.join(directory, filename)\n",
    "    df = pd.read_csv(file_path)\n",
    "\n",
    "    relevant_df = df[df['relevance_2_x'] == 1]\n",
    "\n",
    "    Rx = relevant_df['relevance_2_x']\n",
    "    Ry = relevant_df['relevance_2_y']\n",
    "\n",
    "    similarity_score = get_similarity_score(Rx,Ry)\n",
    "\n",
    "    #Save the score in a dataframe\n",
    "    similarity_scores_22.append((filename, similarity_score))\n",
    "\n",
    "similarity_22 = pd.DataFrame(similarity_scores_22, columns=['filename', 'similarity 2'])\n",
    "similarity_22.to_csv(\"NUM_RESULT/A1.0/T0_similarity_scores_2_only2\", index=False)\n",
    "\n",
    "similarity_22\n",
    "\n",
    "## IS ACCURACY"
   ],
   "metadata": {
    "collapsed": false,
    "ExecuteTime": {
     "start_time": "2024-05-28T17:14:29.019029Z",
     "end_time": "2024-05-28T17:14:29.124814Z"
    }
   }
  },
  {
   "cell_type": "code",
   "execution_count": 21,
   "outputs": [
    {
     "data": {
      "text/plain": "                         filename  similarity 2\n0   all_iterations_num_T0_280.csv     50.344828\n1  all_iterations_num_T0_3441.csv     51.234568\n2  all_iterations_num_T0_3644.csv     47.928994\n3  all_iterations_num_T0_5991.csv     52.662722\n4  all_iterations_num_T0_7917.csv     49.152542",
      "text/html": "<div>\n<style scoped>\n    .dataframe tbody tr th:only-of-type {\n        vertical-align: middle;\n    }\n\n    .dataframe tbody tr th {\n        vertical-align: top;\n    }\n\n    .dataframe thead th {\n        text-align: right;\n    }\n</style>\n<table border=\"1\" class=\"dataframe\">\n  <thead>\n    <tr style=\"text-align: right;\">\n      <th></th>\n      <th>filename</th>\n      <th>similarity 2</th>\n    </tr>\n  </thead>\n  <tbody>\n    <tr>\n      <th>0</th>\n      <td>all_iterations_num_T0_280.csv</td>\n      <td>50.344828</td>\n    </tr>\n    <tr>\n      <th>1</th>\n      <td>all_iterations_num_T0_3441.csv</td>\n      <td>51.234568</td>\n    </tr>\n    <tr>\n      <th>2</th>\n      <td>all_iterations_num_T0_3644.csv</td>\n      <td>47.928994</td>\n    </tr>\n    <tr>\n      <th>3</th>\n      <td>all_iterations_num_T0_5991.csv</td>\n      <td>52.662722</td>\n    </tr>\n    <tr>\n      <th>4</th>\n      <td>all_iterations_num_T0_7917.csv</td>\n      <td>49.152542</td>\n    </tr>\n  </tbody>\n</table>\n</div>"
     },
     "execution_count": 21,
     "metadata": {},
     "output_type": "execute_result"
    }
   ],
   "source": [
    "similarity_scores_222 = []\n",
    "\n",
    "for filename in os.listdir(directory):\n",
    "    file_path = os.path.join(directory, filename)\n",
    "    df = pd.read_csv(file_path)\n",
    "\n",
    "    relevant_df = df[df['relevance_2_y'] == 1]\n",
    "\n",
    "    Rx = relevant_df['relevance_2_x']\n",
    "    Ry = relevant_df['relevance_2_y']\n",
    "\n",
    "    similarity_score = get_similarity_score(Rx,Ry)\n",
    "\n",
    "    #Save the score in a dataframe\n",
    "    similarity_scores_222.append((filename, similarity_score))\n",
    "\n",
    "similarity_222 = pd.DataFrame(similarity_scores_222, columns=['filename', 'similarity 2'])\n",
    "similarity_222.to_csv(\"NUM_RESULT/A1.0/T0_similarity_scores_2_only2PRED\", index=False)\n",
    "\n",
    "similarity_222\n",
    "\n",
    "## IS PRECISION"
   ],
   "metadata": {
    "collapsed": false,
    "ExecuteTime": {
     "start_time": "2024-05-28T17:19:52.757502Z",
     "end_time": "2024-05-28T17:19:52.995164Z"
    }
   }
  }
 ],
 "metadata": {
  "kernelspec": {
   "display_name": "Python 3",
   "language": "python",
   "name": "python3"
  },
  "language_info": {
   "codemirror_mode": {
    "name": "ipython",
    "version": 2
   },
   "file_extension": ".py",
   "mimetype": "text/x-python",
   "name": "python",
   "nbconvert_exporter": "python",
   "pygments_lexer": "ipython2",
   "version": "2.7.6"
  }
 },
 "nbformat": 4,
 "nbformat_minor": 0
}
