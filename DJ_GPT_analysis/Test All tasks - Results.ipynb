{
 "cells": [
  {
   "cell_type": "code",
   "execution_count": 1,
   "metadata": {
    "collapsed": true,
    "ExecuteTime": {
     "start_time": "2024-06-07T17:28:26.906290Z",
     "end_time": "2024-06-07T17:28:27.470879Z"
    }
   },
   "outputs": [],
   "source": [
    "import numpy as np\n",
    "import pandas as pd\n",
    "import os\n",
    "import re\n",
    "import matplotlib.pyplot as plt\n",
    "import seaborn as sns\n",
    "import difflib\n",
    "from collections import Counter\n",
    "from sklearn.metrics import ConfusionMatrixDisplay, confusion_matrix, classification_report"
   ]
  },
  {
   "cell_type": "markdown",
   "source": [
    "# Evaluation of test set for all codebooks\n",
    "\n",
    "### B1.0"
   ],
   "metadata": {
    "collapsed": false
   }
  },
  {
   "cell_type": "code",
   "execution_count": 2,
   "outputs": [],
   "source": [
    "#B1.0\n",
    "path_B1 = 'STRING_RESULT/B1.0/all_iterations'\n",
    "\n",
    "# Open all dataframes\n",
    "S1 = pd.read_csv(f'{path_B1}/all_iterations_string_T0_3644.csv')\n",
    "S2 = pd.read_csv(f'{path_B1}/all_iterations_string_T0_3441.csv')\n",
    "S3 = pd.read_csv(f'{path_B1}/all_iterations_string_T0_280.csv')\n",
    "S4 = pd.read_csv(f'{path_B1}/all_iterations_string_T0_5991.csv')\n",
    "S5 = pd.read_csv(f'{path_B1}/all_iterations_string_T0_7917.csv')\n",
    "\n",
    "# Combine all dataframes into one\n",
    "B1_full = pd.concat([S1, S2, S3, S4, S5], ignore_index=True)"
   ],
   "metadata": {
    "collapsed": false,
    "ExecuteTime": {
     "start_time": "2024-06-07T15:28:26.808603Z",
     "end_time": "2024-06-07T15:28:26.922454Z"
    }
   }
  },
  {
   "cell_type": "code",
   "execution_count": 25,
   "outputs": [
    {
     "data": {
      "text/plain": "(1250, 6)"
     },
     "execution_count": 25,
     "metadata": {},
     "output_type": "execute_result"
    }
   ],
   "source": [
    "# Filter rows to keep only those where the unique_id appears exactly 5 times\n",
    "filtered_B1 = B1_full.groupby('unique_id').filter(lambda x: len(x) == 5)\n",
    "filtered_B1.shape"
   ],
   "metadata": {
    "collapsed": false,
    "ExecuteTime": {
     "start_time": "2024-06-07T11:07:37.585374Z",
     "end_time": "2024-06-07T11:07:37.709362Z"
    }
   }
  },
  {
   "cell_type": "code",
   "execution_count": 26,
   "outputs": [],
   "source": [
    "# List of unique_id's that are annotated 5 times\n",
    "unique_ids = filtered_B1['unique_id'].unique().tolist()"
   ],
   "metadata": {
    "collapsed": false,
    "ExecuteTime": {
     "start_time": "2024-06-07T11:08:53.317800Z",
     "end_time": "2024-06-07T11:08:53.335617Z"
    }
   }
  },
  {
   "cell_type": "code",
   "execution_count": 27,
   "outputs": [],
   "source": [
    "# Filter all original dataframes to only include sentences that are annotated 5x by other seeds\n",
    "FB1S1 = S1[S1['unique_id'].isin(unique_ids)]\n",
    "FB1S2 = S2[S2['unique_id'].isin(unique_ids)]\n",
    "FB1S3 = S3[S3['unique_id'].isin(unique_ids)]\n",
    "FB1S4 = S4[S4['unique_id'].isin(unique_ids)]\n",
    "FB1S5 = S5[S5['unique_id'].isin(unique_ids)]"
   ],
   "metadata": {
    "collapsed": false,
    "ExecuteTime": {
     "start_time": "2024-06-07T11:08:55.367187Z",
     "end_time": "2024-06-07T11:08:55.466377Z"
    }
   }
  },
  {
   "cell_type": "code",
   "execution_count": 28,
   "outputs": [
    {
     "name": "stdout",
     "output_type": "stream",
     "text": [
      "Classification Report for S1\n",
      "                     precision    recall  f1-score  support\n",
      "Not relevant          0.862745  0.550000  0.671756  160.000\n",
      "Relevant              0.268817  0.714286  0.390625   35.000\n",
      "Statement of intent   0.509091  0.509091  0.509091   55.000\n",
      "accuracy              0.564000  0.564000  0.564000    0.564\n",
      "macro avg             0.546884  0.591126  0.523824  250.000\n",
      "weighted avg          0.701791  0.564000  0.596611  250.000\n",
      "\n",
      "\n",
      "Classification Report for S2\n",
      "                     precision    recall  f1-score  support\n",
      "Not relevant          0.859813  0.575000  0.689139  160.000\n",
      "Relevant              0.274725  0.714286  0.396825   35.000\n",
      "Statement of intent   0.500000  0.472727  0.485981   55.000\n",
      "accuracy              0.572000  0.572000  0.572000    0.572\n",
      "macro avg             0.544846  0.587338  0.523982  250.000\n",
      "weighted avg          0.698742  0.572000  0.603520  250.000\n",
      "\n",
      "\n",
      "Classification Report for S3\n",
      "                     precision    recall  f1-score  support\n",
      "Not relevant          0.859813  0.575000  0.689139   160.00\n",
      "Relevant              0.285714  0.742857  0.412698    35.00\n",
      "Statement of intent   0.519231  0.490909  0.504673    55.00\n",
      "accuracy              0.580000  0.580000  0.580000     0.58\n",
      "macro avg             0.554919  0.602922  0.535503   250.00\n",
      "weighted avg          0.704511  0.580000  0.609855   250.00\n",
      "\n",
      "\n",
      "Classification Report for S4\n",
      "                     precision    recall  f1-score  support\n",
      "Not relevant          0.865385  0.562500  0.681818  160.000\n",
      "Relevant              0.265306  0.742857  0.390977   35.000\n",
      "Statement of intent   0.520833  0.454545  0.485437   55.000\n",
      "accuracy              0.564000  0.564000  0.564000    0.564\n",
      "macro avg             0.550508  0.586634  0.519411  250.000\n",
      "weighted avg          0.705572  0.564000  0.597897  250.000\n",
      "\n",
      "\n",
      "Classification Report for S5\n",
      "                     precision    recall  f1-score  support\n",
      "Not relevant          0.863636  0.593750  0.703704   160.00\n",
      "Relevant              0.274725  0.714286  0.396825    35.00\n",
      "Statement of intent   0.510204  0.454545  0.480769    55.00\n",
      "accuracy              0.580000  0.580000  0.580000     0.58\n",
      "macro avg             0.549522  0.587527  0.527099   250.00\n",
      "weighted avg          0.703434  0.580000  0.611695   250.00\n",
      "\n",
      "\n"
     ]
    }
   ],
   "source": [
    "# Evaluate performance of individual seeds for the same sentences\n",
    "# Function to generate classification report for each dataframe\n",
    "def generate_classification_report(df, true_label_col, pred_label_col):\n",
    "    return classification_report(df[true_label_col], df[pred_label_col], output_dict=True)\n",
    "\n",
    "# Generate classification reports\n",
    "report_S1 = generate_classification_report(FB1S1, 'RELEVANCE_x', 'RELEVANCE_y')\n",
    "report_S2 = generate_classification_report(FB1S2, 'RELEVANCE_x', 'RELEVANCE_y')\n",
    "report_S3 = generate_classification_report(FB1S3, 'RELEVANCE_x', 'RELEVANCE_y')\n",
    "report_S4 = generate_classification_report(FB1S4, 'RELEVANCE_x', 'RELEVANCE_y')\n",
    "report_S5 = generate_classification_report(FB1S5, 'RELEVANCE_x', 'RELEVANCE_y')\n",
    "\n",
    "# Function to print the classification reports for easy comparison\n",
    "def print_classification_report(report, title):\n",
    "    print(f\"Classification Report for {title}\")\n",
    "    print(pd.DataFrame(report).transpose())\n",
    "    print(\"\\n\")\n",
    "\n",
    "# Print the classification reports\n",
    "print_classification_report(report_S1, \"S1\")\n",
    "print_classification_report(report_S2, \"S2\")\n",
    "print_classification_report(report_S3, \"S3\")\n",
    "print_classification_report(report_S4, \"S4\")\n",
    "print_classification_report(report_S5, \"S5\")"
   ],
   "metadata": {
    "collapsed": false,
    "ExecuteTime": {
     "start_time": "2024-06-07T11:08:57.751079Z",
     "end_time": "2024-06-07T11:08:58.314811Z"
    }
   }
  },
  {
   "cell_type": "markdown",
   "source": [
    "Evaluate consistency of predictions over the 5 different instances - see which sentences are not consistantly predicted.\n"
   ],
   "metadata": {
    "collapsed": false
   }
  },
  {
   "cell_type": "code",
   "execution_count": 30,
   "outputs": [
    {
     "data": {
      "text/plain": "(135, 6)"
     },
     "execution_count": 30,
     "metadata": {},
     "output_type": "execute_result"
    }
   ],
   "source": [
    "# I want to evaluate consistency\n",
    "# Print all rows where inconsequences are found per seed\n",
    "# Define a function to check if all values in relevance_y are the same\n",
    "def relevance_y_not_uniform(group):\n",
    "    return group['RELEVANCE_y'].nunique() != 1\n",
    "\n",
    "\n",
    "# Group by 'ID' and filter groups\n",
    "B1_consistency = filtered_B1.groupby('unique_id').filter(relevance_y_not_uniform)\n",
    "\n",
    "B1_consistency.shape"
   ],
   "metadata": {
    "collapsed": false,
    "ExecuteTime": {
     "start_time": "2024-06-07T11:09:24.530544Z",
     "end_time": "2024-06-07T11:09:24.669452Z"
    }
   }
  },
  {
   "cell_type": "markdown",
   "source": [
    "\n",
    "In combined dataframe, groupyby unique ID and take the majority label"
   ],
   "metadata": {
    "collapsed": false
   }
  },
  {
   "cell_type": "code",
   "execution_count": 33,
   "outputs": [
    {
     "data": {
      "text/plain": "     unique_id                                               text  \\\n0            0    The U.S. has led the way in the relief effo...   \n1            1  Inthe past 10 years, the U.S. has contributed ...   \n2            2    Of course, scientists dont know that clima...   \n3            3    It is for this reason that President Obama ...   \n4            4    Last June, President Obama announced the U....   \n..         ...                                                ...   \n245        325   Mr. President, Your Excellencies,  Ladies and...   \n246        326   The most important result of COP28 that I wou...   \n247        327   Trust that “WE” , governments together with o...   \n248        329  But for that, we need….to scale up the solutio...   \n249        330                                       I thank you.   \n\n             RELEVANCE_x                                          llm_query  \\\n0           Not relevant  0   The U.S. has led the way in the relief ef...   \n1           Not relevant  1 Inthe past 10 years, the U.S. has contribute...   \n2           Not relevant  2   Of course, scientists dont know that cli...   \n3           Not relevant  3   It is for this reason that President Obam...   \n4           Not relevant  4   Last June, President Obama announced the ...   \n..                   ...                                                ...   \n245             Relevant  325  Mr. President, Your Excellencies,  Ladies...   \n246  Statement of intent  326  The most important result of COP28 that I...   \n247  Statement of intent  327  Trust that “WE” , governments together wi...   \n248  Statement of intent  329 But for that, we need….to scale up the sol...   \n249         Not relevant                               330   I thank you.\\n   \n\n     iteration          RELEVANCE_y  \n0            1         Not relevant  \n1            1         Not relevant  \n2            1             Relevant  \n3            1  Statement of intent  \n4            1         Not relevant  \n..         ...                  ...  \n245          1             Relevant  \n246          1             Relevant  \n247          1             Relevant  \n248          1             Relevant  \n249          1         Not relevant  \n\n[250 rows x 6 columns]",
      "text/html": "<div>\n<style scoped>\n    .dataframe tbody tr th:only-of-type {\n        vertical-align: middle;\n    }\n\n    .dataframe tbody tr th {\n        vertical-align: top;\n    }\n\n    .dataframe thead th {\n        text-align: right;\n    }\n</style>\n<table border=\"1\" class=\"dataframe\">\n  <thead>\n    <tr style=\"text-align: right;\">\n      <th></th>\n      <th>unique_id</th>\n      <th>text</th>\n      <th>RELEVANCE_x</th>\n      <th>llm_query</th>\n      <th>iteration</th>\n      <th>RELEVANCE_y</th>\n    </tr>\n  </thead>\n  <tbody>\n    <tr>\n      <th>0</th>\n      <td>0</td>\n      <td>  The U.S. has led the way in the relief effo...</td>\n      <td>Not relevant</td>\n      <td>0   The U.S. has led the way in the relief ef...</td>\n      <td>1</td>\n      <td>Not relevant</td>\n    </tr>\n    <tr>\n      <th>1</th>\n      <td>1</td>\n      <td>Inthe past 10 years, the U.S. has contributed ...</td>\n      <td>Not relevant</td>\n      <td>1 Inthe past 10 years, the U.S. has contribute...</td>\n      <td>1</td>\n      <td>Not relevant</td>\n    </tr>\n    <tr>\n      <th>2</th>\n      <td>2</td>\n      <td>  Of course, scientists dont know that clima...</td>\n      <td>Not relevant</td>\n      <td>2   Of course, scientists dont know that cli...</td>\n      <td>1</td>\n      <td>Relevant</td>\n    </tr>\n    <tr>\n      <th>3</th>\n      <td>3</td>\n      <td>  It is for this reason that President Obama ...</td>\n      <td>Not relevant</td>\n      <td>3   It is for this reason that President Obam...</td>\n      <td>1</td>\n      <td>Statement of intent</td>\n    </tr>\n    <tr>\n      <th>4</th>\n      <td>4</td>\n      <td>  Last June, President Obama announced the U....</td>\n      <td>Not relevant</td>\n      <td>4   Last June, President Obama announced the ...</td>\n      <td>1</td>\n      <td>Not relevant</td>\n    </tr>\n    <tr>\n      <th>...</th>\n      <td>...</td>\n      <td>...</td>\n      <td>...</td>\n      <td>...</td>\n      <td>...</td>\n      <td>...</td>\n    </tr>\n    <tr>\n      <th>245</th>\n      <td>325</td>\n      <td>Mr. President, Your Excellencies,  Ladies and...</td>\n      <td>Relevant</td>\n      <td>325  Mr. President, Your Excellencies,  Ladies...</td>\n      <td>1</td>\n      <td>Relevant</td>\n    </tr>\n    <tr>\n      <th>246</th>\n      <td>326</td>\n      <td>The most important result of COP28 that I wou...</td>\n      <td>Statement of intent</td>\n      <td>326  The most important result of COP28 that I...</td>\n      <td>1</td>\n      <td>Relevant</td>\n    </tr>\n    <tr>\n      <th>247</th>\n      <td>327</td>\n      <td>Trust that “WE” , governments together with o...</td>\n      <td>Statement of intent</td>\n      <td>327  Trust that “WE” , governments together wi...</td>\n      <td>1</td>\n      <td>Relevant</td>\n    </tr>\n    <tr>\n      <th>248</th>\n      <td>329</td>\n      <td>But for that, we need….to scale up the solutio...</td>\n      <td>Statement of intent</td>\n      <td>329 But for that, we need….to scale up the sol...</td>\n      <td>1</td>\n      <td>Relevant</td>\n    </tr>\n    <tr>\n      <th>249</th>\n      <td>330</td>\n      <td>I thank you.</td>\n      <td>Not relevant</td>\n      <td>330   I thank you.\\n</td>\n      <td>1</td>\n      <td>Not relevant</td>\n    </tr>\n  </tbody>\n</table>\n<p>250 rows × 6 columns</p>\n</div>"
     },
     "execution_count": 33,
     "metadata": {},
     "output_type": "execute_result"
    }
   ],
   "source": [
    "# Define a function to get the most frequent element\n",
    "def most_frequent(x):\n",
    "    return Counter(x).most_common(1)[0][0]\n",
    "\n",
    "# List of all columns\n",
    "all_columns = filtered_B1.columns.tolist()\n",
    "\n",
    "# Dictionary to specify aggregation functions\n",
    "agg_dict = {col: 'first' for col in all_columns if col not in ['unique_id', 'RELEVANCE_y']}\n",
    "agg_dict['RELEVANCE_y'] = most_frequent\n",
    "\n",
    "# Group by 'unique_id' and apply the aggregation functions\n",
    "filtered_B1_grouped = filtered_B1.groupby('unique_id').agg(agg_dict).reset_index()\n",
    "\n",
    "filtered_B1_grouped"
   ],
   "metadata": {
    "collapsed": false,
    "ExecuteTime": {
     "start_time": "2024-06-07T11:10:07.200886Z",
     "end_time": "2024-06-07T11:10:07.313883Z"
    }
   }
  },
  {
   "cell_type": "code",
   "execution_count": 34,
   "outputs": [
    {
     "name": "stdout",
     "output_type": "stream",
     "text": [
      "                     precision    recall  f1-score   support\n",
      "\n",
      "       Not relevant       0.86      0.57      0.69       160\n",
      "           Relevant       0.27      0.71      0.39        35\n",
      "Statement of intent       0.49      0.44      0.46        55\n",
      "\n",
      "           accuracy                           0.56       250\n",
      "          macro avg       0.54      0.58      0.51       250\n",
      "       weighted avg       0.70      0.56      0.60       250\n",
      "\n"
     ]
    }
   ],
   "source": [
    "# Evaluate performance of this dataframe\n",
    "print(classification_report(filtered_B1_grouped['RELEVANCE_x'],filtered_B1_grouped['RELEVANCE_y']))"
   ],
   "metadata": {
    "collapsed": false,
    "ExecuteTime": {
     "start_time": "2024-06-07T11:10:10.093839Z",
     "end_time": "2024-06-07T11:10:10.125802Z"
    }
   }
  },
  {
   "cell_type": "code",
   "execution_count": 32,
   "outputs": [
    {
     "data": {
      "text/plain": "<sklearn.metrics._plot.confusion_matrix.ConfusionMatrixDisplay at 0x1f078c43dd0>"
     },
     "execution_count": 32,
     "metadata": {},
     "output_type": "execute_result"
    },
    {
     "data": {
      "text/plain": "<Figure size 640x480 with 2 Axes>",
      "image/png": "[encoded data removed]"
     },
     "metadata": {},
     "output_type": "display_data"
    }
   ],
   "source": [
    "# Evaluate confusionmatrix for this aggregated set\n",
    "labels = ['not relevant', 'statement of intent', 'relevant']\n",
    "\n",
    "cm = confusion_matrix(filtered_B1_grouped['RELEVANCE_x'],filtered_B1_grouped['RELEVANCE_y'])\n",
    "disp = ConfusionMatrixDisplay(confusion_matrix=cm, display_labels=labels)\n",
    "disp.plot(cmap=plt.cm.Blues)\n"
   ],
   "metadata": {
    "collapsed": false
   }
  },
  {
   "cell_type": "markdown",
   "source": [
    "### B1.0.1"
   ],
   "metadata": {
    "collapsed": false
   }
  },
  {
   "cell_type": "code",
   "execution_count": 35,
   "outputs": [],
   "source": [
    "#B1.0\n",
    "path_B1 = 'STRING_RESULT/B1.0.1/all_iterations'\n",
    "\n",
    "# Open all dataframes\n",
    "S1 = pd.read_csv(f'{path_B1}/all_iterations_string_T0_3644.csv')\n",
    "S2 = pd.read_csv(f'{path_B1}/all_iterations_string_T0_3441.csv')\n",
    "S3 = pd.read_csv(f'{path_B1}/all_iterations_string_T0_280.csv')\n",
    "S4 = pd.read_csv(f'{path_B1}/all_iterations_string_T0_5991.csv')\n",
    "S5 = pd.read_csv(f'{path_B1}/all_iterations_string_T0_7917.csv')\n",
    "\n",
    "# Combine all dataframes into one\n",
    "B1_full = pd.concat([S1, S2, S3, S4, S5], ignore_index=True)"
   ],
   "metadata": {
    "collapsed": false,
    "ExecuteTime": {
     "start_time": "2024-06-07T12:01:23.303505Z",
     "end_time": "2024-06-07T12:01:23.748912Z"
    }
   }
  },
  {
   "cell_type": "code",
   "execution_count": 36,
   "outputs": [
    {
     "data": {
      "text/plain": "(1350, 6)"
     },
     "execution_count": 36,
     "metadata": {},
     "output_type": "execute_result"
    }
   ],
   "source": [
    "# Filter rows to keep only those where the unique_id appears exactly 5 times\n",
    "filtered_B1 = B1_full.groupby('unique_id').filter(lambda x: len(x) == 5)\n",
    "filtered_B1.shape"
   ],
   "metadata": {
    "collapsed": false,
    "ExecuteTime": {
     "start_time": "2024-06-07T12:01:26.273835Z",
     "end_time": "2024-06-07T12:01:26.339887Z"
    }
   }
  },
  {
   "cell_type": "code",
   "execution_count": 37,
   "outputs": [],
   "source": [
    "# List of unique_id's that are annotated 5 times\n",
    "unique_ids = filtered_B1['unique_id'].unique().tolist()"
   ],
   "metadata": {
    "collapsed": false,
    "ExecuteTime": {
     "start_time": "2024-06-07T12:01:42.550408Z",
     "end_time": "2024-06-07T12:01:42.559802Z"
    }
   }
  },
  {
   "cell_type": "code",
   "execution_count": 38,
   "outputs": [],
   "source": [
    "# Filter all original dataframes to only include sentences that are annotated 5x by other seeds\n",
    "FB1S1 = S1[S1['unique_id'].isin(unique_ids)]\n",
    "FB1S2 = S2[S2['unique_id'].isin(unique_ids)]\n",
    "FB1S3 = S3[S3['unique_id'].isin(unique_ids)]\n",
    "FB1S4 = S4[S4['unique_id'].isin(unique_ids)]\n",
    "FB1S5 = S5[S5['unique_id'].isin(unique_ids)]"
   ],
   "metadata": {
    "collapsed": false,
    "ExecuteTime": {
     "start_time": "2024-06-07T12:01:44.059876Z",
     "end_time": "2024-06-07T12:01:44.096921Z"
    }
   }
  },
  {
   "cell_type": "code",
   "execution_count": 39,
   "outputs": [
    {
     "name": "stdout",
     "output_type": "stream",
     "text": [
      "Classification Report for S1\n",
      "                     precision    recall  f1-score     support\n",
      "Not relevant          0.913978  0.480226  0.629630  177.000000\n",
      "Relevant              0.226562  0.707317  0.343195   41.000000\n",
      "Statement of intent   0.489796  0.461538  0.475248   52.000000\n",
      "accuracy              0.511111  0.511111  0.511111    0.511111\n",
      "macro avg             0.543446  0.549694  0.482691  270.000000\n",
      "weighted avg          0.727899  0.511111  0.556401  270.000000\n",
      "\n",
      "\n",
      "Classification Report for S2\n",
      "                     precision    recall  f1-score     support\n",
      "Not relevant          0.894737  0.480226  0.625000  177.000000\n",
      "Relevant              0.235772  0.707317  0.353659   41.000000\n",
      "Statement of intent   0.500000  0.500000  0.500000   52.000000\n",
      "accuracy              0.518519  0.518519  0.518519    0.518519\n",
      "macro avg             0.543503  0.562514  0.492886  270.000000\n",
      "weighted avg          0.718648  0.518519  0.559722  270.000000\n",
      "\n",
      "\n",
      "Classification Report for S3\n",
      "                     precision    recall  f1-score     support\n",
      "Not relevant          0.915789  0.491525  0.639706  177.000000\n",
      "Relevant              0.218487  0.634146  0.325000   41.000000\n",
      "Statement of intent   0.410714  0.442308  0.425926   52.000000\n",
      "accuracy              0.503704  0.503704  0.503704    0.503704\n",
      "macro avg             0.514997  0.522660  0.463544  270.000000\n",
      "weighted avg          0.712629  0.503704  0.550745  270.000000\n",
      "\n",
      "\n",
      "Classification Report for S4\n",
      "                     precision    recall  f1-score     support\n",
      "Not relevant          0.906250  0.491525  0.637363  177.000000\n",
      "Relevant              0.230769  0.658537  0.341772   41.000000\n",
      "Statement of intent   0.438596  0.480769  0.458716   52.000000\n",
      "accuracy              0.514815  0.514815  0.514815    0.514815\n",
      "macro avg             0.525205  0.543610  0.479283  270.000000\n",
      "weighted avg          0.713610  0.514815  0.558071  270.000000\n",
      "\n",
      "\n",
      "Classification Report for S5\n",
      "                     precision    recall  f1-score  support\n",
      "Not relevant          0.895349  0.435028  0.585551    177.0\n",
      "Relevant              0.241935  0.731707  0.363636     41.0\n",
      "Statement of intent   0.466667  0.538462  0.500000     52.0\n",
      "accuracy              0.500000  0.500000  0.500000      0.5\n",
      "macro avg             0.534650  0.568399  0.483063    270.0\n",
      "weighted avg          0.713566  0.500000  0.535377    270.0\n",
      "\n",
      "\n"
     ]
    }
   ],
   "source": [
    "# Evaluate performance of individual seeds for the same sentences\n",
    "# Function to generate classification report for each dataframe\n",
    "def generate_classification_report(df, true_label_col, pred_label_col):\n",
    "    return classification_report(df[true_label_col], df[pred_label_col], output_dict=True)\n",
    "\n",
    "# Generate classification reports\n",
    "report_S1 = generate_classification_report(FB1S1, 'RELEVANCE_x', 'RELEVANCE_y')\n",
    "report_S2 = generate_classification_report(FB1S2, 'RELEVANCE_x', 'RELEVANCE_y')\n",
    "report_S3 = generate_classification_report(FB1S3, 'RELEVANCE_x', 'RELEVANCE_y')\n",
    "report_S4 = generate_classification_report(FB1S4, 'RELEVANCE_x', 'RELEVANCE_y')\n",
    "report_S5 = generate_classification_report(FB1S5, 'RELEVANCE_x', 'RELEVANCE_y')\n",
    "\n",
    "# Function to print the classification reports for easy comparison\n",
    "def print_classification_report(report, title):\n",
    "    print(f\"Classification Report for {title}\")\n",
    "    print(pd.DataFrame(report).transpose())\n",
    "    print(\"\\n\")\n",
    "\n",
    "# Print the classification reports\n",
    "print_classification_report(report_S1, \"S1\")\n",
    "print_classification_report(report_S2, \"S2\")\n",
    "print_classification_report(report_S3, \"S3\")\n",
    "print_classification_report(report_S4, \"S4\")\n",
    "print_classification_report(report_S5, \"S5\")"
   ],
   "metadata": {
    "collapsed": false,
    "ExecuteTime": {
     "start_time": "2024-06-07T12:01:46.043572Z",
     "end_time": "2024-06-07T12:01:46.222514Z"
    }
   }
  },
  {
   "cell_type": "markdown",
   "source": [
    "Evaluate consistency of predictions over the 5 different instances - see which sentences are not consistantly predicted.\n"
   ],
   "metadata": {
    "collapsed": false
   }
  },
  {
   "cell_type": "code",
   "execution_count": 40,
   "outputs": [
    {
     "data": {
      "text/plain": "(260, 6)"
     },
     "execution_count": 40,
     "metadata": {},
     "output_type": "execute_result"
    }
   ],
   "source": [
    "# I want to evaluate consistency\n",
    "# Print all rows where inconsequences are found per seed\n",
    "# Define a function to check if all values in relevance_y are the same\n",
    "def relevance_y_not_uniform(group):\n",
    "    return group['RELEVANCE_y'].nunique() != 1\n",
    "\n",
    "\n",
    "# Group by 'ID' and filter groups\n",
    "B1_consistency = filtered_B1.groupby('unique_id').filter(relevance_y_not_uniform)\n",
    "\n",
    "B1_consistency.shape"
   ],
   "metadata": {
    "collapsed": false,
    "ExecuteTime": {
     "start_time": "2024-06-07T12:02:10.073476Z",
     "end_time": "2024-06-07T12:02:10.168258Z"
    }
   }
  },
  {
   "cell_type": "markdown",
   "source": [
    "\n",
    "In combined dataframe, groupyby unique ID and take the majority label"
   ],
   "metadata": {
    "collapsed": false
   }
  },
  {
   "cell_type": "code",
   "execution_count": 41,
   "outputs": [
    {
     "data": {
      "text/plain": "     unique_id                                               text  \\\n0            0    The U.S. has led the way in the relief effo...   \n1            1  Inthe past 10 years, the U.S. has contributed ...   \n2            2    Of course, scientists dont know that clima...   \n3            3    It is for this reason that President Obama ...   \n4            4    Last June, President Obama announced the U....   \n..         ...                                                ...   \n265        325   Mr. President, Your Excellencies,  Ladies and...   \n266        326   The most important result of COP28 that I wou...   \n267        327   Trust that “WE” , governments together with o...   \n268        329  But for that, we need….to scale up the solutio...   \n269        330                                       I thank you.   \n\n             RELEVANCE_x                                          llm_query  \\\n0           Not relevant  0   The U.S. has led the way in the relief ef...   \n1           Not relevant  1 Inthe past 10 years, the U.S. has contribute...   \n2           Not relevant  2   Of course, scientists dont know that cli...   \n3           Not relevant  3   It is for this reason that President Obam...   \n4           Not relevant  4   Last June, President Obama announced the ...   \n..                   ...                                                ...   \n265             Relevant  325  Mr. President, Your Excellencies,  Ladies...   \n266  Statement of intent  326  The most important result of COP28 that I...   \n267  Statement of intent  327  Trust that “WE” , governments together wi...   \n268  Statement of intent  329 But for that, we need….to scale up the sol...   \n269         Not relevant                               330   I thank you.\\n   \n\n     iteration          RELEVANCE_y  \n0            1         Not relevant  \n1            1         Not relevant  \n2            1             Relevant  \n3            1  Statement of intent  \n4            1  Statement of intent  \n..         ...                  ...  \n265          1             Relevant  \n266          1  Statement of intent  \n267          1             Relevant  \n268          1             Relevant  \n269          1         Not relevant  \n\n[270 rows x 6 columns]",
      "text/html": "<div>\n<style scoped>\n    .dataframe tbody tr th:only-of-type {\n        vertical-align: middle;\n    }\n\n    .dataframe tbody tr th {\n        vertical-align: top;\n    }\n\n    .dataframe thead th {\n        text-align: right;\n    }\n</style>\n<table border=\"1\" class=\"dataframe\">\n  <thead>\n    <tr style=\"text-align: right;\">\n      <th></th>\n      <th>unique_id</th>\n      <th>text</th>\n      <th>RELEVANCE_x</th>\n      <th>llm_query</th>\n      <th>iteration</th>\n      <th>RELEVANCE_y</th>\n    </tr>\n  </thead>\n  <tbody>\n    <tr>\n      <th>0</th>\n      <td>0</td>\n      <td>  The U.S. has led the way in the relief effo...</td>\n      <td>Not relevant</td>\n      <td>0   The U.S. has led the way in the relief ef...</td>\n      <td>1</td>\n      <td>Not relevant</td>\n    </tr>\n    <tr>\n      <th>1</th>\n      <td>1</td>\n      <td>Inthe past 10 years, the U.S. has contributed ...</td>\n      <td>Not relevant</td>\n      <td>1 Inthe past 10 years, the U.S. has contribute...</td>\n      <td>1</td>\n      <td>Not relevant</td>\n    </tr>\n    <tr>\n      <th>2</th>\n      <td>2</td>\n      <td>  Of course, scientists dont know that clima...</td>\n      <td>Not relevant</td>\n      <td>2   Of course, scientists dont know that cli...</td>\n      <td>1</td>\n      <td>Relevant</td>\n    </tr>\n    <tr>\n      <th>3</th>\n      <td>3</td>\n      <td>  It is for this reason that President Obama ...</td>\n      <td>Not relevant</td>\n      <td>3   It is for this reason that President Obam...</td>\n      <td>1</td>\n      <td>Statement of intent</td>\n    </tr>\n    <tr>\n      <th>4</th>\n      <td>4</td>\n      <td>  Last June, President Obama announced the U....</td>\n      <td>Not relevant</td>\n      <td>4   Last June, President Obama announced the ...</td>\n      <td>1</td>\n      <td>Statement of intent</td>\n    </tr>\n    <tr>\n      <th>...</th>\n      <td>...</td>\n      <td>...</td>\n      <td>...</td>\n      <td>...</td>\n      <td>...</td>\n      <td>...</td>\n    </tr>\n    <tr>\n      <th>265</th>\n      <td>325</td>\n      <td>Mr. President, Your Excellencies,  Ladies and...</td>\n      <td>Relevant</td>\n      <td>325  Mr. President, Your Excellencies,  Ladies...</td>\n      <td>1</td>\n      <td>Relevant</td>\n    </tr>\n    <tr>\n      <th>266</th>\n      <td>326</td>\n      <td>The most important result of COP28 that I wou...</td>\n      <td>Statement of intent</td>\n      <td>326  The most important result of COP28 that I...</td>\n      <td>1</td>\n      <td>Statement of intent</td>\n    </tr>\n    <tr>\n      <th>267</th>\n      <td>327</td>\n      <td>Trust that “WE” , governments together with o...</td>\n      <td>Statement of intent</td>\n      <td>327  Trust that “WE” , governments together wi...</td>\n      <td>1</td>\n      <td>Relevant</td>\n    </tr>\n    <tr>\n      <th>268</th>\n      <td>329</td>\n      <td>But for that, we need….to scale up the solutio...</td>\n      <td>Statement of intent</td>\n      <td>329 But for that, we need….to scale up the sol...</td>\n      <td>1</td>\n      <td>Relevant</td>\n    </tr>\n    <tr>\n      <th>269</th>\n      <td>330</td>\n      <td>I thank you.</td>\n      <td>Not relevant</td>\n      <td>330   I thank you.\\n</td>\n      <td>1</td>\n      <td>Not relevant</td>\n    </tr>\n  </tbody>\n</table>\n<p>270 rows × 6 columns</p>\n</div>"
     },
     "execution_count": 41,
     "metadata": {},
     "output_type": "execute_result"
    }
   ],
   "source": [
    "# Define a function to get the most frequent element\n",
    "def most_frequent(x):\n",
    "    return Counter(x).most_common(1)[0][0]\n",
    "\n",
    "# List of all columns\n",
    "all_columns = filtered_B1.columns.tolist()\n",
    "\n",
    "# Dictionary to specify aggregation functions\n",
    "agg_dict = {col: 'first' for col in all_columns if col not in ['unique_id', 'RELEVANCE_y']}\n",
    "agg_dict['RELEVANCE_y'] = most_frequent\n",
    "\n",
    "# Group by 'unique_id' and apply the aggregation functions\n",
    "filtered_B1_grouped = filtered_B1.groupby('unique_id').agg(agg_dict).reset_index()\n",
    "\n",
    "filtered_B1_grouped"
   ],
   "metadata": {
    "collapsed": false,
    "ExecuteTime": {
     "start_time": "2024-06-07T12:02:36.744535Z",
     "end_time": "2024-06-07T12:02:36.786794Z"
    }
   }
  },
  {
   "cell_type": "code",
   "execution_count": 42,
   "outputs": [
    {
     "name": "stdout",
     "output_type": "stream",
     "text": [
      "                     precision    recall  f1-score   support\n",
      "\n",
      "       Not relevant       0.90      0.47      0.62       177\n",
      "           Relevant       0.23      0.68      0.34        41\n",
      "Statement of intent       0.46      0.48      0.47        52\n",
      "\n",
      "           accuracy                           0.51       270\n",
      "          macro avg       0.53      0.55      0.48       270\n",
      "       weighted avg       0.72      0.51      0.55       270\n",
      "\n"
     ]
    }
   ],
   "source": [
    "# Evaluate performance of this dataframe\n",
    "print(classification_report(filtered_B1_grouped['RELEVANCE_x'],filtered_B1_grouped['RELEVANCE_y']))"
   ],
   "metadata": {
    "collapsed": false,
    "ExecuteTime": {
     "start_time": "2024-06-07T12:02:39.501070Z",
     "end_time": "2024-06-07T12:02:39.527131Z"
    }
   }
  },
  {
   "cell_type": "code",
   "execution_count": 43,
   "outputs": [
    {
     "data": {
      "text/plain": "<sklearn.metrics._plot.confusion_matrix.ConfusionMatrixDisplay at 0x1710a67df50>"
     },
     "execution_count": 43,
     "metadata": {},
     "output_type": "execute_result"
    },
    {
     "data": {
      "text/plain": "<Figure size 640x480 with 2 Axes>",
      "image/png": "[encoded data removed]"
     },
     "metadata": {},
     "output_type": "display_data"
    }
   ],
   "source": [
    "# Evaluate confusionmatrix for this aggregated set\n",
    "labels = ['not relevant', 'statement of intent', 'relevant']\n",
    "\n",
    "cm = confusion_matrix(filtered_B1_grouped['RELEVANCE_x'],filtered_B1_grouped['RELEVANCE_y'])\n",
    "disp = ConfusionMatrixDisplay(confusion_matrix=cm, display_labels=labels)\n",
    "disp.plot(cmap=plt.cm.Blues)\n"
   ],
   "metadata": {
    "collapsed": false,
    "ExecuteTime": {
     "start_time": "2024-06-07T12:03:03.577129Z",
     "end_time": "2024-06-07T12:03:04.244227Z"
    }
   }
  },
  {
   "cell_type": "code",
   "execution_count": null,
   "outputs": [],
   "source": [],
   "metadata": {
    "collapsed": false
   }
  },
  {
   "cell_type": "markdown",
   "source": [
    "### B1.1"
   ],
   "metadata": {
    "collapsed": false
   }
  },
  {
   "cell_type": "code",
   "execution_count": 11,
   "outputs": [],
   "source": [
    "#B1.0\n",
    "path_B1 = 'STRING_RESULT/B1.1/all_iterations'\n",
    "\n",
    "# Open all dataframes\n",
    "S1 = pd.read_csv(f'{path_B1}/all_iterations_string_T0_3644.csv')\n",
    "S2 = pd.read_csv(f'{path_B1}/all_iterations_string_T0_3441.csv')\n",
    "S3 = pd.read_csv(f'{path_B1}/all_iterations_string_T0_280.csv')\n",
    "S4 = pd.read_csv(f'{path_B1}/all_iterations_string_T0_5991.csv')\n",
    "S5 = pd.read_csv(f'{path_B1}/all_iterations_string_T0_7917.csv')\n",
    "\n",
    "# Combine all dataframes into one\n",
    "B1_full = pd.concat([S1, S2, S3, S4, S5], ignore_index=True)"
   ],
   "metadata": {
    "collapsed": false,
    "ExecuteTime": {
     "start_time": "2024-06-07T14:10:20.760366Z",
     "end_time": "2024-06-07T14:10:21.985470Z"
    }
   }
  },
  {
   "cell_type": "code",
   "execution_count": 12,
   "outputs": [
    {
     "data": {
      "text/plain": "(1450, 6)"
     },
     "execution_count": 12,
     "metadata": {},
     "output_type": "execute_result"
    }
   ],
   "source": [
    "# Filter rows to keep only those where the unique_id appears exactly 5 times\n",
    "filtered_B1 = B1_full.groupby('unique_id').filter(lambda x: len(x) == 5)\n",
    "filtered_B1.shape"
   ],
   "metadata": {
    "collapsed": false,
    "ExecuteTime": {
     "start_time": "2024-06-07T14:10:21.824494Z",
     "end_time": "2024-06-07T14:10:22.000432Z"
    }
   }
  },
  {
   "cell_type": "code",
   "execution_count": 13,
   "outputs": [],
   "source": [
    "# List of unique_id's that are annotated 5 times\n",
    "unique_ids = filtered_B1['unique_id'].unique().tolist()"
   ],
   "metadata": {
    "collapsed": false,
    "ExecuteTime": {
     "start_time": "2024-06-07T14:10:21.957761Z",
     "end_time": "2024-06-07T14:10:22.000432Z"
    }
   }
  },
  {
   "cell_type": "code",
   "execution_count": 14,
   "outputs": [],
   "source": [
    "# Filter all original dataframes to only include sentences that are annotated 5x by other seeds\n",
    "FB1S1 = S1[S1['unique_id'].isin(unique_ids)]\n",
    "FB1S2 = S2[S2['unique_id'].isin(unique_ids)]\n",
    "FB1S3 = S3[S3['unique_id'].isin(unique_ids)]\n",
    "FB1S4 = S4[S4['unique_id'].isin(unique_ids)]\n",
    "FB1S5 = S5[S5['unique_id'].isin(unique_ids)]"
   ],
   "metadata": {
    "collapsed": false,
    "ExecuteTime": {
     "start_time": "2024-06-07T14:10:22.668522Z",
     "end_time": "2024-06-07T14:10:22.694227Z"
    }
   }
  },
  {
   "cell_type": "code",
   "execution_count": 15,
   "outputs": [
    {
     "name": "stdout",
     "output_type": "stream",
     "text": [
      "Classification Report for S1\n",
      "                     precision    recall  f1-score     support\n",
      "Not relevant          0.882353  0.552632  0.679612  190.000000\n",
      "Relevant              0.270833  0.666667  0.385185   39.000000\n",
      "Statement of intent   0.440000  0.540984  0.485294   61.000000\n",
      "accuracy              0.565517  0.565517  0.565517    0.565517\n",
      "macro avg             0.531062  0.586761  0.516697  290.000000\n",
      "weighted avg          0.707067  0.565517  0.599143  290.000000\n",
      "\n",
      "\n",
      "Classification Report for S2\n",
      "                     precision    recall  f1-score     support\n",
      "Not relevant          0.875000  0.552632  0.677419  190.000000\n",
      "Relevant              0.284211  0.692308  0.402985   39.000000\n",
      "Statement of intent   0.466667  0.573770  0.514706   61.000000\n",
      "accuracy              0.575862  0.575862  0.575862    0.575862\n",
      "macro avg             0.541959  0.606237  0.531703  290.000000\n",
      "weighted avg          0.709658  0.575862  0.606287  290.000000\n",
      "\n",
      "\n",
      "Classification Report for S3\n",
      "                     precision    recall  f1-score     support\n",
      "Not relevant          0.881356  0.547368  0.675325  190.000000\n",
      "Relevant              0.268817  0.641026  0.378788   39.000000\n",
      "Statement of intent   0.443038  0.573770  0.500000   61.000000\n",
      "accuracy              0.565517  0.565517  0.565517    0.565517\n",
      "macro avg             0.531070  0.587388  0.518038  290.000000\n",
      "weighted avg          0.706782  0.565517  0.598567  290.000000\n",
      "\n",
      "\n",
      "Classification Report for S4\n",
      "                     precision    recall  f1-score     support\n",
      "Not relevant          0.875000  0.552632  0.677419  190.000000\n",
      "Relevant              0.272727  0.692308  0.391304   39.000000\n",
      "Statement of intent   0.450704  0.524590  0.484848   61.000000\n",
      "accuracy              0.565517  0.565517  0.565517    0.565517\n",
      "macro avg             0.532810  0.589843  0.517857  290.000000\n",
      "weighted avg          0.704756  0.565517  0.598436  290.000000\n",
      "\n",
      "\n",
      "Classification Report for S5\n",
      "                     precision    recall  f1-score     support\n",
      "Not relevant          0.867769  0.552632  0.675241  190.000000\n",
      "Relevant              0.276596  0.666667  0.390977   39.000000\n",
      "Statement of intent   0.426667  0.524590  0.470588   61.000000\n",
      "accuracy              0.562069  0.562069  0.562069    0.562069\n",
      "macro avg             0.523677  0.581296  0.512269  290.000000\n",
      "weighted avg          0.695483  0.562069  0.593965  290.000000\n",
      "\n",
      "\n"
     ]
    }
   ],
   "source": [
    "# Evaluate performance of individual seeds for the same sentences\n",
    "# Function to generate classification report for each dataframe\n",
    "def generate_classification_report(df, true_label_col, pred_label_col):\n",
    "    return classification_report(df[true_label_col], df[pred_label_col], output_dict=True)\n",
    "\n",
    "# Generate classification reports\n",
    "report_S1 = generate_classification_report(FB1S1, 'RELEVANCE_x', 'RELEVANCE_y')\n",
    "report_S2 = generate_classification_report(FB1S2, 'RELEVANCE_x', 'RELEVANCE_y')\n",
    "report_S3 = generate_classification_report(FB1S3, 'RELEVANCE_x', 'RELEVANCE_y')\n",
    "report_S4 = generate_classification_report(FB1S4, 'RELEVANCE_x', 'RELEVANCE_y')\n",
    "report_S5 = generate_classification_report(FB1S5, 'RELEVANCE_x', 'RELEVANCE_y')\n",
    "\n",
    "# Function to print the classification reports for easy comparison\n",
    "def print_classification_report(report, title):\n",
    "    print(f\"Classification Report for {title}\")\n",
    "    print(pd.DataFrame(report).transpose())\n",
    "    print(\"\\n\")\n",
    "\n",
    "# Print the classification reports\n",
    "print_classification_report(report_S1, \"S1\")\n",
    "print_classification_report(report_S2, \"S2\")\n",
    "print_classification_report(report_S3, \"S3\")\n",
    "print_classification_report(report_S4, \"S4\")\n",
    "print_classification_report(report_S5, \"S5\")"
   ],
   "metadata": {
    "collapsed": false,
    "ExecuteTime": {
     "start_time": "2024-06-07T14:10:23.087619Z",
     "end_time": "2024-06-07T14:10:23.269500Z"
    }
   }
  },
  {
   "cell_type": "markdown",
   "source": [
    "Evaluate consistency of predictions over the 5 different instances - see which sentences are not consistantly predicted.\n"
   ],
   "metadata": {
    "collapsed": false
   }
  },
  {
   "cell_type": "code",
   "execution_count": 16,
   "outputs": [
    {
     "data": {
      "text/plain": "(140, 6)"
     },
     "execution_count": 16,
     "metadata": {},
     "output_type": "execute_result"
    }
   ],
   "source": [
    "# I want to evaluate consistency\n",
    "# Print all rows where inconsequences are found per seed\n",
    "# Define a function to check if all values in relevance_y are the same\n",
    "def relevance_y_not_uniform(group):\n",
    "    return group['RELEVANCE_y'].nunique() != 1\n",
    "\n",
    "\n",
    "# Group by 'ID' and filter groups\n",
    "B1_consistency = filtered_B1.groupby('unique_id').filter(relevance_y_not_uniform)\n",
    "\n",
    "B1_consistency.shape"
   ],
   "metadata": {
    "collapsed": false,
    "ExecuteTime": {
     "start_time": "2024-06-07T14:10:24.369261Z",
     "end_time": "2024-06-07T14:10:24.518697Z"
    }
   }
  },
  {
   "cell_type": "markdown",
   "source": [
    "\n",
    "In combined dataframe, groupyby unique ID and take the majority label"
   ],
   "metadata": {
    "collapsed": false
   }
  },
  {
   "cell_type": "code",
   "execution_count": 17,
   "outputs": [
    {
     "data": {
      "text/plain": "     unique_id                                               text  \\\n0            0    The U.S. has led the way in the relief effo...   \n1            1  Inthe past 10 years, the U.S. has contributed ...   \n2            2    Of course, scientists dont know that clima...   \n3            3    It is for this reason that President Obama ...   \n4            4    Last June, President Obama announced the U....   \n..         ...                                                ...   \n285        325   Mr. President, Your Excellencies,  Ladies and...   \n286        326   The most important result of COP28 that I wou...   \n287        327   Trust that “WE” , governments together with o...   \n288        329  But for that, we need….to scale up the solutio...   \n289        330                                       I thank you.   \n\n             RELEVANCE_x                                          llm_query  \\\n0           Not relevant  0   The U.S. has led the way in the relief ef...   \n1           Not relevant  1 Inthe past 10 years, the U.S. has contribute...   \n2           Not relevant  2   Of course, scientists dont know that cli...   \n3           Not relevant  3   It is for this reason that President Obam...   \n4           Not relevant  4   Last June, President Obama announced the ...   \n..                   ...                                                ...   \n285             Relevant  325  Mr. President, Your Excellencies,  Ladies...   \n286  Statement of intent  326  The most important result of COP28 that I...   \n287  Statement of intent  327  Trust that “WE” , governments together wi...   \n288  Statement of intent  329 But for that, we need….to scale up the sol...   \n289         Not relevant                               330   I thank you.\\n   \n\n     iteration          RELEVANCE_y  \n0            1         Not relevant  \n1            1         Not relevant  \n2            1             Relevant  \n3            1  Statement of intent  \n4            1         Not relevant  \n..         ...                  ...  \n285          1             Relevant  \n286          1  Statement of intent  \n287          1             Relevant  \n288          1             Relevant  \n289          1         Not relevant  \n\n[290 rows x 6 columns]",
      "text/html": "<div>\n<style scoped>\n    .dataframe tbody tr th:only-of-type {\n        vertical-align: middle;\n    }\n\n    .dataframe tbody tr th {\n        vertical-align: top;\n    }\n\n    .dataframe thead th {\n        text-align: right;\n    }\n</style>\n<table border=\"1\" class=\"dataframe\">\n  <thead>\n    <tr style=\"text-align: right;\">\n      <th></th>\n      <th>unique_id</th>\n      <th>text</th>\n      <th>RELEVANCE_x</th>\n      <th>llm_query</th>\n      <th>iteration</th>\n      <th>RELEVANCE_y</th>\n    </tr>\n  </thead>\n  <tbody>\n    <tr>\n      <th>0</th>\n      <td>0</td>\n      <td>  The U.S. has led the way in the relief effo...</td>\n      <td>Not relevant</td>\n      <td>0   The U.S. has led the way in the relief ef...</td>\n      <td>1</td>\n      <td>Not relevant</td>\n    </tr>\n    <tr>\n      <th>1</th>\n      <td>1</td>\n      <td>Inthe past 10 years, the U.S. has contributed ...</td>\n      <td>Not relevant</td>\n      <td>1 Inthe past 10 years, the U.S. has contribute...</td>\n      <td>1</td>\n      <td>Not relevant</td>\n    </tr>\n    <tr>\n      <th>2</th>\n      <td>2</td>\n      <td>  Of course, scientists dont know that clima...</td>\n      <td>Not relevant</td>\n      <td>2   Of course, scientists dont know that cli...</td>\n      <td>1</td>\n      <td>Relevant</td>\n    </tr>\n    <tr>\n      <th>3</th>\n      <td>3</td>\n      <td>  It is for this reason that President Obama ...</td>\n      <td>Not relevant</td>\n      <td>3   It is for this reason that President Obam...</td>\n      <td>1</td>\n      <td>Statement of intent</td>\n    </tr>\n    <tr>\n      <th>4</th>\n      <td>4</td>\n      <td>  Last June, President Obama announced the U....</td>\n      <td>Not relevant</td>\n      <td>4   Last June, President Obama announced the ...</td>\n      <td>1</td>\n      <td>Not relevant</td>\n    </tr>\n    <tr>\n      <th>...</th>\n      <td>...</td>\n      <td>...</td>\n      <td>...</td>\n      <td>...</td>\n      <td>...</td>\n      <td>...</td>\n    </tr>\n    <tr>\n      <th>285</th>\n      <td>325</td>\n      <td>Mr. President, Your Excellencies,  Ladies and...</td>\n      <td>Relevant</td>\n      <td>325  Mr. President, Your Excellencies,  Ladies...</td>\n      <td>1</td>\n      <td>Relevant</td>\n    </tr>\n    <tr>\n      <th>286</th>\n      <td>326</td>\n      <td>The most important result of COP28 that I wou...</td>\n      <td>Statement of intent</td>\n      <td>326  The most important result of COP28 that I...</td>\n      <td>1</td>\n      <td>Statement of intent</td>\n    </tr>\n    <tr>\n      <th>287</th>\n      <td>327</td>\n      <td>Trust that “WE” , governments together with o...</td>\n      <td>Statement of intent</td>\n      <td>327  Trust that “WE” , governments together wi...</td>\n      <td>1</td>\n      <td>Relevant</td>\n    </tr>\n    <tr>\n      <th>288</th>\n      <td>329</td>\n      <td>But for that, we need….to scale up the solutio...</td>\n      <td>Statement of intent</td>\n      <td>329 But for that, we need….to scale up the sol...</td>\n      <td>1</td>\n      <td>Relevant</td>\n    </tr>\n    <tr>\n      <th>289</th>\n      <td>330</td>\n      <td>I thank you.</td>\n      <td>Not relevant</td>\n      <td>330   I thank you.\\n</td>\n      <td>1</td>\n      <td>Not relevant</td>\n    </tr>\n  </tbody>\n</table>\n<p>290 rows × 6 columns</p>\n</div>"
     },
     "execution_count": 17,
     "metadata": {},
     "output_type": "execute_result"
    }
   ],
   "source": [
    "# Define a function to get the most frequent element\n",
    "def most_frequent(x):\n",
    "    return Counter(x).most_common(1)[0][0]\n",
    "\n",
    "# List of all columns\n",
    "all_columns = filtered_B1.columns.tolist()\n",
    "\n",
    "# Dictionary to specify aggregation functions\n",
    "agg_dict = {col: 'first' for col in all_columns if col not in ['unique_id', 'RELEVANCE_y']}\n",
    "agg_dict['RELEVANCE_y'] = most_frequent\n",
    "\n",
    "# Group by 'unique_id' and apply the aggregation functions\n",
    "filtered_B1_grouped = filtered_B1.groupby('unique_id').agg(agg_dict).reset_index()\n",
    "\n",
    "filtered_B1_grouped"
   ],
   "metadata": {
    "collapsed": false,
    "ExecuteTime": {
     "start_time": "2024-06-07T14:10:25.567691Z",
     "end_time": "2024-06-07T14:10:25.703850Z"
    }
   }
  },
  {
   "cell_type": "code",
   "execution_count": 18,
   "outputs": [
    {
     "name": "stdout",
     "output_type": "stream",
     "text": [
      "                     precision    recall  f1-score   support\n",
      "\n",
      "       Not relevant       0.88      0.55      0.68       190\n",
      "           Relevant       0.27      0.67      0.38        39\n",
      "Statement of intent       0.45      0.56      0.50        61\n",
      "\n",
      "           accuracy                           0.57       290\n",
      "          macro avg       0.53      0.59      0.52       290\n",
      "       weighted avg       0.71      0.57      0.60       290\n",
      "\n"
     ]
    }
   ],
   "source": [
    "# Evaluate performance of this dataframe\n",
    "print(classification_report(filtered_B1_grouped['RELEVANCE_x'],filtered_B1_grouped['RELEVANCE_y']))"
   ],
   "metadata": {
    "collapsed": false,
    "ExecuteTime": {
     "start_time": "2024-06-07T14:10:26.456677Z",
     "end_time": "2024-06-07T14:10:26.494754Z"
    }
   }
  },
  {
   "cell_type": "code",
   "execution_count": 19,
   "outputs": [
    {
     "data": {
      "text/plain": "<sklearn.metrics._plot.confusion_matrix.ConfusionMatrixDisplay at 0x1a24a23ea10>"
     },
     "execution_count": 19,
     "metadata": {},
     "output_type": "execute_result"
    },
    {
     "data": {
      "text/plain": "<Figure size 640x480 with 2 Axes>",
      "image/png": "[encoded data removed]"
     },
     "metadata": {},
     "output_type": "display_data"
    }
   ],
   "source": [
    "# Evaluate confusionmatrix for this aggregated set\n",
    "labels = ['not relevant', 'statement of intent', 'relevant']\n",
    "\n",
    "cm = confusion_matrix(filtered_B1_grouped['RELEVANCE_x'],filtered_B1_grouped['RELEVANCE_y'])\n",
    "disp = ConfusionMatrixDisplay(confusion_matrix=cm, display_labels=labels)\n",
    "disp.plot(cmap=plt.cm.Blues)\n"
   ],
   "metadata": {
    "collapsed": false,
    "ExecuteTime": {
     "start_time": "2024-06-07T14:10:27.452831Z",
     "end_time": "2024-06-07T14:10:29.518365Z"
    }
   }
  },
  {
   "cell_type": "markdown",
   "source": [
    "### B1.1.1"
   ],
   "metadata": {
    "collapsed": false
   }
  },
  {
   "cell_type": "code",
   "execution_count": 2,
   "outputs": [],
   "source": [
    "#B1.0\n",
    "path_B1 = 'STRING_RESULT/B1.1.1/all_iterations'\n",
    "\n",
    "# Open all dataframes\n",
    "S1 = pd.read_csv(f'{path_B1}/all_iterations_string_T0_3644.csv')\n",
    "S2 = pd.read_csv(f'{path_B1}/all_iterations_string_T0_3441.csv')\n",
    "S3 = pd.read_csv(f'{path_B1}/all_iterations_string_T0_280.csv')\n",
    "S4 = pd.read_csv(f'{path_B1}/all_iterations_string_T0_5991.csv')\n",
    "S5 = pd.read_csv(f'{path_B1}/all_iterations_string_T0_7917.csv')\n",
    "\n",
    "# Combine all dataframes into one\n",
    "B1_full = pd.concat([S1, S2, S3, S4, S5], ignore_index=True)"
   ],
   "metadata": {
    "collapsed": false,
    "ExecuteTime": {
     "start_time": "2024-06-07T12:38:37.656609Z",
     "end_time": "2024-06-07T12:38:37.725321Z"
    }
   }
  },
  {
   "cell_type": "code",
   "execution_count": 3,
   "outputs": [
    {
     "data": {
      "text/plain": "(1650, 6)"
     },
     "execution_count": 3,
     "metadata": {},
     "output_type": "execute_result"
    }
   ],
   "source": [
    "# Filter rows to keep only those where the unique_id appears exactly 5 times\n",
    "filtered_B1 = B1_full.groupby('unique_id').filter(lambda x: len(x) == 5)\n",
    "filtered_B1.shape"
   ],
   "metadata": {
    "collapsed": false,
    "ExecuteTime": {
     "start_time": "2024-06-07T12:38:38.468382Z",
     "end_time": "2024-06-07T12:38:38.526458Z"
    }
   }
  },
  {
   "cell_type": "code",
   "execution_count": 4,
   "outputs": [],
   "source": [
    "# List of unique_id's that are annotated 5 times\n",
    "unique_ids = filtered_B1['unique_id'].unique().tolist()"
   ],
   "metadata": {
    "collapsed": false,
    "ExecuteTime": {
     "start_time": "2024-06-07T12:38:39.271613Z",
     "end_time": "2024-06-07T12:38:39.314061Z"
    }
   }
  },
  {
   "cell_type": "code",
   "execution_count": 5,
   "outputs": [],
   "source": [
    "# Filter all original dataframes to only include sentences that are annotated 5x by other seeds\n",
    "FB1S1 = S1[S1['unique_id'].isin(unique_ids)]\n",
    "FB1S2 = S2[S2['unique_id'].isin(unique_ids)]\n",
    "FB1S3 = S3[S3['unique_id'].isin(unique_ids)]\n",
    "FB1S4 = S4[S4['unique_id'].isin(unique_ids)]\n",
    "FB1S5 = S5[S5['unique_id'].isin(unique_ids)]"
   ],
   "metadata": {
    "collapsed": false,
    "ExecuteTime": {
     "start_time": "2024-06-07T12:38:39.798492Z",
     "end_time": "2024-06-07T12:38:39.849047Z"
    }
   }
  },
  {
   "cell_type": "code",
   "execution_count": 6,
   "outputs": [
    {
     "name": "stdout",
     "output_type": "stream",
     "text": [
      "Classification Report for S1\n",
      "                     precision    recall  f1-score     support\n",
      "Not relevant          0.878571  0.580189  0.698864  212.000000\n",
      "Relevant              0.285714  0.693878  0.404762   49.000000\n",
      "Statement of intent   0.492958  0.507246  0.500000   69.000000\n",
      "accuracy              0.581818  0.581818  0.581818    0.581818\n",
      "macro avg             0.552414  0.593771  0.534542  330.000000\n",
      "weighted avg          0.709913  0.581818  0.613613  330.000000\n",
      "\n",
      "\n",
      "Classification Report for S2\n",
      "                     precision    recall  f1-score     support\n",
      "Not relevant          0.877863  0.542453  0.670554  212.000000\n",
      "Relevant              0.266129  0.673469  0.381503   49.000000\n",
      "Statement of intent   0.480000  0.521739  0.500000   69.000000\n",
      "accuracy              0.557576  0.557576  0.557576    0.557576\n",
      "macro avg             0.541331  0.579220  0.517352  330.000000\n",
      "weighted avg          0.703840  0.557576  0.591973  330.000000\n",
      "\n",
      "\n",
      "Classification Report for S3\n",
      "                     precision    recall  f1-score     support\n",
      "Not relevant          0.879699  0.551887  0.678261  212.000000\n",
      "Relevant              0.291667  0.714286  0.414201   49.000000\n",
      "Statement of intent   0.467532  0.521739  0.493151   69.000000\n",
      "accuracy              0.569697  0.569697  0.569697    0.569697\n",
      "macro avg             0.546299  0.595971  0.528538  330.000000\n",
      "weighted avg          0.706205  0.569697  0.600347  330.000000\n",
      "\n",
      "\n",
      "Classification Report for S4\n",
      "                     precision    recall  f1-score     support\n",
      "Not relevant          0.876812  0.570755  0.691429  212.000000\n",
      "Relevant              0.291667  0.714286  0.414201   49.000000\n",
      "Statement of intent   0.486111  0.507246  0.496454   69.000000\n",
      "accuracy              0.578788  0.578788  0.578788    0.578788\n",
      "macro avg             0.551530  0.597429  0.534028  330.000000\n",
      "weighted avg          0.708235  0.578788  0.609497  330.000000\n",
      "\n",
      "\n",
      "Classification Report for S5\n",
      "                     precision    recall  f1-score     support\n",
      "Not relevant          0.873134  0.551887  0.676301  212.000000\n",
      "Relevant              0.296000  0.755102  0.425287   49.000000\n",
      "Statement of intent   0.492958  0.507246  0.500000   69.000000\n",
      "accuracy              0.572727  0.572727  0.572727    0.572727\n",
      "macro avg             0.554031  0.604745  0.533863  330.000000\n",
      "weighted avg          0.707947  0.572727  0.602166  330.000000\n",
      "\n",
      "\n"
     ]
    }
   ],
   "source": [
    "# Evaluate performance of individual seeds for the same sentences\n",
    "# Function to generate classification report for each dataframe\n",
    "def generate_classification_report(df, true_label_col, pred_label_col):\n",
    "    return classification_report(df[true_label_col], df[pred_label_col], output_dict=True)\n",
    "\n",
    "# Generate classification reports\n",
    "report_S1 = generate_classification_report(FB1S1, 'RELEVANCE_x', 'RELEVANCE_y')\n",
    "report_S2 = generate_classification_report(FB1S2, 'RELEVANCE_x', 'RELEVANCE_y')\n",
    "report_S3 = generate_classification_report(FB1S3, 'RELEVANCE_x', 'RELEVANCE_y')\n",
    "report_S4 = generate_classification_report(FB1S4, 'RELEVANCE_x', 'RELEVANCE_y')\n",
    "report_S5 = generate_classification_report(FB1S5, 'RELEVANCE_x', 'RELEVANCE_y')\n",
    "\n",
    "# Function to print the classification reports for easy comparison\n",
    "def print_classification_report(report, title):\n",
    "    print(f\"Classification Report for {title}\")\n",
    "    print(pd.DataFrame(report).transpose())\n",
    "    print(\"\\n\")\n",
    "\n",
    "# Print the classification reports\n",
    "print_classification_report(report_S1, \"S1\")\n",
    "print_classification_report(report_S2, \"S2\")\n",
    "print_classification_report(report_S3, \"S3\")\n",
    "print_classification_report(report_S4, \"S4\")\n",
    "print_classification_report(report_S5, \"S5\")"
   ],
   "metadata": {
    "collapsed": false,
    "ExecuteTime": {
     "start_time": "2024-06-07T12:38:40.381349Z",
     "end_time": "2024-06-07T12:38:40.519430Z"
    }
   }
  },
  {
   "cell_type": "markdown",
   "source": [
    "Evaluate consistency of predictions over the 5 different instances - see which sentences are not consistantly predicted.\n"
   ],
   "metadata": {
    "collapsed": false
   }
  },
  {
   "cell_type": "code",
   "execution_count": 7,
   "outputs": [
    {
     "data": {
      "text/plain": "(225, 6)"
     },
     "execution_count": 7,
     "metadata": {},
     "output_type": "execute_result"
    }
   ],
   "source": [
    "# I want to evaluate consistency\n",
    "# Print all rows where inconsequences are found per seed\n",
    "# Define a function to check if all values in relevance_y are the same\n",
    "def relevance_y_not_uniform(group):\n",
    "    return group['RELEVANCE_y'].nunique() != 1\n",
    "\n",
    "\n",
    "# Group by 'ID' and filter groups\n",
    "B1_consistency = filtered_B1.groupby('unique_id').filter(relevance_y_not_uniform)\n",
    "\n",
    "B1_consistency.shape"
   ],
   "metadata": {
    "collapsed": false,
    "ExecuteTime": {
     "start_time": "2024-06-07T12:38:42.819148Z",
     "end_time": "2024-06-07T12:38:42.952878Z"
    }
   }
  },
  {
   "cell_type": "markdown",
   "source": [
    "\n",
    "In combined dataframe, groupyby unique ID and take the majority label"
   ],
   "metadata": {
    "collapsed": false
   }
  },
  {
   "cell_type": "code",
   "execution_count": 9,
   "outputs": [
    {
     "data": {
      "text/plain": "     unique_id                                               text  \\\n0            0    The U.S. has led the way in the relief effo...   \n1            1  Inthe past 10 years, the U.S. has contributed ...   \n2            2    Of course, scientists dont know that clima...   \n3            3    It is for this reason that President Obama ...   \n4            4    Last June, President Obama announced the U....   \n..         ...                                                ...   \n325        325   Mr. President, Your Excellencies,  Ladies and...   \n326        326   The most important result of COP28 that I wou...   \n327        327   Trust that “WE” , governments together with o...   \n328        329  But for that, we need….to scale up the solutio...   \n329        330                                       I thank you.   \n\n             RELEVANCE_x                                          llm_query  \\\n0           Not relevant  0   The U.S. has led the way in the relief ef...   \n1           Not relevant  1 Inthe past 10 years, the U.S. has contribute...   \n2           Not relevant  2   Of course, scientists dont know that cli...   \n3           Not relevant  3   It is for this reason that President Obam...   \n4           Not relevant  4   Last June, President Obama announced the ...   \n..                   ...                                                ...   \n325             Relevant  325  Mr. President, Your Excellencies,  Ladies...   \n326  Statement of intent  326  The most important result of COP28 that I...   \n327  Statement of intent  327  Trust that “WE” , governments together wi...   \n328  Statement of intent  329 But for that, we need….to scale up the sol...   \n329         Not relevant                               330   I thank you.\\n   \n\n     iteration          RELEVANCE_y  \n0            1         Not relevant  \n1            1         Not relevant  \n2            1             Relevant  \n3            1  Statement of intent  \n4            1         Not relevant  \n..         ...                  ...  \n325          1             Relevant  \n326          1  Statement of intent  \n327          1             Relevant  \n328          1             Relevant  \n329          1         Not relevant  \n\n[330 rows x 6 columns]",
      "text/html": "<div>\n<style scoped>\n    .dataframe tbody tr th:only-of-type {\n        vertical-align: middle;\n    }\n\n    .dataframe tbody tr th {\n        vertical-align: top;\n    }\n\n    .dataframe thead th {\n        text-align: right;\n    }\n</style>\n<table border=\"1\" class=\"dataframe\">\n  <thead>\n    <tr style=\"text-align: right;\">\n      <th></th>\n      <th>unique_id</th>\n      <th>text</th>\n      <th>RELEVANCE_x</th>\n      <th>llm_query</th>\n      <th>iteration</th>\n      <th>RELEVANCE_y</th>\n    </tr>\n  </thead>\n  <tbody>\n    <tr>\n      <th>0</th>\n      <td>0</td>\n      <td>  The U.S. has led the way in the relief effo...</td>\n      <td>Not relevant</td>\n      <td>0   The U.S. has led the way in the relief ef...</td>\n      <td>1</td>\n      <td>Not relevant</td>\n    </tr>\n    <tr>\n      <th>1</th>\n      <td>1</td>\n      <td>Inthe past 10 years, the U.S. has contributed ...</td>\n      <td>Not relevant</td>\n      <td>1 Inthe past 10 years, the U.S. has contribute...</td>\n      <td>1</td>\n      <td>Not relevant</td>\n    </tr>\n    <tr>\n      <th>2</th>\n      <td>2</td>\n      <td>  Of course, scientists dont know that clima...</td>\n      <td>Not relevant</td>\n      <td>2   Of course, scientists dont know that cli...</td>\n      <td>1</td>\n      <td>Relevant</td>\n    </tr>\n    <tr>\n      <th>3</th>\n      <td>3</td>\n      <td>  It is for this reason that President Obama ...</td>\n      <td>Not relevant</td>\n      <td>3   It is for this reason that President Obam...</td>\n      <td>1</td>\n      <td>Statement of intent</td>\n    </tr>\n    <tr>\n      <th>4</th>\n      <td>4</td>\n      <td>  Last June, President Obama announced the U....</td>\n      <td>Not relevant</td>\n      <td>4   Last June, President Obama announced the ...</td>\n      <td>1</td>\n      <td>Not relevant</td>\n    </tr>\n    <tr>\n      <th>...</th>\n      <td>...</td>\n      <td>...</td>\n      <td>...</td>\n      <td>...</td>\n      <td>...</td>\n      <td>...</td>\n    </tr>\n    <tr>\n      <th>325</th>\n      <td>325</td>\n      <td>Mr. President, Your Excellencies,  Ladies and...</td>\n      <td>Relevant</td>\n      <td>325  Mr. President, Your Excellencies,  Ladies...</td>\n      <td>1</td>\n      <td>Relevant</td>\n    </tr>\n    <tr>\n      <th>326</th>\n      <td>326</td>\n      <td>The most important result of COP28 that I wou...</td>\n      <td>Statement of intent</td>\n      <td>326  The most important result of COP28 that I...</td>\n      <td>1</td>\n      <td>Statement of intent</td>\n    </tr>\n    <tr>\n      <th>327</th>\n      <td>327</td>\n      <td>Trust that “WE” , governments together with o...</td>\n      <td>Statement of intent</td>\n      <td>327  Trust that “WE” , governments together wi...</td>\n      <td>1</td>\n      <td>Relevant</td>\n    </tr>\n    <tr>\n      <th>328</th>\n      <td>329</td>\n      <td>But for that, we need….to scale up the solutio...</td>\n      <td>Statement of intent</td>\n      <td>329 But for that, we need….to scale up the sol...</td>\n      <td>1</td>\n      <td>Relevant</td>\n    </tr>\n    <tr>\n      <th>329</th>\n      <td>330</td>\n      <td>I thank you.</td>\n      <td>Not relevant</td>\n      <td>330   I thank you.\\n</td>\n      <td>1</td>\n      <td>Not relevant</td>\n    </tr>\n  </tbody>\n</table>\n<p>330 rows × 6 columns</p>\n</div>"
     },
     "execution_count": 9,
     "metadata": {},
     "output_type": "execute_result"
    }
   ],
   "source": [
    "# Define a function to get the most frequent element\n",
    "def most_frequent(x):\n",
    "    return Counter(x).most_common(1)[0][0]\n",
    "\n",
    "# List of all columns\n",
    "all_columns = filtered_B1.columns.tolist()\n",
    "\n",
    "# Dictionary to specify aggregation functions\n",
    "agg_dict = {col: 'first' for col in all_columns if col not in ['unique_id', 'RELEVANCE_y']}\n",
    "agg_dict['RELEVANCE_y'] = most_frequent\n",
    "\n",
    "# Group by 'unique_id' and apply the aggregation functions\n",
    "filtered_B1_grouped = filtered_B1.groupby('unique_id').agg(agg_dict).reset_index()\n",
    "\n",
    "filtered_B1_grouped"
   ],
   "metadata": {
    "collapsed": false,
    "ExecuteTime": {
     "start_time": "2024-06-07T12:39:44.836104Z",
     "end_time": "2024-06-07T12:39:44.893566Z"
    }
   }
  },
  {
   "cell_type": "code",
   "execution_count": 10,
   "outputs": [
    {
     "name": "stdout",
     "output_type": "stream",
     "text": [
      "                     precision    recall  f1-score   support\n",
      "\n",
      "       Not relevant       0.88      0.58      0.70       212\n",
      "           Relevant       0.30      0.73      0.42        49\n",
      "Statement of intent       0.51      0.51      0.51        69\n",
      "\n",
      "           accuracy                           0.58       330\n",
      "          macro avg       0.56      0.61      0.54       330\n",
      "       weighted avg       0.71      0.58      0.62       330\n",
      "\n"
     ]
    }
   ],
   "source": [
    "# Evaluate performance of this dataframe\n",
    "print(classification_report(filtered_B1_grouped['RELEVANCE_x'],filtered_B1_grouped['RELEVANCE_y']))"
   ],
   "metadata": {
    "collapsed": false,
    "ExecuteTime": {
     "start_time": "2024-06-07T12:39:46.734727Z",
     "end_time": "2024-06-07T12:39:46.795437Z"
    }
   }
  },
  {
   "cell_type": "code",
   "execution_count": null,
   "outputs": [],
   "source": [],
   "metadata": {
    "collapsed": false
   }
  },
  {
   "cell_type": "markdown",
   "source": [
    "### B2.0"
   ],
   "metadata": {
    "collapsed": false
   }
  },
  {
   "cell_type": "code",
   "execution_count": 3,
   "outputs": [],
   "source": [
    "#B1.0\n",
    "path_B2 = 'STRING_RESULT/B2.0/all_iterations'\n",
    "\n",
    "# Open all dataframes\n",
    "S1 = pd.read_csv(f'{path_B2}/all_iterations_string_T0_3644.csv')\n",
    "S2 = pd.read_csv(f'{path_B2}/all_iterations_string_T0_3441.csv')\n",
    "S3 = pd.read_csv(f'{path_B2}/all_iterations_string_T0_280.csv')\n",
    "S4 = pd.read_csv(f'{path_B2}/all_iterations_string_T0_5991.csv')\n",
    "S5 = pd.read_csv(f'{path_B2}/all_iterations_string_T0_7917.csv')\n",
    "\n",
    "# Combine all dataframes into one\n",
    "B2_full = pd.concat([S1, S2, S3, S4, S5], ignore_index=True)"
   ],
   "metadata": {
    "collapsed": false,
    "ExecuteTime": {
     "start_time": "2024-06-07T15:35:21.640352Z",
     "end_time": "2024-06-07T15:35:21.690718Z"
    }
   }
  },
  {
   "cell_type": "code",
   "execution_count": 4,
   "outputs": [
    {
     "data": {
      "text/plain": "(245, 6)"
     },
     "execution_count": 4,
     "metadata": {},
     "output_type": "execute_result"
    }
   ],
   "source": [
    "# Filter rows to keep only those where the unique_id appears exactly 5 times\n",
    "filtered_B2 = B2_full.groupby('unique_id').filter(lambda x: len(x) == 5)\n",
    "filtered_B2.shape"
   ],
   "metadata": {
    "collapsed": false,
    "ExecuteTime": {
     "start_time": "2024-06-07T15:35:23.502282Z",
     "end_time": "2024-06-07T15:35:23.611255Z"
    }
   }
  },
  {
   "cell_type": "code",
   "execution_count": 5,
   "outputs": [],
   "source": [
    "# List of unique_id's that are annotated 5 times\n",
    "unique_ids = filtered_B2['unique_id'].unique().tolist()"
   ],
   "metadata": {
    "collapsed": false,
    "ExecuteTime": {
     "start_time": "2024-06-07T15:35:25.667681Z",
     "end_time": "2024-06-07T15:35:25.718242Z"
    }
   }
  },
  {
   "cell_type": "code",
   "execution_count": 6,
   "outputs": [],
   "source": [
    "# Filter all original dataframes to only include sentences that are annotated 5x by other seeds\n",
    "FB1S1 = S1[S1['unique_id'].isin(unique_ids)]\n",
    "FB1S2 = S2[S2['unique_id'].isin(unique_ids)]\n",
    "FB1S3 = S3[S3['unique_id'].isin(unique_ids)]\n",
    "FB1S4 = S4[S4['unique_id'].isin(unique_ids)]\n",
    "FB1S5 = S5[S5['unique_id'].isin(unique_ids)]"
   ],
   "metadata": {
    "collapsed": false,
    "ExecuteTime": {
     "start_time": "2024-06-07T15:35:26.634646Z",
     "end_time": "2024-06-07T15:35:26.683267Z"
    }
   }
  },
  {
   "cell_type": "code",
   "execution_count": 7,
   "outputs": [
    {
     "name": "stdout",
     "output_type": "stream",
     "text": [
      "Classification Report for S1\n",
      "                             precision    recall  f1-score    support\n",
      "egalitarian                   0.733333  0.687500  0.709677  16.000000\n",
      "general normative statement   0.800000  0.250000  0.380952  16.000000\n",
      "libertarian                   0.000000  0.000000  0.000000   3.000000\n",
      "prioritarian                  0.600000  1.000000  0.750000   6.000000\n",
      "sufficientarian               0.000000  0.000000  0.000000   2.000000\n",
      "utilitarian                   0.235294  0.666667  0.347826   6.000000\n",
      "accuracy                      0.510204  0.510204  0.510204   0.510204\n",
      "macro avg                     0.394771  0.434028  0.364743  49.000000\n",
      "weighted avg                  0.602961  0.510204  0.490552  49.000000\n",
      "\n",
      "\n",
      "Classification Report for S2\n",
      "                             precision    recall  f1-score    support\n",
      "egalitarian                   0.733333  0.687500  0.709677  16.000000\n",
      "general normative statement   0.800000  0.250000  0.380952  16.000000\n",
      "libertarian                   1.000000  0.333333  0.500000   3.000000\n",
      "prioritarian                  0.666667  1.000000  0.800000   6.000000\n",
      "sufficientarian               0.000000  0.000000  0.000000   2.000000\n",
      "utilitarian                   0.222222  0.666667  0.333333   6.000000\n",
      "accuracy                      0.530612  0.530612  0.530612   0.530612\n",
      "macro avg                     0.570370  0.489583  0.453994  49.000000\n",
      "weighted avg                  0.670748  0.530612  0.525512  49.000000\n",
      "\n",
      "\n",
      "Classification Report for S3\n",
      "                             precision    recall  f1-score    support\n",
      "egalitarian                   0.733333  0.687500  0.709677  16.000000\n",
      "general normative statement   0.666667  0.250000  0.363636  16.000000\n",
      "libertarian                   0.000000  0.000000  0.000000   3.000000\n",
      "prioritarian                  0.666667  1.000000  0.800000   6.000000\n",
      "sufficientarian               0.000000  0.000000  0.000000   2.000000\n",
      "utilitarian                   0.235294  0.666667  0.347826   6.000000\n",
      "accuracy                      0.510204  0.510204  0.510204   0.510204\n",
      "macro avg                     0.383660  0.434028  0.370190  49.000000\n",
      "weighted avg                  0.567587  0.510204  0.491020  49.000000\n",
      "\n",
      "\n",
      "Classification Report for S4\n",
      "                             precision    recall  f1-score    support\n",
      "egalitarian                   0.733333  0.687500  0.709677  16.000000\n",
      "general normative statement   0.833333  0.312500  0.454545  16.000000\n",
      "libertarian                   0.000000  0.000000  0.000000   3.000000\n",
      "prioritarian                  0.666667  1.000000  0.800000   6.000000\n",
      "sufficientarian               0.000000  0.000000  0.000000   2.000000\n",
      "utilitarian                   0.235294  0.666667  0.347826   6.000000\n",
      "accuracy                      0.530612  0.530612  0.530612   0.530612\n",
      "macro avg                     0.411438  0.444444  0.385341  49.000000\n",
      "weighted avg                  0.622009  0.530612  0.520705  49.000000\n",
      "\n",
      "\n",
      "Classification Report for S5\n",
      "                             precision    recall  f1-score    support\n",
      "egalitarian                   0.733333  0.687500  0.709677  16.000000\n",
      "general normative statement   0.800000  0.250000  0.380952  16.000000\n",
      "libertarian                   0.000000  0.000000  0.000000   3.000000\n",
      "prioritarian                  0.666667  1.000000  0.800000   6.000000\n",
      "sufficientarian               0.000000  0.000000  0.000000   2.000000\n",
      "utilitarian                   0.210526  0.666667  0.320000   6.000000\n",
      "accuracy                      0.510204  0.510204  0.510204   0.510204\n",
      "macro avg                     0.401754  0.434028  0.368438  49.000000\n",
      "weighted avg                  0.608092  0.510204  0.493267  49.000000\n",
      "\n",
      "\n"
     ]
    },
    {
     "name": "stderr",
     "output_type": "stream",
     "text": [
      "C:\\App\\Python\\Lib\\site-packages\\sklearn\\metrics\\_classification.py:1344: UndefinedMetricWarning: Precision and F-score are ill-defined and being set to 0.0 in labels with no predicted samples. Use `zero_division` parameter to control this behavior.\n",
      "  _warn_prf(average, modifier, msg_start, len(result))\n",
      "C:\\App\\Python\\Lib\\site-packages\\sklearn\\metrics\\_classification.py:1344: UndefinedMetricWarning: Precision and F-score are ill-defined and being set to 0.0 in labels with no predicted samples. Use `zero_division` parameter to control this behavior.\n",
      "  _warn_prf(average, modifier, msg_start, len(result))\n",
      "C:\\App\\Python\\Lib\\site-packages\\sklearn\\metrics\\_classification.py:1344: UndefinedMetricWarning: Precision and F-score are ill-defined and being set to 0.0 in labels with no predicted samples. Use `zero_division` parameter to control this behavior.\n",
      "  _warn_prf(average, modifier, msg_start, len(result))\n",
      "C:\\App\\Python\\Lib\\site-packages\\sklearn\\metrics\\_classification.py:1344: UndefinedMetricWarning: Precision and F-score are ill-defined and being set to 0.0 in labels with no predicted samples. Use `zero_division` parameter to control this behavior.\n",
      "  _warn_prf(average, modifier, msg_start, len(result))\n",
      "C:\\App\\Python\\Lib\\site-packages\\sklearn\\metrics\\_classification.py:1344: UndefinedMetricWarning: Precision and F-score are ill-defined and being set to 0.0 in labels with no predicted samples. Use `zero_division` parameter to control this behavior.\n",
      "  _warn_prf(average, modifier, msg_start, len(result))\n",
      "C:\\App\\Python\\Lib\\site-packages\\sklearn\\metrics\\_classification.py:1344: UndefinedMetricWarning: Precision and F-score are ill-defined and being set to 0.0 in labels with no predicted samples. Use `zero_division` parameter to control this behavior.\n",
      "  _warn_prf(average, modifier, msg_start, len(result))\n",
      "C:\\App\\Python\\Lib\\site-packages\\sklearn\\metrics\\_classification.py:1344: UndefinedMetricWarning: Precision and F-score are ill-defined and being set to 0.0 in labels with no predicted samples. Use `zero_division` parameter to control this behavior.\n",
      "  _warn_prf(average, modifier, msg_start, len(result))\n",
      "C:\\App\\Python\\Lib\\site-packages\\sklearn\\metrics\\_classification.py:1344: UndefinedMetricWarning: Precision and F-score are ill-defined and being set to 0.0 in labels with no predicted samples. Use `zero_division` parameter to control this behavior.\n",
      "  _warn_prf(average, modifier, msg_start, len(result))\n",
      "C:\\App\\Python\\Lib\\site-packages\\sklearn\\metrics\\_classification.py:1344: UndefinedMetricWarning: Precision and F-score are ill-defined and being set to 0.0 in labels with no predicted samples. Use `zero_division` parameter to control this behavior.\n",
      "  _warn_prf(average, modifier, msg_start, len(result))\n",
      "C:\\App\\Python\\Lib\\site-packages\\sklearn\\metrics\\_classification.py:1344: UndefinedMetricWarning: Precision and F-score are ill-defined and being set to 0.0 in labels with no predicted samples. Use `zero_division` parameter to control this behavior.\n",
      "  _warn_prf(average, modifier, msg_start, len(result))\n",
      "C:\\App\\Python\\Lib\\site-packages\\sklearn\\metrics\\_classification.py:1344: UndefinedMetricWarning: Precision and F-score are ill-defined and being set to 0.0 in labels with no predicted samples. Use `zero_division` parameter to control this behavior.\n",
      "  _warn_prf(average, modifier, msg_start, len(result))\n",
      "C:\\App\\Python\\Lib\\site-packages\\sklearn\\metrics\\_classification.py:1344: UndefinedMetricWarning: Precision and F-score are ill-defined and being set to 0.0 in labels with no predicted samples. Use `zero_division` parameter to control this behavior.\n",
      "  _warn_prf(average, modifier, msg_start, len(result))\n"
     ]
    }
   ],
   "source": [
    "# Evaluate performance of individual seeds for the same sentences\n",
    "# Function to generate classification report for each dataframe\n",
    "def generate_classification_report(df, true_label_col, pred_label_col):\n",
    "    return classification_report(df[true_label_col], df[pred_label_col], output_dict=True)\n",
    "\n",
    "# Generate classification reports\n",
    "report_S1 = generate_classification_report(FB1S1, 'PRINCIPLE_x', 'PRINCIPLE_y')\n",
    "report_S2 = generate_classification_report(FB1S2, 'PRINCIPLE_x', 'PRINCIPLE_y')\n",
    "report_S3 = generate_classification_report(FB1S3, 'PRINCIPLE_x', 'PRINCIPLE_y')\n",
    "report_S4 = generate_classification_report(FB1S4, 'PRINCIPLE_x', 'PRINCIPLE_y')\n",
    "report_S5 = generate_classification_report(FB1S5, 'PRINCIPLE_x', 'PRINCIPLE_y')\n",
    "\n",
    "# Function to print the classification reports for easy comparison\n",
    "def print_classification_report(report, title):\n",
    "    print(f\"Classification Report for {title}\")\n",
    "    print(pd.DataFrame(report).transpose())\n",
    "    print(\"\\n\")\n",
    "\n",
    "# Print the classification reports\n",
    "print_classification_report(report_S1, \"S1\")\n",
    "print_classification_report(report_S2, \"S2\")\n",
    "print_classification_report(report_S3, \"S3\")\n",
    "print_classification_report(report_S4, \"S4\")\n",
    "print_classification_report(report_S5, \"S5\")"
   ],
   "metadata": {
    "collapsed": false,
    "ExecuteTime": {
     "start_time": "2024-06-07T15:35:27.625883Z",
     "end_time": "2024-06-07T15:35:27.750333Z"
    }
   }
  },
  {
   "cell_type": "markdown",
   "source": [
    "Evaluate consistency of predictions over the 5 different instances - see which sentences are not consistantly predicted.\n"
   ],
   "metadata": {
    "collapsed": false
   }
  },
  {
   "cell_type": "code",
   "execution_count": 10,
   "outputs": [
    {
     "data": {
      "text/plain": "(25, 6)"
     },
     "execution_count": 10,
     "metadata": {},
     "output_type": "execute_result"
    }
   ],
   "source": [
    "# I want to evaluate consistency\n",
    "# Print all rows where inconsequences are found per seed\n",
    "# Define a function to check if all values in relevance_y are the same\n",
    "def relevance_y_not_uniform(group):\n",
    "    return group['PRINCIPLE_y'].nunique() != 1\n",
    "\n",
    "\n",
    "# Group by 'ID' and filter groups\n",
    "B2_consistency = filtered_B2.groupby('unique_id').filter(relevance_y_not_uniform)\n",
    "\n",
    "B2_consistency.shape"
   ],
   "metadata": {
    "collapsed": false,
    "ExecuteTime": {
     "start_time": "2024-06-07T15:35:43.094817Z",
     "end_time": "2024-06-07T15:35:43.294945Z"
    }
   }
  },
  {
   "cell_type": "markdown",
   "source": [
    "\n",
    "In combined dataframe, groupyby unique ID and take the majority label"
   ],
   "metadata": {
    "collapsed": false
   }
  },
  {
   "cell_type": "code",
   "execution_count": 11,
   "outputs": [],
   "source": [
    "# Define a function to get the most frequent element\n",
    "def most_frequent(x):\n",
    "    return Counter(x).most_common(1)[0][0]\n",
    "\n",
    "# List of all columns\n",
    "all_columns = filtered_B2.columns.tolist()\n",
    "\n",
    "# Dictionary to specify aggregation functions\n",
    "agg_dict = {col: 'first' for col in all_columns if col not in ['unique_id', 'PRINCIPLE_y']}\n",
    "agg_dict['PRINCIPLE_y'] = most_frequent\n",
    "\n",
    "# Group by 'unique_id' and apply the aggregation functions\n",
    "filtered_B2_grouped = filtered_B2.groupby('unique_id').agg(agg_dict).reset_index()\n"
   ],
   "metadata": {
    "collapsed": false,
    "ExecuteTime": {
     "start_time": "2024-06-07T15:36:03.119521Z",
     "end_time": "2024-06-07T15:36:03.138095Z"
    }
   }
  },
  {
   "cell_type": "code",
   "execution_count": 14,
   "outputs": [
    {
     "name": "stdout",
     "output_type": "stream",
     "text": [
      "                             precision    recall  f1-score   support\n",
      "\n",
      "                egalitarian       0.73      0.69      0.71        16\n",
      "general normative statement       0.80      0.25      0.38        16\n",
      "                libertarian       0.00      0.00      0.00         3\n",
      "               prioritarian       0.67      1.00      0.80         6\n",
      "            sufficientarian       0.00      0.00      0.00         2\n",
      "                utilitarian       0.22      0.67      0.33         6\n",
      "\n",
      "                   accuracy                           0.51        49\n",
      "                  macro avg       0.40      0.43      0.37        49\n",
      "               weighted avg       0.61      0.51      0.49        49\n",
      "\n"
     ]
    },
    {
     "name": "stderr",
     "output_type": "stream",
     "text": [
      "C:\\App\\Python\\Lib\\site-packages\\sklearn\\metrics\\_classification.py:1344: UndefinedMetricWarning: Precision and F-score are ill-defined and being set to 0.0 in labels with no predicted samples. Use `zero_division` parameter to control this behavior.\n",
      "  _warn_prf(average, modifier, msg_start, len(result))\n",
      "C:\\App\\Python\\Lib\\site-packages\\sklearn\\metrics\\_classification.py:1344: UndefinedMetricWarning: Precision and F-score are ill-defined and being set to 0.0 in labels with no predicted samples. Use `zero_division` parameter to control this behavior.\n",
      "  _warn_prf(average, modifier, msg_start, len(result))\n",
      "C:\\App\\Python\\Lib\\site-packages\\sklearn\\metrics\\_classification.py:1344: UndefinedMetricWarning: Precision and F-score are ill-defined and being set to 0.0 in labels with no predicted samples. Use `zero_division` parameter to control this behavior.\n",
      "  _warn_prf(average, modifier, msg_start, len(result))\n"
     ]
    }
   ],
   "source": [
    "# Evaluate performance of this dataframe\n",
    "print(classification_report(filtered_B2_grouped['PRINCIPLE_x'],filtered_B2_grouped['PRINCIPLE_y']))"
   ],
   "metadata": {
    "collapsed": false,
    "ExecuteTime": {
     "start_time": "2024-06-07T15:42:37.743009Z",
     "end_time": "2024-06-07T15:42:37.807224Z"
    }
   }
  },
  {
   "cell_type": "markdown",
   "source": [
    "### B2.1"
   ],
   "metadata": {
    "collapsed": false
   }
  },
  {
   "cell_type": "code",
   "execution_count": 25,
   "outputs": [],
   "source": [
    "#B1.0\n",
    "path_B2 = 'STRING_RESULT/B2.1/all_iterations'\n",
    "\n",
    "# Open all dataframes\n",
    "S1 = pd.read_csv(f'{path_B2}/all_iterations_string_T0_3644.csv')\n",
    "S2 = pd.read_csv(f'{path_B2}/all_iterations_string_T0_3441.csv')\n",
    "S3 = pd.read_csv(f'{path_B2}/all_iterations_string_T0_280.csv')\n",
    "S4 = pd.read_csv(f'{path_B2}/all_iterations_string_T0_5991.csv')\n",
    "S5 = pd.read_csv(f'{path_B2}/all_iterations_string_T0_7917.csv')\n",
    "\n",
    "# Combine all dataframes into one\n",
    "B2_full = pd.concat([S1, S2, S3, S4, S5], ignore_index=True)"
   ],
   "metadata": {
    "collapsed": false,
    "ExecuteTime": {
     "start_time": "2024-06-07T16:12:36.566174Z",
     "end_time": "2024-06-07T16:12:36.646484Z"
    }
   }
  },
  {
   "cell_type": "code",
   "execution_count": 26,
   "outputs": [
    {
     "data": {
      "text/plain": "(245, 6)"
     },
     "execution_count": 26,
     "metadata": {},
     "output_type": "execute_result"
    }
   ],
   "source": [
    "# Filter rows to keep only those where the unique_id appears exactly 5 times\n",
    "filtered_B2 = B2_full.groupby('unique_id').filter(lambda x: len(x) == 5)\n",
    "filtered_B2.shape"
   ],
   "metadata": {
    "collapsed": false,
    "ExecuteTime": {
     "start_time": "2024-06-07T16:12:38.141132Z",
     "end_time": "2024-06-07T16:12:38.204236Z"
    }
   }
  },
  {
   "cell_type": "code",
   "execution_count": 17,
   "outputs": [],
   "source": [
    "# List of unique_id's that are annotated 5 times\n",
    "unique_ids = filtered_B2['unique_id'].unique().tolist()"
   ],
   "metadata": {
    "collapsed": false,
    "ExecuteTime": {
     "start_time": "2024-06-07T15:42:58.828709Z",
     "end_time": "2024-06-07T15:42:58.866252Z"
    }
   }
  },
  {
   "cell_type": "code",
   "execution_count": 18,
   "outputs": [],
   "source": [
    "# Filter all original dataframes to only include sentences that are annotated 5x by other seeds\n",
    "FB1S1 = S1[S1['unique_id'].isin(unique_ids)]\n",
    "FB1S2 = S2[S2['unique_id'].isin(unique_ids)]\n",
    "FB1S3 = S3[S3['unique_id'].isin(unique_ids)]\n",
    "FB1S4 = S4[S4['unique_id'].isin(unique_ids)]\n",
    "FB1S5 = S5[S5['unique_id'].isin(unique_ids)]"
   ],
   "metadata": {
    "collapsed": false,
    "ExecuteTime": {
     "start_time": "2024-06-07T15:42:59.828193Z",
     "end_time": "2024-06-07T15:42:59.867846Z"
    }
   }
  },
  {
   "cell_type": "code",
   "execution_count": 20,
   "outputs": [
    {
     "name": "stdout",
     "output_type": "stream",
     "text": [
      "Classification Report for S1\n",
      "                             precision    recall  f1-score    support\n",
      "egalitarian                   0.687500  0.687500  0.687500  16.000000\n",
      "general normative statement   0.727273  0.500000  0.592593  16.000000\n",
      "libertarian                   1.000000  0.333333  0.500000   3.000000\n",
      "prioritarian                  0.666667  1.000000  0.800000   6.000000\n",
      "sufficientarian               0.000000  0.000000  0.000000   2.000000\n",
      "utilitarian                   0.363636  0.666667  0.470588   6.000000\n",
      "accuracy                      0.612245  0.612245  0.612245   0.612245\n",
      "macro avg                     0.574179  0.531250  0.508447  49.000000\n",
      "weighted avg                  0.649351  0.612245  0.604184  49.000000\n",
      "\n",
      "\n",
      "Classification Report for S2\n",
      "                             precision    recall  f1-score    support\n",
      "egalitarian                   0.687500  0.687500  0.687500  16.000000\n",
      "general normative statement   0.583333  0.437500  0.500000  16.000000\n",
      "libertarian                   1.000000  0.333333  0.500000   3.000000\n",
      "prioritarian                  0.666667  1.000000  0.800000   6.000000\n",
      "sufficientarian               0.000000  0.000000  0.000000   2.000000\n",
      "utilitarian                   0.300000  0.500000  0.375000   6.000000\n",
      "accuracy                      0.571429  0.571429  0.571429   0.571429\n",
      "macro avg                     0.539583  0.493056  0.477083  49.000000\n",
      "weighted avg                  0.594558  0.571429  0.562245  49.000000\n",
      "\n",
      "\n",
      "Classification Report for S3\n",
      "                             precision    recall  f1-score    support\n",
      "egalitarian                   0.687500  0.687500  0.687500  16.000000\n",
      "general normative statement   0.727273  0.500000  0.592593  16.000000\n",
      "libertarian                   1.000000  0.333333  0.500000   3.000000\n",
      "prioritarian                  0.666667  1.000000  0.800000   6.000000\n",
      "sufficientarian               0.000000  0.000000  0.000000   2.000000\n",
      "utilitarian                   0.363636  0.666667  0.470588   6.000000\n",
      "accuracy                      0.612245  0.612245  0.612245   0.612245\n",
      "macro avg                     0.574179  0.531250  0.508447  49.000000\n",
      "weighted avg                  0.649351  0.612245  0.604184  49.000000\n",
      "\n",
      "\n",
      "Classification Report for S4\n",
      "                             precision    recall  f1-score    support\n",
      "egalitarian                   0.687500  0.687500  0.687500  16.000000\n",
      "general normative statement   0.666667  0.500000  0.571429  16.000000\n",
      "libertarian                   1.000000  0.333333  0.500000   3.000000\n",
      "prioritarian                  0.600000  1.000000  0.750000   6.000000\n",
      "sufficientarian               0.000000  0.000000  0.000000   2.000000\n",
      "utilitarian                   0.333333  0.500000  0.400000   6.000000\n",
      "accuracy                      0.591837  0.591837  0.591837   0.591837\n",
      "macro avg                     0.547917  0.503472  0.484821  49.000000\n",
      "weighted avg                  0.617687  0.591837  0.582507  49.000000\n",
      "\n",
      "\n",
      "Classification Report for S5\n",
      "                             precision    recall  f1-score    support\n",
      "egalitarian                   0.687500  0.687500  0.687500  16.000000\n",
      "general normative statement   0.700000  0.437500  0.538462  16.000000\n",
      "libertarian                   1.000000  0.333333  0.500000   3.000000\n",
      "prioritarian                  0.600000  1.000000  0.750000   6.000000\n",
      "sufficientarian               0.000000  0.000000  0.000000   2.000000\n",
      "utilitarian                   0.272727  0.500000  0.352941   6.000000\n",
      "accuracy                      0.571429  0.571429  0.571429   0.571429\n",
      "macro avg                     0.543371  0.493056  0.471484  49.000000\n",
      "weighted avg                  0.621150  0.571429  0.565980  49.000000\n",
      "\n",
      "\n"
     ]
    }
   ],
   "source": [
    "# Evaluate performance of individual seeds for the same sentences\n",
    "# Function to generate classification report for each dataframe\n",
    "def generate_classification_report(df, true_label_col, pred_label_col):\n",
    "    return classification_report(df[true_label_col], df[pred_label_col], output_dict=True)\n",
    "\n",
    "# Generate classification reports\n",
    "report_S1 = generate_classification_report(FB1S1, 'PRINCIPLE_x', 'PRINCIPLE_y')\n",
    "report_S2 = generate_classification_report(FB1S2, 'PRINCIPLE_x', 'PRINCIPLE_y')\n",
    "report_S3 = generate_classification_report(FB1S3, 'PRINCIPLE_x', 'PRINCIPLE_y')\n",
    "report_S4 = generate_classification_report(FB1S4, 'PRINCIPLE_x', 'PRINCIPLE_y')\n",
    "report_S5 = generate_classification_report(FB1S5, 'PRINCIPLE_x', 'PRINCIPLE_y')\n",
    "\n",
    "# Function to print the classification reports for easy comparison\n",
    "def print_classification_report(report, title):\n",
    "    print(f\"Classification Report for {title}\")\n",
    "    print(pd.DataFrame(report).transpose())\n",
    "    print(\"\\n\")\n",
    "\n",
    "# Print the classification reports\n",
    "print_classification_report(report_S1, \"S1\")\n",
    "print_classification_report(report_S2, \"S2\")\n",
    "print_classification_report(report_S3, \"S3\")\n",
    "print_classification_report(report_S4, \"S4\")\n",
    "print_classification_report(report_S5, \"S5\")"
   ],
   "metadata": {
    "collapsed": false,
    "ExecuteTime": {
     "start_time": "2024-06-07T15:43:10.856889Z",
     "end_time": "2024-06-07T15:43:11.000260Z"
    }
   }
  },
  {
   "cell_type": "markdown",
   "source": [
    "Evaluate consistency of predictions over the 5 different instances - see which sentences are not consistantly predicted.\n"
   ],
   "metadata": {
    "collapsed": false
   }
  },
  {
   "cell_type": "code",
   "execution_count": 22,
   "outputs": [
    {
     "data": {
      "text/plain": "(20, 6)"
     },
     "execution_count": 22,
     "metadata": {},
     "output_type": "execute_result"
    }
   ],
   "source": [
    "# I want to evaluate consistency\n",
    "# Print all rows where inconsequences are found per seed\n",
    "# Define a function to check if all values in relevance_y are the same\n",
    "def relevance_y_not_uniform(group):\n",
    "    return group['PRINCIPLE_y'].nunique() != 1\n",
    "\n",
    "\n",
    "# Group by 'ID' and filter groups\n",
    "B1_consistency = filtered_B2.groupby('unique_id').filter(relevance_y_not_uniform)\n",
    "\n",
    "B1_consistency.shape"
   ],
   "metadata": {
    "collapsed": false,
    "ExecuteTime": {
     "start_time": "2024-06-07T15:43:18.871440Z",
     "end_time": "2024-06-07T15:43:18.926197Z"
    }
   }
  },
  {
   "cell_type": "markdown",
   "source": [
    "\n",
    "In combined dataframe, groupyby unique ID and take the majority label"
   ],
   "metadata": {
    "collapsed": false
   }
  },
  {
   "cell_type": "code",
   "execution_count": 23,
   "outputs": [],
   "source": [
    "# Define a function to get the most frequent element\n",
    "def most_frequent(x):\n",
    "    return Counter(x).most_common(1)[0][0]\n",
    "\n",
    "# List of all columns\n",
    "all_columns = filtered_B2.columns.tolist()\n",
    "\n",
    "# Dictionary to specify aggregation functions\n",
    "agg_dict = {col: 'first' for col in all_columns if col not in ['unique_id', 'PRINCIPLE_y']}\n",
    "agg_dict['PRINCIPLE_y'] = most_frequent\n",
    "\n",
    "# Group by 'unique_id' and apply the aggregation functions\n",
    "filtered_B2_grouped = filtered_B2.groupby('unique_id').agg(agg_dict).reset_index()\n"
   ],
   "metadata": {
    "collapsed": false,
    "ExecuteTime": {
     "start_time": "2024-06-07T15:43:40.990127Z",
     "end_time": "2024-06-07T15:43:40.996346Z"
    }
   }
  },
  {
   "cell_type": "code",
   "execution_count": 24,
   "outputs": [
    {
     "name": "stdout",
     "output_type": "stream",
     "text": [
      "                             precision    recall  f1-score   support\n",
      "\n",
      "                egalitarian       0.69      0.69      0.69        16\n",
      "general normative statement       0.73      0.50      0.59        16\n",
      "                libertarian       1.00      0.33      0.50         3\n",
      "               prioritarian       0.67      1.00      0.80         6\n",
      "            sufficientarian       0.00      0.00      0.00         2\n",
      "                utilitarian       0.36      0.67      0.47         6\n",
      "\n",
      "                   accuracy                           0.61        49\n",
      "                  macro avg       0.57      0.53      0.51        49\n",
      "               weighted avg       0.65      0.61      0.60        49\n",
      "\n"
     ]
    }
   ],
   "source": [
    "# Evaluate performance of this dataframe\n",
    "print(classification_report(filtered_B2_grouped['PRINCIPLE_x'],filtered_B2_grouped['PRINCIPLE_y']))"
   ],
   "metadata": {
    "collapsed": false,
    "ExecuteTime": {
     "start_time": "2024-06-07T15:43:43.654448Z",
     "end_time": "2024-06-07T15:43:43.662730Z"
    }
   }
  },
  {
   "cell_type": "code",
   "execution_count": null,
   "outputs": [],
   "source": [],
   "metadata": {
    "collapsed": false
   }
  },
  {
   "cell_type": "markdown",
   "source": [
    "### B2.1"
   ],
   "metadata": {
    "collapsed": false
   }
  },
  {
   "cell_type": "code",
   "execution_count": 25,
   "outputs": [],
   "source": [
    "#B1.0\n",
    "path_B2 = 'STRING_RESULT/B2.1/all_iterations'\n",
    "\n",
    "# Open all dataframes\n",
    "S1 = pd.read_csv(f'{path_B2}/all_iterations_string_T0_3644.csv')\n",
    "S2 = pd.read_csv(f'{path_B2}/all_iterations_string_T0_3441.csv')\n",
    "S3 = pd.read_csv(f'{path_B2}/all_iterations_string_T0_280.csv')\n",
    "S4 = pd.read_csv(f'{path_B2}/all_iterations_string_T0_5991.csv')\n",
    "S5 = pd.read_csv(f'{path_B2}/all_iterations_string_T0_7917.csv')\n",
    "\n",
    "# Combine all dataframes into one\n",
    "B2_full = pd.concat([S1, S2, S3, S4, S5], ignore_index=True)"
   ],
   "metadata": {
    "collapsed": false
   }
  },
  {
   "cell_type": "code",
   "execution_count": 26,
   "outputs": [
    {
     "data": {
      "text/plain": "(245, 6)"
     },
     "execution_count": 26,
     "metadata": {},
     "output_type": "execute_result"
    }
   ],
   "source": [
    "# Filter rows to keep only those where the unique_id appears exactly 5 times\n",
    "filtered_B2 = B2_full.groupby('unique_id').filter(lambda x: len(x) == 5)\n",
    "filtered_B2.shape"
   ],
   "metadata": {
    "collapsed": false
   }
  },
  {
   "cell_type": "code",
   "execution_count": 17,
   "outputs": [],
   "source": [
    "# List of unique_id's that are annotated 5 times\n",
    "unique_ids = filtered_B2['unique_id'].unique().tolist()"
   ],
   "metadata": {
    "collapsed": false
   }
  },
  {
   "cell_type": "code",
   "execution_count": 18,
   "outputs": [],
   "source": [
    "# Filter all original dataframes to only include sentences that are annotated 5x by other seeds\n",
    "FB1S1 = S1[S1['unique_id'].isin(unique_ids)]\n",
    "FB1S2 = S2[S2['unique_id'].isin(unique_ids)]\n",
    "FB1S3 = S3[S3['unique_id'].isin(unique_ids)]\n",
    "FB1S4 = S4[S4['unique_id'].isin(unique_ids)]\n",
    "FB1S5 = S5[S5['unique_id'].isin(unique_ids)]"
   ],
   "metadata": {
    "collapsed": false
   }
  },
  {
   "cell_type": "code",
   "execution_count": 20,
   "outputs": [
    {
     "name": "stdout",
     "output_type": "stream",
     "text": [
      "Classification Report for S1\n",
      "                             precision    recall  f1-score    support\n",
      "egalitarian                   0.687500  0.687500  0.687500  16.000000\n",
      "general normative statement   0.727273  0.500000  0.592593  16.000000\n",
      "libertarian                   1.000000  0.333333  0.500000   3.000000\n",
      "prioritarian                  0.666667  1.000000  0.800000   6.000000\n",
      "sufficientarian               0.000000  0.000000  0.000000   2.000000\n",
      "utilitarian                   0.363636  0.666667  0.470588   6.000000\n",
      "accuracy                      0.612245  0.612245  0.612245   0.612245\n",
      "macro avg                     0.574179  0.531250  0.508447  49.000000\n",
      "weighted avg                  0.649351  0.612245  0.604184  49.000000\n",
      "\n",
      "\n",
      "Classification Report for S2\n",
      "                             precision    recall  f1-score    support\n",
      "egalitarian                   0.687500  0.687500  0.687500  16.000000\n",
      "general normative statement   0.583333  0.437500  0.500000  16.000000\n",
      "libertarian                   1.000000  0.333333  0.500000   3.000000\n",
      "prioritarian                  0.666667  1.000000  0.800000   6.000000\n",
      "sufficientarian               0.000000  0.000000  0.000000   2.000000\n",
      "utilitarian                   0.300000  0.500000  0.375000   6.000000\n",
      "accuracy                      0.571429  0.571429  0.571429   0.571429\n",
      "macro avg                     0.539583  0.493056  0.477083  49.000000\n",
      "weighted avg                  0.594558  0.571429  0.562245  49.000000\n",
      "\n",
      "\n",
      "Classification Report for S3\n",
      "                             precision    recall  f1-score    support\n",
      "egalitarian                   0.687500  0.687500  0.687500  16.000000\n",
      "general normative statement   0.727273  0.500000  0.592593  16.000000\n",
      "libertarian                   1.000000  0.333333  0.500000   3.000000\n",
      "prioritarian                  0.666667  1.000000  0.800000   6.000000\n",
      "sufficientarian               0.000000  0.000000  0.000000   2.000000\n",
      "utilitarian                   0.363636  0.666667  0.470588   6.000000\n",
      "accuracy                      0.612245  0.612245  0.612245   0.612245\n",
      "macro avg                     0.574179  0.531250  0.508447  49.000000\n",
      "weighted avg                  0.649351  0.612245  0.604184  49.000000\n",
      "\n",
      "\n",
      "Classification Report for S4\n",
      "                             precision    recall  f1-score    support\n",
      "egalitarian                   0.687500  0.687500  0.687500  16.000000\n",
      "general normative statement   0.666667  0.500000  0.571429  16.000000\n",
      "libertarian                   1.000000  0.333333  0.500000   3.000000\n",
      "prioritarian                  0.600000  1.000000  0.750000   6.000000\n",
      "sufficientarian               0.000000  0.000000  0.000000   2.000000\n",
      "utilitarian                   0.333333  0.500000  0.400000   6.000000\n",
      "accuracy                      0.591837  0.591837  0.591837   0.591837\n",
      "macro avg                     0.547917  0.503472  0.484821  49.000000\n",
      "weighted avg                  0.617687  0.591837  0.582507  49.000000\n",
      "\n",
      "\n",
      "Classification Report for S5\n",
      "                             precision    recall  f1-score    support\n",
      "egalitarian                   0.687500  0.687500  0.687500  16.000000\n",
      "general normative statement   0.700000  0.437500  0.538462  16.000000\n",
      "libertarian                   1.000000  0.333333  0.500000   3.000000\n",
      "prioritarian                  0.600000  1.000000  0.750000   6.000000\n",
      "sufficientarian               0.000000  0.000000  0.000000   2.000000\n",
      "utilitarian                   0.272727  0.500000  0.352941   6.000000\n",
      "accuracy                      0.571429  0.571429  0.571429   0.571429\n",
      "macro avg                     0.543371  0.493056  0.471484  49.000000\n",
      "weighted avg                  0.621150  0.571429  0.565980  49.000000\n",
      "\n",
      "\n"
     ]
    }
   ],
   "source": [
    "# Evaluate performance of individual seeds for the same sentences\n",
    "# Function to generate classification report for each dataframe\n",
    "def generate_classification_report(df, true_label_col, pred_label_col):\n",
    "    return classification_report(df[true_label_col], df[pred_label_col], output_dict=True)\n",
    "\n",
    "# Generate classification reports\n",
    "report_S1 = generate_classification_report(FB1S1, 'PRINCIPLE_x', 'PRINCIPLE_y')\n",
    "report_S2 = generate_classification_report(FB1S2, 'PRINCIPLE_x', 'PRINCIPLE_y')\n",
    "report_S3 = generate_classification_report(FB1S3, 'PRINCIPLE_x', 'PRINCIPLE_y')\n",
    "report_S4 = generate_classification_report(FB1S4, 'PRINCIPLE_x', 'PRINCIPLE_y')\n",
    "report_S5 = generate_classification_report(FB1S5, 'PRINCIPLE_x', 'PRINCIPLE_y')\n",
    "\n",
    "# Function to print the classification reports for easy comparison\n",
    "def print_classification_report(report, title):\n",
    "    print(f\"Classification Report for {title}\")\n",
    "    print(pd.DataFrame(report).transpose())\n",
    "    print(\"\\n\")\n",
    "\n",
    "# Print the classification reports\n",
    "print_classification_report(report_S1, \"S1\")\n",
    "print_classification_report(report_S2, \"S2\")\n",
    "print_classification_report(report_S3, \"S3\")\n",
    "print_classification_report(report_S4, \"S4\")\n",
    "print_classification_report(report_S5, \"S5\")"
   ],
   "metadata": {
    "collapsed": false
   }
  },
  {
   "cell_type": "markdown",
   "source": [
    "Evaluate consistency of predictions over the 5 different instances - see which sentences are not consistantly predicted.\n"
   ],
   "metadata": {
    "collapsed": false
   }
  },
  {
   "cell_type": "code",
   "execution_count": 22,
   "outputs": [
    {
     "data": {
      "text/plain": "(20, 6)"
     },
     "execution_count": 22,
     "metadata": {},
     "output_type": "execute_result"
    }
   ],
   "source": [
    "# I want to evaluate consistency\n",
    "# Print all rows where inconsequences are found per seed\n",
    "# Define a function to check if all values in relevance_y are the same\n",
    "def relevance_y_not_uniform(group):\n",
    "    return group['PRINCIPLE_y'].nunique() != 1\n",
    "\n",
    "\n",
    "# Group by 'ID' and filter groups\n",
    "B1_consistency = filtered_B2.groupby('unique_id').filter(relevance_y_not_uniform)\n",
    "\n",
    "B1_consistency.shape"
   ],
   "metadata": {
    "collapsed": false
   }
  },
  {
   "cell_type": "markdown",
   "source": [
    "\n",
    "In combined dataframe, groupyby unique ID and take the majority label"
   ],
   "metadata": {
    "collapsed": false
   }
  },
  {
   "cell_type": "code",
   "execution_count": 23,
   "outputs": [],
   "source": [
    "# Define a function to get the most frequent element\n",
    "def most_frequent(x):\n",
    "    return Counter(x).most_common(1)[0][0]\n",
    "\n",
    "# List of all columns\n",
    "all_columns = filtered_B2.columns.tolist()\n",
    "\n",
    "# Dictionary to specify aggregation functions\n",
    "agg_dict = {col: 'first' for col in all_columns if col not in ['unique_id', 'PRINCIPLE_y']}\n",
    "agg_dict['PRINCIPLE_y'] = most_frequent\n",
    "\n",
    "# Group by 'unique_id' and apply the aggregation functions\n",
    "filtered_B2_grouped = filtered_B2.groupby('unique_id').agg(agg_dict).reset_index()\n"
   ],
   "metadata": {
    "collapsed": false
   }
  },
  {
   "cell_type": "code",
   "execution_count": 24,
   "outputs": [
    {
     "name": "stdout",
     "output_type": "stream",
     "text": [
      "                             precision    recall  f1-score   support\n",
      "\n",
      "                egalitarian       0.69      0.69      0.69        16\n",
      "general normative statement       0.73      0.50      0.59        16\n",
      "                libertarian       1.00      0.33      0.50         3\n",
      "               prioritarian       0.67      1.00      0.80         6\n",
      "            sufficientarian       0.00      0.00      0.00         2\n",
      "                utilitarian       0.36      0.67      0.47         6\n",
      "\n",
      "                   accuracy                           0.61        49\n",
      "                  macro avg       0.57      0.53      0.51        49\n",
      "               weighted avg       0.65      0.61      0.60        49\n",
      "\n"
     ]
    }
   ],
   "source": [
    "# Evaluate performance of this dataframe\n",
    "print(classification_report(filtered_B2_grouped['PRINCIPLE_x'],filtered_B2_grouped['PRINCIPLE_y']))"
   ],
   "metadata": {
    "collapsed": false
   }
  },
  {
   "cell_type": "code",
   "execution_count": null,
   "outputs": [],
   "source": [],
   "metadata": {
    "collapsed": false
   }
  },
  {
   "cell_type": "markdown",
   "source": [
    "### B3.0"
   ],
   "metadata": {
    "collapsed": false
   }
  },
  {
   "cell_type": "code",
   "execution_count": 27,
   "outputs": [],
   "source": [
    "#B1.0\n",
    "path_B2 = 'STRING_RESULT/B3.0/all_iterations'\n",
    "\n",
    "# Open all dataframes\n",
    "S1 = pd.read_csv(f'{path_B2}/all_iterations_string_T0_3644.csv')\n",
    "S2 = pd.read_csv(f'{path_B2}/all_iterations_string_T0_3441.csv')\n",
    "S3 = pd.read_csv(f'{path_B2}/all_iterations_string_T0_280.csv')\n",
    "S4 = pd.read_csv(f'{path_B2}/all_iterations_string_T0_5991.csv')\n",
    "S5 = pd.read_csv(f'{path_B2}/all_iterations_string_T0_7917.csv')\n",
    "\n",
    "# Combine all dataframes into one\n",
    "B2_full = pd.concat([S1, S2, S3, S4, S5], ignore_index=True)"
   ],
   "metadata": {
    "collapsed": false
   }
  },
  {
   "cell_type": "code",
   "execution_count": 28,
   "outputs": [
    {
     "data": {
      "text/plain": "(1255, 6)"
     },
     "execution_count": 28,
     "metadata": {},
     "output_type": "execute_result"
    }
   ],
   "source": [
    "# Filter rows to keep only those where the unique_id appears exactly 5 times\n",
    "filtered_B2 = B2_full.groupby('unique_id').filter(lambda x: len(x) == 5)\n",
    "filtered_B2.shape"
   ],
   "metadata": {
    "collapsed": false
   }
  },
  {
   "cell_type": "code",
   "execution_count": 5,
   "outputs": [],
   "source": [
    "# List of unique_id's that are annotated 5 times\n",
    "unique_ids = filtered_B2['unique_id'].unique().tolist()"
   ],
   "metadata": {
    "collapsed": false
   }
  },
  {
   "cell_type": "code",
   "execution_count": 6,
   "outputs": [],
   "source": [
    "# Filter all original dataframes to only include sentences that are annotated 5x by other seeds\n",
    "FB1S1 = S1[S1['unique_id'].isin(unique_ids)]\n",
    "FB1S2 = S2[S2['unique_id'].isin(unique_ids)]\n",
    "FB1S3 = S3[S3['unique_id'].isin(unique_ids)]\n",
    "FB1S4 = S4[S4['unique_id'].isin(unique_ids)]\n",
    "FB1S5 = S5[S5['unique_id'].isin(unique_ids)]"
   ],
   "metadata": {
    "collapsed": false
   }
  },
  {
   "cell_type": "code",
   "execution_count": 7,
   "outputs": [
    {
     "name": "stdout",
     "output_type": "stream",
     "text": [
      "Classification Report for S1\n",
      "                             precision    recall  f1-score    support\n",
      "egalitarian                   0.733333  0.687500  0.709677  16.000000\n",
      "general normative statement   0.800000  0.250000  0.380952  16.000000\n",
      "libertarian                   0.000000  0.000000  0.000000   3.000000\n",
      "prioritarian                  0.600000  1.000000  0.750000   6.000000\n",
      "sufficientarian               0.000000  0.000000  0.000000   2.000000\n",
      "utilitarian                   0.235294  0.666667  0.347826   6.000000\n",
      "accuracy                      0.510204  0.510204  0.510204   0.510204\n",
      "macro avg                     0.394771  0.434028  0.364743  49.000000\n",
      "weighted avg                  0.602961  0.510204  0.490552  49.000000\n",
      "\n",
      "\n",
      "Classification Report for S2\n",
      "                             precision    recall  f1-score    support\n",
      "egalitarian                   0.733333  0.687500  0.709677  16.000000\n",
      "general normative statement   0.800000  0.250000  0.380952  16.000000\n",
      "libertarian                   1.000000  0.333333  0.500000   3.000000\n",
      "prioritarian                  0.666667  1.000000  0.800000   6.000000\n",
      "sufficientarian               0.000000  0.000000  0.000000   2.000000\n",
      "utilitarian                   0.222222  0.666667  0.333333   6.000000\n",
      "accuracy                      0.530612  0.530612  0.530612   0.530612\n",
      "macro avg                     0.570370  0.489583  0.453994  49.000000\n",
      "weighted avg                  0.670748  0.530612  0.525512  49.000000\n",
      "\n",
      "\n",
      "Classification Report for S3\n",
      "                             precision    recall  f1-score    support\n",
      "egalitarian                   0.733333  0.687500  0.709677  16.000000\n",
      "general normative statement   0.666667  0.250000  0.363636  16.000000\n",
      "libertarian                   0.000000  0.000000  0.000000   3.000000\n",
      "prioritarian                  0.666667  1.000000  0.800000   6.000000\n",
      "sufficientarian               0.000000  0.000000  0.000000   2.000000\n",
      "utilitarian                   0.235294  0.666667  0.347826   6.000000\n",
      "accuracy                      0.510204  0.510204  0.510204   0.510204\n",
      "macro avg                     0.383660  0.434028  0.370190  49.000000\n",
      "weighted avg                  0.567587  0.510204  0.491020  49.000000\n",
      "\n",
      "\n",
      "Classification Report for S4\n",
      "                             precision    recall  f1-score    support\n",
      "egalitarian                   0.733333  0.687500  0.709677  16.000000\n",
      "general normative statement   0.833333  0.312500  0.454545  16.000000\n",
      "libertarian                   0.000000  0.000000  0.000000   3.000000\n",
      "prioritarian                  0.666667  1.000000  0.800000   6.000000\n",
      "sufficientarian               0.000000  0.000000  0.000000   2.000000\n",
      "utilitarian                   0.235294  0.666667  0.347826   6.000000\n",
      "accuracy                      0.530612  0.530612  0.530612   0.530612\n",
      "macro avg                     0.411438  0.444444  0.385341  49.000000\n",
      "weighted avg                  0.622009  0.530612  0.520705  49.000000\n",
      "\n",
      "\n",
      "Classification Report for S5\n",
      "                             precision    recall  f1-score    support\n",
      "egalitarian                   0.733333  0.687500  0.709677  16.000000\n",
      "general normative statement   0.800000  0.250000  0.380952  16.000000\n",
      "libertarian                   0.000000  0.000000  0.000000   3.000000\n",
      "prioritarian                  0.666667  1.000000  0.800000   6.000000\n",
      "sufficientarian               0.000000  0.000000  0.000000   2.000000\n",
      "utilitarian                   0.210526  0.666667  0.320000   6.000000\n",
      "accuracy                      0.510204  0.510204  0.510204   0.510204\n",
      "macro avg                     0.401754  0.434028  0.368438  49.000000\n",
      "weighted avg                  0.608092  0.510204  0.493267  49.000000\n",
      "\n",
      "\n"
     ]
    },
    {
     "name": "stderr",
     "output_type": "stream",
     "text": [
      "C:\\App\\Python\\Lib\\site-packages\\sklearn\\metrics\\_classification.py:1344: UndefinedMetricWarning: Precision and F-score are ill-defined and being set to 0.0 in labels with no predicted samples. Use `zero_division` parameter to control this behavior.\n",
      "  _warn_prf(average, modifier, msg_start, len(result))\n",
      "C:\\App\\Python\\Lib\\site-packages\\sklearn\\metrics\\_classification.py:1344: UndefinedMetricWarning: Precision and F-score are ill-defined and being set to 0.0 in labels with no predicted samples. Use `zero_division` parameter to control this behavior.\n",
      "  _warn_prf(average, modifier, msg_start, len(result))\n",
      "C:\\App\\Python\\Lib\\site-packages\\sklearn\\metrics\\_classification.py:1344: UndefinedMetricWarning: Precision and F-score are ill-defined and being set to 0.0 in labels with no predicted samples. Use `zero_division` parameter to control this behavior.\n",
      "  _warn_prf(average, modifier, msg_start, len(result))\n",
      "C:\\App\\Python\\Lib\\site-packages\\sklearn\\metrics\\_classification.py:1344: UndefinedMetricWarning: Precision and F-score are ill-defined and being set to 0.0 in labels with no predicted samples. Use `zero_division` parameter to control this behavior.\n",
      "  _warn_prf(average, modifier, msg_start, len(result))\n",
      "C:\\App\\Python\\Lib\\site-packages\\sklearn\\metrics\\_classification.py:1344: UndefinedMetricWarning: Precision and F-score are ill-defined and being set to 0.0 in labels with no predicted samples. Use `zero_division` parameter to control this behavior.\n",
      "  _warn_prf(average, modifier, msg_start, len(result))\n",
      "C:\\App\\Python\\Lib\\site-packages\\sklearn\\metrics\\_classification.py:1344: UndefinedMetricWarning: Precision and F-score are ill-defined and being set to 0.0 in labels with no predicted samples. Use `zero_division` parameter to control this behavior.\n",
      "  _warn_prf(average, modifier, msg_start, len(result))\n",
      "C:\\App\\Python\\Lib\\site-packages\\sklearn\\metrics\\_classification.py:1344: UndefinedMetricWarning: Precision and F-score are ill-defined and being set to 0.0 in labels with no predicted samples. Use `zero_division` parameter to control this behavior.\n",
      "  _warn_prf(average, modifier, msg_start, len(result))\n",
      "C:\\App\\Python\\Lib\\site-packages\\sklearn\\metrics\\_classification.py:1344: UndefinedMetricWarning: Precision and F-score are ill-defined and being set to 0.0 in labels with no predicted samples. Use `zero_division` parameter to control this behavior.\n",
      "  _warn_prf(average, modifier, msg_start, len(result))\n",
      "C:\\App\\Python\\Lib\\site-packages\\sklearn\\metrics\\_classification.py:1344: UndefinedMetricWarning: Precision and F-score are ill-defined and being set to 0.0 in labels with no predicted samples. Use `zero_division` parameter to control this behavior.\n",
      "  _warn_prf(average, modifier, msg_start, len(result))\n",
      "C:\\App\\Python\\Lib\\site-packages\\sklearn\\metrics\\_classification.py:1344: UndefinedMetricWarning: Precision and F-score are ill-defined and being set to 0.0 in labels with no predicted samples. Use `zero_division` parameter to control this behavior.\n",
      "  _warn_prf(average, modifier, msg_start, len(result))\n",
      "C:\\App\\Python\\Lib\\site-packages\\sklearn\\metrics\\_classification.py:1344: UndefinedMetricWarning: Precision and F-score are ill-defined and being set to 0.0 in labels with no predicted samples. Use `zero_division` parameter to control this behavior.\n",
      "  _warn_prf(average, modifier, msg_start, len(result))\n",
      "C:\\App\\Python\\Lib\\site-packages\\sklearn\\metrics\\_classification.py:1344: UndefinedMetricWarning: Precision and F-score are ill-defined and being set to 0.0 in labels with no predicted samples. Use `zero_division` parameter to control this behavior.\n",
      "  _warn_prf(average, modifier, msg_start, len(result))\n"
     ]
    }
   ],
   "source": [
    "# Evaluate performance of individual seeds for the same sentences\n",
    "# Function to generate classification report for each dataframe\n",
    "def generate_classification_report(df, true_label_col, pred_label_col):\n",
    "    return classification_report(df[true_label_col], df[pred_label_col], output_dict=True)\n",
    "\n",
    "# Generate classification reports\n",
    "report_S1 = generate_classification_report(FB1S1, 'PRINCIPLE_x', 'PRINCIPLE_y')\n",
    "report_S2 = generate_classification_report(FB1S2, 'PRINCIPLE_x', 'PRINCIPLE_y')\n",
    "report_S3 = generate_classification_report(FB1S3, 'PRINCIPLE_x', 'PRINCIPLE_y')\n",
    "report_S4 = generate_classification_report(FB1S4, 'PRINCIPLE_x', 'PRINCIPLE_y')\n",
    "report_S5 = generate_classification_report(FB1S5, 'PRINCIPLE_x', 'PRINCIPLE_y')\n",
    "\n",
    "# Function to print the classification reports for easy comparison\n",
    "def print_classification_report(report, title):\n",
    "    print(f\"Classification Report for {title}\")\n",
    "    print(pd.DataFrame(report).transpose())\n",
    "    print(\"\\n\")\n",
    "\n",
    "# Print the classification reports\n",
    "print_classification_report(report_S1, \"S1\")\n",
    "print_classification_report(report_S2, \"S2\")\n",
    "print_classification_report(report_S3, \"S3\")\n",
    "print_classification_report(report_S4, \"S4\")\n",
    "print_classification_report(report_S5, \"S5\")"
   ],
   "metadata": {
    "collapsed": false
   }
  },
  {
   "cell_type": "markdown",
   "source": [
    "Evaluate consistency of predictions over the 5 different instances - see which sentences are not consistantly predicted.\n"
   ],
   "metadata": {
    "collapsed": false
   }
  },
  {
   "cell_type": "code",
   "execution_count": 29,
   "outputs": [
    {
     "data": {
      "text/plain": "(190, 6)"
     },
     "execution_count": 29,
     "metadata": {},
     "output_type": "execute_result"
    }
   ],
   "source": [
    "# I want to evaluate consistency\n",
    "# Print all rows where inconsequences are found per seed\n",
    "# Define a function to check if all values in relevance_y are the same\n",
    "def relevance_y_not_uniform(group):\n",
    "    return group['PRINCIPLE_y'].nunique() != 1\n",
    "\n",
    "\n",
    "# Group by 'ID' and filter groups\n",
    "B2_consistency = filtered_B2.groupby('unique_id').filter(relevance_y_not_uniform)\n",
    "\n",
    "B2_consistency.shape"
   ],
   "metadata": {
    "collapsed": false
   }
  },
  {
   "cell_type": "markdown",
   "source": [
    "\n",
    "In combined dataframe, groupyby unique ID and take the majority label"
   ],
   "metadata": {
    "collapsed": false
   }
  },
  {
   "cell_type": "code",
   "execution_count": 30,
   "outputs": [],
   "source": [
    "# Define a function to get the most frequent element\n",
    "def most_frequent(x):\n",
    "    return Counter(x).most_common(1)[0][0]\n",
    "\n",
    "# List of all columns\n",
    "all_columns = filtered_B2.columns.tolist()\n",
    "\n",
    "# Dictionary to specify aggregation functions\n",
    "agg_dict = {col: 'first' for col in all_columns if col not in ['unique_id', 'PRINCIPLE_y']}\n",
    "agg_dict['PRINCIPLE_y'] = most_frequent\n",
    "\n",
    "# Group by 'unique_id' and apply the aggregation functions\n",
    "filtered_B2_grouped = filtered_B2.groupby('unique_id').agg(agg_dict).reset_index()\n"
   ],
   "metadata": {
    "collapsed": false
   }
  },
  {
   "cell_type": "code",
   "execution_count": 31,
   "outputs": [
    {
     "name": "stdout",
     "output_type": "stream",
     "text": [
      "                             precision    recall  f1-score   support\n",
      "\n",
      "                egalitarian       0.43      0.90      0.58        10\n",
      "general normative statement       0.11      0.54      0.19        13\n",
      "                libertarian       0.00      0.00      0.00         1\n",
      "              not evaluated       1.00      0.61      0.76       214\n",
      "               prioritarian       0.42      0.83      0.56         6\n",
      "            sufficientarian       0.00      0.00      0.00         1\n",
      "                utilitarian       0.13      0.50      0.21         6\n",
      "\n",
      "                   accuracy                           0.61       251\n",
      "                  macro avg       0.30      0.48      0.33       251\n",
      "               weighted avg       0.89      0.61      0.70       251\n",
      "\n"
     ]
    },
    {
     "name": "stderr",
     "output_type": "stream",
     "text": [
      "C:\\App\\Python\\Lib\\site-packages\\sklearn\\metrics\\_classification.py:1344: UndefinedMetricWarning: Precision and F-score are ill-defined and being set to 0.0 in labels with no predicted samples. Use `zero_division` parameter to control this behavior.\n",
      "  _warn_prf(average, modifier, msg_start, len(result))\n",
      "C:\\App\\Python\\Lib\\site-packages\\sklearn\\metrics\\_classification.py:1344: UndefinedMetricWarning: Precision and F-score are ill-defined and being set to 0.0 in labels with no predicted samples. Use `zero_division` parameter to control this behavior.\n",
      "  _warn_prf(average, modifier, msg_start, len(result))\n",
      "C:\\App\\Python\\Lib\\site-packages\\sklearn\\metrics\\_classification.py:1344: UndefinedMetricWarning: Precision and F-score are ill-defined and being set to 0.0 in labels with no predicted samples. Use `zero_division` parameter to control this behavior.\n",
      "  _warn_prf(average, modifier, msg_start, len(result))\n"
     ]
    }
   ],
   "source": [
    "# Evaluate performance of this dataframe\n",
    "print(classification_report(filtered_B2_grouped['PRINCIPLE_x'],filtered_B2_grouped['PRINCIPLE_y']))"
   ],
   "metadata": {
    "collapsed": false
   }
  },
  {
   "cell_type": "code",
   "execution_count": null,
   "outputs": [],
   "source": [],
   "metadata": {
    "collapsed": false
   }
  },
  {
   "cell_type": "markdown",
   "source": [
    "### B3.0.1"
   ],
   "metadata": {
    "collapsed": false
   }
  },
  {
   "cell_type": "code",
   "execution_count": 32,
   "outputs": [],
   "source": [
    "#B1.0\n",
    "path_B2 = 'STRING_RESULT/B3.0.1/all_iterations'\n",
    "\n",
    "# Open all dataframes\n",
    "S1 = pd.read_csv(f'{path_B2}/all_iterations_string_T0_3644.csv')\n",
    "S2 = pd.read_csv(f'{path_B2}/all_iterations_string_T0_3441.csv')\n",
    "S3 = pd.read_csv(f'{path_B2}/all_iterations_string_T0_280.csv')\n",
    "S4 = pd.read_csv(f'{path_B2}/all_iterations_string_T0_5991.csv')\n",
    "S5 = pd.read_csv(f'{path_B2}/all_iterations_string_T0_7917.csv')\n",
    "\n",
    "# Combine all dataframes into one\n",
    "B2_full = pd.concat([S1, S2, S3, S4, S5], ignore_index=True)"
   ],
   "metadata": {
    "collapsed": false,
    "ExecuteTime": {
     "start_time": "2024-06-07T17:26:40.785615Z",
     "end_time": "2024-06-07T17:26:40.885824Z"
    }
   }
  },
  {
   "cell_type": "code",
   "execution_count": 33,
   "outputs": [
    {
     "data": {
      "text/plain": "(1550, 6)"
     },
     "execution_count": 33,
     "metadata": {},
     "output_type": "execute_result"
    }
   ],
   "source": [
    "# Filter rows to keep only those where the unique_id appears exactly 5 times\n",
    "filtered_B2 = B2_full.groupby('unique_id').filter(lambda x: len(x) == 5)\n",
    "filtered_B2.shape"
   ],
   "metadata": {
    "collapsed": false,
    "ExecuteTime": {
     "start_time": "2024-06-07T17:26:42.792325Z",
     "end_time": "2024-06-07T17:26:42.891168Z"
    }
   }
  },
  {
   "cell_type": "code",
   "execution_count": 5,
   "outputs": [],
   "source": [
    "# List of unique_id's that are annotated 5 times\n",
    "unique_ids = filtered_B2['unique_id'].unique().tolist()"
   ],
   "metadata": {
    "collapsed": false
   }
  },
  {
   "cell_type": "code",
   "execution_count": 6,
   "outputs": [],
   "source": [
    "# Filter all original dataframes to only include sentences that are annotated 5x by other seeds\n",
    "FB1S1 = S1[S1['unique_id'].isin(unique_ids)]\n",
    "FB1S2 = S2[S2['unique_id'].isin(unique_ids)]\n",
    "FB1S3 = S3[S3['unique_id'].isin(unique_ids)]\n",
    "FB1S4 = S4[S4['unique_id'].isin(unique_ids)]\n",
    "FB1S5 = S5[S5['unique_id'].isin(unique_ids)]"
   ],
   "metadata": {
    "collapsed": false
   }
  },
  {
   "cell_type": "code",
   "execution_count": 7,
   "outputs": [
    {
     "name": "stdout",
     "output_type": "stream",
     "text": [
      "Classification Report for S1\n",
      "                             precision    recall  f1-score    support\n",
      "egalitarian                   0.733333  0.687500  0.709677  16.000000\n",
      "general normative statement   0.800000  0.250000  0.380952  16.000000\n",
      "libertarian                   0.000000  0.000000  0.000000   3.000000\n",
      "prioritarian                  0.600000  1.000000  0.750000   6.000000\n",
      "sufficientarian               0.000000  0.000000  0.000000   2.000000\n",
      "utilitarian                   0.235294  0.666667  0.347826   6.000000\n",
      "accuracy                      0.510204  0.510204  0.510204   0.510204\n",
      "macro avg                     0.394771  0.434028  0.364743  49.000000\n",
      "weighted avg                  0.602961  0.510204  0.490552  49.000000\n",
      "\n",
      "\n",
      "Classification Report for S2\n",
      "                             precision    recall  f1-score    support\n",
      "egalitarian                   0.733333  0.687500  0.709677  16.000000\n",
      "general normative statement   0.800000  0.250000  0.380952  16.000000\n",
      "libertarian                   1.000000  0.333333  0.500000   3.000000\n",
      "prioritarian                  0.666667  1.000000  0.800000   6.000000\n",
      "sufficientarian               0.000000  0.000000  0.000000   2.000000\n",
      "utilitarian                   0.222222  0.666667  0.333333   6.000000\n",
      "accuracy                      0.530612  0.530612  0.530612   0.530612\n",
      "macro avg                     0.570370  0.489583  0.453994  49.000000\n",
      "weighted avg                  0.670748  0.530612  0.525512  49.000000\n",
      "\n",
      "\n",
      "Classification Report for S3\n",
      "                             precision    recall  f1-score    support\n",
      "egalitarian                   0.733333  0.687500  0.709677  16.000000\n",
      "general normative statement   0.666667  0.250000  0.363636  16.000000\n",
      "libertarian                   0.000000  0.000000  0.000000   3.000000\n",
      "prioritarian                  0.666667  1.000000  0.800000   6.000000\n",
      "sufficientarian               0.000000  0.000000  0.000000   2.000000\n",
      "utilitarian                   0.235294  0.666667  0.347826   6.000000\n",
      "accuracy                      0.510204  0.510204  0.510204   0.510204\n",
      "macro avg                     0.383660  0.434028  0.370190  49.000000\n",
      "weighted avg                  0.567587  0.510204  0.491020  49.000000\n",
      "\n",
      "\n",
      "Classification Report for S4\n",
      "                             precision    recall  f1-score    support\n",
      "egalitarian                   0.733333  0.687500  0.709677  16.000000\n",
      "general normative statement   0.833333  0.312500  0.454545  16.000000\n",
      "libertarian                   0.000000  0.000000  0.000000   3.000000\n",
      "prioritarian                  0.666667  1.000000  0.800000   6.000000\n",
      "sufficientarian               0.000000  0.000000  0.000000   2.000000\n",
      "utilitarian                   0.235294  0.666667  0.347826   6.000000\n",
      "accuracy                      0.530612  0.530612  0.530612   0.530612\n",
      "macro avg                     0.411438  0.444444  0.385341  49.000000\n",
      "weighted avg                  0.622009  0.530612  0.520705  49.000000\n",
      "\n",
      "\n",
      "Classification Report for S5\n",
      "                             precision    recall  f1-score    support\n",
      "egalitarian                   0.733333  0.687500  0.709677  16.000000\n",
      "general normative statement   0.800000  0.250000  0.380952  16.000000\n",
      "libertarian                   0.000000  0.000000  0.000000   3.000000\n",
      "prioritarian                  0.666667  1.000000  0.800000   6.000000\n",
      "sufficientarian               0.000000  0.000000  0.000000   2.000000\n",
      "utilitarian                   0.210526  0.666667  0.320000   6.000000\n",
      "accuracy                      0.510204  0.510204  0.510204   0.510204\n",
      "macro avg                     0.401754  0.434028  0.368438  49.000000\n",
      "weighted avg                  0.608092  0.510204  0.493267  49.000000\n",
      "\n",
      "\n"
     ]
    },
    {
     "name": "stderr",
     "output_type": "stream",
     "text": [
      "C:\\App\\Python\\Lib\\site-packages\\sklearn\\metrics\\_classification.py:1344: UndefinedMetricWarning: Precision and F-score are ill-defined and being set to 0.0 in labels with no predicted samples. Use `zero_division` parameter to control this behavior.\n",
      "  _warn_prf(average, modifier, msg_start, len(result))\n",
      "C:\\App\\Python\\Lib\\site-packages\\sklearn\\metrics\\_classification.py:1344: UndefinedMetricWarning: Precision and F-score are ill-defined and being set to 0.0 in labels with no predicted samples. Use `zero_division` parameter to control this behavior.\n",
      "  _warn_prf(average, modifier, msg_start, len(result))\n",
      "C:\\App\\Python\\Lib\\site-packages\\sklearn\\metrics\\_classification.py:1344: UndefinedMetricWarning: Precision and F-score are ill-defined and being set to 0.0 in labels with no predicted samples. Use `zero_division` parameter to control this behavior.\n",
      "  _warn_prf(average, modifier, msg_start, len(result))\n",
      "C:\\App\\Python\\Lib\\site-packages\\sklearn\\metrics\\_classification.py:1344: UndefinedMetricWarning: Precision and F-score are ill-defined and being set to 0.0 in labels with no predicted samples. Use `zero_division` parameter to control this behavior.\n",
      "  _warn_prf(average, modifier, msg_start, len(result))\n",
      "C:\\App\\Python\\Lib\\site-packages\\sklearn\\metrics\\_classification.py:1344: UndefinedMetricWarning: Precision and F-score are ill-defined and being set to 0.0 in labels with no predicted samples. Use `zero_division` parameter to control this behavior.\n",
      "  _warn_prf(average, modifier, msg_start, len(result))\n",
      "C:\\App\\Python\\Lib\\site-packages\\sklearn\\metrics\\_classification.py:1344: UndefinedMetricWarning: Precision and F-score are ill-defined and being set to 0.0 in labels with no predicted samples. Use `zero_division` parameter to control this behavior.\n",
      "  _warn_prf(average, modifier, msg_start, len(result))\n",
      "C:\\App\\Python\\Lib\\site-packages\\sklearn\\metrics\\_classification.py:1344: UndefinedMetricWarning: Precision and F-score are ill-defined and being set to 0.0 in labels with no predicted samples. Use `zero_division` parameter to control this behavior.\n",
      "  _warn_prf(average, modifier, msg_start, len(result))\n",
      "C:\\App\\Python\\Lib\\site-packages\\sklearn\\metrics\\_classification.py:1344: UndefinedMetricWarning: Precision and F-score are ill-defined and being set to 0.0 in labels with no predicted samples. Use `zero_division` parameter to control this behavior.\n",
      "  _warn_prf(average, modifier, msg_start, len(result))\n",
      "C:\\App\\Python\\Lib\\site-packages\\sklearn\\metrics\\_classification.py:1344: UndefinedMetricWarning: Precision and F-score are ill-defined and being set to 0.0 in labels with no predicted samples. Use `zero_division` parameter to control this behavior.\n",
      "  _warn_prf(average, modifier, msg_start, len(result))\n",
      "C:\\App\\Python\\Lib\\site-packages\\sklearn\\metrics\\_classification.py:1344: UndefinedMetricWarning: Precision and F-score are ill-defined and being set to 0.0 in labels with no predicted samples. Use `zero_division` parameter to control this behavior.\n",
      "  _warn_prf(average, modifier, msg_start, len(result))\n",
      "C:\\App\\Python\\Lib\\site-packages\\sklearn\\metrics\\_classification.py:1344: UndefinedMetricWarning: Precision and F-score are ill-defined and being set to 0.0 in labels with no predicted samples. Use `zero_division` parameter to control this behavior.\n",
      "  _warn_prf(average, modifier, msg_start, len(result))\n",
      "C:\\App\\Python\\Lib\\site-packages\\sklearn\\metrics\\_classification.py:1344: UndefinedMetricWarning: Precision and F-score are ill-defined and being set to 0.0 in labels with no predicted samples. Use `zero_division` parameter to control this behavior.\n",
      "  _warn_prf(average, modifier, msg_start, len(result))\n"
     ]
    }
   ],
   "source": [
    "# Evaluate performance of individual seeds for the same sentences\n",
    "# Function to generate classification report for each dataframe\n",
    "def generate_classification_report(df, true_label_col, pred_label_col):\n",
    "    return classification_report(df[true_label_col], df[pred_label_col], output_dict=True)\n",
    "\n",
    "# Generate classification reports\n",
    "report_S1 = generate_classification_report(FB1S1, 'PRINCIPLE_x', 'PRINCIPLE_y')\n",
    "report_S2 = generate_classification_report(FB1S2, 'PRINCIPLE_x', 'PRINCIPLE_y')\n",
    "report_S3 = generate_classification_report(FB1S3, 'PRINCIPLE_x', 'PRINCIPLE_y')\n",
    "report_S4 = generate_classification_report(FB1S4, 'PRINCIPLE_x', 'PRINCIPLE_y')\n",
    "report_S5 = generate_classification_report(FB1S5, 'PRINCIPLE_x', 'PRINCIPLE_y')\n",
    "\n",
    "# Function to print the classification reports for easy comparison\n",
    "def print_classification_report(report, title):\n",
    "    print(f\"Classification Report for {title}\")\n",
    "    print(pd.DataFrame(report).transpose())\n",
    "    print(\"\\n\")\n",
    "\n",
    "# Print the classification reports\n",
    "print_classification_report(report_S1, \"S1\")\n",
    "print_classification_report(report_S2, \"S2\")\n",
    "print_classification_report(report_S3, \"S3\")\n",
    "print_classification_report(report_S4, \"S4\")\n",
    "print_classification_report(report_S5, \"S5\")"
   ],
   "metadata": {
    "collapsed": false
   }
  },
  {
   "cell_type": "markdown",
   "source": [
    "Evaluate consistency of predictions over the 5 different instances - see which sentences are not consistantly predicted.\n"
   ],
   "metadata": {
    "collapsed": false
   }
  },
  {
   "cell_type": "code",
   "execution_count": 34,
   "outputs": [
    {
     "data": {
      "text/plain": "(215, 6)"
     },
     "execution_count": 34,
     "metadata": {},
     "output_type": "execute_result"
    }
   ],
   "source": [
    "# I want to evaluate consistency\n",
    "# Print all rows where inconsequences are found per seed\n",
    "# Define a function to check if all values in relevance_y are the same\n",
    "def relevance_y_not_uniform(group):\n",
    "    return group['PRINCIPLE_y'].nunique() != 1\n",
    "\n",
    "\n",
    "# Group by 'ID' and filter groups\n",
    "B2_consistency = filtered_B2.groupby('unique_id').filter(relevance_y_not_uniform)\n",
    "\n",
    "B2_consistency.shape"
   ],
   "metadata": {
    "collapsed": false,
    "ExecuteTime": {
     "start_time": "2024-06-07T17:27:15.258542Z",
     "end_time": "2024-06-07T17:27:15.349979Z"
    }
   }
  },
  {
   "cell_type": "markdown",
   "source": [
    "\n",
    "In combined dataframe, groupyby unique ID and take the majority label"
   ],
   "metadata": {
    "collapsed": false
   }
  },
  {
   "cell_type": "code",
   "execution_count": 35,
   "outputs": [],
   "source": [
    "# Define a function to get the most frequent element\n",
    "def most_frequent(x):\n",
    "    return Counter(x).most_common(1)[0][0]\n",
    "\n",
    "# List of all columns\n",
    "all_columns = filtered_B2.columns.tolist()\n",
    "\n",
    "# Dictionary to specify aggregation functions\n",
    "agg_dict = {col: 'first' for col in all_columns if col not in ['unique_id', 'PRINCIPLE_y']}\n",
    "agg_dict['PRINCIPLE_y'] = most_frequent\n",
    "\n",
    "# Group by 'unique_id' and apply the aggregation functions\n",
    "filtered_B2_grouped = filtered_B2.groupby('unique_id').agg(agg_dict).reset_index()\n"
   ],
   "metadata": {
    "collapsed": false,
    "ExecuteTime": {
     "start_time": "2024-06-07T17:27:30.085831Z",
     "end_time": "2024-06-07T17:27:30.103148Z"
    }
   }
  },
  {
   "cell_type": "code",
   "execution_count": 36,
   "outputs": [
    {
     "name": "stdout",
     "output_type": "stream",
     "text": [
      "                             precision    recall  f1-score   support\n",
      "\n",
      "                egalitarian       0.36      0.71      0.48        14\n",
      "general normative statement       0.09      0.36      0.14        14\n",
      "                libertarian       0.00      0.00      0.00         3\n",
      "              not evaluated       0.98      0.62      0.76       265\n",
      "               prioritarian       0.28      0.83      0.42         6\n",
      "            sufficientarian       0.00      0.00      0.00         2\n",
      "                utilitarian       0.08      0.50      0.14         6\n",
      "\n",
      "                   accuracy                           0.60       310\n",
      "                  macro avg       0.25      0.43      0.28       310\n",
      "               weighted avg       0.86      0.60      0.69       310\n",
      "\n"
     ]
    },
    {
     "name": "stderr",
     "output_type": "stream",
     "text": [
      "C:\\App\\Python\\Lib\\site-packages\\sklearn\\metrics\\_classification.py:1344: UndefinedMetricWarning: Precision and F-score are ill-defined and being set to 0.0 in labels with no predicted samples. Use `zero_division` parameter to control this behavior.\n",
      "  _warn_prf(average, modifier, msg_start, len(result))\n",
      "C:\\App\\Python\\Lib\\site-packages\\sklearn\\metrics\\_classification.py:1344: UndefinedMetricWarning: Precision and F-score are ill-defined and being set to 0.0 in labels with no predicted samples. Use `zero_division` parameter to control this behavior.\n",
      "  _warn_prf(average, modifier, msg_start, len(result))\n",
      "C:\\App\\Python\\Lib\\site-packages\\sklearn\\metrics\\_classification.py:1344: UndefinedMetricWarning: Precision and F-score are ill-defined and being set to 0.0 in labels with no predicted samples. Use `zero_division` parameter to control this behavior.\n",
      "  _warn_prf(average, modifier, msg_start, len(result))\n"
     ]
    }
   ],
   "source": [
    "# Evaluate performance of this dataframe\n",
    "print(classification_report(filtered_B2_grouped['PRINCIPLE_x'],filtered_B2_grouped['PRINCIPLE_y']))"
   ],
   "metadata": {
    "collapsed": false,
    "ExecuteTime": {
     "start_time": "2024-06-07T17:27:31.417985Z",
     "end_time": "2024-06-07T17:27:31.518276Z"
    }
   }
  },
  {
   "cell_type": "code",
   "execution_count": null,
   "outputs": [],
   "source": [],
   "metadata": {
    "collapsed": false
   }
  },
  {
   "cell_type": "markdown",
   "source": [
    "### B3.1"
   ],
   "metadata": {
    "collapsed": false
   }
  },
  {
   "cell_type": "code",
   "execution_count": 2,
   "outputs": [],
   "source": [
    "#B1.0\n",
    "path_B2 = 'STRING_RESULT/B3.1/all_iterations'\n",
    "\n",
    "# Open all dataframes\n",
    "S1 = pd.read_csv(f'{path_B2}/all_iterations_string_T0_3644.csv')\n",
    "S2 = pd.read_csv(f'{path_B2}/all_iterations_string_T0_3441.csv')\n",
    "S3 = pd.read_csv(f'{path_B2}/all_iterations_string_T0_280.csv')\n",
    "S4 = pd.read_csv(f'{path_B2}/all_iterations_string_T0_5991.csv')\n",
    "S5 = pd.read_csv(f'{path_B2}/all_iterations_string_T0_7917.csv')\n",
    "\n",
    "# Combine all dataframes into one\n",
    "B2_full = pd.concat([S1, S2, S3, S4, S5], ignore_index=True)"
   ],
   "metadata": {
    "collapsed": false,
    "ExecuteTime": {
     "start_time": "2024-06-07T17:28:35.122336Z",
     "end_time": "2024-06-07T17:28:35.211827Z"
    }
   }
  },
  {
   "cell_type": "code",
   "execution_count": 3,
   "outputs": [
    {
     "data": {
      "text/plain": "(950, 6)"
     },
     "execution_count": 3,
     "metadata": {},
     "output_type": "execute_result"
    }
   ],
   "source": [
    "# Filter rows to keep only those where the unique_id appears exactly 5 times\n",
    "filtered_B2 = B2_full.groupby('unique_id').filter(lambda x: len(x) == 5)\n",
    "filtered_B2.shape"
   ],
   "metadata": {
    "collapsed": false,
    "ExecuteTime": {
     "start_time": "2024-06-07T17:28:37.153053Z",
     "end_time": "2024-06-07T17:28:37.289825Z"
    }
   }
  },
  {
   "cell_type": "code",
   "execution_count": 4,
   "outputs": [],
   "source": [
    "# List of unique_id's that are annotated 5 times\n",
    "unique_ids = filtered_B2['unique_id'].unique().tolist()"
   ],
   "metadata": {
    "collapsed": false,
    "ExecuteTime": {
     "start_time": "2024-06-07T17:28:45.640225Z",
     "end_time": "2024-06-07T17:28:45.647866Z"
    }
   }
  },
  {
   "cell_type": "code",
   "execution_count": 5,
   "outputs": [],
   "source": [
    "# Filter all original dataframes to only include sentences that are annotated 5x by other seeds\n",
    "FB1S1 = S1[S1['unique_id'].isin(unique_ids)]\n",
    "FB1S2 = S2[S2['unique_id'].isin(unique_ids)]\n",
    "FB1S3 = S3[S3['unique_id'].isin(unique_ids)]\n",
    "FB1S4 = S4[S4['unique_id'].isin(unique_ids)]\n",
    "FB1S5 = S5[S5['unique_id'].isin(unique_ids)]"
   ],
   "metadata": {
    "collapsed": false,
    "ExecuteTime": {
     "start_time": "2024-06-07T17:28:49.254067Z",
     "end_time": "2024-06-07T17:28:49.274237Z"
    }
   }
  },
  {
   "cell_type": "code",
   "execution_count": 7,
   "outputs": [
    {
     "name": "stdout",
     "output_type": "stream",
     "text": [
      "Classification Report for S1\n",
      "                             precision    recall  f1-score    support\n",
      "egalitarian                   0.733333  0.687500  0.709677  16.000000\n",
      "general normative statement   0.800000  0.250000  0.380952  16.000000\n",
      "libertarian                   0.000000  0.000000  0.000000   3.000000\n",
      "prioritarian                  0.600000  1.000000  0.750000   6.000000\n",
      "sufficientarian               0.000000  0.000000  0.000000   2.000000\n",
      "utilitarian                   0.235294  0.666667  0.347826   6.000000\n",
      "accuracy                      0.510204  0.510204  0.510204   0.510204\n",
      "macro avg                     0.394771  0.434028  0.364743  49.000000\n",
      "weighted avg                  0.602961  0.510204  0.490552  49.000000\n",
      "\n",
      "\n",
      "Classification Report for S2\n",
      "                             precision    recall  f1-score    support\n",
      "egalitarian                   0.733333  0.687500  0.709677  16.000000\n",
      "general normative statement   0.800000  0.250000  0.380952  16.000000\n",
      "libertarian                   1.000000  0.333333  0.500000   3.000000\n",
      "prioritarian                  0.666667  1.000000  0.800000   6.000000\n",
      "sufficientarian               0.000000  0.000000  0.000000   2.000000\n",
      "utilitarian                   0.222222  0.666667  0.333333   6.000000\n",
      "accuracy                      0.530612  0.530612  0.530612   0.530612\n",
      "macro avg                     0.570370  0.489583  0.453994  49.000000\n",
      "weighted avg                  0.670748  0.530612  0.525512  49.000000\n",
      "\n",
      "\n",
      "Classification Report for S3\n",
      "                             precision    recall  f1-score    support\n",
      "egalitarian                   0.733333  0.687500  0.709677  16.000000\n",
      "general normative statement   0.666667  0.250000  0.363636  16.000000\n",
      "libertarian                   0.000000  0.000000  0.000000   3.000000\n",
      "prioritarian                  0.666667  1.000000  0.800000   6.000000\n",
      "sufficientarian               0.000000  0.000000  0.000000   2.000000\n",
      "utilitarian                   0.235294  0.666667  0.347826   6.000000\n",
      "accuracy                      0.510204  0.510204  0.510204   0.510204\n",
      "macro avg                     0.383660  0.434028  0.370190  49.000000\n",
      "weighted avg                  0.567587  0.510204  0.491020  49.000000\n",
      "\n",
      "\n",
      "Classification Report for S4\n",
      "                             precision    recall  f1-score    support\n",
      "egalitarian                   0.733333  0.687500  0.709677  16.000000\n",
      "general normative statement   0.833333  0.312500  0.454545  16.000000\n",
      "libertarian                   0.000000  0.000000  0.000000   3.000000\n",
      "prioritarian                  0.666667  1.000000  0.800000   6.000000\n",
      "sufficientarian               0.000000  0.000000  0.000000   2.000000\n",
      "utilitarian                   0.235294  0.666667  0.347826   6.000000\n",
      "accuracy                      0.530612  0.530612  0.530612   0.530612\n",
      "macro avg                     0.411438  0.444444  0.385341  49.000000\n",
      "weighted avg                  0.622009  0.530612  0.520705  49.000000\n",
      "\n",
      "\n",
      "Classification Report for S5\n",
      "                             precision    recall  f1-score    support\n",
      "egalitarian                   0.733333  0.687500  0.709677  16.000000\n",
      "general normative statement   0.800000  0.250000  0.380952  16.000000\n",
      "libertarian                   0.000000  0.000000  0.000000   3.000000\n",
      "prioritarian                  0.666667  1.000000  0.800000   6.000000\n",
      "sufficientarian               0.000000  0.000000  0.000000   2.000000\n",
      "utilitarian                   0.210526  0.666667  0.320000   6.000000\n",
      "accuracy                      0.510204  0.510204  0.510204   0.510204\n",
      "macro avg                     0.401754  0.434028  0.368438  49.000000\n",
      "weighted avg                  0.608092  0.510204  0.493267  49.000000\n",
      "\n",
      "\n"
     ]
    },
    {
     "name": "stderr",
     "output_type": "stream",
     "text": [
      "C:\\App\\Python\\Lib\\site-packages\\sklearn\\metrics\\_classification.py:1344: UndefinedMetricWarning: Precision and F-score are ill-defined and being set to 0.0 in labels with no predicted samples. Use `zero_division` parameter to control this behavior.\n",
      "  _warn_prf(average, modifier, msg_start, len(result))\n",
      "C:\\App\\Python\\Lib\\site-packages\\sklearn\\metrics\\_classification.py:1344: UndefinedMetricWarning: Precision and F-score are ill-defined and being set to 0.0 in labels with no predicted samples. Use `zero_division` parameter to control this behavior.\n",
      "  _warn_prf(average, modifier, msg_start, len(result))\n",
      "C:\\App\\Python\\Lib\\site-packages\\sklearn\\metrics\\_classification.py:1344: UndefinedMetricWarning: Precision and F-score are ill-defined and being set to 0.0 in labels with no predicted samples. Use `zero_division` parameter to control this behavior.\n",
      "  _warn_prf(average, modifier, msg_start, len(result))\n",
      "C:\\App\\Python\\Lib\\site-packages\\sklearn\\metrics\\_classification.py:1344: UndefinedMetricWarning: Precision and F-score are ill-defined and being set to 0.0 in labels with no predicted samples. Use `zero_division` parameter to control this behavior.\n",
      "  _warn_prf(average, modifier, msg_start, len(result))\n",
      "C:\\App\\Python\\Lib\\site-packages\\sklearn\\metrics\\_classification.py:1344: UndefinedMetricWarning: Precision and F-score are ill-defined and being set to 0.0 in labels with no predicted samples. Use `zero_division` parameter to control this behavior.\n",
      "  _warn_prf(average, modifier, msg_start, len(result))\n",
      "C:\\App\\Python\\Lib\\site-packages\\sklearn\\metrics\\_classification.py:1344: UndefinedMetricWarning: Precision and F-score are ill-defined and being set to 0.0 in labels with no predicted samples. Use `zero_division` parameter to control this behavior.\n",
      "  _warn_prf(average, modifier, msg_start, len(result))\n",
      "C:\\App\\Python\\Lib\\site-packages\\sklearn\\metrics\\_classification.py:1344: UndefinedMetricWarning: Precision and F-score are ill-defined and being set to 0.0 in labels with no predicted samples. Use `zero_division` parameter to control this behavior.\n",
      "  _warn_prf(average, modifier, msg_start, len(result))\n",
      "C:\\App\\Python\\Lib\\site-packages\\sklearn\\metrics\\_classification.py:1344: UndefinedMetricWarning: Precision and F-score are ill-defined and being set to 0.0 in labels with no predicted samples. Use `zero_division` parameter to control this behavior.\n",
      "  _warn_prf(average, modifier, msg_start, len(result))\n",
      "C:\\App\\Python\\Lib\\site-packages\\sklearn\\metrics\\_classification.py:1344: UndefinedMetricWarning: Precision and F-score are ill-defined and being set to 0.0 in labels with no predicted samples. Use `zero_division` parameter to control this behavior.\n",
      "  _warn_prf(average, modifier, msg_start, len(result))\n",
      "C:\\App\\Python\\Lib\\site-packages\\sklearn\\metrics\\_classification.py:1344: UndefinedMetricWarning: Precision and F-score are ill-defined and being set to 0.0 in labels with no predicted samples. Use `zero_division` parameter to control this behavior.\n",
      "  _warn_prf(average, modifier, msg_start, len(result))\n",
      "C:\\App\\Python\\Lib\\site-packages\\sklearn\\metrics\\_classification.py:1344: UndefinedMetricWarning: Precision and F-score are ill-defined and being set to 0.0 in labels with no predicted samples. Use `zero_division` parameter to control this behavior.\n",
      "  _warn_prf(average, modifier, msg_start, len(result))\n",
      "C:\\App\\Python\\Lib\\site-packages\\sklearn\\metrics\\_classification.py:1344: UndefinedMetricWarning: Precision and F-score are ill-defined and being set to 0.0 in labels with no predicted samples. Use `zero_division` parameter to control this behavior.\n",
      "  _warn_prf(average, modifier, msg_start, len(result))\n"
     ]
    }
   ],
   "source": [
    "# Evaluate performance of individual seeds for the same sentences\n",
    "# Function to generate classification report for each dataframe\n",
    "def generate_classification_report(df, true_label_col, pred_label_col):\n",
    "    return classification_report(df[true_label_col], df[pred_label_col], output_dict=True)\n",
    "\n",
    "# Generate classification reports\n",
    "report_S1 = generate_classification_report(FB1S1, 'PRINCIPLE_x', 'PRINCIPLE_y')\n",
    "report_S2 = generate_classification_report(FB1S2, 'PRINCIPLE_x', 'PRINCIPLE_y')\n",
    "report_S3 = generate_classification_report(FB1S3, 'PRINCIPLE_x', 'PRINCIPLE_y')\n",
    "report_S4 = generate_classification_report(FB1S4, 'PRINCIPLE_x', 'PRINCIPLE_y')\n",
    "report_S5 = generate_classification_report(FB1S5, 'PRINCIPLE_x', 'PRINCIPLE_y')\n",
    "\n",
    "# Function to print the classification reports for easy comparison\n",
    "def print_classification_report(report, title):\n",
    "    print(f\"Classification Report for {title}\")\n",
    "    print(pd.DataFrame(report).transpose())\n",
    "    print(\"\\n\")\n",
    "\n",
    "# Print the classification reports\n",
    "print_classification_report(report_S1, \"S1\")\n",
    "print_classification_report(report_S2, \"S2\")\n",
    "print_classification_report(report_S3, \"S3\")\n",
    "print_classification_report(report_S4, \"S4\")\n",
    "print_classification_report(report_S5, \"S5\")"
   ],
   "metadata": {
    "collapsed": false
   }
  },
  {
   "cell_type": "markdown",
   "source": [
    "Evaluate consistency of predictions over the 5 different instances - see which sentences are not consistantly predicted.\n"
   ],
   "metadata": {
    "collapsed": false
   }
  },
  {
   "cell_type": "code",
   "execution_count": 6,
   "outputs": [
    {
     "data": {
      "text/plain": "(165, 6)"
     },
     "execution_count": 6,
     "metadata": {},
     "output_type": "execute_result"
    }
   ],
   "source": [
    "# I want to evaluate consistency\n",
    "# Print all rows where inconsequences are found per seed\n",
    "# Define a function to check if all values in relevance_y are the same\n",
    "def relevance_y_not_uniform(group):\n",
    "    return group['PRINCIPLE_y'].nunique() != 1\n",
    "\n",
    "\n",
    "# Group by 'ID' and filter groups\n",
    "B2_consistency = filtered_B2.groupby('unique_id').filter(relevance_y_not_uniform)\n",
    "\n",
    "B2_consistency.shape"
   ],
   "metadata": {
    "collapsed": false,
    "ExecuteTime": {
     "start_time": "2024-06-07T17:28:52.453622Z",
     "end_time": "2024-06-07T17:28:52.592401Z"
    }
   }
  },
  {
   "cell_type": "markdown",
   "source": [
    "\n",
    "In combined dataframe, groupyby unique ID and take the majority label"
   ],
   "metadata": {
    "collapsed": false
   }
  },
  {
   "cell_type": "code",
   "execution_count": 7,
   "outputs": [],
   "source": [
    "# Define a function to get the most frequent element\n",
    "def most_frequent(x):\n",
    "    return Counter(x).most_common(1)[0][0]\n",
    "\n",
    "# List of all columns\n",
    "all_columns = filtered_B2.columns.tolist()\n",
    "\n",
    "# Dictionary to specify aggregation functions\n",
    "agg_dict = {col: 'first' for col in all_columns if col not in ['unique_id', 'PRINCIPLE_y']}\n",
    "agg_dict['PRINCIPLE_y'] = most_frequent\n",
    "\n",
    "# Group by 'unique_id' and apply the aggregation functions\n",
    "filtered_B2_grouped = filtered_B2.groupby('unique_id').agg(agg_dict).reset_index()\n"
   ],
   "metadata": {
    "collapsed": false,
    "ExecuteTime": {
     "start_time": "2024-06-07T17:29:03.182317Z",
     "end_time": "2024-06-07T17:29:03.211912Z"
    }
   }
  },
  {
   "cell_type": "code",
   "execution_count": 8,
   "outputs": [
    {
     "name": "stdout",
     "output_type": "stream",
     "text": [
      "                             precision    recall  f1-score   support\n",
      "\n",
      "                egalitarian       0.39      0.88      0.54         8\n",
      "general normative statement       0.18      0.64      0.29        11\n",
      "                libertarian       0.00      0.00      0.00         1\n",
      "              not evaluated       1.00      0.71      0.83       157\n",
      "               prioritarian       0.42      1.00      0.59         5\n",
      "            sufficientarian       0.00      0.00      0.00         2\n",
      "                utilitarian       0.20      0.33      0.25         6\n",
      "\n",
      "                   accuracy                           0.69       190\n",
      "                  macro avg       0.31      0.51      0.36       190\n",
      "               weighted avg       0.87      0.69      0.75       190\n",
      "\n"
     ]
    },
    {
     "name": "stderr",
     "output_type": "stream",
     "text": [
      "C:\\App\\Python\\Lib\\site-packages\\sklearn\\metrics\\_classification.py:1344: UndefinedMetricWarning: Precision and F-score are ill-defined and being set to 0.0 in labels with no predicted samples. Use `zero_division` parameter to control this behavior.\n",
      "  _warn_prf(average, modifier, msg_start, len(result))\n",
      "C:\\App\\Python\\Lib\\site-packages\\sklearn\\metrics\\_classification.py:1344: UndefinedMetricWarning: Precision and F-score are ill-defined and being set to 0.0 in labels with no predicted samples. Use `zero_division` parameter to control this behavior.\n",
      "  _warn_prf(average, modifier, msg_start, len(result))\n",
      "C:\\App\\Python\\Lib\\site-packages\\sklearn\\metrics\\_classification.py:1344: UndefinedMetricWarning: Precision and F-score are ill-defined and being set to 0.0 in labels with no predicted samples. Use `zero_division` parameter to control this behavior.\n",
      "  _warn_prf(average, modifier, msg_start, len(result))\n"
     ]
    }
   ],
   "source": [
    "# Evaluate performance of this dataframe\n",
    "print(classification_report(filtered_B2_grouped['PRINCIPLE_x'],filtered_B2_grouped['PRINCIPLE_y']))"
   ],
   "metadata": {
    "collapsed": false,
    "ExecuteTime": {
     "start_time": "2024-06-07T17:29:04.898919Z",
     "end_time": "2024-06-07T17:29:04.936585Z"
    }
   }
  },
  {
   "cell_type": "code",
   "execution_count": null,
   "outputs": [],
   "source": [],
   "metadata": {
    "collapsed": false
   }
  },
  {
   "cell_type": "markdown",
   "source": [
    "### B3.1.1"
   ],
   "metadata": {
    "collapsed": false
   }
  },
  {
   "cell_type": "code",
   "execution_count": 9,
   "outputs": [],
   "source": [
    "#B1.0\n",
    "path_B2 = 'STRING_RESULT/B3.1.1/all_iterations'\n",
    "\n",
    "# Open all dataframes\n",
    "S1 = pd.read_csv(f'{path_B2}/all_iterations_string_T0_3644.csv')\n",
    "S2 = pd.read_csv(f'{path_B2}/all_iterations_string_T0_3441.csv')\n",
    "S3 = pd.read_csv(f'{path_B2}/all_iterations_string_T0_280.csv')\n",
    "S4 = pd.read_csv(f'{path_B2}/all_iterations_string_T0_5991.csv')\n",
    "S5 = pd.read_csv(f'{path_B2}/all_iterations_string_T0_7917.csv')\n",
    "\n",
    "# Combine all dataframes into one\n",
    "B2_full = pd.concat([S1, S2, S3, S4, S5], ignore_index=True)"
   ],
   "metadata": {
    "collapsed": false,
    "ExecuteTime": {
     "start_time": "2024-06-07T17:29:39.756208Z",
     "end_time": "2024-06-07T17:29:39.877620Z"
    }
   }
  },
  {
   "cell_type": "code",
   "execution_count": 10,
   "outputs": [
    {
     "data": {
      "text/plain": "(1250, 6)"
     },
     "execution_count": 10,
     "metadata": {},
     "output_type": "execute_result"
    }
   ],
   "source": [
    "# Filter rows to keep only those where the unique_id appears exactly 5 times\n",
    "filtered_B2 = B2_full.groupby('unique_id').filter(lambda x: len(x) == 5)\n",
    "filtered_B2.shape"
   ],
   "metadata": {
    "collapsed": false,
    "ExecuteTime": {
     "start_time": "2024-06-07T17:29:42.475985Z",
     "end_time": "2024-06-07T17:29:42.567479Z"
    }
   }
  },
  {
   "cell_type": "code",
   "execution_count": 11,
   "outputs": [],
   "source": [
    "# List of unique_id's that are annotated 5 times\n",
    "unique_ids = filtered_B2['unique_id'].unique().tolist()"
   ],
   "metadata": {
    "collapsed": false,
    "ExecuteTime": {
     "start_time": "2024-06-07T17:29:52.517610Z",
     "end_time": "2024-06-07T17:29:52.540796Z"
    }
   }
  },
  {
   "cell_type": "code",
   "execution_count": 13,
   "outputs": [],
   "source": [
    "# Filter all original dataframes to only include sentences that are annotated 5x by other seeds\n",
    "FB1S1 = S1[S1['unique_id'].isin(unique_ids)]\n",
    "FB1S2 = S2[S2['unique_id'].isin(unique_ids)]\n",
    "FB1S3 = S3[S3['unique_id'].isin(unique_ids)]\n",
    "FB1S4 = S4[S4['unique_id'].isin(unique_ids)]\n",
    "FB1S5 = S5[S5['unique_id'].isin(unique_ids)]"
   ],
   "metadata": {
    "collapsed": false,
    "ExecuteTime": {
     "start_time": "2024-06-07T17:29:54.808583Z",
     "end_time": "2024-06-07T17:29:54.830682Z"
    }
   }
  },
  {
   "cell_type": "code",
   "execution_count": 14,
   "outputs": [
    {
     "name": "stdout",
     "output_type": "stream",
     "text": [
      "Classification Report for S1\n",
      "                             precision    recall  f1-score  support\n",
      "egalitarian                   0.400000  0.769231  0.526316   13.000\n",
      "general normative statement   0.166667  0.500000  0.250000   12.000\n",
      "libertarian                   1.000000  0.333333  0.500000    3.000\n",
      "not evaluated                 0.974359  0.723810  0.830601  210.000\n",
      "prioritarian                  0.375000  1.000000  0.545455    6.000\n",
      "sufficientarian               0.000000  0.000000  0.000000    1.000\n",
      "utilitarian                   0.071429  0.200000  0.105263    5.000\n",
      "accuracy                      0.704000  0.704000  0.704000    0.704\n",
      "macro avg                     0.426779  0.503768  0.393948  250.000\n",
      "weighted avg                  0.869690  0.704000  0.758270  250.000\n",
      "\n",
      "\n",
      "Classification Report for S2\n",
      "                             precision    recall  f1-score  support\n",
      "egalitarian                   0.416667  0.769231  0.540541   13.000\n",
      "general normative statement   0.136364  0.500000  0.214286   12.000\n",
      "libertarian                   0.000000  0.000000  0.000000    3.000\n",
      "not evaluated                 0.972414  0.671429  0.794366  210.000\n",
      "prioritarian                  0.294118  0.833333  0.434783    6.000\n",
      "sufficientarian               0.000000  0.000000  0.000000    1.000\n",
      "utilitarian                   0.058824  0.200000  0.090909    5.000\n",
      "accuracy                      0.652000  0.652000  0.652000    0.652\n",
      "macro avg                     0.268341  0.424856  0.296412  250.000\n",
      "weighted avg                  0.853275  0.652000  0.717914  250.000\n",
      "\n",
      "\n",
      "Classification Report for S3\n",
      "                             precision    recall  f1-score  support\n",
      "egalitarian                   0.384615  0.769231  0.512821   13.000\n",
      "general normative statement   0.150000  0.500000  0.230769   12.000\n",
      "libertarian                   0.000000  0.000000  0.000000    3.000\n",
      "not evaluated                 0.973154  0.690476  0.807799  210.000\n",
      "prioritarian                  0.333333  0.833333  0.476190    6.000\n",
      "sufficientarian               0.000000  0.000000  0.000000    1.000\n",
      "utilitarian                   0.058824  0.200000  0.090909    5.000\n",
      "accuracy                      0.668000  0.668000  0.668000    0.668\n",
      "macro avg                     0.271418  0.427577  0.302641  250.000\n",
      "weighted avg                  0.853826  0.668000  0.729542  250.000\n",
      "\n",
      "\n",
      "Classification Report for S4\n",
      "                             precision    recall  f1-score  support\n",
      "egalitarian                   0.400000  0.769231  0.526316   13.000\n",
      "general normative statement   0.137255  0.583333  0.222222   12.000\n",
      "libertarian                   0.000000  0.000000  0.000000    3.000\n",
      "not evaluated                 0.993103  0.685714  0.811268  210.000\n",
      "prioritarian                  0.312500  0.833333  0.454545    6.000\n",
      "sufficientarian               0.000000  0.000000  0.000000    1.000\n",
      "utilitarian                   0.083333  0.200000  0.117647    5.000\n",
      "accuracy                      0.668000  0.668000  0.668000    0.668\n",
      "macro avg                     0.275170  0.438802  0.304571  250.000\n",
      "weighted avg                  0.870762  0.668000  0.732762  250.000\n",
      "\n",
      "\n",
      "Classification Report for S5\n",
      "                             precision    recall  f1-score  support\n",
      "egalitarian                   0.434783  0.769231  0.555556   13.000\n",
      "general normative statement   0.150000  0.500000  0.230769   12.000\n",
      "libertarian                   0.000000  0.000000  0.000000    3.000\n",
      "not evaluated                 0.980132  0.704762  0.819945  210.000\n",
      "prioritarian                  0.300000  1.000000  0.461538    6.000\n",
      "sufficientarian               0.000000  0.000000  0.000000    1.000\n",
      "utilitarian                   0.071429  0.200000  0.105263    5.000\n",
      "accuracy                      0.684000  0.684000  0.684000    0.684\n",
      "macro avg                     0.276621  0.453428  0.310439  250.000\n",
      "weighted avg                  0.861749  0.684000  0.741901  250.000\n",
      "\n",
      "\n"
     ]
    },
    {
     "name": "stderr",
     "output_type": "stream",
     "text": [
      "C:\\App\\Python\\Lib\\site-packages\\sklearn\\metrics\\_classification.py:1344: UndefinedMetricWarning: Precision and F-score are ill-defined and being set to 0.0 in labels with no predicted samples. Use `zero_division` parameter to control this behavior.\n",
      "  _warn_prf(average, modifier, msg_start, len(result))\n",
      "C:\\App\\Python\\Lib\\site-packages\\sklearn\\metrics\\_classification.py:1344: UndefinedMetricWarning: Precision and F-score are ill-defined and being set to 0.0 in labels with no predicted samples. Use `zero_division` parameter to control this behavior.\n",
      "  _warn_prf(average, modifier, msg_start, len(result))\n",
      "C:\\App\\Python\\Lib\\site-packages\\sklearn\\metrics\\_classification.py:1344: UndefinedMetricWarning: Precision and F-score are ill-defined and being set to 0.0 in labels with no predicted samples. Use `zero_division` parameter to control this behavior.\n",
      "  _warn_prf(average, modifier, msg_start, len(result))\n",
      "C:\\App\\Python\\Lib\\site-packages\\sklearn\\metrics\\_classification.py:1344: UndefinedMetricWarning: Precision and F-score are ill-defined and being set to 0.0 in labels with no predicted samples. Use `zero_division` parameter to control this behavior.\n",
      "  _warn_prf(average, modifier, msg_start, len(result))\n",
      "C:\\App\\Python\\Lib\\site-packages\\sklearn\\metrics\\_classification.py:1344: UndefinedMetricWarning: Precision and F-score are ill-defined and being set to 0.0 in labels with no predicted samples. Use `zero_division` parameter to control this behavior.\n",
      "  _warn_prf(average, modifier, msg_start, len(result))\n",
      "C:\\App\\Python\\Lib\\site-packages\\sklearn\\metrics\\_classification.py:1344: UndefinedMetricWarning: Precision and F-score are ill-defined and being set to 0.0 in labels with no predicted samples. Use `zero_division` parameter to control this behavior.\n",
      "  _warn_prf(average, modifier, msg_start, len(result))\n",
      "C:\\App\\Python\\Lib\\site-packages\\sklearn\\metrics\\_classification.py:1344: UndefinedMetricWarning: Precision and F-score are ill-defined and being set to 0.0 in labels with no predicted samples. Use `zero_division` parameter to control this behavior.\n",
      "  _warn_prf(average, modifier, msg_start, len(result))\n",
      "C:\\App\\Python\\Lib\\site-packages\\sklearn\\metrics\\_classification.py:1344: UndefinedMetricWarning: Precision and F-score are ill-defined and being set to 0.0 in labels with no predicted samples. Use `zero_division` parameter to control this behavior.\n",
      "  _warn_prf(average, modifier, msg_start, len(result))\n",
      "C:\\App\\Python\\Lib\\site-packages\\sklearn\\metrics\\_classification.py:1344: UndefinedMetricWarning: Precision and F-score are ill-defined and being set to 0.0 in labels with no predicted samples. Use `zero_division` parameter to control this behavior.\n",
      "  _warn_prf(average, modifier, msg_start, len(result))\n",
      "C:\\App\\Python\\Lib\\site-packages\\sklearn\\metrics\\_classification.py:1344: UndefinedMetricWarning: Precision and F-score are ill-defined and being set to 0.0 in labels with no predicted samples. Use `zero_division` parameter to control this behavior.\n",
      "  _warn_prf(average, modifier, msg_start, len(result))\n",
      "C:\\App\\Python\\Lib\\site-packages\\sklearn\\metrics\\_classification.py:1344: UndefinedMetricWarning: Precision and F-score are ill-defined and being set to 0.0 in labels with no predicted samples. Use `zero_division` parameter to control this behavior.\n",
      "  _warn_prf(average, modifier, msg_start, len(result))\n",
      "C:\\App\\Python\\Lib\\site-packages\\sklearn\\metrics\\_classification.py:1344: UndefinedMetricWarning: Precision and F-score are ill-defined and being set to 0.0 in labels with no predicted samples. Use `zero_division` parameter to control this behavior.\n",
      "  _warn_prf(average, modifier, msg_start, len(result))\n"
     ]
    }
   ],
   "source": [
    "# Evaluate performance of individual seeds for the same sentences\n",
    "# Function to generate classification report for each dataframe\n",
    "def generate_classification_report(df, true_label_col, pred_label_col):\n",
    "    return classification_report(df[true_label_col], df[pred_label_col], output_dict=True)\n",
    "\n",
    "# Generate classification reports\n",
    "report_S1 = generate_classification_report(FB1S1, 'PRINCIPLE_x', 'PRINCIPLE_y')\n",
    "report_S2 = generate_classification_report(FB1S2, 'PRINCIPLE_x', 'PRINCIPLE_y')\n",
    "report_S3 = generate_classification_report(FB1S3, 'PRINCIPLE_x', 'PRINCIPLE_y')\n",
    "report_S4 = generate_classification_report(FB1S4, 'PRINCIPLE_x', 'PRINCIPLE_y')\n",
    "report_S5 = generate_classification_report(FB1S5, 'PRINCIPLE_x', 'PRINCIPLE_y')\n",
    "\n",
    "# Function to print the classification reports for easy comparison\n",
    "def print_classification_report(report, title):\n",
    "    print(f\"Classification Report for {title}\")\n",
    "    print(pd.DataFrame(report).transpose())\n",
    "    print(\"\\n\")\n",
    "\n",
    "# Print the classification reports\n",
    "print_classification_report(report_S1, \"S1\")\n",
    "print_classification_report(report_S2, \"S2\")\n",
    "print_classification_report(report_S3, \"S3\")\n",
    "print_classification_report(report_S4, \"S4\")\n",
    "print_classification_report(report_S5, \"S5\")"
   ],
   "metadata": {
    "collapsed": false,
    "ExecuteTime": {
     "start_time": "2024-06-07T17:29:59.039715Z",
     "end_time": "2024-06-07T17:29:59.175365Z"
    }
   }
  },
  {
   "cell_type": "markdown",
   "source": [
    "Evaluate consistency of predictions over the 5 different instances - see which sentences are not consistantly predicted.\n"
   ],
   "metadata": {
    "collapsed": false
   }
  },
  {
   "cell_type": "code",
   "execution_count": 15,
   "outputs": [
    {
     "data": {
      "text/plain": "(210, 6)"
     },
     "execution_count": 15,
     "metadata": {},
     "output_type": "execute_result"
    }
   ],
   "source": [
    "# I want to evaluate consistency\n",
    "# Print all rows where inconsequences are found per seed\n",
    "# Define a function to check if all values in relevance_y are the same\n",
    "def relevance_y_not_uniform(group):\n",
    "    return group['PRINCIPLE_y'].nunique() != 1\n",
    "\n",
    "\n",
    "# Group by 'ID' and filter groups\n",
    "B2_consistency = filtered_B2.groupby('unique_id').filter(relevance_y_not_uniform)\n",
    "\n",
    "B2_consistency.shape"
   ],
   "metadata": {
    "collapsed": false,
    "ExecuteTime": {
     "start_time": "2024-06-07T17:30:03.733962Z",
     "end_time": "2024-06-07T17:30:03.857630Z"
    }
   }
  },
  {
   "cell_type": "markdown",
   "source": [
    "\n",
    "In combined dataframe, groupyby unique ID and take the majority label"
   ],
   "metadata": {
    "collapsed": false
   }
  },
  {
   "cell_type": "code",
   "execution_count": 16,
   "outputs": [],
   "source": [
    "# Define a function to get the most frequent element\n",
    "def most_frequent(x):\n",
    "    return Counter(x).most_common(1)[0][0]\n",
    "\n",
    "# List of all columns\n",
    "all_columns = filtered_B2.columns.tolist()\n",
    "\n",
    "# Dictionary to specify aggregation functions\n",
    "agg_dict = {col: 'first' for col in all_columns if col not in ['unique_id', 'PRINCIPLE_y']}\n",
    "agg_dict['PRINCIPLE_y'] = most_frequent\n",
    "\n",
    "# Group by 'unique_id' and apply the aggregation functions\n",
    "filtered_B2_grouped = filtered_B2.groupby('unique_id').agg(agg_dict).reset_index()\n"
   ],
   "metadata": {
    "collapsed": false,
    "ExecuteTime": {
     "start_time": "2024-06-07T17:30:11.991947Z",
     "end_time": "2024-06-07T17:30:12.028083Z"
    }
   }
  },
  {
   "cell_type": "code",
   "execution_count": 17,
   "outputs": [
    {
     "name": "stdout",
     "output_type": "stream",
     "text": [
      "                             precision    recall  f1-score   support\n",
      "\n",
      "                egalitarian       0.40      0.77      0.53        13\n",
      "general normative statement       0.16      0.50      0.24        12\n",
      "                libertarian       0.00      0.00      0.00         3\n",
      "              not evaluated       0.97      0.72      0.83       210\n",
      "               prioritarian       0.33      0.83      0.48         6\n",
      "            sufficientarian       0.00      0.00      0.00         1\n",
      "                utilitarian       0.07      0.20      0.11         5\n",
      "\n",
      "                   accuracy                           0.69       250\n",
      "                  macro avg       0.28      0.43      0.31       250\n",
      "               weighted avg       0.86      0.69      0.75       250\n",
      "\n"
     ]
    },
    {
     "name": "stderr",
     "output_type": "stream",
     "text": [
      "C:\\App\\Python\\Lib\\site-packages\\sklearn\\metrics\\_classification.py:1344: UndefinedMetricWarning: Precision and F-score are ill-defined and being set to 0.0 in labels with no predicted samples. Use `zero_division` parameter to control this behavior.\n",
      "  _warn_prf(average, modifier, msg_start, len(result))\n",
      "C:\\App\\Python\\Lib\\site-packages\\sklearn\\metrics\\_classification.py:1344: UndefinedMetricWarning: Precision and F-score are ill-defined and being set to 0.0 in labels with no predicted samples. Use `zero_division` parameter to control this behavior.\n",
      "  _warn_prf(average, modifier, msg_start, len(result))\n",
      "C:\\App\\Python\\Lib\\site-packages\\sklearn\\metrics\\_classification.py:1344: UndefinedMetricWarning: Precision and F-score are ill-defined and being set to 0.0 in labels with no predicted samples. Use `zero_division` parameter to control this behavior.\n",
      "  _warn_prf(average, modifier, msg_start, len(result))\n"
     ]
    }
   ],
   "source": [
    "# Evaluate performance of this dataframe\n",
    "print(classification_report(filtered_B2_grouped['PRINCIPLE_x'],filtered_B2_grouped['PRINCIPLE_y']))"
   ],
   "metadata": {
    "collapsed": false,
    "ExecuteTime": {
     "start_time": "2024-06-07T17:30:14.465346Z",
     "end_time": "2024-06-07T17:30:14.559120Z"
    }
   }
  },
  {
   "cell_type": "code",
   "execution_count": null,
   "outputs": [],
   "source": [],
   "metadata": {
    "collapsed": false
   }
  },
  {
   "cell_type": "markdown",
   "source": [
    "### B4.0"
   ],
   "metadata": {
    "collapsed": false
   }
  },
  {
   "cell_type": "code",
   "execution_count": 18,
   "outputs": [],
   "source": [
    "#B1.0\n",
    "path_B2 = 'STRING_RESULT/B4.0/all_iterations'\n",
    "\n",
    "# Open all dataframes\n",
    "S1 = pd.read_csv(f'{path_B2}/all_iterations_string_T0_3644.csv')\n",
    "S2 = pd.read_csv(f'{path_B2}/all_iterations_string_T0_3441.csv')\n",
    "S3 = pd.read_csv(f'{path_B2}/all_iterations_string_T0_280.csv')\n",
    "S4 = pd.read_csv(f'{path_B2}/all_iterations_string_T0_5991.csv')\n",
    "S5 = pd.read_csv(f'{path_B2}/all_iterations_string_T0_7917.csv')\n",
    "\n",
    "# Combine all dataframes into one\n",
    "B2_full = pd.concat([S1, S2, S3, S4, S5], ignore_index=True)"
   ],
   "metadata": {
    "collapsed": false,
    "ExecuteTime": {
     "start_time": "2024-06-07T19:01:56.853326Z",
     "end_time": "2024-06-07T19:01:57.104630Z"
    }
   }
  },
  {
   "cell_type": "code",
   "execution_count": 23,
   "outputs": [
    {
     "data": {
      "text/plain": "      unique_id                                               text  \\\n0             0    The U.S. has led the way in the relief effo...   \n1             1  Inthe past 10 years, the U.S. has contributed ...   \n2             2    Of course, scientists dont know that clima...   \n3             3    It is for this reason that President Obama ...   \n4             4    Last June, President Obama announced the U....   \n...         ...                                                ...   \n1610        326   The most important result of COP28 that I wou...   \n1611        327   Trust that “WE” , governments together with o...   \n1612        328                                                      \n1613        329  But for that, we need….to scale up the solutio...   \n1614        330                                       I thank you.   \n\n                      PRINCIPLE_x        TOPIC_x         UNIT_x  \\\n0                   not evaluated  not evaluated  not evaluated   \n1                   not evaluated  not evaluated  not evaluated   \n2                   not evaluated  not evaluated  not evaluated   \n3                   not evaluated  not evaluated  not evaluated   \n4                   not evaluated  not evaluated  not evaluated   \n...                           ...            ...            ...   \n1610                not evaluated  not evaluated  not evaluated   \n1611                not evaluated  not evaluated  not evaluated   \n1612                not evaluated  not evaluated  not evaluated   \n1613  general normative statement        urgency  not indicated   \n1614                not evaluated  not evaluated  not evaluated   \n\n            SHAPE_x                                          llm_query  \\\n0     not evaluated  0   The U.S. has led the way in the relief ef...   \n1     not evaluated  1 Inthe past 10 years, the U.S. has contribute...   \n2     not evaluated  2   Of course, scientists dont know that cli...   \n3     not evaluated  3   It is for this reason that President Obam...   \n4     not evaluated  4   Last June, President Obama announced the ...   \n...             ...                                                ...   \n1610  not evaluated  326  The most important result of COP28 that I...   \n1611  not evaluated  327  Trust that “WE” , governments together wi...   \n1612  not evaluated                                            328  \\n   \n1613  not indicated  329 But for that, we need….to scale up the sol...   \n1614  not evaluated                               330   I thank you.\\n   \n\n                      PRINCIPLE_y                           TOPIC_y  \\\n0                   not evaluated                     not evaluated   \n1                   not evaluated                     not evaluated   \n2                     utilitarian                           urgency   \n3     general normative statement                       cooperation   \n4                   not evaluated                     not evaluated   \n...                           ...                               ...   \n1610  general normative statement                           urgency   \n1611                  egalitarian  UNFCCC agreements and principles   \n1612                not evaluated                     not evaluated   \n1613  general normative statement                           urgency   \n1614                not evaluated                     not evaluated   \n\n              UNIT_y        SHAPE_y  iteration  \n0      not evaluated  not evaluated          1  \n1      not evaluated  not evaluated          1  \n2      not indicated  not indicated          1  \n3     responsibility  not indicated          1  \n4      not evaluated  not evaluated          1  \n...              ...            ...        ...  \n1610   not indicated  not indicated          1  \n1611  responsibility       equality          1  \n1612   not evaluated  not evaluated          1  \n1613   not indicated  not indicated          1  \n1614   not evaluated  not evaluated          1  \n\n[1455 rows x 12 columns]",
      "text/html": "<div>\n<style scoped>\n    .dataframe tbody tr th:only-of-type {\n        vertical-align: middle;\n    }\n\n    .dataframe tbody tr th {\n        vertical-align: top;\n    }\n\n    .dataframe thead th {\n        text-align: right;\n    }\n</style>\n<table border=\"1\" class=\"dataframe\">\n  <thead>\n    <tr style=\"text-align: right;\">\n      <th></th>\n      <th>unique_id</th>\n      <th>text</th>\n      <th>PRINCIPLE_x</th>\n      <th>TOPIC_x</th>\n      <th>UNIT_x</th>\n      <th>SHAPE_x</th>\n      <th>llm_query</th>\n      <th>PRINCIPLE_y</th>\n      <th>TOPIC_y</th>\n      <th>UNIT_y</th>\n      <th>SHAPE_y</th>\n      <th>iteration</th>\n    </tr>\n  </thead>\n  <tbody>\n    <tr>\n      <th>0</th>\n      <td>0</td>\n      <td>  The U.S. has led the way in the relief effo...</td>\n      <td>not evaluated</td>\n      <td>not evaluated</td>\n      <td>not evaluated</td>\n      <td>not evaluated</td>\n      <td>0   The U.S. has led the way in the relief ef...</td>\n      <td>not evaluated</td>\n      <td>not evaluated</td>\n      <td>not evaluated</td>\n      <td>not evaluated</td>\n      <td>1</td>\n    </tr>\n    <tr>\n      <th>1</th>\n      <td>1</td>\n      <td>Inthe past 10 years, the U.S. has contributed ...</td>\n      <td>not evaluated</td>\n      <td>not evaluated</td>\n      <td>not evaluated</td>\n      <td>not evaluated</td>\n      <td>1 Inthe past 10 years, the U.S. has contribute...</td>\n      <td>not evaluated</td>\n      <td>not evaluated</td>\n      <td>not evaluated</td>\n      <td>not evaluated</td>\n      <td>1</td>\n    </tr>\n    <tr>\n      <th>2</th>\n      <td>2</td>\n      <td>  Of course, scientists dont know that clima...</td>\n      <td>not evaluated</td>\n      <td>not evaluated</td>\n      <td>not evaluated</td>\n      <td>not evaluated</td>\n      <td>2   Of course, scientists dont know that cli...</td>\n      <td>utilitarian</td>\n      <td>urgency</td>\n      <td>not indicated</td>\n      <td>not indicated</td>\n      <td>1</td>\n    </tr>\n    <tr>\n      <th>3</th>\n      <td>3</td>\n      <td>  It is for this reason that President Obama ...</td>\n      <td>not evaluated</td>\n      <td>not evaluated</td>\n      <td>not evaluated</td>\n      <td>not evaluated</td>\n      <td>3   It is for this reason that President Obam...</td>\n      <td>general normative statement</td>\n      <td>cooperation</td>\n      <td>responsibility</td>\n      <td>not indicated</td>\n      <td>1</td>\n    </tr>\n    <tr>\n      <th>4</th>\n      <td>4</td>\n      <td>  Last June, President Obama announced the U....</td>\n      <td>not evaluated</td>\n      <td>not evaluated</td>\n      <td>not evaluated</td>\n      <td>not evaluated</td>\n      <td>4   Last June, President Obama announced the ...</td>\n      <td>not evaluated</td>\n      <td>not evaluated</td>\n      <td>not evaluated</td>\n      <td>not evaluated</td>\n      <td>1</td>\n    </tr>\n    <tr>\n      <th>...</th>\n      <td>...</td>\n      <td>...</td>\n      <td>...</td>\n      <td>...</td>\n      <td>...</td>\n      <td>...</td>\n      <td>...</td>\n      <td>...</td>\n      <td>...</td>\n      <td>...</td>\n      <td>...</td>\n      <td>...</td>\n    </tr>\n    <tr>\n      <th>1610</th>\n      <td>326</td>\n      <td>The most important result of COP28 that I wou...</td>\n      <td>not evaluated</td>\n      <td>not evaluated</td>\n      <td>not evaluated</td>\n      <td>not evaluated</td>\n      <td>326  The most important result of COP28 that I...</td>\n      <td>general normative statement</td>\n      <td>urgency</td>\n      <td>not indicated</td>\n      <td>not indicated</td>\n      <td>1</td>\n    </tr>\n    <tr>\n      <th>1611</th>\n      <td>327</td>\n      <td>Trust that “WE” , governments together with o...</td>\n      <td>not evaluated</td>\n      <td>not evaluated</td>\n      <td>not evaluated</td>\n      <td>not evaluated</td>\n      <td>327  Trust that “WE” , governments together wi...</td>\n      <td>egalitarian</td>\n      <td>UNFCCC agreements and principles</td>\n      <td>responsibility</td>\n      <td>equality</td>\n      <td>1</td>\n    </tr>\n    <tr>\n      <th>1612</th>\n      <td>328</td>\n      <td></td>\n      <td>not evaluated</td>\n      <td>not evaluated</td>\n      <td>not evaluated</td>\n      <td>not evaluated</td>\n      <td>328  \\n</td>\n      <td>not evaluated</td>\n      <td>not evaluated</td>\n      <td>not evaluated</td>\n      <td>not evaluated</td>\n      <td>1</td>\n    </tr>\n    <tr>\n      <th>1613</th>\n      <td>329</td>\n      <td>But for that, we need….to scale up the solutio...</td>\n      <td>general normative statement</td>\n      <td>urgency</td>\n      <td>not indicated</td>\n      <td>not indicated</td>\n      <td>329 But for that, we need….to scale up the sol...</td>\n      <td>general normative statement</td>\n      <td>urgency</td>\n      <td>not indicated</td>\n      <td>not indicated</td>\n      <td>1</td>\n    </tr>\n    <tr>\n      <th>1614</th>\n      <td>330</td>\n      <td>I thank you.</td>\n      <td>not evaluated</td>\n      <td>not evaluated</td>\n      <td>not evaluated</td>\n      <td>not evaluated</td>\n      <td>330   I thank you.\\n</td>\n      <td>not evaluated</td>\n      <td>not evaluated</td>\n      <td>not evaluated</td>\n      <td>not evaluated</td>\n      <td>1</td>\n    </tr>\n  </tbody>\n</table>\n<p>1455 rows × 12 columns</p>\n</div>"
     },
     "execution_count": 23,
     "metadata": {},
     "output_type": "execute_result"
    }
   ],
   "source": [
    "# Filter rows to keep only those where the unique_id appears exactly 5 times\n",
    "filtered_B2 = B2_full.groupby('unique_id').filter(lambda x: len(x) == 5)\n",
    "filtered_B2"
   ],
   "metadata": {
    "collapsed": false,
    "ExecuteTime": {
     "start_time": "2024-06-07T19:02:30.412858Z",
     "end_time": "2024-06-07T19:02:30.593510Z"
    }
   }
  },
  {
   "cell_type": "code",
   "execution_count": 25,
   "outputs": [
    {
     "data": {
      "text/plain": "not evaluated                  725\nutilitarian                    226\ngeneral normative statement    207\negalitarian                    160\nprioritarian                    63\nsufficientarian                 46\nurgency                         18\ncooperation                     10\nName: PRINCIPLE_y, dtype: int64"
     },
     "execution_count": 25,
     "metadata": {},
     "output_type": "execute_result"
    }
   ],
   "source": [
    "filtered_B2.PRINCIPLE_y.value_counts()"
   ],
   "metadata": {
    "collapsed": false,
    "ExecuteTime": {
     "start_time": "2024-06-07T19:03:02.530702Z",
     "end_time": "2024-06-07T19:03:02.609416Z"
    }
   }
  },
  {
   "cell_type": "code",
   "execution_count": 20,
   "outputs": [],
   "source": [
    "# List of unique_id's that are annotated 5 times\n",
    "unique_ids = filtered_B2['unique_id'].unique().tolist()"
   ],
   "metadata": {
    "collapsed": false,
    "ExecuteTime": {
     "start_time": "2024-06-07T19:02:03.361779Z",
     "end_time": "2024-06-07T19:02:03.389442Z"
    }
   }
  },
  {
   "cell_type": "code",
   "execution_count": 21,
   "outputs": [],
   "source": [
    "# Filter all original dataframes to only include sentences that are annotated 5x by other seeds\n",
    "FB1S1 = S1[S1['unique_id'].isin(unique_ids)]\n",
    "FB1S2 = S2[S2['unique_id'].isin(unique_ids)]\n",
    "FB1S3 = S3[S3['unique_id'].isin(unique_ids)]\n",
    "FB1S4 = S4[S4['unique_id'].isin(unique_ids)]\n",
    "FB1S5 = S5[S5['unique_id'].isin(unique_ids)]"
   ],
   "metadata": {
    "collapsed": false,
    "ExecuteTime": {
     "start_time": "2024-06-07T19:02:05.345065Z",
     "end_time": "2024-06-07T19:02:05.380970Z"
    }
   }
  },
  {
   "cell_type": "code",
   "execution_count": 14,
   "outputs": [
    {
     "name": "stdout",
     "output_type": "stream",
     "text": [
      "Classification Report for S1\n",
      "                             precision    recall  f1-score  support\n",
      "egalitarian                   0.400000  0.769231  0.526316   13.000\n",
      "general normative statement   0.166667  0.500000  0.250000   12.000\n",
      "libertarian                   1.000000  0.333333  0.500000    3.000\n",
      "not evaluated                 0.974359  0.723810  0.830601  210.000\n",
      "prioritarian                  0.375000  1.000000  0.545455    6.000\n",
      "sufficientarian               0.000000  0.000000  0.000000    1.000\n",
      "utilitarian                   0.071429  0.200000  0.105263    5.000\n",
      "accuracy                      0.704000  0.704000  0.704000    0.704\n",
      "macro avg                     0.426779  0.503768  0.393948  250.000\n",
      "weighted avg                  0.869690  0.704000  0.758270  250.000\n",
      "\n",
      "\n",
      "Classification Report for S2\n",
      "                             precision    recall  f1-score  support\n",
      "egalitarian                   0.416667  0.769231  0.540541   13.000\n",
      "general normative statement   0.136364  0.500000  0.214286   12.000\n",
      "libertarian                   0.000000  0.000000  0.000000    3.000\n",
      "not evaluated                 0.972414  0.671429  0.794366  210.000\n",
      "prioritarian                  0.294118  0.833333  0.434783    6.000\n",
      "sufficientarian               0.000000  0.000000  0.000000    1.000\n",
      "utilitarian                   0.058824  0.200000  0.090909    5.000\n",
      "accuracy                      0.652000  0.652000  0.652000    0.652\n",
      "macro avg                     0.268341  0.424856  0.296412  250.000\n",
      "weighted avg                  0.853275  0.652000  0.717914  250.000\n",
      "\n",
      "\n",
      "Classification Report for S3\n",
      "                             precision    recall  f1-score  support\n",
      "egalitarian                   0.384615  0.769231  0.512821   13.000\n",
      "general normative statement   0.150000  0.500000  0.230769   12.000\n",
      "libertarian                   0.000000  0.000000  0.000000    3.000\n",
      "not evaluated                 0.973154  0.690476  0.807799  210.000\n",
      "prioritarian                  0.333333  0.833333  0.476190    6.000\n",
      "sufficientarian               0.000000  0.000000  0.000000    1.000\n",
      "utilitarian                   0.058824  0.200000  0.090909    5.000\n",
      "accuracy                      0.668000  0.668000  0.668000    0.668\n",
      "macro avg                     0.271418  0.427577  0.302641  250.000\n",
      "weighted avg                  0.853826  0.668000  0.729542  250.000\n",
      "\n",
      "\n",
      "Classification Report for S4\n",
      "                             precision    recall  f1-score  support\n",
      "egalitarian                   0.400000  0.769231  0.526316   13.000\n",
      "general normative statement   0.137255  0.583333  0.222222   12.000\n",
      "libertarian                   0.000000  0.000000  0.000000    3.000\n",
      "not evaluated                 0.993103  0.685714  0.811268  210.000\n",
      "prioritarian                  0.312500  0.833333  0.454545    6.000\n",
      "sufficientarian               0.000000  0.000000  0.000000    1.000\n",
      "utilitarian                   0.083333  0.200000  0.117647    5.000\n",
      "accuracy                      0.668000  0.668000  0.668000    0.668\n",
      "macro avg                     0.275170  0.438802  0.304571  250.000\n",
      "weighted avg                  0.870762  0.668000  0.732762  250.000\n",
      "\n",
      "\n",
      "Classification Report for S5\n",
      "                             precision    recall  f1-score  support\n",
      "egalitarian                   0.434783  0.769231  0.555556   13.000\n",
      "general normative statement   0.150000  0.500000  0.230769   12.000\n",
      "libertarian                   0.000000  0.000000  0.000000    3.000\n",
      "not evaluated                 0.980132  0.704762  0.819945  210.000\n",
      "prioritarian                  0.300000  1.000000  0.461538    6.000\n",
      "sufficientarian               0.000000  0.000000  0.000000    1.000\n",
      "utilitarian                   0.071429  0.200000  0.105263    5.000\n",
      "accuracy                      0.684000  0.684000  0.684000    0.684\n",
      "macro avg                     0.276621  0.453428  0.310439  250.000\n",
      "weighted avg                  0.861749  0.684000  0.741901  250.000\n",
      "\n",
      "\n"
     ]
    },
    {
     "name": "stderr",
     "output_type": "stream",
     "text": [
      "C:\\App\\Python\\Lib\\site-packages\\sklearn\\metrics\\_classification.py:1344: UndefinedMetricWarning: Precision and F-score are ill-defined and being set to 0.0 in labels with no predicted samples. Use `zero_division` parameter to control this behavior.\n",
      "  _warn_prf(average, modifier, msg_start, len(result))\n",
      "C:\\App\\Python\\Lib\\site-packages\\sklearn\\metrics\\_classification.py:1344: UndefinedMetricWarning: Precision and F-score are ill-defined and being set to 0.0 in labels with no predicted samples. Use `zero_division` parameter to control this behavior.\n",
      "  _warn_prf(average, modifier, msg_start, len(result))\n",
      "C:\\App\\Python\\Lib\\site-packages\\sklearn\\metrics\\_classification.py:1344: UndefinedMetricWarning: Precision and F-score are ill-defined and being set to 0.0 in labels with no predicted samples. Use `zero_division` parameter to control this behavior.\n",
      "  _warn_prf(average, modifier, msg_start, len(result))\n",
      "C:\\App\\Python\\Lib\\site-packages\\sklearn\\metrics\\_classification.py:1344: UndefinedMetricWarning: Precision and F-score are ill-defined and being set to 0.0 in labels with no predicted samples. Use `zero_division` parameter to control this behavior.\n",
      "  _warn_prf(average, modifier, msg_start, len(result))\n",
      "C:\\App\\Python\\Lib\\site-packages\\sklearn\\metrics\\_classification.py:1344: UndefinedMetricWarning: Precision and F-score are ill-defined and being set to 0.0 in labels with no predicted samples. Use `zero_division` parameter to control this behavior.\n",
      "  _warn_prf(average, modifier, msg_start, len(result))\n",
      "C:\\App\\Python\\Lib\\site-packages\\sklearn\\metrics\\_classification.py:1344: UndefinedMetricWarning: Precision and F-score are ill-defined and being set to 0.0 in labels with no predicted samples. Use `zero_division` parameter to control this behavior.\n",
      "  _warn_prf(average, modifier, msg_start, len(result))\n",
      "C:\\App\\Python\\Lib\\site-packages\\sklearn\\metrics\\_classification.py:1344: UndefinedMetricWarning: Precision and F-score are ill-defined and being set to 0.0 in labels with no predicted samples. Use `zero_division` parameter to control this behavior.\n",
      "  _warn_prf(average, modifier, msg_start, len(result))\n",
      "C:\\App\\Python\\Lib\\site-packages\\sklearn\\metrics\\_classification.py:1344: UndefinedMetricWarning: Precision and F-score are ill-defined and being set to 0.0 in labels with no predicted samples. Use `zero_division` parameter to control this behavior.\n",
      "  _warn_prf(average, modifier, msg_start, len(result))\n",
      "C:\\App\\Python\\Lib\\site-packages\\sklearn\\metrics\\_classification.py:1344: UndefinedMetricWarning: Precision and F-score are ill-defined and being set to 0.0 in labels with no predicted samples. Use `zero_division` parameter to control this behavior.\n",
      "  _warn_prf(average, modifier, msg_start, len(result))\n",
      "C:\\App\\Python\\Lib\\site-packages\\sklearn\\metrics\\_classification.py:1344: UndefinedMetricWarning: Precision and F-score are ill-defined and being set to 0.0 in labels with no predicted samples. Use `zero_division` parameter to control this behavior.\n",
      "  _warn_prf(average, modifier, msg_start, len(result))\n",
      "C:\\App\\Python\\Lib\\site-packages\\sklearn\\metrics\\_classification.py:1344: UndefinedMetricWarning: Precision and F-score are ill-defined and being set to 0.0 in labels with no predicted samples. Use `zero_division` parameter to control this behavior.\n",
      "  _warn_prf(average, modifier, msg_start, len(result))\n",
      "C:\\App\\Python\\Lib\\site-packages\\sklearn\\metrics\\_classification.py:1344: UndefinedMetricWarning: Precision and F-score are ill-defined and being set to 0.0 in labels with no predicted samples. Use `zero_division` parameter to control this behavior.\n",
      "  _warn_prf(average, modifier, msg_start, len(result))\n"
     ]
    }
   ],
   "source": [
    "# Evaluate performance of individual seeds for the same sentences\n",
    "# Function to generate classification report for each dataframe\n",
    "def generate_classification_report(df, true_label_col, pred_label_col):\n",
    "    return classification_report(df[true_label_col], df[pred_label_col], output_dict=True)\n",
    "\n",
    "# Generate classification reports\n",
    "report_S1 = generate_classification_report(FB1S1, 'PRINCIPLE_x', 'PRINCIPLE_y')\n",
    "report_S2 = generate_classification_report(FB1S2, 'PRINCIPLE_x', 'PRINCIPLE_y')\n",
    "report_S3 = generate_classification_report(FB1S3, 'PRINCIPLE_x', 'PRINCIPLE_y')\n",
    "report_S4 = generate_classification_report(FB1S4, 'PRINCIPLE_x', 'PRINCIPLE_y')\n",
    "report_S5 = generate_classification_report(FB1S5, 'PRINCIPLE_x', 'PRINCIPLE_y')\n",
    "\n",
    "# Function to print the classification reports for easy comparison\n",
    "def print_classification_report(report, title):\n",
    "    print(f\"Classification Report for {title}\")\n",
    "    print(pd.DataFrame(report).transpose())\n",
    "    print(\"\\n\")\n",
    "\n",
    "# Print the classification reports\n",
    "print_classification_report(report_S1, \"S1\")\n",
    "print_classification_report(report_S2, \"S2\")\n",
    "print_classification_report(report_S3, \"S3\")\n",
    "print_classification_report(report_S4, \"S4\")\n",
    "print_classification_report(report_S5, \"S5\")"
   ],
   "metadata": {
    "collapsed": false
   }
  },
  {
   "cell_type": "markdown",
   "source": [
    "Evaluate consistency of predictions over the 5 different instances - see which sentences are not consistantly predicted.\n"
   ],
   "metadata": {
    "collapsed": false
   }
  },
  {
   "cell_type": "code",
   "execution_count": 22,
   "outputs": [
    {
     "data": {
      "text/plain": "(315, 12)"
     },
     "execution_count": 22,
     "metadata": {},
     "output_type": "execute_result"
    }
   ],
   "source": [
    "# I want to evaluate consistency\n",
    "# Print all rows where inconsequences are found per seed\n",
    "# Define a function to check if all values in relevance_y are the same\n",
    "def relevance_y_not_uniform(group):\n",
    "    return group['PRINCIPLE_y'].nunique() != 1\n",
    "\n",
    "\n",
    "# Group by 'ID' and filter groups\n",
    "B2_consistency = filtered_B2.groupby('unique_id').filter(relevance_y_not_uniform)\n",
    "\n",
    "B2_consistency.shape"
   ],
   "metadata": {
    "collapsed": false,
    "ExecuteTime": {
     "start_time": "2024-06-07T19:02:11.634599Z",
     "end_time": "2024-06-07T19:02:11.831580Z"
    }
   }
  },
  {
   "cell_type": "markdown",
   "source": [
    "\n",
    "In combined dataframe, groupyby unique ID and take the majority label"
   ],
   "metadata": {
    "collapsed": false
   }
  },
  {
   "cell_type": "code",
   "execution_count": 16,
   "outputs": [],
   "source": [
    "# Define a function to get the most frequent element\n",
    "def most_frequent(x):\n",
    "    return Counter(x).most_common(1)[0][0]\n",
    "\n",
    "# List of all columns\n",
    "all_columns = filtered_B2.columns.tolist()\n",
    "\n",
    "# Dictionary to specify aggregation functions\n",
    "agg_dict = {col: 'first' for col in all_columns if col not in ['unique_id', 'PRINCIPLE_y']}\n",
    "agg_dict['PRINCIPLE_y'] = most_frequent\n",
    "\n",
    "# Group by 'unique_id' and apply the aggregation functions\n",
    "filtered_B2_grouped = filtered_B2.groupby('unique_id').agg(agg_dict).reset_index()\n"
   ],
   "metadata": {
    "collapsed": false
   }
  },
  {
   "cell_type": "code",
   "execution_count": 17,
   "outputs": [
    {
     "name": "stdout",
     "output_type": "stream",
     "text": [
      "                             precision    recall  f1-score   support\n",
      "\n",
      "                egalitarian       0.40      0.77      0.53        13\n",
      "general normative statement       0.16      0.50      0.24        12\n",
      "                libertarian       0.00      0.00      0.00         3\n",
      "              not evaluated       0.97      0.72      0.83       210\n",
      "               prioritarian       0.33      0.83      0.48         6\n",
      "            sufficientarian       0.00      0.00      0.00         1\n",
      "                utilitarian       0.07      0.20      0.11         5\n",
      "\n",
      "                   accuracy                           0.69       250\n",
      "                  macro avg       0.28      0.43      0.31       250\n",
      "               weighted avg       0.86      0.69      0.75       250\n",
      "\n"
     ]
    },
    {
     "name": "stderr",
     "output_type": "stream",
     "text": [
      "C:\\App\\Python\\Lib\\site-packages\\sklearn\\metrics\\_classification.py:1344: UndefinedMetricWarning: Precision and F-score are ill-defined and being set to 0.0 in labels with no predicted samples. Use `zero_division` parameter to control this behavior.\n",
      "  _warn_prf(average, modifier, msg_start, len(result))\n",
      "C:\\App\\Python\\Lib\\site-packages\\sklearn\\metrics\\_classification.py:1344: UndefinedMetricWarning: Precision and F-score are ill-defined and being set to 0.0 in labels with no predicted samples. Use `zero_division` parameter to control this behavior.\n",
      "  _warn_prf(average, modifier, msg_start, len(result))\n",
      "C:\\App\\Python\\Lib\\site-packages\\sklearn\\metrics\\_classification.py:1344: UndefinedMetricWarning: Precision and F-score are ill-defined and being set to 0.0 in labels with no predicted samples. Use `zero_division` parameter to control this behavior.\n",
      "  _warn_prf(average, modifier, msg_start, len(result))\n"
     ]
    }
   ],
   "source": [
    "# Evaluate performance of this dataframe\n",
    "print(classification_report(filtered_B2_grouped['PRINCIPLE_x'],filtered_B2_grouped['PRINCIPLE_y']))"
   ],
   "metadata": {
    "collapsed": false
   }
  }
 ],
 "metadata": {
  "kernelspec": {
   "display_name": "Python 3",
   "language": "python",
   "name": "python3"
  },
  "language_info": {
   "codemirror_mode": {
    "name": "ipython",
    "version": 2
   },
   "file_extension": ".py",
   "mimetype": "text/x-python",
   "name": "python",
   "nbconvert_exporter": "python",
   "pygments_lexer": "ipython2",
   "version": "2.7.6"
  }
 },
 "nbformat": 4,
 "nbformat_minor": 0
}
