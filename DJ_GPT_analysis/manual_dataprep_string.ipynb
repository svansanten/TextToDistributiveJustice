{
 "cells": [
  {
   "cell_type": "code",
   "execution_count": 1,
   "metadata": {
    "collapsed": true,
    "ExecuteTime": {
     "start_time": "2024-05-28T10:29:13.866532Z",
     "end_time": "2024-05-28T10:29:14.810760Z"
    }
   },
   "outputs": [],
   "source": [
    "import numpy as np\n",
    "import pandas as pd\n",
    "import os\n",
    "import matplotlib.pyplot as plt\n",
    "import seaborn as sns\n",
    "import openai"
   ]
  },
  {
   "cell_type": "markdown",
   "source": [
    "## Notebook to convert numerical-labels to string-labels\n",
    "Convert based on numerical dataset prepared in manual_dataprep_num.ipynb\n",
    "Done this way because spellingmistakes have been filtered in this original conversion\n",
    "\n",
    "Conversion of test and train dataset."
   ],
   "metadata": {
    "collapsed": false
   }
  },
  {
   "cell_type": "code",
   "execution_count": 2,
   "outputs": [],
   "source": [
    "HLS_test = pd.read_csv('data/num/HLS_test.csv')\n",
    "HLS_train = pd.read_csv('data/num/HLS_train.csv')"
   ],
   "metadata": {
    "collapsed": false,
    "ExecuteTime": {
     "start_time": "2024-05-28T10:29:14.813751Z",
     "end_time": "2024-05-28T10:29:14.852870Z"
    }
   }
  },
  {
   "cell_type": "code",
   "execution_count": 3,
   "outputs": [
    {
     "data": {
      "text/plain": "      Unnamed: 0                id  \\\n0              0       COP19_japan   \n1              1       COP19_japan   \n2              2       COP19_japan   \n3              3       COP19_japan   \n4              4       COP19_japan   \n...          ...               ...   \n1207        1538  COP28_newzealand   \n1208        1539  COP28_newzealand   \n1209        1540  COP28_newzealand   \n1210        1541  COP28_newzealand   \n1211        1542  COP28_newzealand   \n\n                                                   Text  Relevance  Principle  \\\n0                            Thank you, Mr. President .          0          0   \n1      On beha lf of the government of Japan , I wou...          0          0   \n2      I would also like to expr ess my d eepest con...          0          0   \n3      Mr. President:  A fair and effective framewor...          2          3   \n4      In this regard, Japan firmly supports the est...          1          0   \n...                                                 ...        ...        ...   \n1207   New Zealand is proud to suppor t several impo...          0          0   \n1208  I am joined by New Zealand’s largest business,...          0          0   \n1209  The commitment o f New Zealanders from across ...          0          0   \n1210                            Thank you Mr President.          0          0   \n1211                                          Kia Kaha           0          0   \n\n      Topic  Unit  Shape  \n0         0     0      0  \n1         0     0      0  \n2         0     0      0  \n3         1     2      2  \n4         0     0      0  \n...     ...   ...    ...  \n1207      0     0      0  \n1208      0     0      0  \n1209      0     0      0  \n1210      0     0      0  \n1211      0     0      0  \n\n[1212 rows x 8 columns]",
      "text/html": "<div>\n<style scoped>\n    .dataframe tbody tr th:only-of-type {\n        vertical-align: middle;\n    }\n\n    .dataframe tbody tr th {\n        vertical-align: top;\n    }\n\n    .dataframe thead th {\n        text-align: right;\n    }\n</style>\n<table border=\"1\" class=\"dataframe\">\n  <thead>\n    <tr style=\"text-align: right;\">\n      <th></th>\n      <th>Unnamed: 0</th>\n      <th>id</th>\n      <th>Text</th>\n      <th>Relevance</th>\n      <th>Principle</th>\n      <th>Topic</th>\n      <th>Unit</th>\n      <th>Shape</th>\n    </tr>\n  </thead>\n  <tbody>\n    <tr>\n      <th>0</th>\n      <td>0</td>\n      <td>COP19_japan</td>\n      <td>Thank you, Mr. President .</td>\n      <td>0</td>\n      <td>0</td>\n      <td>0</td>\n      <td>0</td>\n      <td>0</td>\n    </tr>\n    <tr>\n      <th>1</th>\n      <td>1</td>\n      <td>COP19_japan</td>\n      <td>On beha lf of the government of Japan , I wou...</td>\n      <td>0</td>\n      <td>0</td>\n      <td>0</td>\n      <td>0</td>\n      <td>0</td>\n    </tr>\n    <tr>\n      <th>2</th>\n      <td>2</td>\n      <td>COP19_japan</td>\n      <td>I would also like to expr ess my d eepest con...</td>\n      <td>0</td>\n      <td>0</td>\n      <td>0</td>\n      <td>0</td>\n      <td>0</td>\n    </tr>\n    <tr>\n      <th>3</th>\n      <td>3</td>\n      <td>COP19_japan</td>\n      <td>Mr. President:  A fair and effective framewor...</td>\n      <td>2</td>\n      <td>3</td>\n      <td>1</td>\n      <td>2</td>\n      <td>2</td>\n    </tr>\n    <tr>\n      <th>4</th>\n      <td>4</td>\n      <td>COP19_japan</td>\n      <td>In this regard, Japan firmly supports the est...</td>\n      <td>1</td>\n      <td>0</td>\n      <td>0</td>\n      <td>0</td>\n      <td>0</td>\n    </tr>\n    <tr>\n      <th>...</th>\n      <td>...</td>\n      <td>...</td>\n      <td>...</td>\n      <td>...</td>\n      <td>...</td>\n      <td>...</td>\n      <td>...</td>\n      <td>...</td>\n    </tr>\n    <tr>\n      <th>1207</th>\n      <td>1538</td>\n      <td>COP28_newzealand</td>\n      <td>New Zealand is proud to suppor t several impo...</td>\n      <td>0</td>\n      <td>0</td>\n      <td>0</td>\n      <td>0</td>\n      <td>0</td>\n    </tr>\n    <tr>\n      <th>1208</th>\n      <td>1539</td>\n      <td>COP28_newzealand</td>\n      <td>I am joined by New Zealand’s largest business,...</td>\n      <td>0</td>\n      <td>0</td>\n      <td>0</td>\n      <td>0</td>\n      <td>0</td>\n    </tr>\n    <tr>\n      <th>1209</th>\n      <td>1540</td>\n      <td>COP28_newzealand</td>\n      <td>The commitment o f New Zealanders from across ...</td>\n      <td>0</td>\n      <td>0</td>\n      <td>0</td>\n      <td>0</td>\n      <td>0</td>\n    </tr>\n    <tr>\n      <th>1210</th>\n      <td>1541</td>\n      <td>COP28_newzealand</td>\n      <td>Thank you Mr President.</td>\n      <td>0</td>\n      <td>0</td>\n      <td>0</td>\n      <td>0</td>\n      <td>0</td>\n    </tr>\n    <tr>\n      <th>1211</th>\n      <td>1542</td>\n      <td>COP28_newzealand</td>\n      <td>Kia Kaha</td>\n      <td>0</td>\n      <td>0</td>\n      <td>0</td>\n      <td>0</td>\n      <td>0</td>\n    </tr>\n  </tbody>\n</table>\n<p>1212 rows × 8 columns</p>\n</div>"
     },
     "execution_count": 3,
     "metadata": {},
     "output_type": "execute_result"
    }
   ],
   "source": [
    "HLS_train"
   ],
   "metadata": {
    "collapsed": false,
    "ExecuteTime": {
     "start_time": "2024-05-28T10:29:14.843899Z",
     "end_time": "2024-05-28T10:29:14.867704Z"
    }
   }
  },
  {
   "cell_type": "code",
   "execution_count": 4,
   "outputs": [],
   "source": [
    "# Mapping dictionary - relevance\n",
    "mapping_relevance = {0: 'Not relevant', 1: 'Statement of intent', 2: 'Relevant'}\n",
    "\n",
    "# Convert the column\n",
    "HLS_train['RELEVANCE'] = HLS_train['Relevance'].map(mapping_relevance)\n",
    "HLS_test['RELEVANCE'] = HLS_test['Relevance'].map(mapping_relevance)"
   ],
   "metadata": {
    "collapsed": false,
    "ExecuteTime": {
     "start_time": "2024-05-28T10:29:14.870695Z",
     "end_time": "2024-05-28T10:29:14.878689Z"
    }
   }
  },
  {
   "cell_type": "code",
   "execution_count": 5,
   "outputs": [],
   "source": [
    "# Mapping dictionary - principles\n",
    "mapping_principle = {0: 'not evaluated', 1: 'general normative statement', 2: 'egalitarian', 3: 'utilitarian', 4:'prioritarian', 5:'sufficientarian',\n",
    "                      6: 'libertarian'}\n",
    "\n",
    "# Convert the column\n",
    "HLS_train['PRINCIPLE'] = HLS_train['Principle'].map(mapping_principle)\n",
    "HLS_test['PRINCIPLE'] = HLS_test['Principle'].map(mapping_principle)"
   ],
   "metadata": {
    "collapsed": false,
    "ExecuteTime": {
     "start_time": "2024-05-28T10:29:14.881681Z",
     "end_time": "2024-05-28T10:29:14.905738Z"
    }
   }
  },
  {
   "cell_type": "code",
   "execution_count": 6,
   "outputs": [],
   "source": [
    "# Mapping dictionary - topic\n",
    "mapping_topic = {0: 'not evaluated', 1: 'new UNFCCC policy', 2: 'UNFCCC agreements and principles', 3: 'urgency', 4:'cooperation', 5:'financial mechanisms',\n",
    "                      6: 'adaptation', 7:'mitigation', 8: 'adaptation and mitigation', 9: 'other'}\n",
    "\n",
    "# Convert the column\n",
    "HLS_train['TOPIC'] = HLS_train['Topic'].map(mapping_topic)\n",
    "HLS_test['TOPIC'] = HLS_test['Topic'].map(mapping_topic)"
   ],
   "metadata": {
    "collapsed": false,
    "ExecuteTime": {
     "start_time": "2024-05-28T10:29:14.897835Z",
     "end_time": "2024-05-28T10:29:14.957385Z"
    }
   }
  },
  {
   "cell_type": "code",
   "execution_count": 7,
   "outputs": [],
   "source": [
    "# Mapping dictionary - unit\n",
    "mapping_unit = {0: 'not evaluated', 1: 'not indicated', 2: 'responsibility', 3: 'financial resources', 4:'technological resources', 5:'financial and technological resources',\n",
    "                      6: 'support', 7:'other'}\n",
    "\n",
    "# Convert the column\n",
    "HLS_train['UNIT'] = HLS_train['Unit'].map(mapping_unit)\n",
    "HLS_test['UNIT'] = HLS_test['Unit'].map(mapping_unit)"
   ],
   "metadata": {
    "collapsed": false,
    "ExecuteTime": {
     "start_time": "2024-05-28T10:29:14.916712Z",
     "end_time": "2024-05-28T10:29:15.000271Z"
    }
   }
  },
  {
   "cell_type": "code",
   "execution_count": 8,
   "outputs": [],
   "source": [
    "# Mapping dictionary - shape\n",
    "mapping_shape = {0: 'not evaluated', 1: 'not indicated', 2: 'equality', 3: 'equity', 4:'priority to worst off', 5:'needs based',\n",
    "                      6: 'proportional to contribution', 7: 'proportional to commitment'}\n",
    "\n",
    "# Convert the column\n",
    "HLS_train['SHAPE'] = HLS_train['Shape'].map(mapping_shape)\n",
    "HLS_test['SHAPE'] = HLS_test['Shape'].map(mapping_shape)"
   ],
   "metadata": {
    "collapsed": false,
    "ExecuteTime": {
     "start_time": "2024-05-28T10:29:14.926138Z",
     "end_time": "2024-05-28T10:29:15.045152Z"
    }
   }
  },
  {
   "cell_type": "code",
   "execution_count": 9,
   "outputs": [],
   "source": [
    "HLS_train_clean = HLS_train.drop(columns = ['Unnamed: 0'])\n",
    "HLS_test_clean = HLS_test.drop(columns = 'Unnamed: 0')"
   ],
   "metadata": {
    "collapsed": false,
    "ExecuteTime": {
     "start_time": "2024-05-28T10:29:14.940758Z",
     "end_time": "2024-05-28T10:29:15.045152Z"
    }
   }
  },
  {
   "cell_type": "code",
   "execution_count": 10,
   "outputs": [],
   "source": [
    "HLS_train_clean.to_csv('data/string/HLS_train_string.csv', index=False)\n",
    "HLS_test_clean.to_csv('data/string/HLS_test_string.csv', index=False)"
   ],
   "metadata": {
    "collapsed": false,
    "ExecuteTime": {
     "start_time": "2024-05-28T10:29:14.949417Z",
     "end_time": "2024-05-28T10:29:15.045152Z"
    }
   }
  }
 ],
 "metadata": {
  "kernelspec": {
   "display_name": "Python 3",
   "language": "python",
   "name": "python3"
  },
  "language_info": {
   "codemirror_mode": {
    "name": "ipython",
    "version": 2
   },
   "file_extension": ".py",
   "mimetype": "text/x-python",
   "name": "python",
   "nbconvert_exporter": "python",
   "pygments_lexer": "ipython2",
   "version": "2.7.6"
  }
 },
 "nbformat": 4,
 "nbformat_minor": 0
}
