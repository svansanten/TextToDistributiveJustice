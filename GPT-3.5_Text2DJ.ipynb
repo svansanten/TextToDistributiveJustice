{
 "cells": [
  {
   "cell_type": "code",
   "execution_count": 22,
   "metadata": {
    "collapsed": true,
    "ExecuteTime": {
     "start_time": "2024-04-22T12:48:29.727293Z",
     "end_time": "2024-04-22T12:48:29.733784Z"
    }
   },
   "outputs": [],
   "source": [
    "from openai import OpenAI\n",
    "import numpy as np\n",
    "import os\n",
    "import pandas as pd\n",
    "import re\n",
    "import json\n"
   ]
  },
  {
   "cell_type": "markdown",
   "source": [
    "### Use of GPT 3.5-turbo-0125\n",
    "Input: 1.385 tokens\n",
    "Output: 4096 tokens\n",
    "\n",
    "Training data up to september 2021\n",
    "\n",
    "**Re-evaluation with GPT-4 in later stage to see how much better performance is. Main expected benefit is decrease in hallucinations**\n",
    "\n",
    "MANUALLY ANNOTATED SPEECHES - Available in HLS_man\n",
    "\n",
    "| COP19        | COP20             | COP21             | COP22         | COP23       | COP24     | COP25     | COP26       | COP27       | COP28       |\n",
    "|--------------|-------------------|-------------------|---------------|-------------|-----------|-----------|-------------|-------------|-------------|\n",
    "| japan        | Holy see          | Trinidad & Tobago | Lao           | Netherlands | Malawi    | Serbia    | Russia      | Kazakhstan  | Belgium     |\n",
    "| namibia      | kenya             | EU                | czechrepublic | Suriname    | Rwanda    | Cambodia  | Grenada     | Canada      | Gambia      |\n",
    "| sierra leone | micronesia        | Nepal             | israel        | Vanatu      | Indonesia | Uganda    | Philippines | Australia   | Jamaica     |\n",
    "| usa          | republic of korea | Afghanistan       | belize        | Croatia     | Macedonia | Mauritius | Slovakia    | Serbia      | New Zealand |\n",
    "| timor leste  | tonga             | Bosnia Herz.      | thailand      | Ireland     | Lesotho   | Malaysia  | Barbados    | South Sudan | Jordan      |\n",
    "|              | tonga_PSIDS       |                   |               |             |           |           |             |             |             |\n"
   ],
   "metadata": {
    "collapsed": false
   }
  },
  {
   "cell_type": "code",
   "execution_count": 3,
   "outputs": [
    {
     "data": {
      "text/plain": "' \\nThank you, Mr. President . \\n \\nOn beha lf of the government of Japan , I would like to express my sinc ere \\nappr eciation to His Excellency , Minister Marcin Korolec and his \\ngovernment for hosting the COP 19 presidency . \\n \\nI would also like to expr ess my d eepest condolence to the people of the \\nPhilippines and other countries who have been suffering from the r ecent \\ntyphoon. \\n \\nMr. President: \\n \\nA fair and effective framework with the participation of all countries needs \\nto be adopted at COP 21 in 2015 to ensure emissions reduction at the global \\nlevel . \\n \\nIn this regard, Japan firmly supports the establishment of a post-2020 \\nframework . \\n \\nSuch a framework must be based on “nationally -determined” commitment \\nand an effective international transparency mechanism. \\n \\nI will devote myself toward the s uccessful outcome at this COP19 . \\n \\nMr. President: \\n \\nThe Great East Japan Earthquake and n uclear Power Plant’ s Accident in \\nMarch 2011 caused drastic changes in the energy situations . \\n \\nEven under such circumstance both the public and private sectors of Japan \\nhave made utmost efforts to address climate change. \\n \\nOur greenhouse gas emissions for the first commitme nt period is forecasted \\nto be 8.2 percent lower compared to the base year. \\n  \\nAs a result, our target under the Kyoto Protocol of 6 percent reduction has \\nbeen achieved. \\n \\nAs the next step, Japan has set a target to reduce emissions by 3.8 percent \\ncompared to the 2005 level in 2020. \\n \\nThis target may appear to be less ambitious. \\n \\nHowever, this is an ambitious target . \\n \\nIt requires Japan to improve its ener gy efficiency by 20 percent when it is \\nalready at the world’s top level . \\n \\nThis is a target for the time being. \\n \\nIt was determined without taking into account the emissions reduction \\neffect by nuclear power. \\n \\nConsideration is underway on energy policy . \\n \\nWe will conduct further review in line with its progress . \\n \\nAnd then, a firm target will eventually be set . \\n \\nJapan will establish a low carbon society through various policy tools. \\n \\nWe will strategically promote mitigation measures . \\n \\nWe will enhance development and demonstration of renewable \\nenergy -related technologies such as offshore wind power, geothermal power \\nand rechargeable batteries . \\n \\nJapan is hosting the IPCC session next March. \\n \\nUsing that opportunity, we will launch a new public awareness campaign \\nto further encourage low-carbon lifestyles. \\n \\nMr. President: \\n \\nJapan reaffirms the goal to reduce emissions by 50 percent at the global \\nlevel and by 80 percent in the developed world by 2050.  \\n\\nNow is the time for Japan to take “ Actions for a Cool Earth” as advocated \\nby Prime Minister Shinzo Abe. \\n \\nFirst, Japan will promote further technological innovation . \\n \\nIn this context, Japan’s public and private sectors plan to invest a total of \\n110 billion US dollars domestically over the next five years. \\n \\nSecond, Japan will promote the application of Japanese low-carbon \\ntechnologies around the world. In so doing , we will contribute to global \\nemission s reductions through the use of the Joint Crediting Mechanism, or \\nJCM . \\n \\nFurthermore, Japan will strengthen its partner ships with countries and \\nstakeholders. \\n \\nWe will provide support to developing countries totaling 1.6 trillion yen, \\nabout 16 billion US dollars, during the 3-year period from 201 3 to 201 5. \\n \\nWe will mobiliz e official development assistance, other official flows, and \\nprivate finance in the field of mitigation and adaptation. \\n \\nTokyo has been selected as the host of the 2020 Summer Olympics and \\nParalympics. \\n \\nThrough the Olympic Games , we will demonstrate to the world a society \\nwith low carbon foot print, a society in harmony with nature and a society \\nbased on sound material cycle. \\n \\nThank you for your kind attention. '"
     },
     "execution_count": 3,
     "metadata": {},
     "output_type": "execute_result"
    }
   ],
   "source": [
    "with open('HLS_txt_man/cop19_hls_japan.txt', 'r',encoding='utf-8') as file:\n",
    "    HLS_txt = file.read()"
   ],
   "metadata": {
    "collapsed": false,
    "ExecuteTime": {
     "start_time": "2024-04-22T11:01:43.940820Z",
     "end_time": "2024-04-22T11:01:44.011306Z"
    }
   }
  },
  {
   "cell_type": "code",
   "execution_count": 16,
   "outputs": [],
   "source": [
    "client = OpenAI()\n",
    "response = client.chat.completions.create(\n",
    "  model=\"gpt-3.5-turbo-0125\",\n",
    "  seed = 153, #set to maintain consitancy\n",
    "  temperature = 0.2, # Lower values give more consistent output - range 0-2. Default 1, follow Gilardi 2015 - multiple options\n",
    "  response_format={\"type\":\"json_object\"},\n",
    "  messages=[\n",
    "    {\n",
    "      \"role\": \"system\",\n",
    "      \"content\": \"You will be provided with unstructured speech text, and your task is to label each sentence for relevance in the context of distributive justice of climate policy. Provide a structured overview containing the sentence and the prescribed label. Output JSON.\"\n",
    "    },\n",
    "    {\n",
    "      \"role\": \"user\",\n",
    "      \"content\": HLS_txt\n",
    "    }\n",
    "  ],\n",
    ")\n",
    "\n",
    "#Context of distributive justice is too basic"
   ],
   "metadata": {
    "collapsed": false,
    "ExecuteTime": {
     "start_time": "2024-04-22T12:40:32.592097Z",
     "end_time": "2024-04-22T12:40:53.849802Z"
    }
   }
  },
  {
   "cell_type": "code",
   "execution_count": 24,
   "outputs": [
    {
     "name": "stdout",
     "output_type": "stream",
     "text": [
      "ChatCompletion(id='chatcmpl-9GlO2xgZ2OZfM8i3cgintU6JDx2M5', choices=[Choice(finish_reason='stop', index=0, logprobs=None, message=ChatCompletionMessage(content='{\\n    \"sentences\": [\\n        {\\n            \"sentence\": \"A fair and effective framework with the participation of all countries needs to be adopted at COP 21 in 2015 to ensure emissions reduction at the global level .\",\\n            \"label\": \"relevant\"\\n        },\\n        {\\n            \"sentence\": \"In this regard, Japan firmly supports the establishment of a post-2020 framework .\",\\n            \"label\": \"relevant\"\\n        },\\n        {\\n            \"sentence\": \"Such a framework must be based on “nationally -determined” commitment and an effective international transparency mechanism.\",\\n            \"label\": \"relevant\"\\n        },\\n        {\\n            \"sentence\": \"The Great East Japan Earthquake and n uclear Power Plant’ s Accident in March 2011 caused drastic changes in the energy situations .\",\\n            \"label\": \"irrelevant\"\\n        },\\n        {\\n            \"sentence\": \"Even under such circumstance both the public and private sectors of Japan have made utmost efforts to address climate change.\",\\n            \"label\": \"irrelevant\"\\n        },\\n        {\\n            \"sentence\": \"Our greenhouse gas emissions for the first commitme nt period is forecasted to be 8.2 percent lower compared to the base year.\",\\n            \"label\": \"irrelevant\"\\n        },\\n        {\\n            \"sentence\": \"As a result, our target under the Kyoto Protocol of 6 percent reduction has been achieved.\",\\n            \"label\": \"irrelevant\"\\n        },\\n        {\\n            \"sentence\": \"As the next step, Japan has set a target to reduce emissions by 3.8 percent compared to the 2005 level in 2020.\",\\n            \"label\": \"relevant\"\\n        },\\n        {\\n            \"sentence\": \"This target may appear to be less ambitious.\",\\n            \"label\": \"irrelevant\"\\n        },\\n        {\\n            \"sentence\": \"However, this is an ambitious target .\",\\n            \"label\": \"relevant\"\\n        },\\n        {\\n            \"sentence\": \"It requires Japan to improve its ener gy efficiency by 20 percent when it is already at the world’s top level .\",\\n            \"label\": \"relevant\"\\n        },\\n        {\\n            \"sentence\": \"This is a target for the time being.\",\\n            \"label\": \"irrelevant\"\\n        },\\n        {\\n            \"sentence\": \"It was determined without taking into account the emissions reduction effect by nuclear power.\",\\n            \"label\": \"irrelevant\"\\n        },\\n        {\\n            \"sentence\": \"Consideration is underway on energy policy .\",\\n            \"label\": \"irrelevant\"\\n        },\\n        {\\n            \"sentence\": \"We will conduct further review in line with its progress .\",\\n            \"label\": \"irrelevant\"\\n        },\\n        {\\n            \"sentence\": \"And then, a firm target will eventually be set .\",\\n            \"label\": \"irrelevant\"\\n        },\\n        {\\n            \"sentence\": \"Japan will establish a low carbon society through various policy tools.\",\\n            \"label\": \"relevant\"\\n        },\\n        {\\n            \"sentence\": \"We will strategically promote mitigation measures .\",\\n            \"label\": \"relevant\"\\n        },\\n        {\\n            \"sentence\": \"We will enhance development and demonstration of renewable energy -related technologies such as offshore wind power, geothermal power and rechargeable batteries .\",\\n            \"label\": \"relevant\"\\n        },\\n        {\\n            \"sentence\": \"Japan is hosting the IPCC session next March.\",\\n            \"label\": \"irrelevant\"\\n        },\\n        {\\n            \"sentence\": \"Using that opportunity, we will launch a new public awareness campaign to further encourage low-carbon lifestyles.\",\\n            \"label\": \"relevant\"\\n        },\\n        {\\n            \"sentence\": \"Japan reaffirms the goal to reduce emissions by 50 percent at the global level and by 80 percent in the developed world by 2050.\",\\n            \"label\": \"relevant\"\\n        },\\n        {\\n            \"sentence\": \"Now is the time for Japan to take “ Actions for a Cool Earth” as advocated by Prime Minister Shinzo Abe.\",\\n            \"label\": \"relevant\"\\n        },\\n        {\\n            \"sentence\": \"First, Japan will promote further technological innovation .\",\\n            \"label\": \"relevant\"\\n        },\\n        {\\n            \"sentence\": \"Second, Japan will promote the application of Japanese low-carbon technologies around the world. In so doing , we will contribute to global emission s reductions through the use of the Joint Crediting Mechanism, or JCM .\",\\n            \"label\": \"relevant\"\\n        },\\n        {\\n            \"sentence\": \"Furthermore, Japan will strengthen its partner ships with countries and stakeholders.\",\\n            \"label\": \"relevant\"\\n        },\\n        {\\n            \"sentence\": \"We will provide support to developing countries totaling 1.6 trillion yen, about 16 billion US dollars, during the 3-year period from 201 3 to 201 5.\",\\n            \"label\": \"relevant\"\\n        },\\n        {\\n            \"sentence\": \"We will mobiliz e official development assistance, other official flows, and private finance in the field of mitigation and adaptation.\",\\n            \"label\": \"relevant\"\\n        },\\n        {\\n            \"sentence\": \"Tokyo has been selected as the host of the 2020 Summer Olympics and Paralympics.\",\\n            \"label\": \"irrelevant\"\\n        },\\n        {\\n            \"sentence\": \"Through the Olympic Games , we will demonstrate to the world a society with low carbon foot print, a society in harmony with nature and a society based on sound material cycle.\",\\n            \"label\": \"relevant\"\\n        }\\n    ]\\n}', role='assistant', function_call=None, tool_calls=None))], created=1713782430, model='gpt-3.5-turbo-0125', object='chat.completion', system_fingerprint='fp_c2295e73ad', usage=CompletionUsage(completion_tokens=1120, prompt_tokens=883, total_tokens=2003))\n"
     ]
    }
   ],
   "source": [
    "print(response)"
   ],
   "metadata": {
    "collapsed": false,
    "ExecuteTime": {
     "start_time": "2024-04-22T12:51:08.411473Z",
     "end_time": "2024-04-22T12:51:08.430630Z"
    }
   }
  },
  {
   "cell_type": "code",
   "execution_count": 23,
   "outputs": [
    {
     "ename": "TypeError",
     "evalue": "Object of type ChatCompletion is not JSON serializable",
     "output_type": "error",
     "traceback": [
      "\u001B[1;31m---------------------------------------------------------------------------\u001B[0m",
      "\u001B[1;31mTypeError\u001B[0m                                 Traceback (most recent call last)",
      "Cell \u001B[1;32mIn[23], line 7\u001B[0m\n\u001B[0;32m      5\u001B[0m \u001B[38;5;66;03m# Write the response to a JSON file\u001B[39;00m\n\u001B[0;32m      6\u001B[0m \u001B[38;5;28;01mwith\u001B[39;00m \u001B[38;5;28mopen\u001B[39m(file_path, \u001B[38;5;124m\"\u001B[39m\u001B[38;5;124mw\u001B[39m\u001B[38;5;124m\"\u001B[39m) \u001B[38;5;28;01mas\u001B[39;00m json_file:\n\u001B[1;32m----> 7\u001B[0m     \u001B[43mjson\u001B[49m\u001B[38;5;241;43m.\u001B[39;49m\u001B[43mdump\u001B[49m\u001B[43m(\u001B[49m\u001B[43mresponse\u001B[49m\u001B[43m,\u001B[49m\u001B[43m \u001B[49m\u001B[43mjson_file\u001B[49m\u001B[43m)\u001B[49m\n",
      "File \u001B[1;32mC:\\App\\Python\\Lib\\json\\__init__.py:179\u001B[0m, in \u001B[0;36mdump\u001B[1;34m(obj, fp, skipkeys, ensure_ascii, check_circular, allow_nan, cls, indent, separators, default, sort_keys, **kw)\u001B[0m\n\u001B[0;32m    173\u001B[0m     iterable \u001B[38;5;241m=\u001B[39m \u001B[38;5;28mcls\u001B[39m(skipkeys\u001B[38;5;241m=\u001B[39mskipkeys, ensure_ascii\u001B[38;5;241m=\u001B[39mensure_ascii,\n\u001B[0;32m    174\u001B[0m         check_circular\u001B[38;5;241m=\u001B[39mcheck_circular, allow_nan\u001B[38;5;241m=\u001B[39mallow_nan, indent\u001B[38;5;241m=\u001B[39mindent,\n\u001B[0;32m    175\u001B[0m         separators\u001B[38;5;241m=\u001B[39mseparators,\n\u001B[0;32m    176\u001B[0m         default\u001B[38;5;241m=\u001B[39mdefault, sort_keys\u001B[38;5;241m=\u001B[39msort_keys, \u001B[38;5;241m*\u001B[39m\u001B[38;5;241m*\u001B[39mkw)\u001B[38;5;241m.\u001B[39miterencode(obj)\n\u001B[0;32m    177\u001B[0m \u001B[38;5;66;03m# could accelerate with writelines in some versions of Python, at\u001B[39;00m\n\u001B[0;32m    178\u001B[0m \u001B[38;5;66;03m# a debuggability cost\u001B[39;00m\n\u001B[1;32m--> 179\u001B[0m \u001B[38;5;28;01mfor\u001B[39;00m chunk \u001B[38;5;129;01min\u001B[39;00m iterable:\n\u001B[0;32m    180\u001B[0m     fp\u001B[38;5;241m.\u001B[39mwrite(chunk)\n",
      "File \u001B[1;32mC:\\App\\Python\\Lib\\json\\encoder.py:439\u001B[0m, in \u001B[0;36m_make_iterencode.<locals>._iterencode\u001B[1;34m(o, _current_indent_level)\u001B[0m\n\u001B[0;32m    437\u001B[0m         \u001B[38;5;28;01mraise\u001B[39;00m \u001B[38;5;167;01mValueError\u001B[39;00m(\u001B[38;5;124m\"\u001B[39m\u001B[38;5;124mCircular reference detected\u001B[39m\u001B[38;5;124m\"\u001B[39m)\n\u001B[0;32m    438\u001B[0m     markers[markerid] \u001B[38;5;241m=\u001B[39m o\n\u001B[1;32m--> 439\u001B[0m o \u001B[38;5;241m=\u001B[39m \u001B[43m_default\u001B[49m\u001B[43m(\u001B[49m\u001B[43mo\u001B[49m\u001B[43m)\u001B[49m\n\u001B[0;32m    440\u001B[0m \u001B[38;5;28;01myield from\u001B[39;00m _iterencode(o, _current_indent_level)\n\u001B[0;32m    441\u001B[0m \u001B[38;5;28;01mif\u001B[39;00m markers \u001B[38;5;129;01mis\u001B[39;00m \u001B[38;5;129;01mnot\u001B[39;00m \u001B[38;5;28;01mNone\u001B[39;00m:\n",
      "File \u001B[1;32mC:\\App\\Python\\Lib\\json\\encoder.py:180\u001B[0m, in \u001B[0;36mJSONEncoder.default\u001B[1;34m(self, o)\u001B[0m\n\u001B[0;32m    161\u001B[0m \u001B[38;5;28;01mdef\u001B[39;00m \u001B[38;5;21mdefault\u001B[39m(\u001B[38;5;28mself\u001B[39m, o):\n\u001B[0;32m    162\u001B[0m \u001B[38;5;250m    \u001B[39m\u001B[38;5;124;03m\"\"\"Implement this method in a subclass such that it returns\u001B[39;00m\n\u001B[0;32m    163\u001B[0m \u001B[38;5;124;03m    a serializable object for ``o``, or calls the base implementation\u001B[39;00m\n\u001B[0;32m    164\u001B[0m \u001B[38;5;124;03m    (to raise a ``TypeError``).\u001B[39;00m\n\u001B[1;32m   (...)\u001B[0m\n\u001B[0;32m    178\u001B[0m \n\u001B[0;32m    179\u001B[0m \u001B[38;5;124;03m    \"\"\"\u001B[39;00m\n\u001B[1;32m--> 180\u001B[0m     \u001B[38;5;28;01mraise\u001B[39;00m \u001B[38;5;167;01mTypeError\u001B[39;00m(\u001B[38;5;124mf\u001B[39m\u001B[38;5;124m'\u001B[39m\u001B[38;5;124mObject of type \u001B[39m\u001B[38;5;132;01m{\u001B[39;00mo\u001B[38;5;241m.\u001B[39m\u001B[38;5;18m__class__\u001B[39m\u001B[38;5;241m.\u001B[39m\u001B[38;5;18m__name__\u001B[39m\u001B[38;5;132;01m}\u001B[39;00m\u001B[38;5;124m \u001B[39m\u001B[38;5;124m'\u001B[39m\n\u001B[0;32m    181\u001B[0m                     \u001B[38;5;124mf\u001B[39m\u001B[38;5;124m'\u001B[39m\u001B[38;5;124mis not JSON serializable\u001B[39m\u001B[38;5;124m'\u001B[39m)\n",
      "\u001B[1;31mTypeError\u001B[0m: Object of type ChatCompletion is not JSON serializable"
     ]
    }
   ],
   "source": [
    "# Save results\n",
    "# Specify the file path where you want to save the JSON file\n",
    "file_path = \"GPT_response_file\"\n",
    "\n",
    "# Write the response to a JSON file\n",
    "with open(file_path, \"w\") as json_file:\n",
    "    json.dump(response, json_file)\n"
   ],
   "metadata": {
    "collapsed": false,
    "ExecuteTime": {
     "start_time": "2024-04-22T12:44:21.943921Z",
     "end_time": "2024-04-22T12:44:21.947187Z"
    }
   }
  },
  {
   "cell_type": "markdown",
   "source": [
    "TODO find out how to set temperature, max tokens, seed, evaluate system_fingerprint, nr of tokens"
   ],
   "metadata": {
    "collapsed": false
   }
  }
 ],
 "metadata": {
  "kernelspec": {
   "display_name": "Python 3",
   "language": "python",
   "name": "python3"
  },
  "language_info": {
   "codemirror_mode": {
    "name": "ipython",
    "version": 2
   },
   "file_extension": ".py",
   "mimetype": "text/x-python",
   "name": "python",
   "nbconvert_exporter": "python",
   "pygments_lexer": "ipython2",
   "version": "2.7.6"
  }
 },
 "nbformat": 4,
 "nbformat_minor": 0
}
