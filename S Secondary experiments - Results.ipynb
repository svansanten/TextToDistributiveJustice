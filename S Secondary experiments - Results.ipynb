{
 "cells": [
  {
   "cell_type": "code",
   "execution_count": 34,
   "metadata": {
    "collapsed": true,
    "ExecuteTime": {
     "start_time": "2024-06-06T16:28:53.062926Z",
     "end_time": "2024-06-06T16:28:56.374884Z"
    }
   },
   "outputs": [],
   "source": [
    "import numpy as np\n",
    "import pandas as pd\n",
    "import os\n",
    "import re\n",
    "import matplotlib.pyplot as plt\n",
    "import seaborn as sns\n",
    "import difflib\n",
    "from collections import Counter\n",
    "from sklearn.metrics import ConfusionMatrixDisplay, confusion_matrix, classification_report"
   ]
  },
  {
   "cell_type": "markdown",
   "source": [
    "# Evaluation of secondary experiments regarding model settings"
   ],
   "metadata": {
    "collapsed": false
   }
  },
  {
   "cell_type": "markdown",
   "source": [
    "## S1 B1.0 - Iterations 1 - Temperature 0.6"
   ],
   "metadata": {
    "collapsed": false
   }
  },
  {
   "cell_type": "code",
   "execution_count": 35,
   "outputs": [],
   "source": [
    "#B1.0\n",
    "path_S1 = 'STRING_RESULT/B1.0/all_iterations_T0.6I1'\n",
    "\n",
    "# Open all dataframes\n",
    "S1 = pd.read_csv(f'{path_S1}/all_iterations_string_T0.6_3644.csv')\n",
    "S2 = pd.read_csv(f'{path_S1}/all_iterations_string_T0.6_3441.csv')\n",
    "S3 = pd.read_csv(f'{path_S1}/all_iterations_string_T0.6_280.csv')\n",
    "S4 = pd.read_csv(f'{path_S1}/all_iterations_string_T0.6_5991.csv')\n",
    "S5 = pd.read_csv(f'{path_S1}/all_iterations_string_T0.6_7917.csv')\n"
   ],
   "metadata": {
    "collapsed": false,
    "ExecuteTime": {
     "start_time": "2024-06-06T16:28:53.155797Z",
     "end_time": "2024-06-06T16:28:56.374884Z"
    }
   }
  },
  {
   "cell_type": "code",
   "execution_count": 36,
   "outputs": [],
   "source": [
    "# Combine all dataframes into one\n",
    "BS1_full = pd.concat([S1, S2, S3, S4, S5], ignore_index=True)"
   ],
   "metadata": {
    "collapsed": false,
    "ExecuteTime": {
     "start_time": "2024-06-06T16:28:53.155797Z",
     "end_time": "2024-06-06T16:28:56.374884Z"
    }
   }
  },
  {
   "cell_type": "code",
   "execution_count": 37,
   "outputs": [
    {
     "data": {
      "text/plain": "(4760, 6)"
     },
     "execution_count": 4,
     "metadata": {},
     "output_type": "execute_result"
    },
    {
     "data": {
      "text/plain": "(4760, 6)"
     },
     "execution_count": 37,
     "metadata": {},
     "output_type": "execute_result"
    }
   ],
   "source": [
    "# Filter rows to keep only those where the unique_id appears exactly 5 times\n",
    "filtered_S1 = BS1_full.groupby('unique_id').filter(lambda x: len(x) == 5)\n",
    "filtered_S1.shape"
   ],
   "metadata": {
    "collapsed": false,
    "ExecuteTime": {
     "start_time": "2024-06-06T16:28:53.214094Z",
     "end_time": "2024-06-06T16:28:56.437372Z"
    }
   }
  },
  {
   "cell_type": "code",
   "execution_count": 38,
   "outputs": [],
   "source": [
    "# List of unique_id's that are annotated 5 times\n",
    "unique_ids = filtered_S1['unique_id'].unique().tolist()"
   ],
   "metadata": {
    "collapsed": false,
    "ExecuteTime": {
     "start_time": "2024-06-06T16:28:53.234343Z",
     "end_time": "2024-06-06T16:28:56.437372Z"
    }
   }
  },
  {
   "cell_type": "code",
   "execution_count": 39,
   "outputs": [],
   "source": [
    "# Filter all original dataframes to only include sentences that are annotated 5x by other seeds\n",
    "FS1S1 = S1[S1['unique_id'].isin(unique_ids)]\n",
    "FS1S2 = S2[S2['unique_id'].isin(unique_ids)]\n",
    "FS1S3 = S3[S3['unique_id'].isin(unique_ids)]\n",
    "FS1S4 = S4[S4['unique_id'].isin(unique_ids)]\n",
    "FS1S5 = S5[S5['unique_id'].isin(unique_ids)]"
   ],
   "metadata": {
    "collapsed": false,
    "ExecuteTime": {
     "start_time": "2024-06-06T16:28:53.370286Z",
     "end_time": "2024-06-06T16:28:56.437372Z"
    }
   }
  },
  {
   "cell_type": "code",
   "execution_count": 40,
   "outputs": [
    {
     "name": "stdout",
     "output_type": "stream",
     "text": [
      "Classification Report for S1\n",
      "                     precision    recall  f1-score     support\n",
      "Not relevant          0.958791  0.559295  0.706478  624.000000\n",
      "Relevant              0.358354  0.850575  0.504259  174.000000\n",
      "Statement of intent   0.440000  0.500000  0.468085  154.000000\n",
      "accuracy              0.602941  0.602941  0.602941    0.602941\n",
      "macro avg             0.585715  0.636623  0.559607  952.000000\n",
      "weighted avg          0.765125  0.602941  0.630954  952.000000\n",
      "\n",
      "\n",
      "Classification Report for S2\n",
      "                     precision    recall  f1-score     support\n",
      "Not relevant          0.947368  0.548077  0.694416  624.000000\n",
      "Relevant              0.344140  0.793103  0.480000  174.000000\n",
      "Statement of intent   0.442105  0.545455  0.488372  154.000000\n",
      "accuracy              0.592437  0.592437  0.592437    0.592437\n",
      "macro avg             0.577871  0.628878  0.554263  952.000000\n",
      "weighted avg          0.755381  0.592437  0.621896  952.000000\n",
      "\n",
      "\n",
      "Classification Report for S3\n",
      "                     precision    recall  f1-score     support\n",
      "Not relevant          0.937500  0.528846  0.676230  624.000000\n",
      "Relevant              0.344828  0.804598  0.482759  174.000000\n",
      "Statement of intent   0.412371  0.519481  0.459770  154.000000\n",
      "accuracy              0.577731  0.577731  0.577731    0.577731\n",
      "macro avg             0.564900  0.617641  0.539586  952.000000\n",
      "weighted avg          0.744228  0.577731  0.605853  952.000000\n",
      "\n",
      "\n",
      "Classification Report for S4\n",
      "                     precision    recall  f1-score     support\n",
      "Not relevant          0.942149  0.548077  0.693009  624.000000\n",
      "Relevant              0.342037  0.752874  0.470377  174.000000\n",
      "Statement of intent   0.378641  0.506494  0.433333  154.000000\n",
      "accuracy              0.578782  0.578782  0.578782    0.578782\n",
      "macro avg             0.554275  0.602481  0.532240  952.000000\n",
      "weighted avg          0.741309  0.578782  0.610312  952.000000\n",
      "\n",
      "\n",
      "Classification Report for S5\n",
      "                     precision    recall  f1-score     support\n",
      "Not relevant          0.941504  0.541667  0.687691  624.000000\n",
      "Relevant              0.348958  0.770115  0.480287  174.000000\n",
      "Statement of intent   0.401914  0.545455  0.462810  154.000000\n",
      "accuracy              0.584034  0.584034  0.584034    0.584034\n",
      "macro avg             0.564125  0.619079  0.543596  952.000000\n",
      "weighted avg          0.745916  0.584034  0.613405  952.000000\n",
      "\n",
      "\n",
      "Classification Report for S1\n",
      "                     precision    recall  f1-score     support\n",
      "Not relevant          0.958791  0.559295  0.706478  624.000000\n",
      "Relevant              0.358354  0.850575  0.504259  174.000000\n",
      "Statement of intent   0.440000  0.500000  0.468085  154.000000\n",
      "accuracy              0.602941  0.602941  0.602941    0.602941\n",
      "macro avg             0.585715  0.636623  0.559607  952.000000\n",
      "weighted avg          0.765125  0.602941  0.630954  952.000000\n",
      "\n",
      "\n",
      "Classification Report for S2\n",
      "                     precision    recall  f1-score     support\n",
      "Not relevant          0.947368  0.548077  0.694416  624.000000\n",
      "Relevant              0.344140  0.793103  0.480000  174.000000\n",
      "Statement of intent   0.442105  0.545455  0.488372  154.000000\n",
      "accuracy              0.592437  0.592437  0.592437    0.592437\n",
      "macro avg             0.577871  0.628878  0.554263  952.000000\n",
      "weighted avg          0.755381  0.592437  0.621896  952.000000\n",
      "\n",
      "\n",
      "Classification Report for S3\n",
      "                     precision    recall  f1-score     support\n",
      "Not relevant          0.937500  0.528846  0.676230  624.000000\n",
      "Relevant              0.344828  0.804598  0.482759  174.000000\n",
      "Statement of intent   0.412371  0.519481  0.459770  154.000000\n",
      "accuracy              0.577731  0.577731  0.577731    0.577731\n",
      "macro avg             0.564900  0.617641  0.539586  952.000000\n",
      "weighted avg          0.744228  0.577731  0.605853  952.000000\n",
      "\n",
      "\n",
      "Classification Report for S4\n",
      "                     precision    recall  f1-score     support\n",
      "Not relevant          0.942149  0.548077  0.693009  624.000000\n",
      "Relevant              0.342037  0.752874  0.470377  174.000000\n",
      "Statement of intent   0.378641  0.506494  0.433333  154.000000\n",
      "accuracy              0.578782  0.578782  0.578782    0.578782\n",
      "macro avg             0.554275  0.602481  0.532240  952.000000\n",
      "weighted avg          0.741309  0.578782  0.610312  952.000000\n",
      "\n",
      "\n",
      "Classification Report for S5\n",
      "                     precision    recall  f1-score     support\n",
      "Not relevant          0.941504  0.541667  0.687691  624.000000\n",
      "Relevant              0.348958  0.770115  0.480287  174.000000\n",
      "Statement of intent   0.401914  0.545455  0.462810  154.000000\n",
      "accuracy              0.584034  0.584034  0.584034    0.584034\n",
      "macro avg             0.564125  0.619079  0.543596  952.000000\n",
      "weighted avg          0.745916  0.584034  0.613405  952.000000\n",
      "\n",
      "\n"
     ]
    }
   ],
   "source": [
    "# Evaluate performance of individual seeds for the same sentences\n",
    "# Function to generate classification report for each dataframe\n",
    "def generate_classification_report(df, true_label_col, pred_label_col):\n",
    "    return classification_report(df[true_label_col], df[pred_label_col], output_dict=True)\n",
    "\n",
    "# Generate classification reports\n",
    "report_S1 = generate_classification_report(FS1S1, 'RELEVANCE_x', 'RELEVANCE_y')\n",
    "report_S2 = generate_classification_report(FS1S2, 'RELEVANCE_x', 'RELEVANCE_y')\n",
    "report_S3 = generate_classification_report(FS1S3, 'RELEVANCE_x', 'RELEVANCE_y')\n",
    "report_S4 = generate_classification_report(FS1S4, 'RELEVANCE_x', 'RELEVANCE_y')\n",
    "report_S5 = generate_classification_report(FS1S5, 'RELEVANCE_x', 'RELEVANCE_y')\n",
    "\n",
    "# Function to print the classification reports for easy comparison\n",
    "def print_classification_report(report, title):\n",
    "    print(f\"Classification Report for {title}\")\n",
    "    print(pd.DataFrame(report).transpose())\n",
    "    print(\"\\n\")\n",
    "\n",
    "# Print the classification reports\n",
    "print_classification_report(report_S1, \"S1\")\n",
    "print_classification_report(report_S2, \"S2\")\n",
    "print_classification_report(report_S3, \"S3\")\n",
    "print_classification_report(report_S4, \"S4\")\n",
    "print_classification_report(report_S5, \"S5\")"
   ],
   "metadata": {
    "collapsed": false,
    "ExecuteTime": {
     "start_time": "2024-06-06T16:28:53.424660Z",
     "end_time": "2024-06-06T16:28:56.591010Z"
    }
   }
  },
  {
   "cell_type": "markdown",
   "source": [
    "Evaluate consistency of predictions over the 5 different instances - see which sentences are not consistantly predicted.\n"
   ],
   "metadata": {
    "collapsed": false
   }
  },
  {
   "cell_type": "code",
   "execution_count": 41,
   "outputs": [
    {
     "data": {
      "text/plain": "(1475, 6)"
     },
     "execution_count": 8,
     "metadata": {},
     "output_type": "execute_result"
    },
    {
     "data": {
      "text/plain": "(1475, 6)"
     },
     "execution_count": 41,
     "metadata": {},
     "output_type": "execute_result"
    }
   ],
   "source": [
    "# I want to evaluate consistency\n",
    "# Print all rows where inconsequences are found per seed\n",
    "def relevance_y_not_uniform(group):\n",
    "    return group['RELEVANCE_y'].nunique() != 1\n",
    "\n",
    "\n",
    "# Group by 'ID' and filter groups\n",
    "BS1_consistency = filtered_S1.groupby('unique_id').filter(relevance_y_not_uniform)\n",
    "\n",
    "BS1_consistency.shape"
   ],
   "metadata": {
    "collapsed": false,
    "ExecuteTime": {
     "start_time": "2024-06-06T16:28:53.533404Z",
     "end_time": "2024-06-06T16:28:56.690633Z"
    }
   }
  },
  {
   "cell_type": "markdown",
   "source": [
    "\n",
    "In combined dataframe, groupyby unique ID and take the majority label"
   ],
   "metadata": {
    "collapsed": false
   }
  },
  {
   "cell_type": "code",
   "execution_count": 42,
   "outputs": [
    {
     "data": {
      "text/plain": "     unique_id                                               text  \\\n0           20   Japan will establish a low carbon society thr...   \n1           21   We will strategically promote mitigation meas...   \n2           22   We will enhance development and demonstration...   \n3           23      Japan is hosting the IPCC session next March.   \n4           24   Using that opportunity, we will launch a new ...   \n..         ...                                                ...   \n947       1207   New Zealand is proud to suppor t several impo...   \n948       1208  I am joined by New Zealand’s largest business,...   \n949       1209  The commitment o f New Zealanders from across ...   \n950       1210                            Thank you Mr President.   \n951       1211                                          Kia Kaha    \n\n             RELEVANCE_x                                          llm_query  \\\n0    Statement of intent  20  Japan will establish a low carbon society ...   \n1    Statement of intent  21  We will strategically promote mitigation m...   \n2    Statement of intent  22  We will enhance development and demonstrat...   \n3           Not relevant  23  Japan is hosting the IPCC session next Mar...   \n4    Statement of intent  24  Using that opportunity, we will launch a n...   \n..                   ...                                                ...   \n947         Not relevant  1207  New Zealand is proud to suppor t several...   \n948         Not relevant  1208 I am joined by New Zealand’s largest busi...   \n949         Not relevant  1209 The commitment o f New Zealanders from ac...   \n950         Not relevant                    1210  Thank you Mr President.\\n   \n951         Not relevant                                   1211 Kia Kaha \\n   \n\n     iteration          RELEVANCE_y  \n0            1  Statement of intent  \n1            1  Statement of intent  \n2            1  Statement of intent  \n3            1         Not relevant  \n4            1  Statement of intent  \n..         ...                  ...  \n947          1         Not relevant  \n948          1         Not relevant  \n949          1         Not relevant  \n950          1         Not relevant  \n951          1         Not relevant  \n\n[952 rows x 6 columns]",
      "text/html": "<div>\n<style scoped>\n    .dataframe tbody tr th:only-of-type {\n        vertical-align: middle;\n    }\n\n    .dataframe tbody tr th {\n        vertical-align: top;\n    }\n\n    .dataframe thead th {\n        text-align: right;\n    }\n</style>\n<table border=\"1\" class=\"dataframe\">\n  <thead>\n    <tr style=\"text-align: right;\">\n      <th></th>\n      <th>unique_id</th>\n      <th>text</th>\n      <th>RELEVANCE_x</th>\n      <th>llm_query</th>\n      <th>iteration</th>\n      <th>RELEVANCE_y</th>\n    </tr>\n  </thead>\n  <tbody>\n    <tr>\n      <th>0</th>\n      <td>20</td>\n      <td>Japan will establish a low carbon society thr...</td>\n      <td>Statement of intent</td>\n      <td>20  Japan will establish a low carbon society ...</td>\n      <td>1</td>\n      <td>Statement of intent</td>\n    </tr>\n    <tr>\n      <th>1</th>\n      <td>21</td>\n      <td>We will strategically promote mitigation meas...</td>\n      <td>Statement of intent</td>\n      <td>21  We will strategically promote mitigation m...</td>\n      <td>1</td>\n      <td>Statement of intent</td>\n    </tr>\n    <tr>\n      <th>2</th>\n      <td>22</td>\n      <td>We will enhance development and demonstration...</td>\n      <td>Statement of intent</td>\n      <td>22  We will enhance development and demonstrat...</td>\n      <td>1</td>\n      <td>Statement of intent</td>\n    </tr>\n    <tr>\n      <th>3</th>\n      <td>23</td>\n      <td>Japan is hosting the IPCC session next March.</td>\n      <td>Not relevant</td>\n      <td>23  Japan is hosting the IPCC session next Mar...</td>\n      <td>1</td>\n      <td>Not relevant</td>\n    </tr>\n    <tr>\n      <th>4</th>\n      <td>24</td>\n      <td>Using that opportunity, we will launch a new ...</td>\n      <td>Statement of intent</td>\n      <td>24  Using that opportunity, we will launch a n...</td>\n      <td>1</td>\n      <td>Statement of intent</td>\n    </tr>\n    <tr>\n      <th>...</th>\n      <td>...</td>\n      <td>...</td>\n      <td>...</td>\n      <td>...</td>\n      <td>...</td>\n      <td>...</td>\n    </tr>\n    <tr>\n      <th>947</th>\n      <td>1207</td>\n      <td>New Zealand is proud to suppor t several impo...</td>\n      <td>Not relevant</td>\n      <td>1207  New Zealand is proud to suppor t several...</td>\n      <td>1</td>\n      <td>Not relevant</td>\n    </tr>\n    <tr>\n      <th>948</th>\n      <td>1208</td>\n      <td>I am joined by New Zealand’s largest business,...</td>\n      <td>Not relevant</td>\n      <td>1208 I am joined by New Zealand’s largest busi...</td>\n      <td>1</td>\n      <td>Not relevant</td>\n    </tr>\n    <tr>\n      <th>949</th>\n      <td>1209</td>\n      <td>The commitment o f New Zealanders from across ...</td>\n      <td>Not relevant</td>\n      <td>1209 The commitment o f New Zealanders from ac...</td>\n      <td>1</td>\n      <td>Not relevant</td>\n    </tr>\n    <tr>\n      <th>950</th>\n      <td>1210</td>\n      <td>Thank you Mr President.</td>\n      <td>Not relevant</td>\n      <td>1210  Thank you Mr President.\\n</td>\n      <td>1</td>\n      <td>Not relevant</td>\n    </tr>\n    <tr>\n      <th>951</th>\n      <td>1211</td>\n      <td>Kia Kaha</td>\n      <td>Not relevant</td>\n      <td>1211 Kia Kaha \\n</td>\n      <td>1</td>\n      <td>Not relevant</td>\n    </tr>\n  </tbody>\n</table>\n<p>952 rows × 6 columns</p>\n</div>"
     },
     "execution_count": 9,
     "metadata": {},
     "output_type": "execute_result"
    },
    {
     "data": {
      "text/plain": "     unique_id                                               text  \\\n0           20   Japan will establish a low carbon society thr...   \n1           21   We will strategically promote mitigation meas...   \n2           22   We will enhance development and demonstration...   \n3           23      Japan is hosting the IPCC session next March.   \n4           24   Using that opportunity, we will launch a new ...   \n..         ...                                                ...   \n947       1207   New Zealand is proud to suppor t several impo...   \n948       1208  I am joined by New Zealand’s largest business,...   \n949       1209  The commitment o f New Zealanders from across ...   \n950       1210                            Thank you Mr President.   \n951       1211                                          Kia Kaha    \n\n             RELEVANCE_x                                          llm_query  \\\n0    Statement of intent  20  Japan will establish a low carbon society ...   \n1    Statement of intent  21  We will strategically promote mitigation m...   \n2    Statement of intent  22  We will enhance development and demonstrat...   \n3           Not relevant  23  Japan is hosting the IPCC session next Mar...   \n4    Statement of intent  24  Using that opportunity, we will launch a n...   \n..                   ...                                                ...   \n947         Not relevant  1207  New Zealand is proud to suppor t several...   \n948         Not relevant  1208 I am joined by New Zealand’s largest busi...   \n949         Not relevant  1209 The commitment o f New Zealanders from ac...   \n950         Not relevant                    1210  Thank you Mr President.\\n   \n951         Not relevant                                   1211 Kia Kaha \\n   \n\n     iteration          RELEVANCE_y  \n0            1  Statement of intent  \n1            1  Statement of intent  \n2            1  Statement of intent  \n3            1         Not relevant  \n4            1  Statement of intent  \n..         ...                  ...  \n947          1         Not relevant  \n948          1         Not relevant  \n949          1         Not relevant  \n950          1         Not relevant  \n951          1         Not relevant  \n\n[952 rows x 6 columns]",
      "text/html": "<div>\n<style scoped>\n    .dataframe tbody tr th:only-of-type {\n        vertical-align: middle;\n    }\n\n    .dataframe tbody tr th {\n        vertical-align: top;\n    }\n\n    .dataframe thead th {\n        text-align: right;\n    }\n</style>\n<table border=\"1\" class=\"dataframe\">\n  <thead>\n    <tr style=\"text-align: right;\">\n      <th></th>\n      <th>unique_id</th>\n      <th>text</th>\n      <th>RELEVANCE_x</th>\n      <th>llm_query</th>\n      <th>iteration</th>\n      <th>RELEVANCE_y</th>\n    </tr>\n  </thead>\n  <tbody>\n    <tr>\n      <th>0</th>\n      <td>20</td>\n      <td>Japan will establish a low carbon society thr...</td>\n      <td>Statement of intent</td>\n      <td>20  Japan will establish a low carbon society ...</td>\n      <td>1</td>\n      <td>Statement of intent</td>\n    </tr>\n    <tr>\n      <th>1</th>\n      <td>21</td>\n      <td>We will strategically promote mitigation meas...</td>\n      <td>Statement of intent</td>\n      <td>21  We will strategically promote mitigation m...</td>\n      <td>1</td>\n      <td>Statement of intent</td>\n    </tr>\n    <tr>\n      <th>2</th>\n      <td>22</td>\n      <td>We will enhance development and demonstration...</td>\n      <td>Statement of intent</td>\n      <td>22  We will enhance development and demonstrat...</td>\n      <td>1</td>\n      <td>Statement of intent</td>\n    </tr>\n    <tr>\n      <th>3</th>\n      <td>23</td>\n      <td>Japan is hosting the IPCC session next March.</td>\n      <td>Not relevant</td>\n      <td>23  Japan is hosting the IPCC session next Mar...</td>\n      <td>1</td>\n      <td>Not relevant</td>\n    </tr>\n    <tr>\n      <th>4</th>\n      <td>24</td>\n      <td>Using that opportunity, we will launch a new ...</td>\n      <td>Statement of intent</td>\n      <td>24  Using that opportunity, we will launch a n...</td>\n      <td>1</td>\n      <td>Statement of intent</td>\n    </tr>\n    <tr>\n      <th>...</th>\n      <td>...</td>\n      <td>...</td>\n      <td>...</td>\n      <td>...</td>\n      <td>...</td>\n      <td>...</td>\n    </tr>\n    <tr>\n      <th>947</th>\n      <td>1207</td>\n      <td>New Zealand is proud to suppor t several impo...</td>\n      <td>Not relevant</td>\n      <td>1207  New Zealand is proud to suppor t several...</td>\n      <td>1</td>\n      <td>Not relevant</td>\n    </tr>\n    <tr>\n      <th>948</th>\n      <td>1208</td>\n      <td>I am joined by New Zealand’s largest business,...</td>\n      <td>Not relevant</td>\n      <td>1208 I am joined by New Zealand’s largest busi...</td>\n      <td>1</td>\n      <td>Not relevant</td>\n    </tr>\n    <tr>\n      <th>949</th>\n      <td>1209</td>\n      <td>The commitment o f New Zealanders from across ...</td>\n      <td>Not relevant</td>\n      <td>1209 The commitment o f New Zealanders from ac...</td>\n      <td>1</td>\n      <td>Not relevant</td>\n    </tr>\n    <tr>\n      <th>950</th>\n      <td>1210</td>\n      <td>Thank you Mr President.</td>\n      <td>Not relevant</td>\n      <td>1210  Thank you Mr President.\\n</td>\n      <td>1</td>\n      <td>Not relevant</td>\n    </tr>\n    <tr>\n      <th>951</th>\n      <td>1211</td>\n      <td>Kia Kaha</td>\n      <td>Not relevant</td>\n      <td>1211 Kia Kaha \\n</td>\n      <td>1</td>\n      <td>Not relevant</td>\n    </tr>\n  </tbody>\n</table>\n<p>952 rows × 6 columns</p>\n</div>"
     },
     "execution_count": 42,
     "metadata": {},
     "output_type": "execute_result"
    }
   ],
   "source": [
    "# Define a function to get the most frequent element\n",
    "def most_frequent(x):\n",
    "    return Counter(x).most_common(1)[0][0]\n",
    "\n",
    "# List of all columns\n",
    "all_columns = filtered_S1.columns.tolist()\n",
    "\n",
    "# Dictionary to specify aggregation functions\n",
    "agg_dict = {col: 'first' for col in all_columns if col not in ['unique_id', 'RELEVANCE_y']}\n",
    "agg_dict['RELEVANCE_y'] = most_frequent\n",
    "\n",
    "# Group by 'unique_id' and apply the aggregation functions\n",
    "filtered_S1_grouped = filtered_S1.groupby('unique_id').agg(agg_dict).reset_index()\n",
    "\n",
    "filtered_S1_grouped"
   ],
   "metadata": {
    "collapsed": false,
    "ExecuteTime": {
     "start_time": "2024-06-06T16:28:53.639787Z",
     "end_time": "2024-06-06T16:28:56.690633Z"
    }
   }
  },
  {
   "cell_type": "code",
   "execution_count": 43,
   "outputs": [
    {
     "name": "stdout",
     "output_type": "stream",
     "text": [
      "                     precision    recall  f1-score   support\n",
      "\n",
      "       Not relevant       0.95      0.55      0.69       624\n",
      "           Relevant       0.35      0.80      0.48       174\n",
      "Statement of intent       0.42      0.51      0.46       154\n",
      "\n",
      "           accuracy                           0.59       952\n",
      "          macro avg       0.57      0.62      0.55       952\n",
      "       weighted avg       0.75      0.59      0.62       952\n",
      "\n",
      "                     precision    recall  f1-score   support\n",
      "\n",
      "       Not relevant       0.95      0.55      0.69       624\n",
      "           Relevant       0.35      0.80      0.48       174\n",
      "Statement of intent       0.42      0.51      0.46       154\n",
      "\n",
      "           accuracy                           0.59       952\n",
      "          macro avg       0.57      0.62      0.55       952\n",
      "       weighted avg       0.75      0.59      0.62       952\n",
      "\n"
     ]
    }
   ],
   "source": [
    "# Evaluate performance of this dataframe\n",
    "print(classification_report(filtered_S1_grouped['RELEVANCE_x'],filtered_S1_grouped['RELEVANCE_y']))"
   ],
   "metadata": {
    "collapsed": false,
    "ExecuteTime": {
     "start_time": "2024-06-06T16:28:53.639787Z",
     "end_time": "2024-06-06T16:28:56.710058Z"
    }
   }
  },
  {
   "cell_type": "code",
   "execution_count": 44,
   "outputs": [
    {
     "data": {
      "text/plain": "(array([0, 1, 2]),\n [Text(0, 0, 'not relevant'),\n  Text(1, 0, 'statement of intent'),\n  Text(2, 0, 'relevant')])"
     },
     "execution_count": 11,
     "metadata": {},
     "output_type": "execute_result"
    },
    {
     "data": {
      "text/plain": "<Figure size 8000x8000 with 0 Axes>"
     },
     "metadata": {},
     "output_type": "display_data"
    },
    {
     "data": {
      "text/plain": "<Figure size 640x480 with 2 Axes>",
      "image/png": "[encoded data removed]"
     },
     "metadata": {},
     "output_type": "display_data"
    },
    {
     "data": {
      "text/plain": "(array([0, 1, 2]),\n [Text(0, 0, 'not relevant'),\n  Text(1, 0, 'statement of intent'),\n  Text(2, 0, 'relevant')])"
     },
     "execution_count": 44,
     "metadata": {},
     "output_type": "execute_result"
    },
    {
     "data": {
      "text/plain": "<Figure size 8000x8000 with 0 Axes>"
     },
     "metadata": {},
     "output_type": "display_data"
    },
    {
     "data": {
      "text/plain": "<Figure size 640x480 with 2 Axes>",
      "image/png": "[encoded data removed]"
     },
     "metadata": {},
     "output_type": "display_data"
    }
   ],
   "source": [
    "# Evaluate confusionmatrix for this aggregated set\n",
    "labels = ['not relevant', 'statement of intent', 'relevant']\n",
    "\n",
    "plt.figure(figsize=(80, 80))\n",
    "cm = confusion_matrix(filtered_S1_grouped['RELEVANCE_x'],filtered_S1_grouped['RELEVANCE_y'])\n",
    "disp = ConfusionMatrixDisplay(confusion_matrix=cm, display_labels=labels)\n",
    "disp.plot(cmap=plt.cm.Blues)\n",
    "\n",
    "# Rotate x-axis and y-axis tick labels\n",
    "plt.xticks(rotation=45)"
   ],
   "metadata": {
    "collapsed": false,
    "ExecuteTime": {
     "start_time": "2024-06-06T16:28:54.160206Z",
     "end_time": "2024-06-06T16:28:57.262979Z"
    }
   }
  },
  {
   "cell_type": "markdown",
   "source": [
    "____________________________________________________________________________________"
   ],
   "metadata": {
    "collapsed": false
   }
  },
  {
   "cell_type": "markdown",
   "source": [
    "## S2 B1.0 - Iterations 3 - Temperature 0"
   ],
   "metadata": {
    "collapsed": false
   }
  },
  {
   "cell_type": "code",
   "execution_count": 45,
   "outputs": [],
   "source": [
    "#B1.0\n",
    "path_S2 = 'STRING_RESULT/B1.0/all_iterations_T0I3'\n",
    "\n",
    "# Open all dataframes\n",
    "S1 = pd.read_csv(f'{path_S2}/all_iterations_string_T0_3644.csv')\n",
    "S2 = pd.read_csv(f'{path_S2}/all_iterations_string_T0_3441.csv')\n",
    "S3 = pd.read_csv(f'{path_S2}/all_iterations_string_T0_280.csv')\n",
    "S4 = pd.read_csv(f'{path_S2}/all_iterations_string_T0_5991.csv')\n",
    "S5 = pd.read_csv(f'{path_S2}/all_iterations_string_T0_7917.csv')\n"
   ],
   "metadata": {
    "collapsed": false,
    "ExecuteTime": {
     "start_time": "2024-06-06T16:28:54.394699Z",
     "end_time": "2024-06-06T16:28:57.430346Z"
    }
   }
  },
  {
   "cell_type": "markdown",
   "source": [
    "Filter all evaluations for the sentences that are evaluated for all iterations. Check the consistency of these evaluations\n"
   ],
   "metadata": {
    "collapsed": false
   }
  },
  {
   "cell_type": "code",
   "execution_count": 46,
   "outputs": [],
   "source": [
    "# I want to evaluate consistency\n",
    "# Print all rows where inconsequences are found per seed\n",
    "def relevance_y_not_uniform(group):\n",
    "    return group['RELEVANCE_y'].nunique() != 1\n"
   ],
   "metadata": {
    "collapsed": false,
    "ExecuteTime": {
     "start_time": "2024-06-06T16:28:54.394699Z",
     "end_time": "2024-06-06T16:28:57.430346Z"
    }
   }
  },
  {
   "cell_type": "code",
   "execution_count": 47,
   "outputs": [
    {
     "name": "stdout",
     "output_type": "stream",
     "text": [
      "rows with 3 iterations (3180, 6)\n",
      "original (3464, 6)\n",
      "Inconsistency in 3 iterations (324, 6)\n",
      "rows with 3 iterations (3180, 6)\n",
      "original (3464, 6)\n",
      "Inconsistency in 3 iterations (324, 6)\n"
     ]
    }
   ],
   "source": [
    "# Filter rows to keep only those where the unique_id appears exactly 3 times\n",
    "filtered_S1 = S1.groupby('unique_id').filter(lambda x: len(x) == 3)\n",
    "print('rows with 3 iterations', filtered_S1.shape)\n",
    "print('original',S1.shape)\n",
    "S1_consistency = filtered_S1.groupby('unique_id').filter(relevance_y_not_uniform)\n",
    "print('Inconsistency in 3 iterations', S1_consistency.shape)"
   ],
   "metadata": {
    "collapsed": false,
    "ExecuteTime": {
     "start_time": "2024-06-06T16:28:54.506884Z",
     "end_time": "2024-06-06T16:28:57.525970Z"
    }
   }
  },
  {
   "cell_type": "code",
   "execution_count": 48,
   "outputs": [
    {
     "name": "stdout",
     "output_type": "stream",
     "text": [
      "rows with 3 iterations (3336, 6)\n",
      "original (3516, 6)\n",
      "Inconsistency in 3 iterations (315, 6)\n",
      "rows with 3 iterations (3336, 6)\n",
      "original (3516, 6)\n",
      "Inconsistency in 3 iterations (315, 6)\n"
     ]
    }
   ],
   "source": [
    "# Filter rows to keep only those where the unique_id appears exactly 3 times\n",
    "filtered_S2 = S2.groupby('unique_id').filter(lambda x: len(x) == 3)\n",
    "print('rows with 3 iterations', filtered_S2.shape)\n",
    "print('original',S2.shape)\n",
    "S2_consistency = filtered_S2.groupby('unique_id').filter(relevance_y_not_uniform)\n",
    "print('Inconsistency in 3 iterations', S2_consistency.shape)"
   ],
   "metadata": {
    "collapsed": false,
    "ExecuteTime": {
     "start_time": "2024-06-06T16:28:54.688323Z",
     "end_time": "2024-06-06T16:28:57.702480Z"
    }
   }
  },
  {
   "cell_type": "code",
   "execution_count": 49,
   "outputs": [
    {
     "name": "stdout",
     "output_type": "stream",
     "text": [
      "rows with 3 iterations (3060, 6)\n",
      "original (3432, 6)\n",
      "Inconsistency in 3 iterations (285, 6)\n",
      "rows with 3 iterations (3060, 6)\n",
      "original (3432, 6)\n",
      "Inconsistency in 3 iterations (285, 6)\n"
     ]
    }
   ],
   "source": [
    "# Filter rows to keep only those where the unique_id appears exactly 3 times\n",
    "filtered_S3 = S3.groupby('unique_id').filter(lambda x: len(x) == 3)\n",
    "print('rows with 3 iterations', filtered_S3.shape)\n",
    "print('original',S3.shape)\n",
    "S3_consistency = filtered_S3.groupby('unique_id').filter(relevance_y_not_uniform)\n",
    "print('Inconsistency in 3 iterations', S3_consistency.shape)"
   ],
   "metadata": {
    "collapsed": false,
    "ExecuteTime": {
     "start_time": "2024-06-06T16:28:54.821393Z",
     "end_time": "2024-06-06T16:28:57.876997Z"
    }
   }
  },
  {
   "cell_type": "code",
   "execution_count": 50,
   "outputs": [
    {
     "name": "stdout",
     "output_type": "stream",
     "text": [
      "rows with 3 iterations (2976, 6)\n",
      "original (3376, 6)\n",
      "Inconsistency in 3 iterations (198, 6)\n",
      "rows with 3 iterations (2976, 6)\n",
      "original (3376, 6)\n",
      "Inconsistency in 3 iterations (198, 6)\n"
     ]
    }
   ],
   "source": [
    "# Filter rows to keep only those where the unique_id appears exactly 3 times\n",
    "filtered_S4 = S4.groupby('unique_id').filter(lambda x: len(x) == 3)\n",
    "print('rows with 3 iterations', filtered_S4.shape)\n",
    "print('original',S4.shape)\n",
    "S4_consistency = filtered_S4.groupby('unique_id').filter(relevance_y_not_uniform)\n",
    "print('Inconsistency in 3 iterations', S4_consistency.shape)"
   ],
   "metadata": {
    "collapsed": false,
    "ExecuteTime": {
     "start_time": "2024-06-06T16:28:54.972807Z",
     "end_time": "2024-06-06T16:28:58.008999Z"
    }
   }
  },
  {
   "cell_type": "code",
   "execution_count": 51,
   "outputs": [
    {
     "name": "stdout",
     "output_type": "stream",
     "text": [
      "rows with 3 iterations (3276, 6)\n",
      "original (3516, 6)\n",
      "Inconsistency in 3 iterations (315, 6)\n",
      "rows with 3 iterations (3276, 6)\n",
      "original (3516, 6)\n",
      "Inconsistency in 3 iterations (315, 6)\n"
     ]
    }
   ],
   "source": [
    "# Filter rows to keep only those where the unique_id appears exactly 3 times\n",
    "filtered_S5 = S5.groupby('unique_id').filter(lambda x: len(x) == 3)\n",
    "print('rows with 3 iterations', filtered_S5.shape)\n",
    "print('original',S5.shape)\n",
    "S5_consistency = filtered_S5.groupby('unique_id').filter(relevance_y_not_uniform)\n",
    "print('Inconsistency in 3 iterations', S5_consistency.shape)"
   ],
   "metadata": {
    "collapsed": false,
    "ExecuteTime": {
     "start_time": "2024-06-06T16:28:55.130932Z",
     "end_time": "2024-06-06T16:28:58.161885Z"
    }
   }
  },
  {
   "cell_type": "code",
   "execution_count": 52,
   "outputs": [
    {
     "data": {
      "text/plain": "   unique_id                                               text   RELEVANCE_x  \\\n0          0                         Thank you, Mr. President .  Not relevant   \n1          0                         Thank you, Mr. President .  Not relevant   \n2          0                         Thank you, Mr. President .  Not relevant   \n3          1   On beha lf of the government of Japan , I wou...  Not relevant   \n4          1   On beha lf of the government of Japan , I wou...  Not relevant   \n\n                                           llm_query   RELEVANCE_y  iteration  \n0                    0  Thank you, Mr. President .\\n  Not relevant          1  \n1                    0  Thank you, Mr. President .\\n  Not relevant          2  \n2                    0  Thank you, Mr. President .\\n  Not relevant          3  \n3  1  On beha lf of the government of Japan , I w...  Not relevant          1  \n4  1  On beha lf of the government of Japan , I w...  Not relevant          2  ",
      "text/html": "<div>\n<style scoped>\n    .dataframe tbody tr th:only-of-type {\n        vertical-align: middle;\n    }\n\n    .dataframe tbody tr th {\n        vertical-align: top;\n    }\n\n    .dataframe thead th {\n        text-align: right;\n    }\n</style>\n<table border=\"1\" class=\"dataframe\">\n  <thead>\n    <tr style=\"text-align: right;\">\n      <th></th>\n      <th>unique_id</th>\n      <th>text</th>\n      <th>RELEVANCE_x</th>\n      <th>llm_query</th>\n      <th>RELEVANCE_y</th>\n      <th>iteration</th>\n    </tr>\n  </thead>\n  <tbody>\n    <tr>\n      <th>0</th>\n      <td>0</td>\n      <td>Thank you, Mr. President .</td>\n      <td>Not relevant</td>\n      <td>0  Thank you, Mr. President .\\n</td>\n      <td>Not relevant</td>\n      <td>1</td>\n    </tr>\n    <tr>\n      <th>1</th>\n      <td>0</td>\n      <td>Thank you, Mr. President .</td>\n      <td>Not relevant</td>\n      <td>0  Thank you, Mr. President .\\n</td>\n      <td>Not relevant</td>\n      <td>2</td>\n    </tr>\n    <tr>\n      <th>2</th>\n      <td>0</td>\n      <td>Thank you, Mr. President .</td>\n      <td>Not relevant</td>\n      <td>0  Thank you, Mr. President .\\n</td>\n      <td>Not relevant</td>\n      <td>3</td>\n    </tr>\n    <tr>\n      <th>3</th>\n      <td>1</td>\n      <td>On beha lf of the government of Japan , I wou...</td>\n      <td>Not relevant</td>\n      <td>1  On beha lf of the government of Japan , I w...</td>\n      <td>Not relevant</td>\n      <td>1</td>\n    </tr>\n    <tr>\n      <th>4</th>\n      <td>1</td>\n      <td>On beha lf of the government of Japan , I wou...</td>\n      <td>Not relevant</td>\n      <td>1  On beha lf of the government of Japan , I w...</td>\n      <td>Not relevant</td>\n      <td>2</td>\n    </tr>\n  </tbody>\n</table>\n</div>"
     },
     "execution_count": 19,
     "metadata": {},
     "output_type": "execute_result"
    },
    {
     "data": {
      "text/plain": "   unique_id                                               text   RELEVANCE_x  \\\n0          0                         Thank you, Mr. President .  Not relevant   \n1          0                         Thank you, Mr. President .  Not relevant   \n2          0                         Thank you, Mr. President .  Not relevant   \n3          1   On beha lf of the government of Japan , I wou...  Not relevant   \n4          1   On beha lf of the government of Japan , I wou...  Not relevant   \n\n                                           llm_query   RELEVANCE_y  iteration  \n0                    0  Thank you, Mr. President .\\n  Not relevant          1  \n1                    0  Thank you, Mr. President .\\n  Not relevant          2  \n2                    0  Thank you, Mr. President .\\n  Not relevant          3  \n3  1  On beha lf of the government of Japan , I w...  Not relevant          1  \n4  1  On beha lf of the government of Japan , I w...  Not relevant          2  ",
      "text/html": "<div>\n<style scoped>\n    .dataframe tbody tr th:only-of-type {\n        vertical-align: middle;\n    }\n\n    .dataframe tbody tr th {\n        vertical-align: top;\n    }\n\n    .dataframe thead th {\n        text-align: right;\n    }\n</style>\n<table border=\"1\" class=\"dataframe\">\n  <thead>\n    <tr style=\"text-align: right;\">\n      <th></th>\n      <th>unique_id</th>\n      <th>text</th>\n      <th>RELEVANCE_x</th>\n      <th>llm_query</th>\n      <th>RELEVANCE_y</th>\n      <th>iteration</th>\n    </tr>\n  </thead>\n  <tbody>\n    <tr>\n      <th>0</th>\n      <td>0</td>\n      <td>Thank you, Mr. President .</td>\n      <td>Not relevant</td>\n      <td>0  Thank you, Mr. President .\\n</td>\n      <td>Not relevant</td>\n      <td>1</td>\n    </tr>\n    <tr>\n      <th>1</th>\n      <td>0</td>\n      <td>Thank you, Mr. President .</td>\n      <td>Not relevant</td>\n      <td>0  Thank you, Mr. President .\\n</td>\n      <td>Not relevant</td>\n      <td>2</td>\n    </tr>\n    <tr>\n      <th>2</th>\n      <td>0</td>\n      <td>Thank you, Mr. President .</td>\n      <td>Not relevant</td>\n      <td>0  Thank you, Mr. President .\\n</td>\n      <td>Not relevant</td>\n      <td>3</td>\n    </tr>\n    <tr>\n      <th>3</th>\n      <td>1</td>\n      <td>On beha lf of the government of Japan , I wou...</td>\n      <td>Not relevant</td>\n      <td>1  On beha lf of the government of Japan , I w...</td>\n      <td>Not relevant</td>\n      <td>1</td>\n    </tr>\n    <tr>\n      <th>4</th>\n      <td>1</td>\n      <td>On beha lf of the government of Japan , I wou...</td>\n      <td>Not relevant</td>\n      <td>1  On beha lf of the government of Japan , I w...</td>\n      <td>Not relevant</td>\n      <td>2</td>\n    </tr>\n  </tbody>\n</table>\n</div>"
     },
     "execution_count": 52,
     "metadata": {},
     "output_type": "execute_result"
    }
   ],
   "source": [
    "filtered_S5.head()"
   ],
   "metadata": {
    "collapsed": false,
    "ExecuteTime": {
     "start_time": "2024-06-06T16:28:55.131438Z",
     "end_time": "2024-06-06T16:28:58.161885Z"
    }
   }
  },
  {
   "cell_type": "code",
   "execution_count": 53,
   "outputs": [],
   "source": [
    "## Combine all filtered dataframes - contain only sentences that are annotated 3 times\n",
    "S2_full = pd.concat([filtered_S1,filtered_S2,filtered_S3, filtered_S4, filtered_S5], ignore_index=True)\n",
    "\n",
    "# Filter to keep only rows where unique ID appears 15 times - thus evaluated for all seeds\n",
    "filtered_S2 = S2_full.groupby('unique_id').filter(lambda x: len(x) == 15)"
   ],
   "metadata": {
    "collapsed": false,
    "ExecuteTime": {
     "start_time": "2024-06-06T16:28:55.131438Z",
     "end_time": "2024-06-06T16:28:58.190799Z"
    }
   }
  },
  {
   "cell_type": "markdown",
   "source": [
    "\n",
    "In combined dataframe, groupyby unique ID and take the majority label"
   ],
   "metadata": {
    "collapsed": false
   }
  },
  {
   "cell_type": "code",
   "execution_count": 54,
   "outputs": [
    {
     "data": {
      "text/plain": "     unique_id                                               text  \\\n0           20   Japan will establish a low carbon society thr...   \n1           21   We will strategically promote mitigation meas...   \n2           22   We will enhance development and demonstration...   \n3           23      Japan is hosting the IPCC session next March.   \n4           24   Using that opportunity, we will launch a new ...   \n..         ...                                                ...   \n615       1155  This global initiative prioritises climate -re...   \n616       1156  We are grateful for the 58 countries that have...   \n617       1157                    But much more needs to be done.   \n618       1158   My friends,  Jordan contributes a slim 0.06 p...   \n619       1159   Today, Jordan’s most ambitious and vital proj...   \n\n             RELEVANCE_x                                          llm_query  \\\n0    Statement of intent  20  Japan will establish a low carbon society ...   \n1    Statement of intent  21  We will strategically promote mitigation m...   \n2    Statement of intent  22  We will enhance development and demonstrat...   \n3           Not relevant  23  Japan is hosting the IPCC session next Mar...   \n4    Statement of intent  24  Using that opportunity, we will launch a n...   \n..                   ...                                                ...   \n615         Not relevant  1155 This global initiative prioritises climat...   \n616         Not relevant  1156 We are grateful for the 58 countries that...   \n617  Statement of intent             1157 But much more needs to be done.\\n   \n618         Not relevant  1158  My friends,  Jordan contributes a slim 0...   \n619         Not relevant  1159  Today, Jordan’s most ambitious and vital...   \n\n     iteration          RELEVANCE_y  \n0            1  Statement of intent  \n1            1  Statement of intent  \n2            1  Statement of intent  \n3            1         Not relevant  \n4            1  Statement of intent  \n..         ...                  ...  \n615          1  Statement of intent  \n616          1         Not relevant  \n617          1  Statement of intent  \n618          1             Relevant  \n619          1  Statement of intent  \n\n[620 rows x 6 columns]",
      "text/html": "<div>\n<style scoped>\n    .dataframe tbody tr th:only-of-type {\n        vertical-align: middle;\n    }\n\n    .dataframe tbody tr th {\n        vertical-align: top;\n    }\n\n    .dataframe thead th {\n        text-align: right;\n    }\n</style>\n<table border=\"1\" class=\"dataframe\">\n  <thead>\n    <tr style=\"text-align: right;\">\n      <th></th>\n      <th>unique_id</th>\n      <th>text</th>\n      <th>RELEVANCE_x</th>\n      <th>llm_query</th>\n      <th>iteration</th>\n      <th>RELEVANCE_y</th>\n    </tr>\n  </thead>\n  <tbody>\n    <tr>\n      <th>0</th>\n      <td>20</td>\n      <td>Japan will establish a low carbon society thr...</td>\n      <td>Statement of intent</td>\n      <td>20  Japan will establish a low carbon society ...</td>\n      <td>1</td>\n      <td>Statement of intent</td>\n    </tr>\n    <tr>\n      <th>1</th>\n      <td>21</td>\n      <td>We will strategically promote mitigation meas...</td>\n      <td>Statement of intent</td>\n      <td>21  We will strategically promote mitigation m...</td>\n      <td>1</td>\n      <td>Statement of intent</td>\n    </tr>\n    <tr>\n      <th>2</th>\n      <td>22</td>\n      <td>We will enhance development and demonstration...</td>\n      <td>Statement of intent</td>\n      <td>22  We will enhance development and demonstrat...</td>\n      <td>1</td>\n      <td>Statement of intent</td>\n    </tr>\n    <tr>\n      <th>3</th>\n      <td>23</td>\n      <td>Japan is hosting the IPCC session next March.</td>\n      <td>Not relevant</td>\n      <td>23  Japan is hosting the IPCC session next Mar...</td>\n      <td>1</td>\n      <td>Not relevant</td>\n    </tr>\n    <tr>\n      <th>4</th>\n      <td>24</td>\n      <td>Using that opportunity, we will launch a new ...</td>\n      <td>Statement of intent</td>\n      <td>24  Using that opportunity, we will launch a n...</td>\n      <td>1</td>\n      <td>Statement of intent</td>\n    </tr>\n    <tr>\n      <th>...</th>\n      <td>...</td>\n      <td>...</td>\n      <td>...</td>\n      <td>...</td>\n      <td>...</td>\n      <td>...</td>\n    </tr>\n    <tr>\n      <th>615</th>\n      <td>1155</td>\n      <td>This global initiative prioritises climate -re...</td>\n      <td>Not relevant</td>\n      <td>1155 This global initiative prioritises climat...</td>\n      <td>1</td>\n      <td>Statement of intent</td>\n    </tr>\n    <tr>\n      <th>616</th>\n      <td>1156</td>\n      <td>We are grateful for the 58 countries that have...</td>\n      <td>Not relevant</td>\n      <td>1156 We are grateful for the 58 countries that...</td>\n      <td>1</td>\n      <td>Not relevant</td>\n    </tr>\n    <tr>\n      <th>617</th>\n      <td>1157</td>\n      <td>But much more needs to be done.</td>\n      <td>Statement of intent</td>\n      <td>1157 But much more needs to be done.\\n</td>\n      <td>1</td>\n      <td>Statement of intent</td>\n    </tr>\n    <tr>\n      <th>618</th>\n      <td>1158</td>\n      <td>My friends,  Jordan contributes a slim 0.06 p...</td>\n      <td>Not relevant</td>\n      <td>1158  My friends,  Jordan contributes a slim 0...</td>\n      <td>1</td>\n      <td>Relevant</td>\n    </tr>\n    <tr>\n      <th>619</th>\n      <td>1159</td>\n      <td>Today, Jordan’s most ambitious and vital proj...</td>\n      <td>Not relevant</td>\n      <td>1159  Today, Jordan’s most ambitious and vital...</td>\n      <td>1</td>\n      <td>Statement of intent</td>\n    </tr>\n  </tbody>\n</table>\n<p>620 rows × 6 columns</p>\n</div>"
     },
     "execution_count": 21,
     "metadata": {},
     "output_type": "execute_result"
    },
    {
     "data": {
      "text/plain": "     unique_id                                               text  \\\n0           20   Japan will establish a low carbon society thr...   \n1           21   We will strategically promote mitigation meas...   \n2           22   We will enhance development and demonstration...   \n3           23      Japan is hosting the IPCC session next March.   \n4           24   Using that opportunity, we will launch a new ...   \n..         ...                                                ...   \n615       1155  This global initiative prioritises climate -re...   \n616       1156  We are grateful for the 58 countries that have...   \n617       1157                    But much more needs to be done.   \n618       1158   My friends,  Jordan contributes a slim 0.06 p...   \n619       1159   Today, Jordan’s most ambitious and vital proj...   \n\n             RELEVANCE_x                                          llm_query  \\\n0    Statement of intent  20  Japan will establish a low carbon society ...   \n1    Statement of intent  21  We will strategically promote mitigation m...   \n2    Statement of intent  22  We will enhance development and demonstrat...   \n3           Not relevant  23  Japan is hosting the IPCC session next Mar...   \n4    Statement of intent  24  Using that opportunity, we will launch a n...   \n..                   ...                                                ...   \n615         Not relevant  1155 This global initiative prioritises climat...   \n616         Not relevant  1156 We are grateful for the 58 countries that...   \n617  Statement of intent             1157 But much more needs to be done.\\n   \n618         Not relevant  1158  My friends,  Jordan contributes a slim 0...   \n619         Not relevant  1159  Today, Jordan’s most ambitious and vital...   \n\n     iteration          RELEVANCE_y  \n0            1  Statement of intent  \n1            1  Statement of intent  \n2            1  Statement of intent  \n3            1         Not relevant  \n4            1  Statement of intent  \n..         ...                  ...  \n615          1  Statement of intent  \n616          1         Not relevant  \n617          1  Statement of intent  \n618          1             Relevant  \n619          1  Statement of intent  \n\n[620 rows x 6 columns]",
      "text/html": "<div>\n<style scoped>\n    .dataframe tbody tr th:only-of-type {\n        vertical-align: middle;\n    }\n\n    .dataframe tbody tr th {\n        vertical-align: top;\n    }\n\n    .dataframe thead th {\n        text-align: right;\n    }\n</style>\n<table border=\"1\" class=\"dataframe\">\n  <thead>\n    <tr style=\"text-align: right;\">\n      <th></th>\n      <th>unique_id</th>\n      <th>text</th>\n      <th>RELEVANCE_x</th>\n      <th>llm_query</th>\n      <th>iteration</th>\n      <th>RELEVANCE_y</th>\n    </tr>\n  </thead>\n  <tbody>\n    <tr>\n      <th>0</th>\n      <td>20</td>\n      <td>Japan will establish a low carbon society thr...</td>\n      <td>Statement of intent</td>\n      <td>20  Japan will establish a low carbon society ...</td>\n      <td>1</td>\n      <td>Statement of intent</td>\n    </tr>\n    <tr>\n      <th>1</th>\n      <td>21</td>\n      <td>We will strategically promote mitigation meas...</td>\n      <td>Statement of intent</td>\n      <td>21  We will strategically promote mitigation m...</td>\n      <td>1</td>\n      <td>Statement of intent</td>\n    </tr>\n    <tr>\n      <th>2</th>\n      <td>22</td>\n      <td>We will enhance development and demonstration...</td>\n      <td>Statement of intent</td>\n      <td>22  We will enhance development and demonstrat...</td>\n      <td>1</td>\n      <td>Statement of intent</td>\n    </tr>\n    <tr>\n      <th>3</th>\n      <td>23</td>\n      <td>Japan is hosting the IPCC session next March.</td>\n      <td>Not relevant</td>\n      <td>23  Japan is hosting the IPCC session next Mar...</td>\n      <td>1</td>\n      <td>Not relevant</td>\n    </tr>\n    <tr>\n      <th>4</th>\n      <td>24</td>\n      <td>Using that opportunity, we will launch a new ...</td>\n      <td>Statement of intent</td>\n      <td>24  Using that opportunity, we will launch a n...</td>\n      <td>1</td>\n      <td>Statement of intent</td>\n    </tr>\n    <tr>\n      <th>...</th>\n      <td>...</td>\n      <td>...</td>\n      <td>...</td>\n      <td>...</td>\n      <td>...</td>\n      <td>...</td>\n    </tr>\n    <tr>\n      <th>615</th>\n      <td>1155</td>\n      <td>This global initiative prioritises climate -re...</td>\n      <td>Not relevant</td>\n      <td>1155 This global initiative prioritises climat...</td>\n      <td>1</td>\n      <td>Statement of intent</td>\n    </tr>\n    <tr>\n      <th>616</th>\n      <td>1156</td>\n      <td>We are grateful for the 58 countries that have...</td>\n      <td>Not relevant</td>\n      <td>1156 We are grateful for the 58 countries that...</td>\n      <td>1</td>\n      <td>Not relevant</td>\n    </tr>\n    <tr>\n      <th>617</th>\n      <td>1157</td>\n      <td>But much more needs to be done.</td>\n      <td>Statement of intent</td>\n      <td>1157 But much more needs to be done.\\n</td>\n      <td>1</td>\n      <td>Statement of intent</td>\n    </tr>\n    <tr>\n      <th>618</th>\n      <td>1158</td>\n      <td>My friends,  Jordan contributes a slim 0.06 p...</td>\n      <td>Not relevant</td>\n      <td>1158  My friends,  Jordan contributes a slim 0...</td>\n      <td>1</td>\n      <td>Relevant</td>\n    </tr>\n    <tr>\n      <th>619</th>\n      <td>1159</td>\n      <td>Today, Jordan’s most ambitious and vital proj...</td>\n      <td>Not relevant</td>\n      <td>1159  Today, Jordan’s most ambitious and vital...</td>\n      <td>1</td>\n      <td>Statement of intent</td>\n    </tr>\n  </tbody>\n</table>\n<p>620 rows × 6 columns</p>\n</div>"
     },
     "execution_count": 54,
     "metadata": {},
     "output_type": "execute_result"
    }
   ],
   "source": [
    "# Define a function to get the most frequent element\n",
    "def most_frequent(x):\n",
    "    return Counter(x).most_common(1)[0][0]\n",
    "\n",
    "# List of all columns\n",
    "all_columns = filtered_S2.columns.tolist()\n",
    "\n",
    "# Dictionary to specify aggregation functions\n",
    "agg_dict = {col: 'first' for col in all_columns if col not in ['unique_id', 'RELEVANCE_y']}\n",
    "agg_dict['RELEVANCE_y'] = most_frequent\n",
    "\n",
    "# Group by 'unique_id' and apply the aggregation functions\n",
    "filtered_S2_grouped = filtered_S2.groupby('unique_id').agg(agg_dict).reset_index()\n",
    "filtered_S2_grouped"
   ],
   "metadata": {
    "collapsed": false,
    "ExecuteTime": {
     "start_time": "2024-06-06T16:28:55.256365Z",
     "end_time": "2024-06-06T16:28:58.324470Z"
    }
   }
  },
  {
   "cell_type": "code",
   "execution_count": 55,
   "outputs": [
    {
     "name": "stdout",
     "output_type": "stream",
     "text": [
      "                     precision    recall  f1-score   support\n",
      "\n",
      "       Not relevant       0.91      0.54      0.68       384\n",
      "           Relevant       0.35      0.80      0.49       112\n",
      "Statement of intent       0.52      0.57      0.55       124\n",
      "\n",
      "           accuracy                           0.60       620\n",
      "          macro avg       0.60      0.64      0.57       620\n",
      "       weighted avg       0.73      0.60      0.62       620\n",
      "\n",
      "                     precision    recall  f1-score   support\n",
      "\n",
      "       Not relevant       0.91      0.54      0.68       384\n",
      "           Relevant       0.35      0.80      0.49       112\n",
      "Statement of intent       0.52      0.57      0.55       124\n",
      "\n",
      "           accuracy                           0.60       620\n",
      "          macro avg       0.60      0.64      0.57       620\n",
      "       weighted avg       0.73      0.60      0.62       620\n",
      "\n"
     ]
    }
   ],
   "source": [
    "# Evaluate performance of this dataframe\n",
    "print(classification_report(filtered_S2_grouped['RELEVANCE_x'],filtered_S2_grouped['RELEVANCE_y']))"
   ],
   "metadata": {
    "collapsed": false,
    "ExecuteTime": {
     "start_time": "2024-06-06T16:28:55.257878Z",
     "end_time": "2024-06-06T16:28:58.324470Z"
    }
   }
  },
  {
   "cell_type": "markdown",
   "source": [
    "_____________________________________________________"
   ],
   "metadata": {
    "collapsed": false
   }
  },
  {
   "cell_type": "markdown",
   "source": [
    "## S3 B1.0 - Iterations 3 - Temperature 0.6"
   ],
   "metadata": {
    "collapsed": false
   }
  },
  {
   "cell_type": "code",
   "execution_count": 56,
   "outputs": [],
   "source": [
    "#B1.0\n",
    "path_S3 = 'STRING_RESULT/B1.0/all_iterations_0.6I3'\n",
    "\n",
    "# Open all dataframes\n",
    "S1 = pd.read_csv(f'{path_S3}/all_iterations_string_T0.6_3644.csv')\n",
    "S2 = pd.read_csv(f'{path_S3}/all_iterations_string_T0.6_3441.csv')\n",
    "S3 = pd.read_csv(f'{path_S3}/all_iterations_string_T0.6_280.csv')\n",
    "S4 = pd.read_csv(f'{path_S3}/all_iterations_string_T0.6_5991.csv')\n",
    "S5 = pd.read_csv(f'{path_S3}/all_iterations_string_T0.6_7917.csv')\n"
   ],
   "metadata": {
    "collapsed": false,
    "ExecuteTime": {
     "start_time": "2024-06-06T16:28:55.404792Z",
     "end_time": "2024-06-06T16:28:58.446994Z"
    }
   }
  },
  {
   "cell_type": "markdown",
   "source": [
    "Filter all evaluations for the sentences that are evaluated for all iterations. Check the consistency of these evaluations\n"
   ],
   "metadata": {
    "collapsed": false
   }
  },
  {
   "cell_type": "code",
   "execution_count": 57,
   "outputs": [],
   "source": [
    "# I want to evaluate consistency\n",
    "# Print all rows where inconsequences are found per seed\n",
    "def relevance_y_not_uniform(group):\n",
    "    return group['RELEVANCE_y'].nunique() != 1\n"
   ],
   "metadata": {
    "collapsed": false,
    "ExecuteTime": {
     "start_time": "2024-06-06T16:28:55.404792Z",
     "end_time": "2024-06-06T16:28:58.462528Z"
    }
   }
  },
  {
   "cell_type": "code",
   "execution_count": 58,
   "outputs": [
    {
     "name": "stdout",
     "output_type": "stream",
     "text": [
      "rows with 3 iterations (3396, 6)\n",
      "original (3556, 6)\n",
      "Inconsistency in 3 iterations (417, 6)\n",
      "rows with 3 iterations (3396, 6)\n",
      "original (3556, 6)\n",
      "Inconsistency in 3 iterations (417, 6)\n"
     ]
    }
   ],
   "source": [
    "# Filter rows to keep only those where the unique_id appears exactly 3 times\n",
    "filtered_S1 = S1.groupby('unique_id').filter(lambda x: len(x) == 3)\n",
    "print('rows with 3 iterations', filtered_S1.shape)\n",
    "print('original',S1.shape)\n",
    "S1_consistency = filtered_S1.groupby('unique_id').filter(relevance_y_not_uniform)\n",
    "print('Inconsistency in 3 iterations', S1_consistency.shape)"
   ],
   "metadata": {
    "collapsed": false,
    "ExecuteTime": {
     "start_time": "2024-06-06T16:28:55.515044Z",
     "end_time": "2024-06-06T16:28:58.594157Z"
    }
   }
  },
  {
   "cell_type": "code",
   "execution_count": 59,
   "outputs": [
    {
     "name": "stdout",
     "output_type": "stream",
     "text": [
      "rows with 3 iterations (3336, 6)\n",
      "original (3536, 6)\n",
      "Inconsistency in 3 iterations (396, 6)\n",
      "rows with 3 iterations (3336, 6)\n",
      "original (3536, 6)\n",
      "Inconsistency in 3 iterations (396, 6)\n"
     ]
    }
   ],
   "source": [
    "# Filter rows to keep only those where the unique_id appears exactly 3 times\n",
    "filtered_S2 = S2.groupby('unique_id').filter(lambda x: len(x) == 3)\n",
    "print('rows with 3 iterations', filtered_S2.shape)\n",
    "print('original',S2.shape)\n",
    "S2_consistency = filtered_S2.groupby('unique_id').filter(relevance_y_not_uniform)\n",
    "print('Inconsistency in 3 iterations', S2_consistency.shape)"
   ],
   "metadata": {
    "collapsed": false,
    "ExecuteTime": {
     "start_time": "2024-06-06T16:28:55.705241Z",
     "end_time": "2024-06-06T16:28:58.727700Z"
    }
   }
  },
  {
   "cell_type": "code",
   "execution_count": 60,
   "outputs": [
    {
     "name": "stdout",
     "output_type": "stream",
     "text": [
      "rows with 3 iterations (3096, 6)\n",
      "original (3456, 6)\n",
      "Inconsistency in 3 iterations (390, 6)\n",
      "rows with 3 iterations (3096, 6)\n",
      "original (3456, 6)\n",
      "Inconsistency in 3 iterations (390, 6)\n"
     ]
    }
   ],
   "source": [
    "# Filter rows to keep only those where the unique_id appears exactly 3 times\n",
    "filtered_S3 = S3.groupby('unique_id').filter(lambda x: len(x) == 3)\n",
    "print('rows with 3 iterations', filtered_S3.shape)\n",
    "print('original',S3.shape)\n",
    "S3_consistency = filtered_S3.groupby('unique_id').filter(relevance_y_not_uniform)\n",
    "print('Inconsistency in 3 iterations', S3_consistency.shape)"
   ],
   "metadata": {
    "collapsed": false,
    "ExecuteTime": {
     "start_time": "2024-06-06T16:28:55.874582Z",
     "end_time": "2024-06-06T16:28:58.914944Z"
    }
   }
  },
  {
   "cell_type": "code",
   "execution_count": 61,
   "outputs": [
    {
     "name": "stdout",
     "output_type": "stream",
     "text": [
      "rows with 3 iterations (3156, 6)\n",
      "original (3476, 6)\n",
      "Inconsistency in 3 iterations (279, 6)\n",
      "rows with 3 iterations (3156, 6)\n",
      "original (3476, 6)\n",
      "Inconsistency in 3 iterations (279, 6)\n"
     ]
    }
   ],
   "source": [
    "# Filter rows to keep only those where the unique_id appears exactly 3 times\n",
    "filtered_S4 = S4.groupby('unique_id').filter(lambda x: len(x) == 3)\n",
    "print('rows with 3 iterations', filtered_S4.shape)\n",
    "print('original',S4.shape)\n",
    "S4_consistency = filtered_S4.groupby('unique_id').filter(relevance_y_not_uniform)\n",
    "print('Inconsistency in 3 iterations', S4_consistency.shape)"
   ],
   "metadata": {
    "collapsed": false,
    "ExecuteTime": {
     "start_time": "2024-06-06T16:28:56.005962Z",
     "end_time": "2024-06-06T16:28:59.046110Z"
    }
   }
  },
  {
   "cell_type": "code",
   "execution_count": 62,
   "outputs": [
    {
     "name": "stdout",
     "output_type": "stream",
     "text": [
      "rows with 3 iterations (3156, 6)\n",
      "original (3476, 6)\n",
      "Inconsistency in 3 iterations (480, 6)\n",
      "rows with 3 iterations (3156, 6)\n",
      "original (3476, 6)\n",
      "Inconsistency in 3 iterations (480, 6)\n"
     ]
    }
   ],
   "source": [
    "# Filter rows to keep only those where the unique_id appears exactly 3 times\n",
    "filtered_S5 = S5.groupby('unique_id').filter(lambda x: len(x) == 3)\n",
    "print('rows with 3 iterations', filtered_S5.shape)\n",
    "print('original',S5.shape)\n",
    "S5_consistency = filtered_S5.groupby('unique_id').filter(relevance_y_not_uniform)\n",
    "print('Inconsistency in 3 iterations', S5_consistency.shape)"
   ],
   "metadata": {
    "collapsed": false,
    "ExecuteTime": {
     "start_time": "2024-06-06T16:28:56.105389Z",
     "end_time": "2024-06-06T16:28:59.146116Z"
    }
   }
  },
  {
   "cell_type": "code",
   "execution_count": 63,
   "outputs": [
    {
     "data": {
      "text/plain": "   unique_id                                               text   RELEVANCE_x  \\\n0          0                         Thank you, Mr. President .  Not relevant   \n1          0                         Thank you, Mr. President .  Not relevant   \n2          0                         Thank you, Mr. President .  Not relevant   \n3          1   On beha lf of the government of Japan , I wou...  Not relevant   \n4          1   On beha lf of the government of Japan , I wou...  Not relevant   \n\n                                           llm_query   RELEVANCE_y  iteration  \n0                    0  Thank you, Mr. President .\\n  Not relevant          1  \n1                    0  Thank you, Mr. President .\\n  Not relevant          2  \n2                    0  Thank you, Mr. President .\\n  Not relevant          3  \n3  1  On beha lf of the government of Japan , I w...  Not relevant          1  \n4  1  On beha lf of the government of Japan , I w...  Not relevant          2  ",
      "text/html": "<div>\n<style scoped>\n    .dataframe tbody tr th:only-of-type {\n        vertical-align: middle;\n    }\n\n    .dataframe tbody tr th {\n        vertical-align: top;\n    }\n\n    .dataframe thead th {\n        text-align: right;\n    }\n</style>\n<table border=\"1\" class=\"dataframe\">\n  <thead>\n    <tr style=\"text-align: right;\">\n      <th></th>\n      <th>unique_id</th>\n      <th>text</th>\n      <th>RELEVANCE_x</th>\n      <th>llm_query</th>\n      <th>RELEVANCE_y</th>\n      <th>iteration</th>\n    </tr>\n  </thead>\n  <tbody>\n    <tr>\n      <th>0</th>\n      <td>0</td>\n      <td>Thank you, Mr. President .</td>\n      <td>Not relevant</td>\n      <td>0  Thank you, Mr. President .\\n</td>\n      <td>Not relevant</td>\n      <td>1</td>\n    </tr>\n    <tr>\n      <th>1</th>\n      <td>0</td>\n      <td>Thank you, Mr. President .</td>\n      <td>Not relevant</td>\n      <td>0  Thank you, Mr. President .\\n</td>\n      <td>Not relevant</td>\n      <td>2</td>\n    </tr>\n    <tr>\n      <th>2</th>\n      <td>0</td>\n      <td>Thank you, Mr. President .</td>\n      <td>Not relevant</td>\n      <td>0  Thank you, Mr. President .\\n</td>\n      <td>Not relevant</td>\n      <td>3</td>\n    </tr>\n    <tr>\n      <th>3</th>\n      <td>1</td>\n      <td>On beha lf of the government of Japan , I wou...</td>\n      <td>Not relevant</td>\n      <td>1  On beha lf of the government of Japan , I w...</td>\n      <td>Not relevant</td>\n      <td>1</td>\n    </tr>\n    <tr>\n      <th>4</th>\n      <td>1</td>\n      <td>On beha lf of the government of Japan , I wou...</td>\n      <td>Not relevant</td>\n      <td>1  On beha lf of the government of Japan , I w...</td>\n      <td>Not relevant</td>\n      <td>2</td>\n    </tr>\n  </tbody>\n</table>\n</div>"
     },
     "execution_count": 30,
     "metadata": {},
     "output_type": "execute_result"
    },
    {
     "data": {
      "text/plain": "   unique_id                                               text   RELEVANCE_x  \\\n0          0                         Thank you, Mr. President .  Not relevant   \n1          0                         Thank you, Mr. President .  Not relevant   \n2          0                         Thank you, Mr. President .  Not relevant   \n3          1   On beha lf of the government of Japan , I wou...  Not relevant   \n4          1   On beha lf of the government of Japan , I wou...  Not relevant   \n\n                                           llm_query   RELEVANCE_y  iteration  \n0                    0  Thank you, Mr. President .\\n  Not relevant          1  \n1                    0  Thank you, Mr. President .\\n  Not relevant          2  \n2                    0  Thank you, Mr. President .\\n  Not relevant          3  \n3  1  On beha lf of the government of Japan , I w...  Not relevant          1  \n4  1  On beha lf of the government of Japan , I w...  Not relevant          2  ",
      "text/html": "<div>\n<style scoped>\n    .dataframe tbody tr th:only-of-type {\n        vertical-align: middle;\n    }\n\n    .dataframe tbody tr th {\n        vertical-align: top;\n    }\n\n    .dataframe thead th {\n        text-align: right;\n    }\n</style>\n<table border=\"1\" class=\"dataframe\">\n  <thead>\n    <tr style=\"text-align: right;\">\n      <th></th>\n      <th>unique_id</th>\n      <th>text</th>\n      <th>RELEVANCE_x</th>\n      <th>llm_query</th>\n      <th>RELEVANCE_y</th>\n      <th>iteration</th>\n    </tr>\n  </thead>\n  <tbody>\n    <tr>\n      <th>0</th>\n      <td>0</td>\n      <td>Thank you, Mr. President .</td>\n      <td>Not relevant</td>\n      <td>0  Thank you, Mr. President .\\n</td>\n      <td>Not relevant</td>\n      <td>1</td>\n    </tr>\n    <tr>\n      <th>1</th>\n      <td>0</td>\n      <td>Thank you, Mr. President .</td>\n      <td>Not relevant</td>\n      <td>0  Thank you, Mr. President .\\n</td>\n      <td>Not relevant</td>\n      <td>2</td>\n    </tr>\n    <tr>\n      <th>2</th>\n      <td>0</td>\n      <td>Thank you, Mr. President .</td>\n      <td>Not relevant</td>\n      <td>0  Thank you, Mr. President .\\n</td>\n      <td>Not relevant</td>\n      <td>3</td>\n    </tr>\n    <tr>\n      <th>3</th>\n      <td>1</td>\n      <td>On beha lf of the government of Japan , I wou...</td>\n      <td>Not relevant</td>\n      <td>1  On beha lf of the government of Japan , I w...</td>\n      <td>Not relevant</td>\n      <td>1</td>\n    </tr>\n    <tr>\n      <th>4</th>\n      <td>1</td>\n      <td>On beha lf of the government of Japan , I wou...</td>\n      <td>Not relevant</td>\n      <td>1  On beha lf of the government of Japan , I w...</td>\n      <td>Not relevant</td>\n      <td>2</td>\n    </tr>\n  </tbody>\n</table>\n</div>"
     },
     "execution_count": 63,
     "metadata": {},
     "output_type": "execute_result"
    }
   ],
   "source": [
    "filtered_S5.head()"
   ],
   "metadata": {
    "collapsed": false,
    "ExecuteTime": {
     "start_time": "2024-06-06T16:28:56.105389Z",
     "end_time": "2024-06-06T16:28:59.152905Z"
    }
   }
  },
  {
   "cell_type": "code",
   "execution_count": 64,
   "outputs": [],
   "source": [
    "## Combine all filtered dataframes - contain only sentences that are annotated 3 times\n",
    "S2_full = pd.concat([filtered_S1,filtered_S2,filtered_S3, filtered_S4, filtered_S5], ignore_index=True)\n",
    "\n",
    "# Filter to keep only rows where unique ID appears 15 times - thus evaluated for all seeds\n",
    "filtered_S2 = S2_full.groupby('unique_id').filter(lambda x: len(x) == 15)"
   ],
   "metadata": {
    "collapsed": false,
    "ExecuteTime": {
     "start_time": "2024-06-06T16:28:56.180030Z",
     "end_time": "2024-06-06T16:28:59.241988Z"
    }
   }
  },
  {
   "cell_type": "markdown",
   "source": [
    "\n",
    "In combined dataframe, groupyby unique ID and take the majority label"
   ],
   "metadata": {
    "collapsed": false
   }
  },
  {
   "cell_type": "code",
   "execution_count": 68,
   "outputs": [
    {
     "data": {
      "text/plain": "     unique_id                                               text  \\\n0            0                         Thank you, Mr. President .   \n1            1   On beha lf of the government of Japan , I wou...   \n2            2   I would also like to expr ess my d eepest con...   \n3            3   Mr. President:  A fair and effective framewor...   \n4            4   In this regard, Japan firmly supports the est...   \n..         ...                                                ...   \n707       1207   New Zealand is proud to suppor t several impo...   \n708       1208  I am joined by New Zealand’s largest business,...   \n709       1209  The commitment o f New Zealanders from across ...   \n710       1210                            Thank you Mr President.   \n711       1211                                          Kia Kaha    \n\n             RELEVANCE_x                                          llm_query  \\\n0           Not relevant                    0  Thank you, Mr. President .\\n   \n1           Not relevant  1  On beha lf of the government of Japan , I w...   \n2           Not relevant  2  I would also like to expr ess my d eepest c...   \n3               Relevant  3  Mr. President:  A fair and effective framew...   \n4    Statement of intent  4  In this regard, Japan firmly supports the e...   \n..                   ...                                                ...   \n707         Not relevant  1207  New Zealand is proud to suppor t several...   \n708         Not relevant  1208 I am joined by New Zealand’s largest busi...   \n709         Not relevant  1209 The commitment o f New Zealanders from ac...   \n710         Not relevant                    1210  Thank you Mr President.\\n   \n711         Not relevant                                   1211 Kia Kaha \\n   \n\n     iteration          RELEVANCE_y  \n0            1         Not relevant  \n1            1         Not relevant  \n2            1         Not relevant  \n3            1             Relevant  \n4            1  Statement of intent  \n..         ...                  ...  \n707          1         Not relevant  \n708          1         Not relevant  \n709          1         Not relevant  \n710          1         Not relevant  \n711          1         Not relevant  \n\n[712 rows x 6 columns]",
      "text/html": "<div>\n<style scoped>\n    .dataframe tbody tr th:only-of-type {\n        vertical-align: middle;\n    }\n\n    .dataframe tbody tr th {\n        vertical-align: top;\n    }\n\n    .dataframe thead th {\n        text-align: right;\n    }\n</style>\n<table border=\"1\" class=\"dataframe\">\n  <thead>\n    <tr style=\"text-align: right;\">\n      <th></th>\n      <th>unique_id</th>\n      <th>text</th>\n      <th>RELEVANCE_x</th>\n      <th>llm_query</th>\n      <th>iteration</th>\n      <th>RELEVANCE_y</th>\n    </tr>\n  </thead>\n  <tbody>\n    <tr>\n      <th>0</th>\n      <td>0</td>\n      <td>Thank you, Mr. President .</td>\n      <td>Not relevant</td>\n      <td>0  Thank you, Mr. President .\\n</td>\n      <td>1</td>\n      <td>Not relevant</td>\n    </tr>\n    <tr>\n      <th>1</th>\n      <td>1</td>\n      <td>On beha lf of the government of Japan , I wou...</td>\n      <td>Not relevant</td>\n      <td>1  On beha lf of the government of Japan , I w...</td>\n      <td>1</td>\n      <td>Not relevant</td>\n    </tr>\n    <tr>\n      <th>2</th>\n      <td>2</td>\n      <td>I would also like to expr ess my d eepest con...</td>\n      <td>Not relevant</td>\n      <td>2  I would also like to expr ess my d eepest c...</td>\n      <td>1</td>\n      <td>Not relevant</td>\n    </tr>\n    <tr>\n      <th>3</th>\n      <td>3</td>\n      <td>Mr. President:  A fair and effective framewor...</td>\n      <td>Relevant</td>\n      <td>3  Mr. President:  A fair and effective framew...</td>\n      <td>1</td>\n      <td>Relevant</td>\n    </tr>\n    <tr>\n      <th>4</th>\n      <td>4</td>\n      <td>In this regard, Japan firmly supports the est...</td>\n      <td>Statement of intent</td>\n      <td>4  In this regard, Japan firmly supports the e...</td>\n      <td>1</td>\n      <td>Statement of intent</td>\n    </tr>\n    <tr>\n      <th>...</th>\n      <td>...</td>\n      <td>...</td>\n      <td>...</td>\n      <td>...</td>\n      <td>...</td>\n      <td>...</td>\n    </tr>\n    <tr>\n      <th>707</th>\n      <td>1207</td>\n      <td>New Zealand is proud to suppor t several impo...</td>\n      <td>Not relevant</td>\n      <td>1207  New Zealand is proud to suppor t several...</td>\n      <td>1</td>\n      <td>Not relevant</td>\n    </tr>\n    <tr>\n      <th>708</th>\n      <td>1208</td>\n      <td>I am joined by New Zealand’s largest business,...</td>\n      <td>Not relevant</td>\n      <td>1208 I am joined by New Zealand’s largest busi...</td>\n      <td>1</td>\n      <td>Not relevant</td>\n    </tr>\n    <tr>\n      <th>709</th>\n      <td>1209</td>\n      <td>The commitment o f New Zealanders from across ...</td>\n      <td>Not relevant</td>\n      <td>1209 The commitment o f New Zealanders from ac...</td>\n      <td>1</td>\n      <td>Not relevant</td>\n    </tr>\n    <tr>\n      <th>710</th>\n      <td>1210</td>\n      <td>Thank you Mr President.</td>\n      <td>Not relevant</td>\n      <td>1210  Thank you Mr President.\\n</td>\n      <td>1</td>\n      <td>Not relevant</td>\n    </tr>\n    <tr>\n      <th>711</th>\n      <td>1211</td>\n      <td>Kia Kaha</td>\n      <td>Not relevant</td>\n      <td>1211 Kia Kaha \\n</td>\n      <td>1</td>\n      <td>Not relevant</td>\n    </tr>\n  </tbody>\n</table>\n<p>712 rows × 6 columns</p>\n</div>"
     },
     "execution_count": 68,
     "metadata": {},
     "output_type": "execute_result"
    }
   ],
   "source": [
    "# Define a function to get the most frequent element\n",
    "def most_frequent(x):\n",
    "    return Counter(x).most_common(1)[0][0]\n",
    "\n",
    "# List of all columns\n",
    "all_columns = filtered_S2.columns.tolist()\n",
    "\n",
    "# Dictionary to specify aggregation functions\n",
    "agg_dict = {col: 'first' for col in all_columns if col not in ['unique_id', 'RELEVANCE_y']}\n",
    "agg_dict['RELEVANCE_y'] = most_frequent\n",
    "\n",
    "# Group by 'unique_id' and apply the aggregation functions\n",
    "filtered_S2_grouped = filtered_S2.groupby('unique_id').agg(agg_dict).reset_index()\n",
    "filtered_S2_grouped"
   ],
   "metadata": {
    "collapsed": false,
    "ExecuteTime": {
     "start_time": "2024-06-06T16:29:20.662473Z",
     "end_time": "2024-06-06T16:29:20.699235Z"
    }
   }
  },
  {
   "cell_type": "code",
   "execution_count": 67,
   "outputs": [
    {
     "name": "stdout",
     "output_type": "stream",
     "text": [
      "                     precision    recall  f1-score   support\n",
      "\n",
      "       Not relevant       0.94      0.57      0.71       450\n",
      "           Relevant       0.36      0.84      0.51       125\n",
      "Statement of intent       0.51      0.55      0.53       137\n",
      "\n",
      "           accuracy                           0.62       712\n",
      "          macro avg       0.60      0.66      0.58       712\n",
      "       weighted avg       0.75      0.62      0.64       712\n",
      "\n"
     ]
    }
   ],
   "source": [
    "# Evaluate performance of this dataframe\n",
    "print(classification_report(filtered_S2_grouped['RELEVANCE_x'],filtered_S2_grouped['RELEVANCE_y']))"
   ],
   "metadata": {
    "collapsed": false,
    "ExecuteTime": {
     "start_time": "2024-06-06T16:29:14.904080Z",
     "end_time": "2024-06-06T16:29:14.926177Z"
    }
   }
  },
  {
   "cell_type": "markdown",
   "source": [
    "_________________________________________\n",
    "\n",
    "# S4 binary evaluation with codebook A1.0\n",
    "Use a binary version of the gpt_annotate_string to calculate metrics.\n",
    "\n",
    "Performance metrics are directly calculated."
   ],
   "metadata": {
    "collapsed": false
   }
  },
  {
   "cell_type": "code",
   "execution_count": 73,
   "outputs": [],
   "source": [
    "#B1.0\n",
    "path_S3 = 'NUM_RESULT/A1.0/all_iterations_num'\n",
    "\n",
    "# Open all dataframes\n",
    "S1 = pd.read_csv(f'{path_S3}/all_iterations_num_T0_3644.csv')\n",
    "S2 = pd.read_csv(f'{path_S3}/all_iterations_num_T0_3441.csv')\n",
    "S3 = pd.read_csv(f'{path_S3}/all_iterations_num_T0_280.csv')\n",
    "S4 = pd.read_csv(f'{path_S3}/all_iterations_num_T0_5991.csv')\n",
    "S5 = pd.read_csv(f'{path_S3}/all_iterations_num_T0_7917.csv')\n"
   ],
   "metadata": {
    "collapsed": false,
    "ExecuteTime": {
     "start_time": "2024-06-06T16:43:53.710816Z",
     "end_time": "2024-06-06T16:43:53.879945Z"
    }
   }
  },
  {
   "cell_type": "code",
   "execution_count": 75,
   "outputs": [],
   "source": [
    "# Evaluate number of batches missed\n",
    "# Combine all dataframes into one\n",
    "S4_full = pd.concat([S1, S2, S3, S4, S5], ignore_index=True)"
   ],
   "metadata": {
    "collapsed": false,
    "ExecuteTime": {
     "start_time": "2024-06-06T16:45:31.425775Z",
     "end_time": "2024-06-06T16:45:31.443764Z"
    }
   }
  },
  {
   "cell_type": "code",
   "execution_count": 77,
   "outputs": [
    {
     "data": {
      "text/plain": "(4800, 10)"
     },
     "execution_count": 77,
     "metadata": {},
     "output_type": "execute_result"
    }
   ],
   "source": [
    "# Filter rows to keep only those where the unique_id appears exactly 5 times\n",
    "filtered_S4 = S4_full.groupby('unique_id').filter(lambda x: len(x) == 5)\n",
    "filtered_S4.shape"
   ],
   "metadata": {
    "collapsed": false,
    "ExecuteTime": {
     "start_time": "2024-06-06T16:45:53.210449Z",
     "end_time": "2024-06-06T16:45:53.321136Z"
    }
   }
  },
  {
   "cell_type": "code",
   "execution_count": 82,
   "outputs": [
    {
     "data": {
      "text/plain": "      unique_id                              text  relevance_0_x  \\\n0             0        Thank you, Mr. President .              1   \n3432          0        Thank you, Mr. President .              1   \n2332          0        Thank you, Mr. President .              1   \n4604          0        Thank you, Mr. President .              1   \n1160          0        Thank you, Mr. President .              1   \n...         ...                               ...            ...   \n4591       1199    We have 72 months u ntil 2030.              1   \n2319       1199    We have 72 months u ntil 2030.              1   \n1159       1199    We have 72 months u ntil 2030.              1   \n3431       1199    We have 72 months u ntil 2030.              1   \n5763       1199    We have 72 months u ntil 2030.              1   \n\n      relevance_1_x  relevance_2_x                                llm_query  \\\n0                 0              0          0  Thank you, Mr. President .\\n   \n3432              0              0          0  Thank you, Mr. President .\\n   \n2332              0              0          0  Thank you, Mr. President .\\n   \n4604              0              0          0  Thank you, Mr. President .\\n   \n1160              0              0          0  Thank you, Mr. President .\\n   \n...             ...            ...                                      ...   \n4591              0              0  1199   We have 72 months u ntil 2030.\\n   \n2319              0              0  1199   We have 72 months u ntil 2030.\\n   \n1159              0              0  1199   We have 72 months u ntil 2030.\\n   \n3431              0              0  1199   We have 72 months u ntil 2030.\\n   \n5763              0              0  1199   We have 72 months u ntil 2030.\\n   \n\n      relevance_0_y  relevance_1_y  relevance_2_y  iteration  \n0                 1              0              0          1  \n3432              1              0              0          1  \n2332              1              0              0          1  \n4604              1              0              0          1  \n1160              1              0              0          1  \n...             ...            ...            ...        ...  \n4591              1              0              0          1  \n2319              1              0              0          1  \n1159              1              0              0          1  \n3431              1              0              0          1  \n5763              1              0              0          1  \n\n[4800 rows x 10 columns]",
      "text/html": "<div>\n<style scoped>\n    .dataframe tbody tr th:only-of-type {\n        vertical-align: middle;\n    }\n\n    .dataframe tbody tr th {\n        vertical-align: top;\n    }\n\n    .dataframe thead th {\n        text-align: right;\n    }\n</style>\n<table border=\"1\" class=\"dataframe\">\n  <thead>\n    <tr style=\"text-align: right;\">\n      <th></th>\n      <th>unique_id</th>\n      <th>text</th>\n      <th>relevance_0_x</th>\n      <th>relevance_1_x</th>\n      <th>relevance_2_x</th>\n      <th>llm_query</th>\n      <th>relevance_0_y</th>\n      <th>relevance_1_y</th>\n      <th>relevance_2_y</th>\n      <th>iteration</th>\n    </tr>\n  </thead>\n  <tbody>\n    <tr>\n      <th>0</th>\n      <td>0</td>\n      <td>Thank you, Mr. President .</td>\n      <td>1</td>\n      <td>0</td>\n      <td>0</td>\n      <td>0  Thank you, Mr. President .\\n</td>\n      <td>1</td>\n      <td>0</td>\n      <td>0</td>\n      <td>1</td>\n    </tr>\n    <tr>\n      <th>3432</th>\n      <td>0</td>\n      <td>Thank you, Mr. President .</td>\n      <td>1</td>\n      <td>0</td>\n      <td>0</td>\n      <td>0  Thank you, Mr. President .\\n</td>\n      <td>1</td>\n      <td>0</td>\n      <td>0</td>\n      <td>1</td>\n    </tr>\n    <tr>\n      <th>2332</th>\n      <td>0</td>\n      <td>Thank you, Mr. President .</td>\n      <td>1</td>\n      <td>0</td>\n      <td>0</td>\n      <td>0  Thank you, Mr. President .\\n</td>\n      <td>1</td>\n      <td>0</td>\n      <td>0</td>\n      <td>1</td>\n    </tr>\n    <tr>\n      <th>4604</th>\n      <td>0</td>\n      <td>Thank you, Mr. President .</td>\n      <td>1</td>\n      <td>0</td>\n      <td>0</td>\n      <td>0  Thank you, Mr. President .\\n</td>\n      <td>1</td>\n      <td>0</td>\n      <td>0</td>\n      <td>1</td>\n    </tr>\n    <tr>\n      <th>1160</th>\n      <td>0</td>\n      <td>Thank you, Mr. President .</td>\n      <td>1</td>\n      <td>0</td>\n      <td>0</td>\n      <td>0  Thank you, Mr. President .\\n</td>\n      <td>1</td>\n      <td>0</td>\n      <td>0</td>\n      <td>1</td>\n    </tr>\n    <tr>\n      <th>...</th>\n      <td>...</td>\n      <td>...</td>\n      <td>...</td>\n      <td>...</td>\n      <td>...</td>\n      <td>...</td>\n      <td>...</td>\n      <td>...</td>\n      <td>...</td>\n      <td>...</td>\n    </tr>\n    <tr>\n      <th>4591</th>\n      <td>1199</td>\n      <td>We have 72 months u ntil 2030.</td>\n      <td>1</td>\n      <td>0</td>\n      <td>0</td>\n      <td>1199   We have 72 months u ntil 2030.\\n</td>\n      <td>1</td>\n      <td>0</td>\n      <td>0</td>\n      <td>1</td>\n    </tr>\n    <tr>\n      <th>2319</th>\n      <td>1199</td>\n      <td>We have 72 months u ntil 2030.</td>\n      <td>1</td>\n      <td>0</td>\n      <td>0</td>\n      <td>1199   We have 72 months u ntil 2030.\\n</td>\n      <td>1</td>\n      <td>0</td>\n      <td>0</td>\n      <td>1</td>\n    </tr>\n    <tr>\n      <th>1159</th>\n      <td>1199</td>\n      <td>We have 72 months u ntil 2030.</td>\n      <td>1</td>\n      <td>0</td>\n      <td>0</td>\n      <td>1199   We have 72 months u ntil 2030.\\n</td>\n      <td>1</td>\n      <td>0</td>\n      <td>0</td>\n      <td>1</td>\n    </tr>\n    <tr>\n      <th>3431</th>\n      <td>1199</td>\n      <td>We have 72 months u ntil 2030.</td>\n      <td>1</td>\n      <td>0</td>\n      <td>0</td>\n      <td>1199   We have 72 months u ntil 2030.\\n</td>\n      <td>1</td>\n      <td>0</td>\n      <td>0</td>\n      <td>1</td>\n    </tr>\n    <tr>\n      <th>5763</th>\n      <td>1199</td>\n      <td>We have 72 months u ntil 2030.</td>\n      <td>1</td>\n      <td>0</td>\n      <td>0</td>\n      <td>1199   We have 72 months u ntil 2030.\\n</td>\n      <td>1</td>\n      <td>0</td>\n      <td>0</td>\n      <td>1</td>\n    </tr>\n  </tbody>\n</table>\n<p>4800 rows × 10 columns</p>\n</div>"
     },
     "execution_count": 82,
     "metadata": {},
     "output_type": "execute_result"
    }
   ],
   "source": [
    "filtered_S4.sort_values(by='unique_id')"
   ],
   "metadata": {
    "collapsed": false,
    "ExecuteTime": {
     "start_time": "2024-06-06T16:49:57.440960Z",
     "end_time": "2024-06-06T16:49:57.479532Z"
    }
   }
  },
  {
   "cell_type": "code",
   "execution_count": 83,
   "outputs": [
    {
     "data": {
      "text/plain": "1    2809\n0    1991\nName: relevance_0_y, dtype: int64"
     },
     "execution_count": 83,
     "metadata": {},
     "output_type": "execute_result"
    }
   ],
   "source": [
    "filtered_S4.relevance_0_y.value_counts()"
   ],
   "metadata": {
    "collapsed": false,
    "ExecuteTime": {
     "start_time": "2024-06-06T16:52:00.806021Z",
     "end_time": "2024-06-06T16:52:00.849945Z"
    }
   }
  },
  {
   "cell_type": "code",
   "execution_count": 84,
   "outputs": [
    {
     "data": {
      "text/plain": "0    3325\n1    1475\nName: relevance_1_y, dtype: int64"
     },
     "execution_count": 84,
     "metadata": {},
     "output_type": "execute_result"
    }
   ],
   "source": [
    "filtered_S4.relevance_1_y.value_counts()"
   ],
   "metadata": {
    "collapsed": false,
    "ExecuteTime": {
     "start_time": "2024-06-06T16:52:39.107208Z",
     "end_time": "2024-06-06T16:52:39.145538Z"
    }
   }
  },
  {
   "cell_type": "code",
   "execution_count": 85,
   "outputs": [
    {
     "data": {
      "text/plain": "0    4107\n1     693\nName: relevance_2_y, dtype: int64"
     },
     "execution_count": 85,
     "metadata": {},
     "output_type": "execute_result"
    }
   ],
   "source": [
    "filtered_S4.relevance_2_y.value_counts()"
   ],
   "metadata": {
    "collapsed": false,
    "ExecuteTime": {
     "start_time": "2024-06-06T16:52:44.507702Z",
     "end_time": "2024-06-06T16:52:44.535767Z"
    }
   }
  },
  {
   "cell_type": "code",
   "execution_count": 88,
   "outputs": [
    {
     "data": {
      "text/plain": "1    4619\n2     179\n0       2\nName: Sum, dtype: int64"
     },
     "execution_count": 88,
     "metadata": {},
     "output_type": "execute_result"
    }
   ],
   "source": [
    "# Check for columns for which there is more than 1 label given\n",
    "filtered_S4['Sum'] = filtered_S4['relevance_0_y'] + filtered_S4['relevance_1_y'] + filtered_S4['relevance_2_y']\n",
    "\n",
    "filtered_S4.Sum.value_counts()"
   ],
   "metadata": {
    "collapsed": false,
    "ExecuteTime": {
     "start_time": "2024-06-06T16:58:19.365466Z",
     "end_time": "2024-06-06T16:58:19.391431Z"
    }
   }
  },
  {
   "cell_type": "markdown",
   "source": [],
   "metadata": {
    "collapsed": false
   }
  },
  {
   "cell_type": "code",
   "execution_count": 78,
   "outputs": [
    {
     "ename": "KeyError",
     "evalue": "'RELEVANCE_y'",
     "output_type": "error",
     "traceback": [
      "\u001B[1;31m---------------------------------------------------------------------------\u001B[0m",
      "\u001B[1;31mKeyError\u001B[0m                                  Traceback (most recent call last)",
      "File \u001B[1;32mC:\\App\\Python\\Lib\\site-packages\\pandas\\core\\indexes\\base.py:3802\u001B[0m, in \u001B[0;36mIndex.get_loc\u001B[1;34m(self, key, method, tolerance)\u001B[0m\n\u001B[0;32m   3801\u001B[0m \u001B[38;5;28;01mtry\u001B[39;00m:\n\u001B[1;32m-> 3802\u001B[0m     \u001B[38;5;28;01mreturn\u001B[39;00m \u001B[38;5;28;43mself\u001B[39;49m\u001B[38;5;241;43m.\u001B[39;49m\u001B[43m_engine\u001B[49m\u001B[38;5;241;43m.\u001B[39;49m\u001B[43mget_loc\u001B[49m\u001B[43m(\u001B[49m\u001B[43mcasted_key\u001B[49m\u001B[43m)\u001B[49m\n\u001B[0;32m   3803\u001B[0m \u001B[38;5;28;01mexcept\u001B[39;00m \u001B[38;5;167;01mKeyError\u001B[39;00m \u001B[38;5;28;01mas\u001B[39;00m err:\n",
      "File \u001B[1;32mC:\\App\\Python\\Lib\\site-packages\\pandas\\_libs\\index.pyx:138\u001B[0m, in \u001B[0;36mpandas._libs.index.IndexEngine.get_loc\u001B[1;34m()\u001B[0m\n",
      "File \u001B[1;32mC:\\App\\Python\\Lib\\site-packages\\pandas\\_libs\\index.pyx:165\u001B[0m, in \u001B[0;36mpandas._libs.index.IndexEngine.get_loc\u001B[1;34m()\u001B[0m\n",
      "File \u001B[1;32mpandas\\_libs\\hashtable_class_helper.pxi:5745\u001B[0m, in \u001B[0;36mpandas._libs.hashtable.PyObjectHashTable.get_item\u001B[1;34m()\u001B[0m\n",
      "File \u001B[1;32mpandas\\_libs\\hashtable_class_helper.pxi:5753\u001B[0m, in \u001B[0;36mpandas._libs.hashtable.PyObjectHashTable.get_item\u001B[1;34m()\u001B[0m\n",
      "\u001B[1;31mKeyError\u001B[0m: 'RELEVANCE_y'",
      "\nThe above exception was the direct cause of the following exception:\n",
      "\u001B[1;31mKeyError\u001B[0m                                  Traceback (most recent call last)",
      "Cell \u001B[1;32mIn[78], line 7\u001B[0m\n\u001B[0;32m      3\u001B[0m     \u001B[38;5;28;01mreturn\u001B[39;00m group[\u001B[38;5;124m'\u001B[39m\u001B[38;5;124mRELEVANCE_y\u001B[39m\u001B[38;5;124m'\u001B[39m]\u001B[38;5;241m.\u001B[39mnunique() \u001B[38;5;241m!=\u001B[39m \u001B[38;5;241m1\u001B[39m\n\u001B[0;32m      6\u001B[0m \u001B[38;5;66;03m# Group by 'ID' and filter groups\u001B[39;00m\n\u001B[1;32m----> 7\u001B[0m S4_consistency \u001B[38;5;241m=\u001B[39m \u001B[43mfiltered_S4\u001B[49m\u001B[38;5;241;43m.\u001B[39;49m\u001B[43mgroupby\u001B[49m\u001B[43m(\u001B[49m\u001B[38;5;124;43m'\u001B[39;49m\u001B[38;5;124;43munique_id\u001B[39;49m\u001B[38;5;124;43m'\u001B[39;49m\u001B[43m)\u001B[49m\u001B[38;5;241;43m.\u001B[39;49m\u001B[43mfilter\u001B[49m\u001B[43m(\u001B[49m\u001B[43mrelevance_y_not_uniform\u001B[49m\u001B[43m)\u001B[49m\n\u001B[0;32m      9\u001B[0m S4_consistency\n",
      "File \u001B[1;32mC:\\App\\Python\\Lib\\site-packages\\pandas\\core\\groupby\\generic.py:1382\u001B[0m, in \u001B[0;36mDataFrameGroupBy.filter\u001B[1;34m(self, func, dropna, *args, **kwargs)\u001B[0m\n\u001B[0;32m   1379\u001B[0m \u001B[38;5;28;01mfor\u001B[39;00m name, group \u001B[38;5;129;01min\u001B[39;00m gen:\n\u001B[0;32m   1380\u001B[0m     \u001B[38;5;28mobject\u001B[39m\u001B[38;5;241m.\u001B[39m\u001B[38;5;21m__setattr__\u001B[39m(group, \u001B[38;5;124m\"\u001B[39m\u001B[38;5;124mname\u001B[39m\u001B[38;5;124m\"\u001B[39m, name)\n\u001B[1;32m-> 1382\u001B[0m     res \u001B[38;5;241m=\u001B[39m \u001B[43mfunc\u001B[49m\u001B[43m(\u001B[49m\u001B[43mgroup\u001B[49m\u001B[43m,\u001B[49m\u001B[43m \u001B[49m\u001B[38;5;241;43m*\u001B[39;49m\u001B[43margs\u001B[49m\u001B[43m,\u001B[49m\u001B[43m \u001B[49m\u001B[38;5;241;43m*\u001B[39;49m\u001B[38;5;241;43m*\u001B[39;49m\u001B[43mkwargs\u001B[49m\u001B[43m)\u001B[49m\n\u001B[0;32m   1384\u001B[0m     \u001B[38;5;28;01mtry\u001B[39;00m:\n\u001B[0;32m   1385\u001B[0m         res \u001B[38;5;241m=\u001B[39m res\u001B[38;5;241m.\u001B[39msqueeze()\n",
      "Cell \u001B[1;32mIn[78], line 3\u001B[0m, in \u001B[0;36mrelevance_y_not_uniform\u001B[1;34m(group)\u001B[0m\n\u001B[0;32m      2\u001B[0m \u001B[38;5;28;01mdef\u001B[39;00m \u001B[38;5;21mrelevance_y_not_uniform\u001B[39m(group):\n\u001B[1;32m----> 3\u001B[0m     \u001B[38;5;28;01mreturn\u001B[39;00m \u001B[43mgroup\u001B[49m\u001B[43m[\u001B[49m\u001B[38;5;124;43m'\u001B[39;49m\u001B[38;5;124;43mRELEVANCE_y\u001B[39;49m\u001B[38;5;124;43m'\u001B[39;49m\u001B[43m]\u001B[49m\u001B[38;5;241m.\u001B[39mnunique() \u001B[38;5;241m!=\u001B[39m \u001B[38;5;241m1\u001B[39m\n",
      "File \u001B[1;32mC:\\App\\Python\\Lib\\site-packages\\pandas\\core\\frame.py:3807\u001B[0m, in \u001B[0;36mDataFrame.__getitem__\u001B[1;34m(self, key)\u001B[0m\n\u001B[0;32m   3805\u001B[0m \u001B[38;5;28;01mif\u001B[39;00m \u001B[38;5;28mself\u001B[39m\u001B[38;5;241m.\u001B[39mcolumns\u001B[38;5;241m.\u001B[39mnlevels \u001B[38;5;241m>\u001B[39m \u001B[38;5;241m1\u001B[39m:\n\u001B[0;32m   3806\u001B[0m     \u001B[38;5;28;01mreturn\u001B[39;00m \u001B[38;5;28mself\u001B[39m\u001B[38;5;241m.\u001B[39m_getitem_multilevel(key)\n\u001B[1;32m-> 3807\u001B[0m indexer \u001B[38;5;241m=\u001B[39m \u001B[38;5;28;43mself\u001B[39;49m\u001B[38;5;241;43m.\u001B[39;49m\u001B[43mcolumns\u001B[49m\u001B[38;5;241;43m.\u001B[39;49m\u001B[43mget_loc\u001B[49m\u001B[43m(\u001B[49m\u001B[43mkey\u001B[49m\u001B[43m)\u001B[49m\n\u001B[0;32m   3808\u001B[0m \u001B[38;5;28;01mif\u001B[39;00m is_integer(indexer):\n\u001B[0;32m   3809\u001B[0m     indexer \u001B[38;5;241m=\u001B[39m [indexer]\n",
      "File \u001B[1;32mC:\\App\\Python\\Lib\\site-packages\\pandas\\core\\indexes\\base.py:3804\u001B[0m, in \u001B[0;36mIndex.get_loc\u001B[1;34m(self, key, method, tolerance)\u001B[0m\n\u001B[0;32m   3802\u001B[0m     \u001B[38;5;28;01mreturn\u001B[39;00m \u001B[38;5;28mself\u001B[39m\u001B[38;5;241m.\u001B[39m_engine\u001B[38;5;241m.\u001B[39mget_loc(casted_key)\n\u001B[0;32m   3803\u001B[0m \u001B[38;5;28;01mexcept\u001B[39;00m \u001B[38;5;167;01mKeyError\u001B[39;00m \u001B[38;5;28;01mas\u001B[39;00m err:\n\u001B[1;32m-> 3804\u001B[0m     \u001B[38;5;28;01mraise\u001B[39;00m \u001B[38;5;167;01mKeyError\u001B[39;00m(key) \u001B[38;5;28;01mfrom\u001B[39;00m \u001B[38;5;21;01merr\u001B[39;00m\n\u001B[0;32m   3805\u001B[0m \u001B[38;5;28;01mexcept\u001B[39;00m \u001B[38;5;167;01mTypeError\u001B[39;00m:\n\u001B[0;32m   3806\u001B[0m     \u001B[38;5;66;03m# If we have a listlike key, _check_indexing_error will raise\u001B[39;00m\n\u001B[0;32m   3807\u001B[0m     \u001B[38;5;66;03m#  InvalidIndexError. Otherwise we fall through and re-raise\u001B[39;00m\n\u001B[0;32m   3808\u001B[0m     \u001B[38;5;66;03m#  the TypeError.\u001B[39;00m\n\u001B[0;32m   3809\u001B[0m     \u001B[38;5;28mself\u001B[39m\u001B[38;5;241m.\u001B[39m_check_indexing_error(key)\n",
      "\u001B[1;31mKeyError\u001B[0m: 'RELEVANCE_y'"
     ]
    }
   ],
   "source": [
    "# Consistency\n",
    "def relevance_y_not_uniform(group):\n",
    "    return group['RELEVANCE_y'].nunique() != 1\n",
    "\n",
    "\n",
    "# Group by 'ID' and filter groups\n",
    "S4_consistency = filtered_S4.groupby('unique_id').filter(relevance_y_not_uniform)\n",
    "\n",
    "S4_consistency"
   ],
   "metadata": {
    "collapsed": false
   }
  },
  {
   "cell_type": "code",
   "execution_count": 69,
   "outputs": [],
   "source": [
    "## Performance metrics\n",
    "path_S3 = 'NUM_RESULT/A1.0/performance_metrics_num'\n",
    "\n",
    "# Open all dataframes\n",
    "pS1 = pd.read_csv(f'{path_S3}/performance_metrics_T0_3644.csv')\n",
    "pS2 = pd.read_csv(f'{path_S3}/performance_metrics_T0_3441.csv')\n",
    "pS3 = pd.read_csv(f'{path_S3}/performance_metrics_T0_280.csv')\n",
    "pS4 = pd.read_csv(f'{path_S3}/performance_metrics_T0_5991.csv')\n",
    "pS5 = pd.read_csv(f'{path_S3}/performance_metrics_T0_7917.csv')\n"
   ],
   "metadata": {
    "collapsed": false,
    "ExecuteTime": {
     "start_time": "2024-06-06T16:38:24.141070Z",
     "end_time": "2024-06-06T16:38:24.230002Z"
    }
   }
  },
  {
   "cell_type": "code",
   "execution_count": 70,
   "outputs": [
    {
     "data": {
      "text/plain": "      Category  Accuracy  Precision    Recall        F1\n0  relevance_0  0.776724   0.870482  0.769640  0.816961\n1  relevance_1  0.716379   0.331522  0.595122  0.425829\n2  relevance_2  0.818103   0.479290  0.397059  0.434316",
      "text/html": "<div>\n<style scoped>\n    .dataframe tbody tr th:only-of-type {\n        vertical-align: middle;\n    }\n\n    .dataframe tbody tr th {\n        vertical-align: top;\n    }\n\n    .dataframe thead th {\n        text-align: right;\n    }\n</style>\n<table border=\"1\" class=\"dataframe\">\n  <thead>\n    <tr style=\"text-align: right;\">\n      <th></th>\n      <th>Category</th>\n      <th>Accuracy</th>\n      <th>Precision</th>\n      <th>Recall</th>\n      <th>F1</th>\n    </tr>\n  </thead>\n  <tbody>\n    <tr>\n      <th>0</th>\n      <td>relevance_0</td>\n      <td>0.776724</td>\n      <td>0.870482</td>\n      <td>0.769640</td>\n      <td>0.816961</td>\n    </tr>\n    <tr>\n      <th>1</th>\n      <td>relevance_1</td>\n      <td>0.716379</td>\n      <td>0.331522</td>\n      <td>0.595122</td>\n      <td>0.425829</td>\n    </tr>\n    <tr>\n      <th>2</th>\n      <td>relevance_2</td>\n      <td>0.818103</td>\n      <td>0.479290</td>\n      <td>0.397059</td>\n      <td>0.434316</td>\n    </tr>\n  </tbody>\n</table>\n</div>"
     },
     "execution_count": 70,
     "metadata": {},
     "output_type": "execute_result"
    }
   ],
   "source": [
    "pS1"
   ],
   "metadata": {
    "collapsed": false,
    "ExecuteTime": {
     "start_time": "2024-06-06T16:38:30.004041Z",
     "end_time": "2024-06-06T16:38:30.047665Z"
    }
   }
  },
  {
   "cell_type": "markdown",
   "source": [],
   "metadata": {
    "collapsed": false
   }
  },
  {
   "cell_type": "code",
   "execution_count": null,
   "outputs": [],
   "source": [
    "Secondary: S2: Iterations 3 – temperature 0\n",
    "S2: Iterations 3 – temperature 0\n",
    "3 iteraties met same seed. Idee is dat de voorspellingen voor iedere iteratie gelijk zijn. > Maar da is dus ook niet zo. 620 rows evaluated for all 5 seeds\n",
    "Seed1: 1060 sentences with 3 iteration, 108 inconsistent sentences\n",
    "Seed2: 1112 sentences with 3 iteration, 105 inconsistent sentences\n",
    "Seed3: 1020 sentences with 3 iteration, 95 inconsistent sentences\n",
    "Seed4: 992 sentences with 3 iteration, 66 inconsistent sentences\n",
    "Seed5: 1092 sentences with 3 iteration, 105 inconsistent sentences\n",
    "\tDoes not change performance significantly\n",
    "\n",
    "S3: Iterations 3 – temperature 0.6\n",
    "3 iterations same seed: total only 712 rows evaluated for five seeds\n",
    "Seed1: 1132 sentences with 3 iteration, 139 inconsistent sentences\n",
    "Seed2: 1112 sentences with 3 iteration, 132 inconsistent sentences\n",
    "Seed3: 1032 sentences with 3 iteration, 130 inconsistent sentences\n",
    "Seed4: 1052 sentences with 3 iteration, 93 inconsistent sentences\n",
    "Seed5: 1052 sentences with 3 iteration, 160 inconsistent sentences\n"
   ],
   "metadata": {
    "collapsed": false
   }
  }
 ],
 "metadata": {
  "kernelspec": {
   "display_name": "Python 3",
   "language": "python",
   "name": "python3"
  },
  "language_info": {
   "codemirror_mode": {
    "name": "ipython",
    "version": 2
   },
   "file_extension": ".py",
   "mimetype": "text/x-python",
   "name": "python",
   "nbconvert_exporter": "python",
   "pygments_lexer": "ipython2",
   "version": "2.7.6"
  }
 },
 "nbformat": 4,
 "nbformat_minor": 0
}
