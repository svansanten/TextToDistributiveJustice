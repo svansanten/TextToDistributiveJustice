{
 "cells": [
  {
   "cell_type": "code",
   "execution_count": 1,
   "id": "3ec3ab5e",
   "metadata": {
    "ExecuteTime": {
     "start_time": "2024-04-08T23:04:54.661146Z",
     "end_time": "2024-04-08T23:04:58.228644Z"
    }
   },
   "outputs": [],
   "source": [
    "import numpy as np\n",
    "import os\n",
    "import re\n",
    "import PyPDF2\n",
    "import pdfplumber\n",
    "import cv2\n",
    "from pdf2image import convert_from_path\n",
    "import pytesseract\n",
    "\n",
    "import matplotlib as plt\n",
    "import pandas as pd"
   ]
  },
  {
   "cell_type": "markdown",
   "id": "66d426ac",
   "metadata": {},
   "source": [
    "#### Purpose of this notebook:\n",
    "Converting all english HLS pdfs into PDF documents. Additional removing of page numbers and headings. \n",
    "\n",
    "TOTAL: 764 english documents\n",
    "\n",
    "Use of: https://tesseract-ocr.github.io/tessdoc/Installation.html\n",
    "and other packages. > needs to be noted somewhere.\n",
    "\n",
    "First try to extract text with PyPDF2.\n",
    "Some PDFs are scans from documents. Need to be processed in another way. In this case with the use of Tesseract\n",
    "\n",
    "- Document name needs to stay the same\n",
    "- inventarize: number of 'on behalf of' speeches. - total: 34 - see overall excel sheet"
   ]
  },
  {
   "cell_type": "code",
   "execution_count": 5,
   "id": "e5c86f86",
   "metadata": {
    "ExecuteTime": {
     "start_time": "2024-04-08T23:05:40.885070Z",
     "end_time": "2024-04-08T23:05:40.912263Z"
    }
   },
   "outputs": [],
   "source": [
    "# Define pdf_to_text function - initial version\n",
    "def pdf_to_text(pdf_path, text_path):\n",
    "    with open(pdf_path, 'rb') as file:\n",
    "        pdf_reader = PyPDF2.PdfReader(file)\n",
    "        with open(text_path, 'w', encoding='utf-8') as text_file:\n",
    "            num_pages = len(pdf_reader.pages)\n",
    "            for page_num in range(num_pages):\n",
    "                page = pdf_reader.pages[page_num]\n",
    "                text_file.write(page.extract_text())\n",
    "\n",
    "# Loop over all available files in HLS_pfd_eng folder\n",
    "# assign directory\n",
    "directory = 'HLS_pdf_en/ENG'\n",
    "\n",
    "# iterate over files in that directory\n",
    "#for pdf_file in os.listdir(directory):\n",
    "    # input_path = os.path.join(directory, pdf_file)\n",
    "    # output_path = os.path.join('HLS_txt', os.path.splitext(pdf_file)[0] + '.txt')\n",
    "    # try:\n",
    "    #     pdf_to_text(input_path, output_path)\n",
    "    #\n",
    "    # except Exception as e:\n",
    "    #      # If an exception occurs (indicating a potentially corrupted file), skip to the next file\n",
    "    #     print(f\"Error processing {pdf_file}: {e}\")\n",
    "    #     continue"
   ]
  },
  {
   "cell_type": "code",
   "execution_count": 6,
   "outputs": [],
   "source": [
    "pdf_to_text('HLS_pdf_en/NON ENG/cop20_hls_spain_english.pdf','HLS_txt/cop20_hls_spain_english.txt')"
   ],
   "metadata": {
    "collapsed": false,
    "ExecuteTime": {
     "start_time": "2024-04-08T23:05:43.571764Z",
     "end_time": "2024-04-08T23:05:43.702665Z"
    }
   }
  },
  {
   "attachments": {
    "image.png": {
     "image/png": "[encoded data removed]"
    }
   },
   "cell_type": "markdown",
   "id": "756baa6a",
   "metadata": {},
   "source": [
    "#### Image text extraction\n",
    "Manual inspection shows; 77 items (documents) not able to extract - txt file size 0kb\n",
    "\n",
    "Problem: part of the PDFs are document scans, not containing textual information. Needs to be converted with OCR.\n",
    "https://medium.com/@dr.booma19/extracting-text-from-pdf-files-using-ocr-a-step-by-step-guide-with-python-code-becf221529ef\n",
    "\n",
    "** Please note: USA COP25 - only presents link to US database - manual download from there **\n"
   ]
  },
  {
   "cell_type": "code",
   "execution_count": 3,
   "outputs": [],
   "source": [
    "# Fix orientation and grayscale of documents\n",
    "def deskew(image):\n",
    "    gray = cv2.cvtColor(image, cv2.COLOR_BGR2GRAY)\n",
    "    gray = cv2.bitwise_not(gray)\n",
    "    coords = np.column_stack(np.where(gray > 0))\n",
    "    angle = cv2.minAreaRect(coords)[-1]\n",
    "\n",
    "    if angle < -45:\n",
    "        angle = -(90 + angle)\n",
    "    else:\n",
    "        angle = -angle\n",
    "\n",
    "    (h, w) = image.shape[:2]\n",
    "    center = (w // 2, h // 2)\n",
    "    M = cv2.getRotationMatrix2D(center, angle, 1.0)\n",
    "    rotated = cv2.warpAffine(image, M, (w, h), flags=cv2.INTER_CUBIC, borderMode=cv2.BORDER_REPLICATE)\n",
    "\n",
    "    return rotated"
   ],
   "metadata": {
    "collapsed": false,
    "ExecuteTime": {
     "start_time": "2024-04-04T15:16:31.175912Z",
     "end_time": "2024-04-04T15:16:31.193658Z"
    }
   }
  },
  {
   "cell_type": "code",
   "execution_count": 4,
   "outputs": [],
   "source": [
    "# Define how to extract text from image\n",
    "def extract_text_from_image(image):\n",
    "    text = pytesseract.image_to_string(image)\n",
    "    return text"
   ],
   "metadata": {
    "collapsed": false,
    "ExecuteTime": {
     "start_time": "2024-04-04T15:16:31.193658Z",
     "end_time": "2024-04-04T15:16:31.204398Z"
    }
   }
  },
  {
   "cell_type": "code",
   "execution_count": 5,
   "outputs": [],
   "source": [
    "# Save text to txt file\n",
    "def save_text_to_file(text_list, output_file):\n",
    "    with open(output_file, 'w', encoding='utf-8') as file:\n",
    "        for text in text_list:\n",
    "            file.write(text + '\\n')"
   ],
   "metadata": {
    "collapsed": false,
    "ExecuteTime": {
     "start_time": "2024-04-04T15:16:31.204398Z",
     "end_time": "2024-04-04T15:16:31.230904Z"
    }
   }
  },
  {
   "cell_type": "markdown",
   "source": [
    "Use pytesseract to extract text from documents that did not process with basic pyPDF2.\n",
    "\n",
    "Iterate through file sizes and put file names of empty files in list.\n"
   ],
   "metadata": {
    "collapsed": false
   }
  },
  {
   "cell_type": "code",
   "execution_count": 6,
   "outputs": [
    {
     "name": "stdout",
     "output_type": "stream",
     "text": [
      "Total nr. of empty files: 76\n",
      "Empty files in the directory:\n",
      "afghanistan_cop22cmp12cma1_hls\n",
      "australia_cop22cmp12cma1_hls\n",
      "azerbaijan_cop22cmp12cma1_hls\n",
      "china_cop22cmp12cma1_hls\n",
      "CHINA_cop26cmp16cma3_HLS_WLS_CN_EN_FR\n",
      "cop19_hls_botswana\n",
      "cop19_hls_estonia\n",
      "cop19_hls_european_union\n",
      "cop19_hls_fiji_g77china\n",
      "cop19_hls_germany\n",
      "cop19_hls_liberia\n",
      "cop19_hls_malaysia\n",
      "cop19_hls_mozambique\n",
      "cop19_hls_niue\n",
      "cop19_hls_norway\n",
      "cop19_hls_peoples_republic_of_china\n",
      "cop19_hls_romania\n",
      "cop19_hls_solomon_islands\n",
      "cop19_hls_sri_lanka\n",
      "cop19_hls_timor_leste\n",
      "cop19_hls_turkey\n",
      "cop19_hls_uganda\n",
      "cop19_hls_united_republic_of_tanzania\n",
      "cop19_hls_uzbekistan\n",
      "cop19_hls_vietnam\n",
      "cop19_hls_zambia\n",
      "cop20_hls_holy_sea_english\n",
      "cop21cmp11_hls_speech_agn_egypt\n",
      "cop21cmp11_hls_speech_bangladesh\n",
      "cop21cmp11_hls_speech_bosnia_herz\n",
      "cop21cmp11_hls_speech_celac_ecuador\n",
      "cop21cmp11_hls_speech_eritrea\n",
      "cop21cmp11_hls_speech_eu\n",
      "cop21cmp11_hls_speech_guyana\n",
      "cop21cmp11_hls_speech_israel\n",
      "cop21cmp11_hls_speech_japan\n",
      "cop21cmp11_hls_speech_liberia\n",
      "cop21cmp11_hls_speech_mongolia\n",
      "cop21cmp11_hls_speech_niue\n",
      "cop21cmp11_hls_speech_portugal\n",
      "cop21cmp11_hls_speech_saudi_arabia\n",
      "cop21cmp11_hls_speech_seychelles\n",
      "cop21cmp11_hls_speech_somalia\n",
      "cop21cmp11_hls_speech_south_africa_g77_china\n",
      "cop21cmp11_hls_speech_thailand\n",
      "cop21cmp11_hls_speech_turkmenistan\n",
      "cuba_cop22cmp12cma1_hls\n",
      "denmark_cop22cmp12cma1_hls\n",
      "dominica_cop22cmp12cma1_hls\n",
      "germany_cop22cmp12cma1_hls\n",
      "GREECE_cop27cmp17cma4_HLS_ENG\n",
      "grenada_cop22cmp12cma1_hls\n",
      "holysee_cop23cmp13cma1-2_hls\n",
      "HOLYSEE_cop25cmp15cma2_HLS_EN\n",
      "india_cop22cmp12cma1_hls\n",
      "kazakhstan_cop22cmp12cma1_hls\n",
      "kuwait_cop22cmp12cma1_hls\n",
      "KUWAIT_cop28cmp18cma5_HLS_ENG\n",
      "liechtenstein_cop22cmp12cma1_hls\n",
      "malaysia_cop22cmp12cma1_hls\n",
      "marshall_islands_cop22cmp12cma1_hls\n",
      "MOROCCO_cop28cmp18cma5_HLS_ENG\n",
      "nigeria_cop22cmp12cma1_hls\n",
      "palau_cop22cmp12cma1_hls\n",
      "poland_cop22cmp12cma1_hls\n",
      "romania_cop22cmp12cma1_hls\n",
      "samoa_cop22cmp12cma1_hls\n",
      "slovenia_cop22cmp12cma1_hls\n",
      "south_africa__cop22cmp12cma1_hls\n",
      "sri_lanka_cop22cmp12cma1_hls\n",
      "suriname_cop23cmp13cma1-2_hls\n",
      "timor_leste_cop22cmp12cma1_hls\n",
      "TURKEY_cop24cmp14cma1-3\n",
      "uganda_cop22cmp12cma1_hls\n",
      "UGANDA_cop26cmp16cma3_HLS_EN\n",
      "vanuatu_cop22cmp12cma1_hls\n"
     ]
    }
   ],
   "source": [
    "# Directory path\n",
    "txt_directory = 'HLS_txt'\n",
    "\n",
    "# Get a list of files in the directory\n",
    "files = os.listdir(txt_directory)\n",
    "\n",
    "# Iterate through the files and check their sizes\n",
    "empty_files = []\n",
    "#for file in files:\n",
    "    file_path = os.path.join(txt_directory, file)\n",
    "    # Check if the file is empty (0KB)\n",
    "    if os.path.getsize(file_path) == 0:\n",
    "        file_name = file[:-4]\n",
    "        empty_files.append(file_name)\n",
    "\n",
    "# Print the names of empty files\n",
    "print('Total nr. of empty files:', len(empty_files))\n",
    "print(\"Empty files in the directory:\")\n",
    "#for file in empty_files:\n",
    "    print(file)"
   ],
   "metadata": {
    "collapsed": false,
    "ExecuteTime": {
     "start_time": "2024-04-04T15:16:31.215276Z",
     "end_time": "2024-04-04T15:16:31.272578Z"
    }
   }
  },
  {
   "cell_type": "code",
   "execution_count": 7,
   "outputs": [
    {
     "name": "stdout",
     "output_type": "stream",
     "text": [
      "['afghanistan_cop22cmp12cma1_hls.pdf', 'australia_cop22cmp12cma1_hls.pdf', 'azerbaijan_cop22cmp12cma1_hls.pdf', 'china_cop22cmp12cma1_hls.pdf', 'CHINA_cop26cmp16cma3_HLS_WLS_CN_EN_FR.pdf', 'cop19_hls_botswana.pdf', 'cop19_hls_estonia.pdf', 'cop19_hls_european_union.pdf', 'cop19_hls_fiji_g77china.pdf', 'cop19_hls_germany.pdf', 'cop19_hls_liberia.pdf', 'cop19_hls_malaysia.pdf', 'cop19_hls_mozambique.pdf', 'cop19_hls_niue.pdf', 'cop19_hls_norway.pdf', 'cop19_hls_peoples_republic_of_china.pdf', 'cop19_hls_romania.pdf', 'cop19_hls_solomon_islands.pdf', 'cop19_hls_sri_lanka.pdf', 'cop19_hls_timor_leste.pdf', 'cop19_hls_turkey.pdf', 'cop19_hls_uganda.pdf', 'cop19_hls_united_republic_of_tanzania.pdf', 'cop19_hls_uzbekistan.pdf', 'cop19_hls_vietnam.pdf', 'cop19_hls_zambia.pdf', 'cop20_hls_holy_sea_english.pdf', 'cop21cmp11_hls_speech_agn_egypt.pdf', 'cop21cmp11_hls_speech_bangladesh.pdf', 'cop21cmp11_hls_speech_bosnia_herz.pdf', 'cop21cmp11_hls_speech_celac_ecuador.pdf', 'cop21cmp11_hls_speech_eritrea.pdf', 'cop21cmp11_hls_speech_eu.pdf', 'cop21cmp11_hls_speech_guyana.pdf', 'cop21cmp11_hls_speech_israel.pdf', 'cop21cmp11_hls_speech_japan.pdf', 'cop21cmp11_hls_speech_liberia.pdf', 'cop21cmp11_hls_speech_mongolia.pdf', 'cop21cmp11_hls_speech_niue.pdf', 'cop21cmp11_hls_speech_portugal.pdf', 'cop21cmp11_hls_speech_saudi_arabia.pdf', 'cop21cmp11_hls_speech_seychelles.pdf', 'cop21cmp11_hls_speech_somalia.pdf', 'cop21cmp11_hls_speech_south_africa_g77_china.pdf', 'cop21cmp11_hls_speech_thailand.pdf', 'cop21cmp11_hls_speech_turkmenistan.pdf', 'cuba_cop22cmp12cma1_hls.pdf', 'denmark_cop22cmp12cma1_hls.pdf', 'dominica_cop22cmp12cma1_hls.pdf', 'germany_cop22cmp12cma1_hls.pdf', 'GREECE_cop27cmp17cma4_HLS_ENG.pdf', 'grenada_cop22cmp12cma1_hls.pdf', 'holysee_cop23cmp13cma1-2_hls.pdf', 'HOLYSEE_cop25cmp15cma2_HLS_EN.pdf', 'india_cop22cmp12cma1_hls.pdf', 'kazakhstan_cop22cmp12cma1_hls.pdf', 'kuwait_cop22cmp12cma1_hls.pdf', 'KUWAIT_cop28cmp18cma5_HLS_ENG.pdf', 'liechtenstein_cop22cmp12cma1_hls.pdf', 'malaysia_cop22cmp12cma1_hls.pdf', 'marshall_islands_cop22cmp12cma1_hls.pdf', 'MOROCCO_cop28cmp18cma5_HLS_ENG.pdf', 'nigeria_cop22cmp12cma1_hls.pdf', 'palau_cop22cmp12cma1_hls.pdf', 'poland_cop22cmp12cma1_hls.pdf', 'romania_cop22cmp12cma1_hls.pdf', 'samoa_cop22cmp12cma1_hls.pdf', 'slovenia_cop22cmp12cma1_hls.pdf', 'south_africa__cop22cmp12cma1_hls.pdf', 'sri_lanka_cop22cmp12cma1_hls.pdf', 'suriname_cop23cmp13cma1-2_hls.pdf', 'timor_leste_cop22cmp12cma1_hls.pdf', 'TURKEY_cop24cmp14cma1-3.pdf', 'uganda_cop22cmp12cma1_hls.pdf', 'UGANDA_cop26cmp16cma3_HLS_EN.pdf', 'vanuatu_cop22cmp12cma1_hls.pdf']\n"
     ]
    }
   ],
   "source": [
    "# Loop over all available files\n",
    "# assign directory\n",
    "directory = 'HLS_pdf_en/ENG'\n",
    "pdf_files = os.listdir(directory)\n",
    "\n",
    "# convert with pytesseract\n",
    "image_pdf = []\n",
    "\n",
    "#for pdf_file in pdf_files:\n",
    "    pdf_file_name = pdf_file[:-4]\n",
    "    if pdf_file_name in empty_files:\n",
    "        file_path = os.path.join(directory, pdf_file)\n",
    "        image_pdf.append(pdf_file)\n",
    "    else:\n",
    "        continue\n",
    "\n",
    "print(image_pdf)\n"
   ],
   "metadata": {
    "collapsed": false,
    "ExecuteTime": {
     "start_time": "2024-04-04T15:16:31.282283Z",
     "end_time": "2024-04-04T15:16:31.282283Z"
    }
   }
  },
  {
   "cell_type": "code",
   "execution_count": 8,
   "outputs": [
    {
     "name": "stdout",
     "output_type": "stream",
     "text": [
      "Text extracted from PDF and saved to HLS_txt\\afghanistan_cop22cmp12cma1_hls.txt\n",
      "Text extracted from PDF and saved to HLS_txt\\australia_cop22cmp12cma1_hls.txt\n",
      "Text extracted from PDF and saved to HLS_txt\\azerbaijan_cop22cmp12cma1_hls.txt\n",
      "Text extracted from PDF and saved to HLS_txt\\china_cop22cmp12cma1_hls.txt\n",
      "Text extracted from PDF and saved to HLS_txt\\CHINA_cop26cmp16cma3_HLS_WLS_CN_EN_FR.txt\n",
      "Text extracted from PDF and saved to HLS_txt\\cop19_hls_botswana.txt\n",
      "Text extracted from PDF and saved to HLS_txt\\cop19_hls_estonia.txt\n",
      "Text extracted from PDF and saved to HLS_txt\\cop19_hls_european_union.txt\n",
      "Text extracted from PDF and saved to HLS_txt\\cop19_hls_fiji_g77china.txt\n",
      "Text extracted from PDF and saved to HLS_txt\\cop19_hls_germany.txt\n",
      "Text extracted from PDF and saved to HLS_txt\\cop19_hls_liberia.txt\n",
      "Text extracted from PDF and saved to HLS_txt\\cop19_hls_malaysia.txt\n",
      "Text extracted from PDF and saved to HLS_txt\\cop19_hls_mozambique.txt\n",
      "Text extracted from PDF and saved to HLS_txt\\cop19_hls_niue.txt\n",
      "Text extracted from PDF and saved to HLS_txt\\cop19_hls_norway.txt\n",
      "Text extracted from PDF and saved to HLS_txt\\cop19_hls_peoples_republic_of_china.txt\n",
      "Text extracted from PDF and saved to HLS_txt\\cop19_hls_romania.txt\n",
      "Text extracted from PDF and saved to HLS_txt\\cop19_hls_solomon_islands.txt\n",
      "Text extracted from PDF and saved to HLS_txt\\cop19_hls_sri_lanka.txt\n",
      "Text extracted from PDF and saved to HLS_txt\\cop19_hls_timor_leste.txt\n",
      "Text extracted from PDF and saved to HLS_txt\\cop19_hls_turkey.txt\n",
      "Text extracted from PDF and saved to HLS_txt\\cop19_hls_uganda.txt\n",
      "Text extracted from PDF and saved to HLS_txt\\cop19_hls_united_republic_of_tanzania.txt\n",
      "Text extracted from PDF and saved to HLS_txt\\cop19_hls_uzbekistan.txt\n",
      "Text extracted from PDF and saved to HLS_txt\\cop19_hls_vietnam.txt\n",
      "Text extracted from PDF and saved to HLS_txt\\cop19_hls_zambia.txt\n",
      "Text extracted from PDF and saved to HLS_txt\\cop20_hls_holy_sea_english.txt\n",
      "Text extracted from PDF and saved to HLS_txt\\cop21cmp11_hls_speech_agn_egypt.txt\n",
      "Text extracted from PDF and saved to HLS_txt\\cop21cmp11_hls_speech_bangladesh.txt\n",
      "Text extracted from PDF and saved to HLS_txt\\cop21cmp11_hls_speech_bosnia_herz.txt\n",
      "Text extracted from PDF and saved to HLS_txt\\cop21cmp11_hls_speech_celac_ecuador.txt\n",
      "Text extracted from PDF and saved to HLS_txt\\cop21cmp11_hls_speech_eritrea.txt\n",
      "Text extracted from PDF and saved to HLS_txt\\cop21cmp11_hls_speech_eu.txt\n",
      "Text extracted from PDF and saved to HLS_txt\\cop21cmp11_hls_speech_guyana.txt\n",
      "Text extracted from PDF and saved to HLS_txt\\cop21cmp11_hls_speech_israel.txt\n",
      "Text extracted from PDF and saved to HLS_txt\\cop21cmp11_hls_speech_japan.txt\n",
      "Text extracted from PDF and saved to HLS_txt\\cop21cmp11_hls_speech_liberia.txt\n",
      "Text extracted from PDF and saved to HLS_txt\\cop21cmp11_hls_speech_mongolia.txt\n",
      "Text extracted from PDF and saved to HLS_txt\\cop21cmp11_hls_speech_niue.txt\n",
      "Text extracted from PDF and saved to HLS_txt\\cop21cmp11_hls_speech_portugal.txt\n",
      "Text extracted from PDF and saved to HLS_txt\\cop21cmp11_hls_speech_saudi_arabia.txt\n",
      "Text extracted from PDF and saved to HLS_txt\\cop21cmp11_hls_speech_seychelles.txt\n",
      "Text extracted from PDF and saved to HLS_txt\\cop21cmp11_hls_speech_somalia.txt\n",
      "Text extracted from PDF and saved to HLS_txt\\cop21cmp11_hls_speech_south_africa_g77_china.txt\n",
      "Text extracted from PDF and saved to HLS_txt\\cop21cmp11_hls_speech_thailand.txt\n",
      "Text extracted from PDF and saved to HLS_txt\\cop21cmp11_hls_speech_turkmenistan.txt\n",
      "Text extracted from PDF and saved to HLS_txt\\cuba_cop22cmp12cma1_hls.txt\n",
      "Text extracted from PDF and saved to HLS_txt\\denmark_cop22cmp12cma1_hls.txt\n",
      "Text extracted from PDF and saved to HLS_txt\\dominica_cop22cmp12cma1_hls.txt\n",
      "Text extracted from PDF and saved to HLS_txt\\germany_cop22cmp12cma1_hls.txt\n",
      "Text extracted from PDF and saved to HLS_txt\\GREECE_cop27cmp17cma4_HLS_ENG.txt\n",
      "Text extracted from PDF and saved to HLS_txt\\grenada_cop22cmp12cma1_hls.txt\n",
      "Text extracted from PDF and saved to HLS_txt\\holysee_cop23cmp13cma1-2_hls.txt\n",
      "Text extracted from PDF and saved to HLS_txt\\HOLYSEE_cop25cmp15cma2_HLS_EN.txt\n",
      "Text extracted from PDF and saved to HLS_txt\\india_cop22cmp12cma1_hls.txt\n",
      "Text extracted from PDF and saved to HLS_txt\\kazakhstan_cop22cmp12cma1_hls.txt\n",
      "Text extracted from PDF and saved to HLS_txt\\kuwait_cop22cmp12cma1_hls.txt\n",
      "Text extracted from PDF and saved to HLS_txt\\KUWAIT_cop28cmp18cma5_HLS_ENG.txt\n",
      "Text extracted from PDF and saved to HLS_txt\\liechtenstein_cop22cmp12cma1_hls.txt\n",
      "Text extracted from PDF and saved to HLS_txt\\malaysia_cop22cmp12cma1_hls.txt\n",
      "Text extracted from PDF and saved to HLS_txt\\marshall_islands_cop22cmp12cma1_hls.txt\n",
      "Text extracted from PDF and saved to HLS_txt\\MOROCCO_cop28cmp18cma5_HLS_ENG.txt\n",
      "Text extracted from PDF and saved to HLS_txt\\nigeria_cop22cmp12cma1_hls.txt\n",
      "Text extracted from PDF and saved to HLS_txt\\palau_cop22cmp12cma1_hls.txt\n",
      "Text extracted from PDF and saved to HLS_txt\\poland_cop22cmp12cma1_hls.txt\n",
      "Text extracted from PDF and saved to HLS_txt\\romania_cop22cmp12cma1_hls.txt\n",
      "Text extracted from PDF and saved to HLS_txt\\samoa_cop22cmp12cma1_hls.txt\n",
      "Text extracted from PDF and saved to HLS_txt\\slovenia_cop22cmp12cma1_hls.txt\n",
      "Text extracted from PDF and saved to HLS_txt\\south_africa__cop22cmp12cma1_hls.txt\n",
      "Text extracted from PDF and saved to HLS_txt\\sri_lanka_cop22cmp12cma1_hls.txt\n",
      "Text extracted from PDF and saved to HLS_txt\\suriname_cop23cmp13cma1-2_hls.txt\n",
      "Text extracted from PDF and saved to HLS_txt\\timor_leste_cop22cmp12cma1_hls.txt\n",
      "Text extracted from PDF and saved to HLS_txt\\TURKEY_cop24cmp14cma1-3.txt\n",
      "Text extracted from PDF and saved to HLS_txt\\uganda_cop22cmp12cma1_hls.txt\n",
      "Text extracted from PDF and saved to HLS_txt\\UGANDA_cop26cmp16cma3_HLS_EN.txt\n",
      "Text extracted from PDF and saved to HLS_txt\\vanuatu_cop22cmp12cma1_hls.txt\n"
     ]
    }
   ],
   "source": [
    "# iterate over files in the not-correctly processed pfd file directory\n",
    "#for pdf_file in image_pdf:\n",
    "    input_path = os.path.join(directory, pdf_file)\n",
    "\n",
    "    output_path = os.path.join('HLS_txt', os.path.splitext(pdf_file)[0] + '.txt')\n",
    "\n",
    "    try:\n",
    "        pages = convert_from_path(input_path)\n",
    "\n",
    "        extracted_text = []\n",
    "\n",
    "        for page in pages:\n",
    "            # Step 2: Preprocess the image (deskew)\n",
    "            preprocessed_image = deskew(np.array(page))\n",
    "\n",
    "            # Step 3: Extract text using OCR\n",
    "            text = extract_text_from_image(preprocessed_image)\n",
    "            extracted_text.append(text)\n",
    "\n",
    "        save_text_to_file(extracted_text, output_path)\n",
    "        print(\"Text extracted from PDF and saved to\", output_path)\n",
    "\n",
    "    except Exception as e:\n",
    "         # If an exception occurs (indicating a potentially corrupted file), skip to the next file\n",
    "        print(f\"Error processing {pdf_file}: {e}\")\n",
    "        continue"
   ],
   "metadata": {
    "collapsed": false,
    "ExecuteTime": {
     "start_time": "2024-04-04T15:16:31.282283Z",
     "end_time": "2024-04-04T15:27:38.770384Z"
    }
   }
  },
  {
   "cell_type": "markdown",
   "source": [
    "Important: need a manual evaluation of the documents to check if everything is converted to txt. This is necessary because lay-outs and fonts are varying between documents and OCR might not be able to interpret everything as well.\n",
    "\n",
    "Check random stash of image-converted documents, also removing some unnecessary information like headers. There also will be some incomplete/inaccurately processed documents. These need to be marked and evaluated.\n",
    "\n",
    "First: reformat all files."
   ],
   "metadata": {
    "collapsed": false
   }
  },
  {
   "cell_type": "code",
   "execution_count": 12,
   "outputs": [
    {
     "name": "stdout",
     "output_type": "stream",
     "text": [
      "Double spaces removed from all .txt files in the directory.\n"
     ]
    }
   ],
   "source": [
    "def remove_double_spaces_in_file(file_path, encoding='utf-8'):\n",
    "    with open(file_path, 'r', encoding=encoding) as file:\n",
    "        content = file.read()\n",
    "\n",
    "    # Replace double spaces with single spaces\n",
    "    modified_content = content.replace('  ', ' ')\n",
    "\n",
    "    with open(file_path, 'w', encoding=encoding) as file:\n",
    "        file.write(modified_content)\n",
    "\n",
    "def remove_double_spaces_in_directory(directory, encoding='utf-8'):\n",
    "    for filename in os.listdir(directory):\n",
    "        if filename.endswith(\".txt\"):\n",
    "            file_path = os.path.join(directory, filename)\n",
    "            remove_double_spaces_in_file(file_path, encoding=encoding)\n",
    "\n",
    "#remove_double_spaces_in_directory(txt_directory)\n",
    "print(\"Double spaces removed from all .txt files in the directory.\")"
   ],
   "metadata": {
    "collapsed": false,
    "ExecuteTime": {
     "start_time": "2024-04-04T16:01:52.543011Z",
     "end_time": "2024-04-04T16:01:53.220609Z"
    }
   }
  },
  {
   "cell_type": "markdown",
   "source": [],
   "metadata": {
    "collapsed": false
   }
  },
  {
   "cell_type": "code",
   "execution_count": 9,
   "outputs": [],
   "source": [
    "# Currently not necessary\n",
    "def standardize_text_files(directory):\n",
    "    # List all files in the directory\n",
    "    files = os.listdir(directory)\n",
    "\n",
    "    # Iterate through each file\n",
    "    for file_name in files:\n",
    "        if file_name.endswith(\".txt\"):\n",
    "            file_path = os.path.join(directory, file_name)\n",
    "            with open(file_path, 'r', encoding='utf-8') as file:\n",
    "                try:\n",
    "                    text = file.read()\n",
    "                except UnicodeDecodeError:\n",
    "                    print(f\"Error reading file: {file_path}. Skipping...\")\n",
    "                    continue\n",
    "                # Standardize line endings to '\\n'\n",
    "                text = text.replace('\\r\\n', '\\n').replace('\\r', '\\n')\n",
    "                # Remove extra whitespaces\n",
    "                text = re.sub(r'\\s+', ' ', text)\n",
    "                # Remove leading and trailing whitespaces from each line\n",
    "                text = '\\n'.join(line.strip() for line in text.split('\\n'))\n",
    "                # Remove spaces before commas and periods\n",
    "                text = re.sub(r'\\s+([,.])', r'\\1', text)\n",
    "            # Write back the processed text to the file\n",
    "            with open(file_path, 'w', encoding='utf-8') as file:\n",
    "                file.write(text)\n",
    "\n",
    "#standardize_text_files(txt_directory)"
   ],
   "metadata": {
    "collapsed": false,
    "ExecuteTime": {
     "start_time": "2024-04-04T15:27:38.786043Z",
     "end_time": "2024-04-04T15:27:38.835459Z"
    }
   }
  }
 ],
 "metadata": {
  "kernelspec": {
   "display_name": "Python 3 (ipykernel)",
   "language": "python",
   "name": "python3"
  },
  "language_info": {
   "codemirror_mode": {
    "name": "ipython",
    "version": 3
   },
   "file_extension": ".py",
   "mimetype": "text/x-python",
   "name": "python",
   "nbconvert_exporter": "python",
   "pygments_lexer": "ipython3",
   "version": "3.9.12"
  }
 },
 "nbformat": 4,
 "nbformat_minor": 5
}
