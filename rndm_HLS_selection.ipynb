{
 "cells": [
  {
   "cell_type": "code",
   "execution_count": 1,
   "metadata": {
    "collapsed": true,
    "ExecuteTime": {
     "start_time": "2024-04-18T14:43:05.374689Z",
     "end_time": "2024-04-18T14:43:10.722765Z"
    }
   },
   "outputs": [],
   "source": [
    "import numpy as np\n",
    "import random\n",
    "import os\n",
    "import pandas as pd\n",
    "import re\n",
    "\n",
    "# Set random seed\n",
    "random.seed(153)"
   ]
  },
  {
   "cell_type": "markdown",
   "source": [
    "\n",
    "Notebook for selecting the 5 random entries per COP that will be annotated manually."
   ],
   "metadata": {
    "collapsed": false
   }
  },
  {
   "cell_type": "code",
   "execution_count": 2,
   "outputs": [
    {
     "name": "stdout",
     "output_type": "stream",
     "text": [
      "['afghanistan_cop22cmp12cma1_hls.txt', 'afghanistan_cop23cmp13cma1-2_hls.txt', 'AFGHANISTAN_cop25cmp15cma2_HLS_EN.txt', 'albania_cop23cmp13cma1-2_hls_spa.txt', 'angola_cop23cmp13cma1-2_hls.txt', 'ANGOLA_cop26cmp16cma3_HLS_EN.txt', 'ANGOLA_cop27cmp17cma4_HLS_ENG.txt', 'ANGOLA_cop28cmp18cma5_HLS_ENG.txt', 'antigua_&_barbuda_cop23cmp13cma1-2_hls.txt', 'ANTIGUA_AND_BARBUDA_cop26cmp16cma3_HLS_EN.txt', 'ANTIGUA_AND_BARBUDA_cop27cmp17cma4_HLS_ENG.txt', 'ANTIGUA_AND_BARBUDA_cop28cmp18cma5_HLS_ENG.txt', 'armenia_cop23cmp13cma1-2_hls.txt', 'ARMENIA_cop24cmp14cma1-3.txt', 'ARMENIA_cop25cmp15cma2_HLS_EN.txt', 'ARMENIA_cop26cmp16cma3_HLS_EN_0.txt', 'ARMENIA_cop27cmp17cma4_HLS_ENG.txt', 'australia_cop22cmp12cma1_hls.txt', 'australia_cop23cmp13cma1-2_hls.txt', 'AUSTRALIA_cop24cmp14cma1-3.txt', 'AUSTRALIA_cop26cmp16cma3_HLS_EN.txt', 'AUSTRALIA_cop27cmp17cma4_HLS_ENG.txt', 'austria_cop22cmp12cma1_hls.txt', 'austria_cop23cmp13cma1-2_hls.txt', 'AUSTRIA_cop25cmp15cma2_HLS_EN.txt', 'AUSTRIA_cop26cmp16cma3_HLS_EN.txt', 'AUSTRIA_cop27cmp17cma4_HLS_ENG.txt', 'azerbaijan_cop22cmp12cma1_hls.txt', 'azerbaijan_cop23cmp13cma1-2_hls.txt', 'AZERBAIJAN_cop26cmp16cma3_HLS_EN.txt', 'AZERBAIJAN_cop27cmp17cma4_HLS_ENG.txt', 'bahamas_cop22cmp12cma1_hls.txt', 'BAHAMAS_cop24cmp14cma1-3.txt', 'BAHAMAS_cop27cmp17cma4_HLS_ENG.txt', 'BAHAMAS_cop28cmp18cma5_HLS_ENG.txt', 'BAHRAIN_cop26cmp16cma3_HLS_EN.txt', 'bangladesh_cop22cmp12cma1_hls.txt', 'bangladesh_cop23cmp13cma1-2_hls.txt', 'BANGLADESH_cop24cmp14cma1-3.txt', 'BANGLADESH_cop26cmp16cma3_HLS_EN.txt', 'BARBADOS_cop26cmp16cma3_HLS_EN.txt', 'BARBADOS_cop27cmp17cma4_HLS_ENG.txt', 'BARBADOS_cop28cmp18cma5_HLS_ENG.txt', 'BELARUS_cop26cmp16cma3_HLS_EN.txt', 'BELARUS_cop27cmp17cma4_HLS_ENG.txt', 'BELARUS_cop28cmp18cma5_HLS_ENG.txt', 'BELGIUM_cop27cmp17cma4_HLS_ENG.txt', 'BELGIUM_cop28cmp18cma5_HLS_ENG.txt', 'BELIZE_AOSIS_cop25cmp15cma2_HLS_EN.txt', 'belize_cop22cmp12cma1_hls.txt', 'belize_cop23cmp13cma1-2_hls.txt', 'BELIZE_cop25cmp15cma2_HLS_EN.txt', 'BELIZE_cop26cmp16cma3_HLS_EN.txt', 'BELIZE_cop27cmp17cma4_HLS_ENG.txt', 'BELIZE_cop28cmp18cma5_HLS_ENG.txt', 'bhutan_cop22cmp12cma1_hls.txt', 'bhutan_cop23cmp13cma1-2_hls.txt', 'BHUTAN_cop25cmp15cma2_HLS_EN.txt', 'BHUTAN_cop26cmp16cma3_HLS_EN.txt', 'BHUTAN_cop28cmp18cma5_HLS_ENG.txt', 'bolivia_cop23cmp13cma1-2_hls.txt', 'BOSNIA_AND_HERZEGOVINA_cop26cmp16cma3_HLS_EN.txt', 'BOSNIA_AND_HERZEGOVINA_cop27cmp17cma4_HLS_ENG.txt', 'BOSNIA_AND_HERZEGOVINA_cop28cmp18cma5_HLS_ENG.txt', 'botswana_cop22cmp12cma1_hls.txt', 'brazil_cop23cmp13cma1-2_hls.txt', 'BRAZIL_cop26cmp16cma3_HLS_EN.txt', 'bruneidarussalam_cop22cmp12cma1_hls.txt', 'BRUNEI_DARUSSALAM_cop26cmp16cma3_HLS_EN.txt', 'BRUNEI_DARUSSALAM_cop27cmp17cma4_HLS_ENG.txt', 'BRUNEI_DARUSSALAM_cop28cmp18cma5_HLS_ENG.txt', 'BULGARIA_cop25cmp15cma2_HLS_EN.txt', 'BULGARIA_cop26cmp16cma3_HLS_EN.txt', 'CABO_VERDE_cop28cmp18cma5_HLS_ENG.txt', 'cambodia_cop22cmp12cma1_hls.txt', 'cambodia_cop23cmp13cma1-2_hls.txt', 'CAMBODIA_cop24cmp14cma1-3.txt', 'CAMBODIA_cop25cmp15cma2_HLS_EN.txt', 'CAMBODIA_cop26cmp16cma3_HLS_EN.txt', 'CAMBODIA_cop27cmp17cma4_HLS_ENG.txt', 'canada_cop22cmp12cma1_hls.txt', 'canada_cop23cmp13cma1-2_hls.txt', 'CANADA_cop24cmp14cma1-3.txt', 'CANADA_cop25cmp15cma2_HLS_EN.txt', 'CANADA_cop27cmp17cma4_HLS_FR_ENG.txt', 'CANADA_cop28cmp18cma5_HLS_FR_ENG.txt', 'CFRN_PAPUA_NEW_GUINEA_cop26cmp16cma3_HLS_EN.txt', 'china_cop22cmp12cma1_hls.txt', 'CHINA_cop26cmp16cma3_HLS_WLS_CN_EN_FR.txt', 'cop19_hls_afghanistan.txt', 'cop19_hls_angola.txt', 'cop19_hls_australia.txt', 'cop19_hls_austria.txt', 'cop19_hls_bahamas.txt', 'cop19_hls_bangladesh.txt', 'cop19_hls_belize.txt', 'cop19_hls_bosnia_herzegovina.txt', 'cop19_hls_botswana.txt', 'cop19_hls_brazil.txt', 'cop19_hls_brunei_darussalam.txt', 'cop19_hls_cambodia.txt', 'cop19_hls_croatia.txt', 'cop19_hls_denmark.txt', 'cop19_hls_eritrea.txt', 'cop19_hls_estonia.txt', 'cop19_hls_european_union.txt', 'cop19_hls_federated_states_of_micronesia.txt', 'cop19_hls_fiji_g77china.txt', 'cop19_hls_finland.txt', 'cop19_hls_gambia.txt', 'cop19_hls_georgia.txt', 'cop19_hls_germany.txt', 'cop19_hls_ghana.txt', 'cop19_hls_holy_see.txt', 'cop19_hls_iceland.txt', 'cop19_hls_india.txt', 'cop19_hls_iran.txt', 'cop19_hls_ireland.txt', 'cop19_hls_israel.txt', 'cop19_hls_italy.txt', 'cop19_hls_japan.txt', 'cop19_hls_kiribati.txt', 'cop19_hls_laos.txt', 'cop19_hls_latvia.txt', 'cop19_hls_liberia.txt', 'cop19_hls_liechtenstein.txt', 'cop19_hls_malawi.txt', 'cop19_hls_malaysia.txt', 'cop19_hls_malta.txt', 'cop19_hls_marshall_islands.txt', 'cop19_hls_mauritius.txt', 'cop19_hls_mongolia.txt', 'cop19_hls_mozambique.txt', 'cop19_hls_myanmar.txt', 'cop19_hls_namibia.txt', 'cop19_hls_nepal.txt', 'cop19_hls_netherlands.txt', 'cop19_hls_new_zealand_.txt', 'cop19_hls_nigeria.txt', 'cop19_hls_niue.txt', 'cop19_hls_norway.txt', 'cop19_hls_pakistan.txt', 'cop19_hls_palau.txt', 'cop19_hls_palestine.txt', 'cop19_hls_peoples_republic_of_china.txt', 'cop19_hls_philippines.txt', 'cop19_hls_romania.txt', 'cop19_hls_rwanda.txt', 'cop19_hls_samoa.txt', 'cop19_hls_seychelles.txt', 'cop19_hls_sierra_leone.txt', 'cop19_hls_slovakia.txt', 'cop19_hls_solomon_islands.txt', 'cop19_hls_somalia.txt', 'cop19_hls_sri_lanka.txt', 'cop19_hls_st.kitts_and_nevis.txt', 'cop19_hls_st.lucia_.txt', 'cop19_hls_switzerland.txt', 'cop19_hls_thailand.txt', 'cop19_hls_timor_leste.txt', 'cop19_hls_turkey.txt', 'cop19_hls_tuvalu.txt', 'cop19_hls_uganda.txt', 'cop19_hls_united_republic_of_tanzania.txt', 'cop19_hls_usa.txt', 'cop19_hls_uzbekistan.txt', 'cop19_hls_vanuatu.txt', 'cop19_hls_vietnam.txt', 'cop19_hls_zambia.txt', 'cop19_hls_zimbabwe.txt', 'cop20_hls_afghanistan.txt', 'cop20_hls_albania.txt', 'cop20_hls_angola_english.txt', 'cop20_hls_australia.txt', 'cop20_hls_austria.txt', 'cop20_hls_brazil.txt', 'cop20_hls_cambodia.txt', 'cop20_hls_canada_english.txt', 'cop20_hls_costarica_celac.txt', 'cop20_hls_estonia.txt', 'cop20_hls_ethiopia.txt', 'cop20_hls_eu.txt', 'cop20_hls_finland.txt', 'cop20_hls_gambia.txt', 'cop20_hls_ghana.txt', 'cop20_hls_guyana.txt', 'cop20_hls_holy_sea_english.txt', 'cop20_hls_iceland.txt', 'cop20_hls_india.txt', 'cop20_hls_indonesia.txt', 'cop20_hls_iran.txt', 'cop20_hls_israel.txt', 'cop20_hls_japan.txt', 'cop20_hls_kazakhstan_eng.txt', 'cop20_hls_kenya.txt', 'cop20_hls_lao.txt', 'cop20_hls_latvia.txt', 'cop20_hls_liechtenstein.txt', 'cop20_hls_lithuania.txt', 'cop20_hls_malawi.txt', 'cop20_hls_malaysia.txt', 'cop20_hls_marshall_islands.txt', 'cop20_hls_mauritius.txt', 'cop20_hls_micronesia.txt', 'cop20_hls_mongolia.txt', 'cop20_hls_montenego.txt', 'cop20_hls_mozambique.txt', 'cop20_hls_myanmar_asean_statement.txt', 'cop20_hls_namibia.txt', 'cop20_hls_nepal-ldc.txt', 'cop20_hls_netherlands.txt', 'cop20_hls_pakistan.txt', 'cop20_hls_phillipines.txt', 'cop20_hls_poland.txt', 'cop20_hls_portugal.txt', 'cop20_hls_republic_of_korea.txt', 'cop20_hls_rwanda.txt', 'cop20_hls_saudi_arabia.txt', 'cop20_hls_singapore.txt', 'cop20_hls_south_sudan.txt', 'cop20_hls_sri_lanka.txt', 'cop20_hls_suriname.txt', 'cop20_hls_sweden.txt', 'cop20_hls_tanzania.txt', 'cop20_hls_thailand.txt', 'cop20_hls_timor-leste.txt', 'cop20_hls_tonga.txt', 'cop20_hls_tuvalu.txt', 'cop20_hls_uganda.txt', 'cop20_hls_ukraine.txt', 'cop20_hls_united_states_america.txt', 'cop21cmp11_hls_speech_afghanistan.txt', 'cop21cmp11_hls_speech_agn_egypt.txt', 'cop21cmp11_hls_speech_antigua_and_barbuda_.txt', 'cop21cmp11_hls_speech_aosis_maldives.txt', 'cop21cmp11_hls_speech_austria.txt', 'cop21cmp11_hls_speech_azerbaijan.txt', 'cop21cmp11_hls_speech_bangladesh.txt', 'cop21cmp11_hls_speech_belize.txt', 'cop21cmp11_hls_speech_bhutan.txt', 'cop21cmp11_hls_speech_bosnia_herz.txt', 'cop21cmp11_hls_speech_brunei_darussalam.txt', 'cop21cmp11_hls_speech_celac_ecuador.txt', 'cop21cmp11_hls_speech_czech_republic.txt', 'cop21cmp11_hls_speech_dominica.txt', 'cop21cmp11_hls_speech_dpr_korea.txt', 'cop21cmp11_hls_speech_eig_liechtenstein.txt', 'cop21cmp11_hls_speech_eritrea.txt', 'cop21cmp11_hls_speech_eu.txt', 'cop21cmp11_hls_speech_eu_luxembourg.txt', 'cop21cmp11_hls_speech_gambia.txt', 'cop21cmp11_hls_speech_ghana.txt', 'cop21cmp11_hls_speech_grenada.txt', 'cop21cmp11_hls_speech_guyana.txt', 'cop21cmp11_hls_speech_holy_sea.txt', 'cop21cmp11_hls_speech_hungary.txt', 'cop21cmp11_hls_speech_indonesia.txt', 'cop21cmp11_hls_speech_israel.txt', 'cop21cmp11_hls_speech_italy.txt', 'cop21cmp11_hls_speech_jamaica.txt', 'cop21cmp11_hls_speech_japan.txt', 'cop21cmp11_hls_speech_jordan.txt', 'cop21cmp11_hls_speech_lao.txt', 'cop21cmp11_hls_speech_latvia.txt', 'cop21cmp11_hls_speech_ldcs_angola.txt', 'cop21cmp11_hls_speech_liberia.txt', 'cop21cmp11_hls_speech_malawi.txt', 'cop21cmp11_hls_speech_malaysia.txt', 'cop21cmp11_hls_speech_malta.txt', 'cop21cmp11_hls_speech_mongolia.txt', 'cop21cmp11_hls_speech_myanmar.txt', 'cop21cmp11_hls_speech_nepal.txt', 'cop21cmp11_hls_speech_nigeria.txt', 'cop21cmp11_hls_speech_niue.txt', 'cop21cmp11_hls_speech_norway.txt', 'cop21cmp11_hls_speech_pakistan.txt', 'cop21cmp11_hls_speech_philippines.txt', 'cop21cmp11_hls_speech_poland.txt', 'cop21cmp11_hls_speech_portugal.txt', 'cop21cmp11_hls_speech_rep_korea.txt', 'cop21cmp11_hls_speech_rwanda.txt', 'cop21cmp11_hls_speech_san_marino.txt', 'cop21cmp11_hls_speech_saudi_arabia.txt', 'cop21cmp11_hls_speech_seychelles.txt', 'cop21cmp11_hls_speech_sierra_leone.txt', 'cop21cmp11_hls_speech_singapore.txt', 'cop21cmp11_hls_speech_slovakia.txt', 'cop21cmp11_hls_speech_solomon_islands.txt', 'cop21cmp11_hls_speech_somalia.txt', 'cop21cmp11_hls_speech_south_africa_g77_china.txt', 'cop21cmp11_hls_speech_south_sudan.txt', 'cop21cmp11_hls_speech_suriname.txt', 'cop21cmp11_hls_speech_swaziland.txt', 'cop21cmp11_hls_speech_tanzania.txt', 'cop21cmp11_hls_speech_thailand.txt', 'cop21cmp11_hls_speech_timor_leste.txt', 'cop21cmp11_hls_speech_tonga.txt', 'cop21cmp11_hls_speech_trinidad_and_tobago.txt', 'cop21cmp11_hls_speech_turkey.txt', 'cop21cmp11_hls_speech_turkmenistan.txt', 'cop21cmp11_hls_speech_tuvalu.txt', 'cop21cmp11_hls_speech_uganda.txt', 'cop21cmp11_hls_speech_vanuatu.txt', 'cop21cmp11_hls_speech_zambia.txt', 'COSTA_RICA_cop26cmp16cma3_HLS_EN.txt', 'croatia_cop22cmp12cma1_hls.txt', 'croatia_cop23cmp13cma1-2_hls.txt', 'CROATIA_cop24cmp14cma1-3.txt', 'CROATIA_cop25cmp15cma2_HLS_EN.txt', 'CROATIA_cop26cmp16cma3_HLS_EN.txt', 'CROATIA_cop27cmp17cma4_HLS_ENG.txt', 'CROATIA_cop28cmp18cma5_HLS_ENG.txt', 'cyprus_cop22cmp12cma1_hls.txt', 'CYPRUS_cop26cmp16cma3_HLS_EN.txt', 'CYPRUS_cop28cmp18cma5_HLS_ENG.txt', 'CZECHIA_cop27cmp17cma4_HLS_ENG.txt', 'CZECHIA_cop28cmp18cma5_HLS_ENG.txt', 'czechrepublic_cop22cmp12cma1_hls-62872.txt', 'democraticpeoplesrepublicofkorea_cop22cmp12cma1_hls.txt', 'DEMOCRATIC_PEOPLES_REPUBLIC_OF_KOREA_cop27cmp17cma4_HLS_ENG.txt', 'denmark_cop22cmp12cma1_hls.txt', 'denmark_cop23cmp13cma1-2_hls.txt', 'DENMARK_cop24cmp14cma1-3.txt', 'DENMARK_cop26cmp16cma3_HLS_EN.txt', 'DENMARK_cop27cmp17cma4_HLS_ENG.txt', 'DENMARK_cop28cmp18cma5_HLS_ENG.txt', 'DJIBOUTI_cop28cmp18cma5_HLS_ENG.txt', 'dominica_cop22cmp12cma1_hls.txt', 'dominica_cop23cmp13cma1-2_hls.txt', 'DOMINICA_cop26cmp16cma3_HLS_EN.txt', 'DPRKOREA_cop25cmp15cma2_HLS_EN.txt', 'DRCONGOCfRN2_cop24cmp14cma1-3.txt', 'ecuador_g77_and-china_cop23cmp13cma1-2_hls.txt', 'ERITREA_cop27cmp17cma4_HLS_ENG.txt', 'ERITREA_cop28cmp18cma5_HLS_ENG.txt', 'ESTONIA_cop24cmp14cma1-3.txt', 'ESTONIA_cop25cmp15cma2_HLS_EN.txt', 'ESTONIA_cop26cmp16cma3_HLS_EN.txt', 'ESTONIA_cop28cmp18cma5_HLS_ENG.txt', 'ESWATINI_cop26cmp16cma3_HLS_EN.txt', 'ESWATINI_cop27cmp17cma4_HLS_ENG.txt', 'ethiopia_cop22cmp12cma1_hls.txt', 'ethiopia_cop23cmp13cma1-2_hls.txt', 'ETHIOPIA_cop27cmp17cma4_HLS_ENG.txt', 'EUROPEANUNION_cop24cmp14cma1-3.txt', 'EUROPEAN_COUNCIL_COMMISSION_cop28cmp18cma5_HLS_ENG.txt', 'EUROPEAN_UNION_cop26cmp16cma3_HLS_ENG.txt', 'eu_cop23cmp13cma1-2_hls.txt', 'EU_cop25cmp15cma2_HLS_EN.txt', 'FEDERATED_STATES_OF_MICRONESIA_cop27cmp17cma4_HLS_ENG.txt', 'FIJI_cop25cmp15cma2_HLS_EN.txt', 'finland_cop22cmp12cma1_hls.txt', 'finland_cop23cmp13cma1-2_hls.txt', 'FINLAND_cop26cmp16cma3_HLS_EN.txt', 'FINLAND_cop28cmp18cma5_HLS_ENG.txt', 'gambia_cop22cmp12cma1_hls.txt', 'gambia_cop23cmp13cma1-2_hls.txt', 'GAMBIA_cop26cmp16cma3_HLS_EN.txt', 'GAMBIA_cop27cmp17cma4_HLS_ENG.txt', 'GAMBIA_cop28cmp18cma5_HLS_ENG.txt', 'georgia_cop22cmp12cma1_hls.txt', 'georgia_cop23cmp13cma1-2_hls.txt', 'GEORGIA_cop24cmp14cma1-3.txt', 'GEORGIA_cop25cmp15cma2_HLS_EN.txt', 'GEORGIA_cop26cmp16cma3_HLS_EN.txt', 'GEORGIA_cop27cmp17cma4_HLS_ENG.txt', 'germany_cop22cmp12cma1_hls.txt', 'ghana_cop22cmp12cma1_hls.txt', 'ghana_cop23cmp13cma1-2_hls.txt', 'GHANA_cop24cmp14cma1-3.txt', 'GHANA_cop25cmp15cma2_HLS_EN.txt', 'GHANA_cop27cmp17cma4_HLS_ENG.txt', 'greece_cop22cmp12cma1_hls.txt', 'greece_cop23cmp13cma1-2_hls.txt', 'GREECE_cop26cmp16cma3_HLS_EN.txt', 'GREECE_cop27cmp17cma4_HLS_ENG.txt', 'grenada_cop22cmp12cma1_hls.txt', 'GRENADA_cop26cmp16cma3_HLS_EN.txt', 'GUATEMALA_cop26cmp16cma3_HLS_EN.txt', 'guinea_bissau_cop23cmp13cma1-2_hls.txt', 'GUINEA_BISSAU_cop26cmp16cma3_HLS_EN.txt', 'GUINEA_BISSAU_cop27cmp17cma4_HLS_ENG.txt', 'GUINEA_BISSAU_cop28cmp18cma5_HLS_ENG.txt', 'GUYANA_cop28cmp18cma5_HLS_ENG.txt', 'HOLYSEE_cop24cmp14cma1-3_EN.txt', 'HOLYSEE_cop25cmp15cma2_HLS_EN.txt', 'HOLY_SEE_cop26cmp16cma3_HLS_EN.txt', 'hungary_cop22cmp12cma1_hls.txt', 'hungary_cop23cmp13cma1-2_hls.txt', 'HUNGARY_cop27cmp17cma4_HLS_ENG.txt', 'HUNGARY_cop28cmp18cma5_HLS_ENG.txt', 'iceland_cop22cmp12cma1_hls.txt', 'iceland_cop23cmp13cma1-2_hls.txt', 'ICELAND_cop26cmp16cma3_HLS_EN.txt', 'ICELAND_cop27cmp17cma4_HLS_ENG.txt', 'india_cop22cmp12cma1_hls.txt', 'INDIA_cop24cmp14cma1-3.txt', 'INDIA_cop27cmp17cma4_HLS_ENG.txt', 'INDIA_cop28cmp18cma5_HLS_ENG.txt', 'indonesia_cop22cmp12cma1_hls.txt', 'indonesia_cop23cmp13cma1-2_hls.txt', 'INDONESIA_cop24cmp14cma1-3.txt', 'INDONESIA_cop25cmp15cma2_HLS_EN.txt', 'INDONESIA_cop26cmp16cma3_HLS_EN.txt', 'INDONESIA_cop27cmp17cma4_HLS_ENG.txt', 'iran_cop22cmp12cma_hls.txt', 'iran_cop23cmp13cma1-2_hls.txt', 'IRAN_cop26cmp16cma3_HLS_EN.txt', 'ireland_cop22cmp12cma1_hls.txt', 'ireland_cop23cmp13cma1-2_hls.txt', 'IRELAND_cop25cmp15cma2_HLS_EN.txt', 'IRELAND_cop26cmp16cma3_HLS_EN.txt', 'IRELAND_cop27cmp17cma4_HLS_ENG.txt', 'IRELAND_cop28cmp18cma5_HLS_ENG.txt', 'israel_cop22cmp12cma1_hls.txt', 'ISRAEL_cop24cmp14cma1-3.txt', 'ISRAEL_cop25cmp15cma2_HLS_EN.txt', 'jamaica_cop22cmp12cma1_hls.txt', 'jamaica_cop23cmp13cma1-2_hls.txt', 'JAMAICA_cop24cmp14cma1-3.txt', 'JAMAICA_cop25cmp15cma2_HLS_EN.txt', 'JAMAICA_cop26cmp16cma3_HLS_EN.txt', 'JAMAICA_cop28cmp18cma5_HLS_ENG.txt', 'japan_cop22cmp12cma1_hls.txt', 'japan_cop23cmp13cma1-2_hls.txt', 'JAPAN_cop24cmp14cma1-3.txt', 'JAPAN_cop25cmp15cma2_HLS_EN.txt', 'JAPAN_cop26cmp16cma3_HLS_EN.txt', 'JAPAN_cop27cmp17cma4_HLS_ENG.txt', 'JAPAN_cop28cmp18cma5_HLS_ENG.txt', 'jordan_cop23cmp13cma1-2_hls.txt', 'JORDAN_cop26cmp16cma3_HLS_EN.txt', 'JORDAN_cop28cmp18cma5_HLS_ENG.txt', 'kazakhastan_cop23cmp13cma1-2_hls.txt', 'kazakhstan_cop22cmp12cma1_hls.txt', 'KAZAKHSTAN_cop27cmp17cma4_HLS_ENG.txt', 'KAZAKHSTAN_cop28cmp18cma5_HLS_EN.txt', 'kenya_cop22cmp12cma1_hls.txt', 'kenya_cop23cmp13cma1-2_hls.txt', 'KENYA_cop24cmp14cma1-3.txt', 'KENYA_cop26cmp16cma3_HLS_EN.txt', 'KENYA_cop27cmp17cma4_HLS_ENG.txt', 'KENYA_cop28cmp18cma5_HLS_ENG.txt', 'kiribati_cop23cmp13cma1-2_hls.txt', 'KIRIBATI_cop27cmp17cma4_HLS_ENG.txt', 'KIRIBATI_cop28cmp18cma5_HLS_ENG.txt', 'kuwait_cop22cmp12cma1_hls.txt', 'KUWAIT_cop28cmp18cma5_HLS_ENG.txt', 'KYRGYZSTAN_cop26cmp16cma3_HLS_EN.txt', 'LAOPDR_cop24cmp14cma1-3.txt', 'lao_asean_cop22cmp12cma1_hls.txt', 'lao_cop22cmp12cma1_hls.txt', 'lao_cop23cmp13cma1-2_hls.txt', 'LAO_PEOPLES_DEMOCRATIC_REPUBLIC_cop25cmp15cma2_HLS_EN.txt', 'LAO_PEOPLEs_DEMOCRATIC_REPUBLIC_cop26cmp16cma3_HLS_EN.txt', 'LAO_PEOPLE_S_DEMOCRATIC_REPUBLIC_cop27cmp17cma4_HLS_ENG.txt', 'LAO_PEOPLE_S_DEMOCRATIC_REPUBLIC_cop28cmp18cma5_HLS_ENG.txt', 'latvia_cop22cmp12cma1_hls.txt', 'LATVIA_cop26cmp16cma3_HLS_EN.txt', 'LATVIA_cop28cmp18cma5_HLS_ENG.txt', 'lesotho_cop23cmp13cma1-2_hls.txt', 'LESOTHO_cop24cmp14cma1-3.txt', 'LESOTHO_cop25cmp15cma2_HLS_EN.txt', 'liberia_cop23cmp13cma1-2_hls.txt', 'LIBERIA_cop24cmp14cma1-3.txt', 'LIBERIA_cop25cmp15cma2_HLS_EN.txt', 'LIBERIA_cop26cmp16cma3_HLS_EN.txt', 'LIBERIA_cop28cmp18cma5_HLS_ENG.doc.txt', 'liechtenstein_cop22cmp12cma1_hls.txt', 'liechtenstein_cop23cmp13cma1-2_hls.txt', 'LIECHTENSTEIN_cop24cmp14cma1-3.txt', 'LIECHTENSTEIN_cop25cmp15cma2_HLS_EN.txt', 'LIECHTENSTEIN_cop26cmp16cma3_HLS_EN.txt', 'LIECHTENSTEIN_cop27cmp17cma4_HLS_ENG.txt', 'LIECHTENSTEIN_cop28cmp18cma5_HLS_EN.txt', 'lithuania_cop22cmp12cma1_hls.txt', 'lithuania_cop23cmp13cma1-2_hls.txt', 'LITHUANIA_cop24cmp14cma1-3.txt', 'LITHUANIA_cop25cmp15cma2_HLS_EN.txt', 'LITHUANIA_cop26cmp16cma3_HLS_EN.txt', 'LITHUANIA_cop27cmp17cma4_HLS_ENG.txt', 'macedonia_cop23cmp13cma1-2_hls.txt', 'MACEDONIA_cop24cmp14cma1-3.txt', 'malawi_cop22cmp12cma1_hls.txt', 'malawi_cop23cmp13cma1-2_hls.txt', 'MALAWI_cop24cmp14cma1-3.txt', 'MALAWI_cop25cmp15cma2_HLS_EN.txt', 'MALAWI_cop28cmp18cma5_HLS_ENG.txt', 'malaysia_cop22cmp12cma1_hls.txt', 'malaysia_cop23cmp13cma1-2_hls.txt', 'MALAYSIA_cop25cmp15cma2_HLS_EN.txt', 'MALAYSIA_cop26cmp16cma3_HLS_EN.txt', 'MALAYSIA_cop27cmp17cma4_HLS_ENG.txt', 'MALAYSIA_cop28cmp18cma5_HLS_ENG.txt', 'maldives_cop22cmp12cma1_hls.txt', 'MALDIVES_cop25cmp15cma2_HLS_EN.txt', 'MALDIVES_cop28cmp18cma5_HLS_ENG.txt', 'malta_cop22cmp12cma1_hls.txt', 'malta_cop23cmp13cma1-2_hls.txt', 'MALTA_cop27cmp17cma4_HLS_ENG.txt', 'MALTA_cop28cmp18cma5_HLS_ENG.txt', 'MARSHALLISLANDS_cop24cmp14cma1-3.txt', 'marshall_islands_cop22cmp12cma1_hls.txt', 'MARSHALL_ISLANDS_cop25cmp15cma2_HLS_EN.txt', 'MARSHALL_ISLANDS_cop26cmp16cma3_HLS_EN.txt', 'mauritius_cop22cmp12cma1_hls.txt', 'mauritius_cop23cmp13cma1-2_hls.txt', 'MAURITIUS_cop24cmp14cma1-3.txt', 'MAURITIUS_cop25cmp15cma2_HLS_EN.txt', 'MAURITIUS_cop26cmp16cma3_HLS_EN.txt', 'micronesia_cop22cmp12cma1_hls.txt', 'MICRONESIA_cop24cmp14cma1-3.txt', 'MICRONESIA_cop28cmp18cma5_HLS_ENG.txt', 'monaco_cop22cmp12cma1_hls.txt', 'mongolia_cop22cmp12cma1_hls.txt', 'mongolia_cop23cmp13cma1-2_hls.txt', 'MONGOLIA_cop25cmp15cma2_HLS_EN.txt', 'MONGOLIA_cop26cmp16cma3_HLS_EN.txt', 'MONGOLIA_cop27cmp17cma4_HLS_ENG.txt', 'MONGOLIA_cop28cmp18cma5_HLS_ENG.txt', 'MONTENEGRO_cop26cmp16cma3_HLS_EN.txt', 'MONTENEGRO_cop28cmp18cma5_HLS_ENG.txt', 'morocco_cop23-cmp13-cma1.2.txt', 'MOROCCO_cop28cmp18cma5_HLS_ENG.txt', 'MOZAMBIQUE_cop27cmp17cma4_HLS_ENG.txt', 'myanmar_cop22cmp12cma1_hls.txt', 'myanmar_cop23cmp13cma1-2_hls.txt', 'namibia_cop22cmp12cma1_hls.txt', 'NAMIBIA_cop26cmp16cma3_HLS_EN.txt', 'NAMIBIA_cop27cmp17cma4_HLS_ENG.txt', 'NAMIBIA_cop28cmp18cma5_HLS_ENG.txt', 'nauru_cop22cmp12cma1_hls.txt', 'nauru_cop23cmp13cma1-2_hls.txt', 'NAURU_cop26cmp16cma3_HLS_EN.txt', 'nepal_cop22cmp12cma1_hls.txt', 'nepal_cop23cmp13cma1-2_hls.txt', 'NEPAL_cop24cmp14cma1-3.txt', 'NEPAL_cop25cmp15cma2_HLS_EN.txt', 'NEPAL_cop26cmp16cma3_HLS_EN.txt', 'NEPAL_cop27cmp17cma4_HLS_ENG.txt', 'NEPAL_cop28cmp18cma5_HLS_ENG.txt', 'netherlands_cop22cmp12cma1_hls.txt', 'netherlands_cop23cmp13cma1-2_hls.txt', 'NETHERLANDS_cop26cmp16cma3_HLS_EN.txt', 'NETHERLANDS_cop28cmp18cma5_HLS_ENG.txt', 'new_zealand_cop23cmp13cma1-2_hls.txt', 'NEW_ZEALAND_cop25cmp15cma2_HLS_EN.txt', 'NEW_ZEALAND_cop27cmp17cma4_HLS_ENG.txt', 'NEW_ZEALAND_cop28cmp18cma5_HLS_ENG.txt', 'NICARAGUA_cop25cmp15cma2_HLS_EN.txt', 'nigeria_cop22cmp12cma1_hls.txt', 'nigeria_cop23cmp13cma1-2_hls.txt', 'NIGERIA_cop25cmp15cma2_HLS_EN.txt', 'NIGERIA_cop27cmp17cma4_HLS_ENG.txt', 'NIUE_cop26cmp16cma3_HLS_EN.txt', 'NIUE_cop27cmp17cma4_HLS_ENG.txt', 'NIUE_cop28cmp18cma5_HLS_ENG.txt', 'NORTH_MACEDONIA_cop26cmp16cma3_HLS_EN_0.txt', 'NORTH_MACEDONIA_cop28cmp18cma5_HLS_ENG.txt', 'norway_cop22cmp12cma1_hls.txt', 'norway_cop23cmp13cma1-2_hls.txt', 'NORWAY_cop25cmp15cma2_HLS_EN.txt', 'NORWAY_cop27cmp17cma4_HLS_ENG.txt', 'On_behalf_of_the_EU_cop26cmp16cma3_HLS.txt', 'pakistan_cop22cmp12cma1_hls.txt', 'pakistan_cop23cmp13cma1-2_hls.txt', 'PAKISTAN_cop24cmp14cma1-3.txt', 'PAKISTAN_cop25cmp15cma2_HLS_EN.txt', 'PAKISTAN_cop26cmp16cma3_HLS_EN.txt', 'palau_cop22cmp12cma1_hls.txt', 'palau_cop23cmp13cma1-2_hls.txt', 'PALAU_cop26cmp16cma3_HLS_EN.txt', 'PALAU_cop27cmp17cma4_HLS_ENG.txt', 'PALAU_cop28cmp18cma5_HLS_ENG.txt', 'PAPUA_NEW_GUINEA_cop25cmp15cma2_HLS_EN.txt', 'PAPUA_NEW_GUINEA_cop26cmp16cma3_HLS_EN.txt', 'philippines_cop22cmp12cma1_hls.txt', 'PHILIPPINES_cop25cmp15cma2_HLS_EN.txt', 'PHILIPPINES_cop26cmp16cma3_HLS_EN.txt', 'PHILIPPINES_cop28cmp18cma5_HLS_ENG.txt', 'phillipines_cop23cmp13cma1-2_hls.txt', 'poland_cop22cmp12cma1_hls.txt', 'POLAND_cop28cmp18cma5_HLS_ENG.txt', 'portugal_cop23cmp13cma1-2_hls.txt', 'PORTUGAL_cop25cmp15cma2_HLS_EN.txt', 'PORTUGAL_cop26cmp16cma3_HLS_EN.txt', 'PORTUGAL_cop27cmp17cma4_HLS_ENG.txt', 'republicofkorea_cop22cmp12cma1_hls.txt', 'REPUBLICOFKOREA_cop24cmp14cma1-3.txt', 'republicofmacedonia_cop22cmp12cma1_hls.txt', 'republic_of_korea_cop23cmp13cma1-2_hls.txt', 'REPUBLIC_OF_KOREA_cop25cmp15cma2_HLS_EN.txt', 'REPUBLIC_OF_KOREA_cop26cmp16cma3_HLS_EN.txt', 'REPUBLIC_OF_MOLDOVA_cop27cmp17cma4_HLS_ENG.txt', 'REPUBLIC_OF_MOLDOVA_cop28cmp18cma5_HLS_ENG.txt', 'romania_cop22cmp12cma1_hls.txt', 'romania_cop23-cmp13-cma1.2.txt', 'ROMANIA_cop25cmp15cma2_HLS_EN.txt', 'ROMANIA_cop26cmp16cma3_HLS_EN.txt', 'ROMANIA_cop27cmp17cma4_HLS_ENG.txt', 'ROMANIA_cop28cmp18cma5_HLS_ENG.txt', 'RUSSIAN_FEDERATION_cop26cmp16cma3_HLS_EN.txt', 'RUSSIAN_FEDERATION_cop27cmp17cma4_HLS_ENG.txt', 'rwanda_cop22cmp12cma1_hls.txt', 'rwanda_cop23cmp13cma1-2_hls.txt', 'RWANDA_cop24cmp14cma1-3.txt', 'RWANDA_cop25cmp15cma2_HLS_EN.txt', 'RWANDA_cop26cmp16cma3_HLS_EN.txt', 'SAINT_KITTS_AND_NEVIS_cop27cmp17cma4_HLS_ENG.txt', 'SAINT_KITTS_AND_NEVIS__cop26cmp16cma3_HLS_EN.txt', 'SAINT_LUCIA_cop26cmp16cma3_HLS_EN.txt', 'SAINT_LUCIA_cop27cmp17cma4_HLS_ENG.txt', 'SAINT_LUCIA_cop28cmp18cma5_HLS_ENG.txt', 'saint_vincentandthegrenadines_cop22cmp12cma1_hls.txt', 'SAINT_VINCENT_AND_THE_GRENADINES_cop26cmp16cma3_HLS_EN.txt', 'SAINT_VINCENT_AND_THE_GRENADINES_cop28cmp18cma5_HLS_ENG.txt', 'samoa_cop22cmp12cma1_hls.txt', 'samoa_cop23cmp13cma1-2_hls.txt', 'SAMOA_cop25cmp15cma2_HLS_EN.txt', 'SAMOA_cop26cmp16cma3_HLS_EN.txt', 'SAMOA_cop28cmp18cma5_HLS_ENG.txt', 'SAN_MARINO_cop24cmp14cma1-3.txt', 'SAN_MARINO_cop26cmp16cma3_HLS_EN.txt', 'SAN_MARINO_cop27cmp17cma4_HLS_ENG.txt', 'SAUDIARABIA_cop24cmp14cma1-3_HLS.txt', 'saudi_arabia_cop23cmp13cma1-2_hls.txt', 'SAUDI_ARABIA_cop26cmp16cma3_HLS_EN.txt', 'serbia_cop23cmp13cma1-2_hls.txt', 'SERBIA_cop25cmp15cma2_HLS_EN.txt', 'SERBIA_cop27cmp17cma4_HLS_ENG.txt', 'SEYCHELLES_cop26cmp16cma3_HLS_EN.txt', 'SEYCHELLES_cop28cmp18cma5_HLS_ENG.txt', 'SIERRALEONE_cop24cmp14cma1-3.txt', 'sierra_leone_cop23cmp13cma1-2_hls.txt', 'SIERRA_LEONE_cop28cmp18cma5_HLS_ENG.txt', 'singapore_cop22cmp12cma1_hls.txt', 'singapore_cop23cmp13cma1-2_hls.txt', 'SINGAPORE_cop25cmp15cma2_HLS_EN.txt', 'SINGAPORE_cop26cmp16cma3_HLS_EN.txt', 'SINGAPORE_cop27cmp17cma4_HLS_ENG.txt', 'SLOVAKIA_cop25cmp15cma2_HLS_EN.txt', 'SLOVAKIA_cop26cmp16cma3_HLS_EN.txt', 'SLOVAKIA_cop27cmp17cma4_HLS_ENG.txt', 'SLOVAKIA_cop28cmp18cma5_HLS_ENG.txt', 'slovakrepublic_cop22cmp12cma1_hls.txt', 'slovenia_cop22cmp12cma1_hls.txt', 'SLOVENIA_cop25cmp15cma2_HLS_EN.txt', 'SLOVENIA_cop28cmp18cma5_HLS_ENG.txt', 'solomonislands_cop22cmp12cma1_hls.txt', 'SOLOMONISLANDS_cop24cmp14cma1-3.txt', 'SOLOMONISLANDS_cop25cmp15cma2_HLS_EN.txt', 'solomon_islands_cop23cmp13cma1-2_hls.txt', 'SOLOMON_ISLANDS_cop27cmp17cma4_HLS_ENG.txt', 'SOLOMON_ISLANDS_cop28cmp18cma5_HLS_ENG.txt', 'SOMALIA_cop27cmp17cma4_HLS_ENG.txt', 'SOUTHAFRICA_cop24cmp14cma1-3.txt', 'south_africa_cop23cmp13cma1-2_hls.txt', 'SOUTH_AFRICA_cop26cmp16cma3_HLS_EN.txt', 'south_africa__cop22cmp12cma1_hls.txt', 'south_sudan_cop22cmp12cma1_hls.txt', 'SOUTH_SUDAN_cop26cmp16cma3_HLS_EN.txt', 'SOUTH_SUDAN_cop27cmp17cma4_HLS_ENG.txt', 'SRILANKA_cop24cmp14cma1-3.txt', 'SRILANKA_cop25cmp15cma2_HLS_EN.txt', 'sri_lanka_cop22cmp12cma1_hls.txt', 'sri_lanka_cop23cmp13cma1-2_hls.txt', 'SRI_LANKA_cop26cmp16cma3_HLS_EN.txt', 'SRI_LANKA_cop27cmp17cma4_HLS_ENG.txt', 'STATE_OF_PALESTINE_G77_AND_CHINA_cop25cmp15cma2_HLS_EN.txt', 'st_kittsandnevis_cop22cmp12cma1_hls.txt', 'st_lucia_cop23cmp13cma1-2_hls.txt', 'ST_LUCIA_cop24cmp14cma1-3.txt', 'ST_LUCIA_cop25cmp15cma2_HLS_EN.txt', 'suriname_cop23cmp13cma1-2_hls.txt', 'SURINAME_cop25cmp15cma2_HLS_EN.txt', 'SURINAME_cop27cmp17cma4_HLS_ENG.txt', 'SURINAME_cop28cmp18cma5_HLS_ENG.txt', 'swaziland_cop23cmp13cma1-2_hls.txt', 'sweden_cop22cmp12cma1_hls.txt', 'sweden_cop23cmp13cma1-2_hls.txt', 'SWEDEN_cop24cmp14cma1-3.txt', 'SWEDEN_cop25cmp15cma2_HLS_EN.txt', 'SWEDEN_cop27cmp17cma4_HLS_ENG.txt', 'SWEDEN_cop28cmp18cma5_HLS_ENG.txt', 'TAJIKISTAN_cop25cmp15cma2_HLS_EN.txt', 'TAJIKISTAN_cop26cmp16cma3_HLS_EN.txt', 'TAJIKISTAN_cop28cmp18cma5_HLS_ENG.txt', 'tanzania_cop22cmp12cma1_hls.txt', 'thailand_cop22cmp12cma1_hls.txt', 'thailand_cop23cmp13cma1-2_hls.txt', 'THAILAND_cop24cmp14cma1-3.txt', 'THAILAND_cop27cmp17cma4_HLS_ENG.txt', 'THAILAND_cop28cmp18cma5_HLS_ENG.txt', 'timor_leste_cop22cmp12cma1_hls.txt', 'TIMOR_LESTE_cop28cmp18cma5_HLS_ENG.txt', 'tonga_cop22cmp12cma1_hls.txt', 'tonga_cop23cmp13cma1-2_hls.txt', 'TONGA_cop24cmp14cma1-3.txt', 'TONGA_cop25cmp15cma2_HLS_EN.txt', 'TONGA_cop26cmp16cma3_HLS_EN.txt', 'TONGA_cop27cmp17cma4_HLS_ENG.txt', 'TONGA_cop28cmp18cma5_HLS_ENG.txt', 'TRINIDAD_AND_TOBAGO_cop26cmp16cma3_HLS_EN_0.txt', 'turkey_cop22cmp12cma1_hls.txt', 'TURKEY_cop24cmp14cma1-3.txt', 'TURKIYE_cop28cmp18cma5_HLS_ENG.txt', 'TURKMENISTAN_cop28cmp18cma5_HLS_ENG.txt', 'TUVALU_cop26cmp16cma3_HLS_EN.txt', 'TUVALU_cop27cmp17cma4_HLS_ENG.txt', 'TUVALU_cop28cmp18cma5_HLS_ENG.txt', 'uganda_cop22cmp12cma1_hls.txt', 'UGANDA_cop24cmp14cma1-3.txt', 'UGANDA_cop25cmp15cma2_HLS_EN.txt', 'UGANDA_cop26cmp16cma3_HLS_EN.txt', 'UGANDA_cop28cmp18cma5_HLS_ENG.txt', 'ukraine_cop22cmp12cma1_hls.txt', 'ukraine_cop23cmp13cma1-2_hls.txt', 'UKRAINE_cop24cmp14cma1-3.txt', 'UKRAINE_cop25cmp15cma2_HLS_EN.txt', 'uk_cop22cmp12cma1_hls.txt', 'unitedarabemirates_cop22cmp12cma1_hls.txt', 'UNITED_ARAB_EMIRATES_cop26cmp16cma3_HLS_EN.txt', 'united_kingdom_cop23cmp13cma1-2_hls.txt', 'usa_cop22cmp12cma1_hls.txt', 'usa_cop23cmp13cma1-2_hls.txt', 'vanuatu_cop22cmp12cma1_hls.txt', 'vanuatu_cop23cmp13cma1-2_hls.txt', 'VANUATU_cop26cmp16cma3_HLS_EN.txt', 'VANUATU_cop27cmp17cma4_HLS_ENG.txt', 'vietnam_cop22cmp12cma1_hls.txt', 'viet_nam_cop23cmp13cma1-2_hls.txt', 'VIET_NAM_cop26cmp16cma3_HLS_EN.txt', 'VIET_NAM_cop28cmp18cma5_HLS_ENG.txt', 'zambia_cop22cmp12cma1_hls.txt', 'zambia_cop23cmp13cma1-2_hls.txt', 'ZAMBIA_cop25cmp15cma2_HLS_EN.txt', 'ZAMBIA_cop26cmp16cma3_HLS_EN.txt', 'ZAMBIA_cop27cmp17cma4_HLS_ENG.txt', 'ZAMBIA_cop28cmp18cma5_HLS_ENG.txt', 'zimbabwe_cop22cmp12cma1_hls.txt', 'zimbabwe_cop23cmp13cma1-2_hls.txt', 'ZIMBABWE_cop26cmp16cma3_HLS_EN.txt', 'ZIMBABWE_cop27cmp17cma4_HLS_ENG.txt', 'ZIMBABWE_cop28cmp18cma5_HLS_ENG.txt']\n"
     ]
    }
   ],
   "source": [
    "def list_documents(folder_path):\n",
    "    documents = []\n",
    "    for file in os.listdir(folder_path):\n",
    "        if os.path.isfile(os.path.join(folder_path, file)):\n",
    "            documents.append(file)\n",
    "    return documents\n",
    "\n",
    "folder_path = \"HLS_txt\"\n",
    "document_names = list_documents(folder_path)\n",
    "print(document_names)"
   ],
   "metadata": {
    "collapsed": false,
    "ExecuteTime": {
     "start_time": "2024-04-18T14:43:33.308973Z",
     "end_time": "2024-04-18T14:43:33.423033Z"
    }
   }
  },
  {
   "cell_type": "code",
   "execution_count": 5,
   "outputs": [
    {
     "name": "stdout",
     "output_type": "stream",
     "text": [
      "                    COP19                                  COP20  \\\n",
      "0  cop19_hls_slovakia.txt                   cop20_hls_tuvalu.txt   \n",
      "1    cop19_hls_brazil.txt  cop20_hls_myanmar_asean_statement.txt   \n",
      "2   cop19_hls_bahamas.txt               cop20_hls_mozambique.txt   \n",
      "3      cop19_hls_laos.txt                cop20_hls_sri_lanka.txt   \n",
      "4     cop19_hls_palau.txt                  cop20_hls_namibia.txt   \n",
      "\n",
      "                                 COP21  \\\n",
      "0    cop21cmp11_hls_speech_vanuatu.txt   \n",
      "1      cop21cmp11_hls_speech_nepal.txt   \n",
      "2  cop21cmp11_hls_speech_singapore.txt   \n",
      "3        cop21cmp11_hls_speech_lao.txt   \n",
      "4      cop21cmp11_hls_speech_tonga.txt   \n",
      "\n",
      "                                        COP22  \\\n",
      "0  republicofmacedonia_cop22cmp12cma1_hls.txt   \n",
      "1                  lao_cop22cmp12cma1_hls.txt   \n",
      "2               uganda_cop22cmp12cma1_hls.txt   \n",
      "3            sri_lanka_cop22cmp12cma1_hls.txt   \n",
      "4              grenada_cop22cmp12cma1_hls.txt   \n",
      "\n",
      "                                  COP23                             COP24  \\\n",
      "0      ireland_cop23cmp13cma1-2_hls.txt  SIERRALEONE_cop24cmp14cma1-3.txt   \n",
      "1      iceland_cop23cmp13cma1-2_hls.txt     CAMBODIA_cop24cmp14cma1-3.txt   \n",
      "2  netherlands_cop23cmp13cma1-2_hls.txt       SWEDEN_cop24cmp14cma1-3.txt   \n",
      "3     zimbabwe_cop23cmp13cma1-2_hls.txt       ISRAEL_cop24cmp14cma1-3.txt   \n",
      "4        tonga_cop23cmp13cma1-2_hls.txt   HOLYSEE_cop24cmp14cma1-3_EN.txt   \n",
      "\n",
      "                                               COP25  \\\n",
      "0                 ST_LUCIA_cop25cmp15cma2_HLS_EN.txt   \n",
      "1  LAO_PEOPLES_DEMOCRATIC_REPUBLIC_cop25cmp15cma2...   \n",
      "2                    SAMOA_cop25cmp15cma2_HLS_EN.txt   \n",
      "3                 SLOVAKIA_cop25cmp15cma2_HLS_EN.txt   \n",
      "4                  IRELAND_cop25cmp15cma2_HLS_EN.txt   \n",
      "\n",
      "                                             COP26  \\\n",
      "0             BANGLADESH_cop26cmp16cma3_HLS_EN.txt   \n",
      "1                 LATVIA_cop26cmp16cma3_HLS_EN.txt   \n",
      "2                VANUATU_cop26cmp16cma3_HLS_EN.txt   \n",
      "3               MONGOLIA_cop26cmp16cma3_HLS_EN.txt   \n",
      "4  TRINIDAD_AND_TOBAGO_cop26cmp16cma3_HLS_EN_0.txt   \n",
      "\n",
      "                                    COP27  \\\n",
      "0  SOUTH_SUDAN_cop27cmp17cma4_HLS_ENG.txt   \n",
      "1     ETHIOPIA_cop27cmp17cma4_HLS_ENG.txt   \n",
      "2   AZERBAIJAN_cop27cmp17cma4_HLS_ENG.txt   \n",
      "3     ZIMBABWE_cop27cmp17cma4_HLS_ENG.txt   \n",
      "4      ROMANIA_cop27cmp17cma4_HLS_ENG.txt   \n",
      "\n",
      "                                    COP28  \n",
      "0  SAINT_LUCIA_cop28cmp18cma5_HLS_ENG.txt  \n",
      "1      BELGIUM_cop28cmp18cma5_HLS_ENG.txt  \n",
      "2       GAMBIA_cop28cmp18cma5_HLS_ENG.txt  \n",
      "3      JAMAICA_cop28cmp18cma5_HLS_ENG.txt  \n",
      "4  NEW_ZEALAND_cop28cmp18cma5_HLS_ENG.txt  \n"
     ]
    }
   ],
   "source": [
    "keywords = ['cop19', 'cop20', 'cop21', 'cop22', 'cop23', 'cop24', 'cop25', 'cop26', 'cop27', 'cop28']\n",
    "dfs = []\n",
    "\n",
    "for keyword in keywords:\n",
    "    documents = [doc for doc in document_names if keyword in doc]\n",
    "    selected_documents = random.sample(documents, min(5, len(documents)))  # Select at most 5 documents\n",
    "    df = pd.DataFrame({keyword.upper(): selected_documents})\n",
    "    dfs.append(df)\n",
    "\n",
    "# Combine all DataFrames into one\n",
    "combined_df = pd.concat(dfs, axis=1)\n",
    "\n",
    "# Print the combined DataFrame\n",
    "print(combined_df)"
   ],
   "metadata": {
    "collapsed": false,
    "ExecuteTime": {
     "start_time": "2024-04-17T16:00:32.120154Z",
     "end_time": "2024-04-17T16:00:32.164780Z"
    }
   }
  },
  {
   "cell_type": "code",
   "execution_count": 9,
   "outputs": [],
   "source": [
    "# Read the text file - Deze optie werkt met het lostrekken van de individuele zinnen\n",
    "with open('HLS_txt/thailand_cop22cmp12cma1_hls.txt', 'r',encoding='utf-8') as file:\n",
    "    text = file.read()\n",
    "\n",
    "# Use regular expression to split text into sentences\n",
    "sentences = re.split(r'(?<!\\w\\.\\w.)(?<![A-Z][a-z]\\.)(?<=\\.|\\?)\\s', text)\n",
    "\n",
    "# Create a DataFrame - add first column to be speech label\n",
    "df = pd.DataFrame(sentences, columns=['COP22_thailand'])\n",
    "df['Relevance'] = \"\"\n",
    "df['Topic'] = \"\"\n",
    "df['Unit'] = \"\"\n",
    "df['Scale'] = \"\"\n",
    "df['Time'] = \"\"\n",
    "df['Principle'] = \"\"\n",
    "df['30 word explanation'] = \"\"\n",
    "df['Notes'] = \"\"\n",
    "\n",
    "# Save DataFrame to Excel file\n",
    "df.to_excel('HLS_man/COP22/COP22_man_thailand.xlsx', index=False)\n"
   ],
   "metadata": {
    "collapsed": false,
    "ExecuteTime": {
     "start_time": "2024-04-18T14:46:46.382730Z",
     "end_time": "2024-04-18T14:46:46.443323Z"
    }
   }
  }
 ],
 "metadata": {
  "kernelspec": {
   "display_name": "Python 3",
   "language": "python",
   "name": "python3"
  },
  "language_info": {
   "codemirror_mode": {
    "name": "ipython",
    "version": 2
   },
   "file_extension": ".py",
   "mimetype": "text/x-python",
   "name": "python",
   "nbconvert_exporter": "python",
   "pygments_lexer": "ipython2",
   "version": "2.7.6"
  }
 },
 "nbformat": 4,
 "nbformat_minor": 0
}
