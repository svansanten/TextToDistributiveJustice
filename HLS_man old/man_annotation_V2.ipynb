{
 "cells": [
  {
   "cell_type": "code",
   "execution_count": 1,
   "metadata": {
    "collapsed": true,
    "ExecuteTime": {
     "start_time": "2024-05-06T14:18:13.664192Z",
     "end_time": "2024-05-06T14:18:14.612198Z"
    }
   },
   "outputs": [],
   "source": [
    "import numpy as np\n",
    "import pandas as pd\n",
    "import os"
   ]
  },
  {
   "cell_type": "markdown",
   "source": [
    "Analysis of V2 annotation codebook - (hopefully) final version\n",
    "\n",
    "Preparation for application of GPT_annotate. Initailly focus on the principles."
   ],
   "metadata": {
    "collapsed": false
   }
  },
  {
   "cell_type": "code",
   "execution_count": 2,
   "outputs": [
    {
     "data": {
      "text/plain": "                                                  Text  Relevance  \\\n0                         \\nThank you, Mr. President .          0   \n1    \\n \\nOn beha lf of the government of Japan , I...          0   \n2    \\n \\nI would also like to expr ess my d eepest...          0   \n3    \\n \\nMr. President: \\n \\nA fair and effective ...          2   \n4    \\n \\nIn this regard, Japan firmly supports the...          1   \n..                                                 ...        ...   \n162  •  Our meeting here in Warsaw can help build m...          1   \n163  \\n•  And as we work overtime in the UNFCCC, we...          1   \n164  Thats why we have been pushing hard,\\ntogethe...          0   \n165  This alone has the potential to avoid some 90\\...          0   \n166  •  Let us work together, mindful of our mutual...          2   \n\n                 Topic            Unit     Principle  \\\n0                  NaN             NaN           NaN   \n1                  NaN             NaN           NaN   \n2                  NaN             NaN           NaN   \n3    new UNFCCC policy  responsibility   egalitarian   \n4                  NaN             NaN           NaN   \n..                 ...             ...           ...   \n162                NaN             NaN           NaN   \n163                NaN             NaN           NaN   \n164                NaN             NaN           NaN   \n165                NaN             NaN           NaN   \n166        cooperation  responsibility  egalitarian    \n\n                                   30 word explanation Notes           id  \n0                                                  NaN   NaN  COP19_japan  \n1                                                  NaN   NaN  COP19_japan  \n2                                                  NaN   NaN  COP19_japan  \n3    participation of all countries, reference to f...   NaN  COP19_japan  \n4                                                  NaN   NaN  COP19_japan  \n..                                                 ...   ...          ...  \n162                                                NaN   NaN    COP19_usa  \n163                                                NaN   NaN    COP19_usa  \n164                                                NaN   NaN    COP19_usa  \n165                                                NaN   NaN    COP19_usa  \n166  Moral judgement of the need for cooperation in...   NaN    COP19_usa  \n\n[167 rows x 8 columns]",
      "text/html": "<div>\n<style scoped>\n    .dataframe tbody tr th:only-of-type {\n        vertical-align: middle;\n    }\n\n    .dataframe tbody tr th {\n        vertical-align: top;\n    }\n\n    .dataframe thead th {\n        text-align: right;\n    }\n</style>\n<table border=\"1\" class=\"dataframe\">\n  <thead>\n    <tr style=\"text-align: right;\">\n      <th></th>\n      <th>Text</th>\n      <th>Relevance</th>\n      <th>Topic</th>\n      <th>Unit</th>\n      <th>Principle</th>\n      <th>30 word explanation</th>\n      <th>Notes</th>\n      <th>id</th>\n    </tr>\n  </thead>\n  <tbody>\n    <tr>\n      <th>0</th>\n      <td>\\nThank you, Mr. President .</td>\n      <td>0</td>\n      <td>NaN</td>\n      <td>NaN</td>\n      <td>NaN</td>\n      <td>NaN</td>\n      <td>NaN</td>\n      <td>COP19_japan</td>\n    </tr>\n    <tr>\n      <th>1</th>\n      <td>\\n \\nOn beha lf of the government of Japan , I...</td>\n      <td>0</td>\n      <td>NaN</td>\n      <td>NaN</td>\n      <td>NaN</td>\n      <td>NaN</td>\n      <td>NaN</td>\n      <td>COP19_japan</td>\n    </tr>\n    <tr>\n      <th>2</th>\n      <td>\\n \\nI would also like to expr ess my d eepest...</td>\n      <td>0</td>\n      <td>NaN</td>\n      <td>NaN</td>\n      <td>NaN</td>\n      <td>NaN</td>\n      <td>NaN</td>\n      <td>COP19_japan</td>\n    </tr>\n    <tr>\n      <th>3</th>\n      <td>\\n \\nMr. President: \\n \\nA fair and effective ...</td>\n      <td>2</td>\n      <td>new UNFCCC policy</td>\n      <td>responsibility</td>\n      <td>egalitarian</td>\n      <td>participation of all countries, reference to f...</td>\n      <td>NaN</td>\n      <td>COP19_japan</td>\n    </tr>\n    <tr>\n      <th>4</th>\n      <td>\\n \\nIn this regard, Japan firmly supports the...</td>\n      <td>1</td>\n      <td>NaN</td>\n      <td>NaN</td>\n      <td>NaN</td>\n      <td>NaN</td>\n      <td>NaN</td>\n      <td>COP19_japan</td>\n    </tr>\n    <tr>\n      <th>...</th>\n      <td>...</td>\n      <td>...</td>\n      <td>...</td>\n      <td>...</td>\n      <td>...</td>\n      <td>...</td>\n      <td>...</td>\n      <td>...</td>\n    </tr>\n    <tr>\n      <th>162</th>\n      <td>•  Our meeting here in Warsaw can help build m...</td>\n      <td>1</td>\n      <td>NaN</td>\n      <td>NaN</td>\n      <td>NaN</td>\n      <td>NaN</td>\n      <td>NaN</td>\n      <td>COP19_usa</td>\n    </tr>\n    <tr>\n      <th>163</th>\n      <td>\\n•  And as we work overtime in the UNFCCC, we...</td>\n      <td>1</td>\n      <td>NaN</td>\n      <td>NaN</td>\n      <td>NaN</td>\n      <td>NaN</td>\n      <td>NaN</td>\n      <td>COP19_usa</td>\n    </tr>\n    <tr>\n      <th>164</th>\n      <td>Thats why we have been pushing hard,\\ntogethe...</td>\n      <td>0</td>\n      <td>NaN</td>\n      <td>NaN</td>\n      <td>NaN</td>\n      <td>NaN</td>\n      <td>NaN</td>\n      <td>COP19_usa</td>\n    </tr>\n    <tr>\n      <th>165</th>\n      <td>This alone has the potential to avoid some 90\\...</td>\n      <td>0</td>\n      <td>NaN</td>\n      <td>NaN</td>\n      <td>NaN</td>\n      <td>NaN</td>\n      <td>NaN</td>\n      <td>COP19_usa</td>\n    </tr>\n    <tr>\n      <th>166</th>\n      <td>•  Let us work together, mindful of our mutual...</td>\n      <td>2</td>\n      <td>cooperation</td>\n      <td>responsibility</td>\n      <td>egalitarian</td>\n      <td>Moral judgement of the need for cooperation in...</td>\n      <td>NaN</td>\n      <td>COP19_usa</td>\n    </tr>\n  </tbody>\n</table>\n<p>167 rows × 8 columns</p>\n</div>"
     },
     "execution_count": 2,
     "metadata": {},
     "output_type": "execute_result"
    }
   ],
   "source": [
    "#Directory path\n",
    "path = 'HLS_man/COP19'\n",
    "\n",
    "#List of items in folder\n",
    "folder_items = os.listdir(path)\n",
    "\n",
    "# Empty list to store dataframes\n",
    "list = []\n",
    "\n",
    "for filename in folder_items:\n",
    "    file_path = os.path.join(path, filename)\n",
    "    df = pd.read_excel(file_path)\n",
    "    copID = df.columns[0]\n",
    "    # add copID to dataframe\n",
    "    df['id'] = copID\n",
    "    # Rename first column containing ID\n",
    "    df = df.rename(columns={df.columns[0]: 'Text'})\n",
    "    # Add dataframe to list\n",
    "    list.append(df)\n",
    "\n",
    "HLS19_df = pd.concat(list, ignore_index=True)\n",
    "\n",
    "HLS19_df"
   ],
   "metadata": {
    "collapsed": false,
    "ExecuteTime": {
     "start_time": "2024-05-06T14:18:14.612198Z",
     "end_time": "2024-05-06T14:18:15.030175Z"
    }
   }
  },
  {
   "cell_type": "code",
   "execution_count": 3,
   "outputs": [
    {
     "name": "stdout",
     "output_type": "stream",
     "text": [
      "Text                     0\n",
      "Relevance                0\n",
      "Topic                  124\n",
      "Unit                   124\n",
      "Principle              124\n",
      "30 word explanation    124\n",
      "Notes                  164\n",
      "id                       0\n",
      "dtype: int64\n"
     ]
    }
   ],
   "source": [
    "# Remove '\\n' from the 'Text' column\n",
    "HLS19_df['Text'] = HLS19_df['Text'].str.replace('\\n', '')\n",
    "\n",
    "# General information on dataframe\n",
    "# 1. Nan counts\n",
    "nan_counts = HLS19_df.isna().sum()\n",
    "print(nan_counts)"
   ],
   "metadata": {
    "collapsed": false,
    "ExecuteTime": {
     "start_time": "2024-05-06T14:18:15.034679Z",
     "end_time": "2024-05-06T14:18:15.040618Z"
    }
   }
  },
  {
   "cell_type": "code",
   "execution_count": 4,
   "outputs": [
    {
     "data": {
      "text/plain": "general normative statement    14\negalitarian                     9\nprioritarian                    9\nutilitarian                     3\nutilitarian                     2\negalitarian                     2\nlibertarian                     2\nsufficientarian                 1\nprioritarain                    1\nName: Principle, dtype: int64"
     },
     "execution_count": 4,
     "metadata": {},
     "output_type": "execute_result"
    }
   ],
   "source": [
    "# Determine number of principle occurences\n",
    "principle_count = HLS19_df['Principle'].value_counts()\n",
    "principle_count"
   ],
   "metadata": {
    "collapsed": false,
    "ExecuteTime": {
     "start_time": "2024-05-06T14:18:15.040618Z",
     "end_time": "2024-05-06T14:18:15.102234Z"
    }
   }
  },
  {
   "cell_type": "code",
   "execution_count": 20,
   "outputs": [
    {
     "data": {
      "text/plain": "general normative statement    14\negalitarian                    11\nprioritarian                   10\nutilitarian                     5\nlibertarian                     2\nsufficientarian                 1\nName: Principle, dtype: int64"
     },
     "execution_count": 20,
     "metadata": {},
     "output_type": "execute_result"
    }
   ],
   "source": [
    "HLS19_df.loc[:,'Principle'] = HLS19_df['Principle'].str.replace(' utilitarian', 'utilitarian')\n",
    "HLS19_df.loc[:,'Principle'] = HLS19_df['Principle'].str.replace('utilitarian ', 'utilitarian')\n",
    "HLS19_df.loc[:,'Principle'] = HLS19_df['Principle'].str.replace('egalitarian ', 'egalitarian')\n",
    "HLS19_df.loc[:,'Principle'] = HLS19_df['Principle'].str.replace('prioritarain', 'prioritarian')\n",
    "HLS19_df.loc[:,'Principle'] = HLS19_df['Principle'].str.replace('libertarian ', 'libertarian')\n",
    "\n",
    "HLS19 = HLS19_df.copy()\n",
    "count_HLS19 = HLS19['Principle'].value_counts()\n",
    "count_HLS19"
   ],
   "metadata": {
    "collapsed": false,
    "ExecuteTime": {
     "start_time": "2024-05-06T14:23:51.900274Z",
     "end_time": "2024-05-06T14:23:51.916215Z"
    }
   }
  },
  {
   "cell_type": "markdown",
   "source": [
    "For initial GPT application, focus on the labelling for principles, not additional factors.\n",
    "\n",
    "Requirements presented by gpt_annotate:\n",
    "text_to_annotate:\n",
    "A dataframe that includes one column for text samples and, if you are comparing the LLM output against humans, any number of one-hot-encoded category columns. The text column should be the first column in your data. We provide Python code (described below) that will automatically assist with the formatting of text_to_annotate to ensure accurate annotation.\n",
    "\n",
    "> keep the same lines in order to later add the COPID back to the dataframe\n",
    ">\n",
    ">\n",
    "> Tomorrow: perform test with additional determination of relevance. Now only focus on the principle applied to each sentence\n"
   ],
   "metadata": {
    "collapsed": false
   }
  },
  {
   "cell_type": "code",
   "execution_count": 21,
   "outputs": [
    {
     "data": {
      "text/plain": "                                                  Text    Principle\n0                           Thank you, Mr. President .          NaN\n1     On beha lf of the government of Japan , I wou...          NaN\n2     I would also like to expr ess my d eepest con...          NaN\n3     Mr. President:  A fair and effective framewor...  egalitarian\n4     In this regard, Japan firmly supports the est...          NaN\n..                                                 ...          ...\n162  •  Our meeting here in Warsaw can help build m...          NaN\n163  •  And as we work overtime in the UNFCCC, we m...          NaN\n164  Thats why we have been pushing hard,together ...          NaN\n165  This alone has the potential to avoid some 90g...          NaN\n166  •  Let us work together, mindful of our mutual...  egalitarian\n\n[167 rows x 2 columns]",
      "text/html": "<div>\n<style scoped>\n    .dataframe tbody tr th:only-of-type {\n        vertical-align: middle;\n    }\n\n    .dataframe tbody tr th {\n        vertical-align: top;\n    }\n\n    .dataframe thead th {\n        text-align: right;\n    }\n</style>\n<table border=\"1\" class=\"dataframe\">\n  <thead>\n    <tr style=\"text-align: right;\">\n      <th></th>\n      <th>Text</th>\n      <th>Principle</th>\n    </tr>\n  </thead>\n  <tbody>\n    <tr>\n      <th>0</th>\n      <td>Thank you, Mr. President .</td>\n      <td>NaN</td>\n    </tr>\n    <tr>\n      <th>1</th>\n      <td>On beha lf of the government of Japan , I wou...</td>\n      <td>NaN</td>\n    </tr>\n    <tr>\n      <th>2</th>\n      <td>I would also like to expr ess my d eepest con...</td>\n      <td>NaN</td>\n    </tr>\n    <tr>\n      <th>3</th>\n      <td>Mr. President:  A fair and effective framewor...</td>\n      <td>egalitarian</td>\n    </tr>\n    <tr>\n      <th>4</th>\n      <td>In this regard, Japan firmly supports the est...</td>\n      <td>NaN</td>\n    </tr>\n    <tr>\n      <th>...</th>\n      <td>...</td>\n      <td>...</td>\n    </tr>\n    <tr>\n      <th>162</th>\n      <td>•  Our meeting here in Warsaw can help build m...</td>\n      <td>NaN</td>\n    </tr>\n    <tr>\n      <th>163</th>\n      <td>•  And as we work overtime in the UNFCCC, we m...</td>\n      <td>NaN</td>\n    </tr>\n    <tr>\n      <th>164</th>\n      <td>Thats why we have been pushing hard,together ...</td>\n      <td>NaN</td>\n    </tr>\n    <tr>\n      <th>165</th>\n      <td>This alone has the potential to avoid some 90g...</td>\n      <td>NaN</td>\n    </tr>\n    <tr>\n      <th>166</th>\n      <td>•  Let us work together, mindful of our mutual...</td>\n      <td>egalitarian</td>\n    </tr>\n  </tbody>\n</table>\n<p>167 rows × 2 columns</p>\n</div>"
     },
     "execution_count": 21,
     "metadata": {},
     "output_type": "execute_result"
    }
   ],
   "source": [
    "#Create dataframe, only including the principle column\n",
    "data = HLS19.loc[:,['Text','Principle']]\n",
    "data"
   ],
   "metadata": {
    "collapsed": false,
    "ExecuteTime": {
     "start_time": "2024-05-06T14:23:54.389226Z",
     "end_time": "2024-05-06T14:23:54.398096Z"
    }
   }
  },
  {
   "cell_type": "code",
   "execution_count": 27,
   "outputs": [
    {
     "data": {
      "text/plain": "                                                  TEXT  EGALITARIAN  \\\n0                           Thank you, Mr. President .            0   \n1     On beha lf of the government of Japan , I wou...            0   \n2     I would also like to expr ess my d eepest con...            0   \n3     Mr. President:  A fair and effective framewor...            1   \n4     In this regard, Japan firmly supports the est...            0   \n..                                                 ...          ...   \n162  •  Our meeting here in Warsaw can help build m...            0   \n163  •  And as we work overtime in the UNFCCC, we m...            0   \n164  Thats why we have been pushing hard,together ...            0   \n165  This alone has the potential to avoid some 90g...            0   \n166  •  Let us work together, mindful of our mutual...            1   \n\n     LIBERTARIAN  PRIORITARIAN  SUFFICIENTARIAN  UTILITARIAN  \\\n0              0             0                0            0   \n1              0             0                0            0   \n2              0             0                0            0   \n3              0             0                0            0   \n4              0             0                0            0   \n..           ...           ...              ...          ...   \n162            0             0                0            0   \n163            0             0                0            0   \n164            0             0                0            0   \n165            0             0                0            0   \n166            0             0                0            0   \n\n     GENERAL NORMATIVE STATEMENT  \n0                              0  \n1                              0  \n2                              0  \n3                              0  \n4                              0  \n..                           ...  \n162                            0  \n163                            0  \n164                            0  \n165                            0  \n166                            0  \n\n[167 rows x 7 columns]",
      "text/html": "<div>\n<style scoped>\n    .dataframe tbody tr th:only-of-type {\n        vertical-align: middle;\n    }\n\n    .dataframe tbody tr th {\n        vertical-align: top;\n    }\n\n    .dataframe thead th {\n        text-align: right;\n    }\n</style>\n<table border=\"1\" class=\"dataframe\">\n  <thead>\n    <tr style=\"text-align: right;\">\n      <th></th>\n      <th>TEXT</th>\n      <th>EGALITARIAN</th>\n      <th>LIBERTARIAN</th>\n      <th>PRIORITARIAN</th>\n      <th>SUFFICIENTARIAN</th>\n      <th>UTILITARIAN</th>\n      <th>GENERAL NORMATIVE STATEMENT</th>\n    </tr>\n  </thead>\n  <tbody>\n    <tr>\n      <th>0</th>\n      <td>Thank you, Mr. President .</td>\n      <td>0</td>\n      <td>0</td>\n      <td>0</td>\n      <td>0</td>\n      <td>0</td>\n      <td>0</td>\n    </tr>\n    <tr>\n      <th>1</th>\n      <td>On beha lf of the government of Japan , I wou...</td>\n      <td>0</td>\n      <td>0</td>\n      <td>0</td>\n      <td>0</td>\n      <td>0</td>\n      <td>0</td>\n    </tr>\n    <tr>\n      <th>2</th>\n      <td>I would also like to expr ess my d eepest con...</td>\n      <td>0</td>\n      <td>0</td>\n      <td>0</td>\n      <td>0</td>\n      <td>0</td>\n      <td>0</td>\n    </tr>\n    <tr>\n      <th>3</th>\n      <td>Mr. President:  A fair and effective framewor...</td>\n      <td>1</td>\n      <td>0</td>\n      <td>0</td>\n      <td>0</td>\n      <td>0</td>\n      <td>0</td>\n    </tr>\n    <tr>\n      <th>4</th>\n      <td>In this regard, Japan firmly supports the est...</td>\n      <td>0</td>\n      <td>0</td>\n      <td>0</td>\n      <td>0</td>\n      <td>0</td>\n      <td>0</td>\n    </tr>\n    <tr>\n      <th>...</th>\n      <td>...</td>\n      <td>...</td>\n      <td>...</td>\n      <td>...</td>\n      <td>...</td>\n      <td>...</td>\n      <td>...</td>\n    </tr>\n    <tr>\n      <th>162</th>\n      <td>•  Our meeting here in Warsaw can help build m...</td>\n      <td>0</td>\n      <td>0</td>\n      <td>0</td>\n      <td>0</td>\n      <td>0</td>\n      <td>0</td>\n    </tr>\n    <tr>\n      <th>163</th>\n      <td>•  And as we work overtime in the UNFCCC, we m...</td>\n      <td>0</td>\n      <td>0</td>\n      <td>0</td>\n      <td>0</td>\n      <td>0</td>\n      <td>0</td>\n    </tr>\n    <tr>\n      <th>164</th>\n      <td>Thats why we have been pushing hard,together ...</td>\n      <td>0</td>\n      <td>0</td>\n      <td>0</td>\n      <td>0</td>\n      <td>0</td>\n      <td>0</td>\n    </tr>\n    <tr>\n      <th>165</th>\n      <td>This alone has the potential to avoid some 90g...</td>\n      <td>0</td>\n      <td>0</td>\n      <td>0</td>\n      <td>0</td>\n      <td>0</td>\n      <td>0</td>\n    </tr>\n    <tr>\n      <th>166</th>\n      <td>•  Let us work together, mindful of our mutual...</td>\n      <td>1</td>\n      <td>0</td>\n      <td>0</td>\n      <td>0</td>\n      <td>0</td>\n      <td>0</td>\n    </tr>\n  </tbody>\n</table>\n<p>167 rows × 7 columns</p>\n</div>"
     },
     "execution_count": 27,
     "metadata": {},
     "output_type": "execute_result"
    }
   ],
   "source": [
    "# One0hot encode principle column\n",
    "HLS19_gpt = pd.get_dummies(data,prefix='', prefix_sep='', columns=['Principle'])\n",
    "order = ['Text', 'egalitarian', 'libertarian', 'prioritarian', 'sufficientarian','utilitarian', 'general normative statement']\n",
    "HLS19_gpt = HLS19_gpt[order]\n",
    "HLS19_gpt.columns = map(str.upper, HLS19_gpt.columns)\n",
    "HLS19_gpt"
   ],
   "metadata": {
    "collapsed": false,
    "ExecuteTime": {
     "start_time": "2024-05-06T15:13:06.809313Z",
     "end_time": "2024-05-06T15:13:07.057670Z"
    }
   }
  },
  {
   "cell_type": "code",
   "execution_count": 29,
   "outputs": [
    {
     "data": {
      "text/plain": "TEXT                            Thank you, Mr. President . On beha lf of the ...\nEGALITARIAN                                                                   11\nLIBERTARIAN                                                                    2\nPRIORITARIAN                                                                  10\nSUFFICIENTARIAN                                                                1\nUTILITARIAN                                                                    5\nGENERAL NORMATIVE STATEMENT                                                   14\ndtype: object"
     },
     "execution_count": 29,
     "metadata": {},
     "output_type": "execute_result"
    }
   ],
   "source": [
    "HLS19_gpt.sum()"
   ],
   "metadata": {
    "collapsed": false,
    "ExecuteTime": {
     "start_time": "2024-05-07T09:26:16.222168Z",
     "end_time": "2024-05-07T09:26:16.330722Z"
    }
   }
  },
  {
   "cell_type": "code",
   "execution_count": 28,
   "outputs": [],
   "source": [
    "#Save dummies as csv file\n",
    "HLS19_gpt.to_csv('gpt_annotate/COP19_principle_HL.csv', index=False)"
   ],
   "metadata": {
    "collapsed": false,
    "ExecuteTime": {
     "start_time": "2024-05-06T15:13:11.864788Z",
     "end_time": "2024-05-06T15:13:11.883535Z"
    }
   }
  }
 ],
 "metadata": {
  "kernelspec": {
   "display_name": "Python 3",
   "language": "python",
   "name": "python3"
  },
  "language_info": {
   "codemirror_mode": {
    "name": "ipython",
    "version": 2
   },
   "file_extension": ".py",
   "mimetype": "text/x-python",
   "name": "python",
   "nbconvert_exporter": "python",
   "pygments_lexer": "ipython2",
   "version": "2.7.6"
  }
 },
 "nbformat": 4,
 "nbformat_minor": 0
}
