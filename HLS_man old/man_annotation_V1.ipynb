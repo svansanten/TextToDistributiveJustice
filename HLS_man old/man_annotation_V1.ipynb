{
 "cells": [
  {
   "cell_type": "code",
   "execution_count": 38,
   "metadata": {
    "collapsed": true,
    "ExecuteTime": {
     "start_time": "2024-04-29T15:32:55.516606Z",
     "end_time": "2024-04-29T15:32:55.560092Z"
    }
   },
   "outputs": [],
   "source": [
    "import numpy as np\n",
    "import pandas as pd\n",
    "import os"
   ]
  },
  {
   "cell_type": "markdown",
   "source": [
    "### EDA of the manually annotated HLS\n",
    "Evaluation of the number of sentences deemed relevant, the types of labels presented and other insights"
   ],
   "metadata": {
    "collapsed": false
   }
  },
  {
   "cell_type": "code",
   "execution_count": 39,
   "outputs": [
    {
     "name": "stdout",
     "output_type": "stream",
     "text": [
      "['HLS_man\\\\COP19', 'HLS_man\\\\COP20', 'HLS_man\\\\COP21', 'HLS_man\\\\COP22', 'HLS_man\\\\COP23', 'HLS_man\\\\COP24', 'HLS_man\\\\COP25', 'HLS_man\\\\COP26', 'HLS_man\\\\COP27', 'HLS_man\\\\COP28']\n"
     ]
    },
    {
     "data": {
      "text/plain": "                                                   Text Relevance  \\\n0                          \\nThank you, Mr. President .        no   \n1     \\n \\nOn beha lf of the government of Japan , I...        no   \n2     \\n \\nI would also like to expr ess my d eepest...        no   \n3     \\n \\nMr. President: \\n \\nA fair and effective ...       yes   \n4     \\n \\nIn this regard, Japan firmly supports the...        no   \n...                                                 ...       ...   \n1621  \\n \\nNew Zealand is proud to suppor t several ...        no   \n1622  I am joined by New Zealand’s largest business,...        no   \n1623  The commitment o f New Zealanders from across ...        no   \n1624                       \\n \\nThank you Mr President.        no   \n1625                                        \\nKia Kaha         no   \n\n                  Topic      Unit   Scale           Time    Principle  \\\n0                   NaN       NaN     NaN            NaN          NaN   \n1                   NaN       NaN     NaN            NaN          NaN   \n2                   NaN       NaN     NaN            NaN          NaN   \n3     new UNFCCC policy  measures  global  nearby future  egalitarian   \n4                   NaN       NaN     NaN            NaN          NaN   \n...                 ...       ...     ...            ...          ...   \n1621                NaN       NaN     NaN            NaN          NaN   \n1622                NaN       NaN     NaN            NaN          NaN   \n1623                NaN       NaN     NaN            NaN          NaN   \n1624                NaN       NaN     NaN            NaN          NaN   \n1625                NaN       NaN     NaN            NaN          NaN   \n\n                                    30 word explanation Notes  \\\n0                                                   NaN   NaN   \n1                                                   NaN   NaN   \n2                                                   NaN   NaN   \n3     participation of all countries, reference to f...   NaN   \n4                                                   NaN   NaN   \n...                                                 ...   ...   \n1621                                                NaN   NaN   \n1622                                                NaN   NaN   \n1623                                                NaN   NaN   \n1624                                                NaN   NaN   \n1625                                                NaN   NaN   \n\n                    id  \n0          COP19_japan  \n1          COP19_japan  \n2          COP19_japan  \n3          COP19_japan  \n4          COP19_japan  \n...                ...  \n1621  COP28_newzealand  \n1622  COP28_newzealand  \n1623  COP28_newzealand  \n1624  COP28_newzealand  \n1625  COP28_newzealand  \n\n[1626 rows x 10 columns]",
      "text/html": "<div>\n<style scoped>\n    .dataframe tbody tr th:only-of-type {\n        vertical-align: middle;\n    }\n\n    .dataframe tbody tr th {\n        vertical-align: top;\n    }\n\n    .dataframe thead th {\n        text-align: right;\n    }\n</style>\n<table border=\"1\" class=\"dataframe\">\n  <thead>\n    <tr style=\"text-align: right;\">\n      <th></th>\n      <th>Text</th>\n      <th>Relevance</th>\n      <th>Topic</th>\n      <th>Unit</th>\n      <th>Scale</th>\n      <th>Time</th>\n      <th>Principle</th>\n      <th>30 word explanation</th>\n      <th>Notes</th>\n      <th>id</th>\n    </tr>\n  </thead>\n  <tbody>\n    <tr>\n      <th>0</th>\n      <td>\\nThank you, Mr. President .</td>\n      <td>no</td>\n      <td>NaN</td>\n      <td>NaN</td>\n      <td>NaN</td>\n      <td>NaN</td>\n      <td>NaN</td>\n      <td>NaN</td>\n      <td>NaN</td>\n      <td>COP19_japan</td>\n    </tr>\n    <tr>\n      <th>1</th>\n      <td>\\n \\nOn beha lf of the government of Japan , I...</td>\n      <td>no</td>\n      <td>NaN</td>\n      <td>NaN</td>\n      <td>NaN</td>\n      <td>NaN</td>\n      <td>NaN</td>\n      <td>NaN</td>\n      <td>NaN</td>\n      <td>COP19_japan</td>\n    </tr>\n    <tr>\n      <th>2</th>\n      <td>\\n \\nI would also like to expr ess my d eepest...</td>\n      <td>no</td>\n      <td>NaN</td>\n      <td>NaN</td>\n      <td>NaN</td>\n      <td>NaN</td>\n      <td>NaN</td>\n      <td>NaN</td>\n      <td>NaN</td>\n      <td>COP19_japan</td>\n    </tr>\n    <tr>\n      <th>3</th>\n      <td>\\n \\nMr. President: \\n \\nA fair and effective ...</td>\n      <td>yes</td>\n      <td>new UNFCCC policy</td>\n      <td>measures</td>\n      <td>global</td>\n      <td>nearby future</td>\n      <td>egalitarian</td>\n      <td>participation of all countries, reference to f...</td>\n      <td>NaN</td>\n      <td>COP19_japan</td>\n    </tr>\n    <tr>\n      <th>4</th>\n      <td>\\n \\nIn this regard, Japan firmly supports the...</td>\n      <td>no</td>\n      <td>NaN</td>\n      <td>NaN</td>\n      <td>NaN</td>\n      <td>NaN</td>\n      <td>NaN</td>\n      <td>NaN</td>\n      <td>NaN</td>\n      <td>COP19_japan</td>\n    </tr>\n    <tr>\n      <th>...</th>\n      <td>...</td>\n      <td>...</td>\n      <td>...</td>\n      <td>...</td>\n      <td>...</td>\n      <td>...</td>\n      <td>...</td>\n      <td>...</td>\n      <td>...</td>\n      <td>...</td>\n    </tr>\n    <tr>\n      <th>1621</th>\n      <td>\\n \\nNew Zealand is proud to suppor t several ...</td>\n      <td>no</td>\n      <td>NaN</td>\n      <td>NaN</td>\n      <td>NaN</td>\n      <td>NaN</td>\n      <td>NaN</td>\n      <td>NaN</td>\n      <td>NaN</td>\n      <td>COP28_newzealand</td>\n    </tr>\n    <tr>\n      <th>1622</th>\n      <td>I am joined by New Zealand’s largest business,...</td>\n      <td>no</td>\n      <td>NaN</td>\n      <td>NaN</td>\n      <td>NaN</td>\n      <td>NaN</td>\n      <td>NaN</td>\n      <td>NaN</td>\n      <td>NaN</td>\n      <td>COP28_newzealand</td>\n    </tr>\n    <tr>\n      <th>1623</th>\n      <td>The commitment o f New Zealanders from across ...</td>\n      <td>no</td>\n      <td>NaN</td>\n      <td>NaN</td>\n      <td>NaN</td>\n      <td>NaN</td>\n      <td>NaN</td>\n      <td>NaN</td>\n      <td>NaN</td>\n      <td>COP28_newzealand</td>\n    </tr>\n    <tr>\n      <th>1624</th>\n      <td>\\n \\nThank you Mr President.</td>\n      <td>no</td>\n      <td>NaN</td>\n      <td>NaN</td>\n      <td>NaN</td>\n      <td>NaN</td>\n      <td>NaN</td>\n      <td>NaN</td>\n      <td>NaN</td>\n      <td>COP28_newzealand</td>\n    </tr>\n    <tr>\n      <th>1625</th>\n      <td>\\nKia Kaha</td>\n      <td>no</td>\n      <td>NaN</td>\n      <td>NaN</td>\n      <td>NaN</td>\n      <td>NaN</td>\n      <td>NaN</td>\n      <td>NaN</td>\n      <td>NaN</td>\n      <td>COP28_newzealand</td>\n    </tr>\n  </tbody>\n</table>\n<p>1626 rows × 10 columns</p>\n</div>"
     },
     "execution_count": 39,
     "metadata": {},
     "output_type": "execute_result"
    }
   ],
   "source": [
    "#Directory path\n",
    "path = 'HLS_man'\n",
    "\n",
    "#List of items in folder\n",
    "folder_items = os.listdir(path)\n",
    "\n",
    "#Create filter for subdirectories\n",
    "subfolders = [os.path.join(path, item) for item in folder_items if os.path.isdir(os.path.join(path, item))]\n",
    "print(subfolders)\n",
    "\n",
    "# Empty list to store dataframes\n",
    "list = []\n",
    "\n",
    "# Iterate over subdirectories\n",
    "for subfolder in subfolders:\n",
    "    for filename in os.listdir(subfolder):\n",
    "        df = pd.read_excel(os.path.join(subfolder, filename))\n",
    "        copID = df.columns[0]\n",
    "        # add copID to dataframe\n",
    "        df['id'] = copID\n",
    "        # Rename first column containing ID\n",
    "        df = df.rename(columns={df.columns[0]: 'Text'})\n",
    "        # Add dataframe to list\n",
    "        list.append(df)\n",
    "\n",
    "HLS_df = pd.concat(list, ignore_index=True)\n",
    "\n",
    "HLS_df\n"
   ],
   "metadata": {
    "collapsed": false,
    "ExecuteTime": {
     "start_time": "2024-04-29T15:32:55.518517Z",
     "end_time": "2024-04-29T15:32:56.211682Z"
    }
   }
  },
  {
   "cell_type": "code",
   "execution_count": 40,
   "outputs": [
    {
     "name": "stdout",
     "output_type": "stream",
     "text": [
      "Text                     72\n",
      "Relevance                90\n",
      "Topic                  1347\n",
      "Unit                   1348\n",
      "Scale                  1347\n",
      "Time                   1347\n",
      "Principle              1347\n",
      "30 word explanation    1348\n",
      "Notes                  1613\n",
      "id                        0\n",
      "dtype: int64\n"
     ]
    }
   ],
   "source": [
    "# Remove '\\n' from the 'Text' column\n",
    "HLS_df['Text'] = HLS_df['Text'].str.replace('\\n', '')\n",
    "\n",
    "# General information on dataframe\n",
    "# 1. Nan counts\n",
    "nan_counts = HLS_df.isna().sum()\n",
    "print(nan_counts)"
   ],
   "metadata": {
    "collapsed": false,
    "ExecuteTime": {
     "start_time": "2024-04-29T15:32:56.211682Z",
     "end_time": "2024-04-29T15:32:56.224515Z"
    }
   }
  },
  {
   "cell_type": "markdown",
   "source": [
    "Columns without any textual entry should be removed. Additionally, columns without relevance indication are reviewed."
   ],
   "metadata": {
    "collapsed": false
   }
  },
  {
   "cell_type": "code",
   "execution_count": 41,
   "outputs": [
    {
     "name": "stdout",
     "output_type": "stream",
     "text": [
      "    Text Relevance Topic Unit Scale Time Principle 30 word explanation Notes  \\\n",
      "310  NaN       NaN   NaN  NaN   NaN  NaN       NaN                 NaN   NaN   \n",
      "311  NaN       NaN   NaN  NaN   NaN  NaN       NaN                 NaN   NaN   \n",
      "312  NaN       NaN   NaN  NaN   NaN  NaN       NaN                 NaN   NaN   \n",
      "313  NaN       NaN   NaN  NaN   NaN  NaN       NaN                 NaN   NaN   \n",
      "314  NaN       NaN   NaN  NaN   NaN  NaN       NaN                 NaN   NaN   \n",
      "..   ...       ...   ...  ...   ...  ...       ...                 ...   ...   \n",
      "377  NaN       NaN   NaN  NaN   NaN  NaN       NaN                 NaN   NaN   \n",
      "378  NaN       NaN   NaN  NaN   NaN  NaN       NaN                 NaN   NaN   \n",
      "379  NaN       NaN   NaN  NaN   NaN  NaN       NaN                 NaN   NaN   \n",
      "380  NaN       NaN   NaN  NaN   NaN  NaN       NaN                 NaN   NaN   \n",
      "513  NaN       NaN   NaN  NaN   NaN  NaN       NaN                 NaN   NaN   \n",
      "\n",
      "              id  \n",
      "310  COP20_tonga  \n",
      "311  COP20_tonga  \n",
      "312  COP20_tonga  \n",
      "313  COP20_tonga  \n",
      "314  COP20_tonga  \n",
      "..           ...  \n",
      "377  COP20_tonga  \n",
      "378  COP20_tonga  \n",
      "379  COP20_tonga  \n",
      "380  COP20_tonga  \n",
      "513     COP21_eu  \n",
      "\n",
      "[72 rows x 10 columns]\n"
     ]
    }
   ],
   "source": [
    "# Check text column\n",
    "nan_text = HLS_df[HLS_df['Text'].isna()]\n",
    "print(nan_text)"
   ],
   "metadata": {
    "collapsed": false,
    "ExecuteTime": {
     "start_time": "2024-04-29T15:32:56.229026Z",
     "end_time": "2024-04-29T15:32:56.235805Z"
    }
   }
  },
  {
   "cell_type": "code",
   "execution_count": 42,
   "outputs": [
    {
     "name": "stdout",
     "output_type": "stream",
     "text": [
      "             Text Relevance Topic Unit Scale Time Principle  \\\n",
      "141                     NaN   NaN  NaN   NaN  NaN       NaN   \n",
      "202                     NaN   NaN  NaN   NaN  NaN       NaN   \n",
      "381                     NaN   NaN  NaN   NaN  NaN       NaN   \n",
      "455                     NaN   NaN  NaN   NaN  NaN       NaN   \n",
      "471                     NaN   NaN  NaN   NaN  NaN       NaN   \n",
      "514                     NaN   NaN  NaN   NaN  NaN       NaN   \n",
      "631                     NaN   NaN  NaN   NaN  NaN       NaN   \n",
      "732                     NaN   NaN  NaN   NaN  NaN       NaN   \n",
      "800    Thank you.       NaN   NaN  NaN   NaN  NaN       NaN   \n",
      "842                     NaN   NaN  NaN   NaN  NaN       NaN   \n",
      "901                     NaN   NaN  NaN   NaN  NaN       NaN   \n",
      "1012                    NaN   NaN  NaN   NaN  NaN       NaN   \n",
      "1232                    NaN   NaN  NaN   NaN  NaN       NaN   \n",
      "1332                    NaN   NaN  NaN   NaN  NaN       NaN   \n",
      "1364                    NaN   NaN  NaN   NaN  NaN       NaN   \n",
      "1396                    NaN   NaN  NaN   NaN  NaN       NaN   \n",
      "1483                    NaN   NaN  NaN   NaN  NaN       NaN   \n",
      "1556                    NaN   NaN  NaN   NaN  NaN       NaN   \n",
      "\n",
      "     30 word explanation Notes                   id  \n",
      "141                  NaN   NaN    COP19_timor_leste  \n",
      "202                  NaN   NaN       COP20_holy_sea  \n",
      "381                  NaN   NaN          COP20_tonga  \n",
      "455                  NaN   NaN    COP20_tonga_PSIDS  \n",
      "471                  NaN   NaN    COP21_afghanistan  \n",
      "514                  NaN   NaN             COP21_eu  \n",
      "631                  NaN   NaN  COP22_czechrepublic  \n",
      "732                  NaN   NaN       COP22_thailand  \n",
      "800                  NaN   NaN        COP23_ireland  \n",
      "842                  NaN   NaN       COP23_suriname  \n",
      "901                  NaN   NaN      COP24_indonesia  \n",
      "1012                 NaN   NaN         COP24_rwanda  \n",
      "1232                 NaN   NaN    COP26_philippines  \n",
      "1332                 NaN   NaN      COP27_australia  \n",
      "1364                 NaN   NaN         COP27_greece  \n",
      "1396                 NaN   NaN     COP27_kazakhstan  \n",
      "1483                 NaN   NaN        COP28_belgium  \n",
      "1556                 NaN   NaN        COP28_jamaica  \n"
     ]
    }
   ],
   "source": [
    "# Remove rows where the entry in the 'Text' column is NaN\n",
    "HLS_df = HLS_df.dropna(subset=['Text'])\n",
    "\n",
    "# Print rows with NaN in 'relevance' column\n",
    "nan_relevance = HLS_df[HLS_df['Relevance'].isna()]\n",
    "print(nan_relevance)"
   ],
   "metadata": {
    "collapsed": false,
    "ExecuteTime": {
     "start_time": "2024-04-29T15:32:56.235805Z",
     "end_time": "2024-04-29T15:32:56.301676Z"
    }
   }
  },
  {
   "cell_type": "markdown",
   "source": [
    "Explanation for nan counts: formatting of speeches with no entries in final lines of the speech. Rows are removed."
   ],
   "metadata": {
    "collapsed": false
   }
  },
  {
   "cell_type": "code",
   "execution_count": 43,
   "outputs": [
    {
     "name": "stdout",
     "output_type": "stream",
     "text": [
      "The shape of the dataframe is: (1536, 10)\n",
      "The number of relevant sentences is: 266\n",
      "The nr. of occurences per principle is: egalitarian                    73\n",
      "prioritarian                   70\n",
      "general normative statement    61\n",
      "utilitarian                    38\n",
      "sufficientarian                 9\n",
      "prioritarian                    4\n",
      "egalitarain                     4\n",
      "libertarian                     3\n",
      "prioritarain                    2\n",
      "egalitarian                     2\n",
      "utilitarian                     2\n",
      "libertarian                     1\n",
      "egalitarian, utilitarian        1\n",
      "prioritarian, egalitarian       1\n",
      "egalitarian, libertarian        1\n",
      "egalitarain, utilitarian        1\n",
      "proioritarian                   1\n",
      "utilitarian, egalitarian        1\n",
      "egalitarian, prioritarian       1\n",
      "proritarian                     1\n",
      "egalitararin                    1\n",
      "Egalitarian                     1\n",
      "Name: Principle, dtype: int64\n"
     ]
    }
   ],
   "source": [
    "# Remove all rows where entry in 'Relevance' column is NaN\n",
    "HLS_df = HLS_df.dropna(subset=['Relevance'])\n",
    "\n",
    "# Determine number of relevant sentences\n",
    "relevant_count = (HLS_df['Relevance']== 'yes').sum()\n",
    "\n",
    "# Determine number of principle occurences\n",
    "principle_count = HLS_df['Principle'].value_counts()\n",
    "# General information on dataframe\n",
    "print('The shape of the dataframe is:', HLS_df.shape)\n",
    "print('The number of relevant sentences is:', relevant_count)\n",
    "print('The nr. of occurences per principle is:', principle_count)"
   ],
   "metadata": {
    "collapsed": false,
    "ExecuteTime": {
     "start_time": "2024-04-29T15:32:56.248466Z",
     "end_time": "2024-04-29T15:32:56.376188Z"
    }
   }
  },
  {
   "cell_type": "markdown",
   "source": [
    "## Spellcheck and evaluation of principles\n",
    "In total there are 266 sentences labelled as relevant. This is 17% of all sentences.\n",
    "Need to filter the spelling mistakes."
   ],
   "metadata": {
    "collapsed": false
   }
  },
  {
   "cell_type": "code",
   "execution_count": 47,
   "outputs": [
    {
     "data": {
      "text/plain": "egalitarian                    81\nprioritarian                   78\ngeneral normative statement    61\nutilitarian                    40\nsufficientarian                 9\nlibertarian                     4\negalitarian, utilitarian        3\negalitarian, prioritarian       2\negalitarian, libertarian        1\nName: Principle, dtype: int64"
     },
     "execution_count": 47,
     "metadata": {},
     "output_type": "execute_result"
    }
   ],
   "source": [
    "HLS_df = HLS_df.copy()\n",
    "\n",
    "#Replace prioritarian errors\n",
    "HLS_df.loc[:,'Principle'] = HLS_df['Principle'].str.replace('prioritarian ', 'prioritarian')\n",
    "HLS_df.loc[:,'Principle'] = HLS_df['Principle'].str.replace('prioritarain', 'prioritarian')\n",
    "HLS_df.loc[:,'Principle'] = HLS_df['Principle'].str.replace('proioritarian', 'prioritarian')\n",
    "HLS_df.loc[:,'Principle'] = HLS_df['Principle'].str.replace('proritarian', 'prioritarian')\n",
    "\n",
    "#Replace egalitarian errors\n",
    "HLS_df.loc[:,'Principle'] = HLS_df['Principle'].str.replace('Egalitarian', 'egalitarian')\n",
    "HLS_df.loc[:,'Principle'] = HLS_df['Principle'].str.replace('egalitarian ', 'egalitarian')\n",
    "HLS_df.loc[:,'Principle'] = HLS_df['Principle'].str.replace('egalitarain', 'egalitarian')\n",
    "HLS_df.loc[:,'Principle'] = HLS_df['Principle'].str.replace('egalitararin', 'egalitarian')\n",
    "\n",
    "# Replace utilitarian errors\n",
    "HLS_df.loc[:,'Principle'] = HLS_df['Principle'].str.replace('utilitarian', 'utilitarian')\n",
    "HLS_df.loc[:,'Principle'] = HLS_df['Principle'].str.replace('utilitarian ', 'utilitarian')\n",
    "\n",
    "# Replace libertarian erros\n",
    "HLS_df.loc[:,'Principle'] = HLS_df['Principle'].str.replace('libertarian ', 'libertarian')\n",
    "\n",
    "# Format double labels\n",
    "HLS_df.loc[:,'Principle'] = HLS_df['Principle'].str.replace('egalitarian, utilitarian', 'egalitarian, utilitarian')\n",
    "HLS_df.loc[:,'Principle'] = HLS_df['Principle'].str.replace('egalitarian,utilitarian', 'egalitarian, utilitarian')\n",
    "HLS_df.loc[:,'Principle'] = HLS_df['Principle'].str.replace('utilitarian, egalitarian', 'egalitarian, utilitarian')\n",
    "HLS_df.loc[:,'Principle'] = HLS_df['Principle'].str.replace('prioritarian, egalitarian', 'egalitarian,prioritarian')\n",
    "HLS_df.loc[:,'Principle'] = HLS_df['Principle'].str.replace('egalitarian,prioritarian', 'egalitarian, prioritarian')\n",
    "\n",
    "# Perform new principle count\n",
    "principle_count2 = HLS_df['Principle'].value_counts()\n",
    "principle_count2"
   ],
   "metadata": {
    "collapsed": false,
    "ExecuteTime": {
     "start_time": "2024-04-29T15:33:59.785435Z",
     "end_time": "2024-04-29T15:33:59.819362Z"
    }
   }
  },
  {
   "cell_type": "markdown",
   "source": [
    "Print rows with double entries for analysis\n"
   ],
   "metadata": {
    "collapsed": false
   }
  },
  {
   "cell_type": "code",
   "execution_count": 48,
   "outputs": [
    {
     "data": {
      "text/plain": "                                                  Text Relevance  \\\n206   Climate change poses a serious global challen...       yes   \n392  We must all work collectively, with a sense of...       yes   \n400  The guidance to the financing mechanisms shoul...       yes   \n465   It is therefore, of utmost importance that we...       yes   \n684  Let us ensure that the environmental issue is ...       yes   \n861  The global response to climate changemust put ...       yes   \n\n                    Topic                 Unit   Scale           Time  \\\n206  moral responsibility             measures  global  nearby future   \n392  moral responsibility             measures  global           n.a.   \n400    new UNFCCC policy   financial resources    n.a.           n.a.   \n465     new UNFCCC policy             measures  global           n.a.   \n684           cooperation             measures  global           n.a.   \n861     new UNFCCC policy             measures  global           n.a.   \n\n                     Principle  \\\n206   egalitarian, utilitarian   \n392  egalitarian, prioritarian   \n400   egalitarian, libertarian   \n465   egalitarian, utilitarian   \n684   egalitarian, utilitarian   \n861  egalitarian, prioritarian   \n\n                                   30 word explanation Notes  \\\n206  Urging for global action, referring to egalita...   NaN   \n392  working collectively and supporting the worst ...   NaN   \n400  Accounting for the differences between locatio...   NaN   \n465  Egalitarian in urging all countries, for the r...   NaN   \n684  focus on the need for cooperation focussing on...   NaN   \n861  Prescribing the need for fair policies but als...   NaN   \n\n                    id  \n206        COP20_kenya  \n392  COP20_tonga_PSIDS  \n400  COP20_tonga_PSIDS  \n465  COP21_afghanistan  \n684       COP22_israel  \n861       COP23_vanatu  ",
      "text/html": "<div>\n<style scoped>\n    .dataframe tbody tr th:only-of-type {\n        vertical-align: middle;\n    }\n\n    .dataframe tbody tr th {\n        vertical-align: top;\n    }\n\n    .dataframe thead th {\n        text-align: right;\n    }\n</style>\n<table border=\"1\" class=\"dataframe\">\n  <thead>\n    <tr style=\"text-align: right;\">\n      <th></th>\n      <th>Text</th>\n      <th>Relevance</th>\n      <th>Topic</th>\n      <th>Unit</th>\n      <th>Scale</th>\n      <th>Time</th>\n      <th>Principle</th>\n      <th>30 word explanation</th>\n      <th>Notes</th>\n      <th>id</th>\n    </tr>\n  </thead>\n  <tbody>\n    <tr>\n      <th>206</th>\n      <td>Climate change poses a serious global challen...</td>\n      <td>yes</td>\n      <td>moral responsibility</td>\n      <td>measures</td>\n      <td>global</td>\n      <td>nearby future</td>\n      <td>egalitarian, utilitarian</td>\n      <td>Urging for global action, referring to egalita...</td>\n      <td>NaN</td>\n      <td>COP20_kenya</td>\n    </tr>\n    <tr>\n      <th>392</th>\n      <td>We must all work collectively, with a sense of...</td>\n      <td>yes</td>\n      <td>moral responsibility</td>\n      <td>measures</td>\n      <td>global</td>\n      <td>n.a.</td>\n      <td>egalitarian, prioritarian</td>\n      <td>working collectively and supporting the worst ...</td>\n      <td>NaN</td>\n      <td>COP20_tonga_PSIDS</td>\n    </tr>\n    <tr>\n      <th>400</th>\n      <td>The guidance to the financing mechanisms shoul...</td>\n      <td>yes</td>\n      <td>new UNFCCC policy</td>\n      <td>financial resources</td>\n      <td>n.a.</td>\n      <td>n.a.</td>\n      <td>egalitarian, libertarian</td>\n      <td>Accounting for the differences between locatio...</td>\n      <td>NaN</td>\n      <td>COP20_tonga_PSIDS</td>\n    </tr>\n    <tr>\n      <th>465</th>\n      <td>It is therefore, of utmost importance that we...</td>\n      <td>yes</td>\n      <td>new UNFCCC policy</td>\n      <td>measures</td>\n      <td>global</td>\n      <td>n.a.</td>\n      <td>egalitarian, utilitarian</td>\n      <td>Egalitarian in urging all countries, for the r...</td>\n      <td>NaN</td>\n      <td>COP21_afghanistan</td>\n    </tr>\n    <tr>\n      <th>684</th>\n      <td>Let us ensure that the environmental issue is ...</td>\n      <td>yes</td>\n      <td>cooperation</td>\n      <td>measures</td>\n      <td>global</td>\n      <td>n.a.</td>\n      <td>egalitarian, utilitarian</td>\n      <td>focus on the need for cooperation focussing on...</td>\n      <td>NaN</td>\n      <td>COP22_israel</td>\n    </tr>\n    <tr>\n      <th>861</th>\n      <td>The global response to climate changemust put ...</td>\n      <td>yes</td>\n      <td>new UNFCCC policy</td>\n      <td>measures</td>\n      <td>global</td>\n      <td>n.a.</td>\n      <td>egalitarian, prioritarian</td>\n      <td>Prescribing the need for fair policies but als...</td>\n      <td>NaN</td>\n      <td>COP23_vanatu</td>\n    </tr>\n  </tbody>\n</table>\n</div>"
     },
     "execution_count": 48,
     "metadata": {},
     "output_type": "execute_result"
    }
   ],
   "source": [
    "double_principle = HLS_df[(HLS_df['Principle']=='egalitarian, utilitarian') |(HLS_df['Principle']=='egalitarian, prioritarian')|(HLS_df['Principle']=='egalitarian, libertarian')]\n",
    "double_principle"
   ],
   "metadata": {
    "collapsed": false,
    "ExecuteTime": {
     "start_time": "2024-04-29T15:34:08.643931Z",
     "end_time": "2024-04-29T15:34:08.665436Z"
    }
   }
  },
  {
   "cell_type": "markdown",
   "source": [
    "## Evaluating the other statistics of elements like topic, unit, scale and time\n",
    "Need to filter for multiple occurences. Like the occurances of the term 'measures'. Again the need to filter spelling mistakes."
   ],
   "metadata": {
    "collapsed": false
   }
  },
  {
   "cell_type": "code",
   "execution_count": 49,
   "outputs": [
    {
     "data": {
      "text/plain": "new UNFCCC policy                                        38\nmoral responsibility                                     17\naction                                                   11\nadaptation, mitigation                                    5\nmoral responsiblity                                       5\n                                                         ..\nmoral responsibilty, UNFCCC agreements and principles     1\ncooperation                                               1\nsupport                                                   1\nother(transparancy), other(implementation)                1\nmoral responsibility, global prosperitiy                  1\nName: Topic, Length: 171, dtype: int64"
     },
     "execution_count": 49,
     "metadata": {},
     "output_type": "execute_result"
    }
   ],
   "source": [
    "# Determine number of Topic occurences - need to filter for specific text that is found\n",
    "HLS_df['Topic'].value_counts()"
   ],
   "metadata": {
    "collapsed": false,
    "ExecuteTime": {
     "start_time": "2024-04-29T15:36:43.032171Z",
     "end_time": "2024-04-29T15:36:43.050226Z"
    }
   }
  },
  {
   "cell_type": "code",
   "execution_count": 51,
   "outputs": [
    {
     "data": {
      "text/plain": "measures                                                            133\nn.a.                                                                 62\nfinancial resources                                                  39\ntechnological resources, financial resources                          4\nsupport                                                               4\nfinancial resources, technological resources                          4\nmeasuers                                                              2\nn.a.                                                                  2\nother(support)                                                        2\ntechnical resources, financial resources                              2\nresources                                                             2\ncommitments                                                           1\nknowledge, technological resources                                    1\nsupport                                                               1\nfinancial resources, technologcal resources                           1\nemissions, support                                                    1\nactions                                                               1\ntechnological resources                                               1\ntechnological resource                                                1\nmeaures                                                               1\nemissions, measures                                                   1\nmeasures, other(knowledge)                                            1\nemissions                                                             1\ntechnical resources                                                   1\ntechnical resources, financial resources, other(general support)      1\nemissions, financial resources, technological resourcs                1\nmeasures, financial resources, technological resources                1\nother(general support)                                                1\nmeasures, financial resources                                         1\nmeasures                                                              1\nfinancial resources                                                   1\nfinancial resources, other(assistance)                                1\nfinancial resorueces                                                  1\nName: Unit, dtype: int64"
     },
     "execution_count": 51,
     "metadata": {},
     "output_type": "execute_result"
    }
   ],
   "source": [
    "# Determine number of Unit occurences - need to filter for specific text that is found\n",
    "HLS_df['Unit'].value_counts()"
   ],
   "metadata": {
    "collapsed": false,
    "ExecuteTime": {
     "start_time": "2024-04-29T15:38:02.203634Z",
     "end_time": "2024-04-29T15:38:02.221368Z"
    }
   }
  },
  {
   "cell_type": "code",
   "execution_count": 52,
   "outputs": [
    {
     "data": {
      "text/plain": "global                                    218\nn.a.                                       35\nnational                                    6\nglobal institutions                         3\nmultinational(developed countries)          2\nmultinational(developing countries)         2\nsectors                                     1\nmultilateral(SIDS)                          1\nmultilateral(europe)                        1\nglboal                                      1\nmultinational(annex 1)                      1\nother(countries with higer emissions)       1\ngobal                                       1\nregional                                    1\nother(people vs policimakers)               1\nmultinationalmajor polluters)               1\nMultinational(annex-1 parties)              1\nMultinational(developed countries)          1\nmultinational(refugee hosting nations)      1\nName: Scale, dtype: int64"
     },
     "execution_count": 52,
     "metadata": {},
     "output_type": "execute_result"
    }
   ],
   "source": [
    "# Determine number of 'Scale\" occurences - need to filter for specific text that is found\n",
    "HLS_df['Scale'].value_counts()"
   ],
   "metadata": {
    "collapsed": false,
    "ExecuteTime": {
     "start_time": "2024-04-29T15:39:37.275408Z",
     "end_time": "2024-04-29T15:39:37.301297Z"
    }
   }
  },
  {
   "cell_type": "code",
   "execution_count": 53,
   "outputs": [
    {
     "data": {
      "text/plain": "n.a.                       185\npresent                     59\nnearby future               20\nn.a.                         9\ndistant future               4\npresent, distant future      1\npast                         1\nName: Time, dtype: int64"
     },
     "execution_count": 53,
     "metadata": {},
     "output_type": "execute_result"
    }
   ],
   "source": [
    "# Determine number of 'Time'\"  occurences - need to filter for specific text that is found\n",
    "HLS_df['Time'].value_counts()"
   ],
   "metadata": {
    "collapsed": false,
    "ExecuteTime": {
     "start_time": "2024-04-29T15:40:15.738717Z",
     "end_time": "2024-04-29T15:40:15.741223Z"
    }
   }
  },
  {
   "cell_type": "markdown",
   "source": [],
   "metadata": {
    "collapsed": false
   }
  }
 ],
 "metadata": {
  "kernelspec": {
   "display_name": "Python 3",
   "language": "python",
   "name": "python3"
  },
  "language_info": {
   "codemirror_mode": {
    "name": "ipython",
    "version": 2
   },
   "file_extension": ".py",
   "mimetype": "text/x-python",
   "name": "python",
   "nbconvert_exporter": "python",
   "pygments_lexer": "ipython2",
   "version": "2.7.6"
  }
 },
 "nbformat": 4,
 "nbformat_minor": 0
}
