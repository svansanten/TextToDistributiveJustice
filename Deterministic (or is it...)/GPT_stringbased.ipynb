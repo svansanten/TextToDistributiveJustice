{
 "cells": [
  {
   "cell_type": "code",
   "execution_count": 4,
   "metadata": {
    "collapsed": true,
    "ExecuteTime": {
     "start_time": "2024-05-23T10:36:41.113257Z",
     "end_time": "2024-05-23T10:36:41.148489Z"
    }
   },
   "outputs": [],
   "source": [
    "import numpy as np\n",
    "import pandas as pd\n",
    "import os\n",
    "import matplotlib.pyplot as plt\n",
    "import seaborn as sns\n",
    "import openai"
   ]
  },
  {
   "cell_type": "markdown",
   "source": [
    "## Notebook to convert numerical based HLS annotations to tekst for non-binary evaluation with GPT"
   ],
   "metadata": {
    "collapsed": false
   }
  },
  {
   "cell_type": "code",
   "execution_count": 11,
   "outputs": [],
   "source": [
    "HLS_train = pd.read_csv('HLS_train_string.csv')"
   ],
   "metadata": {
    "collapsed": false,
    "ExecuteTime": {
     "start_time": "2024-05-23T10:39:25.971527Z",
     "end_time": "2024-05-23T10:39:26.014123Z"
    }
   }
  },
  {
   "cell_type": "code",
   "execution_count": 12,
   "outputs": [
    {
     "data": {
      "text/plain": "    Unnamed: 0.1  Unnamed: 0           id  \\\n0              0           0  COP19_japan   \n1              1           1  COP19_japan   \n2              2           2  COP19_japan   \n3              3           3  COP19_japan   \n4              4           4  COP19_japan   \n5              5           5  COP19_japan   \n6              6           6  COP19_japan   \n7              7           7  COP19_japan   \n8              8           8  COP19_japan   \n9              9           9  COP19_japan   \n10            10          10  COP19_japan   \n11            11          11  COP19_japan   \n12            12          12  COP19_japan   \n13            13          13  COP19_japan   \n14            14          14  COP19_japan   \n15            15          15  COP19_japan   \n16            16          16  COP19_japan   \n17            17          17  COP19_japan   \n18            18          18  COP19_japan   \n19            19          19  COP19_japan   \n20            20          20  COP19_japan   \n21            21          21  COP19_japan   \n22            22          22  COP19_japan   \n23            23          23  COP19_japan   \n24            24          24  COP19_japan   \n25            25          25  COP19_japan   \n26            26          26  COP19_japan   \n27            27          27  COP19_japan   \n28            28          28  COP19_japan   \n29            29          29  COP19_japan   \n30            30          30  COP19_japan   \n31            31          31  COP19_japan   \n32            32          32  COP19_japan   \n33            33          33  COP19_japan   \n34            34          34  COP19_japan   \n35            35          35  COP19_japan   \n36            36          36  COP19_japan   \n\n                                                 Text  Relevance  Principle  \\\n0                          Thank you, Mr. President .          0          0   \n1    On beha lf of the government of Japan , I wou...          0          0   \n2    I would also like to expr ess my d eepest con...          0          0   \n3    Mr. President:  A fair and effective framewor...          2          3   \n4    In this regard, Japan firmly supports the est...          1          0   \n5   Such a framework must be based on “nationally ...          2          2   \n6    I will devote myself toward the s uccessful o...          1          0   \n7    Mr. President:  The Great East Japan Earthqua...          0          0   \n8    Even under such circumstance both the public ...          0          0   \n9    Our greenhouse gas emissions for the first co...          0          0   \n10  As a result, our target under the Kyoto Protoc...          0          0   \n11   As the next step, Japan has set a target to r...          0          0   \n12       This target may appear to be less ambitious.          0          0   \n13             However, this is an ambitious target .          0          0   \n14   It requires Japan to improve its energy effic...          0          0   \n15               This is a target for the time being.          0          0   \n16   It was determined without taking into account...          0          0   \n17       Consideration is underway on energy policy .          0          0   \n18   We will conduct further review in line with i...          1          0   \n19   And then, a firm target will eventually be set .          1          0   \n20   Japan will establish a low carbon society thr...          1          0   \n21   We will strategically promote mitigation meas...          1          0   \n22   We will enhance development and demonstration...          1          0   \n23      Japan is hosting the IPCC session next March.          0          0   \n24   Using that opportunity, we will launch a new ...          1          0   \n25   Mr. President:  Japan reaffirms the goal to r...          1          0   \n26   Now is the time for Japan to take “ Actions f...          1          0   \n27  First, Japan will promote further technologica...          1          0   \n28   In this context, Japan’s public and private s...          1          0   \n29  Second, Japan will promote the application of ...          1          0   \n30   In so doing , we will contribute to global em...          1          0   \n31   Furthermore, Japan will strengthen its partne...          1          0   \n32   We will provide support to developing countri...          1          0   \n33   We will mobiliz e official development assist...          1          0   \n34   Tokyo has been selected as the host of the 20...          0          0   \n35   Through the Olympic Games , we will demonstra...          1          0   \n36                 Thank you for your kind attention.          0          0   \n\n    Topic  Unit  Shape            RELEVANCE      PRINCIPLE              TOPIC  \\\n0       0     0      0         Not relevant  not evaluated      not evaluated   \n1       0     0      0         Not relevant  not evaluated      not evaluated   \n2       0     0      0         Not relevant  not evaluated      not evaluated   \n3       1     2      2             Relevant    utilitarian  new UNFCCC policy   \n4       0     0      0  Statement of intent  not evaluated      not evaluated   \n5       1     2      3             Relevant    egalitarian  new UNFCCC policy   \n6       0     0      0  Statement of intent  not evaluated      not evaluated   \n7       0     0      0         Not relevant  not evaluated      not evaluated   \n8       0     0      0         Not relevant  not evaluated      not evaluated   \n9       0     0      0         Not relevant  not evaluated      not evaluated   \n10      0     0      0         Not relevant  not evaluated      not evaluated   \n11      0     0      0         Not relevant  not evaluated      not evaluated   \n12      0     0      0         Not relevant  not evaluated      not evaluated   \n13      0     0      0         Not relevant  not evaluated      not evaluated   \n14      0     0      0         Not relevant  not evaluated      not evaluated   \n15      0     0      0         Not relevant  not evaluated      not evaluated   \n16      0     0      0         Not relevant  not evaluated      not evaluated   \n17      0     0      0         Not relevant  not evaluated      not evaluated   \n18      0     0      0  Statement of intent  not evaluated      not evaluated   \n19      0     0      0  Statement of intent  not evaluated      not evaluated   \n20      0     0      0  Statement of intent  not evaluated      not evaluated   \n21      0     0      0  Statement of intent  not evaluated      not evaluated   \n22      0     0      0  Statement of intent  not evaluated      not evaluated   \n23      0     0      0         Not relevant  not evaluated      not evaluated   \n24      0     0      0  Statement of intent  not evaluated      not evaluated   \n25      0     0      0  Statement of intent  not evaluated      not evaluated   \n26      0     0      0  Statement of intent  not evaluated      not evaluated   \n27      0     0      0  Statement of intent  not evaluated      not evaluated   \n28      0     0      0  Statement of intent  not evaluated      not evaluated   \n29      0     0      0  Statement of intent  not evaluated      not evaluated   \n30      0     0      0  Statement of intent  not evaluated      not evaluated   \n31      0     0      0  Statement of intent  not evaluated      not evaluated   \n32      0     0      0  Statement of intent  not evaluated      not evaluated   \n33      0     0      0  Statement of intent  not evaluated      not evaluated   \n34      0     0      0         Not relevant  not evaluated      not evaluated   \n35      0     0      0  Statement of intent  not evaluated      not evaluated   \n36      0     0      0         Not relevant  not evaluated      not evaluated   \n\n              UNIT          SHAPE  \n0    not evaluated  not evaluated  \n1    not evaluated  not evaluated  \n2    not evaluated  not evaluated  \n3   responsibility       equality  \n4    not evaluated  not evaluated  \n5   responsibility         equity  \n6    not evaluated  not evaluated  \n7    not evaluated  not evaluated  \n8    not evaluated  not evaluated  \n9    not evaluated  not evaluated  \n10   not evaluated  not evaluated  \n11   not evaluated  not evaluated  \n12   not evaluated  not evaluated  \n13   not evaluated  not evaluated  \n14   not evaluated  not evaluated  \n15   not evaluated  not evaluated  \n16   not evaluated  not evaluated  \n17   not evaluated  not evaluated  \n18   not evaluated  not evaluated  \n19   not evaluated  not evaluated  \n20   not evaluated  not evaluated  \n21   not evaluated  not evaluated  \n22   not evaluated  not evaluated  \n23   not evaluated  not evaluated  \n24   not evaluated  not evaluated  \n25   not evaluated  not evaluated  \n26   not evaluated  not evaluated  \n27   not evaluated  not evaluated  \n28   not evaluated  not evaluated  \n29   not evaluated  not evaluated  \n30   not evaluated  not evaluated  \n31   not evaluated  not evaluated  \n32   not evaluated  not evaluated  \n33   not evaluated  not evaluated  \n34   not evaluated  not evaluated  \n35   not evaluated  not evaluated  \n36   not evaluated  not evaluated  ",
      "text/html": "<div>\n<style scoped>\n    .dataframe tbody tr th:only-of-type {\n        vertical-align: middle;\n    }\n\n    .dataframe tbody tr th {\n        vertical-align: top;\n    }\n\n    .dataframe thead th {\n        text-align: right;\n    }\n</style>\n<table border=\"1\" class=\"dataframe\">\n  <thead>\n    <tr style=\"text-align: right;\">\n      <th></th>\n      <th>Unnamed: 0.1</th>\n      <th>Unnamed: 0</th>\n      <th>id</th>\n      <th>Text</th>\n      <th>Relevance</th>\n      <th>Principle</th>\n      <th>Topic</th>\n      <th>Unit</th>\n      <th>Shape</th>\n      <th>RELEVANCE</th>\n      <th>PRINCIPLE</th>\n      <th>TOPIC</th>\n      <th>UNIT</th>\n      <th>SHAPE</th>\n    </tr>\n  </thead>\n  <tbody>\n    <tr>\n      <th>0</th>\n      <td>0</td>\n      <td>0</td>\n      <td>COP19_japan</td>\n      <td>Thank you, Mr. President .</td>\n      <td>0</td>\n      <td>0</td>\n      <td>0</td>\n      <td>0</td>\n      <td>0</td>\n      <td>Not relevant</td>\n      <td>not evaluated</td>\n      <td>not evaluated</td>\n      <td>not evaluated</td>\n      <td>not evaluated</td>\n    </tr>\n    <tr>\n      <th>1</th>\n      <td>1</td>\n      <td>1</td>\n      <td>COP19_japan</td>\n      <td>On beha lf of the government of Japan , I wou...</td>\n      <td>0</td>\n      <td>0</td>\n      <td>0</td>\n      <td>0</td>\n      <td>0</td>\n      <td>Not relevant</td>\n      <td>not evaluated</td>\n      <td>not evaluated</td>\n      <td>not evaluated</td>\n      <td>not evaluated</td>\n    </tr>\n    <tr>\n      <th>2</th>\n      <td>2</td>\n      <td>2</td>\n      <td>COP19_japan</td>\n      <td>I would also like to expr ess my d eepest con...</td>\n      <td>0</td>\n      <td>0</td>\n      <td>0</td>\n      <td>0</td>\n      <td>0</td>\n      <td>Not relevant</td>\n      <td>not evaluated</td>\n      <td>not evaluated</td>\n      <td>not evaluated</td>\n      <td>not evaluated</td>\n    </tr>\n    <tr>\n      <th>3</th>\n      <td>3</td>\n      <td>3</td>\n      <td>COP19_japan</td>\n      <td>Mr. President:  A fair and effective framewor...</td>\n      <td>2</td>\n      <td>3</td>\n      <td>1</td>\n      <td>2</td>\n      <td>2</td>\n      <td>Relevant</td>\n      <td>utilitarian</td>\n      <td>new UNFCCC policy</td>\n      <td>responsibility</td>\n      <td>equality</td>\n    </tr>\n    <tr>\n      <th>4</th>\n      <td>4</td>\n      <td>4</td>\n      <td>COP19_japan</td>\n      <td>In this regard, Japan firmly supports the est...</td>\n      <td>1</td>\n      <td>0</td>\n      <td>0</td>\n      <td>0</td>\n      <td>0</td>\n      <td>Statement of intent</td>\n      <td>not evaluated</td>\n      <td>not evaluated</td>\n      <td>not evaluated</td>\n      <td>not evaluated</td>\n    </tr>\n    <tr>\n      <th>5</th>\n      <td>5</td>\n      <td>5</td>\n      <td>COP19_japan</td>\n      <td>Such a framework must be based on “nationally ...</td>\n      <td>2</td>\n      <td>2</td>\n      <td>1</td>\n      <td>2</td>\n      <td>3</td>\n      <td>Relevant</td>\n      <td>egalitarian</td>\n      <td>new UNFCCC policy</td>\n      <td>responsibility</td>\n      <td>equity</td>\n    </tr>\n    <tr>\n      <th>6</th>\n      <td>6</td>\n      <td>6</td>\n      <td>COP19_japan</td>\n      <td>I will devote myself toward the s uccessful o...</td>\n      <td>1</td>\n      <td>0</td>\n      <td>0</td>\n      <td>0</td>\n      <td>0</td>\n      <td>Statement of intent</td>\n      <td>not evaluated</td>\n      <td>not evaluated</td>\n      <td>not evaluated</td>\n      <td>not evaluated</td>\n    </tr>\n    <tr>\n      <th>7</th>\n      <td>7</td>\n      <td>7</td>\n      <td>COP19_japan</td>\n      <td>Mr. President:  The Great East Japan Earthqua...</td>\n      <td>0</td>\n      <td>0</td>\n      <td>0</td>\n      <td>0</td>\n      <td>0</td>\n      <td>Not relevant</td>\n      <td>not evaluated</td>\n      <td>not evaluated</td>\n      <td>not evaluated</td>\n      <td>not evaluated</td>\n    </tr>\n    <tr>\n      <th>8</th>\n      <td>8</td>\n      <td>8</td>\n      <td>COP19_japan</td>\n      <td>Even under such circumstance both the public ...</td>\n      <td>0</td>\n      <td>0</td>\n      <td>0</td>\n      <td>0</td>\n      <td>0</td>\n      <td>Not relevant</td>\n      <td>not evaluated</td>\n      <td>not evaluated</td>\n      <td>not evaluated</td>\n      <td>not evaluated</td>\n    </tr>\n    <tr>\n      <th>9</th>\n      <td>9</td>\n      <td>9</td>\n      <td>COP19_japan</td>\n      <td>Our greenhouse gas emissions for the first co...</td>\n      <td>0</td>\n      <td>0</td>\n      <td>0</td>\n      <td>0</td>\n      <td>0</td>\n      <td>Not relevant</td>\n      <td>not evaluated</td>\n      <td>not evaluated</td>\n      <td>not evaluated</td>\n      <td>not evaluated</td>\n    </tr>\n    <tr>\n      <th>10</th>\n      <td>10</td>\n      <td>10</td>\n      <td>COP19_japan</td>\n      <td>As a result, our target under the Kyoto Protoc...</td>\n      <td>0</td>\n      <td>0</td>\n      <td>0</td>\n      <td>0</td>\n      <td>0</td>\n      <td>Not relevant</td>\n      <td>not evaluated</td>\n      <td>not evaluated</td>\n      <td>not evaluated</td>\n      <td>not evaluated</td>\n    </tr>\n    <tr>\n      <th>11</th>\n      <td>11</td>\n      <td>11</td>\n      <td>COP19_japan</td>\n      <td>As the next step, Japan has set a target to r...</td>\n      <td>0</td>\n      <td>0</td>\n      <td>0</td>\n      <td>0</td>\n      <td>0</td>\n      <td>Not relevant</td>\n      <td>not evaluated</td>\n      <td>not evaluated</td>\n      <td>not evaluated</td>\n      <td>not evaluated</td>\n    </tr>\n    <tr>\n      <th>12</th>\n      <td>12</td>\n      <td>12</td>\n      <td>COP19_japan</td>\n      <td>This target may appear to be less ambitious.</td>\n      <td>0</td>\n      <td>0</td>\n      <td>0</td>\n      <td>0</td>\n      <td>0</td>\n      <td>Not relevant</td>\n      <td>not evaluated</td>\n      <td>not evaluated</td>\n      <td>not evaluated</td>\n      <td>not evaluated</td>\n    </tr>\n    <tr>\n      <th>13</th>\n      <td>13</td>\n      <td>13</td>\n      <td>COP19_japan</td>\n      <td>However, this is an ambitious target .</td>\n      <td>0</td>\n      <td>0</td>\n      <td>0</td>\n      <td>0</td>\n      <td>0</td>\n      <td>Not relevant</td>\n      <td>not evaluated</td>\n      <td>not evaluated</td>\n      <td>not evaluated</td>\n      <td>not evaluated</td>\n    </tr>\n    <tr>\n      <th>14</th>\n      <td>14</td>\n      <td>14</td>\n      <td>COP19_japan</td>\n      <td>It requires Japan to improve its energy effic...</td>\n      <td>0</td>\n      <td>0</td>\n      <td>0</td>\n      <td>0</td>\n      <td>0</td>\n      <td>Not relevant</td>\n      <td>not evaluated</td>\n      <td>not evaluated</td>\n      <td>not evaluated</td>\n      <td>not evaluated</td>\n    </tr>\n    <tr>\n      <th>15</th>\n      <td>15</td>\n      <td>15</td>\n      <td>COP19_japan</td>\n      <td>This is a target for the time being.</td>\n      <td>0</td>\n      <td>0</td>\n      <td>0</td>\n      <td>0</td>\n      <td>0</td>\n      <td>Not relevant</td>\n      <td>not evaluated</td>\n      <td>not evaluated</td>\n      <td>not evaluated</td>\n      <td>not evaluated</td>\n    </tr>\n    <tr>\n      <th>16</th>\n      <td>16</td>\n      <td>16</td>\n      <td>COP19_japan</td>\n      <td>It was determined without taking into account...</td>\n      <td>0</td>\n      <td>0</td>\n      <td>0</td>\n      <td>0</td>\n      <td>0</td>\n      <td>Not relevant</td>\n      <td>not evaluated</td>\n      <td>not evaluated</td>\n      <td>not evaluated</td>\n      <td>not evaluated</td>\n    </tr>\n    <tr>\n      <th>17</th>\n      <td>17</td>\n      <td>17</td>\n      <td>COP19_japan</td>\n      <td>Consideration is underway on energy policy .</td>\n      <td>0</td>\n      <td>0</td>\n      <td>0</td>\n      <td>0</td>\n      <td>0</td>\n      <td>Not relevant</td>\n      <td>not evaluated</td>\n      <td>not evaluated</td>\n      <td>not evaluated</td>\n      <td>not evaluated</td>\n    </tr>\n    <tr>\n      <th>18</th>\n      <td>18</td>\n      <td>18</td>\n      <td>COP19_japan</td>\n      <td>We will conduct further review in line with i...</td>\n      <td>1</td>\n      <td>0</td>\n      <td>0</td>\n      <td>0</td>\n      <td>0</td>\n      <td>Statement of intent</td>\n      <td>not evaluated</td>\n      <td>not evaluated</td>\n      <td>not evaluated</td>\n      <td>not evaluated</td>\n    </tr>\n    <tr>\n      <th>19</th>\n      <td>19</td>\n      <td>19</td>\n      <td>COP19_japan</td>\n      <td>And then, a firm target will eventually be set .</td>\n      <td>1</td>\n      <td>0</td>\n      <td>0</td>\n      <td>0</td>\n      <td>0</td>\n      <td>Statement of intent</td>\n      <td>not evaluated</td>\n      <td>not evaluated</td>\n      <td>not evaluated</td>\n      <td>not evaluated</td>\n    </tr>\n    <tr>\n      <th>20</th>\n      <td>20</td>\n      <td>20</td>\n      <td>COP19_japan</td>\n      <td>Japan will establish a low carbon society thr...</td>\n      <td>1</td>\n      <td>0</td>\n      <td>0</td>\n      <td>0</td>\n      <td>0</td>\n      <td>Statement of intent</td>\n      <td>not evaluated</td>\n      <td>not evaluated</td>\n      <td>not evaluated</td>\n      <td>not evaluated</td>\n    </tr>\n    <tr>\n      <th>21</th>\n      <td>21</td>\n      <td>21</td>\n      <td>COP19_japan</td>\n      <td>We will strategically promote mitigation meas...</td>\n      <td>1</td>\n      <td>0</td>\n      <td>0</td>\n      <td>0</td>\n      <td>0</td>\n      <td>Statement of intent</td>\n      <td>not evaluated</td>\n      <td>not evaluated</td>\n      <td>not evaluated</td>\n      <td>not evaluated</td>\n    </tr>\n    <tr>\n      <th>22</th>\n      <td>22</td>\n      <td>22</td>\n      <td>COP19_japan</td>\n      <td>We will enhance development and demonstration...</td>\n      <td>1</td>\n      <td>0</td>\n      <td>0</td>\n      <td>0</td>\n      <td>0</td>\n      <td>Statement of intent</td>\n      <td>not evaluated</td>\n      <td>not evaluated</td>\n      <td>not evaluated</td>\n      <td>not evaluated</td>\n    </tr>\n    <tr>\n      <th>23</th>\n      <td>23</td>\n      <td>23</td>\n      <td>COP19_japan</td>\n      <td>Japan is hosting the IPCC session next March.</td>\n      <td>0</td>\n      <td>0</td>\n      <td>0</td>\n      <td>0</td>\n      <td>0</td>\n      <td>Not relevant</td>\n      <td>not evaluated</td>\n      <td>not evaluated</td>\n      <td>not evaluated</td>\n      <td>not evaluated</td>\n    </tr>\n    <tr>\n      <th>24</th>\n      <td>24</td>\n      <td>24</td>\n      <td>COP19_japan</td>\n      <td>Using that opportunity, we will launch a new ...</td>\n      <td>1</td>\n      <td>0</td>\n      <td>0</td>\n      <td>0</td>\n      <td>0</td>\n      <td>Statement of intent</td>\n      <td>not evaluated</td>\n      <td>not evaluated</td>\n      <td>not evaluated</td>\n      <td>not evaluated</td>\n    </tr>\n    <tr>\n      <th>25</th>\n      <td>25</td>\n      <td>25</td>\n      <td>COP19_japan</td>\n      <td>Mr. President:  Japan reaffirms the goal to r...</td>\n      <td>1</td>\n      <td>0</td>\n      <td>0</td>\n      <td>0</td>\n      <td>0</td>\n      <td>Statement of intent</td>\n      <td>not evaluated</td>\n      <td>not evaluated</td>\n      <td>not evaluated</td>\n      <td>not evaluated</td>\n    </tr>\n    <tr>\n      <th>26</th>\n      <td>26</td>\n      <td>26</td>\n      <td>COP19_japan</td>\n      <td>Now is the time for Japan to take “ Actions f...</td>\n      <td>1</td>\n      <td>0</td>\n      <td>0</td>\n      <td>0</td>\n      <td>0</td>\n      <td>Statement of intent</td>\n      <td>not evaluated</td>\n      <td>not evaluated</td>\n      <td>not evaluated</td>\n      <td>not evaluated</td>\n    </tr>\n    <tr>\n      <th>27</th>\n      <td>27</td>\n      <td>27</td>\n      <td>COP19_japan</td>\n      <td>First, Japan will promote further technologica...</td>\n      <td>1</td>\n      <td>0</td>\n      <td>0</td>\n      <td>0</td>\n      <td>0</td>\n      <td>Statement of intent</td>\n      <td>not evaluated</td>\n      <td>not evaluated</td>\n      <td>not evaluated</td>\n      <td>not evaluated</td>\n    </tr>\n    <tr>\n      <th>28</th>\n      <td>28</td>\n      <td>28</td>\n      <td>COP19_japan</td>\n      <td>In this context, Japan’s public and private s...</td>\n      <td>1</td>\n      <td>0</td>\n      <td>0</td>\n      <td>0</td>\n      <td>0</td>\n      <td>Statement of intent</td>\n      <td>not evaluated</td>\n      <td>not evaluated</td>\n      <td>not evaluated</td>\n      <td>not evaluated</td>\n    </tr>\n    <tr>\n      <th>29</th>\n      <td>29</td>\n      <td>29</td>\n      <td>COP19_japan</td>\n      <td>Second, Japan will promote the application of ...</td>\n      <td>1</td>\n      <td>0</td>\n      <td>0</td>\n      <td>0</td>\n      <td>0</td>\n      <td>Statement of intent</td>\n      <td>not evaluated</td>\n      <td>not evaluated</td>\n      <td>not evaluated</td>\n      <td>not evaluated</td>\n    </tr>\n    <tr>\n      <th>30</th>\n      <td>30</td>\n      <td>30</td>\n      <td>COP19_japan</td>\n      <td>In so doing , we will contribute to global em...</td>\n      <td>1</td>\n      <td>0</td>\n      <td>0</td>\n      <td>0</td>\n      <td>0</td>\n      <td>Statement of intent</td>\n      <td>not evaluated</td>\n      <td>not evaluated</td>\n      <td>not evaluated</td>\n      <td>not evaluated</td>\n    </tr>\n    <tr>\n      <th>31</th>\n      <td>31</td>\n      <td>31</td>\n      <td>COP19_japan</td>\n      <td>Furthermore, Japan will strengthen its partne...</td>\n      <td>1</td>\n      <td>0</td>\n      <td>0</td>\n      <td>0</td>\n      <td>0</td>\n      <td>Statement of intent</td>\n      <td>not evaluated</td>\n      <td>not evaluated</td>\n      <td>not evaluated</td>\n      <td>not evaluated</td>\n    </tr>\n    <tr>\n      <th>32</th>\n      <td>32</td>\n      <td>32</td>\n      <td>COP19_japan</td>\n      <td>We will provide support to developing countri...</td>\n      <td>1</td>\n      <td>0</td>\n      <td>0</td>\n      <td>0</td>\n      <td>0</td>\n      <td>Statement of intent</td>\n      <td>not evaluated</td>\n      <td>not evaluated</td>\n      <td>not evaluated</td>\n      <td>not evaluated</td>\n    </tr>\n    <tr>\n      <th>33</th>\n      <td>33</td>\n      <td>33</td>\n      <td>COP19_japan</td>\n      <td>We will mobiliz e official development assist...</td>\n      <td>1</td>\n      <td>0</td>\n      <td>0</td>\n      <td>0</td>\n      <td>0</td>\n      <td>Statement of intent</td>\n      <td>not evaluated</td>\n      <td>not evaluated</td>\n      <td>not evaluated</td>\n      <td>not evaluated</td>\n    </tr>\n    <tr>\n      <th>34</th>\n      <td>34</td>\n      <td>34</td>\n      <td>COP19_japan</td>\n      <td>Tokyo has been selected as the host of the 20...</td>\n      <td>0</td>\n      <td>0</td>\n      <td>0</td>\n      <td>0</td>\n      <td>0</td>\n      <td>Not relevant</td>\n      <td>not evaluated</td>\n      <td>not evaluated</td>\n      <td>not evaluated</td>\n      <td>not evaluated</td>\n    </tr>\n    <tr>\n      <th>35</th>\n      <td>35</td>\n      <td>35</td>\n      <td>COP19_japan</td>\n      <td>Through the Olympic Games , we will demonstra...</td>\n      <td>1</td>\n      <td>0</td>\n      <td>0</td>\n      <td>0</td>\n      <td>0</td>\n      <td>Statement of intent</td>\n      <td>not evaluated</td>\n      <td>not evaluated</td>\n      <td>not evaluated</td>\n      <td>not evaluated</td>\n    </tr>\n    <tr>\n      <th>36</th>\n      <td>36</td>\n      <td>36</td>\n      <td>COP19_japan</td>\n      <td>Thank you for your kind attention.</td>\n      <td>0</td>\n      <td>0</td>\n      <td>0</td>\n      <td>0</td>\n      <td>0</td>\n      <td>Not relevant</td>\n      <td>not evaluated</td>\n      <td>not evaluated</td>\n      <td>not evaluated</td>\n      <td>not evaluated</td>\n    </tr>\n  </tbody>\n</table>\n</div>"
     },
     "execution_count": 12,
     "metadata": {},
     "output_type": "execute_result"
    }
   ],
   "source": [
    "### Select only japan for evaluation of string\n",
    "HLS_train_japan = HLS_train[HLS_train['id']=='COP19_japan']\n",
    "HLS_train_japan"
   ],
   "metadata": {
    "collapsed": false,
    "ExecuteTime": {
     "start_time": "2024-05-23T10:39:28.207793Z",
     "end_time": "2024-05-23T10:39:28.245416Z"
    }
   }
  },
  {
   "cell_type": "markdown",
   "source": [
    "## Stringbased annotation with updated GPT_annotate and new codebook\n",
    "First evaluate only for relevance"
   ],
   "metadata": {
    "collapsed": false
   }
  },
  {
   "cell_type": "code",
   "execution_count": 13,
   "outputs": [],
   "source": [
    "## Import the altered version of GPT_annotate\n",
    "# Should ony present a single file with the outcomes\n",
    "import gpt_annotate_string"
   ],
   "metadata": {
    "collapsed": false,
    "ExecuteTime": {
     "start_time": "2024-05-23T10:39:33.280804Z",
     "end_time": "2024-05-23T10:39:51.517954Z"
    }
   }
  },
  {
   "cell_type": "code",
   "execution_count": 14,
   "outputs": [],
   "source": [
    "# don't type the key in this file!\n",
    "# create gpt_api.txt, put the key in that, and save\n",
    "with open('gpt_api_key.txt', 'r') as f:\n",
    "    key = f.read().strip()"
   ],
   "metadata": {
    "collapsed": false,
    "ExecuteTime": {
     "start_time": "2024-05-23T10:39:53.543077Z",
     "end_time": "2024-05-23T10:39:53.571279Z"
    }
   }
  },
  {
   "cell_type": "code",
   "execution_count": 15,
   "outputs": [],
   "source": [
    "HLS_relevance_string = HLS_train_japan[['Text', 'RELEVANCE']]\n",
    "text_to_annotate = HLS_relevance_string"
   ],
   "metadata": {
    "collapsed": false,
    "ExecuteTime": {
     "start_time": "2024-05-23T10:39:58.778635Z",
     "end_time": "2024-05-23T10:39:58.789912Z"
    }
   }
  },
  {
   "cell_type": "code",
   "execution_count": 16,
   "outputs": [],
   "source": [
    "# Load codebook\n",
    "with open('relevance_V1_string', 'r', encoding='utf-8') as file:\n",
    "    codebook = file.read()"
   ],
   "metadata": {
    "collapsed": false,
    "ExecuteTime": {
     "start_time": "2024-05-23T10:40:01.545177Z",
     "end_time": "2024-05-23T10:40:01.580800Z"
    }
   }
  },
  {
   "cell_type": "code",
   "execution_count": 17,
   "outputs": [
    {
     "name": "stdout",
     "output_type": "stream",
     "text": [
      "ChatCompletion(id='chatcmpl-9RyHX5mjQ1wcFeVXOAyVrIWoV45gZ', choices=[Choice(finish_reason='stop', index=0, logprobs=None, message=ChatCompletionMessage(content='RELEVANCE', role='assistant', function_call=None, tool_calls=None))], created=1716453607, model='gpt-4o-2024-05-13', object='chat.completion', system_fingerprint='fp_729ea513f7', usage=CompletionUsage(completion_tokens=3, prompt_tokens=431, total_tokens=434))\n",
      "\n",
      "Categories to annotate:\n",
      "1) RELEVANCE\n",
      "\n",
      "\n",
      "Data is ready to be annotated using gpt_annotate()!\n",
      "\n",
      "Glimpse of your data:\n",
      "Shape of data:  (37, 4)\n",
      "   unique_id                                               text  \\\n",
      "0          0                         Thank you, Mr. President .   \n",
      "1          1   On beha lf of the government of Japan , I wou...   \n",
      "2          2   I would also like to expr ess my d eepest con...   \n",
      "3          3   Mr. President:  A fair and effective framewor...   \n",
      "4          4   In this regard, Japan firmly supports the est...   \n",
      "\n",
      "             RELEVANCE                                          llm_query  \n",
      "0         Not relevant                    0  Thank you, Mr. President .\\n  \n",
      "1         Not relevant  1  On beha lf of the government of Japan , I w...  \n",
      "2         Not relevant  2  I would also like to expr ess my d eepest c...  \n",
      "3             Relevant  3  Mr. President:  A fair and effective framew...  \n",
      "4  Statement of intent  4  In this regard, Japan firmly supports the e...  \n"
     ]
    }
   ],
   "source": [
    "# Prepare the data for annotation\n",
    "# Preparation is done with GPT-3.5-turbo - can be altered hardcoded\n",
    "# The outcome of this analysis is not always the same, seems like something is going wrong here\n",
    "text_to_annotate = gpt_annotate_string.prepare_data(text_to_annotate, codebook, key, prep_codebook=True)"
   ],
   "metadata": {
    "collapsed": false,
    "ExecuteTime": {
     "start_time": "2024-05-23T10:40:08.134702Z",
     "end_time": "2024-05-23T10:40:10.711444Z"
    }
   }
  },
  {
   "cell_type": "code",
   "execution_count": 19,
   "outputs": [
    {
     "name": "stdout",
     "output_type": "stream",
     "text": [
      "You are about to annotate 37 text samples and the number of iterations is set to 5\n",
      "\n",
      "iteration:  1 completed\n",
      "iteration:  2 completed\n",
      "iteration:  3 completed\n",
      "iteration:  4 completed\n",
      "iteration:  5 completed\n"
     ]
    }
   ],
   "source": [
    "# Annotate the data; should return 1 output including all annotation for each batch.\n",
    "gpt_out_all =  gpt_annotate_string.gpt_annotate(text_to_annotate, codebook, key, seed=153, num_iterations = 5, model = \"gpt-4o\", temperature = 0.6, batch_size = 20, human_labels = True,  data_prep_warning = False, time_cost_warning = True)"
   ],
   "metadata": {
    "collapsed": false,
    "ExecuteTime": {
     "start_time": "2024-05-23T10:41:31.276584Z",
     "end_time": "2024-05-23T10:42:06.188586Z"
    }
   }
  },
  {
   "cell_type": "markdown",
   "source": [
    "Use of gpt-4o seems to provide somewhat constant outputs, at least a fingerprint that can be evaluated.\n",
    "\n",
    "Outputfiles:\n",
    "fingerprints_mainseed - fingerprints of each time the API is called. This should be the same, as seed and model parameters remain the same. This is not the case.\n",
    "gpt_out_all_iterations_string.csv - output of all annotations by gpt. In theory, these outputs should be the same for all iterations. This is not always the case."
   ],
   "metadata": {
    "collapsed": false
   }
  },
  {
   "cell_type": "code",
   "execution_count": null,
   "outputs": [],
   "source": [
    "gpt_out_all"
   ],
   "metadata": {
    "collapsed": false,
    "ExecuteTime": {
     "start_time": "2024-05-22T22:04:14.087523Z",
     "end_time": "2024-05-22T22:04:14.096187Z"
    }
   }
  }
 ],
 "metadata": {
  "kernelspec": {
   "display_name": "Python 3",
   "language": "python",
   "name": "python3"
  },
  "language_info": {
   "codemirror_mode": {
    "name": "ipython",
    "version": 2
   },
   "file_extension": ".py",
   "mimetype": "text/x-python",
   "name": "python",
   "nbconvert_exporter": "python",
   "pygments_lexer": "ipython2",
   "version": "2.7.6"
  }
 },
 "nbformat": 4,
 "nbformat_minor": 0
}
