{
 "cells": [
  {
   "cell_type": "code",
   "execution_count": 3,
   "metadata": {
    "collapsed": true,
    "ExecuteTime": {
     "start_time": "2024-04-05T12:10:42.943360Z",
     "end_time": "2024-04-05T12:10:42.964713Z"
    }
   },
   "outputs": [],
   "source": [
    "from openai import OpenAI"
   ]
  },
  {
   "cell_type": "markdown",
   "source": [
    "Following OpenAI introduction. Specific use of ChatCompletions."
   ],
   "metadata": {
    "collapsed": false
   }
  },
  {
   "cell_type": "code",
   "execution_count": 5,
   "outputs": [],
   "source": [
    "client = OpenAI()\n",
    "completion = client.chat.completions.create(\n",
    "  # Change model that is used\n",
    "  model=\"gpt-3.5-turbo\",\n",
    "  messages=[\n",
    "    # Describe role of GPT - general\n",
    "    {\"role\": \"system\", \"content\": \"You are a poetic assistant, skilled in explaining complex programming concepts with creative flair.\"},\n",
    "    # Describe specific task\n",
    "    {\"role\": \"user\", \"content\": \"Compose a poem that explains the concept of recursion in programming.\"}\n",
    "  ]\n",
    ")"
   ],
   "metadata": {
    "collapsed": false,
    "ExecuteTime": {
     "start_time": "2024-04-05T12:11:00.277344Z",
     "end_time": "2024-04-05T12:11:03.289543Z"
    }
   }
  },
  {
   "cell_type": "code",
   "execution_count": 6,
   "outputs": [
    {
     "name": "stdout",
     "output_type": "stream",
     "text": [
      "ChatCompletionMessage(content=\"In the realm of code, a concept avant-garde,  \\nLies a practice both elegant and bold,  \\nRecursion, a loop with a mystical facade,  \\nA journey through functions, a story untold.  \\n\\nLike a mirror reflecting a mirror's embrace,  \\nEach call echoes back, with grace and finesse,  \\nA function calling itself, in a dance of infinite grace,  \\nUnraveling mysteries, in a recursive caress.  \\n\\nThrough layers of abstraction, the answer is found,  \\nA puzzle solved, with a recursive sound,  \\nIn the dance of recursion, where magic abounds,  \\nA symphony of code, in harmonious pound.  \\n\\nSo embrace the recursion, with courage and might,  \\nIn loops within loops, a majestic sight,  \\nFor in the world of programming, a recursive flight,  \\nUnveils the beauty of logic, shining bright. \", role='assistant', function_call=None, tool_calls=None)\n"
     ]
    }
   ],
   "source": [
    "print(completion.choices[0].message)"
   ],
   "metadata": {
    "collapsed": false,
    "ExecuteTime": {
     "start_time": "2024-04-05T12:11:04.984559Z",
     "end_time": "2024-04-05T12:11:04.997724Z"
    }
   }
  },
  {
   "cell_type": "code",
   "execution_count": null,
   "outputs": [],
   "source": [],
   "metadata": {
    "collapsed": false
   }
  }
 ],
 "metadata": {
  "kernelspec": {
   "display_name": "Python 3",
   "language": "python",
   "name": "python3"
  },
  "language_info": {
   "codemirror_mode": {
    "name": "ipython",
    "version": 2
   },
   "file_extension": ".py",
   "mimetype": "text/x-python",
   "name": "python",
   "nbconvert_exporter": "python",
   "pygments_lexer": "ipython2",
   "version": "2.7.6"
  }
 },
 "nbformat": 4,
 "nbformat_minor": 0
}
