{
 "cells": [
  {
   "cell_type": "code",
   "execution_count": 1,
   "metadata": {
    "collapsed": true,
    "ExecuteTime": {
     "start_time": "2024-05-20T16:32:45.209147Z",
     "end_time": "2024-05-20T16:32:45.209147Z"
    }
   },
   "outputs": [],
   "source": [
    "import numpy as np\n",
    "import pandas as pd\n",
    "import os\n",
    "import matplotlib.pyplot as plt\n",
    "import seaborn as sns"
   ]
  },
  {
   "cell_type": "markdown",
   "source": [
    "MANUALLY ANNOTATED SPEECHES - Available in HLS_man\n",
    "\n",
    "| COP19        | COP20             | COP21             | COP22         | COP23       | COP24     | COP25     | COP26       | COP27       | COP28       |\n",
    "|--------------|-------------------|-------------------|---------------|-------------|-----------|-----------|-------------|-------------|-------------|\n",
    "| japan        | Holy see          | Trinidad & Tobago | Lao           | Netherlands | Malawi    | Serbia    | Russia      | Kazakhstan  | Belgium     |\n",
    "| namibia      | kenya             | EU                | czechrepublic | Suriname    | Rwanda    | Cambodia  | Grenada     | Greece      | Gambia      |\n",
    "| sierra leone | micronesia        | Nepal             | israel        | Vanatu      | Indonesia | Uganda    | Philippines | Australia   | Jamaica     |\n",
    "| usa          | republic of korea | Afghanistan       | belize        | Croatia     | Macedonia | Mauritius | Slovakia    | Serbia      | New Zealand |\n",
    "| timor leste  | tonga             | Bosnia Herz.      | thailand      | Ireland     | Lesotho   | Malaysia  | Barbados    | South Sudan | Jordan      |\n",
    "|              | tonga_PSIDS       |                   |               |             |           |           |             |             |             |\n",
    "\n",
    "## Analysis of V3 annotation codebook\n",
    "Cleaning dataset, analysis of results, determination of final numerical labels.\n",
    "\n",
    "Full datapreparation for application in GPT_annotate - preparing one-hot coded columns\n",
    "\n"
   ],
   "metadata": {
    "collapsed": false
   }
  },
  {
   "cell_type": "code",
   "execution_count": 2,
   "outputs": [
    {
     "name": "stdout",
     "output_type": "stream",
     "text": [
      "['HLS_man\\\\COP19', 'HLS_man\\\\COP20', 'HLS_man\\\\COP21', 'HLS_man\\\\COP22', 'HLS_man\\\\COP23', 'HLS_man\\\\COP24', 'HLS_man\\\\COP25', 'HLS_man\\\\COP26', 'HLS_man\\\\COP27', 'HLS_man\\\\COP28']\n"
     ]
    },
    {
     "data": {
      "text/plain": "                                                   Text  Relevance  \\\n0                          \\nThank you, Mr. President .          0   \n1     \\n \\nOn beha lf of the government of Japan , I...          0   \n2     \\n \\nI would also like to expr ess my d eepest...          0   \n3     \\n \\nMr. President: \\n \\nA fair and effective ...          2   \n4     \\n \\nIn this regard, Japan firmly supports the...          1   \n...                                                 ...        ...   \n1538  \\n \\nNew Zealand is proud to suppor t several ...          0   \n1539  I am joined by New Zealand’s largest business,...          0   \n1540  The commitment o f New Zealanders from across ...          0   \n1541                       \\n \\nThank you Mr President.          0   \n1542                                        \\nKia Kaha           0   \n\n                  Topic            Unit     Shape    Principle  \\\n0                   NaN             NaN       NaN          NaN   \n1                   NaN             NaN       NaN          NaN   \n2                   NaN             NaN       NaN          NaN   \n3     new UNFCCC policy  responsibility  equality  utilitarian   \n4                   NaN             NaN       NaN          NaN   \n...                 ...             ...       ...          ...   \n1538                NaN             NaN       NaN          NaN   \n1539                NaN             NaN       NaN          NaN   \n1540                NaN             NaN       NaN          NaN   \n1541                NaN             NaN       NaN          NaN   \n1542                NaN             NaN       NaN          NaN   \n\n                                    30 word explanation Notes  \\\n0                                                   NaN   NaN   \n1                                                   NaN   NaN   \n2                                                   NaN   NaN   \n3     Motivation to reduce global emissions, need fo...   NaN   \n4                                                   NaN   NaN   \n...                                                 ...   ...   \n1538                                                NaN   NaN   \n1539                                                NaN   NaN   \n1540                                                NaN   NaN   \n1541                                                NaN   NaN   \n1542                                                NaN   NaN   \n\n                    id  \n0          COP19_japan  \n1          COP19_japan  \n2          COP19_japan  \n3          COP19_japan  \n4          COP19_japan  \n...                ...  \n1538  COP28_newzealand  \n1539  COP28_newzealand  \n1540  COP28_newzealand  \n1541  COP28_newzealand  \n1542  COP28_newzealand  \n\n[1543 rows x 9 columns]",
      "text/html": "<div>\n<style scoped>\n    .dataframe tbody tr th:only-of-type {\n        vertical-align: middle;\n    }\n\n    .dataframe tbody tr th {\n        vertical-align: top;\n    }\n\n    .dataframe thead th {\n        text-align: right;\n    }\n</style>\n<table border=\"1\" class=\"dataframe\">\n  <thead>\n    <tr style=\"text-align: right;\">\n      <th></th>\n      <th>Text</th>\n      <th>Relevance</th>\n      <th>Topic</th>\n      <th>Unit</th>\n      <th>Shape</th>\n      <th>Principle</th>\n      <th>30 word explanation</th>\n      <th>Notes</th>\n      <th>id</th>\n    </tr>\n  </thead>\n  <tbody>\n    <tr>\n      <th>0</th>\n      <td>\\nThank you, Mr. President .</td>\n      <td>0</td>\n      <td>NaN</td>\n      <td>NaN</td>\n      <td>NaN</td>\n      <td>NaN</td>\n      <td>NaN</td>\n      <td>NaN</td>\n      <td>COP19_japan</td>\n    </tr>\n    <tr>\n      <th>1</th>\n      <td>\\n \\nOn beha lf of the government of Japan , I...</td>\n      <td>0</td>\n      <td>NaN</td>\n      <td>NaN</td>\n      <td>NaN</td>\n      <td>NaN</td>\n      <td>NaN</td>\n      <td>NaN</td>\n      <td>COP19_japan</td>\n    </tr>\n    <tr>\n      <th>2</th>\n      <td>\\n \\nI would also like to expr ess my d eepest...</td>\n      <td>0</td>\n      <td>NaN</td>\n      <td>NaN</td>\n      <td>NaN</td>\n      <td>NaN</td>\n      <td>NaN</td>\n      <td>NaN</td>\n      <td>COP19_japan</td>\n    </tr>\n    <tr>\n      <th>3</th>\n      <td>\\n \\nMr. President: \\n \\nA fair and effective ...</td>\n      <td>2</td>\n      <td>new UNFCCC policy</td>\n      <td>responsibility</td>\n      <td>equality</td>\n      <td>utilitarian</td>\n      <td>Motivation to reduce global emissions, need fo...</td>\n      <td>NaN</td>\n      <td>COP19_japan</td>\n    </tr>\n    <tr>\n      <th>4</th>\n      <td>\\n \\nIn this regard, Japan firmly supports the...</td>\n      <td>1</td>\n      <td>NaN</td>\n      <td>NaN</td>\n      <td>NaN</td>\n      <td>NaN</td>\n      <td>NaN</td>\n      <td>NaN</td>\n      <td>COP19_japan</td>\n    </tr>\n    <tr>\n      <th>...</th>\n      <td>...</td>\n      <td>...</td>\n      <td>...</td>\n      <td>...</td>\n      <td>...</td>\n      <td>...</td>\n      <td>...</td>\n      <td>...</td>\n      <td>...</td>\n    </tr>\n    <tr>\n      <th>1538</th>\n      <td>\\n \\nNew Zealand is proud to suppor t several ...</td>\n      <td>0</td>\n      <td>NaN</td>\n      <td>NaN</td>\n      <td>NaN</td>\n      <td>NaN</td>\n      <td>NaN</td>\n      <td>NaN</td>\n      <td>COP28_newzealand</td>\n    </tr>\n    <tr>\n      <th>1539</th>\n      <td>I am joined by New Zealand’s largest business,...</td>\n      <td>0</td>\n      <td>NaN</td>\n      <td>NaN</td>\n      <td>NaN</td>\n      <td>NaN</td>\n      <td>NaN</td>\n      <td>NaN</td>\n      <td>COP28_newzealand</td>\n    </tr>\n    <tr>\n      <th>1540</th>\n      <td>The commitment o f New Zealanders from across ...</td>\n      <td>0</td>\n      <td>NaN</td>\n      <td>NaN</td>\n      <td>NaN</td>\n      <td>NaN</td>\n      <td>NaN</td>\n      <td>NaN</td>\n      <td>COP28_newzealand</td>\n    </tr>\n    <tr>\n      <th>1541</th>\n      <td>\\n \\nThank you Mr President.</td>\n      <td>0</td>\n      <td>NaN</td>\n      <td>NaN</td>\n      <td>NaN</td>\n      <td>NaN</td>\n      <td>NaN</td>\n      <td>NaN</td>\n      <td>COP28_newzealand</td>\n    </tr>\n    <tr>\n      <th>1542</th>\n      <td>\\nKia Kaha</td>\n      <td>0</td>\n      <td>NaN</td>\n      <td>NaN</td>\n      <td>NaN</td>\n      <td>NaN</td>\n      <td>NaN</td>\n      <td>NaN</td>\n      <td>COP28_newzealand</td>\n    </tr>\n  </tbody>\n</table>\n<p>1543 rows × 9 columns</p>\n</div>"
     },
     "execution_count": 2,
     "metadata": {},
     "output_type": "execute_result"
    }
   ],
   "source": [
    "#Directory path\n",
    "path = 'HLS_man'\n",
    "\n",
    "#List of items in folder\n",
    "folder_items = os.listdir(path)\n",
    "\n",
    "#Create filter for subdirectories\n",
    "subfolders = [os.path.join(path, item) for item in folder_items if os.path.isdir(os.path.join(path, item))]\n",
    "print(subfolders)\n",
    "\n",
    "# Empty list to store dataframes\n",
    "list = []\n",
    "\n",
    "# Iterate over subdirectories\n",
    "for subfolder in subfolders:\n",
    "    for filename in os.listdir(subfolder):\n",
    "        df = pd.read_excel(os.path.join(subfolder, filename))\n",
    "        copID = df.columns[0]\n",
    "        # add copID to dataframe\n",
    "        df['id'] = copID\n",
    "        # Rename first column containing ID\n",
    "        df = df.rename(columns={df.columns[0]: 'Text'})\n",
    "        # Add dataframe to list\n",
    "        list.append(df)\n",
    "\n",
    "HLS_df = pd.concat(list, ignore_index=True)\n",
    "\n",
    "HLS_df"
   ],
   "metadata": {
    "collapsed": false,
    "ExecuteTime": {
     "start_time": "2024-05-20T16:32:45.218152Z",
     "end_time": "2024-05-20T16:32:46.494972Z"
    }
   }
  },
  {
   "cell_type": "code",
   "execution_count": 3,
   "outputs": [
    {
     "data": {
      "text/plain": "                    id                                               Text  \\\n0          COP19_japan                         Thank you, Mr. President .   \n1          COP19_japan   On beha lf of the government of Japan , I wou...   \n2          COP19_japan   I would also like to expr ess my d eepest con...   \n3          COP19_japan   Mr. President:  A fair and effective framewor...   \n4          COP19_japan   In this regard, Japan firmly supports the est...   \n...                ...                                                ...   \n1538  COP28_newzealand   New Zealand is proud to suppor t several impo...   \n1539  COP28_newzealand  I am joined by New Zealand’s largest business,...   \n1540  COP28_newzealand  The commitment o f New Zealanders from across ...   \n1541  COP28_newzealand                            Thank you Mr President.   \n1542  COP28_newzealand                                          Kia Kaha    \n\n      Relevance    Principle              Topic            Unit     Shape  \\\n0             0            0                  0               0         0   \n1             0            0                  0               0         0   \n2             0            0                  0               0         0   \n3             2  utilitarian  new UNFCCC policy  responsibility  equality   \n4             1            0                  0               0         0   \n...         ...          ...                ...             ...       ...   \n1538          0            0                  0               0         0   \n1539          0            0                  0               0         0   \n1540          0            0                  0               0         0   \n1541          0            0                  0               0         0   \n1542          0            0                  0               0         0   \n\n                                    30 word explanation Notes  \n0                                                     0     0  \n1                                                     0     0  \n2                                                     0     0  \n3     Motivation to reduce global emissions, need fo...     0  \n4                                                     0     0  \n...                                                 ...   ...  \n1538                                                  0     0  \n1539                                                  0     0  \n1540                                                  0     0  \n1541                                                  0     0  \n1542                                                  0     0  \n\n[1543 rows x 9 columns]",
      "text/html": "<div>\n<style scoped>\n    .dataframe tbody tr th:only-of-type {\n        vertical-align: middle;\n    }\n\n    .dataframe tbody tr th {\n        vertical-align: top;\n    }\n\n    .dataframe thead th {\n        text-align: right;\n    }\n</style>\n<table border=\"1\" class=\"dataframe\">\n  <thead>\n    <tr style=\"text-align: right;\">\n      <th></th>\n      <th>id</th>\n      <th>Text</th>\n      <th>Relevance</th>\n      <th>Principle</th>\n      <th>Topic</th>\n      <th>Unit</th>\n      <th>Shape</th>\n      <th>30 word explanation</th>\n      <th>Notes</th>\n    </tr>\n  </thead>\n  <tbody>\n    <tr>\n      <th>0</th>\n      <td>COP19_japan</td>\n      <td>Thank you, Mr. President .</td>\n      <td>0</td>\n      <td>0</td>\n      <td>0</td>\n      <td>0</td>\n      <td>0</td>\n      <td>0</td>\n      <td>0</td>\n    </tr>\n    <tr>\n      <th>1</th>\n      <td>COP19_japan</td>\n      <td>On beha lf of the government of Japan , I wou...</td>\n      <td>0</td>\n      <td>0</td>\n      <td>0</td>\n      <td>0</td>\n      <td>0</td>\n      <td>0</td>\n      <td>0</td>\n    </tr>\n    <tr>\n      <th>2</th>\n      <td>COP19_japan</td>\n      <td>I would also like to expr ess my d eepest con...</td>\n      <td>0</td>\n      <td>0</td>\n      <td>0</td>\n      <td>0</td>\n      <td>0</td>\n      <td>0</td>\n      <td>0</td>\n    </tr>\n    <tr>\n      <th>3</th>\n      <td>COP19_japan</td>\n      <td>Mr. President:  A fair and effective framewor...</td>\n      <td>2</td>\n      <td>utilitarian</td>\n      <td>new UNFCCC policy</td>\n      <td>responsibility</td>\n      <td>equality</td>\n      <td>Motivation to reduce global emissions, need fo...</td>\n      <td>0</td>\n    </tr>\n    <tr>\n      <th>4</th>\n      <td>COP19_japan</td>\n      <td>In this regard, Japan firmly supports the est...</td>\n      <td>1</td>\n      <td>0</td>\n      <td>0</td>\n      <td>0</td>\n      <td>0</td>\n      <td>0</td>\n      <td>0</td>\n    </tr>\n    <tr>\n      <th>...</th>\n      <td>...</td>\n      <td>...</td>\n      <td>...</td>\n      <td>...</td>\n      <td>...</td>\n      <td>...</td>\n      <td>...</td>\n      <td>...</td>\n      <td>...</td>\n    </tr>\n    <tr>\n      <th>1538</th>\n      <td>COP28_newzealand</td>\n      <td>New Zealand is proud to suppor t several impo...</td>\n      <td>0</td>\n      <td>0</td>\n      <td>0</td>\n      <td>0</td>\n      <td>0</td>\n      <td>0</td>\n      <td>0</td>\n    </tr>\n    <tr>\n      <th>1539</th>\n      <td>COP28_newzealand</td>\n      <td>I am joined by New Zealand’s largest business,...</td>\n      <td>0</td>\n      <td>0</td>\n      <td>0</td>\n      <td>0</td>\n      <td>0</td>\n      <td>0</td>\n      <td>0</td>\n    </tr>\n    <tr>\n      <th>1540</th>\n      <td>COP28_newzealand</td>\n      <td>The commitment o f New Zealanders from across ...</td>\n      <td>0</td>\n      <td>0</td>\n      <td>0</td>\n      <td>0</td>\n      <td>0</td>\n      <td>0</td>\n      <td>0</td>\n    </tr>\n    <tr>\n      <th>1541</th>\n      <td>COP28_newzealand</td>\n      <td>Thank you Mr President.</td>\n      <td>0</td>\n      <td>0</td>\n      <td>0</td>\n      <td>0</td>\n      <td>0</td>\n      <td>0</td>\n      <td>0</td>\n    </tr>\n    <tr>\n      <th>1542</th>\n      <td>COP28_newzealand</td>\n      <td>Kia Kaha</td>\n      <td>0</td>\n      <td>0</td>\n      <td>0</td>\n      <td>0</td>\n      <td>0</td>\n      <td>0</td>\n      <td>0</td>\n    </tr>\n  </tbody>\n</table>\n<p>1543 rows × 9 columns</p>\n</div>"
     },
     "execution_count": 3,
     "metadata": {},
     "output_type": "execute_result"
    }
   ],
   "source": [
    "# Remove '\\n' from the 'Text' column\n",
    "HLS_df['Text'] = HLS_df['Text'].str.replace('\\n', '')\n",
    "\n",
    "# Replace all nan values with 0\n",
    "HLS_df = HLS_df.fillna(0)\n",
    "\n",
    "# Alter order of columns\n",
    "order = ['id', 'Text', 'Relevance', 'Principle' , 'Topic', 'Unit', 'Shape', '30 word explanation', 'Notes']\n",
    "HLS_df = HLS_df[order]\n",
    "\n",
    "HLS_df"
   ],
   "metadata": {
    "collapsed": false,
    "ExecuteTime": {
     "start_time": "2024-05-20T16:32:46.494972Z",
     "end_time": "2024-05-20T16:32:46.520722Z"
    }
   }
  },
  {
   "cell_type": "code",
   "execution_count": 4,
   "outputs": [
    {
     "name": "stdout",
     "output_type": "stream",
     "text": [
      "id                     0\n",
      "Text                   0\n",
      "Relevance              0\n",
      "Principle              0\n",
      "Topic                  0\n",
      "Unit                   0\n",
      "Shape                  0\n",
      "30 word explanation    0\n",
      "Notes                  0\n",
      "dtype: int64\n"
     ]
    }
   ],
   "source": [
    "# General information on dataframe\n",
    "# 1. Nan counts\n",
    "nan_counts = HLS_df.isna().sum()\n",
    "print(nan_counts)"
   ],
   "metadata": {
    "collapsed": false,
    "ExecuteTime": {
     "start_time": "2024-05-20T16:32:46.523731Z",
     "end_time": "2024-05-20T16:32:46.604821Z"
    }
   }
  },
  {
   "cell_type": "code",
   "execution_count": 5,
   "outputs": [
    {
     "data": {
      "text/plain": "                    id                                               Text  \\\n0          COP19_japan                         Thank you, Mr. President .   \n1          COP19_japan   On beha lf of the government of Japan , I wou...   \n2          COP19_japan   I would also like to expr ess my d eepest con...   \n3          COP19_japan   Mr. President:  A fair and effective framewor...   \n4          COP19_japan   In this regard, Japan firmly supports the est...   \n...                ...                                                ...   \n1538  COP28_newzealand   New Zealand is proud to suppor t several impo...   \n1539  COP28_newzealand  I am joined by New Zealand’s largest business,...   \n1540  COP28_newzealand  The commitment o f New Zealanders from across ...   \n1541  COP28_newzealand                            Thank you Mr President.   \n1542  COP28_newzealand                                          Kia Kaha    \n\n      Relevance    Principle              Topic            Unit     Shape  \\\n0             0            0                  0               0         0   \n1             0            0                  0               0         0   \n2             0            0                  0               0         0   \n3             2  utilitarian  new UNFCCC policy  responsibility  equality   \n4             1            0                  0               0         0   \n...         ...          ...                ...             ...       ...   \n1538          0            0                  0               0         0   \n1539          0            0                  0               0         0   \n1540          0            0                  0               0         0   \n1541          0            0                  0               0         0   \n1542          0            0                  0               0         0   \n\n                                    30 word explanation Notes  \n0                                                     0     0  \n1                                                     0     0  \n2                                                     0     0  \n3     Motivation to reduce global emissions, need fo...     0  \n4                                                     0     0  \n...                                                 ...   ...  \n1538                                                  0     0  \n1539                                                  0     0  \n1540                                                  0     0  \n1541                                                  0     0  \n1542                                                  0     0  \n\n[1543 rows x 9 columns]",
      "text/html": "<div>\n<style scoped>\n    .dataframe tbody tr th:only-of-type {\n        vertical-align: middle;\n    }\n\n    .dataframe tbody tr th {\n        vertical-align: top;\n    }\n\n    .dataframe thead th {\n        text-align: right;\n    }\n</style>\n<table border=\"1\" class=\"dataframe\">\n  <thead>\n    <tr style=\"text-align: right;\">\n      <th></th>\n      <th>id</th>\n      <th>Text</th>\n      <th>Relevance</th>\n      <th>Principle</th>\n      <th>Topic</th>\n      <th>Unit</th>\n      <th>Shape</th>\n      <th>30 word explanation</th>\n      <th>Notes</th>\n    </tr>\n  </thead>\n  <tbody>\n    <tr>\n      <th>0</th>\n      <td>COP19_japan</td>\n      <td>Thank you, Mr. President .</td>\n      <td>0</td>\n      <td>0</td>\n      <td>0</td>\n      <td>0</td>\n      <td>0</td>\n      <td>0</td>\n      <td>0</td>\n    </tr>\n    <tr>\n      <th>1</th>\n      <td>COP19_japan</td>\n      <td>On beha lf of the government of Japan , I wou...</td>\n      <td>0</td>\n      <td>0</td>\n      <td>0</td>\n      <td>0</td>\n      <td>0</td>\n      <td>0</td>\n      <td>0</td>\n    </tr>\n    <tr>\n      <th>2</th>\n      <td>COP19_japan</td>\n      <td>I would also like to expr ess my d eepest con...</td>\n      <td>0</td>\n      <td>0</td>\n      <td>0</td>\n      <td>0</td>\n      <td>0</td>\n      <td>0</td>\n      <td>0</td>\n    </tr>\n    <tr>\n      <th>3</th>\n      <td>COP19_japan</td>\n      <td>Mr. President:  A fair and effective framewor...</td>\n      <td>2</td>\n      <td>utilitarian</td>\n      <td>new UNFCCC policy</td>\n      <td>responsibility</td>\n      <td>equality</td>\n      <td>Motivation to reduce global emissions, need fo...</td>\n      <td>0</td>\n    </tr>\n    <tr>\n      <th>4</th>\n      <td>COP19_japan</td>\n      <td>In this regard, Japan firmly supports the est...</td>\n      <td>1</td>\n      <td>0</td>\n      <td>0</td>\n      <td>0</td>\n      <td>0</td>\n      <td>0</td>\n      <td>0</td>\n    </tr>\n    <tr>\n      <th>...</th>\n      <td>...</td>\n      <td>...</td>\n      <td>...</td>\n      <td>...</td>\n      <td>...</td>\n      <td>...</td>\n      <td>...</td>\n      <td>...</td>\n      <td>...</td>\n    </tr>\n    <tr>\n      <th>1538</th>\n      <td>COP28_newzealand</td>\n      <td>New Zealand is proud to suppor t several impo...</td>\n      <td>0</td>\n      <td>0</td>\n      <td>0</td>\n      <td>0</td>\n      <td>0</td>\n      <td>0</td>\n      <td>0</td>\n    </tr>\n    <tr>\n      <th>1539</th>\n      <td>COP28_newzealand</td>\n      <td>I am joined by New Zealand’s largest business,...</td>\n      <td>0</td>\n      <td>0</td>\n      <td>0</td>\n      <td>0</td>\n      <td>0</td>\n      <td>0</td>\n      <td>0</td>\n    </tr>\n    <tr>\n      <th>1540</th>\n      <td>COP28_newzealand</td>\n      <td>The commitment o f New Zealanders from across ...</td>\n      <td>0</td>\n      <td>0</td>\n      <td>0</td>\n      <td>0</td>\n      <td>0</td>\n      <td>0</td>\n      <td>0</td>\n    </tr>\n    <tr>\n      <th>1541</th>\n      <td>COP28_newzealand</td>\n      <td>Thank you Mr President.</td>\n      <td>0</td>\n      <td>0</td>\n      <td>0</td>\n      <td>0</td>\n      <td>0</td>\n      <td>0</td>\n      <td>0</td>\n    </tr>\n    <tr>\n      <th>1542</th>\n      <td>COP28_newzealand</td>\n      <td>Kia Kaha</td>\n      <td>0</td>\n      <td>0</td>\n      <td>0</td>\n      <td>0</td>\n      <td>0</td>\n      <td>0</td>\n      <td>0</td>\n    </tr>\n  </tbody>\n</table>\n<p>1543 rows × 9 columns</p>\n</div>"
     },
     "execution_count": 5,
     "metadata": {},
     "output_type": "execute_result"
    }
   ],
   "source": [
    "# Inspect notes column before removing\n",
    "HLS_df[HLS_df[\"Notes\"].notnull()]"
   ],
   "metadata": {
    "collapsed": false,
    "ExecuteTime": {
     "start_time": "2024-05-20T16:32:46.531399Z",
     "end_time": "2024-05-20T16:32:46.667811Z"
    }
   }
  },
  {
   "cell_type": "markdown",
   "source": [
    "Evaluation of notes columns - see also XLEXCEL: - clear alignmnent noted 13 times for 11 countries and 1 alliance\n",
    "Alignment of statements with:\n",
    "Sierra Leone: LDC, Africa Group, G77 and China, CRFN\n",
    "Timor Leste: G77 and China, LDC, OASIS\n",
    "Kenya: G77 and China, African Group\n",
    "Micronesia: ASIS (Alliance of small island states)\n",
    "Tonga: ASIS, G77 and China\n",
    "PSIDS: ASIS\n",
    "Bosnia Herz.: EU\n",
    "Czech rep.: EU\n",
    "Thailand: G77 and China\n",
    "Ireland: EU\n",
    "Mauritius: G77 and China, Africa group, Asis\n",
    "Uganda: LDC, African Group, G77 and China.\n"
   ],
   "metadata": {
    "collapsed": false
   }
  },
  {
   "cell_type": "code",
   "execution_count": 6,
   "outputs": [],
   "source": [
    "# Drop notes column\n",
    "HLS = HLS_df.drop(columns = [\"Notes\", \"30 word explanation\"])"
   ],
   "metadata": {
    "collapsed": false,
    "ExecuteTime": {
     "start_time": "2024-05-20T16:32:46.552987Z",
     "end_time": "2024-05-20T16:32:46.699050Z"
    }
   }
  },
  {
   "cell_type": "markdown",
   "source": [
    "Notes column is only used when wanting to evaluate the full reasoning used. This is available in the original dataset. For the current inspectation it is not of value."
   ],
   "metadata": {
    "collapsed": false
   }
  },
  {
   "cell_type": "code",
   "execution_count": 7,
   "outputs": [
    {
     "data": {
      "text/plain": "0    999\n1    277\n2    267\nName: Relevance, dtype: int64"
     },
     "execution_count": 7,
     "metadata": {},
     "output_type": "execute_result"
    }
   ],
   "source": [
    "# Determine number relevant sentences\n",
    "relevance = HLS['Relevance'].value_counts()\n",
    "relevance"
   ],
   "metadata": {
    "collapsed": false,
    "ExecuteTime": {
     "start_time": "2024-05-20T16:32:46.561146Z",
     "end_time": "2024-05-20T16:32:46.699050Z"
    }
   }
  },
  {
   "cell_type": "code",
   "execution_count": 8,
   "outputs": [
    {
     "data": {
      "text/plain": "<Figure size 1000x600 with 1 Axes>",
      "image/png": "[encoded data removed]"
     },
     "metadata": {},
     "output_type": "display_data"
    }
   ],
   "source": [
    "# Plotting using Matplotlib\n",
    "plt.figure(figsize=(10, 6))\n",
    "relevance.plot(kind='bar')\n",
    "plt.title('Value Counts of relevance - manual annotation results')\n",
    "plt.xlabel('Categories')\n",
    "plt.ylabel('Counts')\n",
    "plt.xticks(rotation=0)\n",
    "plt.show()\n"
   ],
   "metadata": {
    "collapsed": false,
    "ExecuteTime": {
     "start_time": "2024-05-20T16:32:46.573561Z",
     "end_time": "2024-05-20T16:32:46.951092Z"
    }
   }
  },
  {
   "cell_type": "markdown",
   "source": [
    "The relevance is labeled numerically:\n",
    "0 - not relevant\n",
    "1 - statement of intent\n",
    "2 - relevant\n",
    "\n",
    "267 of the total of 1543 sentences are labelled as relevant (2). This is 17.3% of all sentences."
   ],
   "metadata": {
    "collapsed": false
   }
  },
  {
   "cell_type": "code",
   "execution_count": 9,
   "outputs": [
    {
     "data": {
      "text/plain": "                    id                                               Text  \\\n3          COP19_japan   Mr. President:  A fair and effective framewor...   \n5          COP19_japan  Such a framework must be based on “nationally ...   \n44       COP19_namibia  It should not only enable us to discuss global...   \n53       COP19_namibia  Global warming is a catastrophic problem that ...   \n54       COP19_namibia  Therefore, the multilateralism approach remain...   \n...                ...                                                ...   \n1503      COP28_jordan   As we work to catch up on lost time and progr...   \n1504      COP28_jordan   Conflict -ridden communities, refugees, and d...   \n1505      COP28_jordan  Nor can we stand by , as the massive destructi...   \n1529  COP28_newzealand   We recognise that we must deliver on our coll...   \n1536  COP28_newzealand   We need a course correction, and working toge...   \n\n      Relevance                    Principle                 Topic  \\\n3             2                  utilitarian     new UNFCCC policy   \n5             2                  egalitarian     new UNFCCC policy   \n44            2                 utilitarian      new UNFCCC policy   \n53            2                 utilitarian                urgency   \n54            2  general normative statement     new UNFCCC policy   \n...         ...                          ...                   ...   \n1503          2                 prioritarian               urgency   \n1504          2                 prioritarian     new UNFCC policy    \n1505          2                  utilitarian   moral responsiblity   \n1529          2                 prioritarian  financial mechanisms   \n1536          2                  utilitarian           cooperation   \n\n                     Unit                       Shape  \n3          responsibility                    equality  \n5          responsibility                     equity   \n44                   n.a.                        n.a.  \n53                   n.a.                        n.a.  \n54                   n.a.                        n.a.  \n...                   ...                         ...  \n1503                 n.a.                        n.a.  \n1504                 n.a.                        n.a.  \n1505                 n.a.                        n.a.  \n1529  financial resources  proportional to commitment  \n1536                 n.a.                        n.a.  \n\n[267 rows x 7 columns]",
      "text/html": "<div>\n<style scoped>\n    .dataframe tbody tr th:only-of-type {\n        vertical-align: middle;\n    }\n\n    .dataframe tbody tr th {\n        vertical-align: top;\n    }\n\n    .dataframe thead th {\n        text-align: right;\n    }\n</style>\n<table border=\"1\" class=\"dataframe\">\n  <thead>\n    <tr style=\"text-align: right;\">\n      <th></th>\n      <th>id</th>\n      <th>Text</th>\n      <th>Relevance</th>\n      <th>Principle</th>\n      <th>Topic</th>\n      <th>Unit</th>\n      <th>Shape</th>\n    </tr>\n  </thead>\n  <tbody>\n    <tr>\n      <th>3</th>\n      <td>COP19_japan</td>\n      <td>Mr. President:  A fair and effective framewor...</td>\n      <td>2</td>\n      <td>utilitarian</td>\n      <td>new UNFCCC policy</td>\n      <td>responsibility</td>\n      <td>equality</td>\n    </tr>\n    <tr>\n      <th>5</th>\n      <td>COP19_japan</td>\n      <td>Such a framework must be based on “nationally ...</td>\n      <td>2</td>\n      <td>egalitarian</td>\n      <td>new UNFCCC policy</td>\n      <td>responsibility</td>\n      <td>equity</td>\n    </tr>\n    <tr>\n      <th>44</th>\n      <td>COP19_namibia</td>\n      <td>It should not only enable us to discuss global...</td>\n      <td>2</td>\n      <td>utilitarian</td>\n      <td>new UNFCCC policy</td>\n      <td>n.a.</td>\n      <td>n.a.</td>\n    </tr>\n    <tr>\n      <th>53</th>\n      <td>COP19_namibia</td>\n      <td>Global warming is a catastrophic problem that ...</td>\n      <td>2</td>\n      <td>utilitarian</td>\n      <td>urgency</td>\n      <td>n.a.</td>\n      <td>n.a.</td>\n    </tr>\n    <tr>\n      <th>54</th>\n      <td>COP19_namibia</td>\n      <td>Therefore, the multilateralism approach remain...</td>\n      <td>2</td>\n      <td>general normative statement</td>\n      <td>new UNFCCC policy</td>\n      <td>n.a.</td>\n      <td>n.a.</td>\n    </tr>\n    <tr>\n      <th>...</th>\n      <td>...</td>\n      <td>...</td>\n      <td>...</td>\n      <td>...</td>\n      <td>...</td>\n      <td>...</td>\n      <td>...</td>\n    </tr>\n    <tr>\n      <th>1503</th>\n      <td>COP28_jordan</td>\n      <td>As we work to catch up on lost time and progr...</td>\n      <td>2</td>\n      <td>prioritarian</td>\n      <td>urgency</td>\n      <td>n.a.</td>\n      <td>n.a.</td>\n    </tr>\n    <tr>\n      <th>1504</th>\n      <td>COP28_jordan</td>\n      <td>Conflict -ridden communities, refugees, and d...</td>\n      <td>2</td>\n      <td>prioritarian</td>\n      <td>new UNFCC policy</td>\n      <td>n.a.</td>\n      <td>n.a.</td>\n    </tr>\n    <tr>\n      <th>1505</th>\n      <td>COP28_jordan</td>\n      <td>Nor can we stand by , as the massive destructi...</td>\n      <td>2</td>\n      <td>utilitarian</td>\n      <td>moral responsiblity</td>\n      <td>n.a.</td>\n      <td>n.a.</td>\n    </tr>\n    <tr>\n      <th>1529</th>\n      <td>COP28_newzealand</td>\n      <td>We recognise that we must deliver on our coll...</td>\n      <td>2</td>\n      <td>prioritarian</td>\n      <td>financial mechanisms</td>\n      <td>financial resources</td>\n      <td>proportional to commitment</td>\n    </tr>\n    <tr>\n      <th>1536</th>\n      <td>COP28_newzealand</td>\n      <td>We need a course correction, and working toge...</td>\n      <td>2</td>\n      <td>utilitarian</td>\n      <td>cooperation</td>\n      <td>n.a.</td>\n      <td>n.a.</td>\n    </tr>\n  </tbody>\n</table>\n<p>267 rows × 7 columns</p>\n</div>"
     },
     "execution_count": 9,
     "metadata": {},
     "output_type": "execute_result"
    }
   ],
   "source": [
    "# Create new dataframe only containing the sentences deemed relevant\n",
    "HLS_relevant = HLS[(HLS['Relevance']==2)]\n",
    "\n",
    "# Inspect dataframe\n",
    "HLS_relevant"
   ],
   "metadata": {
    "collapsed": false,
    "ExecuteTime": {
     "start_time": "2024-05-20T16:32:46.904799Z",
     "end_time": "2024-05-20T16:32:46.951092Z"
    }
   }
  },
  {
   "cell_type": "markdown",
   "source": [
    "#### Evaluation of Principles\n",
    "First, account for spelling mistakes made during annotation. After this pre-processing evaluate principle use."
   ],
   "metadata": {
    "collapsed": false
   }
  },
  {
   "cell_type": "code",
   "execution_count": 10,
   "outputs": [
    {
     "data": {
      "text/plain": "utilitarian                    62\nprioritarian                   62\negalitarian                    56\ngeneral normative statement    47\nsufficientarian                10\nprioritarian                    5\negalitarain                     4\nlibertarian                     3\negalitarian                     3\ngeneral normative statemetn     2\negalitarianism                  2\nprioritarain                    2\nutilitarian                     2\nlibertarian                     1\nprioritatiran                   1\nproioritarian                   1\nutilitarianism                  1\nproritarian                     1\negalitararin                    1\nEgalitarian                     1\nName: Principle, dtype: int64"
     },
     "execution_count": 10,
     "metadata": {},
     "output_type": "execute_result"
    }
   ],
   "source": [
    "# Inspect principle column - evaluating total principle use\n",
    "HLS_relevant['Principle'].value_counts()"
   ],
   "metadata": {
    "collapsed": false,
    "ExecuteTime": {
     "start_time": "2024-05-20T16:32:46.922130Z",
     "end_time": "2024-05-20T16:32:46.951092Z"
    }
   }
  },
  {
   "cell_type": "code",
   "execution_count": 11,
   "outputs": [
    {
     "data": {
      "text/plain": "prioritarian                   72\negalitarian                    67\nutilitarian                    65\ngeneral normative statement    49\nsufficientarian                10\nlibertarian                     4\nName: Principle, dtype: int64"
     },
     "execution_count": 11,
     "metadata": {},
     "output_type": "execute_result"
    }
   ],
   "source": [
    "HLS_spelling = HLS_relevant.copy()\n",
    "\n",
    "# Fix spelling mistakes\n",
    "HLS_spelling.loc[:,'Principle'] = HLS_spelling['Principle'].str.replace('prioritatiran', 'prioritarian')\n",
    "HLS_spelling.loc[:,'Principle'] = HLS_spelling['Principle'].str.replace('proioritarian', 'prioritarian')\n",
    "HLS_spelling.loc[:,'Principle'] = HLS_spelling['Principle'].str.replace('prioritarian ', 'prioritarian')\n",
    "HLS_spelling.loc[:,'Principle'] = HLS_spelling['Principle'].str.replace('prioritarain', 'prioritarian')\n",
    "HLS_spelling.loc[:,'Principle'] = HLS_spelling['Principle'].str.replace('proritarian', 'prioritarian')\n",
    "\n",
    "HLS_spelling.loc[:,'Principle'] = HLS_spelling['Principle'].str.replace('Egalitarian', 'egalitarian')\n",
    "HLS_spelling.loc[:,'Principle'] = HLS_spelling['Principle'].str.replace('egalitararin', 'egalitarian')\n",
    "HLS_spelling.loc[:,'Principle'] = HLS_spelling['Principle'].str.replace('egalitarian ', 'egalitarian')\n",
    "HLS_spelling.loc[:,'Principle'] = HLS_spelling['Principle'].str.replace('egalitarianism', 'egalitarian')\n",
    "HLS_spelling.loc[:,'Principle'] = HLS_spelling['Principle'].str.replace('egalitarain', 'egalitarian')\n",
    "\n",
    "HLS_spelling.loc[:,'Principle'] = HLS_spelling['Principle'].str.replace('utilitarianism', 'utilitarian')\n",
    "HLS_spelling.loc[:,'Principle'] = HLS_spelling['Principle'].str.replace('utilitarian ', 'utilitarian')\n",
    "\n",
    "HLS_spelling.loc[:,'Principle'] = HLS_spelling['Principle'].str.replace('libertarian ', 'libertarian')\n",
    "\n",
    "HLS_spelling.loc[:,'Principle'] = HLS_spelling['Principle'].str.replace('general normative statemetn', 'general normative statement')\n",
    "\n",
    "# Evaluate final number of principle labels\n",
    "principle_count = HLS_spelling['Principle'].value_counts()\n",
    "\n",
    "principle_count"
   ],
   "metadata": {
    "collapsed": false,
    "ExecuteTime": {
     "start_time": "2024-05-20T16:32:46.935464Z",
     "end_time": "2024-05-20T16:32:47.007301Z"
    }
   }
  },
  {
   "cell_type": "code",
   "execution_count": 39,
   "outputs": [
    {
     "data": {
      "text/plain": "<Figure size 1500x600 with 1 Axes>",
      "image/png": "[encoded data removed]"
     },
     "metadata": {},
     "output_type": "display_data"
    }
   ],
   "source": [
    "# Plotting using Matplotlib\n",
    "plt.figure(figsize=(15, 6))\n",
    "principle_count.plot(kind='bar')\n",
    "plt.title('Value Counts of principles - manual annotation results')\n",
    "plt.xlabel('Categories')\n",
    "plt.ylabel('Counts')\n",
    "plt.xticks(rotation=0)\n",
    "plt.show()"
   ],
   "metadata": {
    "collapsed": false,
    "ExecuteTime": {
     "start_time": "2024-05-20T16:32:53.324453Z",
     "end_time": "2024-05-20T16:32:54.844748Z"
    }
   }
  },
  {
   "cell_type": "markdown",
   "source": [
    "Sufficientarian and libertarian are less often found. Libertarian in such a limited number that preferably would have a larger number of available samples.\n",
    "\n",
    "The random split used for the testing  of the data should include sufficientarian labels in both. Thus: inspect the sentences labelled as libertarian.\n",
    "Libertarian principles are found in:\n",
    "COP19_usa\n",
    "COP23_netherlands\n",
    "COP24_rwanda\n",
    "COP28_belgium\n",
    "\n",
    "Test dataset will include: COP19_usa and COP28_belgium\n",
    "\n",
    "This is done to account for the class imbalance presented in the main category; the principles.\n",
    "\n",
    "Important: also check if sufficientarian is represented in the dataset."
   ],
   "metadata": {
    "collapsed": false
   }
  },
  {
   "cell_type": "code",
   "execution_count": 13,
   "outputs": [
    {
     "data": {
      "text/plain": "                     id                                               Text  \\\n157           COP19_usa  •  By contrast, an agreement based on 1992 cat...   \n737   COP23_netherlands  We should make the most of these opportunities...   \n915        COP24_rwanda     1 The Paris Agreement Work Programme should...   \n1386      COP28_belgium   In Europe we need to create the right incenti...   \n\n      Relevance    Principle                             Topic  \\\n157           2  libertarian  UNFCCC agreements and principles   \n737           2  libertarian                    implementation   \n915           2  libertarian                 new UNFCCC policy   \n1386          2  libertarian                    implementation   \n\n                     Unit Shape  \n157                  n.a.  n.a.  \n737                  n.a.  n.a.  \n915                  n.a.  n.a.  \n1386  financial resources  n.a.  ",
      "text/html": "<div>\n<style scoped>\n    .dataframe tbody tr th:only-of-type {\n        vertical-align: middle;\n    }\n\n    .dataframe tbody tr th {\n        vertical-align: top;\n    }\n\n    .dataframe thead th {\n        text-align: right;\n    }\n</style>\n<table border=\"1\" class=\"dataframe\">\n  <thead>\n    <tr style=\"text-align: right;\">\n      <th></th>\n      <th>id</th>\n      <th>Text</th>\n      <th>Relevance</th>\n      <th>Principle</th>\n      <th>Topic</th>\n      <th>Unit</th>\n      <th>Shape</th>\n    </tr>\n  </thead>\n  <tbody>\n    <tr>\n      <th>157</th>\n      <td>COP19_usa</td>\n      <td>•  By contrast, an agreement based on 1992 cat...</td>\n      <td>2</td>\n      <td>libertarian</td>\n      <td>UNFCCC agreements and principles</td>\n      <td>n.a.</td>\n      <td>n.a.</td>\n    </tr>\n    <tr>\n      <th>737</th>\n      <td>COP23_netherlands</td>\n      <td>We should make the most of these opportunities...</td>\n      <td>2</td>\n      <td>libertarian</td>\n      <td>implementation</td>\n      <td>n.a.</td>\n      <td>n.a.</td>\n    </tr>\n    <tr>\n      <th>915</th>\n      <td>COP24_rwanda</td>\n      <td>1 The Paris Agreement Work Programme should...</td>\n      <td>2</td>\n      <td>libertarian</td>\n      <td>new UNFCCC policy</td>\n      <td>n.a.</td>\n      <td>n.a.</td>\n    </tr>\n    <tr>\n      <th>1386</th>\n      <td>COP28_belgium</td>\n      <td>In Europe we need to create the right incenti...</td>\n      <td>2</td>\n      <td>libertarian</td>\n      <td>implementation</td>\n      <td>financial resources</td>\n      <td>n.a.</td>\n    </tr>\n  </tbody>\n</table>\n</div>"
     },
     "execution_count": 13,
     "metadata": {},
     "output_type": "execute_result"
    }
   ],
   "source": [
    "libertarian = HLS_spelling[HLS_spelling['Principle']== 'libertarian']\n",
    "libertarian"
   ],
   "metadata": {
    "collapsed": false,
    "ExecuteTime": {
     "start_time": "2024-05-20T16:32:47.354094Z",
     "end_time": "2024-05-20T16:32:47.378570Z"
    }
   }
  },
  {
   "cell_type": "code",
   "execution_count": 14,
   "outputs": [
    {
     "data": {
      "text/plain": "                             id  \\\n58                COP19_namibia   \n98           COP19_sierra_leone   \n169              COP20_holy_sea   \n275       COP20_republicofkorea   \n302                 COP20_tonga   \n470   COP21_trinidad_and_tobago   \n686               COP23_ireland   \n710               COP23_ireland   \n1122              COP26_grenada   \n1329               COP27_serbia   \n\n                                                   Text  Relevance  \\\n58    As a country committed to address the adverse ...          2   \n98    Mr. President, Sierra Leone submits that adapt...          2   \n169   The longer we wait, the more it will cost; mor...          2   \n275     First, our conversation on the new agreement...          2   \n302   Yet, in light of our limited human resources, ...          2   \n470   It must carry forward the spirit of the new gl...          2   \n686    I firmly believe that COP23 is not just about...          2   \n710   We must share our experiences along with ensur...          2   \n1122  We acknowledge that the transformation that is...          2   \n1329  • We must not forget that transition to a low ...          2   \n\n            Principle                           Topic  \\\n58    sufficientarian                     mitigation    \n98    sufficientarian          adaptation, mitigation   \n169   sufficientarian                         urgency   \n275   sufficientarian               new UNFCCC policy   \n302   sufficientarian                    human rights   \n470   sufficientarian               new UNFCCC policy   \n686   sufficientarian  UNFCCC agreements and policies   \n710   sufficientarian               support mechanism   \n1122  sufficientarian                  transformation   \n1329  sufficientarian                 societal change   \n\n                                              Unit        Shape  \n58    financial resources, technological resources  needs-based  \n98                                            n.a.         n.a.  \n169                                           n.a.         n.a.  \n275                                           n.a.  needs based  \n302                                           n.a.         n.a.  \n470                                 responsibility  needs based  \n686                                           n.a.         n.a.  \n710                                      resources  needs based  \n1122                                          n.a.       n.a.    \n1329                                          n.a.         n.a.  ",
      "text/html": "<div>\n<style scoped>\n    .dataframe tbody tr th:only-of-type {\n        vertical-align: middle;\n    }\n\n    .dataframe tbody tr th {\n        vertical-align: top;\n    }\n\n    .dataframe thead th {\n        text-align: right;\n    }\n</style>\n<table border=\"1\" class=\"dataframe\">\n  <thead>\n    <tr style=\"text-align: right;\">\n      <th></th>\n      <th>id</th>\n      <th>Text</th>\n      <th>Relevance</th>\n      <th>Principle</th>\n      <th>Topic</th>\n      <th>Unit</th>\n      <th>Shape</th>\n    </tr>\n  </thead>\n  <tbody>\n    <tr>\n      <th>58</th>\n      <td>COP19_namibia</td>\n      <td>As a country committed to address the adverse ...</td>\n      <td>2</td>\n      <td>sufficientarian</td>\n      <td>mitigation</td>\n      <td>financial resources, technological resources</td>\n      <td>needs-based</td>\n    </tr>\n    <tr>\n      <th>98</th>\n      <td>COP19_sierra_leone</td>\n      <td>Mr. President, Sierra Leone submits that adapt...</td>\n      <td>2</td>\n      <td>sufficientarian</td>\n      <td>adaptation, mitigation</td>\n      <td>n.a.</td>\n      <td>n.a.</td>\n    </tr>\n    <tr>\n      <th>169</th>\n      <td>COP20_holy_sea</td>\n      <td>The longer we wait, the more it will cost; mor...</td>\n      <td>2</td>\n      <td>sufficientarian</td>\n      <td>urgency</td>\n      <td>n.a.</td>\n      <td>n.a.</td>\n    </tr>\n    <tr>\n      <th>275</th>\n      <td>COP20_republicofkorea</td>\n      <td>First, our conversation on the new agreement...</td>\n      <td>2</td>\n      <td>sufficientarian</td>\n      <td>new UNFCCC policy</td>\n      <td>n.a.</td>\n      <td>needs based</td>\n    </tr>\n    <tr>\n      <th>302</th>\n      <td>COP20_tonga</td>\n      <td>Yet, in light of our limited human resources, ...</td>\n      <td>2</td>\n      <td>sufficientarian</td>\n      <td>human rights</td>\n      <td>n.a.</td>\n      <td>n.a.</td>\n    </tr>\n    <tr>\n      <th>470</th>\n      <td>COP21_trinidad_and_tobago</td>\n      <td>It must carry forward the spirit of the new gl...</td>\n      <td>2</td>\n      <td>sufficientarian</td>\n      <td>new UNFCCC policy</td>\n      <td>responsibility</td>\n      <td>needs based</td>\n    </tr>\n    <tr>\n      <th>686</th>\n      <td>COP23_ireland</td>\n      <td>I firmly believe that COP23 is not just about...</td>\n      <td>2</td>\n      <td>sufficientarian</td>\n      <td>UNFCCC agreements and policies</td>\n      <td>n.a.</td>\n      <td>n.a.</td>\n    </tr>\n    <tr>\n      <th>710</th>\n      <td>COP23_ireland</td>\n      <td>We must share our experiences along with ensur...</td>\n      <td>2</td>\n      <td>sufficientarian</td>\n      <td>support mechanism</td>\n      <td>resources</td>\n      <td>needs based</td>\n    </tr>\n    <tr>\n      <th>1122</th>\n      <td>COP26_grenada</td>\n      <td>We acknowledge that the transformation that is...</td>\n      <td>2</td>\n      <td>sufficientarian</td>\n      <td>transformation</td>\n      <td>n.a.</td>\n      <td>n.a.</td>\n    </tr>\n    <tr>\n      <th>1329</th>\n      <td>COP27_serbia</td>\n      <td>• We must not forget that transition to a low ...</td>\n      <td>2</td>\n      <td>sufficientarian</td>\n      <td>societal change</td>\n      <td>n.a.</td>\n      <td>n.a.</td>\n    </tr>\n  </tbody>\n</table>\n</div>"
     },
     "execution_count": 14,
     "metadata": {},
     "output_type": "execute_result"
    }
   ],
   "source": [
    "sufficientarian = HLS_spelling[HLS_spelling['Principle']== 'sufficientarian']\n",
    "sufficientarian"
   ],
   "metadata": {
    "collapsed": false,
    "ExecuteTime": {
     "start_time": "2024-05-20T16:32:47.378570Z",
     "end_time": "2024-05-20T16:32:47.508408Z"
    }
   }
  },
  {
   "cell_type": "markdown",
   "source": [
    "#### Evaluation of Topics"
   ],
   "metadata": {
    "collapsed": false
   }
  },
  {
   "cell_type": "code",
   "execution_count": 15,
   "outputs": [],
   "source": [
    "# Inspect topic column - evaluating topic types and use\n",
    "topic_count = HLS_spelling['Topic'].value_counts()\n"
   ],
   "metadata": {
    "collapsed": false,
    "ExecuteTime": {
     "start_time": "2024-05-20T16:32:47.393626Z",
     "end_time": "2024-05-20T16:32:47.508408Z"
    }
   }
  },
  {
   "cell_type": "markdown",
   "source": [
    "Evaluate if this topic notion is the most valuable. Only address a limited number of coded topics:\n",
    "TOPIC\n",
    "0 not evaluated\n",
    "1 new UNFCCC policy\n",
    "2 UNFCCC agreements and principles\n",
    "3 urgency\n",
    "4 cooperation\n",
    "5 financial mechanisms\n",
    "6 adaptation\n",
    "7 mitigation\n",
    "8 adaptation and mitigation\n",
    "9 other\n",
    "\n",
    "Vraag: hoe groot is de \"other\" group? > bepaal later, ook rekening houden met spelfouten"
   ],
   "metadata": {
    "collapsed": false
   }
  },
  {
   "cell_type": "markdown",
   "source": [
    "### Evaluation of Unit"
   ],
   "metadata": {
    "collapsed": false
   }
  },
  {
   "cell_type": "code",
   "execution_count": 16,
   "outputs": [
    {
     "data": {
      "text/plain": "n.a.                                            121\nresponsibility                                   57\nfinancial resources                              38\nsupport                                          20\nfinancial resources, technological resources      6\nfinancial resources, technical resources          2\nresponsibiltiy                                    2\nemissions                                         2\ntechnological resources                           2\nresponsibiliy                                     1\nresponsiblity                                     1\nfinancial resources                               1\ncommitments                                       1\nsupport                                           1\ntechnological resources, financial resources      1\nresponsibililty                                   1\nfinancial resources, technologcal resources       1\nemission targets                                  1\ntechnological resource                            1\nresponsibilities                                  1\ncontribution                                      1\ncosts                                             1\ntechnical resources                               1\nn.a.                                              1\nresponsibilty                                     1\nresources                                         1\nName: Unit, dtype: int64"
     },
     "execution_count": 16,
     "metadata": {},
     "output_type": "execute_result"
    }
   ],
   "source": [
    "HLS_spelling['Unit'].value_counts()"
   ],
   "metadata": {
    "collapsed": false,
    "ExecuteTime": {
     "start_time": "2024-05-20T16:32:47.402575Z",
     "end_time": "2024-05-20T16:32:47.508408Z"
    }
   }
  },
  {
   "cell_type": "markdown",
   "source": [
    "1. responsibility\n",
    "2. financial resources\n",
    "3. technical resources (AANPASSEN!)\n",
    "4. financial resources, technological resources\n",
    "5. support\n",
    "5. other\n",
    "6. n.a.\n",
    "\n",
    "> aanpassen opties; selectie van deze units in bepaalde opzichten opvallend omdat dit dus de verdelingen zijn die het meeste worden aangeroepen in de speeches.\n",
    "> In FW - niet werken met gestandariseerde codes maar volledig bottom-up werken (als gebruik van LLM, anders te moeilijk). Waarom? je verliest nu juist de kleine voorbeelden.\n",
    "> Verklaren waarom dit de meest belangrijke units zijn; is global negotiation, dus meestal niet specified - niet handig om direct een unit te geven. Resources en support zijn een basic unit van verdeling. Vaak is de verdeling implicieter, dus geen unit genoemd. Belangrijk is wel dat het ook gaat over responsiblity; gelinkt aan procedural justice\n",
    ">\n",
    "> ##oude notes!!!\n"
   ],
   "metadata": {
    "collapsed": false
   }
  },
  {
   "cell_type": "markdown",
   "source": [
    "### Evaluation of Shape"
   ],
   "metadata": {
    "collapsed": false
   }
  },
  {
   "cell_type": "code",
   "execution_count": 17,
   "outputs": [
    {
     "data": {
      "text/plain": "n.a.                             152\npriority to worst off             37\nequality                          17\nproportional to commitments       17\nequity                            17\nneeds based                        7\nproportional to contribution       4\nn.a.                               4\npriorty to worst off               2\n0                                  2\nproportial to contribution         2\nequity                             1\nneeds-based                        1\nn.a                                1\nproportional to contributions      1\nprioportional to commitments       1\nproportional to commitment         1\nName: Shape, dtype: int64"
     },
     "execution_count": 17,
     "metadata": {},
     "output_type": "execute_result"
    }
   ],
   "source": [
    "HLS_spelling['Shape'].value_counts()"
   ],
   "metadata": {
    "collapsed": false,
    "ExecuteTime": {
     "start_time": "2024-05-20T16:32:47.413092Z",
     "end_time": "2024-05-20T16:32:47.508408Z"
    }
   }
  },
  {
   "cell_type": "markdown",
   "source": [
    "1. n.a.\n",
    "2. priority to worst off\n",
    "3. equality\n",
    "4. proportional to commitments\n",
    "5. equity\n",
    "6. needs based\n",
    "7. proportional to contribution\n",
    "\n",
    "7 categories of distribution shapes, deze wel er allemaal inhouden, met observatie dat verschil tussen equity and priority to worst of goed duidelijk gemaakt moet worden.\n",
    "\n",
    "> Belangrijk FW: gebruik van labelling software voor categories, voorkomt spelfouten die er later nog uitgehaald moeten worden.\n",
    "\n",
    "> label 0 gebruiken voor \"niet gelabeled\" - zo onderscheid houden\n",
    "> hoe ga je data visualiseren??\n"
   ],
   "metadata": {
    "collapsed": false
   }
  },
  {
   "cell_type": "markdown",
   "source": [
    "## Conversion of full dataframe to numerical values\n",
    "Relevance is already labelled as numerical values.\n",
    "All nan values are replaces with 0. In all columns, exept relevance, this indicates that the label is not evaluated."
   ],
   "metadata": {
    "collapsed": false
   }
  },
  {
   "cell_type": "code",
   "execution_count": 18,
   "outputs": [],
   "source": [
    "# Fix spelling mistakes in original dataframe\n",
    "HLS.loc[:,'Principle'] = HLS['Principle'].str.replace('prioritatiran', 'prioritarian')\n",
    "HLS.loc[:,'Principle'] = HLS['Principle'].str.replace('proioritarian', 'prioritarian')\n",
    "HLS.loc[:,'Principle'] = HLS['Principle'].str.replace('prioritarian ', 'prioritarian')\n",
    "HLS.loc[:,'Principle'] = HLS['Principle'].str.replace('prioritarain', 'prioritarian')\n",
    "HLS.loc[:,'Principle'] = HLS['Principle'].str.replace('proritarian', 'prioritarian')\n",
    "\n",
    "HLS.loc[:,'Principle'] = HLS['Principle'].str.replace('Egalitarian', 'egalitarian')\n",
    "HLS.loc[:,'Principle'] = HLS['Principle'].str.replace('egalitararin', 'egalitarian')\n",
    "HLS.loc[:,'Principle'] = HLS['Principle'].str.replace('egalitarian ', 'egalitarian')\n",
    "HLS.loc[:,'Principle'] = HLS['Principle'].str.replace('egalitarianism', 'egalitarian')\n",
    "HLS.loc[:,'Principle'] = HLS['Principle'].str.replace('egalitarain', 'egalitarian')\n",
    "\n",
    "HLS.loc[:,'Principle'] = HLS['Principle'].str.replace('utilitarianism', 'utilitarian')\n",
    "HLS.loc[:,'Principle'] = HLS['Principle'].str.replace('utilitarian ', 'utilitarian')\n",
    "\n",
    "HLS.loc[:,'Principle'] = HLS['Principle'].str.replace('libertarian ', 'libertarian')\n",
    "\n",
    "HLS.loc[:,'Principle'] = HLS['Principle'].str.replace('general normative statemetn', 'general normative statement')\n"
   ],
   "metadata": {
    "collapsed": false,
    "ExecuteTime": {
     "start_time": "2024-05-20T16:32:47.422062Z",
     "end_time": "2024-05-20T16:32:47.508408Z"
    }
   }
  },
  {
   "cell_type": "markdown",
   "source": [
    "### Convert principles to numerical:\n",
    "0 not evaluated\n",
    "1 general normative statement\n",
    "2 egalitarian\n",
    "3 utilitarian\n",
    "4 prioritarian\n",
    "5 sufficientarian\n",
    "6 libertarian\n"
   ],
   "metadata": {
    "collapsed": false
   }
  },
  {
   "cell_type": "code",
   "execution_count": 19,
   "outputs": [],
   "source": [
    "# Principles\n",
    "HLS['Principle'] = HLS['Principle'].replace('general normative statement',1)\n",
    "HLS['Principle'] = HLS['Principle'].replace('egalitarian',2)\n",
    "HLS['Principle'] = HLS['Principle'].replace('utilitarian',3)\n",
    "HLS['Principle'] = HLS['Principle'].replace('prioritarian',4)\n",
    "HLS['Principle'] = HLS['Principle'].replace('sufficientarian',5)\n",
    "HLS['Principle'] = HLS['Principle'].replace('libertarian',6)\n",
    "\n",
    "HLS['Principle'] = HLS['Principle'].fillna(0)"
   ],
   "metadata": {
    "collapsed": false,
    "ExecuteTime": {
     "start_time": "2024-05-20T16:32:47.446915Z",
     "end_time": "2024-05-20T16:32:47.533377Z"
    }
   }
  },
  {
   "cell_type": "markdown",
   "source": [
    "### Convert topics to numerical:\n",
    "List determined based on occurences.\n",
    "0 not evaluated\n",
    "1 new UNFCCC policy\n",
    "2 UNFCCC agreements and principles\n",
    "3 urgency\n",
    "4 cooperation\n",
    "5 financial mechanisms\n",
    "6 adaptation\n",
    "7 mitigation\n",
    "8 adaptation and mitigation\n",
    "9 other\n",
    "\n",
    "Note: the notion of Green Climate Fund (GCF) is evaluated as a financial mechanisms.\n",
    "with every category converted, all remaining strings are set to 9; other."
   ],
   "metadata": {
    "collapsed": false
   }
  },
  {
   "cell_type": "code",
   "execution_count": 20,
   "outputs": [
    {
     "data": {
      "text/plain": "0                              1273\n1                                52\n2                                41\n3                                40\n5                                29\n4                                27\n8                                11\nimplementation                    8\n7                                 7\nloss and damage                   7\ncommitment                        7\nmoral responsibility              7\nsocietal issues                   4\neducation                         3\nsupport mechanism                 3\n6                                 2\ndiscrimination                    2\nnature protection                 2\ngender equality                   2\nenergy transformation             1\nenergy equilibrium                1\ncommitments                       1\nsocietal change                   1\nleadership                        1\nclimate impact                    1\ntransformation                    1\nredistribution of resources       1\nclimate justice                   1\nhealth                            1\npolitical leadership              1\ninclusion                         1\nocean observation                 1\nhuman rights                      1\nmoral responsibbility             1\nmoral responsiblity               1\nName: Topic, dtype: int64"
     },
     "execution_count": 20,
     "metadata": {},
     "output_type": "execute_result"
    }
   ],
   "source": [
    "replace1 = {'new UNFCCC policy':1,'new UNFCCC policy ':1, 'new UNFCCC policies':1,'New UNFCCC policy':1, ' new UNFCCC policy':1,'new UNFCCC policy ':1, 'new UNFCC policy ':1}\n",
    "replace2 = {'UNFCCC agreements and principles':2,'UNFCCC agreements and principles ':2,'UNFCCC argreements and principles':2, 'UNFCCC agreements and policies':2}\n",
    "\n",
    "HLS['Topic'] = HLS['Topic'].replace(replace1)\n",
    "HLS['Topic'] = HLS['Topic'].replace(replace2)\n",
    "HLS['Topic'] = HLS['Topic'].replace('urgency',3)\n",
    "HLS['Topic'] = HLS['Topic'].replace('cooperation',4)\n",
    "HLS['Topic'] = HLS['Topic'].replace({'financial mechanisms':5,'GCF':5, 'financial mechanism':5})\n",
    "HLS['Topic'] = HLS['Topic'].replace('adaptation',6)\n",
    "HLS['Topic'] = HLS['Topic'].replace({'mitigation':7, 'mitigation ':7})\n",
    "HLS['Topic'] = HLS['Topic'].replace('adaptation, mitigation',8)\n",
    "\n",
    "# Evaluate how much is converted now\n",
    "HLS['Topic'].value_counts()\n"
   ],
   "metadata": {
    "collapsed": false,
    "ExecuteTime": {
     "start_time": "2024-05-20T16:32:47.455807Z",
     "end_time": "2024-05-20T16:32:47.533377Z"
    }
   }
  },
  {
   "cell_type": "markdown",
   "source": [
    "There are A LOT of topic categories. This is because of the high topic density of COP speeches. Focus on the main topics that are deemed most relevant, especially the mitigation and adaptation. Can always be removed if deemed necessary.\n",
    "\n"
   ],
   "metadata": {
    "collapsed": false
   }
  },
  {
   "cell_type": "code",
   "execution_count": 21,
   "outputs": [],
   "source": [
    "#Label all non-numerical rows as 9\n",
    "HLS['Topic'] = HLS['Topic'].apply(lambda x: 9 if isinstance(x, str) else x)"
   ],
   "metadata": {
    "collapsed": false,
    "ExecuteTime": {
     "start_time": "2024-05-20T16:32:47.481469Z",
     "end_time": "2024-05-20T16:32:47.533377Z"
    }
   }
  },
  {
   "cell_type": "markdown",
   "source": [
    "### Converting Units to numerical\n",
    "0 not evaluated\n",
    "1 not indicated\n",
    "2 responsibility\n",
    "3 financial resources\n",
    "4 technological resources\n",
    "5 financial and technological resources\n",
    "6 support\n",
    "7 other"
   ],
   "metadata": {
    "collapsed": false
   }
  },
  {
   "cell_type": "code",
   "execution_count": 22,
   "outputs": [
    {
     "data": {
      "text/plain": "0                   1273\n1                    124\n2                     64\n3                     40\n6                     21\n5                     10\n4                      4\nemissions              2\ncosts                  1\nemission targets       1\ncontribution           1\nresources              1\ncommitments            1\nName: Unit, dtype: int64"
     },
     "execution_count": 22,
     "metadata": {},
     "output_type": "execute_result"
    }
   ],
   "source": [
    "HLS['Unit'] = HLS['Unit'].replace({'n.a.':1, 'n.a. ':1})\n",
    "HLS['Unit'] = HLS['Unit'].replace({'responsibility':2,'responsibiliy':2,'responsibilty':2,\n",
    "                                   'responsiblity':2, 'responsibililty':2, 'responsibilties':2,'responsibilities ':2, 'responsibiltiy':2})\n",
    "HLS['Unit'] = HLS['Unit'].replace({'financial resources':3, 'financial resources ':3})\n",
    "HLS['Unit'] = HLS['Unit'].replace({'technological resources':4, 'technological resource':4, 'technical resources':4})\n",
    "HLS['Unit'] = HLS['Unit'].replace({'financial resources, technological resources':5, 'financial resources, technologcal resources':5,\n",
    "                                   'technological resources, financial resources':5, 'financial resources, technical resources':5})\n",
    "HLS['Unit'] = HLS['Unit'].replace({'support':6, ' support':6, 'support ':6})\n",
    "\n",
    "HLS['Unit'].value_counts()"
   ],
   "metadata": {
    "collapsed": false,
    "ExecuteTime": {
     "start_time": "2024-05-20T16:32:47.488849Z",
     "end_time": "2024-05-20T16:32:47.611489Z"
    }
   }
  },
  {
   "cell_type": "code",
   "execution_count": 23,
   "outputs": [],
   "source": [
    "# Label final, not categorical labels as 7\n",
    "HLS['Unit'] = HLS['Unit'].apply(lambda x: 7 if isinstance(x, str) else x)"
   ],
   "metadata": {
    "collapsed": false,
    "ExecuteTime": {
     "start_time": "2024-05-20T16:32:47.508408Z",
     "end_time": "2024-05-20T16:32:47.611489Z"
    }
   }
  },
  {
   "cell_type": "markdown",
   "source": [
    "### Converting Shape into numerical\n",
    "0 not evaluated\n",
    "1 not indicated\n",
    "2 equality\n",
    "3 equity\n",
    "4 priority to worst off\n",
    "5 needs based\n",
    "6 proportional to contribution\n",
    "7 proportional to commitments\n",
    "8 other (not in original dataset - potentially removed to limit confusion?)"
   ],
   "metadata": {
    "collapsed": false
   }
  },
  {
   "cell_type": "code",
   "execution_count": 24,
   "outputs": [
    {
     "data": {
      "text/plain": "0    1275\n1     159\n4      39\n7      20\n3      18\n2      17\n5       8\n6       7\nName: Shape, dtype: int64"
     },
     "execution_count": 24,
     "metadata": {},
     "output_type": "execute_result"
    }
   ],
   "source": [
    "HLS['Shape'] = HLS['Shape'].replace({'n.a.':1,'n.a.  ':1, 'n.a':1})\n",
    "HLS['Shape'] = HLS['Shape'].replace('equality',2)\n",
    "HLS['Shape'] = HLS['Shape'].replace({'equity':3, 'equity ':3})\n",
    "HLS['Shape'] = HLS['Shape'].replace({'priority to worst off':4, 'priorty to worst off':4})\n",
    "HLS['Shape'] = HLS['Shape'].replace({'needs based':5, 'needs-based':5})\n",
    "HLS['Shape'] = HLS['Shape'].replace({'proportional to contribution':6, 'proportial to contribution':6, 'proportional to contributions':6})\n",
    "HLS['Shape'] = HLS['Shape'].replace({'proportional to commitments':7, 'prioportional to commitments':7, 'proportional to commitment':7})\n",
    "\n",
    "HLS['Shape'].value_counts()"
   ],
   "metadata": {
    "collapsed": false,
    "ExecuteTime": {
     "start_time": "2024-05-20T16:32:47.522007Z",
     "end_time": "2024-05-20T16:32:47.611489Z"
    }
   }
  },
  {
   "cell_type": "code",
   "execution_count": 25,
   "outputs": [],
   "source": [
    "#Set all label columns to integers\n",
    "HLS[\"Principle\"] = HLS[\"Principle\"].astype(int)\n",
    "HLS[\"Unit\"] = HLS[\"Unit\"].astype(int)\n",
    "\n",
    "# Save full numerical dataset to an excel file\n",
    "HLS.to_excel('HLS_man/HLS_complete.xlsx')"
   ],
   "metadata": {
    "collapsed": false,
    "ExecuteTime": {
     "start_time": "2024-05-20T16:32:47.533377Z",
     "end_time": "2024-05-20T16:32:48.164356Z"
    }
   }
  },
  {
   "cell_type": "code",
   "execution_count": 26,
   "outputs": [
    {
     "data": {
      "text/plain": "<Figure size 2000x600 with 5 Axes>",
      "image/png": "[encoded data removed]"
     },
     "metadata": {},
     "output_type": "display_data"
    }
   ],
   "source": [
    "# List of columns to plot\n",
    "columns_to_plot = ['Relevance', 'Principle', 'Topic', 'Unit', 'Shape']\n",
    "\n",
    "# Set up the plot grid\n",
    "fig, axes = plt.subplots(nrows=1, ncols=len(columns_to_plot), figsize=(20, 6))\n",
    "\n",
    "# Loop through each column and create a bar plot\n",
    "for ax, column in zip(axes, columns_to_plot):\n",
    "    value_counts = HLS[column].value_counts()\n",
    "    sns.barplot(x=value_counts.index, y=value_counts.values, ax=ax)\n",
    "    ax.set_title(f'Value Counts of {column}')\n",
    "    ax.set_xlabel(column)\n",
    "    ax.set_ylabel('Counts')\n",
    "    ax.set_xticklabels(ax.get_xticklabels(), rotation=45)\n",
    "\n",
    "plt.tight_layout()\n",
    "plt.show()"
   ],
   "metadata": {
    "collapsed": false,
    "ExecuteTime": {
     "start_time": "2024-05-20T16:32:48.164356Z",
     "end_time": "2024-05-20T16:32:49.904112Z"
    }
   }
  },
  {
   "cell_type": "code",
   "execution_count": 27,
   "outputs": [
    {
     "data": {
      "text/plain": "                    id                                               Text  \\\n134  COP19_timor_leste  Lastly, Mr. President,Regarding 2015 agreement...   \n187     COP20_holy_sea  If we remain inactive in addressing climate ch...   \n\n     Relevance  Principle  Topic  Unit  Shape  \n134          2          1      3     1      0  \n187          2          2      2     2      0  ",
      "text/html": "<div>\n<style scoped>\n    .dataframe tbody tr th:only-of-type {\n        vertical-align: middle;\n    }\n\n    .dataframe tbody tr th {\n        vertical-align: top;\n    }\n\n    .dataframe thead th {\n        text-align: right;\n    }\n</style>\n<table border=\"1\" class=\"dataframe\">\n  <thead>\n    <tr style=\"text-align: right;\">\n      <th></th>\n      <th>id</th>\n      <th>Text</th>\n      <th>Relevance</th>\n      <th>Principle</th>\n      <th>Topic</th>\n      <th>Unit</th>\n      <th>Shape</th>\n    </tr>\n  </thead>\n  <tbody>\n    <tr>\n      <th>134</th>\n      <td>COP19_timor_leste</td>\n      <td>Lastly, Mr. President,Regarding 2015 agreement...</td>\n      <td>2</td>\n      <td>1</td>\n      <td>3</td>\n      <td>1</td>\n      <td>0</td>\n    </tr>\n    <tr>\n      <th>187</th>\n      <td>COP20_holy_sea</td>\n      <td>If we remain inactive in addressing climate ch...</td>\n      <td>2</td>\n      <td>2</td>\n      <td>2</td>\n      <td>2</td>\n      <td>0</td>\n    </tr>\n  </tbody>\n</table>\n</div>"
     },
     "execution_count": 27,
     "metadata": {},
     "output_type": "execute_result"
    }
   ],
   "source": [
    "# Select only relevant elements of the plot\n",
    "HLS_R2 = HLS[(HLS['Relevance']==2)]\n",
    "HLS_R2[(HLS_R2['Shape']==0)]"
   ],
   "metadata": {
    "collapsed": false,
    "ExecuteTime": {
     "start_time": "2024-05-20T16:32:49.908640Z",
     "end_time": "2024-05-20T16:32:49.915930Z"
    }
   }
  },
  {
   "cell_type": "markdown",
   "source": [
    "Oke dit moet ik eigenlijk wel aanpassen."
   ],
   "metadata": {
    "collapsed": false
   }
  },
  {
   "cell_type": "code",
   "execution_count": 28,
   "outputs": [
    {
     "data": {
      "text/plain": "<Figure size 2000x600 with 5 Axes>",
      "image/png": "[encoded data removed]"
     },
     "metadata": {},
     "output_type": "display_data"
    }
   ],
   "source": [
    "# List of columns to plot\n",
    "columns_to_plot = ['Relevance', 'Principle', 'Topic', 'Unit', 'Shape']\n",
    "\n",
    "# Set up the plot grid\n",
    "fig, axes = plt.subplots(nrows=1, ncols=len(columns_to_plot), figsize=(20, 6))\n",
    "\n",
    "# Loop through each column and create a bar plot\n",
    "for ax, column in zip(axes, columns_to_plot):\n",
    "    value_counts = HLS_R2[column].value_counts()\n",
    "    sns.barplot(x=value_counts.index, y=value_counts.values, ax=ax)\n",
    "    ax.set_title(f'Value Counts of {column}')\n",
    "    ax.set_xlabel(column)\n",
    "    ax.set_ylabel('Counts')\n",
    "    ax.set_xticklabels(ax.get_xticklabels(), rotation=45)\n",
    "\n",
    "plt.tight_layout()\n",
    "plt.show()"
   ],
   "metadata": {
    "collapsed": false,
    "ExecuteTime": {
     "start_time": "2024-05-20T16:32:49.923048Z",
     "end_time": "2024-05-20T16:32:51.180735Z"
    }
   }
  },
  {
   "cell_type": "markdown",
   "source": [
    "Visualise the occurences of each category in a bar plot in a bar plot."
   ],
   "metadata": {
    "collapsed": false
   }
  },
  {
   "cell_type": "markdown",
   "source": [
    "All shapes have been converted. Now the final data split has to be made. This is done on a 80/20 basis. Selecting 41 documents for evaluation and potential updating of the codebook. The final codebook is evaluated on 10 documents to prevent overfitting.\n",
    "It is important to have some categorical balance between the dataset. In this case indicating that all labels have to occur at least once.\n",
    "\n",
    "-- Eigenlijk nog evalueren van stats per speech?\n",
    "\n",
    "To start, one speech of all cops are selected.\n",
    "COP19_usa\n",
    "COP20_micronesia\n",
    "COP21_nepal\n",
    "COP22_belize\n",
    "COP23_ireland\n",
    "COP24_rwanda\n",
    "COP25_serbia\n",
    "COP26_barbados\n",
    "COP27_kazakhstan\n",
    "COP28_belgium\n",
    "\n",
    "> belangrijk: je evalueert in principe per speech, dus je kan niet gewoon op een aantal losse rows selecteren."
   ],
   "metadata": {
    "collapsed": false
   }
  },
  {
   "cell_type": "code",
   "execution_count": 29,
   "outputs": [
    {
     "data": {
      "text/plain": "                 id                                               Text  \\\n141       COP19_usa    The U.S. has led the way in the relief effo...   \n142       COP19_usa  Inthe past 10 years, the U.S. has contributed ...   \n143       COP19_usa    Of course, scientists dont know that clima...   \n144       COP19_usa    It is for this reason that President Obama ...   \n145       COP19_usa    Last June, President Obama announced the U....   \n...             ...                                                ...   \n1397  COP28_belgium   The most important result of COP28 that I wou...   \n1398  COP28_belgium   Trust that “WE” , governments together with o...   \n1399  COP28_belgium                                                      \n1400  COP28_belgium  But for that, we need….to scale up the solutio...   \n1401  COP28_belgium                                       I thank you.   \n\n      Relevance  Principle  Topic  Unit  Shape  \n141           0          0      0     0      0  \n142           0          0      0     0      0  \n143           0          0      0     0      0  \n144           0          0      0     0      0  \n145           0          0      0     0      0  \n...         ...        ...    ...   ...    ...  \n1397          1          0      0     0      0  \n1398          1          0      0     0      0  \n1399          0          0      0     0      0  \n1400          1          1      3     1      1  \n1401          0          0      0     0      0  \n\n[331 rows x 7 columns]",
      "text/html": "<div>\n<style scoped>\n    .dataframe tbody tr th:only-of-type {\n        vertical-align: middle;\n    }\n\n    .dataframe tbody tr th {\n        vertical-align: top;\n    }\n\n    .dataframe thead th {\n        text-align: right;\n    }\n</style>\n<table border=\"1\" class=\"dataframe\">\n  <thead>\n    <tr style=\"text-align: right;\">\n      <th></th>\n      <th>id</th>\n      <th>Text</th>\n      <th>Relevance</th>\n      <th>Principle</th>\n      <th>Topic</th>\n      <th>Unit</th>\n      <th>Shape</th>\n    </tr>\n  </thead>\n  <tbody>\n    <tr>\n      <th>141</th>\n      <td>COP19_usa</td>\n      <td>  The U.S. has led the way in the relief effo...</td>\n      <td>0</td>\n      <td>0</td>\n      <td>0</td>\n      <td>0</td>\n      <td>0</td>\n    </tr>\n    <tr>\n      <th>142</th>\n      <td>COP19_usa</td>\n      <td>Inthe past 10 years, the U.S. has contributed ...</td>\n      <td>0</td>\n      <td>0</td>\n      <td>0</td>\n      <td>0</td>\n      <td>0</td>\n    </tr>\n    <tr>\n      <th>143</th>\n      <td>COP19_usa</td>\n      <td>  Of course, scientists dont know that clima...</td>\n      <td>0</td>\n      <td>0</td>\n      <td>0</td>\n      <td>0</td>\n      <td>0</td>\n    </tr>\n    <tr>\n      <th>144</th>\n      <td>COP19_usa</td>\n      <td>  It is for this reason that President Obama ...</td>\n      <td>0</td>\n      <td>0</td>\n      <td>0</td>\n      <td>0</td>\n      <td>0</td>\n    </tr>\n    <tr>\n      <th>145</th>\n      <td>COP19_usa</td>\n      <td>  Last June, President Obama announced the U....</td>\n      <td>0</td>\n      <td>0</td>\n      <td>0</td>\n      <td>0</td>\n      <td>0</td>\n    </tr>\n    <tr>\n      <th>...</th>\n      <td>...</td>\n      <td>...</td>\n      <td>...</td>\n      <td>...</td>\n      <td>...</td>\n      <td>...</td>\n      <td>...</td>\n    </tr>\n    <tr>\n      <th>1397</th>\n      <td>COP28_belgium</td>\n      <td>The most important result of COP28 that I wou...</td>\n      <td>1</td>\n      <td>0</td>\n      <td>0</td>\n      <td>0</td>\n      <td>0</td>\n    </tr>\n    <tr>\n      <th>1398</th>\n      <td>COP28_belgium</td>\n      <td>Trust that “WE” , governments together with o...</td>\n      <td>1</td>\n      <td>0</td>\n      <td>0</td>\n      <td>0</td>\n      <td>0</td>\n    </tr>\n    <tr>\n      <th>1399</th>\n      <td>COP28_belgium</td>\n      <td></td>\n      <td>0</td>\n      <td>0</td>\n      <td>0</td>\n      <td>0</td>\n      <td>0</td>\n    </tr>\n    <tr>\n      <th>1400</th>\n      <td>COP28_belgium</td>\n      <td>But for that, we need….to scale up the solutio...</td>\n      <td>1</td>\n      <td>1</td>\n      <td>3</td>\n      <td>1</td>\n      <td>1</td>\n    </tr>\n    <tr>\n      <th>1401</th>\n      <td>COP28_belgium</td>\n      <td>I thank you.</td>\n      <td>0</td>\n      <td>0</td>\n      <td>0</td>\n      <td>0</td>\n      <td>0</td>\n    </tr>\n  </tbody>\n</table>\n<p>331 rows × 7 columns</p>\n</div>"
     },
     "execution_count": 29,
     "metadata": {},
     "output_type": "execute_result"
    }
   ],
   "source": [
    "testset = ['COP19_usa', 'COP20_micronesia', 'COP21_nepal','COP22_belize','COP23_ireland', 'COP24_rwanda','COP25_serbia','COP26_barbados', 'COP27_kazakhstan','COP28_belgium']\n",
    "HLS_test = HLS[HLS['id'].isin(testset)]\n",
    "HLS_test"
   ],
   "metadata": {
    "collapsed": false,
    "ExecuteTime": {
     "start_time": "2024-05-20T16:32:51.180735Z",
     "end_time": "2024-05-20T16:32:51.197009Z"
    }
   }
  },
  {
   "cell_type": "markdown",
   "source": [
    "HLS_test contains 331 rows, this is 21% of the total number of rows. Check other statistics:\n",
    "15% of the sentences are relevant. This is slightly less than the original (17.3%)"
   ],
   "metadata": {
    "collapsed": false
   }
  },
  {
   "cell_type": "code",
   "execution_count": 30,
   "outputs": [
    {
     "data": {
      "text/plain": "0    213\n1     69\n2     49\nName: Relevance, dtype: int64"
     },
     "execution_count": 30,
     "metadata": {},
     "output_type": "execute_result"
    }
   ],
   "source": [
    "HLS_test['Relevance'].value_counts()"
   ],
   "metadata": {
    "collapsed": false,
    "ExecuteTime": {
     "start_time": "2024-05-20T16:32:51.197009Z",
     "end_time": "2024-05-20T16:32:51.208141Z"
    }
   }
  },
  {
   "cell_type": "code",
   "execution_count": 31,
   "outputs": [
    {
     "data": {
      "text/plain": "0    281\n1     17\n2     16\n3      6\n4      6\n6      3\n5      2\nName: Principle, dtype: int64"
     },
     "execution_count": 31,
     "metadata": {},
     "output_type": "execute_result"
    }
   ],
   "source": [
    "HLS_test['Principle'].value_counts()"
   ],
   "metadata": {
    "collapsed": false,
    "ExecuteTime": {
     "start_time": "2024-05-20T16:32:51.208141Z",
     "end_time": "2024-05-20T16:32:51.510529Z"
    }
   }
  },
  {
   "cell_type": "code",
   "execution_count": 32,
   "outputs": [
    {
     "data": {
      "text/plain": "0    281\n9     15\n1     11\n2      9\n5      7\n4      4\n3      4\nName: Topic, dtype: int64"
     },
     "execution_count": 32,
     "metadata": {},
     "output_type": "execute_result"
    }
   ],
   "source": [
    "HLS_test['Topic'].value_counts() #CURRENTLY NO 6 7 8 - is that a bad thing?"
   ],
   "metadata": {
    "collapsed": false,
    "ExecuteTime": {
     "start_time": "2024-05-20T16:32:51.219922Z",
     "end_time": "2024-05-20T16:32:51.510529Z"
    }
   }
  },
  {
   "cell_type": "code",
   "execution_count": 33,
   "outputs": [
    {
     "data": {
      "text/plain": "0    281\n1     18\n2     15\n3      9\n7      3\n6      2\n5      2\n4      1\nName: Unit, dtype: int64"
     },
     "execution_count": 33,
     "metadata": {},
     "output_type": "execute_result"
    }
   ],
   "source": [
    "HLS_test['Unit'].value_counts() #CURRENTLY NO 8, is deemed fine"
   ],
   "metadata": {
    "collapsed": false,
    "ExecuteTime": {
     "start_time": "2024-05-20T16:32:51.231871Z",
     "end_time": "2024-05-20T16:32:51.510529Z"
    }
   }
  },
  {
   "cell_type": "code",
   "execution_count": 34,
   "outputs": [
    {
     "data": {
      "text/plain": "0    281\n1     29\n2      6\n4      5\n3      4\n5      3\n6      2\n7      1\nName: Shape, dtype: int64"
     },
     "execution_count": 34,
     "metadata": {},
     "output_type": "execute_result"
    }
   ],
   "source": [
    "HLS_test['Shape'].value_counts() # No shape 8 - other, which was also not found in the original dataset"
   ],
   "metadata": {
    "collapsed": false,
    "ExecuteTime": {
     "start_time": "2024-05-20T16:32:51.244375Z",
     "end_time": "2024-05-20T16:32:51.510529Z"
    }
   }
  },
  {
   "cell_type": "code",
   "execution_count": 35,
   "outputs": [
    {
     "data": {
      "text/plain": "                    id                                               Text  \\\n0          COP19_japan                         Thank you, Mr. President .   \n1          COP19_japan   On beha lf of the government of Japan , I wou...   \n2          COP19_japan   I would also like to expr ess my d eepest con...   \n3          COP19_japan   Mr. President:  A fair and effective framewor...   \n4          COP19_japan   In this regard, Japan firmly supports the est...   \n...                ...                                                ...   \n1538  COP28_newzealand   New Zealand is proud to suppor t several impo...   \n1539  COP28_newzealand  I am joined by New Zealand’s largest business,...   \n1540  COP28_newzealand  The commitment o f New Zealanders from across ...   \n1541  COP28_newzealand                            Thank you Mr President.   \n1542  COP28_newzealand                                          Kia Kaha    \n\n      Relevance  Principle  Topic  Unit  Shape  \n0             0          0      0     0      0  \n1             0          0      0     0      0  \n2             0          0      0     0      0  \n3             2          3      1     2      2  \n4             1          0      0     0      0  \n...         ...        ...    ...   ...    ...  \n1538          0          0      0     0      0  \n1539          0          0      0     0      0  \n1540          0          0      0     0      0  \n1541          0          0      0     0      0  \n1542          0          0      0     0      0  \n\n[1212 rows x 7 columns]",
      "text/html": "<div>\n<style scoped>\n    .dataframe tbody tr th:only-of-type {\n        vertical-align: middle;\n    }\n\n    .dataframe tbody tr th {\n        vertical-align: top;\n    }\n\n    .dataframe thead th {\n        text-align: right;\n    }\n</style>\n<table border=\"1\" class=\"dataframe\">\n  <thead>\n    <tr style=\"text-align: right;\">\n      <th></th>\n      <th>id</th>\n      <th>Text</th>\n      <th>Relevance</th>\n      <th>Principle</th>\n      <th>Topic</th>\n      <th>Unit</th>\n      <th>Shape</th>\n    </tr>\n  </thead>\n  <tbody>\n    <tr>\n      <th>0</th>\n      <td>COP19_japan</td>\n      <td>Thank you, Mr. President .</td>\n      <td>0</td>\n      <td>0</td>\n      <td>0</td>\n      <td>0</td>\n      <td>0</td>\n    </tr>\n    <tr>\n      <th>1</th>\n      <td>COP19_japan</td>\n      <td>On beha lf of the government of Japan , I wou...</td>\n      <td>0</td>\n      <td>0</td>\n      <td>0</td>\n      <td>0</td>\n      <td>0</td>\n    </tr>\n    <tr>\n      <th>2</th>\n      <td>COP19_japan</td>\n      <td>I would also like to expr ess my d eepest con...</td>\n      <td>0</td>\n      <td>0</td>\n      <td>0</td>\n      <td>0</td>\n      <td>0</td>\n    </tr>\n    <tr>\n      <th>3</th>\n      <td>COP19_japan</td>\n      <td>Mr. President:  A fair and effective framewor...</td>\n      <td>2</td>\n      <td>3</td>\n      <td>1</td>\n      <td>2</td>\n      <td>2</td>\n    </tr>\n    <tr>\n      <th>4</th>\n      <td>COP19_japan</td>\n      <td>In this regard, Japan firmly supports the est...</td>\n      <td>1</td>\n      <td>0</td>\n      <td>0</td>\n      <td>0</td>\n      <td>0</td>\n    </tr>\n    <tr>\n      <th>...</th>\n      <td>...</td>\n      <td>...</td>\n      <td>...</td>\n      <td>...</td>\n      <td>...</td>\n      <td>...</td>\n      <td>...</td>\n    </tr>\n    <tr>\n      <th>1538</th>\n      <td>COP28_newzealand</td>\n      <td>New Zealand is proud to suppor t several impo...</td>\n      <td>0</td>\n      <td>0</td>\n      <td>0</td>\n      <td>0</td>\n      <td>0</td>\n    </tr>\n    <tr>\n      <th>1539</th>\n      <td>COP28_newzealand</td>\n      <td>I am joined by New Zealand’s largest business,...</td>\n      <td>0</td>\n      <td>0</td>\n      <td>0</td>\n      <td>0</td>\n      <td>0</td>\n    </tr>\n    <tr>\n      <th>1540</th>\n      <td>COP28_newzealand</td>\n      <td>The commitment o f New Zealanders from across ...</td>\n      <td>0</td>\n      <td>0</td>\n      <td>0</td>\n      <td>0</td>\n      <td>0</td>\n    </tr>\n    <tr>\n      <th>1541</th>\n      <td>COP28_newzealand</td>\n      <td>Thank you Mr President.</td>\n      <td>0</td>\n      <td>0</td>\n      <td>0</td>\n      <td>0</td>\n      <td>0</td>\n    </tr>\n    <tr>\n      <th>1542</th>\n      <td>COP28_newzealand</td>\n      <td>Kia Kaha</td>\n      <td>0</td>\n      <td>0</td>\n      <td>0</td>\n      <td>0</td>\n      <td>0</td>\n    </tr>\n  </tbody>\n</table>\n<p>1212 rows × 7 columns</p>\n</div>"
     },
     "execution_count": 35,
     "metadata": {},
     "output_type": "execute_result"
    }
   ],
   "source": [
    "# Create train dataset\n",
    "HLS_train = HLS[~HLS['id'].isin(testset)]\n",
    "\n",
    "# Save both datasets as csv files in the HLS_man folder\n",
    "HLS_test.to_csv('HLS_man/HLS_test.csv')\n",
    "HLS_train.to_csv('HLS_man/HLS_train.csv')\n",
    "\n",
    "HLS_train"
   ],
   "metadata": {
    "collapsed": false,
    "ExecuteTime": {
     "start_time": "2024-05-20T16:32:51.250587Z",
     "end_time": "2024-05-20T16:32:51.510529Z"
    }
   }
  },
  {
   "cell_type": "markdown",
   "source": [],
   "metadata": {
    "collapsed": false
   }
  },
  {
   "cell_type": "markdown",
   "source": [
    "## Get dummies?\n",
    "If neccesssary; use get.dummies to create dummies dataframe. > implies need to change the codebook: slight change in formulation. Still able to address everything as the datasets are presented.\n",
    "\n",
    "Dummies created in original HLS, then again split and saved for test and train."
   ],
   "metadata": {
    "collapsed": false
   }
  },
  {
   "cell_type": "code",
   "execution_count": 36,
   "outputs": [
    {
     "data": {
      "text/plain": "                    id                                               Text  \\\n0          COP19_japan                         Thank you, Mr. President .   \n1          COP19_japan   On beha lf of the government of Japan , I wou...   \n2          COP19_japan   I would also like to expr ess my d eepest con...   \n3          COP19_japan   Mr. President:  A fair and effective framewor...   \n4          COP19_japan   In this regard, Japan firmly supports the est...   \n...                ...                                                ...   \n1538  COP28_newzealand   New Zealand is proud to suppor t several impo...   \n1539  COP28_newzealand  I am joined by New Zealand’s largest business,...   \n1540  COP28_newzealand  The commitment o f New Zealanders from across ...   \n1541  COP28_newzealand                            Thank you Mr President.   \n1542  COP28_newzealand                                          Kia Kaha    \n\n      relevance_0  relevance_1  relevance_2  principle_0  principle_1  \\\n0               1            0            0            1            0   \n1               1            0            0            1            0   \n2               1            0            0            1            0   \n3               0            0            1            0            0   \n4               0            1            0            1            0   \n...           ...          ...          ...          ...          ...   \n1538            1            0            0            1            0   \n1539            1            0            0            1            0   \n1540            1            0            0            1            0   \n1541            1            0            0            1            0   \n1542            1            0            0            1            0   \n\n      principle_2  principle_3  principle_4  ...  unit_7  shape_0  shape_1  \\\n0               0            0            0  ...       0        1        0   \n1               0            0            0  ...       0        1        0   \n2               0            0            0  ...       0        1        0   \n3               0            1            0  ...       0        0        0   \n4               0            0            0  ...       0        1        0   \n...           ...          ...          ...  ...     ...      ...      ...   \n1538            0            0            0  ...       0        1        0   \n1539            0            0            0  ...       0        1        0   \n1540            0            0            0  ...       0        1        0   \n1541            0            0            0  ...       0        1        0   \n1542            0            0            0  ...       0        1        0   \n\n      shape_2  shape_3  shape_4  shape_5  shape_6  shape_7  shape_8  \n0           0        0        0        0        0        0        0  \n1           0        0        0        0        0        0        0  \n2           0        0        0        0        0        0        0  \n3           1        0        0        0        0        0        0  \n4           0        0        0        0        0        0        0  \n...       ...      ...      ...      ...      ...      ...      ...  \n1538        0        0        0        0        0        0        0  \n1539        0        0        0        0        0        0        0  \n1540        0        0        0        0        0        0        0  \n1541        0        0        0        0        0        0        0  \n1542        0        0        0        0        0        0        0  \n\n[1543 rows x 39 columns]",
      "text/html": "<div>\n<style scoped>\n    .dataframe tbody tr th:only-of-type {\n        vertical-align: middle;\n    }\n\n    .dataframe tbody tr th {\n        vertical-align: top;\n    }\n\n    .dataframe thead th {\n        text-align: right;\n    }\n</style>\n<table border=\"1\" class=\"dataframe\">\n  <thead>\n    <tr style=\"text-align: right;\">\n      <th></th>\n      <th>id</th>\n      <th>Text</th>\n      <th>relevance_0</th>\n      <th>relevance_1</th>\n      <th>relevance_2</th>\n      <th>principle_0</th>\n      <th>principle_1</th>\n      <th>principle_2</th>\n      <th>principle_3</th>\n      <th>principle_4</th>\n      <th>...</th>\n      <th>unit_7</th>\n      <th>shape_0</th>\n      <th>shape_1</th>\n      <th>shape_2</th>\n      <th>shape_3</th>\n      <th>shape_4</th>\n      <th>shape_5</th>\n      <th>shape_6</th>\n      <th>shape_7</th>\n      <th>shape_8</th>\n    </tr>\n  </thead>\n  <tbody>\n    <tr>\n      <th>0</th>\n      <td>COP19_japan</td>\n      <td>Thank you, Mr. President .</td>\n      <td>1</td>\n      <td>0</td>\n      <td>0</td>\n      <td>1</td>\n      <td>0</td>\n      <td>0</td>\n      <td>0</td>\n      <td>0</td>\n      <td>...</td>\n      <td>0</td>\n      <td>1</td>\n      <td>0</td>\n      <td>0</td>\n      <td>0</td>\n      <td>0</td>\n      <td>0</td>\n      <td>0</td>\n      <td>0</td>\n      <td>0</td>\n    </tr>\n    <tr>\n      <th>1</th>\n      <td>COP19_japan</td>\n      <td>On beha lf of the government of Japan , I wou...</td>\n      <td>1</td>\n      <td>0</td>\n      <td>0</td>\n      <td>1</td>\n      <td>0</td>\n      <td>0</td>\n      <td>0</td>\n      <td>0</td>\n      <td>...</td>\n      <td>0</td>\n      <td>1</td>\n      <td>0</td>\n      <td>0</td>\n      <td>0</td>\n      <td>0</td>\n      <td>0</td>\n      <td>0</td>\n      <td>0</td>\n      <td>0</td>\n    </tr>\n    <tr>\n      <th>2</th>\n      <td>COP19_japan</td>\n      <td>I would also like to expr ess my d eepest con...</td>\n      <td>1</td>\n      <td>0</td>\n      <td>0</td>\n      <td>1</td>\n      <td>0</td>\n      <td>0</td>\n      <td>0</td>\n      <td>0</td>\n      <td>...</td>\n      <td>0</td>\n      <td>1</td>\n      <td>0</td>\n      <td>0</td>\n      <td>0</td>\n      <td>0</td>\n      <td>0</td>\n      <td>0</td>\n      <td>0</td>\n      <td>0</td>\n    </tr>\n    <tr>\n      <th>3</th>\n      <td>COP19_japan</td>\n      <td>Mr. President:  A fair and effective framewor...</td>\n      <td>0</td>\n      <td>0</td>\n      <td>1</td>\n      <td>0</td>\n      <td>0</td>\n      <td>0</td>\n      <td>1</td>\n      <td>0</td>\n      <td>...</td>\n      <td>0</td>\n      <td>0</td>\n      <td>0</td>\n      <td>1</td>\n      <td>0</td>\n      <td>0</td>\n      <td>0</td>\n      <td>0</td>\n      <td>0</td>\n      <td>0</td>\n    </tr>\n    <tr>\n      <th>4</th>\n      <td>COP19_japan</td>\n      <td>In this regard, Japan firmly supports the est...</td>\n      <td>0</td>\n      <td>1</td>\n      <td>0</td>\n      <td>1</td>\n      <td>0</td>\n      <td>0</td>\n      <td>0</td>\n      <td>0</td>\n      <td>...</td>\n      <td>0</td>\n      <td>1</td>\n      <td>0</td>\n      <td>0</td>\n      <td>0</td>\n      <td>0</td>\n      <td>0</td>\n      <td>0</td>\n      <td>0</td>\n      <td>0</td>\n    </tr>\n    <tr>\n      <th>...</th>\n      <td>...</td>\n      <td>...</td>\n      <td>...</td>\n      <td>...</td>\n      <td>...</td>\n      <td>...</td>\n      <td>...</td>\n      <td>...</td>\n      <td>...</td>\n      <td>...</td>\n      <td>...</td>\n      <td>...</td>\n      <td>...</td>\n      <td>...</td>\n      <td>...</td>\n      <td>...</td>\n      <td>...</td>\n      <td>...</td>\n      <td>...</td>\n      <td>...</td>\n      <td>...</td>\n    </tr>\n    <tr>\n      <th>1538</th>\n      <td>COP28_newzealand</td>\n      <td>New Zealand is proud to suppor t several impo...</td>\n      <td>1</td>\n      <td>0</td>\n      <td>0</td>\n      <td>1</td>\n      <td>0</td>\n      <td>0</td>\n      <td>0</td>\n      <td>0</td>\n      <td>...</td>\n      <td>0</td>\n      <td>1</td>\n      <td>0</td>\n      <td>0</td>\n      <td>0</td>\n      <td>0</td>\n      <td>0</td>\n      <td>0</td>\n      <td>0</td>\n      <td>0</td>\n    </tr>\n    <tr>\n      <th>1539</th>\n      <td>COP28_newzealand</td>\n      <td>I am joined by New Zealand’s largest business,...</td>\n      <td>1</td>\n      <td>0</td>\n      <td>0</td>\n      <td>1</td>\n      <td>0</td>\n      <td>0</td>\n      <td>0</td>\n      <td>0</td>\n      <td>...</td>\n      <td>0</td>\n      <td>1</td>\n      <td>0</td>\n      <td>0</td>\n      <td>0</td>\n      <td>0</td>\n      <td>0</td>\n      <td>0</td>\n      <td>0</td>\n      <td>0</td>\n    </tr>\n    <tr>\n      <th>1540</th>\n      <td>COP28_newzealand</td>\n      <td>The commitment o f New Zealanders from across ...</td>\n      <td>1</td>\n      <td>0</td>\n      <td>0</td>\n      <td>1</td>\n      <td>0</td>\n      <td>0</td>\n      <td>0</td>\n      <td>0</td>\n      <td>...</td>\n      <td>0</td>\n      <td>1</td>\n      <td>0</td>\n      <td>0</td>\n      <td>0</td>\n      <td>0</td>\n      <td>0</td>\n      <td>0</td>\n      <td>0</td>\n      <td>0</td>\n    </tr>\n    <tr>\n      <th>1541</th>\n      <td>COP28_newzealand</td>\n      <td>Thank you Mr President.</td>\n      <td>1</td>\n      <td>0</td>\n      <td>0</td>\n      <td>1</td>\n      <td>0</td>\n      <td>0</td>\n      <td>0</td>\n      <td>0</td>\n      <td>...</td>\n      <td>0</td>\n      <td>1</td>\n      <td>0</td>\n      <td>0</td>\n      <td>0</td>\n      <td>0</td>\n      <td>0</td>\n      <td>0</td>\n      <td>0</td>\n      <td>0</td>\n    </tr>\n    <tr>\n      <th>1542</th>\n      <td>COP28_newzealand</td>\n      <td>Kia Kaha</td>\n      <td>1</td>\n      <td>0</td>\n      <td>0</td>\n      <td>1</td>\n      <td>0</td>\n      <td>0</td>\n      <td>0</td>\n      <td>0</td>\n      <td>...</td>\n      <td>0</td>\n      <td>1</td>\n      <td>0</td>\n      <td>0</td>\n      <td>0</td>\n      <td>0</td>\n      <td>0</td>\n      <td>0</td>\n      <td>0</td>\n      <td>0</td>\n    </tr>\n  </tbody>\n</table>\n<p>1543 rows × 39 columns</p>\n</div>"
     },
     "execution_count": 36,
     "metadata": {},
     "output_type": "execute_result"
    }
   ],
   "source": [
    "HLS_dummies = HLS[['id', 'Text']]\n",
    "\n",
    "# Create dummies for categorical values - TEST SET\n",
    "HLS_dummies_relevance = pd.get_dummies(HLS['Relevance'], columns=['Relevance'], prefix= 'relevance')\n",
    "HLS_dummies_principle = pd.get_dummies(HLS['Principle'], columns=['Principle'], prefix='principle')\n",
    "HLS_dummies_topic = pd.get_dummies(HLS['Topic'], columns=['Topic'], prefix='topic')\n",
    "HLS_dummies_unit = pd.get_dummies(HLS['Unit'], columns=['Unit'], prefix='unit')\n",
    "HLS_dummies_shape = pd.get_dummies(HLS['Shape'], columns=['Shape'], prefix='shape')\n",
    "\n",
    "# Merge the dummies dataframes\n",
    "HLS_dummies = pd.concat([HLS_dummies, HLS_dummies_relevance, HLS_dummies_principle, HLS_dummies_topic, HLS_dummies_unit, HLS_dummies_shape], axis=1)\n",
    "# Add shape_8 column to HLS_dummies to indicate the 'other' category of shapes\n",
    "HLS_dummies['shape_8']=0\n",
    "HLS_dummies"
   ],
   "metadata": {
    "collapsed": false,
    "ExecuteTime": {
     "start_time": "2024-05-20T16:32:51.282341Z",
     "end_time": "2024-05-20T16:32:51.510529Z"
    }
   }
  },
  {
   "cell_type": "code",
   "execution_count": 37,
   "outputs": [],
   "source": [
    "#Split into the same test and train data\n",
    "test_dummies = HLS_dummies[HLS_dummies['id'].isin(testset)]\n",
    "train_dummies = HLS_dummies[~HLS_dummies['id'].isin(testset)]"
   ],
   "metadata": {
    "collapsed": false,
    "ExecuteTime": {
     "start_time": "2024-05-20T16:32:51.306338Z",
     "end_time": "2024-05-20T16:32:51.510529Z"
    }
   }
  },
  {
   "cell_type": "code",
   "execution_count": 38,
   "outputs": [],
   "source": [
    "# Save both datasets as csv files in the HLS_man folder\n",
    "test_dummies.to_csv('HLS_man/HLS_test_dummies.csv', index=False)\n",
    "train_dummies.to_csv('HLS_man/HLS_train_dummies.csv', index=False)"
   ],
   "metadata": {
    "collapsed": false,
    "ExecuteTime": {
     "start_time": "2024-05-20T16:32:51.315383Z",
     "end_time": "2024-05-20T16:32:51.510529Z"
    }
   }
  }
 ],
 "metadata": {
  "kernelspec": {
   "display_name": "Python 3",
   "language": "python",
   "name": "python3"
  },
  "language_info": {
   "codemirror_mode": {
    "name": "ipython",
    "version": 2
   },
   "file_extension": ".py",
   "mimetype": "text/x-python",
   "name": "python",
   "nbconvert_exporter": "python",
   "pygments_lexer": "ipython2",
   "version": "2.7.6"
  }
 },
 "nbformat": 4,
 "nbformat_minor": 0
}
