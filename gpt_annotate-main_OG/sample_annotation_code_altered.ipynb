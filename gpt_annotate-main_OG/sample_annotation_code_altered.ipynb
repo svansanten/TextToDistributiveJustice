{
 "cells": [
  {
   "cell_type": "markdown",
   "metadata": {
    "id": "NRMEai9kN2R7"
   },
   "source": [
    "### Set up dependencies"
   ]
  },
  {
   "cell_type": "code",
   "execution_count": 1,
   "metadata": {
    "id": "8o0GuNYnN4I6",
    "ExecuteTime": {
     "start_time": "2024-05-16T12:18:38.232185Z",
     "end_time": "2024-05-16T12:18:43.053654Z"
    }
   },
   "outputs": [
    {
     "name": "stdout",
     "output_type": "stream",
     "text": [
      "Requirement already satisfied: openai in c:\\app\\python\\lib\\site-packages (1.16.2)\n",
      "Requirement already satisfied: anyio<5,>=3.5.0 in c:\\app\\python\\lib\\site-packages (from openai) (3.6.2)\n",
      "Requirement already satisfied: distro<2,>=1.7.0 in c:\\app\\python\\lib\\site-packages (from openai) (1.9.0)\n",
      "Requirement already satisfied: httpx<1,>=0.23.0 in c:\\app\\python\\lib\\site-packages (from openai) (0.27.0)\n",
      "Requirement already satisfied: pydantic<3,>=1.9.0 in c:\\app\\python\\lib\\site-packages (from openai) (1.10.15)\n",
      "Requirement already satisfied: sniffio in c:\\app\\python\\lib\\site-packages (from openai) (1.3.0)\n",
      "Requirement already satisfied: tqdm>4 in c:\\app\\python\\lib\\site-packages (from openai) (4.64.1)\n",
      "Requirement already satisfied: typing-extensions<5,>=4.7 in c:\\app\\python\\lib\\site-packages (from openai) (4.9.0)\n",
      "Requirement already satisfied: idna>=2.8 in c:\\app\\python\\lib\\site-packages (from anyio<5,>=3.5.0->openai) (3.4)\n",
      "Requirement already satisfied: certifi in c:\\app\\python\\lib\\site-packages (from httpx<1,>=0.23.0->openai) (2022.12.7)\n",
      "Requirement already satisfied: httpcore==1.* in c:\\app\\python\\lib\\site-packages (from httpx<1,>=0.23.0->openai) (1.0.5)\n",
      "Requirement already satisfied: h11<0.15,>=0.13 in c:\\app\\python\\lib\\site-packages (from httpcore==1.*->httpx<1,>=0.23.0->openai) (0.14.0)\n",
      "Requirement already satisfied: colorama in c:\\app\\python\\lib\\site-packages (from tqdm>4->openai) (0.4.6)\n"
     ]
    },
    {
     "name": "stderr",
     "output_type": "stream",
     "text": [
      "\n",
      "[notice] A new release of pip available: 22.3.1 -> 24.0\n",
      "[notice] To update, run: C:\\App\\Python\\python.exe -m pip install --upgrade pip\n"
     ]
    }
   ],
   "source": [
    "!pip install openai"
   ]
  },
  {
   "cell_type": "code",
   "execution_count": 2,
   "metadata": {
    "id": "rPXQ25hBN7-_",
    "ExecuteTime": {
     "start_time": "2024-05-16T12:18:43.053654Z",
     "end_time": "2024-05-16T12:18:47.312916Z"
    }
   },
   "outputs": [
    {
     "name": "stdout",
     "output_type": "stream",
     "text": [
      "Requirement already satisfied: tiktoken in c:\\app\\python\\lib\\site-packages (0.6.0)\n",
      "Requirement already satisfied: regex>=2022.1.18 in c:\\app\\python\\lib\\site-packages (from tiktoken) (2023.5.5)\n",
      "Requirement already satisfied: requests>=2.26.0 in c:\\app\\python\\lib\\site-packages (from tiktoken) (2.28.2)\n",
      "Requirement already satisfied: charset-normalizer<4,>=2 in c:\\app\\python\\lib\\site-packages (from requests>=2.26.0->tiktoken) (3.0.1)\n",
      "Requirement already satisfied: idna<4,>=2.5 in c:\\app\\python\\lib\\site-packages (from requests>=2.26.0->tiktoken) (3.4)\n",
      "Requirement already satisfied: urllib3<1.27,>=1.21.1 in c:\\app\\python\\lib\\site-packages (from requests>=2.26.0->tiktoken) (1.26.18)\n",
      "Requirement already satisfied: certifi>=2017.4.17 in c:\\app\\python\\lib\\site-packages (from requests>=2.26.0->tiktoken) (2022.12.7)\n"
     ]
    },
    {
     "name": "stderr",
     "output_type": "stream",
     "text": [
      "\n",
      "[notice] A new release of pip available: 22.3.1 -> 24.0\n",
      "[notice] To update, run: C:\\App\\Python\\python.exe -m pip install --upgrade pip\n"
     ]
    }
   ],
   "source": [
    "!pip install tiktoken"
   ]
  },
  {
   "cell_type": "code",
   "execution_count": 6,
   "metadata": {
    "id": "Go5O5Lt6N9Z1",
    "ExecuteTime": {
     "start_time": "2024-05-16T12:19:33.553523Z",
     "end_time": "2024-05-16T12:19:49.465352Z"
    }
   },
   "outputs": [],
   "source": [
    "import openai\n",
    "import pandas as pd\n",
    "import math\n",
    "import time\n",
    "import numpy as np\n",
    "import tiktoken\n",
    "\n",
    "#### Import main package: gpt_annotate.py\n",
    "# Make sure that the .py file is in the same directory as the .ipynb file, or you provide the correct relative or absolute path to the .py file.\n",
    "import gpt_annotate"
   ]
  },
  {
   "cell_type": "code",
   "execution_count": 4,
   "metadata": {
    "id": "s2SVKJPAOAWM",
    "ExecuteTime": {
     "start_time": "2024-05-16T12:19:00.183688Z",
     "end_time": "2024-05-16T12:19:00.191363Z"
    }
   },
   "outputs": [],
   "source": [
    "# don't type the key in this file! \n",
    "# create gpt_api.txt, put the key in that, and save\n",
    "with open('gpt_api_key.txt', 'r') as f:\n",
    "    key = f.read().strip()"
   ]
  },
  {
   "cell_type": "markdown",
   "metadata": {
    "id": "xb5K0uyrOlUY"
   },
   "source": [
    "### Load in text_to_annotate and codebook"
   ]
  },
  {
   "cell_type": "code",
   "execution_count": 13,
   "metadata": {
    "id": "Abeu-_5nOvLL",
    "ExecuteTime": {
     "start_time": "2024-05-16T12:21:54.845591Z",
     "end_time": "2024-05-16T12:21:54.871541Z"
    }
   },
   "outputs": [],
   "source": [
    "# Load text to annotate\n",
    "text_to_annotate = pd.read_csv(\"HLS_train_dummies.csv\")\n",
    "# Load codebook\n",
    "with open('codebook_V1_full', 'r', encoding='utf-8') as file:\n",
    "    codebook = file.read()"
   ]
  },
  {
   "cell_type": "code",
   "execution_count": 15,
   "outputs": [],
   "source": [
    "text_to_annotate.drop(columns=['id'], inplace=True)"
   ],
   "metadata": {
    "collapsed": false,
    "ExecuteTime": {
     "start_time": "2024-05-16T12:23:05.181498Z",
     "end_time": "2024-05-16T12:23:05.201053Z"
    }
   }
  },
  {
   "cell_type": "markdown",
   "metadata": {
    "id": "apc7cy-eO8tF"
   },
   "source": [
    "# Annotate your data!"
   ]
  },
  {
   "cell_type": "markdown",
   "metadata": {
    "id": "a62wf8FzanCf"
   },
   "source": [
    "### If you have human labels you want to compare the GPT outputs against"
   ]
  },
  {
   "cell_type": "code",
   "execution_count": 16,
   "metadata": {
    "id": "Dv7dc1mZPAGR",
    "ExecuteTime": {
     "start_time": "2024-05-16T12:23:11.260379Z",
     "end_time": "2024-05-16T12:23:21.950536Z"
    }
   },
   "outputs": [
    {
     "name": "stdout",
     "output_type": "stream",
     "text": [
      "ERROR: Column names in codebook and text_to_annotate do not match exactly. Please note that order and capitalization matters.\n",
      "Change order/spelling in codebook or text_to_annotate.\n",
      "\n",
      "Exact order and spelling of category names in text_to_annotate:  ['relevance_0', 'relevance_1', 'relevance_2', 'principle_0', 'principle_1', 'principle_2', 'principle_3', 'principle_4', 'principle_5', 'principle_6', 'topic_0', 'topic_1', 'topic_2', 'topic_3', 'topic_4', 'topic_5', 'topic_6', 'topic_7', 'topic_8', 'topic_9', 'unit_0', 'unit_1', 'unit_2', 'unit_3', 'unit_4', 'unit_5', 'unit_6', 'unit_7', 'shape_0', 'shape_1', 'shape_2', 'shape_3', 'shape_4', 'shape_5', 'shape_6', 'shape_7']\n",
      "Exact order and spelling of category names in codebook:  ['relevance_0', 'relevance_1', 'relevance_2', 'principle_0', 'principle_1', 'principle_2', 'principle_3', 'principle_4', 'principle_5', 'principle_6', 'topic_0', 'topic_1', 'topic_2', 'topic_3', 'topic_4', 'topic_5', 'topic_6', 'topic_7', 'topic_8', 'topic_9', 'unit_0', 'unit_1', 'unit_2', 'unit_3', 'unit_4', 'unit_5', 'unit_6', 'unit_7', 'shape_0', 'shape_1', 'shape_2', 'shape_3', 'shape_4', 'shape_5', 'shape_6', 'shape_7', 'shape_8']\n"
     ]
    }
   ],
   "source": [
    "# Prepare the data for annotation\n",
    "text_to_annotate = gpt_annotate.prepare_data(text_to_annotate, codebook, key)"
   ]
  },
  {
   "cell_type": "code",
   "execution_count": null,
   "metadata": {
    "id": "WzM16wq3ai0D"
   },
   "outputs": [],
   "source": [
    "# Annotate the data (returns 4 outputs)\n",
    "gpt_out_all, gpt_out_final, performance, incorrect =  gpt_annotate.gpt_annotate(text_to_annotate, codebook, key)"
   ]
  },
  {
   "cell_type": "markdown",
   "metadata": {
    "id": "rd_dIEkxaseH"
   },
   "source": [
    "### If only using gpt_annotate for prediction (i.e., no human labels to compare performance)"
   ]
  },
  {
   "cell_type": "code",
   "execution_count": null,
   "metadata": {
    "id": "yK1hIfCOPX1v"
   },
   "outputs": [],
   "source": [
    "# Prepare the data for annotation\n",
    "text_to_annotate = gpt_annotate.prepare_data(text_to_annotate, codebook, key, human_labels = False)"
   ]
  },
  {
   "cell_type": "code",
   "execution_count": null,
   "metadata": {
    "id": "1h75bYJfbDPT"
   },
   "outputs": [],
   "source": [
    "# Annotate the data (returns 2 outputs)\n",
    "gpt_out_all, gpt_out_final =  gpt_annotate.gpt_annotate(text_to_annotate, codebook, key, human_labels = False)"
   ]
  }
 ],
 "metadata": {
  "colab": {
   "provenance": []
  },
  "kernelspec": {
   "display_name": "Python 3 (ipykernel)",
   "language": "python",
   "name": "python3"
  },
  "language_info": {
   "codemirror_mode": {
    "name": "ipython",
    "version": 3
   },
   "file_extension": ".py",
   "mimetype": "text/x-python",
   "name": "python",
   "nbconvert_exporter": "python",
   "pygments_lexer": "ipython3",
   "version": "3.8.16"
  }
 },
 "nbformat": 4,
 "nbformat_minor": 4
}
